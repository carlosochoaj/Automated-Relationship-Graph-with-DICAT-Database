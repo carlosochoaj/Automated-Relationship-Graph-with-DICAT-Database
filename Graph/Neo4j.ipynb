{
 "cells": [
  {
   "metadata": {},
   "cell_type": "code",
   "outputs": [],
   "execution_count": null,
   "source": [
    "# Descargar docker: https://www.docker.com/products/docker-desktop/\n",
    "# En terminal para descargar neo4j: docker pull neo4j\n",
    "# Empezar neo4j: docker run --name neo4j-container -p 7474:7474 -p 7687:7687 -e NEO4J_AUTH=neo4j/password -d neo4j\n",
    "# Usar neo4j: http://localhost:7474/browser/\n",
    "# Para ver el grafo: MATCH (n)-[r]->(m) RETURN n, r, m\n",
    "# Para eliminarlo: MATCH (n) DETACH DELETE n"
   ],
   "id": "fd1aadc5f065b37c"
  },
  {
   "metadata": {
    "ExecuteTime": {
     "end_time": "2025-06-02T20:06:37.787974Z",
     "start_time": "2025-06-02T20:06:34.314363Z"
    }
   },
   "cell_type": "code",
   "source": "!pip install neo4j",
   "id": "f145f508e0ff9170",
   "outputs": [
    {
     "name": "stdout",
     "output_type": "stream",
     "text": [
      "Requirement already satisfied: neo4j in e:\\master\\python\\tfm\\tfm\\.venv\\lib\\site-packages (5.28.1)\n",
      "Requirement already satisfied: pytz in e:\\master\\python\\tfm\\tfm\\.venv\\lib\\site-packages (from neo4j) (2025.2)\n"
     ]
    },
    {
     "name": "stderr",
     "output_type": "stream",
     "text": [
      "\n",
      "[notice] A new release of pip is available: 23.2.1 -> 25.1.1\n",
      "[notice] To update, run: python.exe -m pip install --upgrade pip\n"
     ]
    }
   ],
   "execution_count": 12
  },
  {
   "metadata": {
    "ExecuteTime": {
     "end_time": "2025-06-02T20:01:05.102208Z",
     "start_time": "2025-06-02T20:00:57.962554Z"
    }
   },
   "cell_type": "code",
   "source": [
    "from neo4j import GraphDatabase\n",
    "import csv\n",
    "\n",
    "# Configuración de conexión\n",
    "uri = \"bolt://localhost:7687\"\n",
    "user = \"neo4j\"\n",
    "password = \"password\"\n",
    "driver = GraphDatabase.driver(uri, auth=(user, password))\n",
    "\n",
    "# Ruta al CSV\n",
    "csv_file = 'simbolico_spacy_juan_rana.csv'\n",
    "\n",
    "# Abrir sesión\n",
    "session = driver.session()\n",
    "\n",
    "# Leer CSV y cargar relaciones\n",
    "with open(csv_file, newline='', encoding='utf-8') as csvfile:\n",
    "    reader = csv.DictReader(csvfile)\n",
    "    for row in reader:\n",
    "        head = row['Head']\n",
    "        relation = row['Relation'].strip().lower().replace(\" \", \"_\").replace(\"á\", \"a\").replace(\"é\", \"e\").replace(\"í\", \"i\").replace(\"ó\", \"o\").replace(\"ú\", \"u\")\n",
    "        tail = row['Tail']\n",
    "\n",
    "        # Cypher: crear nodos y relación\n",
    "        cypher_query = f\"\"\"\n",
    "        MERGE (h:Entity {{name: $head}})\n",
    "        MERGE (t:Entity {{name: $tail}})\n",
    "        MERGE (h)-[r:{relation}]->(t)\n",
    "        \"\"\"\n",
    "\n",
    "        # Ejecutar query\n",
    "        session.run(cypher_query, head=head, tail=tail)\n",
    "\n",
    "# Cerrar sesión\n",
    "session.close()\n",
    "driver.close()\n"
   ],
   "id": "cf68720e229f71bf",
   "outputs": [],
   "execution_count": 11
  }
 ],
 "metadata": {
  "kernelspec": {
   "display_name": "Python 3",
   "language": "python",
   "name": "python3"
  },
  "language_info": {
   "codemirror_mode": {
    "name": "ipython",
    "version": 2
   },
   "file_extension": ".py",
   "mimetype": "text/x-python",
   "name": "python",
   "nbconvert_exporter": "python",
   "pygments_lexer": "ipython2",
   "version": "2.7.6"
  }
 },
 "nbformat": 4,
 "nbformat_minor": 5
}
