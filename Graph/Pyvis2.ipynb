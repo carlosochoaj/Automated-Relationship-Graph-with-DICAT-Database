{
 "cells": [
  {
   "cell_type": "code",
   "id": "initial_id",
   "metadata": {
    "collapsed": true,
    "ExecuteTime": {
     "end_time": "2025-06-26T19:27:15.482820Z",
     "start_time": "2025-06-26T19:27:11.439761Z"
    }
   },
   "source": [
    "!pip install pyvis==0.1.9\n",
    "!pip install networkx==2.8 "
   ],
   "outputs": [
    {
     "name": "stdout",
     "output_type": "stream",
     "text": [
      "Requirement already satisfied: pyvis==0.1.9 in e:\\master\\python\\tfm\\tfm\\.venv\\lib\\site-packages (0.1.9)\n",
      "Requirement already satisfied: jinja2>=2.9.6 in e:\\master\\python\\tfm\\tfm\\.venv\\lib\\site-packages (from pyvis==0.1.9) (3.0.3)\n",
      "Requirement already satisfied: networkx>=1.11 in e:\\master\\python\\tfm\\tfm\\.venv\\lib\\site-packages (from pyvis==0.1.9) (2.8)\n",
      "Requirement already satisfied: ipython>=5.3.0 in e:\\master\\python\\tfm\\tfm\\.venv\\lib\\site-packages (from pyvis==0.1.9) (9.2.0)\n",
      "Requirement already satisfied: jsonpickle>=1.4.1 in e:\\master\\python\\tfm\\tfm\\.venv\\lib\\site-packages (from pyvis==0.1.9) (4.1.1)\n",
      "Requirement already satisfied: colorama in e:\\master\\python\\tfm\\tfm\\.venv\\lib\\site-packages (from ipython>=5.3.0->pyvis==0.1.9) (0.4.6)\n",
      "Requirement already satisfied: decorator in e:\\master\\python\\tfm\\tfm\\.venv\\lib\\site-packages (from ipython>=5.3.0->pyvis==0.1.9) (5.2.1)\n",
      "Requirement already satisfied: ipython-pygments-lexers in e:\\master\\python\\tfm\\tfm\\.venv\\lib\\site-packages (from ipython>=5.3.0->pyvis==0.1.9) (1.1.1)\n",
      "Requirement already satisfied: jedi>=0.16 in e:\\master\\python\\tfm\\tfm\\.venv\\lib\\site-packages (from ipython>=5.3.0->pyvis==0.1.9) (0.19.2)\n",
      "Requirement already satisfied: matplotlib-inline in e:\\master\\python\\tfm\\tfm\\.venv\\lib\\site-packages (from ipython>=5.3.0->pyvis==0.1.9) (0.1.7)\n",
      "Requirement already satisfied: prompt_toolkit<3.1.0,>=3.0.41 in e:\\master\\python\\tfm\\tfm\\.venv\\lib\\site-packages (from ipython>=5.3.0->pyvis==0.1.9) (3.0.51)\n",
      "Requirement already satisfied: pygments>=2.4.0 in e:\\master\\python\\tfm\\tfm\\.venv\\lib\\site-packages (from ipython>=5.3.0->pyvis==0.1.9) (2.19.1)\n",
      "Requirement already satisfied: stack_data in e:\\master\\python\\tfm\\tfm\\.venv\\lib\\site-packages (from ipython>=5.3.0->pyvis==0.1.9) (0.6.3)\n",
      "Requirement already satisfied: traitlets>=5.13.0 in e:\\master\\python\\tfm\\tfm\\.venv\\lib\\site-packages (from ipython>=5.3.0->pyvis==0.1.9) (5.14.3)\n",
      "Requirement already satisfied: MarkupSafe>=2.0 in e:\\master\\python\\tfm\\tfm\\.venv\\lib\\site-packages (from jinja2>=2.9.6->pyvis==0.1.9) (3.0.2)\n",
      "Requirement already satisfied: parso<0.9.0,>=0.8.4 in e:\\master\\python\\tfm\\tfm\\.venv\\lib\\site-packages (from jedi>=0.16->ipython>=5.3.0->pyvis==0.1.9) (0.8.4)\n",
      "Requirement already satisfied: wcwidth in e:\\master\\python\\tfm\\tfm\\.venv\\lib\\site-packages (from prompt_toolkit<3.1.0,>=3.0.41->ipython>=5.3.0->pyvis==0.1.9) (0.2.13)\n",
      "Requirement already satisfied: executing>=1.2.0 in e:\\master\\python\\tfm\\tfm\\.venv\\lib\\site-packages (from stack_data->ipython>=5.3.0->pyvis==0.1.9) (2.2.0)\n",
      "Requirement already satisfied: asttokens>=2.1.0 in e:\\master\\python\\tfm\\tfm\\.venv\\lib\\site-packages (from stack_data->ipython>=5.3.0->pyvis==0.1.9) (3.0.0)\n",
      "Requirement already satisfied: pure-eval in e:\\master\\python\\tfm\\tfm\\.venv\\lib\\site-packages (from stack_data->ipython>=5.3.0->pyvis==0.1.9) (0.2.3)\n"
     ]
    },
    {
     "name": "stderr",
     "output_type": "stream",
     "text": [
      "\n",
      "[notice] A new release of pip is available: 23.2.1 -> 25.1.1\n",
      "[notice] To update, run: python.exe -m pip install --upgrade pip\n"
     ]
    },
    {
     "name": "stdout",
     "output_type": "stream",
     "text": [
      "Requirement already satisfied: networkx==2.8 in e:\\master\\python\\tfm\\tfm\\.venv\\lib\\site-packages (2.8)\n"
     ]
    },
    {
     "name": "stderr",
     "output_type": "stream",
     "text": [
      "\n",
      "[notice] A new release of pip is available: 23.2.1 -> 25.1.1\n",
      "[notice] To update, run: python.exe -m pip install --upgrade pip\n"
     ]
    }
   ],
   "execution_count": 65
  },
  {
   "metadata": {
    "ExecuteTime": {
     "end_time": "2025-06-26T19:27:15.493683Z",
     "start_time": "2025-06-26T19:27:15.490691Z"
    }
   },
   "cell_type": "code",
   "source": [
    "import pandas as pd\n",
    "import networkx as nx\n",
    "from pyvis.network import Network\n",
    "import numpy as np"
   ],
   "id": "69db80e5b46c2699",
   "outputs": [],
   "execution_count": 66
  },
  {
   "metadata": {
    "ExecuteTime": {
     "end_time": "2025-06-26T19:27:15.510256Z",
     "start_time": "2025-06-26T19:27:15.504261Z"
    }
   },
   "cell_type": "code",
   "source": "df = pd.read_csv('EjecucionColab/relaciones_stanza_clarified.csv')",
   "id": "1db263d3d295258",
   "outputs": [],
   "execution_count": 67
  },
  {
   "metadata": {
    "ExecuteTime": {
     "end_time": "2025-06-26T19:27:15.592562Z",
     "start_time": "2025-06-26T19:27:15.519328Z"
    }
   },
   "cell_type": "code",
   "source": [
    "# Grafo de NetworkX\n",
    "G = nx.DiGraph()\n",
    "\n",
    "# Añadir nodos y aristas con etiquetas\n",
    "for _, row in df.iterrows():\n",
    "    G.add_node(row['Head'])\n",
    "    G.add_node(row['Tail'])\n",
    "    G.add_edge(row['Head'], row['Tail'], label=row['Relation'])\n",
    "    \n",
    "# Obtiene el grado (número de relaciones por nodo)\n",
    "degree_dict = dict(G.degree())\n",
    "    \n",
    "# Notebook False si quiero verlo en web, True en el propio notebook\n",
    "net = Network(height='750px', width='100%', notebook=False, directed=True)\n",
    "\n",
    "# Calcula rangos para el heatmap\n",
    "max_degree = max(degree_dict.values())\n",
    "min_degree = min(degree_dict.values())\n",
    "\n",
    "def color_heatmap(degree, min_d, max_d):\n",
    "    # Escala logarítmica\n",
    "    degree = np.log1p(degree)\n",
    "    min_d = np.log1p(min_d)\n",
    "    max_d = np.log1p(max_d)\n",
    "\n",
    "    scale = (degree - min_d) / (max_d - min_d)\n",
    "    r = 0\n",
    "    # Para hacer progresion entre de 0080FF a 00FFFF a 00FF00\n",
    "    if scale < 0.5:\n",
    "        g = int(255 * scale + 128)\n",
    "        b = 255\n",
    "    else:\n",
    "        g = 255\n",
    "        b = int(255 * (1 - scale))\n",
    "    # Progresion normal entre azul puro y verde puro:    \n",
    "    # g = int(255 * scale)\n",
    "    # b = int(255 * (1 - scale))\n",
    "    return f'rgb({r},{g},{b})'\n",
    "\n",
    "\n",
    "# Añadir nodos manualmente con color y tamaño personalizados\n",
    "for node in G.nodes():\n",
    "    degree = degree_dict[node]\n",
    "    size = 20 + degree * 2 # Ajustar la escala de tamaño\n",
    "    color = color_heatmap(degree, min_degree, max_degree)\n",
    "    font_size = 20 + degree * 2  # Ajustar la escala de fuente\n",
    "    net.add_node(node, size=size, color=color, shape='dot', title=f'{node}: {degree} relaciones', label=node, font={'size': font_size})\n",
    "\n",
    "\n",
    "# Añadir aristas manualmente con etiquetas\n",
    "for edge in G.edges(data=True):\n",
    "    source_degree = degree_dict[edge[0]]\n",
    "    width = 1 + source_degree * 0.1  # grosor proporcional\n",
    "    color = color_heatmap(source_degree, min_degree, max_degree)\n",
    "    font_size = 20 + source_degree * 0.2  # Ajustar la escala de fuente\n",
    "    net.add_edge(edge[0], edge[1], label=edge[2]['label'], width=width, color=color, font={'size': font_size,})\n",
    "\n",
    "\n",
    "\n",
    "\n",
    "# Mostrar botones de configuración si quieres permitir ajuste en runtime\n",
    "\n",
    "# Ajustar físicas para mejor visualización\n",
    "net.set_options(\"\"\"\n",
    "var options = {\n",
    "  \"nodes\": {\n",
    "    \"borderWidth\": 3,\n",
    "    \"borderWidthSelected\": 5\n",
    "  },\n",
    "  \"interaction\": {\n",
    "    \"hover\": true,\n",
    "    \"multiselect\": true\n",
    "  },\n",
    "  \"physics\": {\n",
    "    \"barnesHut\": {\n",
    "      \"gravitationalConstant\": -30000,\n",
    "      \"centralGravity\": 0.3,\n",
    "      \"springLength\": 200,\n",
    "      \"springConstant\": 0.02,\n",
    "      \"damping\": 0.09\n",
    "    },\n",
    "    \"minVelocity\": 0.75\n",
    "  },\n",
    "  \"layout\": {\n",
    "    \"improvedLayout\": true\n",
    "  },\n",
    "  \"configure\": {\n",
    "    \"enabled\": true\n",
    "  }\n",
    "}\n",
    "\"\"\")\n",
    "\n",
    "#net.show_buttons(filter_=[\"physics\", \"layout\", \"edges\", \"nodes\", \"interaction\"])\n",
    "\n",
    "net.show(\"grafo.html\")\n"
   ],
   "id": "c43c4b1af64f21b",
   "outputs": [],
   "execution_count": 68
  },
  {
   "metadata": {
    "ExecuteTime": {
     "end_time": "2025-06-26T19:27:15.603742Z",
     "start_time": "2025-06-26T19:27:15.601217Z"
    }
   },
   "cell_type": "code",
   "source": "",
   "id": "64bedf939cc7ecb1",
   "outputs": [],
   "execution_count": null
  }
 ],
 "metadata": {
  "kernelspec": {
   "display_name": "Python 3",
   "language": "python",
   "name": "python3"
  },
  "language_info": {
   "codemirror_mode": {
    "name": "ipython",
    "version": 2
   },
   "file_extension": ".py",
   "mimetype": "text/x-python",
   "name": "python",
   "nbconvert_exporter": "python",
   "pygments_lexer": "ipython2",
   "version": "2.7.6"
  }
 },
 "nbformat": 4,
 "nbformat_minor": 5
}
