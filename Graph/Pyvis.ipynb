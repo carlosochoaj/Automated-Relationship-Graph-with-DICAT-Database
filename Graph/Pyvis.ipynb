{
 "cells": [
  {
   "metadata": {},
   "cell_type": "code",
   "source": [
    "!pip install pyvis==0.1.9\n",
    "!pip install networkx==2.8 "
   ],
   "id": "e631eef76c252fa3",
   "outputs": [],
   "execution_count": null
  },
  {
   "metadata": {},
   "cell_type": "code",
   "outputs": [],
   "execution_count": null,
   "source": [
    "import pandas as pd\n",
    "df = pd.read_csv('simbolico_spacy_juan_rana.csv')  # Cambia por tu archivo"
   ],
   "id": "3a4bededaa579273"
  },
  {
   "metadata": {
    "ExecuteTime": {
     "end_time": "2025-06-03T19:11:11.394108Z",
     "start_time": "2025-06-03T19:11:11.310598Z"
    }
   },
   "cell_type": "code",
   "source": [
    "# Base, lo muestra sin mucho estilo\n",
    "import networkx as nx\n",
    "from pyvis.network import Network\n",
    "\n",
    "# Crear grafo dirigido o no dirigido\n",
    "G = nx.DiGraph()  # Si quieres no dirigido, usa nx.Graph()\n",
    "\n",
    "# Añadir nodos y aristas\n",
    "for _, row in df.iterrows():\n",
    "    G.add_node(row['Head'])\n",
    "    G.add_node(row['Tail'])\n",
    "    G.add_edge(row['Head'], row['Tail'], label=row['Relation'])\n",
    "\n",
    "# Crear visualización interactiva\n",
    "net = Network(height='750px', width='100%', directed=True)\n",
    "net.from_nx(G)\n",
    "\n",
    "# Mostrar en navegador\n",
    "net.show('base.html')\n"
   ],
   "id": "3d04268c101c0394",
   "outputs": [],
   "execution_count": 9
  },
  {
   "metadata": {
    "ExecuteTime": {
     "end_time": "2025-06-03T19:08:55.761232Z",
     "start_time": "2025-06-03T19:08:55.668407Z"
    }
   },
   "cell_type": "code",
   "source": [
    "# Mas grande al tener mas relaciones, necesita pulido\n",
    "import networkx as nx\n",
    "from pyvis.network import Network\n",
    "\n",
    "# Crear grafo dirigido\n",
    "G = nx.DiGraph()\n",
    "\n",
    "# Añadir nodos y aristas\n",
    "for _, row in df.iterrows():\n",
    "    G.add_node(row['Head'])\n",
    "    G.add_node(row['Tail'])\n",
    "    G.add_edge(row['Head'], row['Tail'], label=row['Relation'])\n",
    "\n",
    "# Crear visualización interactiva\n",
    "net = Network(height='750px', width='100%', directed=True)\n",
    "\n",
    "# Añadir nodos a PyVis con tamaño proporcional al grado\n",
    "for node in G.nodes():\n",
    "    degree = G.degree(node)  # Grado total (in + out)\n",
    "    size = 10 + degree * 5   # Ajusta fórmula si quieres más/menos diferencia\n",
    "    net.add_node(node, label=node, size=size)\n",
    "\n",
    "# Añadir aristas con etiquetas\n",
    "for source, target, data in G.edges(data=True):\n",
    "    net.add_edge(source, target, title=data['label'], label=data['label'])\n",
    "\n",
    "# Mostrar en navegador\n",
    "net.show('grafo_pyvis.html')\n"
   ],
   "id": "e43b5f50ca399369",
   "outputs": [],
   "execution_count": 8
  },
  {
   "metadata": {
    "ExecuteTime": {
     "end_time": "2025-06-03T19:11:54.605765Z",
     "start_time": "2025-06-03T19:11:53.568396Z"
    }
   },
   "cell_type": "code",
   "source": [
    "import pandas as pd\n",
    "import networkx as nx\n",
    "from pyvis.network import Network\n",
    "import matplotlib.pyplot as plt  # Solo para usar un colormap bonito\n",
    "import matplotlib.cm as cm\n",
    "import matplotlib.colors as colors\n",
    "\n",
    "\n",
    "# Crear grafo dirigido\n",
    "G = nx.DiGraph()\n",
    "\n",
    "# Añadir nodos y aristas\n",
    "for _, row in df.iterrows():\n",
    "    G.add_node(row['Head'])\n",
    "    G.add_node(row['Tail'])\n",
    "    G.add_edge(row['Head'], row['Tail'], label=row['Relation'])\n",
    "\n",
    "# Calcular grados\n",
    "degree_dict = dict(G.degree())\n",
    "\n",
    "# Normalizar grados a [0, 1] para aplicar colormap\n",
    "max_degree = max(degree_dict.values()) if degree_dict else 1  # evitar división por cero\n",
    "norm = colors.Normalize(vmin=0, vmax=max_degree)\n",
    "cmap = cm.get_cmap('plasma')  # Puedes probar 'hot', 'plasma', 'viridis', etc.\n",
    "\n",
    "# Crear visualización\n",
    "net = Network(height='750px', width='100%', directed=True)\n",
    "\n",
    "# Añadir nodos con color según el grado\n",
    "for node in G.nodes():\n",
    "    degree = degree_dict[node]\n",
    "    color_rgba = cmap(norm(degree))\n",
    "    color_hex = colors.to_hex(color_rgba)  # convertir a color hexadecimal para PyVis\n",
    "    net.add_node(node, label=node, color=color_hex)\n",
    "\n",
    "# Añadir aristas\n",
    "for source, target, data in G.edges(data=True):\n",
    "    net.add_edge(source, target, label=data['label'], title=data['label'])\n",
    "\n",
    "# Mostrar\n",
    "net.show('grafo_pyvis_heatmap.html')\n"
   ],
   "id": "62aefede1ab88be3",
   "outputs": [
    {
     "name": "stderr",
     "output_type": "stream",
     "text": [
      "C:\\Users\\manuc\\AppData\\Local\\Temp\\ipykernel_7328\\3220442199.py:24: MatplotlibDeprecationWarning: The get_cmap function was deprecated in Matplotlib 3.7 and will be removed in 3.11. Use ``matplotlib.colormaps[name]`` or ``matplotlib.colormaps.get_cmap()`` or ``pyplot.get_cmap()`` instead.\n",
      "  cmap = cm.get_cmap('plasma')  # Puedes probar 'hot', 'plasma', 'viridis', etc.\n"
     ]
    }
   ],
   "execution_count": 10
  }
 ],
 "metadata": {
  "kernelspec": {
   "display_name": "Python 3",
   "language": "python",
   "name": "python3"
  },
  "language_info": {
   "codemirror_mode": {
    "name": "ipython",
    "version": 2
   },
   "file_extension": ".py",
   "mimetype": "text/x-python",
   "name": "python",
   "nbconvert_exporter": "python",
   "pygments_lexer": "ipython2",
   "version": "2.7.6"
  }
 },
 "nbformat": 4,
 "nbformat_minor": 5
}
