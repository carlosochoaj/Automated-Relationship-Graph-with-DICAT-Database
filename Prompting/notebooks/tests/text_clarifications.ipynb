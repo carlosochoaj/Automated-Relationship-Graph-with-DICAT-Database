{
 "cells": [
  {
   "cell_type": "code",
   "execution_count": 1,
   "id": "254ba948",
   "metadata": {},
   "outputs": [],
   "source": [
    "from langchain_openai import ChatOpenAI\n",
    "from dotenv import load_dotenv\n",
    "import pandas as pd\n",
    "import os"
   ]
  },
  {
   "cell_type": "code",
   "execution_count": 2,
   "id": "302d9b52",
   "metadata": {},
   "outputs": [],
   "source": [
    "load_dotenv()\n",
    "\n",
    "llm = ChatOpenAI(\n",
    "    model=\"gpt-4.1-mini\",\n",
    "    temperature=0,\n",
    "    api_key=os.getenv(\"OPENAI_API_KEY\"),\n",
    ")"
   ]
  },
  {
   "cell_type": "code",
   "execution_count": 3,
   "id": "e2f9a523",
   "metadata": {},
   "outputs": [],
   "source": [
    "import ast\n",
    "    \n",
    "data = pd.read_csv(\"../../data/DicatJuanRana_w_sentences.csv\", sep=\";\", encoding=\"utf-8\", converters={\"sentences\": ast.literal_eval})"
   ]
  },
  {
   "cell_type": "code",
   "execution_count": 4,
   "id": "55d66b2f",
   "metadata": {},
   "outputs": [],
   "source": [
    "from langchain.prompts import PromptTemplate\n",
    "\n",
    "prompt = PromptTemplate(\n",
    "    input_variables=[\"text\", \"prev_context\", \"post_context\"],\n",
    "    template=\"\"\"\n",
    "        Actúa como un agente de procesamiento de lenguaje natural cuyo objetivo es aclarar referencias ambiguas en un texto, especialmente aquellas relacionadas con:\n",
    "\n",
    "         - Sujeto omitido o implícito (ej. \"fue\", \"llegó\", \"respondió\")\n",
    "\n",
    "         - Complemento directo (ej. \"la comedia\", \"la llamó\", \"lo rechazaron\")\n",
    "\n",
    "         - Complemento indirecto (ej. \"le dijo\", \"le enviaron\")\n",
    "\n",
    "        Tu tarea es sustituir estas referencias por el nombre o entidad concreta a la que se refieren, usando el contexto de hasta dos frases anteriores y dos posteriores.\n",
    "\n",
    "        Reescribe únicamente las frases necesarias para que queden claras, manteniendo la coherencia sintáctica. Las frases que ya están completas y claras deben dejarse igual.\n",
    "        \n",
    "        Si no puedes determinar a qué se refiere una referencia ambigua, devuelve la frase original sin cambios. No intentes adivinar o hacer suposiciones sobre el significado de la referencia.\n",
    "        \n",
    "        No digas que la frase es ambigua, simplemente realiza las sustituciones necesarias.\n",
    "        \n",
    "        **EJEMPLO Complemento Directo**\n",
    "\n",
    "        Entrada:\n",
    "        La comedia fue muy bien. La comedia era Constantino.\n",
    "\n",
    "        Salida:\n",
    "        Constantino fue muy bien. La comedia era Constantino.\n",
    "        \n",
    "        **EJEMPLO Sujeto Omitido**\n",
    "\n",
    "        Entrada:\n",
    "        Ayer llegaron todos menos Ana. Fue quien organizó el evento.\n",
    "\n",
    "        Salida:\n",
    "        Ayer llegaron todos menos Ana. Ana organizó el evento.\n",
    "        \n",
    "        Contexto Previo:\n",
    "        El texto forma parte de la biografía de Cosme Pérez. \n",
    "        {prev_context}\n",
    "        \n",
    "        Contexto Posterior:\n",
    "        {post_context}\n",
    "        \n",
    "        Texto:\n",
    "        {text}\n",
    "    \"\"\",\n",
    ")"
   ]
  },
  {
   "cell_type": "code",
   "execution_count": 7,
   "id": "8fcd84c5",
   "metadata": {},
   "outputs": [
    {
     "data": {
      "application/vnd.jupyter.widget-view+json": {
       "model_id": "ffa33a54ff014d4884bd2ed407ccc46c",
       "version_major": 2,
       "version_minor": 0
      },
      "text/plain": [
       "  0%|          | 0/38 [00:00<?, ?it/s]"
      ]
     },
     "metadata": {},
     "output_type": "display_data"
    },
    {
     "data": {
      "application/vnd.jupyter.widget-view+json": {
       "model_id": "9646edca314549edbd9f660c587fa5c5",
       "version_major": 2,
       "version_minor": 0
      },
      "text/plain": [
       "  0%|          | 0/93 [00:00<?, ?it/s]"
      ]
     },
     "metadata": {},
     "output_type": "display_data"
    },
    {
     "data": {
      "application/vnd.jupyter.widget-view+json": {
       "model_id": "388bcb03ad7a466f85d4b59d7c927a4d",
       "version_major": 2,
       "version_minor": 0
      },
      "text/plain": [
       "  0%|          | 0/5 [00:00<?, ?it/s]"
      ]
     },
     "metadata": {},
     "output_type": "display_data"
    },
    {
     "data": {
      "application/vnd.jupyter.widget-view+json": {
       "model_id": "ef766745fd8e45d8be9961fd96a100fc",
       "version_major": 2,
       "version_minor": 0
      },
      "text/plain": [
       "  0%|          | 0/3 [00:00<?, ?it/s]"
      ]
     },
     "metadata": {},
     "output_type": "display_data"
    },
    {
     "data": {
      "application/vnd.jupyter.widget-view+json": {
       "model_id": "58fbb8df26b54fe493001818a080ad47",
       "version_major": 2,
       "version_minor": 0
      },
      "text/plain": [
       "  0%|          | 0/4 [00:00<?, ?it/s]"
      ]
     },
     "metadata": {},
     "output_type": "display_data"
    },
    {
     "data": {
      "application/vnd.jupyter.widget-view+json": {
       "model_id": "5dba0e13c0644bcd92d356f5b3475d3e",
       "version_major": 2,
       "version_minor": 0
      },
      "text/plain": [
       "  0%|          | 0/6 [00:00<?, ?it/s]"
      ]
     },
     "metadata": {},
     "output_type": "display_data"
    },
    {
     "data": {
      "application/vnd.jupyter.widget-view+json": {
       "model_id": "30fbf35779864092a00b783b320a4b7e",
       "version_major": 2,
       "version_minor": 0
      },
      "text/plain": [
       "  0%|          | 0/8 [00:00<?, ?it/s]"
      ]
     },
     "metadata": {},
     "output_type": "display_data"
    },
    {
     "data": {
      "application/vnd.jupyter.widget-view+json": {
       "model_id": "bd9a07d507ba49d48a62b8b7d1545026",
       "version_major": 2,
       "version_minor": 0
      },
      "text/plain": [
       "  0%|          | 0/9 [00:00<?, ?it/s]"
      ]
     },
     "metadata": {},
     "output_type": "display_data"
    },
    {
     "data": {
      "application/vnd.jupyter.widget-view+json": {
       "model_id": "9cdb6bbb44e54593ab705f075badda8e",
       "version_major": 2,
       "version_minor": 0
      },
      "text/plain": [
       "  0%|          | 0/6 [00:00<?, ?it/s]"
      ]
     },
     "metadata": {},
     "output_type": "display_data"
    },
    {
     "data": {
      "application/vnd.jupyter.widget-view+json": {
       "model_id": "11dc6754970d4ee8b9e7a7f846573407",
       "version_major": 2,
       "version_minor": 0
      },
      "text/plain": [
       "  0%|          | 0/12 [00:00<?, ?it/s]"
      ]
     },
     "metadata": {},
     "output_type": "display_data"
    },
    {
     "data": {
      "application/vnd.jupyter.widget-view+json": {
       "model_id": "4ccb203a1ef540d7b3be955b2db19244",
       "version_major": 2,
       "version_minor": 0
      },
      "text/plain": [
       "  0%|          | 0/4 [00:00<?, ?it/s]"
      ]
     },
     "metadata": {},
     "output_type": "display_data"
    },
    {
     "data": {
      "application/vnd.jupyter.widget-view+json": {
       "model_id": "d3fbb9ce7e314f8f92f19041981ef620",
       "version_major": 2,
       "version_minor": 0
      },
      "text/plain": [
       "  0%|          | 0/2 [00:00<?, ?it/s]"
      ]
     },
     "metadata": {},
     "output_type": "display_data"
    },
    {
     "data": {
      "application/vnd.jupyter.widget-view+json": {
       "model_id": "2268690d045e488893df2f84c3f48df9",
       "version_major": 2,
       "version_minor": 0
      },
      "text/plain": [
       "  0%|          | 0/6 [00:00<?, ?it/s]"
      ]
     },
     "metadata": {},
     "output_type": "display_data"
    },
    {
     "data": {
      "application/vnd.jupyter.widget-view+json": {
       "model_id": "3f1ef02510ff42d5951a69fca453ea57",
       "version_major": 2,
       "version_minor": 0
      },
      "text/plain": [
       "  0%|          | 0/2 [00:00<?, ?it/s]"
      ]
     },
     "metadata": {},
     "output_type": "display_data"
    },
    {
     "data": {
      "application/vnd.jupyter.widget-view+json": {
       "model_id": "0d11578b4e334874aeeebc8b898f7b31",
       "version_major": 2,
       "version_minor": 0
      },
      "text/plain": [
       "  0%|          | 0/10 [00:00<?, ?it/s]"
      ]
     },
     "metadata": {},
     "output_type": "display_data"
    },
    {
     "data": {
      "application/vnd.jupyter.widget-view+json": {
       "model_id": "fa0b46fbc0a34e5ba19113acb801b781",
       "version_major": 2,
       "version_minor": 0
      },
      "text/plain": [
       "  0%|          | 0/4 [00:00<?, ?it/s]"
      ]
     },
     "metadata": {},
     "output_type": "display_data"
    },
    {
     "data": {
      "application/vnd.jupyter.widget-view+json": {
       "model_id": "8b328a998bb14121ab7cac7a8a99bce4",
       "version_major": 2,
       "version_minor": 0
      },
      "text/plain": [
       "  0%|          | 0/3 [00:00<?, ?it/s]"
      ]
     },
     "metadata": {},
     "output_type": "display_data"
    },
    {
     "data": {
      "application/vnd.jupyter.widget-view+json": {
       "model_id": "32622dd0ee5f452cbacb0cbdad322b6c",
       "version_major": 2,
       "version_minor": 0
      },
      "text/plain": [
       "  0%|          | 0/3 [00:00<?, ?it/s]"
      ]
     },
     "metadata": {},
     "output_type": "display_data"
    },
    {
     "data": {
      "application/vnd.jupyter.widget-view+json": {
       "model_id": "66cd7dda041d4f42bf2be55edcbac40c",
       "version_major": 2,
       "version_minor": 0
      },
      "text/plain": [
       "  0%|          | 0/8 [00:00<?, ?it/s]"
      ]
     },
     "metadata": {},
     "output_type": "display_data"
    },
    {
     "data": {
      "application/vnd.jupyter.widget-view+json": {
       "model_id": "dceb77f4065c4ee1b7ea7aa552f31f21",
       "version_major": 2,
       "version_minor": 0
      },
      "text/plain": [
       "  0%|          | 0/13 [00:00<?, ?it/s]"
      ]
     },
     "metadata": {},
     "output_type": "display_data"
    },
    {
     "data": {
      "application/vnd.jupyter.widget-view+json": {
       "model_id": "69403161281045f5a7219b3aabec06fb",
       "version_major": 2,
       "version_minor": 0
      },
      "text/plain": [
       "  0%|          | 0/3 [00:00<?, ?it/s]"
      ]
     },
     "metadata": {},
     "output_type": "display_data"
    },
    {
     "data": {
      "application/vnd.jupyter.widget-view+json": {
       "model_id": "7bda33248fc04e6487d0ad05a159fa88",
       "version_major": 2,
       "version_minor": 0
      },
      "text/plain": [
       "  0%|          | 0/10 [00:00<?, ?it/s]"
      ]
     },
     "metadata": {},
     "output_type": "display_data"
    },
    {
     "data": {
      "application/vnd.jupyter.widget-view+json": {
       "model_id": "7cea8332ef2f414891ef003b5b40d42d",
       "version_major": 2,
       "version_minor": 0
      },
      "text/plain": [
       "  0%|          | 0/5 [00:00<?, ?it/s]"
      ]
     },
     "metadata": {},
     "output_type": "display_data"
    },
    {
     "data": {
      "application/vnd.jupyter.widget-view+json": {
       "model_id": "28125143f27f47d99ecaf968cd9a761f",
       "version_major": 2,
       "version_minor": 0
      },
      "text/plain": [
       "  0%|          | 0/19 [00:00<?, ?it/s]"
      ]
     },
     "metadata": {},
     "output_type": "display_data"
    },
    {
     "data": {
      "application/vnd.jupyter.widget-view+json": {
       "model_id": "7b62ba3fbc6d42ef9b1ada3c9e8a9c55",
       "version_major": 2,
       "version_minor": 0
      },
      "text/plain": [
       "  0%|          | 0/10 [00:00<?, ?it/s]"
      ]
     },
     "metadata": {},
     "output_type": "display_data"
    },
    {
     "data": {
      "application/vnd.jupyter.widget-view+json": {
       "model_id": "635821cf450c4dc9862aa930522c1810",
       "version_major": 2,
       "version_minor": 0
      },
      "text/plain": [
       "  0%|          | 0/7 [00:00<?, ?it/s]"
      ]
     },
     "metadata": {},
     "output_type": "display_data"
    },
    {
     "data": {
      "application/vnd.jupyter.widget-view+json": {
       "model_id": "ca5620c4a5e44874a686cbb741b3f535",
       "version_major": 2,
       "version_minor": 0
      },
      "text/plain": [
       "  0%|          | 0/21 [00:00<?, ?it/s]"
      ]
     },
     "metadata": {},
     "output_type": "display_data"
    },
    {
     "data": {
      "application/vnd.jupyter.widget-view+json": {
       "model_id": "4ed7bdcbdcd5492e9e6b398f2a3881f9",
       "version_major": 2,
       "version_minor": 0
      },
      "text/plain": [
       "  0%|          | 0/4 [00:00<?, ?it/s]"
      ]
     },
     "metadata": {},
     "output_type": "display_data"
    },
    {
     "data": {
      "application/vnd.jupyter.widget-view+json": {
       "model_id": "39fd6e15bf8745f1904505c74bc27153",
       "version_major": 2,
       "version_minor": 0
      },
      "text/plain": [
       "  0%|          | 0/1 [00:00<?, ?it/s]"
      ]
     },
     "metadata": {},
     "output_type": "display_data"
    },
    {
     "data": {
      "application/vnd.jupyter.widget-view+json": {
       "model_id": "df3918322c944e7896ba7d213b7c3fb5",
       "version_major": 2,
       "version_minor": 0
      },
      "text/plain": [
       "  0%|          | 0/3 [00:00<?, ?it/s]"
      ]
     },
     "metadata": {},
     "output_type": "display_data"
    },
    {
     "data": {
      "application/vnd.jupyter.widget-view+json": {
       "model_id": "9fe43dfecb4c4f5da7f6aa7c34b821d7",
       "version_major": 2,
       "version_minor": 0
      },
      "text/plain": [
       "  0%|          | 0/4 [00:00<?, ?it/s]"
      ]
     },
     "metadata": {},
     "output_type": "display_data"
    },
    {
     "data": {
      "application/vnd.jupyter.widget-view+json": {
       "model_id": "f48daabf469644d2b10157695a14fad1",
       "version_major": 2,
       "version_minor": 0
      },
      "text/plain": [
       "  0%|          | 0/2 [00:00<?, ?it/s]"
      ]
     },
     "metadata": {},
     "output_type": "display_data"
    },
    {
     "data": {
      "application/vnd.jupyter.widget-view+json": {
       "model_id": "515e070dd6244c39b77dc06f62a7ae47",
       "version_major": 2,
       "version_minor": 0
      },
      "text/plain": [
       "  0%|          | 0/9 [00:00<?, ?it/s]"
      ]
     },
     "metadata": {},
     "output_type": "display_data"
    },
    {
     "data": {
      "application/vnd.jupyter.widget-view+json": {
       "model_id": "a5838d09aed04e929fdd5ecbe642fd59",
       "version_major": 2,
       "version_minor": 0
      },
      "text/plain": [
       "  0%|          | 0/18 [00:00<?, ?it/s]"
      ]
     },
     "metadata": {},
     "output_type": "display_data"
    },
    {
     "data": {
      "application/vnd.jupyter.widget-view+json": {
       "model_id": "41998f9a67574c0b94eb46934098cd35",
       "version_major": 2,
       "version_minor": 0
      },
      "text/plain": [
       "  0%|          | 0/3 [00:00<?, ?it/s]"
      ]
     },
     "metadata": {},
     "output_type": "display_data"
    },
    {
     "data": {
      "application/vnd.jupyter.widget-view+json": {
       "model_id": "0e360430a35f47d68ec4b48ffa0f4f87",
       "version_major": 2,
       "version_minor": 0
      },
      "text/plain": [
       "  0%|          | 0/3 [00:00<?, ?it/s]"
      ]
     },
     "metadata": {},
     "output_type": "display_data"
    },
    {
     "data": {
      "application/vnd.jupyter.widget-view+json": {
       "model_id": "a2288b96fbf742ec8e45b522a7d3fa0f",
       "version_major": 2,
       "version_minor": 0
      },
      "text/plain": [
       "  0%|          | 0/14 [00:00<?, ?it/s]"
      ]
     },
     "metadata": {},
     "output_type": "display_data"
    },
    {
     "data": {
      "application/vnd.jupyter.widget-view+json": {
       "model_id": "1740c56d82f24db48eb30eb1e8062b50",
       "version_major": 2,
       "version_minor": 0
      },
      "text/plain": [
       "  0%|          | 0/19 [00:00<?, ?it/s]"
      ]
     },
     "metadata": {},
     "output_type": "display_data"
    },
    {
     "data": {
      "application/vnd.jupyter.widget-view+json": {
       "model_id": "6e2eafe81db648b6af1994b53ad20bb5",
       "version_major": 2,
       "version_minor": 0
      },
      "text/plain": [
       "  0%|          | 0/2 [00:00<?, ?it/s]"
      ]
     },
     "metadata": {},
     "output_type": "display_data"
    }
   ],
   "source": [
    "from tqdm.auto import tqdm\n",
    "\n",
    "sentences_of_context = 3 # Number of sentences to consider as context for each sentence\n",
    "all_clarified_sentences = []\n",
    "\n",
    "for _, year in tqdm(data.iterrows(), total=len(data)):\n",
    "\n",
    "    prev_context = []\n",
    "    post_context = []\n",
    "\n",
    "    result = []\n",
    "    texto_to_clarify = year[\"sentences\"]\n",
    "\n",
    "    for i, sentence in tqdm(enumerate(texto_to_clarify), total=len(texto_to_clarify), leave=False):\n",
    "        prev_context = result[-2:]\n",
    "        post_context = texto_to_clarify[i + 1:i + 1 + sentences_of_context]\n",
    "        \n",
    "        prev_context = \" \".join(prev_context)\n",
    "        post_context = \" \".join(post_context)\n",
    "        \n",
    "        response = llm.invoke(\n",
    "            prompt.format(\n",
    "                text=sentence,\n",
    "                prev_context=prev_context,\n",
    "                post_context=post_context\n",
    "            )\n",
    "        ).content\n",
    "        \n",
    "        result.append(response)\n",
    "    \n",
    "    all_clarified_sentences.append(result)"
   ]
  },
  {
   "cell_type": "code",
   "execution_count": 8,
   "id": "33b807de",
   "metadata": {},
   "outputs": [],
   "source": [
    "data[\"clarified_sentences\"] = all_clarified_sentences\n",
    "data.to_csv(\"../../data/DicatJuanRana_w_clarified_sentences.csv\", sep=\";\", encoding=\"utf-8\", index=False)"
   ]
  },
  {
   "cell_type": "code",
   "execution_count": 10,
   "id": "3eb4688e",
   "metadata": {},
   "outputs": [
    {
     "name": "stdout",
     "output_type": "stream",
     "text": [
      "Texto original:\n"
     ]
    },
    {
     "data": {
      "text/html": [
       "<pre style=\"white-space:pre;overflow-x:auto;line-height:normal;font-family:Menlo,'DejaVu Sans Mono',consolas,'Courier New',monospace\">Asistió al cabildo de la Cofradía de Nuestra Señora de la Novena celebrado el <span style=\"color: #008080; text-decoration-color: #008080; font-weight: bold\">2</span> de marzo.   El <span style=\"color: #008080; text-decoration-color: #008080; font-weight: bold\">9</span> de julio, en \n",
       "Madrid, firmó un nuevo testamento que invalidaba el anterior de <span style=\"color: #008080; text-decoration-color: #008080; font-weight: bold\">1666</span>.   En el que declaraba de nuevo ser vecino de \n",
       "Madrid, <span style=\"color: #008000; text-decoration-color: #008000\">\"que vivo en mis casas propias, en la calle de Cantarranas, Parroquia de San Sebastián, estando en pie </span>\n",
       "<span style=\"color: #008000; text-decoration-color: #008000\">levantado de la cama, aunque con algunos achaques\"</span>.   Y pedía ser sepultado <span style=\"color: #008000; text-decoration-color: #008000\">\"sin ataúd en el convento de religiosos</span>\n",
       "<span style=\"color: #008000; text-decoration-color: #008000\">descalzos de la Santísima Trinidad desta Corte, en la sepultura que allí tengo mía propia, y donde está sepultada </span>\n",
       "<span style=\"color: #008000; text-decoration-color: #008000\">mi hija Francisca María Pérez\"</span>.   Aparte del dinero estipulado para misas por su alma y detalles de sus honras, \n",
       "entre las limosnas entregaba una de <span style=\"color: #008080; text-decoration-color: #008080; font-weight: bold\">150</span> dcs. de vellón para la Cofradía de Nuestra Señora de la Novena para ayuda \n",
       "de la fábrica de su capilla.   Y un pabellón de brocado que tenía en el oratorio de su casa.   A su sobrina María \n",
       "de Diego y a su sobrino Francisco de Diego, ya mencionados en el testamento anterior, les enviaba <span style=\"color: #008080; text-decoration-color: #008080; font-weight: bold\">150</span> dcs. y <span style=\"color: #008080; text-decoration-color: #008080; font-weight: bold\">30</span> \n",
       "dcs. de vellón, respectivamente.   Y <span style=\"color: #008080; text-decoration-color: #008080; font-weight: bold\">150</span> dcs. de vellón para ayuda del retablo <span style=\"color: #008000; text-decoration-color: #008000\">\"que me han dicho se trata de hacer\"</span>\n",
       "para la imagen de Nuestra Señora del Amparo de la iglesia parroquial de Tudela del Duero.   Asimismo, ordenaba \n",
       "pagar a su ama Isabel <span style=\"color: #008080; text-decoration-color: #008080; font-weight: bold\">150</span> rs. de vellón y lo que se le debiera de salario.   Y a Felipe Negro, su <span style=\"color: #008000; text-decoration-color: #008000\">\"paisano y </span>\n",
       "<span style=\"color: #008000; text-decoration-color: #008000\">pariente\"</span>, otros <span style=\"color: #008080; text-decoration-color: #008080; font-weight: bold\">150</span> rs. y un espadín.   Otorgaba a sus albaceas y testamentarios poder para rematar sus bienes y \n",
       "pagar todo lo estipulado en el testamento.   Y, con el sobrante, pagar nuevas misas y limosnas para su alma y la de\n",
       "su hija y familiares.   —A. de la Granja, al publicar el testamento, estimó que el desembolso en las misas \n",
       "previstas por su alma debió de rondar los <span style=\"color: #008080; text-decoration-color: #008080; font-weight: bold\">7.500</span> rs.   Y destaca la preocupación religiosa que manifiesta Cosme \n",
       "Pérez—.\n",
       "</pre>\n"
      ],
      "text/plain": [
       "Asistió al cabildo de la Cofradía de Nuestra Señora de la Novena celebrado el \u001b[1;36m2\u001b[0m de marzo.   El \u001b[1;36m9\u001b[0m de julio, en \n",
       "Madrid, firmó un nuevo testamento que invalidaba el anterior de \u001b[1;36m1666\u001b[0m.   En el que declaraba de nuevo ser vecino de \n",
       "Madrid, \u001b[32m\"que vivo en mis casas propias, en la calle de Cantarranas, Parroquia de San Sebastián, estando en pie \u001b[0m\n",
       "\u001b[32mlevantado de la cama, aunque con algunos achaques\"\u001b[0m.   Y pedía ser sepultado \u001b[32m\"sin ataúd en el convento de religiosos\u001b[0m\n",
       "\u001b[32mdescalzos de la Santísima Trinidad desta Corte, en la sepultura que allí tengo mía propia, y donde está sepultada \u001b[0m\n",
       "\u001b[32mmi hija Francisca María Pérez\"\u001b[0m.   Aparte del dinero estipulado para misas por su alma y detalles de sus honras, \n",
       "entre las limosnas entregaba una de \u001b[1;36m150\u001b[0m dcs. de vellón para la Cofradía de Nuestra Señora de la Novena para ayuda \n",
       "de la fábrica de su capilla.   Y un pabellón de brocado que tenía en el oratorio de su casa.   A su sobrina María \n",
       "de Diego y a su sobrino Francisco de Diego, ya mencionados en el testamento anterior, les enviaba \u001b[1;36m150\u001b[0m dcs. y \u001b[1;36m30\u001b[0m \n",
       "dcs. de vellón, respectivamente.   Y \u001b[1;36m150\u001b[0m dcs. de vellón para ayuda del retablo \u001b[32m\"que me han dicho se trata de hacer\"\u001b[0m\n",
       "para la imagen de Nuestra Señora del Amparo de la iglesia parroquial de Tudela del Duero.   Asimismo, ordenaba \n",
       "pagar a su ama Isabel \u001b[1;36m150\u001b[0m rs. de vellón y lo que se le debiera de salario.   Y a Felipe Negro, su \u001b[32m\"paisano y \u001b[0m\n",
       "\u001b[32mpariente\"\u001b[0m, otros \u001b[1;36m150\u001b[0m rs. y un espadín.   Otorgaba a sus albaceas y testamentarios poder para rematar sus bienes y \n",
       "pagar todo lo estipulado en el testamento.   Y, con el sobrante, pagar nuevas misas y limosnas para su alma y la de\n",
       "su hija y familiares.   —A. de la Granja, al publicar el testamento, estimó que el desembolso en las misas \n",
       "previstas por su alma debió de rondar los \u001b[1;36m7.500\u001b[0m rs.   Y destaca la preocupación religiosa que manifiesta Cosme \n",
       "Pérez—.\n"
      ]
     },
     "metadata": {},
     "output_type": "display_data"
    },
    {
     "name": "stdout",
     "output_type": "stream",
     "text": [
      "\n",
      "Texto corregido:\n"
     ]
    },
    {
     "data": {
      "text/html": [
       "<pre style=\"white-space:pre;overflow-x:auto;line-height:normal;font-family:Menlo,'DejaVu Sans Mono',consolas,'Courier New',monospace\">Cosme Pérez asistió al cabildo de la Cofradía de Nuestra Señora de la Novena celebrado el <span style=\"color: #008080; text-decoration-color: #008080; font-weight: bold\">2</span> de marzo. El <span style=\"color: #008080; text-decoration-color: #008080; font-weight: bold\">9</span> de \n",
       "julio, en Madrid, Cosme Pérez firmó un nuevo testamento que invalidaba el anterior de <span style=\"color: #008080; text-decoration-color: #008080; font-weight: bold\">1666</span>. En el que Cosme Pérez \n",
       "declaraba de nuevo ser vecino de Madrid, <span style=\"color: #008000; text-decoration-color: #008000\">\"que vivo en mis casas propias, en la calle de Cantarranas, Parroquia de </span>\n",
       "<span style=\"color: #008000; text-decoration-color: #008000\">San Sebastián, estando en pie levantado de la cama, aunque con algunos achaques\"</span>. Y pedía ser sepultado <span style=\"color: #008000; text-decoration-color: #008000\">\"sin ataúd </span>\n",
       "<span style=\"color: #008000; text-decoration-color: #008000\">en el convento de religiosos descalzos de la Santísima Trinidad desta Corte, en la sepultura que allí tiene Cosme </span>\n",
       "<span style=\"color: #008000; text-decoration-color: #008000\">Pérez propia, y donde está sepultada su hija Francisca María Pérez\"</span>. Aparte del dinero estipulado para misas por el\n",
       "alma de Cosme Pérez y detalles de sus honras, entre las limosnas entregaba una de <span style=\"color: #008080; text-decoration-color: #008080; font-weight: bold\">150</span> dcs. de vellón para la \n",
       "Cofradía de Nuestra Señora de la Novena para ayuda de la fábrica de su capilla. Y un pabellón de brocado que Cosme \n",
       "Pérez tenía en el oratorio de su casa. A su sobrina María de Diego y a su sobrino Francisco de Diego, ya \n",
       "mencionados en el testamento anterior, Cosme Pérez les enviaba <span style=\"color: #008080; text-decoration-color: #008080; font-weight: bold\">150</span> dcs. y <span style=\"color: #008080; text-decoration-color: #008080; font-weight: bold\">30</span> dcs. de vellón, respectivamente. Y <span style=\"color: #008080; text-decoration-color: #008080; font-weight: bold\">150</span>\n",
       "dcs. de vellón para ayuda del retablo <span style=\"color: #008000; text-decoration-color: #008000\">\"que me han dicho se trata de hacer\"</span> para la imagen de Nuestra Señora del \n",
       "Amparo de la iglesia parroquial de Tudela del Duero. Asimismo, ordenaba pagar a su ama Isabel <span style=\"color: #008080; text-decoration-color: #008080; font-weight: bold\">150</span> rs. de vellón y \n",
       "el salario que se le debiera a su ama Isabel. Y a Felipe Negro, su <span style=\"color: #008000; text-decoration-color: #008000\">\"paisano y pariente\"</span>, le otorgaba otros <span style=\"color: #008080; text-decoration-color: #008080; font-weight: bold\">150</span> rs. \n",
       "y un espadín. Otorgaba a sus albaceas y testamentarios poder para rematar los bienes de Cosme Pérez y pagar todo lo\n",
       "estipulado en el testamento. Y, con el sobrante, Cosme Pérez pagaría nuevas misas y limosnas para su alma y la de \n",
       "su hija y familiares. —A. de la Granja, al publicar el testamento de Cosme Pérez, estimó que el desembolso en las \n",
       "misas previstas por el alma de Cosme Pérez debió de rondar los <span style=\"color: #008080; text-decoration-color: #008080; font-weight: bold\">7.500</span> rs. Y destaca la preocupación religiosa que \n",
       "manifiesta Cosme Pérez.\n",
       "</pre>\n"
      ],
      "text/plain": [
       "Cosme Pérez asistió al cabildo de la Cofradía de Nuestra Señora de la Novena celebrado el \u001b[1;36m2\u001b[0m de marzo. El \u001b[1;36m9\u001b[0m de \n",
       "julio, en Madrid, Cosme Pérez firmó un nuevo testamento que invalidaba el anterior de \u001b[1;36m1666\u001b[0m. En el que Cosme Pérez \n",
       "declaraba de nuevo ser vecino de Madrid, \u001b[32m\"que vivo en mis casas propias, en la calle de Cantarranas, Parroquia de \u001b[0m\n",
       "\u001b[32mSan Sebastián, estando en pie levantado de la cama, aunque con algunos achaques\"\u001b[0m. Y pedía ser sepultado \u001b[32m\"sin ataúd \u001b[0m\n",
       "\u001b[32men el convento de religiosos descalzos de la Santísima Trinidad desta Corte, en la sepultura que allí tiene Cosme \u001b[0m\n",
       "\u001b[32mPérez propia, y donde está sepultada su hija Francisca María Pérez\"\u001b[0m. Aparte del dinero estipulado para misas por el\n",
       "alma de Cosme Pérez y detalles de sus honras, entre las limosnas entregaba una de \u001b[1;36m150\u001b[0m dcs. de vellón para la \n",
       "Cofradía de Nuestra Señora de la Novena para ayuda de la fábrica de su capilla. Y un pabellón de brocado que Cosme \n",
       "Pérez tenía en el oratorio de su casa. A su sobrina María de Diego y a su sobrino Francisco de Diego, ya \n",
       "mencionados en el testamento anterior, Cosme Pérez les enviaba \u001b[1;36m150\u001b[0m dcs. y \u001b[1;36m30\u001b[0m dcs. de vellón, respectivamente. Y \u001b[1;36m150\u001b[0m\n",
       "dcs. de vellón para ayuda del retablo \u001b[32m\"que me han dicho se trata de hacer\"\u001b[0m para la imagen de Nuestra Señora del \n",
       "Amparo de la iglesia parroquial de Tudela del Duero. Asimismo, ordenaba pagar a su ama Isabel \u001b[1;36m150\u001b[0m rs. de vellón y \n",
       "el salario que se le debiera a su ama Isabel. Y a Felipe Negro, su \u001b[32m\"paisano y pariente\"\u001b[0m, le otorgaba otros \u001b[1;36m150\u001b[0m rs. \n",
       "y un espadín. Otorgaba a sus albaceas y testamentarios poder para rematar los bienes de Cosme Pérez y pagar todo lo\n",
       "estipulado en el testamento. Y, con el sobrante, Cosme Pérez pagaría nuevas misas y limosnas para su alma y la de \n",
       "su hija y familiares. —A. de la Granja, al publicar el testamento de Cosme Pérez, estimó que el desembolso en las \n",
       "misas previstas por el alma de Cosme Pérez debió de rondar los \u001b[1;36m7.500\u001b[0m rs. Y destaca la preocupación religiosa que \n",
       "manifiesta Cosme Pérez.\n"
      ]
     },
     "metadata": {},
     "output_type": "display_data"
    }
   ],
   "source": [
    "import rich as rc\n",
    "\n",
    "texto_to_clarify = data[data[\"year\"].astype(int) == 1670][\"sentences\"].values[0]\n",
    "result = data[data[\"year\"].astype(int) == 1670][\"clarified_sentences\"].values[0]\n",
    "\n",
    "print(\"Texto original:\")\n",
    "rc.print(\" \".join(texto_to_clarify))\n",
    "\n",
    "print(\"\\nTexto corregido:\")\n",
    "rc.print(\" \".join(result))"
   ]
  },
  {
   "cell_type": "code",
   "execution_count": 29,
   "id": "297a4c5d",
   "metadata": {},
   "outputs": [
    {
     "data": {
      "text/plain": [
       "['En una carta, fechada en Madrid el 9 de junio de este año, Felipe IV daba cuenta a doña Luisa Enríquez Manrique de la comedia Andrómeda y Perseo, de Calderón, representada en el Coliseo del Buen Retiro en la segunda quincena de mayo:',\n",
       " \"Muy buena ha sido la comedia Andrómeda y Perseo, y vuestro amigo 'Juan Rana' ha cumplido famosamente con sus obligaciones;\",\n",
       " 'Bien, creo que si hubierais visto a Cosme Pérez, alias Juan Rana, se atrevería la risa a inquietar la función.',\n",
       " 'La gente moza se ha entretenido harto\" —la comedia representada Andrómeda y Perseo, de Calderón, fue Andrómeda y Perseo, en la que Cosme Pérez representó el papel de \"Bato\"—;',\n",
       " 'entre la documentación relativa a las fiestas del Corpus de Madrid consta una lista de los gastos de las fiestas del Corpus de este año, en la que se indica que Cosme Pérez recibió 1.000 rs.;',\n",
       " 'Consta la respuesta, transmitida el 22 de noviembre por el Conde de Altamira, a la solicitud de \"Cosme Pérez, alias Juan Rana\" realizada el 18 de dicho mes, referente al \"paso de una ración ordinaria que goza por la despensa de la casa de la Reyna nuestra señora, para una hija de la Reyna nuestra señora [Francisca María Pérez], con calidad que sea desde luego y que la susodicha no la pueda gozar si hubiese de andar en la farsa\".']"
      ]
     },
     "execution_count": 29,
     "metadata": {},
     "output_type": "execute_result"
    }
   ],
   "source": [
    "data[data[\"year\"].astype(int) == 1653][\"clarified_sentences\"].values[0]"
   ]
  },
  {
   "cell_type": "code",
   "execution_count": 30,
   "id": "2aa6b498",
   "metadata": {},
   "outputs": [],
   "source": [
    "for _, row in data.iterrows():\n",
    "    if len(row[\"clarified_sentences\"]) != len(row[\"sentences\"]):\n",
    "        print(f\"Error in year {row['year']}: {len(row['clarified_sentences'])} clarified sentences vs {len(row['sentences'])} original sentences.\")\n",
    "        break"
   ]
  },
  {
   "cell_type": "code",
   "execution_count": 11,
   "id": "0eb9982e",
   "metadata": {},
   "outputs": [],
   "source": [
    "import pandas as pd\n",
    "import ast\n",
    "    \n",
    "data = pd.read_csv(\"../../data/DicatJuanRana_w_clarified_sentences.csv\", sep=\";\", encoding=\"utf-8\", converters={\"sentences\": ast.literal_eval, \"clarified_sentences\": ast.literal_eval})"
   ]
  },
  {
   "cell_type": "code",
   "execution_count": 12,
   "id": "90383403",
   "metadata": {},
   "outputs": [],
   "source": [
    "from langchain_openai import ChatOpenAI\n",
    "from dotenv import load_dotenv\n",
    "import pandas as pd\n",
    "import os"
   ]
  },
  {
   "cell_type": "code",
   "execution_count": 13,
   "id": "20aa5023",
   "metadata": {},
   "outputs": [],
   "source": [
    "load_dotenv()\n",
    "\n",
    "llm = ChatOpenAI(\n",
    "    model=\"gpt-4.1-mini\",\n",
    "    temperature=0,\n",
    "    api_key=os.getenv(\"OPENAI_API_KEY\"),\n",
    ")"
   ]
  },
  {
   "cell_type": "code",
   "execution_count": 14,
   "id": "d22b48b9",
   "metadata": {},
   "outputs": [],
   "source": [
    "from langchain.prompts import PromptTemplate\n",
    "\n",
    "comparative_prompt = PromptTemplate(\n",
    "    input_variables=[\"original_text\", \"clarified_text\"],\n",
    "    template=\"\"\"\n",
    "        Actúa como un agente de procesamiento de lenguaje natural cuyo objetivo es comparar dos textos y determinar si son iguales o diferentes.\n",
    "\n",
    "        Tu tarea es analizar el texto original y el texto aclarativo, y responder si son similares o por el contrario, el texto aclarativo muestra información diferente o adicional que no está presente en el texto original.\n",
    "        \n",
    "        Responde con \"Iguales\" si los textos son idénticos en contenido y significado, o devuelve las partes en las que los textos difieren.\n",
    "\n",
    "        Texto Original:\n",
    "        {original_text}\n",
    "        \n",
    "        Texto Aclarativo:\n",
    "        {clarified_text}\n",
    "    \"\"\",\n",
    ")\n",
    "    "
   ]
  },
  {
   "cell_type": "code",
   "execution_count": 15,
   "id": "2b09365e",
   "metadata": {},
   "outputs": [
    {
     "data": {
      "application/vnd.jupyter.widget-view+json": {
       "model_id": "18140c1de5054321bcf91af04f8b541c",
       "version_major": 2,
       "version_minor": 0
      },
      "text/plain": [
       "  0%|          | 0/38 [00:00<?, ?it/s]"
      ]
     },
     "metadata": {},
     "output_type": "display_data"
    },
    {
     "name": "stdout",
     "output_type": "stream",
     "text": [
      "Difieren en los siguientes aspectos principales:\n",
      "\n",
      "1. **Repetición y redundancia en el Texto Aclarativo:**  \n",
      "   El Texto Aclarativo repite varias veces el nombre \"Cosme Pérez\" en frases donde en el Texto Original se usa pronombres o formas más naturales, lo que afecta la fluidez pero no cambia el contenido.\n",
      "\n",
      "2. **Cambios en citas y formulaciones:**  \n",
      "   - En la cita sobre la popularidad, el Texto Original dice:  \n",
      "     *\"Fue mui zelebrado en la parte de grazioso, y aun excedió a todos los de su tiempo, y solo con salir a las tablas, y sin hablar, probocaba a risa y al aplauso a los que le veían\"*.  \n",
      "     El Texto Aclarativo modifica la cita a:  \n",
      "     *\"Cosme Pérez fue mui zelebrado en la parte de grazioso, y aun excedió a todos los de su tiempo, y solo con salir a las tablas, y sin hablar, probocaba a risa y al aplauso a los que le veían\"*.  \n",
      "     Añade el nombre explícito dentro de la cita, lo que no es fiel al original.\n",
      "\n",
      "   - Sobre Domingo Canejil, el Texto Original dice:  \n",
      "     *\"porque decían que ni Juan Rana había llegado a su grande habilidad\"*,  \n",
      "     mientras que el Texto Aclarativo dice:  \n",
      "     *\"porque decían que ni Juan Rana había alcanzado la grande habilidad de Domingo Canejil\"*,  \n",
      "     cambiando el sentido y la comparación.\n",
      "\n",
      "3. **Omisiones y alteraciones menores:**  \n",
      "   - En el Texto Aclarativo se omiten o modifican algunas expresiones originales, por ejemplo:  \n",
      "     - \"estábalo en una ocasión con Pedro de la Rosa y para nombrarle repetía muchas vezes: aquel que güele\"  \n",
      "       se convierte en  \n",
      "       \"Cosme Pérez estaba en una ocasión con Pedro de la Rosa y para nombrar a Pedro de la Rosa repetía muchas veces: aquel que huele\".  \n",
      "     Cambia la forma y añade el nombre explícito.\n",
      "\n",
      "   - En la anécdota del Salón del Palacio, el Texto Aclarativo introduce repetición del nombre \"Juan Rana\" en cada frase, mientras que el Texto Original es más fluido y natural.\n",
      "\n",
      "4. **Errores o confusiones en el Texto Aclarativo:**  \n",
      "   - En la parte final, el Texto Aclarativo menciona:  \n",
      "     *\"Cotarelo ofreció un primer corpus de los entremeses que diferentes poetas escribieron para el actor Constantino o su personaje\"*,  \n",
      "     cuando en el Texto Original no aparece ningún \"Constantino\", sino que se refiere a Cosme Pérez/'Juan Rana'. Esto es un error o información diferente.\n",
      "\n",
      "5. **Cambios en la atribución y referencias:**  \n",
      "   - En el Texto Aclarativo se añaden o modifican algunas expresiones que cambian la atribución o el sentido, por ejemplo:  \n",
      "     - \"Cotarelo dedujo que en esas fechas tempranas de la profesionalización de Cosme Pérez su especialización como gracioso no se encontraba todavía definida\" (Texto Aclarativo)  \n",
      "       frente a  \n",
      "       \"Cotarelo observó que los papeles representados por Cosme Pérez en las dos obras de Lope a las que acabamos de aludir no eran cómicos, y de ello dedujo que en esas fechas tempranas de su profesionalización su especialización como gracioso no se encontraba todavía definida\" (Texto Original).\n",
      "\n",
      "6. **Cambios en citas textuales y puntuación:**  \n",
      "   - En varias citas, el Texto Aclarativo cambia puntuación, añade o elimina comillas, o modifica ligeramente el texto, afectando la fidelidad.\n",
      "\n",
      "**Resumen:**  \n",
      "El Texto Aclarativo no es idéntico al Texto Original. Contiene las mismas ideas generales y hechos, pero introduce numerosas repeticiones del nombre \"Cosme Pérez\", altera citas textuales, cambia formulaciones, añade errores (como la mención de \"Constantino\"), y modifica algunos detalles que afectan el sentido o la precisión. Por tanto, el Texto Aclarativo muestra información diferente y adicional, además de cambios en la forma y contenido.\n",
      "\n",
      "**Respuesta:**  \n",
      "Los textos difieren en la forma, en la fidelidad de las citas, en la precisión de algunas afirmaciones y contienen errores o añadidos que no están en el texto original. No son iguales.\n",
      "Difieren en las siguientes partes:\n",
      "\n",
      "1. En el Texto Aclarativo se repite \"a quien sigue Sáez Raposo\" dos veces seguidas: \"Según Cotarelo, a quien sigue Sáez Raposo, Sáez Raposo.\" Esto no está en el Texto Original.\n",
      "\n",
      "2. El Texto Aclarativo añade la frase \"Cosme Pérez fue quien organizó el evento.\" después de mencionar que formaba parte de la compañía, información que no está presente en el Texto Original.\n",
      "\n",
      "3. En el Texto Aclarativo se repite la referencia a la compañía de Juan Bautista Valenciano en la parte final: \"y es posible que el reparto de la compañía de Juan Bautista Valenciano corresponda al año 1622—.\" mientras que en el Texto Original se dice \"y es posible que dicho reparto corresponda al año 1622—.\" \n",
      "\n",
      "Estas diferencias muestran que el Texto Aclarativo contiene información adicional y algunas repeticiones que no están en el Texto Original.\n",
      "Iguales\n",
      "Diferencias encontradas:\n",
      "\n",
      "1. En el Texto Original dice: \"entre dicho autor y la Villa de Madrid.\"\n",
      "   En el Texto Aclarativo dice: \"entre el autor mencionado y la Villa de Madrid.\"\n",
      "\n",
      "2. En el Texto Original dice: \"la entrega que haría la Villa a cada actor\"\n",
      "   En el Texto Aclarativo dice: \"la entrega que haría la Villa de Madrid a cada actor\"\n",
      "\n",
      "Estas diferencias son menores y no alteran el significado general del texto, pero el Texto Aclarativo añade la especificación \"de Madrid\" en dos ocasiones y cambia \"dicho autor\" por \"el autor mencionado\".\n",
      "El Texto Aclarativo contiene repeticiones y reorganizaciones del contenido presente en el Texto Original, pero no añade información nueva ni modifica el significado. Sin embargo, en el Texto Aclarativo falta el guion largo antes de \"probablemente de muy corta edad\" y la frase final está un poco más condensada, sin el guion largo antes de \"Es posible que éste fuese también hijo de María de Acosta\".\n",
      "\n",
      "Diferencias específicas:\n",
      "\n",
      "1. Repetición de la frase \"quien le envió este año a Madrid con la limosna de su compañía para la Cofradía de Nuestra Señora de la Novena, según se hacía constar en los libros de la Cofradía de Nuestra Señora de la Novena;\" en el Texto Aclarativo, que no está en el Texto Original.\n",
      "\n",
      "2. Ausencia de guiones largos (—) en el Texto Aclarativo en las partes que en el Texto Original están presentes.\n",
      "\n",
      "3. El Texto Aclarativo omite la frase \"—probablemente de muy corta edad, según Cotarelo.\" como inciso separado con guiones, integrándola en la oración sin guiones.\n",
      "\n",
      "En resumen, el Texto Aclarativo no aporta información diferente o adicional, pero presenta repeticiones y cambios en la puntuación y estructura.\n",
      "\n",
      "Por lo tanto, la respuesta es:\n",
      "\n",
      "Difieren en la repetición de frases y en la puntuación (ausencia de guiones largos y diferente estructura de incisos), pero no en contenido o significado.\n",
      "Las diferencias entre los textos son las siguientes:\n",
      "\n",
      "1. En el Texto Aclarativo se repite la idea de que no se explicita si Cosme Pérez entregó la limosna en nombre de la compañía de Tomás Fernández, mientras que en el Texto Original esta información aparece solo una vez.\n",
      "\n",
      "2. El Texto Aclarativo repite dos veces la mención del bautizo de Pedro, hijo de los actores Pedro de la Rosa y Catalina Nicolás, con los mismos detalles de padrinos y testigos, mientras que en el Texto Original esta información aparece una sola vez.\n",
      "\n",
      "3. El Texto Aclarativo presenta una estructura más redundante y repetitiva, con frases duplicadas y fragmentos reiterados, mientras que el Texto Original es más conciso y sin repeticiones.\n",
      "\n",
      "Por lo tanto, el Texto Aclarativo contiene información repetida y redundante que no está presente en el Texto Original, aunque el contenido esencial es el mismo.\n",
      "\n",
      "Resumen de diferencias:\n",
      "\n",
      "- Repetición de la aclaración sobre la limosna entregada en nombre de la compañía de Tomás Fernández.\n",
      "- Repetición del párrafo sobre el bautizo de Pedro.\n",
      "- Mayor redundancia y repetición en el Texto Aclarativo.\n",
      "\n",
      "No hay información adicional nueva, pero sí diferencias en la forma y repetición.\n",
      "\n",
      "Respuesta:  \n",
      "Difieren en la repetición y redundancia del Texto Aclarativo respecto al Texto Original.\n",
      "Diferencias encontradas:\n",
      "\n",
      "1. Texto Original: \"el gasto por el entierro de su mujer, María de Acosta.\"\n",
      "   Texto Aclarativo: \"el gasto por el entierro de la mujer de Cosme Pérez, María de Acosta.\"\n",
      "\n",
      "2. Texto Original: \"debió de morir hacia 1632.\"\n",
      "   Texto Aclarativo: \"Cosme Pérez debió de morir hacia 1632.\"\n",
      "\n",
      "3. Texto Original: \"Consta un concierto, fechado en Madrid el 16 de febrero, del actor Cosme Pérez para representar...\"\n",
      "   Texto Aclarativo: \"Consta un concierto, fechado en Madrid el 16 de febrero, en el que el actor Cosme Pérez representó...\"\n",
      "\n",
      "4. Texto Original: \"Por lo que recibiría 10 rs. de ración, 20 rs. por cada representación...\"\n",
      "   Texto Aclarativo: \"Por lo que Cosme Pérez recibiría 10 rs. de ración, 20 rs. por cada representación...\"\n",
      "\n",
      "5. Texto Original: \"fue liberado.\"\n",
      "   Texto Aclarativo: \"Juan Rana fue liberado.\"\n",
      "\n",
      "6. Texto Original: \"detención de un tal Agustín Merlo por mantener una reyerta con el hijo de un músico de la capilla real llamado Valdés, quien lo acusó de haberle requerido sexualmente.\"\n",
      "   Texto Aclarativo: \"detención de un tal Agustín Merlo por mantener una reyerta con el hijo de un músico de la capilla real llamado Valdés, quien acusó a Agustín Merlo de haberle requerido sexualmente.\"\n",
      "\n",
      "7. Texto Original: \"Sometido a tormento, aquél acusó a otros.\"\n",
      "   Texto Aclarativo: \"Sometido a tormento, Agustín Merlo acusó a otros.\"\n",
      "\n",
      "Resumen: El texto aclarativo introduce explícitamente el nombre \"Cosme Pérez\" en varias frases donde en el original se usaba pronombres o referencias implícitas (\"su mujer\", \"debió de morir\", \"recibiría\", \"aquél\"). Además, en la parte del escándalo, el texto aclarativo repite el nombre \"Agustín Merlo\" y \"Juan Rana\" para mayor claridad. No hay información adicional sustancial, sino una aclaración y especificación de sujetos en el texto. \n",
      "\n",
      "Por lo tanto, los textos no son idénticos, pero el texto aclarativo no añade información nueva, solo especifica y aclara los sujetos mencionados.\n",
      "Diferencias encontradas:\n",
      "\n",
      "1. En el Texto Original se dice: \"El concierto era para que Rosa, estante en Madrid, acudiera a Valencia con toda su compañía.\"\n",
      "   En el Texto Aclarativo se dice: \"El concierto era para que Pedro de la Rosa, estante en Madrid, acudiera a Valencia con toda su compañía.\"\n",
      "\n",
      "2. En el Texto Original: \"Tenía que traer sobre todo a Francisco de Velasco y a Cosme Pérez, apodado 'Rana', hacia el día 10 de julio, para efectuar cincuenta representaciones seguidas.\"\n",
      "   En el Texto Aclarativo: \"Tenía que traer sobre todo a Francisco de Velasco y a Cosme Pérez, apodado 'Rana', hacia el día 10 de julio, para que la compañía de Pedro de la Rosa efectuara cincuenta representaciones seguidas.\"\n",
      "\n",
      "3. En el Texto Original: \"Según se recoge en los libros del clavario del Hospital General de Valencia, el 5 de diciembre no pudo representar en Valencia la compañía a la que pertenecía Juan Rana [la de Pedro de la Rosa].\"\n",
      "   En el Texto Aclarativo: \"Según se recoge en los libros del clavario del Hospital General de Valencia, el 5 de diciembre no pudo representar en Valencia la compañía de Pedro de la Rosa a la que pertenecía Juan Rana.\"\n",
      "\n",
      "4. En el Texto Original: \"No pudo representar 'per estar purgat Juan Rana'.\"\n",
      "   En el Texto Aclarativo: \"No pudo representar la compañía de Pedro de la Rosa 'per estar purgat Juan Rana'.\"\n",
      "\n",
      "Resumen: El Texto Aclarativo añade explícitamente el nombre completo \"Pedro de la Rosa\" en lugar de solo \"Rosa\" y aclara que la compañía es la de Pedro de la Rosa en varias ocasiones. Además, modifica la frase sobre las representaciones para indicar que la compañía de Pedro de la Rosa debía efectuar las cincuenta representaciones, en lugar de solo \"efectuar cincuenta representaciones seguidas\". También se elimina la aclaración entre corchetes \"[la de Pedro de la Rosa]\" y se incorpora directamente en el texto. Por último, se añade \"la compañía de Pedro de la Rosa\" en la última frase.\n",
      "\n",
      "Por lo tanto, el Texto Aclarativo muestra información adicional y reformula algunas partes para mayor claridad, no son idénticos.\n",
      "Los textos difieren en la forma de referirse a Pedro de la Rosa y en la estructura de algunas frases, además de la omisión de la aclaración final en el Texto Aclarativo. Las diferencias específicas son:\n",
      "\n",
      "1. En el Texto Original:  \n",
      "\"que el clavario del Hospital General de Valencia concertó con el autor Pedro de la Rosa que éste acudiría a Valencia con toda su compañía\"  \n",
      "En el Texto Aclarativo:  \n",
      "\"que el clavario del Hospital General de Valencia concertó con el autor Pedro de la Rosa que Pedro de la Rosa acudiría a Valencia con toda la compañía de Pedro de la Rosa\"\n",
      "\n",
      "2. En el Texto Original:  \n",
      "\"Antonia [de Santiago], que representaba damas y bailaba, y la mujer del dicho Rosa [Catalina Nicolás]\"  \n",
      "En el Texto Aclarativo:  \n",
      "\"Antonia de Santiago representaba damas y bailaba, y Catalina Nicolás, la mujer del dicho Rosa\"\n",
      "\n",
      "3. En el Texto Original se incluye al final:  \n",
      "\"empezando alrededor del 1 de junio —para más detalles del contrato, véase la entrada del autor—.\"  \n",
      "En el Texto Aclarativo se menciona:  \n",
      "\"empezando alrededor del 1 de junio\"  \n",
      "y luego un comentario externo que no forma parte del texto aclarativo.\n",
      "\n",
      "Por lo tanto, el Texto Aclarativo muestra diferencias en la redacción y omite la referencia final del Texto Original.\n",
      "Diferencias encontradas:\n",
      "\n",
      "1. En el Texto Original se dice: \"Que representó en el Corpus de Sevilla.\"\n",
      "   En el Texto Aclarativo se especifica: \"Que la compañía de Pedro de la Rosa representó en el Corpus de Sevilla.\"\n",
      "\n",
      "2. En el Texto Original: \"Cotarelo, al tomar esta información de Sánchez Arjona, afirma que estuvo en Sevilla y Málaga.\"\n",
      "   En el Texto Aclarativo: \"Cotarelo, al tomar esta información de Sánchez Arjona, afirma que Sánchez Arjona estuvo en Sevilla y Málaga.\"\n",
      "\n",
      "3. En el Texto Original: \"Pero nada dice éste sobre una estancia en Málaga—.\"\n",
      "   En el Texto Aclarativo: \"Pero nada dice Sánchez Arjona sobre una estancia en Málaga—.\"\n",
      "\n",
      "Estas diferencias muestran que el Texto Aclarativo añade precisión sobre quién realizó la representación (la compañía) y especifica que es Sánchez Arjona quien estuvo en Sevilla y Málaga, así como quien no menciona la estancia en Málaga, mientras que el Texto Original es más ambiguo en estos puntos. Por lo tanto, el Texto Aclarativo contiene información adicional y más explícita que no está presente en el Texto Original.\n",
      "Diferencias encontradas:\n",
      "\n",
      "- En el Texto Original se dice: \"de la que formaba parte.\"\n",
      "- En el Texto Aclarativo se dice: \"de la que Cosme Pérez formaba parte.\"\n",
      "\n",
      "- En el Texto Original se dice: \"encargó a Cosme Pérez 'ordenar lo relativo a unos enterramientos que para actores había dejado el antiguo actor Rodrigo de Saavedra'.\"\n",
      "- En el Texto Aclarativo se dice: \"encargó a Cosme Pérez que Cosme Pérez ordenara lo relativo a unos enterramientos que para actores había dejado el antiguo actor Rodrigo de Saavedra.\"\n",
      "\n",
      "Estas diferencias son principalmente de repetición y estilo, pero no alteran el contenido ni el significado esencial del texto. Por lo tanto, los textos son esencialmente iguales en contenido y significado.\n",
      "Diferencias encontradas:\n",
      "\n",
      "1. En el Texto Aclarativo se añade la información: \"Cosme Pérez fue quien organizó el evento.\" Esta información no está presente en el Texto Original.\n",
      "\n",
      "2. En el Texto Aclarativo, la frase sobre la orden del 3 de marzo está ampliada y repetida con más detalle:  \n",
      "   - Original: \"para que Antonio de Prado y Pedro de la Rosa, autores de comedias, no salieran de Madrid hasta que hubieran dado las muestras de sus compañías y se hubiera señalado las que debían representar en las fiestas del Corpus.\"  \n",
      "   - Aclarativo: \"para que Antonio de Prado y Pedro de la Rosa, autores de comedias, no salieran de Madrid hasta que Antonio de Prado y Pedro de la Rosa hubieran dado las muestras de sus compañías y se hubiera señalado las compañías que debían representar en las fiestas del Corpus.\"  \n",
      "   Esta repetición y especificación no está en el Texto Original.\n",
      "\n",
      "3. En el Texto Aclarativo se repite el nombre \"Cosme Pérez\" con más frecuencia, pero esto no altera el contenido, solo la redacción.\n",
      "\n",
      "En resumen, el Texto Aclarativo incluye información adicional (\"Cosme Pérez fue quien organizó el evento\") y una reformulación más detallada de una parte de la orden del 3 de marzo, por lo que no son idénticos en contenido.\n",
      "\n",
      "Respuesta:  \n",
      "El Texto Aclarativo muestra información adicional y reformulación que no está presente en el Texto Original.\n",
      "Diferencias encontradas:\n",
      "\n",
      "1. En el Texto Aclarativo se repite explícitamente el nombre \"Cosme Pérez\" en varias frases donde en el Texto Original se omite, por ejemplo:\n",
      "   - \"...representando Cosme Pérez 'su parte de toda la graciosidad'...\" (Texto Aclarativo) vs. \"...representando 'su parte de toda la graciosidad'...\" (Texto Original).\n",
      "   - \"...como Cosme Pérez lo había hecho 'en otros años antezedentes a este asiento'...\" (Texto Aclarativo) vs. \"...como lo había hecho 'en otros años antezedentes a este asiento'...\" (Texto Original).\n",
      "   - \"...por lo que Cosme Pérez cobraría...\" (Texto Aclarativo) vs. \"...por lo que cobraría...\" (Texto Original).\n",
      "\n",
      "2. En la frase sobre la indecisión para representar, el Texto Aclarativo añade el nombre \"Cosme Pérez\" en la cita:\n",
      "   - Texto Original: \"Está indeciso, porque no quiere representar\"\n",
      "   - Texto Aclarativo: \"Está indeciso, porque Cosme Pérez no quiere representar\"\n",
      "\n",
      "3. En el Texto Aclarativo hay ligeros cambios en la puntuación y espacios, pero no afectan el contenido.\n",
      "\n",
      "En resumen, el Texto Aclarativo no añade información nueva ni cambia el significado, solo enfatiza el sujeto \"Cosme Pérez\" en varias partes para mayor claridad.\n",
      "\n",
      "Por lo tanto, los textos son **Iguales** en contenido y significado.\n",
      "Las diferencias entre los textos son las siguientes:\n",
      "\n",
      "1. En el Texto Aclarativo, la noticia del 19 de marzo se menciona inmediatamente después de la primera lista del 4 de febrero, integrando ambas referencias en un solo párrafo, mientras que en el Texto Original están separadas.\n",
      "\n",
      "2. En el Texto Aclarativo, se repite dos veces que Pedro de la Rosa dio una nueva lista el 19 de marzo con Cosme Pérez indeciso, mientras que en el Texto Original esta información aparece una sola vez.\n",
      "\n",
      "3. En el Texto Aclarativo, se aclara que Francisco de Guzmán y Morales fue quien prestó los 120 rs. a Pedro Ortiz de Urbina, mientras que en el Texto Original la frase es \"120 rs. que le había prestado\" sin especificar claramente el sujeto.\n",
      "\n",
      "4. En el Texto Aclarativo, se añade una frase explicativa: \"El texto no contiene referencias ambiguas que requieran sustitución. Todas las menciones a 'Cosme Pérez' y 'Antonio Marín' están explícitas y claras.\" Esta frase no está en el Texto Original.\n",
      "\n",
      "5. En la parte del decreto del 21 de marzo y las notificaciones, el Texto Aclarativo repite y enfatiza los nombres de las compañías y los sujetos (por ejemplo, \"la compañía de Alonso de Paz\", \"la compañía de Pedro de la Rosa\") con mayor explicitud y repetición, mientras que el Texto Original es más conciso.\n",
      "\n",
      "6. En la documentación del 15 de julio, el Texto Aclarativo especifica que Cosme Pérez representó \"en Madrid durante las fiestas del Corpus\", mientras que el Texto Original dice \"por haber representado allí durante las fiestas del Corpus\".\n",
      "\n",
      "7. En la obligación del 14 de agosto, el Texto Aclarativo añade que Francisco Garro de Alegría \"permitiría a Pedro de la Rosa ir durante este tiempo a representar a Salamanca o a otros sitios para poder cobrar lo que Francisco Garro de Alegría le debía\", mientras que en el Texto Original se dice \"quien permitiría al autor ir durante este tiempo a representar a Salamanca o a otros sitios para poder cobrar lo que éste le debía\", sin especificar nombres.\n",
      "\n",
      "En resumen, el Texto Aclarativo contiene información adicional, repeticiones y aclaraciones que no están presentes en el Texto Original, por lo que no son iguales.\n",
      "Diferencias encontradas:\n",
      "\n",
      "1. En el Texto Original se dice: \"Cosme Pérez continuaría recibiendo diariamente 32 rs., moneda jaquesa de Aragón, por representación.\"\n",
      "   En el Texto Aclarativo se especifica: \"Cosme Pérez continuaría recibiendo diariamente 32 rs., moneda jaquesa de Aragón, por cada representación.\"\n",
      "\n",
      "2. En el Texto Original: \"Cosme Pérez podía decidir libremente marcharse de la compañía o permanecer en ella hasta cumplir un año de contrato sin que el autor pudiera 'descontarle ni hacerle pagar cantidad alguna por razón de las raciones que le huviere dado en la Quaresma del presente año'.\"\n",
      "   En el Texto Aclarativo se añade el nombre del autor: \"sin que el autor Pedro de la Rosa pudiera 'descontarle ni hacerle pagar cantidad alguna por razón de las raciones que le huviere dado en la Quaresma del presente año'.\"\n",
      "\n",
      "3. En el Texto Original: \"El autor Pedro de la Rosa se comprometía a 'volverle a la villa de Madrid' desde el lugar donde terminasen la temporada, así como a darle tres caballerías y pagarle los gastos del transporte de su ropa.\"\n",
      "   En el Texto Aclarativo se expresa: \"El autor Pedro de la Rosa se comprometía a 'volver a la villa de Madrid a Cosme Pérez' desde el lugar donde terminasen la temporada, así como a darle tres caballerías y pagarle los gastos del transporte de la ropa de Cosme Pérez.\"\n",
      "\n",
      "Estas diferencias son principalmente aclaraciones o reformulaciones que no alteran el contenido esencial, pero sí añaden precisión o especificidad en la redacción.\n",
      "Diferencias encontradas:\n",
      "\n",
      "1. Texto Original:  \n",
      "   \"a favor de Cosme Pérez y Francisco Ortiz, miembros de su compañía, para que concertara fiestas en su nombre.\"  \n",
      "   Texto Aclarativo:  \n",
      "   \"a favor de Cosme Pérez y Francisco Ortiz, miembros de la compañía de Antonio García de Prado, para que Cosme Pérez y Francisco Ortiz concertaran fiestas en nombre de Antonio García de Prado.\"\n",
      "\n",
      "2. Texto Original:  \n",
      "   \"que me dicen que vuestro amigo Juan Rana hace famoso papel, y se me acuerda de lo que os hacía reír\".  \n",
      "   Texto Aclarativo:  \n",
      "   \"que me dicen que vuestro amigo Juan Rana hace famoso papel, y se me acuerda de lo que Juan Rana os hacía reír\".\n",
      "\n",
      "3. Texto Original:  \n",
      "   \"A su vuelta [de Diego de Martos] os daría nuebas de Juan Rana pues se rió harto con él, y justamente porque estubo del buen humor que vos sabéis, y Bernardilla [¿Bernarda Ramírez?] no lo descuida […] Aora hacen los autos en el corral y acude mucha gente a ellos con la buena gana que tienen de visitar aquella santa cassa\".  \n",
      "   Texto Aclarativo:  \n",
      "   \"A la vuelta de Diego de Martos os daría nuevas de Juan Rana pues Juan Rana se rió harto con Diego de Martos, y justamente porque Juan Rana estuvo del buen humor que vos sabéis, y Bernardilla [¿Bernarda Ramírez?] no lo descuida […] Ahora hacen los autos en el corral y acude mucha gente a ellos con la buena gana que tienen de visitar aquella santa casa\".\n",
      "\n",
      "Resumen:  \n",
      "El texto aclarativo amplía y especifica algunos sujetos y acciones (por ejemplo, repite los nombres completos y roles), corrige errores ortográficos (\"nuebas\" → \"nuevas\", \"estubo\" → \"estuvo\", \"Aora\" → \"Ahora\", \"cassa\" → \"casa\") y hace explícitos algunos elementos implícitos en el original. Por tanto, no son idénticos en contenido y significado, aunque la información esencial es la misma.\n",
      "Diferencias encontradas:\n",
      "\n",
      "1. En la cita de Felipe IV:\n",
      "   - Texto Original: \"...que siempre está de tan umor como le dejastes\".\n",
      "   - Texto Aclarativo: \"...que siempre está de tan umor como doña Luisa Enríquez Manrique de Lara le dejastes\".\n",
      "\n",
      "2. En la mediación de Cosme Pérez:\n",
      "   - Texto Original: \"Cosme Pérez, por mediación de su personaje, le hizo llegar un memorial...\"\n",
      "   - Texto Aclarativo: \"Cosme Pérez, por mediación de su personaje Juan Rana, hizo llegar a Mariana de Austria un memorial...\"\n",
      "\n",
      "3. En la solicitud del memorial:\n",
      "   - Texto Original: \"En el memorial solicitaba la concesión de algún oficio palaciego a su hija para, de esta manera, paliar su difícil situación económica y aumentar sus posibilidades de contraer matrimonio.\"\n",
      "   - Texto Aclarativo: \"En el memorial, Cosme Pérez solicitaba la concesión de algún oficio palaciego a su hija para, de esta manera, paliar la difícil situación económica de su hija y aumentar las posibilidades de contraer matrimonio de su hija.\"\n",
      "\n",
      "Resumen: El texto aclarativo añade el nombre completo de doña Luisa en la cita, especifica que el \"personaje\" es Juan Rana y que el memorial fue entregado directamente a Mariana de Austria, y repite explícitamente que la difícil situación económica y las posibilidades de matrimonio se refieren a la hija de Cosme Pérez. Por tanto, el texto aclarativo contiene información adicional y reformulaciones que no están presentes en el texto original.\n"
     ]
    },
    {
     "ename": "KeyboardInterrupt",
     "evalue": "",
     "output_type": "error",
     "traceback": [
      "\u001b[31m---------------------------------------------------------------------------\u001b[39m",
      "\u001b[31mKeyboardInterrupt\u001b[39m                         Traceback (most recent call last)",
      "\u001b[36mCell\u001b[39m\u001b[36m \u001b[39m\u001b[32mIn[15]\u001b[39m\u001b[32m, line 8\u001b[39m\n\u001b[32m      5\u001b[39m original_text = \u001b[33m\"\u001b[39m\u001b[33m \u001b[39m\u001b[33m\"\u001b[39m.join(row[\u001b[33m\"\u001b[39m\u001b[33msentences\u001b[39m\u001b[33m\"\u001b[39m])\n\u001b[32m      6\u001b[39m clarified_text = \u001b[33m\"\u001b[39m\u001b[33m \u001b[39m\u001b[33m\"\u001b[39m.join(row[\u001b[33m\"\u001b[39m\u001b[33mclarified_sentences\u001b[39m\u001b[33m\"\u001b[39m])\n\u001b[32m----> \u001b[39m\u001b[32m8\u001b[39m response = \u001b[43mllm\u001b[49m\u001b[43m.\u001b[49m\u001b[43minvoke\u001b[49m\u001b[43m(\u001b[49m\n\u001b[32m      9\u001b[39m \u001b[43m    \u001b[49m\u001b[43mcomparative_prompt\u001b[49m\u001b[43m.\u001b[49m\u001b[43mformat\u001b[49m\u001b[43m(\u001b[49m\n\u001b[32m     10\u001b[39m \u001b[43m        \u001b[49m\u001b[43moriginal_text\u001b[49m\u001b[43m=\u001b[49m\u001b[43moriginal_text\u001b[49m\u001b[43m,\u001b[49m\n\u001b[32m     11\u001b[39m \u001b[43m        \u001b[49m\u001b[43mclarified_text\u001b[49m\u001b[43m=\u001b[49m\u001b[43mclarified_text\u001b[49m\n\u001b[32m     12\u001b[39m \u001b[43m    \u001b[49m\u001b[43m)\u001b[49m\n\u001b[32m     13\u001b[39m \u001b[43m\u001b[49m\u001b[43m)\u001b[49m.content\n\u001b[32m     14\u001b[39m \u001b[38;5;28mprint\u001b[39m(response)\n\u001b[32m     15\u001b[39m \u001b[38;5;66;03m# if response != \"Iguales\":\u001b[39;00m\n\u001b[32m     16\u001b[39m \u001b[38;5;66;03m#     print(f\"{row['year']}\")\u001b[39;00m\n\u001b[32m     17\u001b[39m \u001b[38;5;66;03m#     rc.print(f\"Original: {original_text}\")\u001b[39;00m\n\u001b[32m     18\u001b[39m \u001b[38;5;66;03m#     print()\u001b[39;00m\n\u001b[32m     19\u001b[39m \u001b[38;5;66;03m#     rc.print(f\"Clarified: {clarified_text}\")\u001b[39;00m\n\u001b[32m     20\u001b[39m \u001b[38;5;66;03m#     print(\"\\n\\n\")\u001b[39;00m\n",
      "\u001b[36mFile \u001b[39m\u001b[32m~/projects/TFM/Prompting/.venv/lib/python3.12/site-packages/langchain_core/language_models/chat_models.py:371\u001b[39m, in \u001b[36mBaseChatModel.invoke\u001b[39m\u001b[34m(self, input, config, stop, **kwargs)\u001b[39m\n\u001b[32m    359\u001b[39m \u001b[38;5;129m@override\u001b[39m\n\u001b[32m    360\u001b[39m \u001b[38;5;28;01mdef\u001b[39;00m\u001b[38;5;250m \u001b[39m\u001b[34minvoke\u001b[39m(\n\u001b[32m    361\u001b[39m     \u001b[38;5;28mself\u001b[39m,\n\u001b[32m   (...)\u001b[39m\u001b[32m    366\u001b[39m     **kwargs: Any,\n\u001b[32m    367\u001b[39m ) -> BaseMessage:\n\u001b[32m    368\u001b[39m     config = ensure_config(config)\n\u001b[32m    369\u001b[39m     \u001b[38;5;28;01mreturn\u001b[39;00m cast(\n\u001b[32m    370\u001b[39m         \u001b[33m\"\u001b[39m\u001b[33mChatGeneration\u001b[39m\u001b[33m\"\u001b[39m,\n\u001b[32m--> \u001b[39m\u001b[32m371\u001b[39m         \u001b[38;5;28;43mself\u001b[39;49m\u001b[43m.\u001b[49m\u001b[43mgenerate_prompt\u001b[49m\u001b[43m(\u001b[49m\n\u001b[32m    372\u001b[39m \u001b[43m            \u001b[49m\u001b[43m[\u001b[49m\u001b[38;5;28;43mself\u001b[39;49m\u001b[43m.\u001b[49m\u001b[43m_convert_input\u001b[49m\u001b[43m(\u001b[49m\u001b[38;5;28;43minput\u001b[39;49m\u001b[43m)\u001b[49m\u001b[43m]\u001b[49m\u001b[43m,\u001b[49m\n\u001b[32m    373\u001b[39m \u001b[43m            \u001b[49m\u001b[43mstop\u001b[49m\u001b[43m=\u001b[49m\u001b[43mstop\u001b[49m\u001b[43m,\u001b[49m\n\u001b[32m    374\u001b[39m \u001b[43m            \u001b[49m\u001b[43mcallbacks\u001b[49m\u001b[43m=\u001b[49m\u001b[43mconfig\u001b[49m\u001b[43m.\u001b[49m\u001b[43mget\u001b[49m\u001b[43m(\u001b[49m\u001b[33;43m\"\u001b[39;49m\u001b[33;43mcallbacks\u001b[39;49m\u001b[33;43m\"\u001b[39;49m\u001b[43m)\u001b[49m\u001b[43m,\u001b[49m\n\u001b[32m    375\u001b[39m \u001b[43m            \u001b[49m\u001b[43mtags\u001b[49m\u001b[43m=\u001b[49m\u001b[43mconfig\u001b[49m\u001b[43m.\u001b[49m\u001b[43mget\u001b[49m\u001b[43m(\u001b[49m\u001b[33;43m\"\u001b[39;49m\u001b[33;43mtags\u001b[39;49m\u001b[33;43m\"\u001b[39;49m\u001b[43m)\u001b[49m\u001b[43m,\u001b[49m\n\u001b[32m    376\u001b[39m \u001b[43m            \u001b[49m\u001b[43mmetadata\u001b[49m\u001b[43m=\u001b[49m\u001b[43mconfig\u001b[49m\u001b[43m.\u001b[49m\u001b[43mget\u001b[49m\u001b[43m(\u001b[49m\u001b[33;43m\"\u001b[39;49m\u001b[33;43mmetadata\u001b[39;49m\u001b[33;43m\"\u001b[39;49m\u001b[43m)\u001b[49m\u001b[43m,\u001b[49m\n\u001b[32m    377\u001b[39m \u001b[43m            \u001b[49m\u001b[43mrun_name\u001b[49m\u001b[43m=\u001b[49m\u001b[43mconfig\u001b[49m\u001b[43m.\u001b[49m\u001b[43mget\u001b[49m\u001b[43m(\u001b[49m\u001b[33;43m\"\u001b[39;49m\u001b[33;43mrun_name\u001b[39;49m\u001b[33;43m\"\u001b[39;49m\u001b[43m)\u001b[49m\u001b[43m,\u001b[49m\n\u001b[32m    378\u001b[39m \u001b[43m            \u001b[49m\u001b[43mrun_id\u001b[49m\u001b[43m=\u001b[49m\u001b[43mconfig\u001b[49m\u001b[43m.\u001b[49m\u001b[43mpop\u001b[49m\u001b[43m(\u001b[49m\u001b[33;43m\"\u001b[39;49m\u001b[33;43mrun_id\u001b[39;49m\u001b[33;43m\"\u001b[39;49m\u001b[43m,\u001b[49m\u001b[43m \u001b[49m\u001b[38;5;28;43;01mNone\u001b[39;49;00m\u001b[43m)\u001b[49m\u001b[43m,\u001b[49m\n\u001b[32m    379\u001b[39m \u001b[43m            \u001b[49m\u001b[43m*\u001b[49m\u001b[43m*\u001b[49m\u001b[43mkwargs\u001b[49m\u001b[43m,\u001b[49m\n\u001b[32m    380\u001b[39m \u001b[43m        \u001b[49m\u001b[43m)\u001b[49m.generations[\u001b[32m0\u001b[39m][\u001b[32m0\u001b[39m],\n\u001b[32m    381\u001b[39m     ).message\n",
      "\u001b[36mFile \u001b[39m\u001b[32m~/projects/TFM/Prompting/.venv/lib/python3.12/site-packages/langchain_core/language_models/chat_models.py:956\u001b[39m, in \u001b[36mBaseChatModel.generate_prompt\u001b[39m\u001b[34m(self, prompts, stop, callbacks, **kwargs)\u001b[39m\n\u001b[32m    947\u001b[39m \u001b[38;5;129m@override\u001b[39m\n\u001b[32m    948\u001b[39m \u001b[38;5;28;01mdef\u001b[39;00m\u001b[38;5;250m \u001b[39m\u001b[34mgenerate_prompt\u001b[39m(\n\u001b[32m    949\u001b[39m     \u001b[38;5;28mself\u001b[39m,\n\u001b[32m   (...)\u001b[39m\u001b[32m    953\u001b[39m     **kwargs: Any,\n\u001b[32m    954\u001b[39m ) -> LLMResult:\n\u001b[32m    955\u001b[39m     prompt_messages = [p.to_messages() \u001b[38;5;28;01mfor\u001b[39;00m p \u001b[38;5;129;01min\u001b[39;00m prompts]\n\u001b[32m--> \u001b[39m\u001b[32m956\u001b[39m     \u001b[38;5;28;01mreturn\u001b[39;00m \u001b[38;5;28;43mself\u001b[39;49m\u001b[43m.\u001b[49m\u001b[43mgenerate\u001b[49m\u001b[43m(\u001b[49m\u001b[43mprompt_messages\u001b[49m\u001b[43m,\u001b[49m\u001b[43m \u001b[49m\u001b[43mstop\u001b[49m\u001b[43m=\u001b[49m\u001b[43mstop\u001b[49m\u001b[43m,\u001b[49m\u001b[43m \u001b[49m\u001b[43mcallbacks\u001b[49m\u001b[43m=\u001b[49m\u001b[43mcallbacks\u001b[49m\u001b[43m,\u001b[49m\u001b[43m \u001b[49m\u001b[43m*\u001b[49m\u001b[43m*\u001b[49m\u001b[43mkwargs\u001b[49m\u001b[43m)\u001b[49m\n",
      "\u001b[36mFile \u001b[39m\u001b[32m~/projects/TFM/Prompting/.venv/lib/python3.12/site-packages/langchain_core/language_models/chat_models.py:775\u001b[39m, in \u001b[36mBaseChatModel.generate\u001b[39m\u001b[34m(self, messages, stop, callbacks, tags, metadata, run_name, run_id, **kwargs)\u001b[39m\n\u001b[32m    772\u001b[39m \u001b[38;5;28;01mfor\u001b[39;00m i, m \u001b[38;5;129;01min\u001b[39;00m \u001b[38;5;28menumerate\u001b[39m(input_messages):\n\u001b[32m    773\u001b[39m     \u001b[38;5;28;01mtry\u001b[39;00m:\n\u001b[32m    774\u001b[39m         results.append(\n\u001b[32m--> \u001b[39m\u001b[32m775\u001b[39m             \u001b[38;5;28;43mself\u001b[39;49m\u001b[43m.\u001b[49m\u001b[43m_generate_with_cache\u001b[49m\u001b[43m(\u001b[49m\n\u001b[32m    776\u001b[39m \u001b[43m                \u001b[49m\u001b[43mm\u001b[49m\u001b[43m,\u001b[49m\n\u001b[32m    777\u001b[39m \u001b[43m                \u001b[49m\u001b[43mstop\u001b[49m\u001b[43m=\u001b[49m\u001b[43mstop\u001b[49m\u001b[43m,\u001b[49m\n\u001b[32m    778\u001b[39m \u001b[43m                \u001b[49m\u001b[43mrun_manager\u001b[49m\u001b[43m=\u001b[49m\u001b[43mrun_managers\u001b[49m\u001b[43m[\u001b[49m\u001b[43mi\u001b[49m\u001b[43m]\u001b[49m\u001b[43m \u001b[49m\u001b[38;5;28;43;01mif\u001b[39;49;00m\u001b[43m \u001b[49m\u001b[43mrun_managers\u001b[49m\u001b[43m \u001b[49m\u001b[38;5;28;43;01melse\u001b[39;49;00m\u001b[43m \u001b[49m\u001b[38;5;28;43;01mNone\u001b[39;49;00m\u001b[43m,\u001b[49m\n\u001b[32m    779\u001b[39m \u001b[43m                \u001b[49m\u001b[43m*\u001b[49m\u001b[43m*\u001b[49m\u001b[43mkwargs\u001b[49m\u001b[43m,\u001b[49m\n\u001b[32m    780\u001b[39m \u001b[43m            \u001b[49m\u001b[43m)\u001b[49m\n\u001b[32m    781\u001b[39m         )\n\u001b[32m    782\u001b[39m     \u001b[38;5;28;01mexcept\u001b[39;00m \u001b[38;5;167;01mBaseException\u001b[39;00m \u001b[38;5;28;01mas\u001b[39;00m e:\n\u001b[32m    783\u001b[39m         \u001b[38;5;28;01mif\u001b[39;00m run_managers:\n",
      "\u001b[36mFile \u001b[39m\u001b[32m~/projects/TFM/Prompting/.venv/lib/python3.12/site-packages/langchain_core/language_models/chat_models.py:1021\u001b[39m, in \u001b[36mBaseChatModel._generate_with_cache\u001b[39m\u001b[34m(self, messages, stop, run_manager, **kwargs)\u001b[39m\n\u001b[32m   1019\u001b[39m     result = generate_from_stream(\u001b[38;5;28miter\u001b[39m(chunks))\n\u001b[32m   1020\u001b[39m \u001b[38;5;28;01melif\u001b[39;00m inspect.signature(\u001b[38;5;28mself\u001b[39m._generate).parameters.get(\u001b[33m\"\u001b[39m\u001b[33mrun_manager\u001b[39m\u001b[33m\"\u001b[39m):\n\u001b[32m-> \u001b[39m\u001b[32m1021\u001b[39m     result = \u001b[38;5;28;43mself\u001b[39;49m\u001b[43m.\u001b[49m\u001b[43m_generate\u001b[49m\u001b[43m(\u001b[49m\n\u001b[32m   1022\u001b[39m \u001b[43m        \u001b[49m\u001b[43mmessages\u001b[49m\u001b[43m,\u001b[49m\u001b[43m \u001b[49m\u001b[43mstop\u001b[49m\u001b[43m=\u001b[49m\u001b[43mstop\u001b[49m\u001b[43m,\u001b[49m\u001b[43m \u001b[49m\u001b[43mrun_manager\u001b[49m\u001b[43m=\u001b[49m\u001b[43mrun_manager\u001b[49m\u001b[43m,\u001b[49m\u001b[43m \u001b[49m\u001b[43m*\u001b[49m\u001b[43m*\u001b[49m\u001b[43mkwargs\u001b[49m\n\u001b[32m   1023\u001b[39m \u001b[43m    \u001b[49m\u001b[43m)\u001b[49m\n\u001b[32m   1024\u001b[39m \u001b[38;5;28;01melse\u001b[39;00m:\n\u001b[32m   1025\u001b[39m     result = \u001b[38;5;28mself\u001b[39m._generate(messages, stop=stop, **kwargs)\n",
      "\u001b[36mFile \u001b[39m\u001b[32m~/projects/TFM/Prompting/.venv/lib/python3.12/site-packages/langchain_openai/chat_models/base.py:961\u001b[39m, in \u001b[36mBaseChatOpenAI._generate\u001b[39m\u001b[34m(self, messages, stop, run_manager, **kwargs)\u001b[39m\n\u001b[32m    959\u001b[39m     generation_info = {\u001b[33m\"\u001b[39m\u001b[33mheaders\u001b[39m\u001b[33m\"\u001b[39m: \u001b[38;5;28mdict\u001b[39m(raw_response.headers)}\n\u001b[32m    960\u001b[39m \u001b[38;5;28;01melse\u001b[39;00m:\n\u001b[32m--> \u001b[39m\u001b[32m961\u001b[39m     response = \u001b[38;5;28;43mself\u001b[39;49m\u001b[43m.\u001b[49m\u001b[43mclient\u001b[49m\u001b[43m.\u001b[49m\u001b[43mcreate\u001b[49m\u001b[43m(\u001b[49m\u001b[43m*\u001b[49m\u001b[43m*\u001b[49m\u001b[43mpayload\u001b[49m\u001b[43m)\u001b[49m\n\u001b[32m    962\u001b[39m \u001b[38;5;28;01mreturn\u001b[39;00m \u001b[38;5;28mself\u001b[39m._create_chat_result(response, generation_info)\n",
      "\u001b[36mFile \u001b[39m\u001b[32m~/projects/TFM/Prompting/.venv/lib/python3.12/site-packages/openai/_utils/_utils.py:287\u001b[39m, in \u001b[36mrequired_args.<locals>.inner.<locals>.wrapper\u001b[39m\u001b[34m(*args, **kwargs)\u001b[39m\n\u001b[32m    285\u001b[39m             msg = \u001b[33mf\u001b[39m\u001b[33m\"\u001b[39m\u001b[33mMissing required argument: \u001b[39m\u001b[38;5;132;01m{\u001b[39;00mquote(missing[\u001b[32m0\u001b[39m])\u001b[38;5;132;01m}\u001b[39;00m\u001b[33m\"\u001b[39m\n\u001b[32m    286\u001b[39m     \u001b[38;5;28;01mraise\u001b[39;00m \u001b[38;5;167;01mTypeError\u001b[39;00m(msg)\n\u001b[32m--> \u001b[39m\u001b[32m287\u001b[39m \u001b[38;5;28;01mreturn\u001b[39;00m \u001b[43mfunc\u001b[49m\u001b[43m(\u001b[49m\u001b[43m*\u001b[49m\u001b[43margs\u001b[49m\u001b[43m,\u001b[49m\u001b[43m \u001b[49m\u001b[43m*\u001b[49m\u001b[43m*\u001b[49m\u001b[43mkwargs\u001b[49m\u001b[43m)\u001b[49m\n",
      "\u001b[36mFile \u001b[39m\u001b[32m~/projects/TFM/Prompting/.venv/lib/python3.12/site-packages/openai/resources/chat/completions/completions.py:925\u001b[39m, in \u001b[36mCompletions.create\u001b[39m\u001b[34m(self, messages, model, audio, frequency_penalty, function_call, functions, logit_bias, logprobs, max_completion_tokens, max_tokens, metadata, modalities, n, parallel_tool_calls, prediction, presence_penalty, reasoning_effort, response_format, seed, service_tier, stop, store, stream, stream_options, temperature, tool_choice, tools, top_logprobs, top_p, user, web_search_options, extra_headers, extra_query, extra_body, timeout)\u001b[39m\n\u001b[32m    882\u001b[39m \u001b[38;5;129m@required_args\u001b[39m([\u001b[33m\"\u001b[39m\u001b[33mmessages\u001b[39m\u001b[33m\"\u001b[39m, \u001b[33m\"\u001b[39m\u001b[33mmodel\u001b[39m\u001b[33m\"\u001b[39m], [\u001b[33m\"\u001b[39m\u001b[33mmessages\u001b[39m\u001b[33m\"\u001b[39m, \u001b[33m\"\u001b[39m\u001b[33mmodel\u001b[39m\u001b[33m\"\u001b[39m, \u001b[33m\"\u001b[39m\u001b[33mstream\u001b[39m\u001b[33m\"\u001b[39m])\n\u001b[32m    883\u001b[39m \u001b[38;5;28;01mdef\u001b[39;00m\u001b[38;5;250m \u001b[39m\u001b[34mcreate\u001b[39m(\n\u001b[32m    884\u001b[39m     \u001b[38;5;28mself\u001b[39m,\n\u001b[32m   (...)\u001b[39m\u001b[32m    922\u001b[39m     timeout: \u001b[38;5;28mfloat\u001b[39m | httpx.Timeout | \u001b[38;5;28;01mNone\u001b[39;00m | NotGiven = NOT_GIVEN,\n\u001b[32m    923\u001b[39m ) -> ChatCompletion | Stream[ChatCompletionChunk]:\n\u001b[32m    924\u001b[39m     validate_response_format(response_format)\n\u001b[32m--> \u001b[39m\u001b[32m925\u001b[39m     \u001b[38;5;28;01mreturn\u001b[39;00m \u001b[38;5;28;43mself\u001b[39;49m\u001b[43m.\u001b[49m\u001b[43m_post\u001b[49m\u001b[43m(\u001b[49m\n\u001b[32m    926\u001b[39m \u001b[43m        \u001b[49m\u001b[33;43m\"\u001b[39;49m\u001b[33;43m/chat/completions\u001b[39;49m\u001b[33;43m\"\u001b[39;49m\u001b[43m,\u001b[49m\n\u001b[32m    927\u001b[39m \u001b[43m        \u001b[49m\u001b[43mbody\u001b[49m\u001b[43m=\u001b[49m\u001b[43mmaybe_transform\u001b[49m\u001b[43m(\u001b[49m\n\u001b[32m    928\u001b[39m \u001b[43m            \u001b[49m\u001b[43m{\u001b[49m\n\u001b[32m    929\u001b[39m \u001b[43m                \u001b[49m\u001b[33;43m\"\u001b[39;49m\u001b[33;43mmessages\u001b[39;49m\u001b[33;43m\"\u001b[39;49m\u001b[43m:\u001b[49m\u001b[43m \u001b[49m\u001b[43mmessages\u001b[49m\u001b[43m,\u001b[49m\n\u001b[32m    930\u001b[39m \u001b[43m                \u001b[49m\u001b[33;43m\"\u001b[39;49m\u001b[33;43mmodel\u001b[39;49m\u001b[33;43m\"\u001b[39;49m\u001b[43m:\u001b[49m\u001b[43m \u001b[49m\u001b[43mmodel\u001b[49m\u001b[43m,\u001b[49m\n\u001b[32m    931\u001b[39m \u001b[43m                \u001b[49m\u001b[33;43m\"\u001b[39;49m\u001b[33;43maudio\u001b[39;49m\u001b[33;43m\"\u001b[39;49m\u001b[43m:\u001b[49m\u001b[43m \u001b[49m\u001b[43maudio\u001b[49m\u001b[43m,\u001b[49m\n\u001b[32m    932\u001b[39m \u001b[43m                \u001b[49m\u001b[33;43m\"\u001b[39;49m\u001b[33;43mfrequency_penalty\u001b[39;49m\u001b[33;43m\"\u001b[39;49m\u001b[43m:\u001b[49m\u001b[43m \u001b[49m\u001b[43mfrequency_penalty\u001b[49m\u001b[43m,\u001b[49m\n\u001b[32m    933\u001b[39m \u001b[43m                \u001b[49m\u001b[33;43m\"\u001b[39;49m\u001b[33;43mfunction_call\u001b[39;49m\u001b[33;43m\"\u001b[39;49m\u001b[43m:\u001b[49m\u001b[43m \u001b[49m\u001b[43mfunction_call\u001b[49m\u001b[43m,\u001b[49m\n\u001b[32m    934\u001b[39m \u001b[43m                \u001b[49m\u001b[33;43m\"\u001b[39;49m\u001b[33;43mfunctions\u001b[39;49m\u001b[33;43m\"\u001b[39;49m\u001b[43m:\u001b[49m\u001b[43m \u001b[49m\u001b[43mfunctions\u001b[49m\u001b[43m,\u001b[49m\n\u001b[32m    935\u001b[39m \u001b[43m                \u001b[49m\u001b[33;43m\"\u001b[39;49m\u001b[33;43mlogit_bias\u001b[39;49m\u001b[33;43m\"\u001b[39;49m\u001b[43m:\u001b[49m\u001b[43m \u001b[49m\u001b[43mlogit_bias\u001b[49m\u001b[43m,\u001b[49m\n\u001b[32m    936\u001b[39m \u001b[43m                \u001b[49m\u001b[33;43m\"\u001b[39;49m\u001b[33;43mlogprobs\u001b[39;49m\u001b[33;43m\"\u001b[39;49m\u001b[43m:\u001b[49m\u001b[43m \u001b[49m\u001b[43mlogprobs\u001b[49m\u001b[43m,\u001b[49m\n\u001b[32m    937\u001b[39m \u001b[43m                \u001b[49m\u001b[33;43m\"\u001b[39;49m\u001b[33;43mmax_completion_tokens\u001b[39;49m\u001b[33;43m\"\u001b[39;49m\u001b[43m:\u001b[49m\u001b[43m \u001b[49m\u001b[43mmax_completion_tokens\u001b[49m\u001b[43m,\u001b[49m\n\u001b[32m    938\u001b[39m \u001b[43m                \u001b[49m\u001b[33;43m\"\u001b[39;49m\u001b[33;43mmax_tokens\u001b[39;49m\u001b[33;43m\"\u001b[39;49m\u001b[43m:\u001b[49m\u001b[43m \u001b[49m\u001b[43mmax_tokens\u001b[49m\u001b[43m,\u001b[49m\n\u001b[32m    939\u001b[39m \u001b[43m                \u001b[49m\u001b[33;43m\"\u001b[39;49m\u001b[33;43mmetadata\u001b[39;49m\u001b[33;43m\"\u001b[39;49m\u001b[43m:\u001b[49m\u001b[43m \u001b[49m\u001b[43mmetadata\u001b[49m\u001b[43m,\u001b[49m\n\u001b[32m    940\u001b[39m \u001b[43m                \u001b[49m\u001b[33;43m\"\u001b[39;49m\u001b[33;43mmodalities\u001b[39;49m\u001b[33;43m\"\u001b[39;49m\u001b[43m:\u001b[49m\u001b[43m \u001b[49m\u001b[43mmodalities\u001b[49m\u001b[43m,\u001b[49m\n\u001b[32m    941\u001b[39m \u001b[43m                \u001b[49m\u001b[33;43m\"\u001b[39;49m\u001b[33;43mn\u001b[39;49m\u001b[33;43m\"\u001b[39;49m\u001b[43m:\u001b[49m\u001b[43m \u001b[49m\u001b[43mn\u001b[49m\u001b[43m,\u001b[49m\n\u001b[32m    942\u001b[39m \u001b[43m                \u001b[49m\u001b[33;43m\"\u001b[39;49m\u001b[33;43mparallel_tool_calls\u001b[39;49m\u001b[33;43m\"\u001b[39;49m\u001b[43m:\u001b[49m\u001b[43m \u001b[49m\u001b[43mparallel_tool_calls\u001b[49m\u001b[43m,\u001b[49m\n\u001b[32m    943\u001b[39m \u001b[43m                \u001b[49m\u001b[33;43m\"\u001b[39;49m\u001b[33;43mprediction\u001b[39;49m\u001b[33;43m\"\u001b[39;49m\u001b[43m:\u001b[49m\u001b[43m \u001b[49m\u001b[43mprediction\u001b[49m\u001b[43m,\u001b[49m\n\u001b[32m    944\u001b[39m \u001b[43m                \u001b[49m\u001b[33;43m\"\u001b[39;49m\u001b[33;43mpresence_penalty\u001b[39;49m\u001b[33;43m\"\u001b[39;49m\u001b[43m:\u001b[49m\u001b[43m \u001b[49m\u001b[43mpresence_penalty\u001b[49m\u001b[43m,\u001b[49m\n\u001b[32m    945\u001b[39m \u001b[43m                \u001b[49m\u001b[33;43m\"\u001b[39;49m\u001b[33;43mreasoning_effort\u001b[39;49m\u001b[33;43m\"\u001b[39;49m\u001b[43m:\u001b[49m\u001b[43m \u001b[49m\u001b[43mreasoning_effort\u001b[49m\u001b[43m,\u001b[49m\n\u001b[32m    946\u001b[39m \u001b[43m                \u001b[49m\u001b[33;43m\"\u001b[39;49m\u001b[33;43mresponse_format\u001b[39;49m\u001b[33;43m\"\u001b[39;49m\u001b[43m:\u001b[49m\u001b[43m \u001b[49m\u001b[43mresponse_format\u001b[49m\u001b[43m,\u001b[49m\n\u001b[32m    947\u001b[39m \u001b[43m                \u001b[49m\u001b[33;43m\"\u001b[39;49m\u001b[33;43mseed\u001b[39;49m\u001b[33;43m\"\u001b[39;49m\u001b[43m:\u001b[49m\u001b[43m \u001b[49m\u001b[43mseed\u001b[49m\u001b[43m,\u001b[49m\n\u001b[32m    948\u001b[39m \u001b[43m                \u001b[49m\u001b[33;43m\"\u001b[39;49m\u001b[33;43mservice_tier\u001b[39;49m\u001b[33;43m\"\u001b[39;49m\u001b[43m:\u001b[49m\u001b[43m \u001b[49m\u001b[43mservice_tier\u001b[49m\u001b[43m,\u001b[49m\n\u001b[32m    949\u001b[39m \u001b[43m                \u001b[49m\u001b[33;43m\"\u001b[39;49m\u001b[33;43mstop\u001b[39;49m\u001b[33;43m\"\u001b[39;49m\u001b[43m:\u001b[49m\u001b[43m \u001b[49m\u001b[43mstop\u001b[49m\u001b[43m,\u001b[49m\n\u001b[32m    950\u001b[39m \u001b[43m                \u001b[49m\u001b[33;43m\"\u001b[39;49m\u001b[33;43mstore\u001b[39;49m\u001b[33;43m\"\u001b[39;49m\u001b[43m:\u001b[49m\u001b[43m \u001b[49m\u001b[43mstore\u001b[49m\u001b[43m,\u001b[49m\n\u001b[32m    951\u001b[39m \u001b[43m                \u001b[49m\u001b[33;43m\"\u001b[39;49m\u001b[33;43mstream\u001b[39;49m\u001b[33;43m\"\u001b[39;49m\u001b[43m:\u001b[49m\u001b[43m \u001b[49m\u001b[43mstream\u001b[49m\u001b[43m,\u001b[49m\n\u001b[32m    952\u001b[39m \u001b[43m                \u001b[49m\u001b[33;43m\"\u001b[39;49m\u001b[33;43mstream_options\u001b[39;49m\u001b[33;43m\"\u001b[39;49m\u001b[43m:\u001b[49m\u001b[43m \u001b[49m\u001b[43mstream_options\u001b[49m\u001b[43m,\u001b[49m\n\u001b[32m    953\u001b[39m \u001b[43m                \u001b[49m\u001b[33;43m\"\u001b[39;49m\u001b[33;43mtemperature\u001b[39;49m\u001b[33;43m\"\u001b[39;49m\u001b[43m:\u001b[49m\u001b[43m \u001b[49m\u001b[43mtemperature\u001b[49m\u001b[43m,\u001b[49m\n\u001b[32m    954\u001b[39m \u001b[43m                \u001b[49m\u001b[33;43m\"\u001b[39;49m\u001b[33;43mtool_choice\u001b[39;49m\u001b[33;43m\"\u001b[39;49m\u001b[43m:\u001b[49m\u001b[43m \u001b[49m\u001b[43mtool_choice\u001b[49m\u001b[43m,\u001b[49m\n\u001b[32m    955\u001b[39m \u001b[43m                \u001b[49m\u001b[33;43m\"\u001b[39;49m\u001b[33;43mtools\u001b[39;49m\u001b[33;43m\"\u001b[39;49m\u001b[43m:\u001b[49m\u001b[43m \u001b[49m\u001b[43mtools\u001b[49m\u001b[43m,\u001b[49m\n\u001b[32m    956\u001b[39m \u001b[43m                \u001b[49m\u001b[33;43m\"\u001b[39;49m\u001b[33;43mtop_logprobs\u001b[39;49m\u001b[33;43m\"\u001b[39;49m\u001b[43m:\u001b[49m\u001b[43m \u001b[49m\u001b[43mtop_logprobs\u001b[49m\u001b[43m,\u001b[49m\n\u001b[32m    957\u001b[39m \u001b[43m                \u001b[49m\u001b[33;43m\"\u001b[39;49m\u001b[33;43mtop_p\u001b[39;49m\u001b[33;43m\"\u001b[39;49m\u001b[43m:\u001b[49m\u001b[43m \u001b[49m\u001b[43mtop_p\u001b[49m\u001b[43m,\u001b[49m\n\u001b[32m    958\u001b[39m \u001b[43m                \u001b[49m\u001b[33;43m\"\u001b[39;49m\u001b[33;43muser\u001b[39;49m\u001b[33;43m\"\u001b[39;49m\u001b[43m:\u001b[49m\u001b[43m \u001b[49m\u001b[43muser\u001b[49m\u001b[43m,\u001b[49m\n\u001b[32m    959\u001b[39m \u001b[43m                \u001b[49m\u001b[33;43m\"\u001b[39;49m\u001b[33;43mweb_search_options\u001b[39;49m\u001b[33;43m\"\u001b[39;49m\u001b[43m:\u001b[49m\u001b[43m \u001b[49m\u001b[43mweb_search_options\u001b[49m\u001b[43m,\u001b[49m\n\u001b[32m    960\u001b[39m \u001b[43m            \u001b[49m\u001b[43m}\u001b[49m\u001b[43m,\u001b[49m\n\u001b[32m    961\u001b[39m \u001b[43m            \u001b[49m\u001b[43mcompletion_create_params\u001b[49m\u001b[43m.\u001b[49m\u001b[43mCompletionCreateParamsStreaming\u001b[49m\n\u001b[32m    962\u001b[39m \u001b[43m            \u001b[49m\u001b[38;5;28;43;01mif\u001b[39;49;00m\u001b[43m \u001b[49m\u001b[43mstream\u001b[49m\n\u001b[32m    963\u001b[39m \u001b[43m            \u001b[49m\u001b[38;5;28;43;01melse\u001b[39;49;00m\u001b[43m \u001b[49m\u001b[43mcompletion_create_params\u001b[49m\u001b[43m.\u001b[49m\u001b[43mCompletionCreateParamsNonStreaming\u001b[49m\u001b[43m,\u001b[49m\n\u001b[32m    964\u001b[39m \u001b[43m        \u001b[49m\u001b[43m)\u001b[49m\u001b[43m,\u001b[49m\n\u001b[32m    965\u001b[39m \u001b[43m        \u001b[49m\u001b[43moptions\u001b[49m\u001b[43m=\u001b[49m\u001b[43mmake_request_options\u001b[49m\u001b[43m(\u001b[49m\n\u001b[32m    966\u001b[39m \u001b[43m            \u001b[49m\u001b[43mextra_headers\u001b[49m\u001b[43m=\u001b[49m\u001b[43mextra_headers\u001b[49m\u001b[43m,\u001b[49m\u001b[43m \u001b[49m\u001b[43mextra_query\u001b[49m\u001b[43m=\u001b[49m\u001b[43mextra_query\u001b[49m\u001b[43m,\u001b[49m\u001b[43m \u001b[49m\u001b[43mextra_body\u001b[49m\u001b[43m=\u001b[49m\u001b[43mextra_body\u001b[49m\u001b[43m,\u001b[49m\u001b[43m \u001b[49m\u001b[43mtimeout\u001b[49m\u001b[43m=\u001b[49m\u001b[43mtimeout\u001b[49m\n\u001b[32m    967\u001b[39m \u001b[43m        \u001b[49m\u001b[43m)\u001b[49m\u001b[43m,\u001b[49m\n\u001b[32m    968\u001b[39m \u001b[43m        \u001b[49m\u001b[43mcast_to\u001b[49m\u001b[43m=\u001b[49m\u001b[43mChatCompletion\u001b[49m\u001b[43m,\u001b[49m\n\u001b[32m    969\u001b[39m \u001b[43m        \u001b[49m\u001b[43mstream\u001b[49m\u001b[43m=\u001b[49m\u001b[43mstream\u001b[49m\u001b[43m \u001b[49m\u001b[38;5;129;43;01mor\u001b[39;49;00m\u001b[43m \u001b[49m\u001b[38;5;28;43;01mFalse\u001b[39;49;00m\u001b[43m,\u001b[49m\n\u001b[32m    970\u001b[39m \u001b[43m        \u001b[49m\u001b[43mstream_cls\u001b[49m\u001b[43m=\u001b[49m\u001b[43mStream\u001b[49m\u001b[43m[\u001b[49m\u001b[43mChatCompletionChunk\u001b[49m\u001b[43m]\u001b[49m\u001b[43m,\u001b[49m\n\u001b[32m    971\u001b[39m \u001b[43m    \u001b[49m\u001b[43m)\u001b[49m\n",
      "\u001b[36mFile \u001b[39m\u001b[32m~/projects/TFM/Prompting/.venv/lib/python3.12/site-packages/openai/_base_client.py:1239\u001b[39m, in \u001b[36mSyncAPIClient.post\u001b[39m\u001b[34m(self, path, cast_to, body, options, files, stream, stream_cls)\u001b[39m\n\u001b[32m   1225\u001b[39m \u001b[38;5;28;01mdef\u001b[39;00m\u001b[38;5;250m \u001b[39m\u001b[34mpost\u001b[39m(\n\u001b[32m   1226\u001b[39m     \u001b[38;5;28mself\u001b[39m,\n\u001b[32m   1227\u001b[39m     path: \u001b[38;5;28mstr\u001b[39m,\n\u001b[32m   (...)\u001b[39m\u001b[32m   1234\u001b[39m     stream_cls: \u001b[38;5;28mtype\u001b[39m[_StreamT] | \u001b[38;5;28;01mNone\u001b[39;00m = \u001b[38;5;28;01mNone\u001b[39;00m,\n\u001b[32m   1235\u001b[39m ) -> ResponseT | _StreamT:\n\u001b[32m   1236\u001b[39m     opts = FinalRequestOptions.construct(\n\u001b[32m   1237\u001b[39m         method=\u001b[33m\"\u001b[39m\u001b[33mpost\u001b[39m\u001b[33m\"\u001b[39m, url=path, json_data=body, files=to_httpx_files(files), **options\n\u001b[32m   1238\u001b[39m     )\n\u001b[32m-> \u001b[39m\u001b[32m1239\u001b[39m     \u001b[38;5;28;01mreturn\u001b[39;00m cast(ResponseT, \u001b[38;5;28;43mself\u001b[39;49m\u001b[43m.\u001b[49m\u001b[43mrequest\u001b[49m\u001b[43m(\u001b[49m\u001b[43mcast_to\u001b[49m\u001b[43m,\u001b[49m\u001b[43m \u001b[49m\u001b[43mopts\u001b[49m\u001b[43m,\u001b[49m\u001b[43m \u001b[49m\u001b[43mstream\u001b[49m\u001b[43m=\u001b[49m\u001b[43mstream\u001b[49m\u001b[43m,\u001b[49m\u001b[43m \u001b[49m\u001b[43mstream_cls\u001b[49m\u001b[43m=\u001b[49m\u001b[43mstream_cls\u001b[49m\u001b[43m)\u001b[49m)\n",
      "\u001b[36mFile \u001b[39m\u001b[32m~/projects/TFM/Prompting/.venv/lib/python3.12/site-packages/openai/_base_client.py:969\u001b[39m, in \u001b[36mSyncAPIClient.request\u001b[39m\u001b[34m(self, cast_to, options, stream, stream_cls)\u001b[39m\n\u001b[32m    967\u001b[39m response = \u001b[38;5;28;01mNone\u001b[39;00m\n\u001b[32m    968\u001b[39m \u001b[38;5;28;01mtry\u001b[39;00m:\n\u001b[32m--> \u001b[39m\u001b[32m969\u001b[39m     response = \u001b[38;5;28;43mself\u001b[39;49m\u001b[43m.\u001b[49m\u001b[43m_client\u001b[49m\u001b[43m.\u001b[49m\u001b[43msend\u001b[49m\u001b[43m(\u001b[49m\n\u001b[32m    970\u001b[39m \u001b[43m        \u001b[49m\u001b[43mrequest\u001b[49m\u001b[43m,\u001b[49m\n\u001b[32m    971\u001b[39m \u001b[43m        \u001b[49m\u001b[43mstream\u001b[49m\u001b[43m=\u001b[49m\u001b[43mstream\u001b[49m\u001b[43m \u001b[49m\u001b[38;5;129;43;01mor\u001b[39;49;00m\u001b[43m \u001b[49m\u001b[38;5;28;43mself\u001b[39;49m\u001b[43m.\u001b[49m\u001b[43m_should_stream_response_body\u001b[49m\u001b[43m(\u001b[49m\u001b[43mrequest\u001b[49m\u001b[43m=\u001b[49m\u001b[43mrequest\u001b[49m\u001b[43m)\u001b[49m\u001b[43m,\u001b[49m\n\u001b[32m    972\u001b[39m \u001b[43m        \u001b[49m\u001b[43m*\u001b[49m\u001b[43m*\u001b[49m\u001b[43mkwargs\u001b[49m\u001b[43m,\u001b[49m\n\u001b[32m    973\u001b[39m \u001b[43m    \u001b[49m\u001b[43m)\u001b[49m\n\u001b[32m    974\u001b[39m \u001b[38;5;28;01mexcept\u001b[39;00m httpx.TimeoutException \u001b[38;5;28;01mas\u001b[39;00m err:\n\u001b[32m    975\u001b[39m     log.debug(\u001b[33m\"\u001b[39m\u001b[33mEncountered httpx.TimeoutException\u001b[39m\u001b[33m\"\u001b[39m, exc_info=\u001b[38;5;28;01mTrue\u001b[39;00m)\n",
      "\u001b[36mFile \u001b[39m\u001b[32m~/projects/TFM/Prompting/.venv/lib/python3.12/site-packages/httpx/_client.py:914\u001b[39m, in \u001b[36mClient.send\u001b[39m\u001b[34m(self, request, stream, auth, follow_redirects)\u001b[39m\n\u001b[32m    910\u001b[39m \u001b[38;5;28mself\u001b[39m._set_timeout(request)\n\u001b[32m    912\u001b[39m auth = \u001b[38;5;28mself\u001b[39m._build_request_auth(request, auth)\n\u001b[32m--> \u001b[39m\u001b[32m914\u001b[39m response = \u001b[38;5;28;43mself\u001b[39;49m\u001b[43m.\u001b[49m\u001b[43m_send_handling_auth\u001b[49m\u001b[43m(\u001b[49m\n\u001b[32m    915\u001b[39m \u001b[43m    \u001b[49m\u001b[43mrequest\u001b[49m\u001b[43m,\u001b[49m\n\u001b[32m    916\u001b[39m \u001b[43m    \u001b[49m\u001b[43mauth\u001b[49m\u001b[43m=\u001b[49m\u001b[43mauth\u001b[49m\u001b[43m,\u001b[49m\n\u001b[32m    917\u001b[39m \u001b[43m    \u001b[49m\u001b[43mfollow_redirects\u001b[49m\u001b[43m=\u001b[49m\u001b[43mfollow_redirects\u001b[49m\u001b[43m,\u001b[49m\n\u001b[32m    918\u001b[39m \u001b[43m    \u001b[49m\u001b[43mhistory\u001b[49m\u001b[43m=\u001b[49m\u001b[43m[\u001b[49m\u001b[43m]\u001b[49m\u001b[43m,\u001b[49m\n\u001b[32m    919\u001b[39m \u001b[43m\u001b[49m\u001b[43m)\u001b[49m\n\u001b[32m    920\u001b[39m \u001b[38;5;28;01mtry\u001b[39;00m:\n\u001b[32m    921\u001b[39m     \u001b[38;5;28;01mif\u001b[39;00m \u001b[38;5;129;01mnot\u001b[39;00m stream:\n",
      "\u001b[36mFile \u001b[39m\u001b[32m~/projects/TFM/Prompting/.venv/lib/python3.12/site-packages/httpx/_client.py:942\u001b[39m, in \u001b[36mClient._send_handling_auth\u001b[39m\u001b[34m(self, request, auth, follow_redirects, history)\u001b[39m\n\u001b[32m    939\u001b[39m request = \u001b[38;5;28mnext\u001b[39m(auth_flow)\n\u001b[32m    941\u001b[39m \u001b[38;5;28;01mwhile\u001b[39;00m \u001b[38;5;28;01mTrue\u001b[39;00m:\n\u001b[32m--> \u001b[39m\u001b[32m942\u001b[39m     response = \u001b[38;5;28;43mself\u001b[39;49m\u001b[43m.\u001b[49m\u001b[43m_send_handling_redirects\u001b[49m\u001b[43m(\u001b[49m\n\u001b[32m    943\u001b[39m \u001b[43m        \u001b[49m\u001b[43mrequest\u001b[49m\u001b[43m,\u001b[49m\n\u001b[32m    944\u001b[39m \u001b[43m        \u001b[49m\u001b[43mfollow_redirects\u001b[49m\u001b[43m=\u001b[49m\u001b[43mfollow_redirects\u001b[49m\u001b[43m,\u001b[49m\n\u001b[32m    945\u001b[39m \u001b[43m        \u001b[49m\u001b[43mhistory\u001b[49m\u001b[43m=\u001b[49m\u001b[43mhistory\u001b[49m\u001b[43m,\u001b[49m\n\u001b[32m    946\u001b[39m \u001b[43m    \u001b[49m\u001b[43m)\u001b[49m\n\u001b[32m    947\u001b[39m     \u001b[38;5;28;01mtry\u001b[39;00m:\n\u001b[32m    948\u001b[39m         \u001b[38;5;28;01mtry\u001b[39;00m:\n",
      "\u001b[36mFile \u001b[39m\u001b[32m~/projects/TFM/Prompting/.venv/lib/python3.12/site-packages/httpx/_client.py:979\u001b[39m, in \u001b[36mClient._send_handling_redirects\u001b[39m\u001b[34m(self, request, follow_redirects, history)\u001b[39m\n\u001b[32m    976\u001b[39m \u001b[38;5;28;01mfor\u001b[39;00m hook \u001b[38;5;129;01min\u001b[39;00m \u001b[38;5;28mself\u001b[39m._event_hooks[\u001b[33m\"\u001b[39m\u001b[33mrequest\u001b[39m\u001b[33m\"\u001b[39m]:\n\u001b[32m    977\u001b[39m     hook(request)\n\u001b[32m--> \u001b[39m\u001b[32m979\u001b[39m response = \u001b[38;5;28;43mself\u001b[39;49m\u001b[43m.\u001b[49m\u001b[43m_send_single_request\u001b[49m\u001b[43m(\u001b[49m\u001b[43mrequest\u001b[49m\u001b[43m)\u001b[49m\n\u001b[32m    980\u001b[39m \u001b[38;5;28;01mtry\u001b[39;00m:\n\u001b[32m    981\u001b[39m     \u001b[38;5;28;01mfor\u001b[39;00m hook \u001b[38;5;129;01min\u001b[39;00m \u001b[38;5;28mself\u001b[39m._event_hooks[\u001b[33m\"\u001b[39m\u001b[33mresponse\u001b[39m\u001b[33m\"\u001b[39m]:\n",
      "\u001b[36mFile \u001b[39m\u001b[32m~/projects/TFM/Prompting/.venv/lib/python3.12/site-packages/httpx/_client.py:1014\u001b[39m, in \u001b[36mClient._send_single_request\u001b[39m\u001b[34m(self, request)\u001b[39m\n\u001b[32m   1009\u001b[39m     \u001b[38;5;28;01mraise\u001b[39;00m \u001b[38;5;167;01mRuntimeError\u001b[39;00m(\n\u001b[32m   1010\u001b[39m         \u001b[33m\"\u001b[39m\u001b[33mAttempted to send an async request with a sync Client instance.\u001b[39m\u001b[33m\"\u001b[39m\n\u001b[32m   1011\u001b[39m     )\n\u001b[32m   1013\u001b[39m \u001b[38;5;28;01mwith\u001b[39;00m request_context(request=request):\n\u001b[32m-> \u001b[39m\u001b[32m1014\u001b[39m     response = \u001b[43mtransport\u001b[49m\u001b[43m.\u001b[49m\u001b[43mhandle_request\u001b[49m\u001b[43m(\u001b[49m\u001b[43mrequest\u001b[49m\u001b[43m)\u001b[49m\n\u001b[32m   1016\u001b[39m \u001b[38;5;28;01massert\u001b[39;00m \u001b[38;5;28misinstance\u001b[39m(response.stream, SyncByteStream)\n\u001b[32m   1018\u001b[39m response.request = request\n",
      "\u001b[36mFile \u001b[39m\u001b[32m~/projects/TFM/Prompting/.venv/lib/python3.12/site-packages/httpx/_transports/default.py:250\u001b[39m, in \u001b[36mHTTPTransport.handle_request\u001b[39m\u001b[34m(self, request)\u001b[39m\n\u001b[32m    237\u001b[39m req = httpcore.Request(\n\u001b[32m    238\u001b[39m     method=request.method,\n\u001b[32m    239\u001b[39m     url=httpcore.URL(\n\u001b[32m   (...)\u001b[39m\u001b[32m    247\u001b[39m     extensions=request.extensions,\n\u001b[32m    248\u001b[39m )\n\u001b[32m    249\u001b[39m \u001b[38;5;28;01mwith\u001b[39;00m map_httpcore_exceptions():\n\u001b[32m--> \u001b[39m\u001b[32m250\u001b[39m     resp = \u001b[38;5;28;43mself\u001b[39;49m\u001b[43m.\u001b[49m\u001b[43m_pool\u001b[49m\u001b[43m.\u001b[49m\u001b[43mhandle_request\u001b[49m\u001b[43m(\u001b[49m\u001b[43mreq\u001b[49m\u001b[43m)\u001b[49m\n\u001b[32m    252\u001b[39m \u001b[38;5;28;01massert\u001b[39;00m \u001b[38;5;28misinstance\u001b[39m(resp.stream, typing.Iterable)\n\u001b[32m    254\u001b[39m \u001b[38;5;28;01mreturn\u001b[39;00m Response(\n\u001b[32m    255\u001b[39m     status_code=resp.status,\n\u001b[32m    256\u001b[39m     headers=resp.headers,\n\u001b[32m    257\u001b[39m     stream=ResponseStream(resp.stream),\n\u001b[32m    258\u001b[39m     extensions=resp.extensions,\n\u001b[32m    259\u001b[39m )\n",
      "\u001b[36mFile \u001b[39m\u001b[32m~/projects/TFM/Prompting/.venv/lib/python3.12/site-packages/httpcore/_sync/connection_pool.py:256\u001b[39m, in \u001b[36mConnectionPool.handle_request\u001b[39m\u001b[34m(self, request)\u001b[39m\n\u001b[32m    253\u001b[39m         closing = \u001b[38;5;28mself\u001b[39m._assign_requests_to_connections()\n\u001b[32m    255\u001b[39m     \u001b[38;5;28mself\u001b[39m._close_connections(closing)\n\u001b[32m--> \u001b[39m\u001b[32m256\u001b[39m     \u001b[38;5;28;01mraise\u001b[39;00m exc \u001b[38;5;28;01mfrom\u001b[39;00m\u001b[38;5;250m \u001b[39m\u001b[38;5;28;01mNone\u001b[39;00m\n\u001b[32m    258\u001b[39m \u001b[38;5;66;03m# Return the response. Note that in this case we still have to manage\u001b[39;00m\n\u001b[32m    259\u001b[39m \u001b[38;5;66;03m# the point at which the response is closed.\u001b[39;00m\n\u001b[32m    260\u001b[39m \u001b[38;5;28;01massert\u001b[39;00m \u001b[38;5;28misinstance\u001b[39m(response.stream, typing.Iterable)\n",
      "\u001b[36mFile \u001b[39m\u001b[32m~/projects/TFM/Prompting/.venv/lib/python3.12/site-packages/httpcore/_sync/connection_pool.py:236\u001b[39m, in \u001b[36mConnectionPool.handle_request\u001b[39m\u001b[34m(self, request)\u001b[39m\n\u001b[32m    232\u001b[39m connection = pool_request.wait_for_connection(timeout=timeout)\n\u001b[32m    234\u001b[39m \u001b[38;5;28;01mtry\u001b[39;00m:\n\u001b[32m    235\u001b[39m     \u001b[38;5;66;03m# Send the request on the assigned connection.\u001b[39;00m\n\u001b[32m--> \u001b[39m\u001b[32m236\u001b[39m     response = \u001b[43mconnection\u001b[49m\u001b[43m.\u001b[49m\u001b[43mhandle_request\u001b[49m\u001b[43m(\u001b[49m\n\u001b[32m    237\u001b[39m \u001b[43m        \u001b[49m\u001b[43mpool_request\u001b[49m\u001b[43m.\u001b[49m\u001b[43mrequest\u001b[49m\n\u001b[32m    238\u001b[39m \u001b[43m    \u001b[49m\u001b[43m)\u001b[49m\n\u001b[32m    239\u001b[39m \u001b[38;5;28;01mexcept\u001b[39;00m ConnectionNotAvailable:\n\u001b[32m    240\u001b[39m     \u001b[38;5;66;03m# In some cases a connection may initially be available to\u001b[39;00m\n\u001b[32m    241\u001b[39m     \u001b[38;5;66;03m# handle a request, but then become unavailable.\u001b[39;00m\n\u001b[32m    242\u001b[39m     \u001b[38;5;66;03m#\u001b[39;00m\n\u001b[32m    243\u001b[39m     \u001b[38;5;66;03m# In this case we clear the connection and try again.\u001b[39;00m\n\u001b[32m    244\u001b[39m     pool_request.clear_connection()\n",
      "\u001b[36mFile \u001b[39m\u001b[32m~/projects/TFM/Prompting/.venv/lib/python3.12/site-packages/httpcore/_sync/connection.py:103\u001b[39m, in \u001b[36mHTTPConnection.handle_request\u001b[39m\u001b[34m(self, request)\u001b[39m\n\u001b[32m    100\u001b[39m     \u001b[38;5;28mself\u001b[39m._connect_failed = \u001b[38;5;28;01mTrue\u001b[39;00m\n\u001b[32m    101\u001b[39m     \u001b[38;5;28;01mraise\u001b[39;00m exc\n\u001b[32m--> \u001b[39m\u001b[32m103\u001b[39m \u001b[38;5;28;01mreturn\u001b[39;00m \u001b[38;5;28;43mself\u001b[39;49m\u001b[43m.\u001b[49m\u001b[43m_connection\u001b[49m\u001b[43m.\u001b[49m\u001b[43mhandle_request\u001b[49m\u001b[43m(\u001b[49m\u001b[43mrequest\u001b[49m\u001b[43m)\u001b[49m\n",
      "\u001b[36mFile \u001b[39m\u001b[32m~/projects/TFM/Prompting/.venv/lib/python3.12/site-packages/httpcore/_sync/http11.py:136\u001b[39m, in \u001b[36mHTTP11Connection.handle_request\u001b[39m\u001b[34m(self, request)\u001b[39m\n\u001b[32m    134\u001b[39m     \u001b[38;5;28;01mwith\u001b[39;00m Trace(\u001b[33m\"\u001b[39m\u001b[33mresponse_closed\u001b[39m\u001b[33m\"\u001b[39m, logger, request) \u001b[38;5;28;01mas\u001b[39;00m trace:\n\u001b[32m    135\u001b[39m         \u001b[38;5;28mself\u001b[39m._response_closed()\n\u001b[32m--> \u001b[39m\u001b[32m136\u001b[39m \u001b[38;5;28;01mraise\u001b[39;00m exc\n",
      "\u001b[36mFile \u001b[39m\u001b[32m~/projects/TFM/Prompting/.venv/lib/python3.12/site-packages/httpcore/_sync/http11.py:106\u001b[39m, in \u001b[36mHTTP11Connection.handle_request\u001b[39m\u001b[34m(self, request)\u001b[39m\n\u001b[32m     95\u001b[39m     \u001b[38;5;28;01mpass\u001b[39;00m\n\u001b[32m     97\u001b[39m \u001b[38;5;28;01mwith\u001b[39;00m Trace(\n\u001b[32m     98\u001b[39m     \u001b[33m\"\u001b[39m\u001b[33mreceive_response_headers\u001b[39m\u001b[33m\"\u001b[39m, logger, request, kwargs\n\u001b[32m     99\u001b[39m ) \u001b[38;5;28;01mas\u001b[39;00m trace:\n\u001b[32m    100\u001b[39m     (\n\u001b[32m    101\u001b[39m         http_version,\n\u001b[32m    102\u001b[39m         status,\n\u001b[32m    103\u001b[39m         reason_phrase,\n\u001b[32m    104\u001b[39m         headers,\n\u001b[32m    105\u001b[39m         trailing_data,\n\u001b[32m--> \u001b[39m\u001b[32m106\u001b[39m     ) = \u001b[38;5;28;43mself\u001b[39;49m\u001b[43m.\u001b[49m\u001b[43m_receive_response_headers\u001b[49m\u001b[43m(\u001b[49m\u001b[43m*\u001b[49m\u001b[43m*\u001b[49m\u001b[43mkwargs\u001b[49m\u001b[43m)\u001b[49m\n\u001b[32m    107\u001b[39m     trace.return_value = (\n\u001b[32m    108\u001b[39m         http_version,\n\u001b[32m    109\u001b[39m         status,\n\u001b[32m    110\u001b[39m         reason_phrase,\n\u001b[32m    111\u001b[39m         headers,\n\u001b[32m    112\u001b[39m     )\n\u001b[32m    114\u001b[39m network_stream = \u001b[38;5;28mself\u001b[39m._network_stream\n",
      "\u001b[36mFile \u001b[39m\u001b[32m~/projects/TFM/Prompting/.venv/lib/python3.12/site-packages/httpcore/_sync/http11.py:177\u001b[39m, in \u001b[36mHTTP11Connection._receive_response_headers\u001b[39m\u001b[34m(self, request)\u001b[39m\n\u001b[32m    174\u001b[39m timeout = timeouts.get(\u001b[33m\"\u001b[39m\u001b[33mread\u001b[39m\u001b[33m\"\u001b[39m, \u001b[38;5;28;01mNone\u001b[39;00m)\n\u001b[32m    176\u001b[39m \u001b[38;5;28;01mwhile\u001b[39;00m \u001b[38;5;28;01mTrue\u001b[39;00m:\n\u001b[32m--> \u001b[39m\u001b[32m177\u001b[39m     event = \u001b[38;5;28;43mself\u001b[39;49m\u001b[43m.\u001b[49m\u001b[43m_receive_event\u001b[49m\u001b[43m(\u001b[49m\u001b[43mtimeout\u001b[49m\u001b[43m=\u001b[49m\u001b[43mtimeout\u001b[49m\u001b[43m)\u001b[49m\n\u001b[32m    178\u001b[39m     \u001b[38;5;28;01mif\u001b[39;00m \u001b[38;5;28misinstance\u001b[39m(event, h11.Response):\n\u001b[32m    179\u001b[39m         \u001b[38;5;28;01mbreak\u001b[39;00m\n",
      "\u001b[36mFile \u001b[39m\u001b[32m~/projects/TFM/Prompting/.venv/lib/python3.12/site-packages/httpcore/_sync/http11.py:217\u001b[39m, in \u001b[36mHTTP11Connection._receive_event\u001b[39m\u001b[34m(self, timeout)\u001b[39m\n\u001b[32m    214\u001b[39m     event = \u001b[38;5;28mself\u001b[39m._h11_state.next_event()\n\u001b[32m    216\u001b[39m \u001b[38;5;28;01mif\u001b[39;00m event \u001b[38;5;129;01mis\u001b[39;00m h11.NEED_DATA:\n\u001b[32m--> \u001b[39m\u001b[32m217\u001b[39m     data = \u001b[38;5;28;43mself\u001b[39;49m\u001b[43m.\u001b[49m\u001b[43m_network_stream\u001b[49m\u001b[43m.\u001b[49m\u001b[43mread\u001b[49m\u001b[43m(\u001b[49m\n\u001b[32m    218\u001b[39m \u001b[43m        \u001b[49m\u001b[38;5;28;43mself\u001b[39;49m\u001b[43m.\u001b[49m\u001b[43mREAD_NUM_BYTES\u001b[49m\u001b[43m,\u001b[49m\u001b[43m \u001b[49m\u001b[43mtimeout\u001b[49m\u001b[43m=\u001b[49m\u001b[43mtimeout\u001b[49m\n\u001b[32m    219\u001b[39m \u001b[43m    \u001b[49m\u001b[43m)\u001b[49m\n\u001b[32m    221\u001b[39m     \u001b[38;5;66;03m# If we feed this case through h11 we'll raise an exception like:\u001b[39;00m\n\u001b[32m    222\u001b[39m     \u001b[38;5;66;03m#\u001b[39;00m\n\u001b[32m    223\u001b[39m     \u001b[38;5;66;03m#     httpcore.RemoteProtocolError: can't handle event type\u001b[39;00m\n\u001b[32m   (...)\u001b[39m\u001b[32m    227\u001b[39m     \u001b[38;5;66;03m# perspective. Instead we handle this case distinctly and treat\u001b[39;00m\n\u001b[32m    228\u001b[39m     \u001b[38;5;66;03m# it as a ConnectError.\u001b[39;00m\n\u001b[32m    229\u001b[39m     \u001b[38;5;28;01mif\u001b[39;00m data == \u001b[33mb\u001b[39m\u001b[33m\"\u001b[39m\u001b[33m\"\u001b[39m \u001b[38;5;129;01mand\u001b[39;00m \u001b[38;5;28mself\u001b[39m._h11_state.their_state == h11.SEND_RESPONSE:\n",
      "\u001b[36mFile \u001b[39m\u001b[32m~/projects/TFM/Prompting/.venv/lib/python3.12/site-packages/httpcore/_backends/sync.py:128\u001b[39m, in \u001b[36mSyncStream.read\u001b[39m\u001b[34m(self, max_bytes, timeout)\u001b[39m\n\u001b[32m    126\u001b[39m \u001b[38;5;28;01mwith\u001b[39;00m map_exceptions(exc_map):\n\u001b[32m    127\u001b[39m     \u001b[38;5;28mself\u001b[39m._sock.settimeout(timeout)\n\u001b[32m--> \u001b[39m\u001b[32m128\u001b[39m     \u001b[38;5;28;01mreturn\u001b[39;00m \u001b[38;5;28;43mself\u001b[39;49m\u001b[43m.\u001b[49m\u001b[43m_sock\u001b[49m\u001b[43m.\u001b[49m\u001b[43mrecv\u001b[49m\u001b[43m(\u001b[49m\u001b[43mmax_bytes\u001b[49m\u001b[43m)\u001b[49m\n",
      "\u001b[36mFile \u001b[39m\u001b[32m~/.local/share/uv/python/cpython-3.12.11-linux-x86_64-gnu/lib/python3.12/ssl.py:1232\u001b[39m, in \u001b[36mSSLSocket.recv\u001b[39m\u001b[34m(self, buflen, flags)\u001b[39m\n\u001b[32m   1228\u001b[39m     \u001b[38;5;28;01mif\u001b[39;00m flags != \u001b[32m0\u001b[39m:\n\u001b[32m   1229\u001b[39m         \u001b[38;5;28;01mraise\u001b[39;00m \u001b[38;5;167;01mValueError\u001b[39;00m(\n\u001b[32m   1230\u001b[39m             \u001b[33m\"\u001b[39m\u001b[33mnon-zero flags not allowed in calls to recv() on \u001b[39m\u001b[38;5;132;01m%s\u001b[39;00m\u001b[33m\"\u001b[39m %\n\u001b[32m   1231\u001b[39m             \u001b[38;5;28mself\u001b[39m.\u001b[34m__class__\u001b[39m)\n\u001b[32m-> \u001b[39m\u001b[32m1232\u001b[39m     \u001b[38;5;28;01mreturn\u001b[39;00m \u001b[38;5;28;43mself\u001b[39;49m\u001b[43m.\u001b[49m\u001b[43mread\u001b[49m\u001b[43m(\u001b[49m\u001b[43mbuflen\u001b[49m\u001b[43m)\u001b[49m\n\u001b[32m   1233\u001b[39m \u001b[38;5;28;01melse\u001b[39;00m:\n\u001b[32m   1234\u001b[39m     \u001b[38;5;28;01mreturn\u001b[39;00m \u001b[38;5;28msuper\u001b[39m().recv(buflen, flags)\n",
      "\u001b[36mFile \u001b[39m\u001b[32m~/.local/share/uv/python/cpython-3.12.11-linux-x86_64-gnu/lib/python3.12/ssl.py:1105\u001b[39m, in \u001b[36mSSLSocket.read\u001b[39m\u001b[34m(self, len, buffer)\u001b[39m\n\u001b[32m   1103\u001b[39m         \u001b[38;5;28;01mreturn\u001b[39;00m \u001b[38;5;28mself\u001b[39m._sslobj.read(\u001b[38;5;28mlen\u001b[39m, buffer)\n\u001b[32m   1104\u001b[39m     \u001b[38;5;28;01melse\u001b[39;00m:\n\u001b[32m-> \u001b[39m\u001b[32m1105\u001b[39m         \u001b[38;5;28;01mreturn\u001b[39;00m \u001b[38;5;28;43mself\u001b[39;49m\u001b[43m.\u001b[49m\u001b[43m_sslobj\u001b[49m\u001b[43m.\u001b[49m\u001b[43mread\u001b[49m\u001b[43m(\u001b[49m\u001b[38;5;28;43mlen\u001b[39;49m\u001b[43m)\u001b[49m\n\u001b[32m   1106\u001b[39m \u001b[38;5;28;01mexcept\u001b[39;00m SSLError \u001b[38;5;28;01mas\u001b[39;00m x:\n\u001b[32m   1107\u001b[39m     \u001b[38;5;28;01mif\u001b[39;00m x.args[\u001b[32m0\u001b[39m] == SSL_ERROR_EOF \u001b[38;5;129;01mand\u001b[39;00m \u001b[38;5;28mself\u001b[39m.suppress_ragged_eofs:\n",
      "\u001b[31mKeyboardInterrupt\u001b[39m: "
     ]
    }
   ],
   "source": [
    "from tqdm.auto import tqdm\n",
    "import rich as rc\n",
    "\n",
    "for _, row in tqdm(data.iterrows(), total=len(data)):\n",
    "    original_text = \" \".join(row[\"sentences\"])\n",
    "    clarified_text = \" \".join(row[\"clarified_sentences\"])\n",
    "    \n",
    "    response = llm.invoke(\n",
    "        comparative_prompt.format(\n",
    "            original_text=original_text,\n",
    "            clarified_text=clarified_text\n",
    "        )\n",
    "    ).content\n",
    "    print(response)\n",
    "    # if response != \"Iguales\":\n",
    "    #     print(f\"{row['year']}\")\n",
    "    #     rc.print(f\"Original: {original_text}\")\n",
    "    #     print()\n",
    "    #     rc.print(f\"Clarified: {clarified_text}\")\n",
    "    #     print(\"\\n\\n\")\n",
    "        "
   ]
  }
 ],
 "metadata": {
  "kernelspec": {
   "display_name": ".venv",
   "language": "python",
   "name": "python3"
  },
  "language_info": {
   "codemirror_mode": {
    "name": "ipython",
    "version": 3
   },
   "file_extension": ".py",
   "mimetype": "text/x-python",
   "name": "python",
   "nbconvert_exporter": "python",
   "pygments_lexer": "ipython3",
   "version": "3.12.11"
  }
 },
 "nbformat": 4,
 "nbformat_minor": 5
}
