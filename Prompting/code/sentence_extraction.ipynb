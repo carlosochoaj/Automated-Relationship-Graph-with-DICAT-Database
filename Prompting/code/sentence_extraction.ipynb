{
 "cells": [
  {
   "cell_type": "code",
   "execution_count": 1,
   "id": "2ca8d1a6",
   "metadata": {},
   "outputs": [],
   "source": [
    "from langchain.prompts import PromptTemplate\n",
    "from langchain_openai import ChatOpenAI\n",
    "from dotenv import load_dotenv\n",
    "import pandas as pd\n",
    "import rich as rc\n",
    "import os"
   ]
  },
  {
   "cell_type": "code",
   "execution_count": 2,
   "id": "6ab5e945",
   "metadata": {},
   "outputs": [],
   "source": [
    "data = pd.read_csv(\"../data/DicatJuanRana.csv\", sep=\";\")"
   ]
  },
  {
   "cell_type": "code",
   "execution_count": 3,
   "id": "d43e6db0",
   "metadata": {},
   "outputs": [
    {
     "data": {
      "text/html": [
       "<div>\n",
       "<style scoped>\n",
       "    .dataframe tbody tr th:only-of-type {\n",
       "        vertical-align: middle;\n",
       "    }\n",
       "\n",
       "    .dataframe tbody tr th {\n",
       "        vertical-align: top;\n",
       "    }\n",
       "\n",
       "    .dataframe thead th {\n",
       "        text-align: right;\n",
       "    }\n",
       "</style>\n",
       "<table border=\"1\" class=\"dataframe\">\n",
       "  <thead>\n",
       "    <tr style=\"text-align: right;\">\n",
       "      <th></th>\n",
       "      <th>year</th>\n",
       "      <th>text</th>\n",
       "    </tr>\n",
       "  </thead>\n",
       "  <tbody>\n",
       "    <tr>\n",
       "      <th>0</th>\n",
       "      <td>0</td>\n",
       "      <td>Aunque su verdadero nombre era Cosme Pérez, fu...</td>\n",
       "    </tr>\n",
       "    <tr>\n",
       "      <th>1</th>\n",
       "      <td>1617</td>\n",
       "      <td>Según Cotarelo , a quien sigue Sáez Raposo , C...</td>\n",
       "    </tr>\n",
       "    <tr>\n",
       "      <th>2</th>\n",
       "      <td>1621</td>\n",
       "      <td>Consta la lista de la compañía de Juan Bautist...</td>\n",
       "    </tr>\n",
       "    <tr>\n",
       "      <th>3</th>\n",
       "      <td>1624</td>\n",
       "      <td>Cosme Pérez aparece en la nómina de la compañí...</td>\n",
       "    </tr>\n",
       "    <tr>\n",
       "      <th>4</th>\n",
       "      <td>1634</td>\n",
       "      <td>Según Cotarelo, Cosme Pérez pertenecía a la co...</td>\n",
       "    </tr>\n",
       "  </tbody>\n",
       "</table>\n",
       "</div>"
      ],
      "text/plain": [
       "   year                                               text\n",
       "0     0  Aunque su verdadero nombre era Cosme Pérez, fu...\n",
       "1  1617  Según Cotarelo , a quien sigue Sáez Raposo , C...\n",
       "2  1621  Consta la lista de la compañía de Juan Bautist...\n",
       "3  1624  Cosme Pérez aparece en la nómina de la compañí...\n",
       "4  1634  Según Cotarelo, Cosme Pérez pertenecía a la co..."
      ]
     },
     "execution_count": 3,
     "metadata": {},
     "output_type": "execute_result"
    }
   ],
   "source": [
    "data.head()"
   ]
  },
  {
   "cell_type": "code",
   "execution_count": 4,
   "id": "59b4cbb1",
   "metadata": {},
   "outputs": [],
   "source": [
    "load_dotenv()\n",
    "\n",
    "llm = ChatOpenAI(\n",
    "    model=\"gpt-4.1-mini\",\n",
    "    temperature=0,\n",
    "    openai_api_key=os.getenv(\"OPENAI_API_KEY\"),\n",
    ")"
   ]
  },
  {
   "cell_type": "code",
   "execution_count": 14,
   "id": "5cab3976",
   "metadata": {},
   "outputs": [],
   "source": [
    "prompt = PromptTemplate(\n",
    "    input_variables=[\"text\"],\n",
    "    template=\"\"\"\n",
    "    Eres un asistente de IA experto en el análisis de texto. Tu tarea es separar un texto en frases individuales.\n",
    "    Cada frase debe ser una unidad completa de significado pero no necesariamente debe terminar en un punto.\n",
    "    Se trata de un texto en español antiguo, por lo que no se usaban las reglas modernas de puntuación.\n",
    "    Por favor, asegúrate de que cada frase sea coherente y tenga sentido por sí misma.\n",
    "    Asegurate de no inventar o perder información, juntando las frases deberían formar nuevamente el texto original.\n",
    "    \n",
    "    NO DEBES INVENTAR O EXCLUIR INFORMACIÓN, SOLO SEPARAR EN FRASES.\n",
    "     \n",
    "    Devuelve cada frase en una línea separada:\n",
    "    {text}\"\"\",\n",
    ")"
   ]
  },
  {
   "cell_type": "code",
   "execution_count": 15,
   "id": "dbd97a54",
   "metadata": {},
   "outputs": [
    {
     "data": {
      "application/vnd.jupyter.widget-view+json": {
       "model_id": "2f60a7dff3ab45dea375019cf1c4e334",
       "version_major": 2,
       "version_minor": 0
      },
      "text/plain": [
       "  0%|          | 0/38 [00:00<?, ?it/s]"
      ]
     },
     "metadata": {},
     "output_type": "display_data"
    }
   ],
   "source": [
    "from tqdm.auto import tqdm\n",
    "\n",
    "all_sentences = []\n",
    "for i, row in tqdm(data.iterrows(), total=len(data)):\n",
    "    text = row[\"text\"]\n",
    "    response = llm.invoke(prompt.format(text=text))\n",
    "    sentences = response.content.split(\"\\n\")\n",
    "    all_sentences.append(sentences)"
   ]
  },
  {
   "cell_type": "code",
   "execution_count": 16,
   "id": "9d5a1a62",
   "metadata": {},
   "outputs": [
    {
     "data": {
      "text/plain": [
       "38"
      ]
     },
     "execution_count": 16,
     "metadata": {},
     "output_type": "execute_result"
    }
   ],
   "source": [
    "len(all_sentences)"
   ]
  },
  {
   "cell_type": "code",
   "execution_count": 17,
   "id": "d5554154",
   "metadata": {},
   "outputs": [],
   "source": [
    "data[\"sentences\"] = all_sentences"
   ]
  },
  {
   "cell_type": "code",
   "execution_count": 18,
   "id": "1747e2b4",
   "metadata": {},
   "outputs": [],
   "source": [
    "data.to_csv(\n",
    "    \"../data/DicatJuanRana_w_sentences.csv\",\n",
    "    sep=\";\",\n",
    "    index=False,\n",
    ")"
   ]
  },
  {
   "cell_type": "code",
   "execution_count": 24,
   "id": "1c1c5e1f",
   "metadata": {},
   "outputs": [
    {
     "data": {
      "text/plain": [
       "[['El 27 de marzo —según Davis y Varey, y no el 28 de febrero, como lee Pérez Pastor— Catalina de Nicolás y la Rosa, en virtud del poder del 17 de febrero otorgado por su marido, Pedro de la Rosa, contrató en Madrid a Cosme Pérez, desde la fecha del contrato hasta el día del Corpus, 4 de junio, y, si fuese necesario para el autor, para los días de la Octava del Corpus, representando \"su parte de toda la graciosidad\" en comedias, autos, bailes y entremeses, como lo había hecho \"en otros años antezedentes a este asiento\", por lo que cobraría 12 rs. de ración, 20 rs. por representación, 50 dcs. por el Corpus, las caballerías \"que siempre se le an dado\" para el transporte y 1.000 rs. de préstamo.  ',\n",
       "  'En nombre de su marido, Catalina se comprometía asimismo a pagar 456 rs. del viaje de Murcia, de hato y personas, y las raciones de Cuaresma ; según Cotarelo, la compañía de Pedro de la Rosa representó en Madrid los autos del Corpus [4 de junio] y en la lista de actores presentada a las autoridades figuraba Cosme Pérez, aunque al principio parece que no quería representar, según se infiere de la anotación hecha por Pedro de la Rosa al entregar la lista de su compañía: \"Está indeciso, porque no quiere representar\"  —pero se trata de un error de Cotarelo, pues, como se verá a continuación, esta noticia correspondería realmente a 1644—.']]"
      ]
     },
     "execution_count": 24,
     "metadata": {},
     "output_type": "execute_result"
    }
   ],
   "source": [
    "data[data[\"year\"].astype(int) == 1643][\"sentences\"].to_list()"
   ]
  },
  {
   "cell_type": "code",
   "execution_count": 26,
   "id": "d5580635",
   "metadata": {},
   "outputs": [],
   "source": [
    "import pandas as pd\n",
    "import ast\n",
    "    \n",
    "data = pd.read_csv(\"../data/DicatJuanRana_w_clarified_sentences.csv\", sep=\";\", encoding=\"utf-8\", converters={\"sentences\": ast.literal_eval, \"clarified_sentences\": ast.literal_eval})"
   ]
  },
  {
   "cell_type": "code",
   "execution_count": 25,
   "id": "cc9423c5",
   "metadata": {},
   "outputs": [
    {
     "data": {
      "text/plain": [
       "358"
      ]
     },
     "execution_count": 25,
     "metadata": {},
     "output_type": "execute_result"
    }
   ],
   "source": [
    "sum([len(sentences) for sentences in data[\"sentences\"]])"
   ]
  },
  {
   "cell_type": "code",
   "execution_count": 27,
   "id": "0c7a3307",
   "metadata": {},
   "outputs": [
    {
     "data": {
      "text/plain": [
       "311"
      ]
     },
     "execution_count": 27,
     "metadata": {},
     "output_type": "execute_result"
    }
   ],
   "source": [
    "sum([len(sentences) for sentences in data[\"sentences\"]])"
   ]
  }
 ],
 "metadata": {
  "kernelspec": {
   "display_name": ".venv",
   "language": "python",
   "name": "python3"
  },
  "language_info": {
   "codemirror_mode": {
    "name": "ipython",
    "version": 3
   },
   "file_extension": ".py",
   "mimetype": "text/x-python",
   "name": "python",
   "nbconvert_exporter": "python",
   "pygments_lexer": "ipython3",
   "version": "3.12.11"
  }
 },
 "nbformat": 4,
 "nbformat_minor": 5
}
