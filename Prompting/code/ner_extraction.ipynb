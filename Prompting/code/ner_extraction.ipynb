{
 "cells": [
  {
   "cell_type": "markdown",
   "id": "c7a2c3be",
   "metadata": {},
   "source": [
    "## Librerías"
   ]
  },
  {
   "cell_type": "code",
   "execution_count": 3,
   "id": "d89b68e5",
   "metadata": {},
   "outputs": [],
   "source": [
    "from langchain.prompts import PromptTemplate\n",
    "from langchain_openai import ChatOpenAI\n",
    "from dotenv import load_dotenv\n",
    "import spacy as sp\n",
    "import rich as rc\n",
    "import os"
   ]
  },
  {
   "cell_type": "code",
   "execution_count": 4,
   "id": "a2c9e417",
   "metadata": {},
   "outputs": [],
   "source": [
    "load_dotenv()\n",
    "\n",
    "llm = ChatOpenAI(\n",
    "    model=\"gpt-4.1-mini\",\n",
    "    temperature=0,\n",
    "    api_key=os.getenv(\"OPENAI_API_TOKEN\"),\n",
    ")"
   ]
  },
  {
   "cell_type": "markdown",
   "id": "9efa08f8",
   "metadata": {},
   "source": [
    "## Introducción"
   ]
  },
  {
   "cell_type": "code",
   "execution_count": 117,
   "id": "ea00f17a",
   "metadata": {},
   "outputs": [
    {
     "data": {
      "text/html": [
       "<pre style=\"white-space:pre;overflow-x:auto;line-height:normal;font-family:Menlo,'DejaVu Sans Mono',consolas,'Courier New',monospace\">Aunque su verdadero nombre era Cosme Pérez, fue conocido artísticamente como <span style=\"color: #008000; text-decoration-color: #008000\">'Juan Rana'</span>, según documenta ya la \n",
       "Genealogía  —este apodo ya se le aplicaba en <span style=\"color: #008080; text-decoration-color: #008080; font-weight: bold\">1636</span>—.\n",
       "</pre>\n"
      ],
      "text/plain": [
       "Aunque su verdadero nombre era Cosme Pérez, fue conocido artísticamente como \u001b[32m'Juan Rana'\u001b[0m, según documenta ya la \n",
       "Genealogía  —este apodo ya se le aplicaba en \u001b[1;36m1636\u001b[0m—.\n"
      ]
     },
     "metadata": {},
     "output_type": "display_data"
    },
    {
     "data": {
      "text/html": [
       "<pre style=\"white-space:pre;overflow-x:auto;line-height:normal;font-family:Menlo,'DejaVu Sans Mono',consolas,'Courier New',monospace\">Aunque Cotarelo aventuró que pudo haber nacido en Madrid , hoy sabemos que nació en Tudela de Duero <span style=\"font-weight: bold\">(</span>Valladolid<span style=\"font-weight: bold\">)</span>, \n",
       "en cuya iglesia parroquial fue bautizado el <span style=\"color: #008080; text-decoration-color: #008080; font-weight: bold\">7</span> de abril de <span style=\"color: #008080; text-decoration-color: #008080; font-weight: bold\">1593</span>.\n",
       "</pre>\n"
      ],
      "text/plain": [
       "Aunque Cotarelo aventuró que pudo haber nacido en Madrid , hoy sabemos que nació en Tudela de Duero \u001b[1m(\u001b[0mValladolid\u001b[1m)\u001b[0m, \n",
       "en cuya iglesia parroquial fue bautizado el \u001b[1;36m7\u001b[0m de abril de \u001b[1;36m1593\u001b[0m.\n"
      ]
     },
     "metadata": {},
     "output_type": "display_data"
    },
    {
     "data": {
      "text/html": [
       "<pre style=\"white-space:pre;overflow-x:auto;line-height:normal;font-family:Menlo,'DejaVu Sans Mono',consolas,'Courier New',monospace\">Fue hijo de Damián Pérez e Isabel de Basto, su segunda esposa, y fue el cuarto de una familia de cuatro hermanos.\n",
       "</pre>\n"
      ],
      "text/plain": [
       "Fue hijo de Damián Pérez e Isabel de Basto, su segunda esposa, y fue el cuarto de una familia de cuatro hermanos.\n"
      ]
     },
     "metadata": {},
     "output_type": "display_data"
    }
   ],
   "source": [
    "with open(\"../data/introduccion.txt\", \"r\", encoding=\"utf-8\") as file:\n",
    "    text = file.read()\n",
    "\n",
    "for sentence in text.split(\".\")[:3]:\n",
    "    rc.print(sentence.strip() + \".\")"
   ]
  },
  {
   "cell_type": "markdown",
   "id": "7c3dddee",
   "metadata": {},
   "source": [
    "## Extracción de los NERs de Introducción"
   ]
  },
  {
   "cell_type": "code",
   "execution_count": 118,
   "id": "92ae60e0",
   "metadata": {},
   "outputs": [],
   "source": [
    "nlp = sp.load(\"es_core_news_lg\")\n",
    "doc = nlp(text)"
   ]
  },
  {
   "cell_type": "code",
   "execution_count": 119,
   "id": "17663a05",
   "metadata": {},
   "outputs": [],
   "source": [
    "from collections import defaultdict\n",
    "\n",
    "prompting_ners = defaultdict(set)\n",
    "spacy_ners = defaultdict(set)"
   ]
  },
  {
   "cell_type": "code",
   "execution_count": 130,
   "id": "b8009ecd",
   "metadata": {},
   "outputs": [],
   "source": [
    "ner_extractor_prompt = PromptTemplate(\n",
    "    input_variables=[\"text\"],\n",
    "    template=\"\"\"\n",
    "    Extrae todas las entidades nombradas que aparezcan en el siguiente texto, sin limitarte a ningún tipo predefinido. Por cada entidad encontrada, indícala en el formato:\n",
    "\n",
    "    TIPO_DE_NER-NER\n",
    "\n",
    "    El tipo debe estar en mayúsculas, en ingles, y representar con claridad a qué categoría pertenece cada entidad (como PER, ORG, GPE, LOC, DATE, TIME, MONEY, PERCENT, PRODUCT, EVENT, WORK_OF_ART, LAW, LANGUAGE, etc.). Si el tipo no está claro, utiliza la mejor etiqueta posible.\n",
    "\n",
    "    Ejemplo de formato (solo como referencia, no restrictivo):\n",
    "\n",
    "    ### Ejemplo:\n",
    "\n",
    "    Texto:\n",
    "    \"Gabriel García Márquez escribió Cien años de soledad en Colombia en 1967.\"\n",
    "\n",
    "    Salida:\n",
    "    PER;Gabriel García Márquez\n",
    "    WORK_OF_ART;Cien años de soledad\n",
    "    LOC;Colombia\n",
    "    DATE;1967\n",
    "\n",
    "    No añadas explicaciones ni comentarios. Solo devuelve una lista, una entidad por línea, en el formato indicado.\n",
    "\n",
    "    ### Texto:\n",
    "    {text}\n",
    "    \n",
    "    ### Salida:\n",
    "    \"\"\",\n",
    ")"
   ]
  },
  {
   "cell_type": "code",
   "execution_count": 131,
   "id": "c86ac479",
   "metadata": {},
   "outputs": [
    {
     "data": {
      "text/plain": [
       "'PER;Cosme Pérez  \\nPER;Juan Rana  \\nORG;Genealogía  \\nDATE;1636  \\nGPE;Madrid  \\nGPE;Tudela de Duero  \\nGPE;Valladolid  \\nDATE;7 de abril de 1593  \\nPER;Damián Pérez  \\nPER;Isabel de Basto  \\nPER;Sánchez Arjona  \\nPER;Subirá  \\nPER;Bernarda Ramírez  \\nPER;Rennert  \\nPER;Bernarda Manuela  \\nPER;Cotarelo  \\nPER;María de Acosta  \\nPER;Francisca María Pérez  \\nORG;Cofradía de Nuestra Señora de la Novena  \\nPER;Tomás Fernández  \\nDATE;1631  \\nPER;Domingo Canejil  \\nDATE;1707  \\nPER;Bárbara Coronel  \\nGPE;Guadalajara  \\nPER;M. L. Lobato  \\nWORK_OF_ART;La portería de las damas  \\nPER;Avellaneda  \\nPER;Pedro de la Rosa  \\nPER;María Teresa de Austria  \\nPER;H. Bergman  \\nLOC;Madrid  \\nLOC;Salón del Palacio  \\nLOC;Bello Retiro  \\nPER;Luis de Belmonte  \\nWORK_OF_ART;La maestra de gracias  \\nPER;Luis Quiñones de Benavente  \\nWORK_OF_ART;El poeta de bailes  \\nWORK_OF_ART;El doctor Juan Rana  \\nDATE;1636  \\nPER;F. Serralta  \\nWORK_OF_ART;La risa y el actor: el caso de Juan Rana  \\nPER;I. Arellano  \\nPER;V. García Ruiz  \\nPER;M. Vitse  \\nPER;Christiane Faliu-Lacourt  \\nLOC;Kassel  \\nORG;Reichenberger  \\nDATE;1994  \\nPER;Peter Thompson  \\nWORK_OF_ART;Juan Rana, a Gay Golden Age Gracioso  \\nPER;E. H. Friedman  \\nPER;H. J. Manzari  \\nPER;D. D. Miller  \\nWORK_OF_ART;A society on Stage: Essays on Spanish Golden Drama  \\nGPE;New Orleans  \\nORG;University Press of the South  \\nPER;F. Sáez Raposo  \\nWORK_OF_ART;Fieras afemina amor  \\nPER;Calderón  \\nWORK_OF_ART;El triunfo de Juan Rana  \\nDATE;1668  \\nPER;Mori  \\nPER;Mariana de Austria  \\nDATE;22 de diciembre de 1669  \\nDATE;enero de 1670  \\nDATE;29 de enero de 1672  \\nPER;Rich Greer  \\nWORK_OF_ART;A la fiesta que hizo en el Retiro a los Reyes el Príncipe de Astillano  \\nPER;F. Sáez Raposo  \\nDATE;1624  \\nPER;Lope de Vega  \\nWORK_OF_ART;Lo que ha de ser  \\nDATE;1625-1630  \\nPER;Juan Pérez de Montalbán  \\nWORK_OF_ART;El segundo Séneca de España  \\nPER;Felipe II  \\nPER;Bartola  \\nPER;Bergman  \\nWORK_OF_ART;El caballero novel  \\nORG;Biblioteca Nacional de Madrid  \\nWORK_OF_ART;El desdén vengado  \\nDATE;4 de agosto de 1617  \\nDATE;9 de septiembre de 1617  \\nGPE;Lisboa  \\nDATE;21 de marzo de 1622  \\nPER;Juan Bautista Valenciano  \\nWORK_OF_ART;La nueva victoria de don Gonzalo de Córdoba  \\nDATE;8 de octubre de 1622  \\nDATE;21 de octubre de 1622  \\nWORK_OF_ART;La infelice Dorotea  \\nPER;Andrés de Claramonte  \\nDATE;1620  \\nDATE;diciembre de 1621  \\nDATE;12 de noviembre de 1622  \\nGPE;Londres  \\nORG;Tamesis Books  \\nPER;Antonio de Escamilla  \\nWORK_OF_ART;Bien vengas mal  \\nPER;Roque de Figueroa  \\nPER;Tomás Fernández  \\nWORK_OF_ART;El guardainfante  \\nWORK_OF_ART;El soldado  \\nWORK_OF_ART;El mundo  \\nWORK_OF_ART;El mundo al revés  \\nWORK_OF_ART;El mago  \\nDATE;1637  \\nEVENT;fiesta de San Juan  \\nWORK_OF_ART;Los muertos vivos  \\nWORK_OF_ART;El remediador  \\nWORK_OF_ART;Pipote en nombre de Juan Rana  \\nWORK_OF_ART;El poeta de bailes y el letrado  \\nWORK_OF_ART;Al cabo de los bailes mil  \\nPER;Antonio de Solís  \\nWORK_OF_ART;Los volatines  \\nDATE;1655  \\nLOC;Salón del Palacio de Buen Retiro  \\nPER;Ana Coronel  \\nPER;Mariana de Borja  \\nPER;Mateo Godoy  \\nWORK_OF_ART;La Zarzuela  \\nLOC;Palacio de la Zarzuela  \\nPER;M. L. Lobato  \\nWORK_OF_ART;El retrato de Juan Rana  \\nPER;Felipe Próspero  \\nDATE;noviembre de 1657  \\nWORK_OF_ART;Las fiestas bacanales  \\nWORK_OF_ART;Salta en banco  \\nWORK_OF_ART;El niño caballero  \\nWORK_OF_ART;Aguardad, supremos dioses  \\nWORK_OF_ART;Triunfos de Amor y Fortuna  \\nPER;Agustín Moreto  \\nWORK_OF_ART;El ayo  \\nDATE;1662  \\nPER;Jerónimo Morales  \\nWORK_OF_ART;La loa de Juan Rana  \\nPER;Miguel de Orozco  \\nPER;Sebastián de Prado  \\nPER;Antonio de Escamilla  \\nPER;Alonso de Olmedo  \\nPER;María de Quiñones  \\nPER;María de Prado  \\nPER;Manuela Escamilla  \\nDATE;22 de diciembre de 1662  \\nDATE;24 de octubre de 1662  \\nDATE;17 de diciembre de 1662  \\nDATE;26 de julio  \\nEVENT;festividad de Santa Ana  \\nPER;Sáez Raposo'"
      ]
     },
     "execution_count": 131,
     "metadata": {},
     "output_type": "execute_result"
    }
   ],
   "source": [
    "llm_response = llm.invoke(ner_extractor_prompt.format(text=text)).content\n",
    "llm_response"
   ]
  },
  {
   "cell_type": "code",
   "execution_count": 132,
   "id": "9a0c9aca",
   "metadata": {},
   "outputs": [
    {
     "data": {
      "text/plain": [
       "['PER;Cosme Pérez  ',\n",
       " 'PER;Juan Rana  ',\n",
       " 'ORG;Genealogía  ',\n",
       " 'DATE;1636  ',\n",
       " 'GPE;Madrid  ',\n",
       " 'GPE;Tudela de Duero  ',\n",
       " 'GPE;Valladolid  ',\n",
       " 'DATE;7 de abril de 1593  ',\n",
       " 'PER;Damián Pérez  ',\n",
       " 'PER;Isabel de Basto  ',\n",
       " 'PER;Sánchez Arjona  ',\n",
       " 'PER;Subirá  ',\n",
       " 'PER;Bernarda Ramírez  ',\n",
       " 'PER;Rennert  ',\n",
       " 'PER;Bernarda Manuela  ',\n",
       " 'PER;Cotarelo  ',\n",
       " 'PER;María de Acosta  ',\n",
       " 'PER;Francisca María Pérez  ',\n",
       " 'ORG;Cofradía de Nuestra Señora de la Novena  ',\n",
       " 'PER;Tomás Fernández  ',\n",
       " 'DATE;1631  ',\n",
       " 'PER;Domingo Canejil  ',\n",
       " 'DATE;1707  ',\n",
       " 'PER;Bárbara Coronel  ',\n",
       " 'GPE;Guadalajara  ',\n",
       " 'PER;M. L. Lobato  ',\n",
       " 'WORK_OF_ART;La portería de las damas  ',\n",
       " 'PER;Avellaneda  ',\n",
       " 'PER;Pedro de la Rosa  ',\n",
       " 'PER;María Teresa de Austria  ',\n",
       " 'PER;H. Bergman  ',\n",
       " 'LOC;Madrid  ',\n",
       " 'LOC;Salón del Palacio  ',\n",
       " 'LOC;Bello Retiro  ',\n",
       " 'PER;Luis de Belmonte  ',\n",
       " 'WORK_OF_ART;La maestra de gracias  ',\n",
       " 'PER;Luis Quiñones de Benavente  ',\n",
       " 'WORK_OF_ART;El poeta de bailes  ',\n",
       " 'WORK_OF_ART;El doctor Juan Rana  ',\n",
       " 'DATE;1636  ',\n",
       " 'PER;F. Serralta  ',\n",
       " 'WORK_OF_ART;La risa y el actor: el caso de Juan Rana  ',\n",
       " 'PER;I. Arellano  ',\n",
       " 'PER;V. García Ruiz  ',\n",
       " 'PER;M. Vitse  ',\n",
       " 'PER;Christiane Faliu-Lacourt  ',\n",
       " 'LOC;Kassel  ',\n",
       " 'ORG;Reichenberger  ',\n",
       " 'DATE;1994  ',\n",
       " 'PER;Peter Thompson  ',\n",
       " 'WORK_OF_ART;Juan Rana, a Gay Golden Age Gracioso  ',\n",
       " 'PER;E. H. Friedman  ',\n",
       " 'PER;H. J. Manzari  ',\n",
       " 'PER;D. D. Miller  ',\n",
       " 'WORK_OF_ART;A society on Stage: Essays on Spanish Golden Drama  ',\n",
       " 'GPE;New Orleans  ',\n",
       " 'ORG;University Press of the South  ',\n",
       " 'PER;F. Sáez Raposo  ',\n",
       " 'WORK_OF_ART;Fieras afemina amor  ',\n",
       " 'PER;Calderón  ',\n",
       " 'WORK_OF_ART;El triunfo de Juan Rana  ',\n",
       " 'DATE;1668  ',\n",
       " 'PER;Mori  ',\n",
       " 'PER;Mariana de Austria  ',\n",
       " 'DATE;22 de diciembre de 1669  ',\n",
       " 'DATE;enero de 1670  ',\n",
       " 'DATE;29 de enero de 1672  ',\n",
       " 'PER;Rich Greer  ',\n",
       " 'WORK_OF_ART;A la fiesta que hizo en el Retiro a los Reyes el Príncipe de Astillano  ',\n",
       " 'PER;F. Sáez Raposo  ',\n",
       " 'DATE;1624  ',\n",
       " 'PER;Lope de Vega  ',\n",
       " 'WORK_OF_ART;Lo que ha de ser  ',\n",
       " 'DATE;1625-1630  ',\n",
       " 'PER;Juan Pérez de Montalbán  ',\n",
       " 'WORK_OF_ART;El segundo Séneca de España  ',\n",
       " 'PER;Felipe II  ',\n",
       " 'PER;Bartola  ',\n",
       " 'PER;Bergman  ',\n",
       " 'WORK_OF_ART;El caballero novel  ',\n",
       " 'ORG;Biblioteca Nacional de Madrid  ',\n",
       " 'WORK_OF_ART;El desdén vengado  ',\n",
       " 'DATE;4 de agosto de 1617  ',\n",
       " 'DATE;9 de septiembre de 1617  ',\n",
       " 'GPE;Lisboa  ',\n",
       " 'DATE;21 de marzo de 1622  ',\n",
       " 'PER;Juan Bautista Valenciano  ',\n",
       " 'WORK_OF_ART;La nueva victoria de don Gonzalo de Córdoba  ',\n",
       " 'DATE;8 de octubre de 1622  ',\n",
       " 'DATE;21 de octubre de 1622  ',\n",
       " 'WORK_OF_ART;La infelice Dorotea  ',\n",
       " 'PER;Andrés de Claramonte  ',\n",
       " 'DATE;1620  ',\n",
       " 'DATE;diciembre de 1621  ',\n",
       " 'DATE;12 de noviembre de 1622  ',\n",
       " 'GPE;Londres  ',\n",
       " 'ORG;Tamesis Books  ',\n",
       " 'PER;Antonio de Escamilla  ',\n",
       " 'WORK_OF_ART;Bien vengas mal  ',\n",
       " 'PER;Roque de Figueroa  ',\n",
       " 'PER;Tomás Fernández  ',\n",
       " 'WORK_OF_ART;El guardainfante  ',\n",
       " 'WORK_OF_ART;El soldado  ',\n",
       " 'WORK_OF_ART;El mundo  ',\n",
       " 'WORK_OF_ART;El mundo al revés  ',\n",
       " 'WORK_OF_ART;El mago  ',\n",
       " 'DATE;1637  ',\n",
       " 'EVENT;fiesta de San Juan  ',\n",
       " 'WORK_OF_ART;Los muertos vivos  ',\n",
       " 'WORK_OF_ART;El remediador  ',\n",
       " 'WORK_OF_ART;Pipote en nombre de Juan Rana  ',\n",
       " 'WORK_OF_ART;El poeta de bailes y el letrado  ',\n",
       " 'WORK_OF_ART;Al cabo de los bailes mil  ',\n",
       " 'PER;Antonio de Solís  ',\n",
       " 'WORK_OF_ART;Los volatines  ',\n",
       " 'DATE;1655  ',\n",
       " 'LOC;Salón del Palacio de Buen Retiro  ',\n",
       " 'PER;Ana Coronel  ',\n",
       " 'PER;Mariana de Borja  ',\n",
       " 'PER;Mateo Godoy  ',\n",
       " 'WORK_OF_ART;La Zarzuela  ',\n",
       " 'LOC;Palacio de la Zarzuela  ',\n",
       " 'PER;M. L. Lobato  ',\n",
       " 'WORK_OF_ART;El retrato de Juan Rana  ',\n",
       " 'PER;Felipe Próspero  ',\n",
       " 'DATE;noviembre de 1657  ',\n",
       " 'WORK_OF_ART;Las fiestas bacanales  ',\n",
       " 'WORK_OF_ART;Salta en banco  ',\n",
       " 'WORK_OF_ART;El niño caballero  ',\n",
       " 'WORK_OF_ART;Aguardad, supremos dioses  ',\n",
       " 'WORK_OF_ART;Triunfos de Amor y Fortuna  ',\n",
       " 'PER;Agustín Moreto  ',\n",
       " 'WORK_OF_ART;El ayo  ',\n",
       " 'DATE;1662  ',\n",
       " 'PER;Jerónimo Morales  ',\n",
       " 'WORK_OF_ART;La loa de Juan Rana  ',\n",
       " 'PER;Miguel de Orozco  ',\n",
       " 'PER;Sebastián de Prado  ',\n",
       " 'PER;Antonio de Escamilla  ',\n",
       " 'PER;Alonso de Olmedo  ',\n",
       " 'PER;María de Quiñones  ',\n",
       " 'PER;María de Prado  ',\n",
       " 'PER;Manuela Escamilla  ',\n",
       " 'DATE;22 de diciembre de 1662  ',\n",
       " 'DATE;24 de octubre de 1662  ',\n",
       " 'DATE;17 de diciembre de 1662  ',\n",
       " 'DATE;26 de julio  ',\n",
       " 'EVENT;festividad de Santa Ana  ',\n",
       " 'PER;Sáez Raposo']"
      ]
     },
     "execution_count": 132,
     "metadata": {},
     "output_type": "execute_result"
    }
   ],
   "source": [
    "llm_response.split(\"\\n\")"
   ]
  },
  {
   "cell_type": "code",
   "execution_count": 133,
   "id": "61f2462e",
   "metadata": {},
   "outputs": [],
   "source": [
    "for item in llm_response.split(\"\\n\"):\n",
    "    try:\n",
    "        ner, name = item.split(\";\")\n",
    "    except ValueError:\n",
    "        print(f\"Error: {item}\")\n",
    "        continue\n",
    "    prompting_ners[ner].add(name.strip())"
   ]
  },
  {
   "cell_type": "code",
   "execution_count": 134,
   "id": "9065ce5d",
   "metadata": {},
   "outputs": [
    {
     "data": {
      "text/plain": [
       "defaultdict(set,\n",
       "            {'PER': {'Agustín Moreto',\n",
       "              'Alonso de Olmedo',\n",
       "              'Ana Coronel',\n",
       "              'Andrés de Claramonte',\n",
       "              'Antonio de Escamilla',\n",
       "              'Antonio de Solís',\n",
       "              'Avellaneda',\n",
       "              'Bartola',\n",
       "              'Bergman',\n",
       "              'Bernarda Manuela',\n",
       "              'Bernarda Ramírez',\n",
       "              'Bárbara Coronel',\n",
       "              'Calderón',\n",
       "              'Christiane Faliu-Lacourt',\n",
       "              'Cosme Pérez',\n",
       "              'Cotarelo',\n",
       "              'D. D. Miller',\n",
       "              'Damián Pérez',\n",
       "              'Domingo Canejil',\n",
       "              'E. H. Friedman',\n",
       "              'El Capitán Medrano',\n",
       "              'F. Serralta',\n",
       "              'F. Sáez Raposo',\n",
       "              'Felipe II',\n",
       "              'Felipe IV',\n",
       "              'Felipe Próspero',\n",
       "              'Francisca María Pérez',\n",
       "              'H. Bergman',\n",
       "              'H. J. Manzari',\n",
       "              'I. Arellano',\n",
       "              'Isabel de Basto',\n",
       "              'Jerónimo Morales',\n",
       "              'Juan Bautista Valenciano',\n",
       "              'Juan Caramuel',\n",
       "              'Juan Navarro de Espinosa',\n",
       "              'Juan Pérez de Montalbán',\n",
       "              'Juan Rana',\n",
       "              'Leonardo',\n",
       "              'Lope de Vega',\n",
       "              'Luis Quiñones de Benavente',\n",
       "              'Luis de Belmonte',\n",
       "              'M. L. Lobato',\n",
       "              'M. Vitse',\n",
       "              'Manuela Escamilla',\n",
       "              'Mariana de Austria',\n",
       "              'Mariana de Borja',\n",
       "              'María Teresa de Austria',\n",
       "              'María de Acosta',\n",
       "              'María de Prado',\n",
       "              'María de Quiñones',\n",
       "              'Mateo Godoy',\n",
       "              'Mateo de Godoy',\n",
       "              'Miguel de Orozco',\n",
       "              'Mori',\n",
       "              'Pedro de la Rosa',\n",
       "              'Peter Thompson',\n",
       "              'Rennert',\n",
       "              'Rich Greer',\n",
       "              'Roque de Figueroa',\n",
       "              'Sebastián de Prado',\n",
       "              'Shergold',\n",
       "              'Subirá',\n",
       "              'Sáez Raposo',\n",
       "              'Sánchez Arjona',\n",
       "              'Tomás Fernández',\n",
       "              'Tomás Fernández de Cabredo',\n",
       "              'V. García Ruiz',\n",
       "              'Varey'},\n",
       "             'ORG': {'Biblioteca Nacional de Madrid',\n",
       "              'Cofradía de Nuestra Señora de la Novena',\n",
       "              'Genealogía',\n",
       "              'Reichenberger',\n",
       "              'Tamesis Books',\n",
       "              'University Press of the South'},\n",
       "             'DATE': {'12 de noviembre de 1622',\n",
       "              '1620',\n",
       "              '1624',\n",
       "              '1625-1630',\n",
       "              '1631',\n",
       "              '1634-1635',\n",
       "              '1634-1640',\n",
       "              '1635',\n",
       "              '1636',\n",
       "              '1636-1640',\n",
       "              '1637',\n",
       "              '1650',\n",
       "              '1655',\n",
       "              '1662',\n",
       "              '1668',\n",
       "              '17 de diciembre de 1662',\n",
       "              '1707',\n",
       "              '1987',\n",
       "              '1994',\n",
       "              '21 de marzo de 1622',\n",
       "              '21 de octubre de 1622',\n",
       "              '22 de diciembre de 1662',\n",
       "              '22 de diciembre de 1669',\n",
       "              '24 de octubre de 1662',\n",
       "              '26 de julio',\n",
       "              '29 de enero de 1672',\n",
       "              '4 de agosto de 1617',\n",
       "              '7 de abril de 1593',\n",
       "              '8 de octubre de 1622',\n",
       "              '9 de septiembre de 1617',\n",
       "              'diciembre de 1621',\n",
       "              'enero de 1670',\n",
       "              'noviembre de 1657',\n",
       "              'otoño de 1634'},\n",
       "             'GPE': {'Guadalajara',\n",
       "              'Lisboa',\n",
       "              'Londres',\n",
       "              'Madrid',\n",
       "              'New Orleans',\n",
       "              'Palacio de la Zarzuela',\n",
       "              'Salón del Palacio de Buen Retiro',\n",
       "              'Tudela de Duero',\n",
       "              'Valladolid'},\n",
       "             'WORK_OF_ART': {'A la fiesta que hizo en el Retiro a los Reyes el Príncipe de Astillano',\n",
       "              'A society on Stage: Essays on Spanish Golden Drama',\n",
       "              'Aguardad, supremos dioses',\n",
       "              'Al cabo de los bailes mil',\n",
       "              'Bien vengas mal',\n",
       "              'El ayo',\n",
       "              'El ayo de Agustín Moreto',\n",
       "              'El caballero novel',\n",
       "              'El desdén vengado',\n",
       "              'El doctor Juan Rana',\n",
       "              'El guardainfante',\n",
       "              'El mago',\n",
       "              'El mundo',\n",
       "              'El mundo al revés',\n",
       "              'El niño caballero',\n",
       "              'El poeta de bailes',\n",
       "              'El poeta de bailes y el letrado',\n",
       "              'El poeta de bailes y el letrado. Segunda parte',\n",
       "              'El remediador',\n",
       "              'El retrato de Juan Rana',\n",
       "              'El segundo Séneca de España',\n",
       "              'El soldado',\n",
       "              'El triunfo de Juan Rana',\n",
       "              'Fieras afemina amor',\n",
       "              'Juan Rana, a Gay Golden Age Gracioso',\n",
       "              'La Zarzuela',\n",
       "              'La infelice Dorotea',\n",
       "              'La loa de Juan Rana',\n",
       "              'La maestra de gracias',\n",
       "              'La nueva victoria de don Gonzalo de Córdoba',\n",
       "              'La portería de las damas',\n",
       "              'La risa y el actor: el caso de Juan Rana',\n",
       "              'Las fiestas bacanales',\n",
       "              'Lo que ha de ser',\n",
       "              'Los muertos vivos',\n",
       "              'Los volatines',\n",
       "              'Pipote en nombre de Juan Rana',\n",
       "              'Primus calamus',\n",
       "              'Salta en banco',\n",
       "              'Triunfos de Amor y Fortuna'},\n",
       "             'LOC': {'Bello Retiro',\n",
       "              'Buen Retiro',\n",
       "              'Kassel',\n",
       "              'Madrid',\n",
       "              'Palacio de la Zarzuela',\n",
       "              'Salón del Palacio',\n",
       "              'Salón del Palacio de Buen Retiro'},\n",
       "             'EVENT': {'festividad de Santa Ana', 'fiesta de San Juan'}})"
      ]
     },
     "execution_count": 134,
     "metadata": {},
     "output_type": "execute_result"
    }
   ],
   "source": [
    "prompting_ners"
   ]
  },
  {
   "cell_type": "code",
   "execution_count": 125,
   "id": "1391638d",
   "metadata": {},
   "outputs": [
    {
     "data": {
      "text/plain": [
       "dict_keys(['PER', 'ORG', 'DATE', 'GPE', 'WORK_OF_ART', 'LOC', 'EVENT'])"
      ]
     },
     "execution_count": 125,
     "metadata": {},
     "output_type": "execute_result"
    }
   ],
   "source": [
    "prompting_ners.keys()"
   ]
  },
  {
   "cell_type": "code",
   "execution_count": 126,
   "id": "9c6da546",
   "metadata": {},
   "outputs": [],
   "source": [
    "for ent in doc.ents:\n",
    "    spacy_ners[ent.label_].add(ent.text)"
   ]
  },
  {
   "cell_type": "code",
   "execution_count": 127,
   "id": "d2e33cb9",
   "metadata": {},
   "outputs": [
    {
     "data": {
      "text/plain": [
       "defaultdict(set,\n",
       "            {'PER': {'Agustín Moreto',\n",
       "              'Alcayde',\n",
       "              'Alonso de] Olmedo',\n",
       "              'Ana',\n",
       "              'Ana Coronel',\n",
       "              'Andrés de Claramonte',\n",
       "              'Antonio Escamilla',\n",
       "              'Antonio de Escamilla',\n",
       "              'Antonio de Solís',\n",
       "              'Antonio de] Escamilla',\n",
       "              'Arellano',\n",
       "              'Avellaneda',\n",
       "              'Años',\n",
       "              'Bartola',\n",
       "              'Bergman',\n",
       "              'Bernarda Manuela',\n",
       "              'Bernarda Ramírez',\n",
       "              'Borja',\n",
       "              'Bárbara Coronel',\n",
       "              'Cabredo',\n",
       "              'Calderón',\n",
       "              'Calderón Fieras',\n",
       "              'Calderón de la Barca',\n",
       "              'Capitán Medrano',\n",
       "              'Cid Campeador',\n",
       "              'Como',\n",
       "              'Cosme',\n",
       "              'Cosme Pérez',\n",
       "              'Cosme [Pérez',\n",
       "              'Cotarelo',\n",
       "              'D. D. Miller',\n",
       "              'Damián Pérez',\n",
       "              'Doctor Juan Rana',\n",
       "              'Domingo Canejil',\n",
       "              'E. H. Friedman',\n",
       "              'Estábalo',\n",
       "              'F. Serralta',\n",
       "              'F. Sáez Raposo',\n",
       "              'Felipe II',\n",
       "              'Felipe IV',\n",
       "              'Felipe Próspero',\n",
       "              'Francisca María Pérez',\n",
       "              'Godoy',\n",
       "              'H. Bergman',\n",
       "              'H. J. Manzari',\n",
       "              'Infanta María Teresa de Austria',\n",
       "              'Isabel de Basto',\n",
       "              'Jerónimo Morales',\n",
       "              'Juan',\n",
       "              'Juan Bautista Valenciano',\n",
       "              'Juan Caramuel',\n",
       "              'Juan Navarro de Espinosa',\n",
       "              'Juan Pérez de Montalbán',\n",
       "              'Juan Rana',\n",
       "              'Juan Ranas',\n",
       "              'Leonardo',\n",
       "              'Lope',\n",
       "              'Lope de Vega',\n",
       "              'Luis Quiñones',\n",
       "              'Luis Quiñones de Benavente',\n",
       "              'Luis de Belmonte',\n",
       "              'M. L. Lobato',\n",
       "              'Manuela Escamilla',\n",
       "              'Mariana de Austria',\n",
       "              'Mariana de Borja',\n",
       "              'María Teresa de Austria',\n",
       "              'María de Acosta',\n",
       "              'María de Prado',\n",
       "              'María de Quiñones',\n",
       "              'Mateo',\n",
       "              'Mateo Godoy',\n",
       "              'Mateo de Godoy',\n",
       "              'Miguel de] Orozco',\n",
       "              'Moreto',\n",
       "              'Mori',\n",
       "              'Pedro de la Rosa',\n",
       "              'Pellicer',\n",
       "              'Peter Thompson',\n",
       "              'Prado',\n",
       "              'Quiñones',\n",
       "              'Quiñones Pipote',\n",
       "              'Quiñones de Benavente',\n",
       "              'Rana',\n",
       "              'Rana.- Verá',\n",
       "              'Rennert',\n",
       "              'Rey',\n",
       "              'Rey.- Cómo',\n",
       "              'Rey.- ¿Qué',\n",
       "              'Rich Greer',\n",
       "              'Roque de Figueroa',\n",
       "              'San Juan',\n",
       "              'Santa Ana',\n",
       "              'Sebastián de] Prado',\n",
       "              'Según F. Sáez Raposo',\n",
       "              'Señoras Grandes',\n",
       "              'Shergold',\n",
       "              'Solís',\n",
       "              'Su Majestad',\n",
       "              'Sáez Raposo',\n",
       "              'Sánchez Arjona',\n",
       "              'Séneca',\n",
       "              'Tomás Fernández',\n",
       "              'Tomás Fernández de Cabredo',\n",
       "              'Varey',\n",
       "              'Zid',\n",
       "              'mui zelebrado',\n",
       "              'onor'},\n",
       "             'MISC': {'A la fiesta',\n",
       "              'A partir de las palabras',\n",
       "              'A society on Stage: Essays on Spanish Golden Drama',\n",
       "              'Aguardad',\n",
       "              'Bernarda',\n",
       "              'Bien vengas mal [',\n",
       "              'Bien vengas mal si vienes',\n",
       "              'Carnaval',\n",
       "              'Comedias.',\n",
       "              'De hecho, la Genealogía',\n",
       "              'Del horror a la risa',\n",
       "              'Dicho investigador',\n",
       "              'El ayo de',\n",
       "              'El caballero',\n",
       "              'El desdén vengado',\n",
       "              'El doctor Juan Rana',\n",
       "              'El guardainfante',\n",
       "              'El mago',\n",
       "              'El manuscrito',\n",
       "              'El mismo investigador',\n",
       "              'El mundo',\n",
       "              'El mundo al revés .',\n",
       "              'El niño caballero',\n",
       "              'El nombre de',\n",
       "              'El poeta de bailes',\n",
       "              'El reparto que figura',\n",
       "              'El retrato de Juan Rana',\n",
       "              'El soldado',\n",
       "              'El triunfo de Juan Rana',\n",
       "              'Fieras',\n",
       "              'Gay Golden Age Gracioso',\n",
       "              'Genealogía',\n",
       "              'Genealogía  —este apodo',\n",
       "              'Homenaje a Christiane Faliu-Lacourt',\n",
       "              'La Zarzuela',\n",
       "              'La comedia',\n",
       "              'La infelice Dorotea',\n",
       "              'La lista de obras de Quiñones',\n",
       "              'La loa de Juan Rana',\n",
       "              'La misma fuente',\n",
       "              'La nueva victoria de don Gonzalo de Córdoba',\n",
       "              'La pieza',\n",
       "              'La risa y el actor: el caso de Juan Rana',\n",
       "              'Las fiestas bacanales',\n",
       "              'Los muertos vivos',\n",
       "              'Los volatines',\n",
       "              'M. Vitse',\n",
       "              'Mi tío',\n",
       "              'Pascua',\n",
       "              'Por otro lado',\n",
       "              'Por su parte',\n",
       "              'Primus calamus',\n",
       "              'Reies',\n",
       "              'Res',\n",
       "              'Res.',\n",
       "              'Retiro',\n",
       "              'Según la Genealogía',\n",
       "              'Según relata la Genealogía',\n",
       "              'Señoras',\n",
       "              'Sin embargo',\n",
       "              'Tamesis Books',\n",
       "              'Triunfos de Amor y Fortuna',\n",
       "              'Varey',\n",
       "              'Y volviéndose a mirar las ventanas',\n",
       "              'y1640'},\n",
       "             'LOC': {'Aguilar Priego',\n",
       "              'Alcalde',\n",
       "              'Arte de la pintura',\n",
       "              'Bello',\n",
       "              'Biblioteca Nacional de Madrid',\n",
       "              'Buen Retiro',\n",
       "              'Buen) Retiro',\n",
       "              'Cantarranas',\n",
       "              'Cofradía de Nuestra Señora de la Novena',\n",
       "              'Coronela',\n",
       "              'Escamilla',\n",
       "              'España',\n",
       "              'Españolas',\n",
       "              'Espinel',\n",
       "              'Grandes',\n",
       "              'Grifona',\n",
       "              'Guadalajara',\n",
       "              'Infantes',\n",
       "              'Kassel',\n",
       "              'Lisboa',\n",
       "              'Londres',\n",
       "              'Madrid',\n",
       "              'New Orleans',\n",
       "              'Palacio',\n",
       "              'Palacio de la Zarzuela',\n",
       "              'Ranilla',\n",
       "              'Reichenberger',\n",
       "              'Retiro',\n",
       "              'Salta',\n",
       "              'Salón',\n",
       "              'Salón del Palacio',\n",
       "              'Salón del Palacio de Buen Retiro',\n",
       "              'Subirá',\n",
       "              'Tudela de Duero',\n",
       "              'Valladolid',\n",
       "              'los Reyes'},\n",
       "             'ORG': {'El remediador', 'University Press of the South'}})"
      ]
     },
     "execution_count": 127,
     "metadata": {},
     "output_type": "execute_result"
    }
   ],
   "source": [
    "spacy_ners"
   ]
  },
  {
   "cell_type": "code",
   "execution_count": 128,
   "id": "487a4f91",
   "metadata": {},
   "outputs": [
    {
     "data": {
      "text/plain": [
       "dict_keys(['PER', 'MISC', 'LOC', 'ORG'])"
      ]
     },
     "execution_count": 128,
     "metadata": {},
     "output_type": "execute_result"
    }
   ],
   "source": [
    "spacy_ners.keys()"
   ]
  },
  {
   "cell_type": "code",
   "execution_count": 135,
   "id": "d46bc90e",
   "metadata": {},
   "outputs": [
    {
     "name": "stdout",
     "output_type": "stream",
     "text": [
      "Entidades encontradas por el modelo de lenguaje:\n",
      "\t- PER: 68 entidades\n",
      "\t- ORG: 6 entidades\n",
      "\t- DATE: 34 entidades\n",
      "\t- GPE: 9 entidades\n",
      "\t- WORK_OF_ART: 40 entidades\n",
      "\t- LOC: 7 entidades\n",
      "\t- EVENT: 2 entidades\n",
      "\n",
      "Entidades encontradas por el modelo de Spacy:\n",
      "\t- PER: 107 entidades\n",
      "\t- MISC: 65 entidades\n",
      "\t- LOC: 36 entidades\n",
      "\t- ORG: 2 entidades\n"
     ]
    }
   ],
   "source": [
    "print(\"Entidades encontradas por el modelo de lenguaje:\")\n",
    "for ner_type in prompting_ners.keys():\n",
    "    print(f\"\\t- {ner_type}: {len(prompting_ners[ner_type])} entidades\")\n",
    "\n",
    "print(\"\\nEntidades encontradas por el modelo de Spacy:\")\n",
    "for ner_type in spacy_ners.keys():\n",
    "    print(f\"\\t- {ner_type}: {len(spacy_ners[ner_type])} entidades\")"
   ]
  },
  {
   "cell_type": "code",
   "execution_count": 22,
   "id": "3543e586",
   "metadata": {},
   "outputs": [
    {
     "data": {
      "text/plain": [
       "{'Aguilar Priego',\n",
       " 'Alcalde',\n",
       " 'Arte de la pintura',\n",
       " 'Bello',\n",
       " 'Biblioteca Nacional de Madrid',\n",
       " 'Buen Retiro',\n",
       " 'Buen) Retiro',\n",
       " 'Cantarranas',\n",
       " 'Cofradía de Nuestra Señora de la Novena',\n",
       " 'Coronela',\n",
       " 'Escamilla',\n",
       " 'España',\n",
       " 'Españolas',\n",
       " 'Espinel',\n",
       " 'Grandes',\n",
       " 'Grifona',\n",
       " 'Guadalajara',\n",
       " 'Infantes',\n",
       " 'Kassel',\n",
       " 'Lisboa',\n",
       " 'Londres',\n",
       " 'Madrid',\n",
       " 'New Orleans',\n",
       " 'Palacio',\n",
       " 'Palacio de la Zarzuela',\n",
       " 'Ranilla',\n",
       " 'Reichenberger',\n",
       " 'Retiro',\n",
       " 'Salta',\n",
       " 'Salón',\n",
       " 'Salón del Palacio',\n",
       " 'Salón del Palacio de Buen Retiro',\n",
       " 'Subirá',\n",
       " 'Tudela de Duero',\n",
       " 'Valladolid',\n",
       " 'los Reyes'}"
      ]
     },
     "execution_count": 22,
     "metadata": {},
     "output_type": "execute_result"
    }
   ],
   "source": [
    "spacy_ners[\"LOC\"]"
   ]
  },
  {
   "cell_type": "code",
   "execution_count": 23,
   "id": "2a7ce481",
   "metadata": {},
   "outputs": [
    {
     "data": {
      "text/plain": [
       "{'A la fiesta que hizo en el Retiro a los Reyes el Príncipe de Astillano',\n",
       " 'Aguardad, supremos dioses',\n",
       " 'Al cabo de los bailes mil',\n",
       " 'Bien vengas mal',\n",
       " 'El ayo de Agustín Moreto',\n",
       " 'El caballero novel',\n",
       " 'El doctor Juan Rana',\n",
       " 'El guardainfante',\n",
       " 'El mago',\n",
       " 'El mundo',\n",
       " 'El mundo al revés',\n",
       " 'El niño caballero',\n",
       " 'El poeta de bailes',\n",
       " 'El poeta de bailes y el letrado. Segunda parte',\n",
       " 'El remediador',\n",
       " 'El retrato de Juan Rana',\n",
       " 'El segundo Séneca de España',\n",
       " 'El soldado',\n",
       " 'El triunfo de Juan Rana',\n",
       " 'Fieras afemina amor',\n",
       " 'Juan Rana, a Gay Golden Age Gracioso',\n",
       " 'La Zarzuela',\n",
       " 'La infelice Dorotea',\n",
       " 'La loa de Juan Rana',\n",
       " 'La maestra de gracias',\n",
       " 'La portería de las damas',\n",
       " 'Las fiestas bacanales',\n",
       " 'Lo que ha de ser',\n",
       " 'Los muertos vivos',\n",
       " 'Los volatines',\n",
       " 'Pipote en nombre de Juan Rana',\n",
       " 'Primus calamus',\n",
       " 'Salta en banco',\n",
       " 'Triunfos de Amor y Fortuna'}"
      ]
     },
     "execution_count": 23,
     "metadata": {},
     "output_type": "execute_result"
    }
   ],
   "source": [
    "prompting_ners[\"WORK_OF_ART\"]"
   ]
  },
  {
   "cell_type": "code",
   "execution_count": 1,
   "id": "4c10c3f5",
   "metadata": {},
   "outputs": [
    {
     "ename": "NameError",
     "evalue": "name 'prompting_ners' is not defined",
     "output_type": "error",
     "traceback": [
      "\u001b[31m---------------------------------------------------------------------------\u001b[39m",
      "\u001b[31mNameError\u001b[39m                                 Traceback (most recent call last)",
      "\u001b[36mCell\u001b[39m\u001b[36m \u001b[39m\u001b[32mIn[1]\u001b[39m\u001b[32m, line 4\u001b[39m\n\u001b[32m      1\u001b[39m \u001b[38;5;28;01mimport\u001b[39;00m\u001b[38;5;250m \u001b[39m\u001b[34;01mjson\u001b[39;00m\n\u001b[32m      3\u001b[39m \u001b[38;5;28;01mwith\u001b[39;00m \u001b[38;5;28mopen\u001b[39m(\u001b[33m\"\u001b[39m\u001b[33m../out/prompting_ners_gpt_4.1_mini_intro.json\u001b[39m\u001b[33m\"\u001b[39m, \u001b[33m\"\u001b[39m\u001b[33mw\u001b[39m\u001b[33m\"\u001b[39m, encoding=\u001b[33m\"\u001b[39m\u001b[33mutf-8\u001b[39m\u001b[33m\"\u001b[39m) \u001b[38;5;28;01mas\u001b[39;00m fw:\n\u001b[32m----> \u001b[39m\u001b[32m4\u001b[39m     json.dump({key: \u001b[38;5;28mlist\u001b[39m(values) \u001b[38;5;28;01mfor\u001b[39;00m key, values \u001b[38;5;129;01min\u001b[39;00m \u001b[43mprompting_ners\u001b[49m.items()}, fw, ensure_ascii=\u001b[38;5;28;01mFalse\u001b[39;00m, indent=\u001b[32m4\u001b[39m)\n\u001b[32m      6\u001b[39m \u001b[38;5;28;01mwith\u001b[39;00m \u001b[38;5;28mopen\u001b[39m(\u001b[33m\"\u001b[39m\u001b[33m../out/spacy_ners_intro.json\u001b[39m\u001b[33m\"\u001b[39m, \u001b[33m\"\u001b[39m\u001b[33mw\u001b[39m\u001b[33m\"\u001b[39m, encoding=\u001b[33m\"\u001b[39m\u001b[33mutf-8\u001b[39m\u001b[33m\"\u001b[39m) \u001b[38;5;28;01mas\u001b[39;00m fw:\n\u001b[32m      7\u001b[39m     json.dump({key: \u001b[38;5;28mlist\u001b[39m(values) \u001b[38;5;28;01mfor\u001b[39;00m key, values \u001b[38;5;129;01min\u001b[39;00m spacy_ners.items()}, fw, ensure_ascii=\u001b[38;5;28;01mFalse\u001b[39;00m, indent=\u001b[32m4\u001b[39m)\n",
      "\u001b[31mNameError\u001b[39m: name 'prompting_ners' is not defined"
     ]
    }
   ],
   "source": [
    "import json\n",
    "\n",
    "with open(\"../out/prompting_ners_gpt_4.1_mini_intro.json\", \"w\", encoding=\"utf-8\") as fw:\n",
    "    json.dump({key: list(values) for key, values in prompting_ners.items()}, fw, ensure_ascii=False, indent=4)\n",
    "    \n",
    "with open(\"../out/spacy_ners_intro.json\", \"w\", encoding=\"utf-8\") as fw:\n",
    "    json.dump({key: list(values) for key, values in spacy_ners.items()}, fw, ensure_ascii=False, indent=4)"
   ]
  },
  {
   "cell_type": "markdown",
   "id": "f20e0c9f",
   "metadata": {},
   "source": [
    "## Extracción de toda la historia de Juan Rana"
   ]
  },
  {
   "cell_type": "code",
   "execution_count": 5,
   "id": "970d3ba3",
   "metadata": {},
   "outputs": [],
   "source": [
    "with open(\"../data/introduccion.txt\", \"r\", encoding=\"utf-8\") as fr:\n",
    "    text = fr.read()\n",
    "\n",
    "with open(\"../data/historia_juan_rana.txt\", \"r\", encoding=\"utf-8\") as fr:\n",
    "    text += fr.read()"
   ]
  },
  {
   "cell_type": "code",
   "execution_count": 6,
   "id": "e90f077e",
   "metadata": {},
   "outputs": [],
   "source": [
    "nlp = sp.load(\"es_core_news_lg\")\n",
    "doc = nlp(text)"
   ]
  },
  {
   "cell_type": "code",
   "execution_count": 7,
   "id": "cb530080",
   "metadata": {},
   "outputs": [],
   "source": [
    "from collections import defaultdict\n",
    "\n",
    "prompting_ners = defaultdict(set)\n",
    "spacy_ners = defaultdict(set)"
   ]
  },
  {
   "cell_type": "code",
   "execution_count": 8,
   "id": "45c14216",
   "metadata": {},
   "outputs": [],
   "source": [
    "ner_extractor_prompt = PromptTemplate(\n",
    "    input_variables=[\"text\"],\n",
    "    template=\"\"\"\n",
    "    \n",
    "    Eres un agente experto encargado de extraer todas las entidades nombradas que aparezcan en el siguiente texto sin restricciones de ningún tipo. Por cada entidad encontrada, indícala en el formato:\n",
    "\n",
    "    TIPO_DE_NER-NER\n",
    "\n",
    "    El tipo debe pertenecera a una de las siguientes categorías: PER, ORG, GPE, LOC, DATE, MONEY, PRODUCT, EVENT, WORK_OF_ART, LANGUAGE, LAW... Si el tipo no está claro, utiliza la mejor etiqueta posible.\n",
    "\n",
    "    Ejemplo de formato (solo como referencia, no restrictivo):\n",
    "\n",
    "    ### Ejemplo:\n",
    "\n",
    "    Texto:\n",
    "    \"Gabriel García Márquez escribió Cien años de soledad en Colombia en 1967.\"\n",
    "\n",
    "    Salida:\n",
    "    PER;Gabriel García Márquez\n",
    "    WORK_OF_ART;Cien años de soledad\n",
    "    LOC;Colombia\n",
    "    DATE;1967\n",
    "\n",
    "    No añadas explicaciones ni comentarios. Solo devuelve una lista, una entidad por línea, en el formato indicado.\n",
    "\n",
    "    ### Texto:\n",
    "    {text}\n",
    "    \"\"\",\n",
    ")"
   ]
  },
  {
   "cell_type": "code",
   "execution_count": 11,
   "id": "2ee67f9f",
   "metadata": {},
   "outputs": [
    {
     "data": {
      "application/vnd.jupyter.widget-view+json": {
       "model_id": "ae4f04ac63234822ad9129f993a34c0c",
       "version_major": 2,
       "version_minor": 0
      },
      "text/plain": [
       "  0%|          | 0/37 [00:00<?, ?it/s]"
      ]
     },
     "metadata": {},
     "output_type": "display_data"
    },
    {
     "data": {
      "application/vnd.jupyter.widget-view+json": {
       "model_id": "6a4c4d018b244bdbae458190e5c7cd5b",
       "version_major": 2,
       "version_minor": 0
      },
      "text/plain": [
       "  0%|          | 0/134 [00:00<?, ?it/s]"
      ]
     },
     "metadata": {},
     "output_type": "display_data"
    },
    {
     "name": "stdout",
     "output_type": "stream",
     "text": [
      "Error: No hay entidades nombradas en el texto proporcionado., sentence:  Si una tranca / enquillotro, arre\n"
     ]
    },
    {
     "data": {
      "application/vnd.jupyter.widget-view+json": {
       "model_id": "e33e3df0b1ca4ede879e43e4c85aafa7",
       "version_major": 2,
       "version_minor": 0
      },
      "text/plain": [
       "  0%|          | 0/2 [00:00<?, ?it/s]"
      ]
     },
     "metadata": {},
     "output_type": "display_data"
    },
    {
     "data": {
      "application/vnd.jupyter.widget-view+json": {
       "model_id": "cf09496c51794763b3073ee8be569a9a",
       "version_major": 2,
       "version_minor": 0
      },
      "text/plain": [
       "  0%|          | 0/2 [00:00<?, ?it/s]"
      ]
     },
     "metadata": {},
     "output_type": "display_data"
    },
    {
     "data": {
      "application/vnd.jupyter.widget-view+json": {
       "model_id": "2c1b171e98ec444e9ed9310366ebfb7b",
       "version_major": 2,
       "version_minor": 0
      },
      "text/plain": [
       "  0%|          | 0/3 [00:00<?, ?it/s]"
      ]
     },
     "metadata": {},
     "output_type": "display_data"
    },
    {
     "data": {
      "application/vnd.jupyter.widget-view+json": {
       "model_id": "6d0e0be6cd8c4dfa9ba4bbd540dc199c",
       "version_major": 2,
       "version_minor": 0
      },
      "text/plain": [
       "  0%|          | 0/2 [00:00<?, ?it/s]"
      ]
     },
     "metadata": {},
     "output_type": "display_data"
    },
    {
     "data": {
      "application/vnd.jupyter.widget-view+json": {
       "model_id": "b1f8ff5fffb1463fb63a6576a4055aea",
       "version_major": 2,
       "version_minor": 0
      },
      "text/plain": [
       "  0%|          | 0/7 [00:00<?, ?it/s]"
      ]
     },
     "metadata": {},
     "output_type": "display_data"
    },
    {
     "data": {
      "application/vnd.jupyter.widget-view+json": {
       "model_id": "38eac0adca8c42949192dafa7c4eeaca",
       "version_major": 2,
       "version_minor": 0
      },
      "text/plain": [
       "  0%|          | 0/2 [00:00<?, ?it/s]"
      ]
     },
     "metadata": {},
     "output_type": "display_data"
    },
    {
     "data": {
      "application/vnd.jupyter.widget-view+json": {
       "model_id": "241bba9763ea48d1b1b9a6acb114ec31",
       "version_major": 2,
       "version_minor": 0
      },
      "text/plain": [
       "  0%|          | 0/2 [00:00<?, ?it/s]"
      ]
     },
     "metadata": {},
     "output_type": "display_data"
    },
    {
     "data": {
      "application/vnd.jupyter.widget-view+json": {
       "model_id": "95bb79b456fc4b888353c18313803482",
       "version_major": 2,
       "version_minor": 0
      },
      "text/plain": [
       "  0%|          | 0/2 [00:00<?, ?it/s]"
      ]
     },
     "metadata": {},
     "output_type": "display_data"
    },
    {
     "data": {
      "application/vnd.jupyter.widget-view+json": {
       "model_id": "8fc84cecfe8943eaa8f742cdc6983b13",
       "version_major": 2,
       "version_minor": 0
      },
      "text/plain": [
       "  0%|          | 0/2 [00:00<?, ?it/s]"
      ]
     },
     "metadata": {},
     "output_type": "display_data"
    },
    {
     "data": {
      "application/vnd.jupyter.widget-view+json": {
       "model_id": "18d82c53b8124ec7bb7fa5aca14b8f3d",
       "version_major": 2,
       "version_minor": 0
      },
      "text/plain": [
       "  0%|          | 0/4 [00:00<?, ?it/s]"
      ]
     },
     "metadata": {},
     "output_type": "display_data"
    },
    {
     "data": {
      "application/vnd.jupyter.widget-view+json": {
       "model_id": "d566b406efae425e8aca55bae05b3ec2",
       "version_major": 2,
       "version_minor": 0
      },
      "text/plain": [
       "  0%|          | 0/9 [00:00<?, ?it/s]"
      ]
     },
     "metadata": {},
     "output_type": "display_data"
    },
    {
     "name": "stdout",
     "output_type": "stream",
     "text": [
      "Error: No hay entidades nombradas en el texto proporcionado., sentence:  de préstamo\n"
     ]
    },
    {
     "data": {
      "application/vnd.jupyter.widget-view+json": {
       "model_id": "74ff76f34f0b4c5d89c89fefbf362b48",
       "version_major": 2,
       "version_minor": 0
      },
      "text/plain": [
       "  0%|          | 0/10 [00:00<?, ?it/s]"
      ]
     },
     "metadata": {},
     "output_type": "display_data"
    },
    {
     "name": "stdout",
     "output_type": "stream",
     "text": [
      "Error: No hay entidades nombradas en el texto proporcionado., sentence:  que le había prestado\n",
      "Error: No hay entidades nombradas en el texto proporcionado., sentence:  y riguroso castigo\n"
     ]
    },
    {
     "data": {
      "application/vnd.jupyter.widget-view+json": {
       "model_id": "d009be2c7dbf4acca36f7e7872fd82b5",
       "version_major": 2,
       "version_minor": 0
      },
      "text/plain": [
       "  0%|          | 0/6 [00:00<?, ?it/s]"
      ]
     },
     "metadata": {},
     "output_type": "display_data"
    },
    {
     "data": {
      "application/vnd.jupyter.widget-view+json": {
       "model_id": "a0cff95e884249b39aa4515ed37f4603",
       "version_major": 2,
       "version_minor": 0
      },
      "text/plain": [
       "  0%|          | 0/2 [00:00<?, ?it/s]"
      ]
     },
     "metadata": {},
     "output_type": "display_data"
    },
    {
     "data": {
      "application/vnd.jupyter.widget-view+json": {
       "model_id": "d0c800b2b17c4349b9a9ab0810d062a5",
       "version_major": 2,
       "version_minor": 0
      },
      "text/plain": [
       "  0%|          | 0/2 [00:00<?, ?it/s]"
      ]
     },
     "metadata": {},
     "output_type": "display_data"
    },
    {
     "data": {
      "application/vnd.jupyter.widget-view+json": {
       "model_id": "23515a3ba3f34b60978a8d2762f5a640",
       "version_major": 2,
       "version_minor": 0
      },
      "text/plain": [
       "  0%|          | 0/7 [00:00<?, ?it/s]"
      ]
     },
     "metadata": {},
     "output_type": "display_data"
    },
    {
     "data": {
      "application/vnd.jupyter.widget-view+json": {
       "model_id": "c200875556f74e438d214e752c1a228e",
       "version_major": 2,
       "version_minor": 0
      },
      "text/plain": [
       "  0%|          | 0/2 [00:00<?, ?it/s]"
      ]
     },
     "metadata": {},
     "output_type": "display_data"
    },
    {
     "data": {
      "application/vnd.jupyter.widget-view+json": {
       "model_id": "7a8880166d0645f181cbdedbad3c26b6",
       "version_major": 2,
       "version_minor": 0
      },
      "text/plain": [
       "  0%|          | 0/3 [00:00<?, ?it/s]"
      ]
     },
     "metadata": {},
     "output_type": "display_data"
    },
    {
     "data": {
      "application/vnd.jupyter.widget-view+json": {
       "model_id": "a46e1a1ab7ad465a9f930d468fc7f329",
       "version_major": 2,
       "version_minor": 0
      },
      "text/plain": [
       "  0%|          | 0/5 [00:00<?, ?it/s]"
      ]
     },
     "metadata": {},
     "output_type": "display_data"
    },
    {
     "data": {
      "application/vnd.jupyter.widget-view+json": {
       "model_id": "22d111c95198449aa3a4844efe364570",
       "version_major": 2,
       "version_minor": 0
      },
      "text/plain": [
       "  0%|          | 0/3 [00:00<?, ?it/s]"
      ]
     },
     "metadata": {},
     "output_type": "display_data"
    },
    {
     "data": {
      "application/vnd.jupyter.widget-view+json": {
       "model_id": "75f1682871574e53949d6bab21e18677",
       "version_major": 2,
       "version_minor": 0
      },
      "text/plain": [
       "  0%|          | 0/12 [00:00<?, ?it/s]"
      ]
     },
     "metadata": {},
     "output_type": "display_data"
    },
    {
     "data": {
      "application/vnd.jupyter.widget-view+json": {
       "model_id": "72236fc3a51945cd978c0c2f9bd09a48",
       "version_major": 2,
       "version_minor": 0
      },
      "text/plain": [
       "  0%|          | 0/8 [00:00<?, ?it/s]"
      ]
     },
     "metadata": {},
     "output_type": "display_data"
    },
    {
     "data": {
      "application/vnd.jupyter.widget-view+json": {
       "model_id": "9d95385b8ec6458591877ea539d1488f",
       "version_major": 2,
       "version_minor": 0
      },
      "text/plain": [
       "  0%|          | 0/4 [00:00<?, ?it/s]"
      ]
     },
     "metadata": {},
     "output_type": "display_data"
    },
    {
     "data": {
      "application/vnd.jupyter.widget-view+json": {
       "model_id": "9ef8d00f7c864fc9af7fb2275ae9b634",
       "version_major": 2,
       "version_minor": 0
      },
      "text/plain": [
       "  0%|          | 0/22 [00:00<?, ?it/s]"
      ]
     },
     "metadata": {},
     "output_type": "display_data"
    },
    {
     "name": "stdout",
     "output_type": "stream",
     "text": [
      "Error: No hay entidades nombradas en el texto proporcionado., sentence:  menos, que se emplearon en pagar al ordinario el porte del dinero \n"
     ]
    },
    {
     "data": {
      "application/vnd.jupyter.widget-view+json": {
       "model_id": "c465a632e0db4503a53785d8f08c2e9d",
       "version_major": 2,
       "version_minor": 0
      },
      "text/plain": [
       "  0%|          | 0/5 [00:00<?, ?it/s]"
      ]
     },
     "metadata": {},
     "output_type": "display_data"
    },
    {
     "data": {
      "application/vnd.jupyter.widget-view+json": {
       "model_id": "c02d6232d0714aeeb85aa1631165b3c8",
       "version_major": 2,
       "version_minor": 0
      },
      "text/plain": [
       "  0%|          | 0/2 [00:00<?, ?it/s]"
      ]
     },
     "metadata": {},
     "output_type": "display_data"
    },
    {
     "data": {
      "application/vnd.jupyter.widget-view+json": {
       "model_id": "f972c19e202c4cf6b94b293d483f5bef",
       "version_major": 2,
       "version_minor": 0
      },
      "text/plain": [
       "  0%|          | 0/2 [00:00<?, ?it/s]"
      ]
     },
     "metadata": {},
     "output_type": "display_data"
    },
    {
     "data": {
      "application/vnd.jupyter.widget-view+json": {
       "model_id": "f03c067b67da4d29b95413ddb98caedf",
       "version_major": 2,
       "version_minor": 0
      },
      "text/plain": [
       "  0%|          | 0/4 [00:00<?, ?it/s]"
      ]
     },
     "metadata": {},
     "output_type": "display_data"
    },
    {
     "data": {
      "application/vnd.jupyter.widget-view+json": {
       "model_id": "83169361583b47fa992f497111a5cb89",
       "version_major": 2,
       "version_minor": 0
      },
      "text/plain": [
       "  0%|          | 0/2 [00:00<?, ?it/s]"
      ]
     },
     "metadata": {},
     "output_type": "display_data"
    },
    {
     "data": {
      "application/vnd.jupyter.widget-view+json": {
       "model_id": "925fdf171e494297a70aad4f8924e770",
       "version_major": 2,
       "version_minor": 0
      },
      "text/plain": [
       "  0%|          | 0/2 [00:00<?, ?it/s]"
      ]
     },
     "metadata": {},
     "output_type": "display_data"
    },
    {
     "data": {
      "application/vnd.jupyter.widget-view+json": {
       "model_id": "3d8fc00a8fbe4da3b612357b98008850",
       "version_major": 2,
       "version_minor": 0
      },
      "text/plain": [
       "  0%|          | 0/17 [00:00<?, ?it/s]"
      ]
     },
     "metadata": {},
     "output_type": "display_data"
    },
    {
     "data": {
      "application/vnd.jupyter.widget-view+json": {
       "model_id": "1a829ec8f04041e4842d54606c8f6829",
       "version_major": 2,
       "version_minor": 0
      },
      "text/plain": [
       "  0%|          | 0/4 [00:00<?, ?it/s]"
      ]
     },
     "metadata": {},
     "output_type": "display_data"
    },
    {
     "data": {
      "application/vnd.jupyter.widget-view+json": {
       "model_id": "41e782bed30945d28df654343d4db772",
       "version_major": 2,
       "version_minor": 0
      },
      "text/plain": [
       "  0%|          | 0/4 [00:00<?, ?it/s]"
      ]
     },
     "metadata": {},
     "output_type": "display_data"
    },
    {
     "data": {
      "application/vnd.jupyter.widget-view+json": {
       "model_id": "a58c7c8dbe8c48e2a947bd66e34665c5",
       "version_major": 2,
       "version_minor": 0
      },
      "text/plain": [
       "  0%|          | 0/15 [00:00<?, ?it/s]"
      ]
     },
     "metadata": {},
     "output_type": "display_data"
    },
    {
     "name": "stdout",
     "output_type": "stream",
     "text": [
      "Error: No hay entidades nombradas en el texto proporcionado., sentence:  y un espadín\n"
     ]
    },
    {
     "data": {
      "application/vnd.jupyter.widget-view+json": {
       "model_id": "ecdba8f42b5841d2820c6e7cef4186e3",
       "version_major": 2,
       "version_minor": 0
      },
      "text/plain": [
       "  0%|          | 0/6 [00:00<?, ?it/s]"
      ]
     },
     "metadata": {},
     "output_type": "display_data"
    },
    {
     "data": {
      "application/vnd.jupyter.widget-view+json": {
       "model_id": "ce17de319e884777bc7c8a125b76877e",
       "version_major": 2,
       "version_minor": 0
      },
      "text/plain": [
       "  0%|          | 0/2 [00:00<?, ?it/s]"
      ]
     },
     "metadata": {},
     "output_type": "display_data"
    }
   ],
   "source": [
    "from tqdm.auto import tqdm\n",
    "\n",
    "for paragraph in tqdm(text.split(\"\\n\\n\")):\n",
    "    \n",
    "    for sentence in tqdm(paragraph.split(\".\"), leave=False):\n",
    "        \n",
    "        if sentence.strip() == \"\":\n",
    "            continue\n",
    "    \n",
    "        llm_response = llm.invoke(ner_extractor_prompt.format(text=sentence)).content\n",
    "        \n",
    "        for item in llm_response.split(\"\\n\"):\n",
    "            try:\n",
    "                ner, name = item.split(\";\")\n",
    "            except ValueError:\n",
    "                print(f\"Error: {item}, sentence: {sentence}\")\n",
    "                continue\n",
    "            prompting_ners[ner].add(name.strip())"
   ]
  },
  {
   "cell_type": "code",
   "execution_count": 12,
   "id": "210ab533",
   "metadata": {},
   "outputs": [],
   "source": [
    "for ent in doc.ents:\n",
    "    spacy_ners[ent.label_].add(ent.text)"
   ]
  },
  {
   "cell_type": "markdown",
   "id": "fac05fd9",
   "metadata": {},
   "source": [
    "## Análisis de los resultados"
   ]
  },
  {
   "cell_type": "code",
   "execution_count": 13,
   "id": "84aa68cd",
   "metadata": {},
   "outputs": [
    {
     "name": "stdout",
     "output_type": "stream",
     "text": [
      "Prompting:\n",
      "\t- PER: 257\n",
      "\t- ORG: 41\n",
      "\t- DATE: 144\n",
      "\t- GPE: 28\n",
      "\t- WORK_OF_ART: 87\n",
      "\t- LOC: 60\n",
      "\t- MISC: 3\n",
      "\t- MONEY: 36\n",
      "\t- EVENT: 33\n",
      "\t- PRODUCT: 2\n",
      "\t- M: 1\n",
      "\t- LAW: 1\n",
      "\n",
      "Number of NERs with Prompting: 693\n",
      "\n",
      "Spacy:\n",
      "\t- PER: 285\n",
      "\t- MISC: 124\n",
      "\t- LOC: 109\n",
      "\t- ORG: 9\n",
      "\n",
      "Number of NERs with SpaCy: 527\n"
     ]
    }
   ],
   "source": [
    "prompt_ner_cnt = 0\n",
    "spacy_ner_cnt = 0\n",
    "\n",
    "print(\"Prompting:\")\n",
    "for key in prompting_ners.keys():\n",
    "    print(f\"\\t- {key}: {len(prompting_ners[key])}\")\n",
    "    prompt_ner_cnt += len(prompting_ners[key])\n",
    "\n",
    "print(f\"\\nNumber of NERs with Prompting: {prompt_ner_cnt}\\n\")\n",
    "\n",
    "print(\"Spacy:\")\n",
    "for key in spacy_ners.keys():\n",
    "    print(f\"\\t- {key}: {len(spacy_ners[key])}\")\n",
    "    spacy_ner_cnt += len(spacy_ners[key])\n",
    "\n",
    "print(f\"\\nNumber of NERs with SpaCy: {spacy_ner_cnt}\")\n"
   ]
  },
  {
   "cell_type": "code",
   "execution_count": 19,
   "id": "9fe890a6",
   "metadata": {},
   "outputs": [
    {
     "data": {
      "text/plain": [
       "{'A',\n",
       " 'Aguilar Priego',\n",
       " 'Agustín Manuel',\n",
       " 'Agustín Merlo',\n",
       " 'Agustín Moreto',\n",
       " 'Alonso de Olmedo',\n",
       " 'Alonso de Paz',\n",
       " 'Amarilis',\n",
       " 'Ana',\n",
       " 'Ana Coronel',\n",
       " 'Andrés Ferrer',\n",
       " 'Andrés de Claramonte',\n",
       " 'Antonia de Santiago',\n",
       " 'Antonia del Pozo',\n",
       " 'Antonio Escamilla',\n",
       " 'Antonio García de Prado',\n",
       " 'Antonio Marín',\n",
       " 'Antonio Mejía',\n",
       " 'Antonio Ramos',\n",
       " 'Antonio de Escamilla',\n",
       " 'Antonio de Prado',\n",
       " 'Antonio de Rueda',\n",
       " 'Antonio de Solís',\n",
       " 'Antonio de Vitoria',\n",
       " 'Antonio de la Rosa',\n",
       " 'Arellano',\n",
       " 'Baccio',\n",
       " 'Baccio del Bianco',\n",
       " 'Barrionuevo',\n",
       " 'Bartola',\n",
       " 'Bato',\n",
       " 'Bergman',\n",
       " 'Bernarda',\n",
       " 'Bernarda Manuela',\n",
       " 'Bernarda Ramírez',\n",
       " 'Bernardilla',\n",
       " 'Bárbara Coronel',\n",
       " 'Calderón',\n",
       " 'Calderón de la Barca',\n",
       " 'Carlos',\n",
       " 'Carlos II',\n",
       " 'Catalina',\n",
       " 'Catalina Nicolás',\n",
       " 'Catalina Ramos',\n",
       " 'Catalina de Nicolás y la Rosa',\n",
       " 'Christiane Faliu-Lacourt',\n",
       " 'Cid Campeador',\n",
       " 'Conde de Altamira',\n",
       " 'Conde de Oropesa',\n",
       " 'Condesa de Paredes de Nava',\n",
       " 'Cosme',\n",
       " 'Cosme Pérez',\n",
       " 'Cotarelo',\n",
       " 'Cruzada Villaamil',\n",
       " 'Cómo',\n",
       " 'D',\n",
       " 'Damián Pérez',\n",
       " 'Davis',\n",
       " 'Diego Osorio',\n",
       " 'Diego de Martos',\n",
       " 'Diego de Osorio',\n",
       " 'Diego de Silva',\n",
       " 'Doctor Juan Rana',\n",
       " 'Domingo Canejil',\n",
       " 'Duque de Montalto',\n",
       " 'Duque de Nájera',\n",
       " 'Escamilla',\n",
       " 'Espinel',\n",
       " 'F',\n",
       " 'Felipe II',\n",
       " 'Felipe IV',\n",
       " 'Felipe Negro',\n",
       " 'Felipe Próspero',\n",
       " 'Flora',\n",
       " 'Francisca Bezón',\n",
       " 'Francisca María Pérez',\n",
       " 'Francisca de Castro',\n",
       " 'Francisco García',\n",
       " \"Francisco García 'el Pupilo'\",\n",
       " 'Francisco Garro de Alegría',\n",
       " 'Francisco Gutiérrez',\n",
       " 'Francisco Ortiz',\n",
       " 'Francisco Sardeneta y Mendoza',\n",
       " 'Francisco Velasco',\n",
       " 'Francisco de Diego',\n",
       " 'Francisco de Guzmán y Morales',\n",
       " 'Francisco de Monteser',\n",
       " 'Francisco de Velasco',\n",
       " 'Friedman',\n",
       " 'Friedman, H',\n",
       " 'Gabriel García Márquez',\n",
       " 'García Ruiz',\n",
       " 'Genealogía',\n",
       " 'Grandes',\n",
       " 'Gregorio de la Rosa',\n",
       " 'Gutiérrez',\n",
       " 'H',\n",
       " 'Infanta María Teresa de Austria',\n",
       " 'Infantes',\n",
       " 'Isabel',\n",
       " 'Isabel de Basto',\n",
       " 'Isabel de Góngora',\n",
       " 'J',\n",
       " 'Jacinta',\n",
       " 'Jacinto Becerril',\n",
       " 'Jerónima de Olmedo',\n",
       " 'Jerónimo Morales',\n",
       " 'Jerónimo de Barrionuevo',\n",
       " 'Jerónimo de Cáncer',\n",
       " 'Jerónimo de Heredia',\n",
       " 'Jerónimo de Morales',\n",
       " 'Josefa López',\n",
       " 'Josefa Román',\n",
       " 'José Antonio García de Prado',\n",
       " 'José Antonio Quevedo',\n",
       " 'José Antonio de Prado',\n",
       " 'José González',\n",
       " 'Juan Araña',\n",
       " 'Juan Bautista Valenciano',\n",
       " 'Juan Caramuel',\n",
       " 'Juan González',\n",
       " 'Juan Navarro Oliver',\n",
       " 'Juan Navarro de Espinosa',\n",
       " 'Juan Pérez de Montalbán',\n",
       " 'Juan Ramos',\n",
       " 'Juan Rana',\n",
       " 'Juan Ranas',\n",
       " 'Juan Vélez',\n",
       " 'Juan de Austria',\n",
       " 'Juan de Cabanillas',\n",
       " 'Juan de Tapia',\n",
       " 'Juana Caro',\n",
       " 'Justo de Lazárraga',\n",
       " 'L',\n",
       " 'Leonardo',\n",
       " 'Lobato',\n",
       " 'Lope',\n",
       " 'Lope de Vega',\n",
       " 'Luciana',\n",
       " 'Luciana Leal',\n",
       " 'Luis López',\n",
       " 'Luis López Sustaete',\n",
       " 'Luis Quiñones',\n",
       " 'Luis Quiñones de Benavente',\n",
       " 'Luis de Belmonte',\n",
       " 'Luis de Mendoza',\n",
       " 'Luis de Ulloa y Pereira',\n",
       " 'Luisa',\n",
       " 'Luisa Enríquez Manrique',\n",
       " 'Luisa Enríquez Manrique de Lara',\n",
       " 'Luisa Romero',\n",
       " 'López Sustaete',\n",
       " 'M',\n",
       " 'Manuela',\n",
       " 'Manuela Bernabela',\n",
       " \"Manuela Bernarda 'la Grifona'\",\n",
       " 'Manuela Escamilla',\n",
       " 'Manuela de Bustamante',\n",
       " 'Manuela de Escamilla',\n",
       " 'Manzari',\n",
       " 'Mariana',\n",
       " 'Mariana Borja',\n",
       " 'Mariana Romero',\n",
       " 'Mariana de Austria',\n",
       " 'Mariana de Borja',\n",
       " 'María',\n",
       " 'María Borja',\n",
       " 'María Quiñones',\n",
       " 'María Teresa',\n",
       " 'María Teresa de Austria',\n",
       " 'María de Acosta',\n",
       " 'María de Córdoba',\n",
       " 'María de Diego',\n",
       " 'María de Prado',\n",
       " 'María de Quiñones',\n",
       " 'Mateo Godoy',\n",
       " 'Mateo de Godoy',\n",
       " 'Mejía',\n",
       " 'Mi tío',\n",
       " 'Micaela Fernández',\n",
       " 'Micaela de Borja',\n",
       " 'Miguel de Orozco',\n",
       " 'Miller',\n",
       " 'Moreto',\n",
       " 'Mori',\n",
       " 'Nuestra Señora del Amparo',\n",
       " 'Pedro',\n",
       " 'Pedro Ascanio',\n",
       " 'Pedro Calderón de la Barca',\n",
       " 'Pedro Ortiz de Urbina',\n",
       " 'Pedro de Cifuentes',\n",
       " 'Pedro de Contreras',\n",
       " 'Pedro de la Rosa',\n",
       " 'Pellicer',\n",
       " 'Peter Thompson',\n",
       " 'Prado',\n",
       " 'Principito',\n",
       " 'Príncipe',\n",
       " 'Príncipe de Astillano',\n",
       " 'Pérez Pastor',\n",
       " 'Quiteria',\n",
       " 'Quiñones',\n",
       " 'Quiñones Pipote',\n",
       " 'Quiñones de Benavente',\n",
       " 'Rana',\n",
       " 'Ranilla',\n",
       " 'Reina',\n",
       " 'Rennert',\n",
       " 'Rey',\n",
       " 'Reyes',\n",
       " 'Rich Greer',\n",
       " 'Rodrigo de Saavedra',\n",
       " 'Rodrigo de Ávila',\n",
       " 'Roque de Figueroa',\n",
       " 'SS',\n",
       " 'Sebastiana Fernández',\n",
       " 'Sebastián García de Prado',\n",
       " 'Sebastián de Prado',\n",
       " 'Serralta',\n",
       " 'Señoras',\n",
       " 'Shergold',\n",
       " 'Simón Aguado',\n",
       " 'Simón de Alcántara',\n",
       " 'Solís',\n",
       " 'Su Majestad',\n",
       " 'Subirá',\n",
       " 'Sus Majestades',\n",
       " 'Sáez Raposo',\n",
       " 'Sánchez Arjona',\n",
       " 'Tomás Fernández',\n",
       " 'Tomás Fernández Cabredo',\n",
       " 'Tomás Fernández [Cabredo]',\n",
       " 'Tomás Fernández de Cabredo',\n",
       " 'Tomás de Nájera',\n",
       " 'Urzáiz',\n",
       " 'V',\n",
       " 'Valdés',\n",
       " 'Varey',\n",
       " 'Virgen de Atocha',\n",
       " 'abad de Salas',\n",
       " 'actor',\n",
       " 'condesa de Paredes de Nava',\n",
       " 'de la Granja',\n",
       " 'diabro',\n",
       " 'don Diego de Silva',\n",
       " 'don Gonzalo de Córdoba',\n",
       " 'infanta Margarita',\n",
       " 'investigador',\n",
       " 'la Bezona',\n",
       " 'la Borja',\n",
       " 'la Grifona',\n",
       " 'los alcaldes',\n",
       " 'los doctores',\n",
       " 'los letrados',\n",
       " 'los veinticuatro de chanza',\n",
       " 'princesa de Mélito',\n",
       " 'rey'}"
      ]
     },
     "execution_count": 19,
     "metadata": {},
     "output_type": "execute_result"
    }
   ],
   "source": [
    "prompting_ners['PER']"
   ]
  },
  {
   "cell_type": "markdown",
   "id": "07054dc9",
   "metadata": {},
   "source": [
    "NERs extracted by prompting appears more precise than SpaCy."
   ]
  },
  {
   "cell_type": "code",
   "execution_count": 14,
   "id": "3ee61e88",
   "metadata": {},
   "outputs": [
    {
     "name": "stdout",
     "output_type": "stream",
     "text": [
      "'Tomás de Nájera' found in Prompting under key 'PER' but not in SpaCy\n",
      "'Virgen de Atocha' with different key: 'PER' in Prompting and 'LOC' in SpaCy\n",
      "'Manzari' found in Prompting under key 'PER' but not in SpaCy\n",
      "'Francisco Sardeneta y Mendoza' found in Prompting under key 'PER' but not in SpaCy\n",
      "'Sebastián de Prado' found in Prompting under key 'PER' but not in SpaCy\n",
      "'la Bezona' found in Prompting under key 'PER' but not in SpaCy\n",
      "'Manuela Bernarda 'la Grifona'' found in Prompting under key 'PER' but not in SpaCy\n",
      "'Miguel de Orozco' found in Prompting under key 'PER' but not in SpaCy\n",
      "'Bato' with different key: 'PER' in Prompting and 'LOC' in SpaCy\n",
      "'Francisco García 'el Pupilo'' found in Prompting under key 'PER' but not in SpaCy\n",
      "'Luciana' found in Prompting under key 'PER' but not in SpaCy\n",
      "'Aguilar Priego' with different key: 'PER' in Prompting and 'LOC' in SpaCy\n",
      "'Miller' found in Prompting under key 'PER' but not in SpaCy\n",
      "'Luis de Ulloa y Pereira' found in Prompting under key 'PER' but not in SpaCy\n",
      "'abad de Salas' found in Prompting under key 'PER' but not in SpaCy\n",
      "'Sebastiana Fernández' found in Prompting under key 'PER' but not in SpaCy\n",
      "'rey' found in Prompting under key 'PER' but not in SpaCy\n",
      "'Grandes' with different key: 'PER' in Prompting and 'LOC' in SpaCy\n",
      "'V' found in Prompting under key 'PER' but not in SpaCy\n",
      "'Escamilla' with different key: 'PER' in Prompting and 'LOC' in SpaCy\n",
      "'A' found in Prompting under key 'PER' but not in SpaCy\n",
      "'Manuela de Escamilla' found in Prompting under key 'PER' but not in SpaCy\n",
      "'investigador' found in Prompting under key 'PER' but not in SpaCy\n",
      "'diabro' found in Prompting under key 'PER' but not in SpaCy\n",
      "'Serralta' found in Prompting under key 'PER' but not in SpaCy\n",
      "'Principito' with different key: 'PER' in Prompting and 'MISC' in SpaCy\n",
      "'Pérez Pastor' found in Prompting under key 'PER' but not in SpaCy\n",
      "'Ranilla' with different key: 'PER' in Prompting and 'LOC' in SpaCy\n",
      "'don Diego de Silva' found in Prompting under key 'PER' but not in SpaCy\n",
      "'Gabriel García Márquez' found in Prompting under key 'PER' but not in SpaCy\n",
      "'los veinticuatro de chanza' found in Prompting under key 'PER' but not in SpaCy\n",
      "'Mi tío' with different key: 'PER' in Prompting and 'MISC' in SpaCy\n",
      "'de la Granja' found in Prompting under key 'PER' but not in SpaCy\n",
      "'D' found in Prompting under key 'PER' but not in SpaCy\n",
      "'Subirá' with different key: 'PER' in Prompting and 'LOC' in SpaCy\n",
      "'Bernarda' with different key: 'PER' in Prompting and 'MISC' in SpaCy\n",
      "'Infantes' with different key: 'PER' in Prompting and 'LOC' in SpaCy\n",
      "'Antonia de Santiago' found in Prompting under key 'PER' but not in SpaCy\n",
      "'L' found in Prompting under key 'PER' but not in SpaCy\n",
      "'H' found in Prompting under key 'PER' but not in SpaCy\n",
      "'J' found in Prompting under key 'PER' but not in SpaCy\n",
      "'actor' found in Prompting under key 'PER' but not in SpaCy\n",
      "'SS' found in Prompting under key 'PER' but not in SpaCy\n",
      "'Príncipe de Astillano' with different key: 'PER' in Prompting and 'LOC' in SpaCy\n",
      "'Friedman, H' found in Prompting under key 'PER' but not in SpaCy\n",
      "'la Borja' found in Prompting under key 'PER' but not in SpaCy\n",
      "'Catalina de Nicolás y la Rosa' found in Prompting under key 'PER' but not in SpaCy\n",
      "'princesa de Mélito' found in Prompting under key 'PER' but not in SpaCy\n",
      "'Sus Majestades' with different key: 'PER' in Prompting and 'ORG' in SpaCy\n",
      "'los letrados' found in Prompting under key 'PER' but not in SpaCy\n",
      "'don Gonzalo de Córdoba' found in Prompting under key 'PER' but not in SpaCy\n",
      "'Cómo' found in Prompting under key 'PER' but not in SpaCy\n",
      "'Simón de Alcántara' found in Prompting under key 'PER' but not in SpaCy\n",
      "'Señoras' with different key: 'PER' in Prompting and 'MISC' in SpaCy\n",
      "'Jerónimo de Heredia' found in Prompting under key 'PER' but not in SpaCy\n",
      "'Tomás Fernández [Cabredo]' found in Prompting under key 'PER' but not in SpaCy\n",
      "'Condesa de Paredes de Nava' found in Prompting under key 'PER' but not in SpaCy\n",
      "'los doctores' found in Prompting under key 'PER' but not in SpaCy\n",
      "'M' found in Prompting under key 'PER' but not in SpaCy\n",
      "'García Ruiz' found in Prompting under key 'PER' but not in SpaCy\n",
      "'Friedman' found in Prompting under key 'PER' but not in SpaCy\n",
      "'Reyes' found in Prompting under key 'PER' but not in SpaCy\n",
      "'Antonio de la Rosa' found in Prompting under key 'PER' but not in SpaCy\n",
      "'F' found in Prompting under key 'PER' but not in SpaCy\n",
      "'Genealogía' with different key: 'PER' in Prompting and 'MISC' in SpaCy\n",
      "'Christiane Faliu-Lacourt' found in Prompting under key 'PER' but not in SpaCy\n",
      "'la Grifona' found in Prompting under key 'PER' but not in SpaCy\n",
      "'los alcaldes' found in Prompting under key 'PER' but not in SpaCy\n",
      "'Espinel' with different key: 'PER' in Prompting and 'LOC' in SpaCy\n",
      "'Archivo Municipal de Madrid' with different key: 'ORG' in Prompting and 'LOC' in SpaCy\n",
      "'Su Majestad' with different key: 'ORG' in Prompting and 'PER' in SpaCy\n",
      "'Villa de Madrid' with different key: 'ORG' in Prompting and 'LOC' in SpaCy\n",
      "'academia burlesca' found in Prompting under key 'ORG' but not in SpaCy\n",
      "'Reina Madre' with different key: 'ORG' in Prompting and 'PER' in SpaCy\n",
      "'Cofradía de Nuestra Señora del Rosario de Vicálvaro' with different key: 'ORG' in Prompting and 'LOC' in SpaCy\n",
      "'casa de la Reina' found in Prompting under key 'ORG' but not in SpaCy\n",
      "'compañías de Tomás Fernández' found in Prompting under key 'ORG' but not in SpaCy\n",
      "'Varey' with different key: 'ORG' in Prompting and 'PER' in SpaCy\n",
      "'Palacio' with different key: 'ORG' in Prompting and 'LOC' in SpaCy\n",
      "'Lo' found in Prompting under key 'ORG' but not in SpaCy\n",
      "'embajador turco' found in Prompting under key 'ORG' but not in SpaCy\n",
      "'iglesia parroquial' found in Prompting under key 'ORG' but not in SpaCy\n",
      "'iglesia parroquial de Tudela de Duero' found in Prompting under key 'ORG' but not in SpaCy\n",
      "'Reies' with different key: 'ORG' in Prompting and 'MISC' in SpaCy\n",
      "'Biblioteca Nacional de Madrid' with different key: 'ORG' in Prompting and 'LOC' in SpaCy\n",
      "'Tamesis Books' with different key: 'ORG' in Prompting and 'MISC' in SpaCy\n",
      "'Hospital General de Valencia' with different key: 'ORG' in Prompting and 'LOC' in SpaCy\n",
      "'Lope' with different key: 'ORG' in Prompting and 'PER' in SpaCy\n",
      "'Convento de la Santísima Trinidad' found in Prompting under key 'ORG' but not in SpaCy\n",
      "'capilla real' found in Prompting under key 'ORG' but not in SpaCy\n",
      "'compañía de Pedro de la Rosa' found in Prompting under key 'ORG' but not in SpaCy\n",
      "'comisarios de las fiestas del Corpus' found in Prompting under key 'ORG' but not in SpaCy\n",
      "'Cofradía de Nuestra Señora de la Novena' with different key: 'ORG' in Prompting and 'LOC' in SpaCy\n",
      "'Corpus' with different key: 'ORG' in Prompting and 'MISC' in SpaCy\n",
      "'Genealogía' with different key: 'ORG' in Prompting and 'MISC' in SpaCy\n",
      "'comisarios de la fiesta de Señora Santa Librada de Sigüenza' found in Prompting under key 'ORG' but not in SpaCy\n",
      "'Convento de San José de Malagón' with different key: 'ORG' in Prompting and 'LOC' in SpaCy\n",
      "'comisarios del Corpus' found in Prompting under key 'ORG' but not in SpaCy\n",
      "'convento de religiosos descalzos de la Santísima Trinidad' found in Prompting under key 'ORG' but not in SpaCy\n",
      "'Parroquia de San Sebastián de Madrid' with different key: 'ORG' in Prompting and 'LOC' in SpaCy\n",
      "'compañía de Antonio de Prado' found in Prompting under key 'ORG' but not in SpaCy\n",
      "'compañía' found in Prompting under key 'ORG' but not in SpaCy\n",
      "'casa de la Reyna nuestra señora' found in Prompting under key 'ORG' but not in SpaCy\n",
      "'Escorial' with different key: 'ORG' in Prompting and 'LOC' in SpaCy\n",
      "'1656' found in Prompting under key 'DATE' but not in SpaCy\n",
      "'4 de marzo' found in Prompting under key 'DATE' but not in SpaCy\n",
      "'18 de octubre de este año' found in Prompting under key 'DATE' but not in SpaCy\n",
      "'1624' found in Prompting under key 'DATE' but not in SpaCy\n",
      "'1620' found in Prompting under key 'DATE' but not in SpaCy\n",
      "'26 de junio' found in Prompting under key 'DATE' but not in SpaCy\n",
      "'18 de marzo' found in Prompting under key 'DATE' but not in SpaCy\n",
      "'año anterior' found in Prompting under key 'DATE' but not in SpaCy\n",
      "'1653' found in Prompting under key 'DATE' but not in SpaCy\n",
      "'1623' found in Prompting under key 'DATE' but not in SpaCy\n",
      "'18 de octubre' found in Prompting under key 'DATE' but not in SpaCy\n",
      "'9 de febrero' found in Prompting under key 'DATE' but not in SpaCy\n",
      "'23 de junio' found in Prompting under key 'DATE' but not in SpaCy\n",
      "'6 de junio' found in Prompting under key 'DATE' but not in SpaCy\n",
      "'17 de diciembre de 1662' found in Prompting under key 'DATE' but not in SpaCy\n",
      "'5 de junio' found in Prompting under key 'DATE' but not in SpaCy\n",
      "'15 de noviembre' found in Prompting under key 'DATE' but not in SpaCy\n",
      "'miércoles de Ceniza' found in Prompting under key 'DATE' but not in SpaCy\n",
      "'1632' found in Prompting under key 'DATE' but not in SpaCy\n",
      "'287-302' found in Prompting under key 'DATE' but not in SpaCy\n",
      "'31 de mayo' found in Prompting under key 'DATE' but not in SpaCy\n",
      "'22 de marzo' found in Prompting under key 'DATE' but not in SpaCy\n",
      "'14' found in Prompting under key 'DATE' but not in SpaCy\n",
      "'20 de julio' found in Prompting under key 'DATE' but not in SpaCy\n",
      "'3 de junio' found in Prompting under key 'DATE' but not in SpaCy\n",
      "'22 de diciembre de 1669' found in Prompting under key 'DATE' but not in SpaCy\n",
      "'22 de diciembre de 1662' found in Prompting under key 'DATE' but not in SpaCy\n",
      "'8 de noviembre' found in Prompting under key 'DATE' but not in SpaCy\n",
      "'enero de 1670' found in Prompting under key 'DATE' but not in SpaCy\n",
      "'1640' found in Prompting under key 'DATE' but not in SpaCy\n",
      "'2 de marzo' found in Prompting under key 'DATE' but not in SpaCy\n",
      "'1635' found in Prompting under key 'DATE' but not in SpaCy\n",
      "'1 de noviembre' found in Prompting under key 'DATE' but not in SpaCy\n",
      "'31 de enero' found in Prompting under key 'DATE' but not in SpaCy\n",
      "'1636' found in Prompting under key 'DATE' but not in SpaCy\n",
      "'1994' found in Prompting under key 'DATE' but not in SpaCy\n",
      "'4 de febrero' found in Prompting under key 'DATE' but not in SpaCy\n",
      "'1630' found in Prompting under key 'DATE' but not in SpaCy\n",
      "'27 de mayo' found in Prompting under key 'DATE' but not in SpaCy\n",
      "'setenta y tres' found in Prompting under key 'DATE' but not in SpaCy\n",
      "'15' found in Prompting under key 'DATE' but not in SpaCy\n",
      "'25 de junio' found in Prompting under key 'DATE' but not in SpaCy\n",
      "'5 de enero' found in Prompting under key 'DATE' but not in SpaCy\n",
      "'cuatro días' found in Prompting under key 'DATE' but not in SpaCy\n",
      "'25 de enero' found in Prompting under key 'DATE' but not in SpaCy\n",
      "'noviembre de 1657' found in Prompting under key 'DATE' but not in SpaCy\n",
      "'17 de enero' found in Prompting under key 'DATE' but not in SpaCy\n",
      "'martes Santo' found in Prompting under key 'DATE' but not in SpaCy\n",
      "'22 al 29 de noviembre' found in Prompting under key 'DATE' but not in SpaCy\n",
      "'otoño de 1634' found in Prompting under key 'DATE' but not in SpaCy\n",
      "'9 de junio' found in Prompting under key 'DATE' but not in SpaCy\n",
      "'8 de octubre de 1622' found in Prompting under key 'DATE' but not in SpaCy\n",
      "'1707' found in Prompting under key 'DATE' but not in SpaCy\n",
      "'29 de junio' found in Prompting under key 'DATE' but not in SpaCy\n",
      "'1666' found in Prompting under key 'DATE' but not in SpaCy\n",
      "'nuestro tiempo' found in Prompting under key 'DATE' but not in SpaCy\n",
      "'12 de noviembre de 1622' found in Prompting under key 'DATE' but not in SpaCy\n",
      "'2 de octubre' found in Prompting under key 'DATE' but not in SpaCy\n",
      "'16 de febrero' found in Prompting under key 'DATE' but not in SpaCy\n",
      "'9 de julio' found in Prompting under key 'DATE' but not in SpaCy\n",
      "'1634' found in Prompting under key 'DATE' but not in SpaCy\n",
      "'13 de enero de 1672' found in Prompting under key 'DATE' but not in SpaCy\n",
      "'26 de abril' found in Prompting under key 'DATE' but not in SpaCy\n",
      "'1967' found in Prompting under key 'DATE' but not in SpaCy\n",
      "'27 de marzo' found in Prompting under key 'DATE' but not in SpaCy\n",
      "'3 de marzo de este año' found in Prompting under key 'DATE' but not in SpaCy\n",
      "'4 de agosto de 1617' found in Prompting under key 'DATE' but not in SpaCy\n",
      "'D' found in Prompting under key 'DATE' but not in SpaCy\n",
      "'2 de septiembre' found in Prompting under key 'DATE' but not in SpaCy\n",
      "'12 de octubre' found in Prompting under key 'DATE' but not in SpaCy\n",
      "'22 de noviembre' found in Prompting under key 'DATE' but not in SpaCy\n",
      "'10 de marzo' found in Prompting under key 'DATE' but not in SpaCy\n",
      "'1)' found in Prompting under key 'DATE' but not in SpaCy\n",
      "'28 de marzo' found in Prompting under key 'DATE' but not in SpaCy\n",
      "'1637' found in Prompting under key 'DATE' but not in SpaCy\n",
      "'segunda quincena de mayo' found in Prompting under key 'DATE' but not in SpaCy\n",
      "'junio' found in Prompting under key 'DATE' but not in SpaCy\n",
      "'28 de febrero' found in Prompting under key 'DATE' but not in SpaCy\n",
      "'7 de abril de 1593' found in Prompting under key 'DATE' but not in SpaCy\n",
      "'1625' found in Prompting under key 'DATE' but not in SpaCy\n",
      "'21 de octubre de 1622' found in Prompting under key 'DATE' but not in SpaCy\n",
      "'4 de junio' found in Prompting under key 'DATE' but not in SpaCy\n",
      "'21 de octubre' found in Prompting under key 'DATE' but not in SpaCy\n",
      "'18 de septiembre' found in Prompting under key 'DATE' but not in SpaCy\n",
      "'1 de junio' found in Prompting under key 'DATE' but not in SpaCy\n",
      "'15 de julio' found in Prompting under key 'DATE' but not in SpaCy\n",
      "'1998' found in Prompting under key 'DATE' but not in SpaCy\n",
      "'29 de noviembre' found in Prompting under key 'DATE' but not in SpaCy\n",
      "'24 de abril' found in Prompting under key 'DATE' but not in SpaCy\n",
      "'1662' found in Prompting under key 'DATE' but not in SpaCy\n",
      "'28 de noviembre de 1657' found in Prompting under key 'DATE' but not in SpaCy\n",
      "'lunes de Carnaval' found in Prompting under key 'DATE' but not in SpaCy\n",
      "'1658' found in Prompting under key 'DATE' but not in SpaCy\n",
      "'5 de diciembre' found in Prompting under key 'DATE' but not in SpaCy\n",
      "'18 de febrero' found in Prompting under key 'DATE' but not in SpaCy\n",
      "'ese año' found in Prompting under key 'DATE' but not in SpaCy\n",
      "'21 de abril' found in Prompting under key 'DATE' but not in SpaCy\n",
      "'6 de enero' found in Prompting under key 'DATE' but not in SpaCy\n",
      "'1655' found in Prompting under key 'DATE' but not in SpaCy\n",
      "'septiembre' found in Prompting under key 'DATE' but not in SpaCy\n",
      "'21 de marzo' found in Prompting under key 'DATE' but not in SpaCy\n",
      "'dos años anteriores' found in Prompting under key 'DATE' but not in SpaCy\n",
      "'este año' found in Prompting under key 'DATE' but not in SpaCy\n",
      "'15 de octubre' found in Prompting under key 'DATE' but not in SpaCy\n",
      "'17' found in Prompting under key 'DATE' but not in SpaCy\n",
      "'6 de febrero de 1655' found in Prompting under key 'DATE' but not in SpaCy\n",
      "'29 de enero de 1672' found in Prompting under key 'DATE' but not in SpaCy\n",
      "'3 de julio' found in Prompting under key 'DATE' but not in SpaCy\n",
      "'22 de diciembre' found in Prompting under key 'DATE' but not in SpaCy\n",
      "'9 de marzo' found in Prompting under key 'DATE' but not in SpaCy\n",
      "'30 de enero' found in Prompting under key 'DATE' but not in SpaCy\n",
      "'3 de marzo' found in Prompting under key 'DATE' but not in SpaCy\n",
      "'19 de marzo' found in Prompting under key 'DATE' but not in SpaCy\n",
      "'27 de febrero de este año' found in Prompting under key 'DATE' but not in SpaCy\n",
      "'1644' found in Prompting under key 'DATE' but not in SpaCy\n",
      "'18 de noviembre' found in Prompting under key 'DATE' but not in SpaCy\n",
      "'20 de abril' found in Prompting under key 'DATE' but not in SpaCy\n",
      "'1668' found in Prompting under key 'DATE' but not in SpaCy\n",
      "'tres siglos y medio' found in Prompting under key 'DATE' but not in SpaCy\n",
      "'7 de julio' found in Prompting under key 'DATE' but not in SpaCy\n",
      "'26 de julio' found in Prompting under key 'DATE' but not in SpaCy\n",
      "'9 de junio de este año' found in Prompting under key 'DATE' but not in SpaCy\n",
      "'un año' found in Prompting under key 'DATE' but not in SpaCy\n",
      "'21 de marzo de 1622' found in Prompting under key 'DATE' but not in SpaCy\n",
      "'diciembre de 1621' found in Prompting under key 'DATE' but not in SpaCy\n",
      "'1622' found in Prompting under key 'DATE' but not in SpaCy\n",
      "'finales de noviembre' found in Prompting under key 'DATE' but not in SpaCy\n",
      "'1987' found in Prompting under key 'DATE' but not in SpaCy\n",
      "'17 de febrero' found in Prompting under key 'DATE' but not in SpaCy\n",
      "'6 de diciembre' found in Prompting under key 'DATE' but not in SpaCy\n",
      "'1650' found in Prompting under key 'DATE' but not in SpaCy\n",
      "'cinco días después' found in Prompting under key 'DATE' but not in SpaCy\n",
      "'14 de agosto' found in Prompting under key 'DATE' but not in SpaCy\n",
      "'9 de septiembre de 1617' found in Prompting under key 'DATE' but not in SpaCy\n",
      "'10 de julio' found in Prompting under key 'DATE' but not in SpaCy\n",
      "'13 de junio' found in Prompting under key 'DATE' but not in SpaCy\n",
      "'febrero' found in Prompting under key 'DATE' but not in SpaCy\n",
      "'1 de septiembre' found in Prompting under key 'DATE' but not in SpaCy\n",
      "'22 de febrero' found in Prompting under key 'DATE' but not in SpaCy\n",
      "'1670' found in Prompting under key 'DATE' but not in SpaCy\n",
      "'1643' found in Prompting under key 'DATE' but not in SpaCy\n",
      "'1631' found in Prompting under key 'DATE' but not in SpaCy\n",
      "'12 de febrero de este año' found in Prompting under key 'DATE' but not in SpaCy\n",
      "'24 de octubre de 1662' found in Prompting under key 'DATE' but not in SpaCy\n",
      "'Valencia' with different key: 'GPE' in Prompting and 'LOC' in SpaCy\n",
      "'Vellón' found in Prompting under key 'GPE' but not in SpaCy\n",
      "'Madrid' with different key: 'GPE' in Prompting and 'LOC' in SpaCy\n",
      "'Corte' with different key: 'GPE' in Prompting and 'ORG' in SpaCy\n",
      "'Murcia' found in Prompting under key 'GPE' but not in SpaCy\n",
      "'Valladolid' with different key: 'GPE' in Prompting and 'LOC' in SpaCy\n",
      "'Cotarelo' with different key: 'GPE' in Prompting and 'PER' in SpaCy\n",
      "'Lisboa' with different key: 'GPE' in Prompting and 'LOC' in SpaCy\n",
      "'real Sitio del Buen Retiro' found in Prompting under key 'GPE' but not in SpaCy\n",
      "'Sigüenza' found in Prompting under key 'GPE' but not in SpaCy\n",
      "'Salamanca' with different key: 'GPE' in Prompting and 'LOC' in SpaCy\n",
      "'Aragón' with different key: 'GPE' in Prompting and 'LOC' in SpaCy\n",
      "'España' with different key: 'GPE' in Prompting and 'LOC' in SpaCy\n",
      "'Tudela del Duero' with different key: 'GPE' in Prompting and 'LOC' in SpaCy\n",
      "'San Lorenzo de El Escorial' with different key: 'GPE' in Prompting and 'LOC' in SpaCy\n",
      "'Costa' found in Prompting under key 'GPE' but not in SpaCy\n",
      "'Londres' with different key: 'GPE' in Prompting and 'LOC' in SpaCy\n",
      "'Tudela de Duero' with different key: 'GPE' in Prompting and 'LOC' in SpaCy\n",
      "'madrileña' found in Prompting under key 'GPE' but not in SpaCy\n",
      "'madrileño' found in Prompting under key 'GPE' but not in SpaCy\n",
      "'Sevilla' with different key: 'GPE' in Prompting and 'LOC' in SpaCy\n",
      "'Españolas' with different key: 'GPE' in Prompting and 'LOC' in SpaCy\n",
      "'New Orleans' with different key: 'GPE' in Prompting and 'LOC' in SpaCy\n",
      "'Aranjuez' with different key: 'GPE' in Prompting and 'LOC' in SpaCy\n",
      "'Vicálvaro' found in Prompting under key 'GPE' but not in SpaCy\n",
      "'Zaragoza' with different key: 'GPE' in Prompting and 'LOC' in SpaCy\n",
      "'Guadalajara' with different key: 'GPE' in Prompting and 'LOC' in SpaCy\n",
      "'Navalagamella' found in Prompting under key 'GPE' but not in SpaCy\n",
      "'Nuestra Señora del Amparo' with different key: 'WORK_OF_ART' in Prompting and 'PER' in SpaCy\n",
      "'Bien vengas mal' found in Prompting under key 'WORK_OF_ART' but not in SpaCy\n",
      "'Obrar bien, que Dios es Dios' found in Prompting under key 'WORK_OF_ART' but not in SpaCy\n",
      "'Solís' with different key: 'WORK_OF_ART' in Prompting and 'PER' in SpaCy\n",
      "'El guardainfante' with different key: 'WORK_OF_ART' in Prompting and 'MISC' in SpaCy\n",
      "'Carta de Difuntos' found in Prompting under key 'WORK_OF_ART' but not in SpaCy\n",
      "'Gay Golden Age Gracioso' with different key: 'WORK_OF_ART' in Prompting and 'MISC' in SpaCy\n",
      "'Los Juan Ranas' with different key: 'WORK_OF_ART' in Prompting and 'MISC' in SpaCy\n",
      "'Pico y Canente' with different key: 'WORK_OF_ART' in Prompting and 'MISC' in SpaCy\n",
      "'El alcalde de Alcorcón' with different key: 'WORK_OF_ART' in Prompting and 'MISC' in SpaCy\n",
      "'Juan Rana en la Zarzuela' found in Prompting under key 'WORK_OF_ART' but not in SpaCy\n",
      "'El mundo' with different key: 'WORK_OF_ART' in Prompting and 'MISC' in SpaCy\n",
      "'Corpus' with different key: 'WORK_OF_ART' in Prompting and 'MISC' in SpaCy\n",
      "'Los muertos vivos' with different key: 'WORK_OF_ART' in Prompting and 'MISC' in SpaCy\n",
      "'El retrato de Juan Rana' with different key: 'WORK_OF_ART' in Prompting and 'MISC' in SpaCy\n",
      "'Cuatro Edades' with different key: 'WORK_OF_ART' in Prompting and 'MISC' in SpaCy\n",
      "'comedia' found in Prompting under key 'WORK_OF_ART' but not in SpaCy\n",
      "'El caballero novel' found in Prompting under key 'WORK_OF_ART' but not in SpaCy\n",
      "'La loa de Juan Rana' with different key: 'WORK_OF_ART' in Prompting and 'MISC' in SpaCy\n",
      "'El toreador' with different key: 'WORK_OF_ART' in Prompting and 'MISC' in SpaCy\n",
      "'La infelice Dorotea' with different key: 'WORK_OF_ART' in Prompting and 'MISC' in SpaCy\n",
      "'El ayo' found in Prompting under key 'WORK_OF_ART' but not in SpaCy\n",
      "'Scriptura' with different key: 'WORK_OF_ART' in Prompting and 'MISC' in SpaCy\n",
      "'La restauración de España' with different key: 'WORK_OF_ART' in Prompting and 'MISC' in SpaCy\n",
      "'El segundo Séneca de España' found in Prompting under key 'WORK_OF_ART' but not in SpaCy\n",
      "'Primus calamus' with different key: 'WORK_OF_ART' in Prompting and 'MISC' in SpaCy\n",
      "'Hércules o Fieras afemina amor' found in Prompting under key 'WORK_OF_ART' but not in SpaCy\n",
      "'El contraste de amor' with different key: 'WORK_OF_ART' in Prompting and 'MISC' in SpaCy\n",
      "'El poeta de bailes' with different key: 'WORK_OF_ART' in Prompting and 'MISC' in SpaCy\n",
      "'El mago' with different key: 'WORK_OF_ART' in Prompting and 'MISC' in SpaCy\n",
      "'La renegada de Valladolid' with different key: 'WORK_OF_ART' in Prompting and 'MISC' in SpaCy\n",
      "'Vitse' found in Prompting under key 'WORK_OF_ART' but not in SpaCy\n",
      "'Aguardad, supremos dioses' found in Prompting under key 'WORK_OF_ART' but not in SpaCy\n",
      "'Salta en banco' found in Prompting under key 'WORK_OF_ART' but not in SpaCy\n",
      "'doce redondillas digan la razón por qué las beatas no tienen unto, y si basta la opinión del Doctor Juan Rana para que se crea' found in Prompting under key 'WORK_OF_ART' but not in SpaCy\n",
      "'El Capitán Medrano' found in Prompting under key 'WORK_OF_ART' but not in SpaCy\n",
      "'la parte principal de la graciosidad' found in Prompting under key 'WORK_OF_ART' but not in SpaCy\n",
      "'El niño de Santa Barbara' with different key: 'WORK_OF_ART' in Prompting and 'MISC' in SpaCy\n",
      "'Honrar bien, que Dios es Dios' with different key: 'WORK_OF_ART' in Prompting and 'MISC' in SpaCy\n",
      "'Aguardad, supremos dioses del mismo Solís' found in Prompting under key 'WORK_OF_ART' but not in SpaCy\n",
      "'La noche de San Juan' with different key: 'WORK_OF_ART' in Prompting and 'MISC' in SpaCy\n",
      "'Lo que ha de ser' found in Prompting under key 'WORK_OF_ART' but not in SpaCy\n",
      "'El soldado' with different key: 'WORK_OF_ART' in Prompting and 'MISC' in SpaCy\n",
      "'El niño caballero' with different key: 'WORK_OF_ART' in Prompting and 'MISC' in SpaCy\n",
      "'Memorial que dio Juan Rana a la Reina Nuestra Señora Doña Mariana de Austria en su entrada en esta corte antes de llegar a Palacio' found in Prompting under key 'WORK_OF_ART' but not in SpaCy\n",
      "'Fieras afemina amor' with different key: 'WORK_OF_ART' in Prompting and 'MISC' in SpaCy\n",
      "'El doctor Juan Rana' with different key: 'WORK_OF_ART' in Prompting and 'MISC' in SpaCy\n",
      "'Salón' with different key: 'WORK_OF_ART' in Prompting and 'LOC' in SpaCy\n",
      "'Triunfos de Amor y Fortuna' with different key: 'WORK_OF_ART' in Prompting and 'MISC' in SpaCy\n",
      "'El mundo al revés' found in Prompting under key 'WORK_OF_ART' but not in SpaCy\n",
      "'La Zarzuela' with different key: 'WORK_OF_ART' in Prompting and 'MISC' in SpaCy\n",
      "'El laberinto del mundo' with different key: 'WORK_OF_ART' in Prompting and 'MISC' in SpaCy\n",
      "'El baile perdido' found in Prompting under key 'WORK_OF_ART' but not in SpaCy\n",
      "''Juan Rana'' found in Prompting under key 'WORK_OF_ART' but not in SpaCy\n",
      "'Un bobo hace ciento' with different key: 'WORK_OF_ART' in Prompting and 'MISC' in SpaCy\n",
      "'Comedias' found in Prompting under key 'WORK_OF_ART' but not in SpaCy\n",
      "'Los hombres deslucidos que se pierden sin saberse cómo ni cómo no' found in Prompting under key 'WORK_OF_ART' but not in SpaCy\n",
      "'Libro de la Hacienda de la Cofradía de Nuestra Señora de la Novena' with different key: 'WORK_OF_ART' in Prompting and 'MISC' in SpaCy\n",
      "'La portería de las damas' found in Prompting under key 'WORK_OF_ART' but not in SpaCy\n",
      "'La maestra de gracias' found in Prompting under key 'WORK_OF_ART' but not in SpaCy\n",
      "'Del horror a la risa: los géneros teatrales clásicos' found in Prompting under key 'WORK_OF_ART' but not in SpaCy\n",
      "'El golfo de las sirenas' with different key: 'WORK_OF_ART' in Prompting and 'MISC' in SpaCy\n",
      "'Las visiones' with different key: 'WORK_OF_ART' in Prompting and 'MISC' in SpaCy\n",
      "'Cien años de soledad' found in Prompting under key 'WORK_OF_ART' but not in SpaCy\n",
      "'Juan Rana' with different key: 'WORK_OF_ART' in Prompting and 'PER' in SpaCy\n",
      "'Dentro Juan Rana' found in Prompting under key 'WORK_OF_ART' but not in SpaCy\n",
      "'A la fiesta que hizo en el Retiro a los Reyes el Príncipe de Astillano' found in Prompting under key 'WORK_OF_ART' but not in SpaCy\n",
      "'vestido de Juan Rana' found in Prompting under key 'WORK_OF_ART' but not in SpaCy\n",
      "'Eurídice y Orfeo' found in Prompting under key 'WORK_OF_ART' but not in SpaCy\n",
      "'el sainete' found in Prompting under key 'WORK_OF_ART' but not in SpaCy\n",
      "'El triunfo de Juan Rana' with different key: 'WORK_OF_ART' in Prompting and 'MISC' in SpaCy\n",
      "'El remediador' with different key: 'WORK_OF_ART' in Prompting and 'ORG' in SpaCy\n",
      "'El infierno de Juan Rana' with different key: 'WORK_OF_ART' in Prompting and 'MISC' in SpaCy\n",
      "'Memorias de Lady Fanshawe' with different key: 'WORK_OF_ART' in Prompting and 'MISC' in SpaCy\n",
      "'teatro colgado' found in Prompting under key 'WORK_OF_ART' but not in SpaCy\n",
      "'La nueva victoria de don Gonzalo de Córdoba' with different key: 'WORK_OF_ART' in Prompting and 'MISC' in SpaCy\n",
      "'El desdén vengado' with different key: 'WORK_OF_ART' in Prompting and 'MISC' in SpaCy\n",
      "'Los volatines' with different key: 'WORK_OF_ART' in Prompting and 'MISC' in SpaCy\n",
      "'Andrómeda y Perseo' found in Prompting under key 'WORK_OF_ART' but not in SpaCy\n",
      "'A society on Stage: Essays on Spanish Golden Drama' with different key: 'WORK_OF_ART' in Prompting and 'MISC' in SpaCy\n",
      "'comedia de Lope' found in Prompting under key 'WORK_OF_ART' but not in SpaCy\n",
      "'Darlo todo y no dar nada' found in Prompting under key 'WORK_OF_ART' but not in SpaCy\n",
      "'Genealogía' with different key: 'WORK_OF_ART' in Prompting and 'MISC' in SpaCy\n",
      "'La Romerilla' found in Prompting under key 'WORK_OF_ART' but not in SpaCy\n",
      "'Las amazonas' with different key: 'WORK_OF_ART' in Prompting and 'MISC' in SpaCy\n",
      "'El niño de Santa Bárbara' with different key: 'WORK_OF_ART' in Prompting and 'MISC' in SpaCy\n",
      "'Las fiestas bacanales' with different key: 'WORK_OF_ART' in Prompting and 'MISC' in SpaCy\n",
      "'escena' found in Prompting under key 'LOC' but not in SpaCy\n",
      "'corral' found in Prompting under key 'LOC' but not in SpaCy\n",
      "'Vellón' found in Prompting under key 'LOC' but not in SpaCy\n",
      "'L' found in Prompting under key 'LOC' but not in SpaCy\n",
      "'Corte' with different key: 'LOC' in Prompting and 'ORG' in SpaCy\n",
      "'corrales' found in Prompting under key 'LOC' but not in SpaCy\n",
      "'Cáncer' with different key: 'LOC' in Prompting and 'MISC' in SpaCy\n",
      "'palacio' found in Prompting under key 'LOC' but not in SpaCy\n",
      "'Solís' with different key: 'LOC' in Prompting and 'PER' in SpaCy\n",
      "'Colombia' found in Prompting under key 'LOC' but not in SpaCy\n",
      "'Avellaneda' with different key: 'LOC' in Prompting and 'PER' in SpaCy\n",
      "'Monteser' found in Prompting under key 'LOC' but not in SpaCy\n",
      "'convento' found in Prompting under key 'LOC' but not in SpaCy\n",
      "'Castellana' found in Prompting under key 'LOC' but not in SpaCy\n",
      "'de la Granja' found in Prompting under key 'LOC' but not in SpaCy\n",
      "'el Bello (o Buen) Retiro' found in Prompting under key 'LOC' but not in SpaCy\n",
      "'Santa María' with different key: 'LOC' in Prompting and 'PER' in SpaCy\n",
      "'Prado' with different key: 'LOC' in Prompting and 'PER' in SpaCy\n",
      "'Palacio del Buen Retiro' found in Prompting under key 'LOC' but not in SpaCy\n",
      "'Convento de Trinitarios' found in Prompting under key 'LOC' but not in SpaCy\n",
      "'Retiro' with different key: 'LOC' in Prompting and 'MISC' in SpaCy\n",
      "'Corpus de Madrid' found in Prompting under key 'LOC' but not in SpaCy\n",
      "'Arte de la pintura' with different key: 'MISC' in Prompting and 'LOC' in SpaCy\n",
      "'comedia' found in Prompting under key 'MISC' but not in SpaCy\n",
      "'italiano' found in Prompting under key 'MISC' but not in SpaCy\n",
      "'préstamo' found in Prompting under key 'MONEY' but not in SpaCy\n",
      "'000 rs' found in Prompting under key 'MONEY' but not in SpaCy\n",
      "'tres caballerías' found in Prompting under key 'MONEY' but not in SpaCy\n",
      "'784 rs' found in Prompting under key 'MONEY' but not in SpaCy\n",
      "'60 rs' found in Prompting under key 'MONEY' but not in SpaCy\n",
      "'32 rs' found in Prompting under key 'MONEY' but not in SpaCy\n",
      "'150 dcs' found in Prompting under key 'MONEY' but not in SpaCy\n",
      "'120 rs' found in Prompting under key 'MONEY' but not in SpaCy\n",
      "'50 dcs' found in Prompting under key 'MONEY' but not in SpaCy\n",
      "'500 rs' found in Prompting under key 'MONEY' but not in SpaCy\n",
      "'1' found in Prompting under key 'MONEY' but not in SpaCy\n",
      "'50 rs' found in Prompting under key 'MONEY' but not in SpaCy\n",
      "'10 dcs' found in Prompting under key 'MONEY' but not in SpaCy\n",
      "'109' found in Prompting under key 'MONEY' but not in SpaCy\n",
      "'14 rs' found in Prompting under key 'MONEY' but not in SpaCy\n",
      "'moneda jaquesa' found in Prompting under key 'MONEY' but not in SpaCy\n",
      "'16 rs' found in Prompting under key 'MONEY' but not in SpaCy\n",
      "'200 dcs' found in Prompting under key 'MONEY' but not in SpaCy\n",
      "'84' found in Prompting under key 'MONEY' but not in SpaCy\n",
      "'7' found in Prompting under key 'MONEY' but not in SpaCy\n",
      "'800 rs' found in Prompting under key 'MONEY' but not in SpaCy\n",
      "'13 rs' found in Prompting under key 'MONEY' but not in SpaCy\n",
      "'12 rs' found in Prompting under key 'MONEY' but not in SpaCy\n",
      "'150 rs' found in Prompting under key 'MONEY' but not in SpaCy\n",
      "'bienes' found in Prompting under key 'MONEY' but not in SpaCy\n",
      "'456 rs' found in Prompting under key 'MONEY' but not in SpaCy\n",
      "'Res' with different key: 'MONEY' in Prompting and 'MISC' in SpaCy\n",
      "'239-52' found in Prompting under key 'MONEY' but not in SpaCy\n",
      "'10 rs' found in Prompting under key 'MONEY' but not in SpaCy\n",
      "'000 dcs' found in Prompting under key 'MONEY' but not in SpaCy\n",
      "'20 rs' found in Prompting under key 'MONEY' but not in SpaCy\n",
      "'36 rs' found in Prompting under key 'MONEY' but not in SpaCy\n",
      "'400' found in Prompting under key 'MONEY' but not in SpaCy\n",
      "'400 rs' found in Prompting under key 'MONEY' but not in SpaCy\n",
      "'50' found in Prompting under key 'MONEY' but not in SpaCy\n",
      "'30 dcs' found in Prompting under key 'MONEY' but not in SpaCy\n",
      "'Octavas' with different key: 'EVENT' in Prompting and 'PER' in SpaCy\n",
      "'cumpleaños del rey Felipe IV' found in Prompting under key 'EVENT' but not in SpaCy\n",
      "'Fiesta que se representó a Su Majestad' found in Prompting under key 'EVENT' but not in SpaCy\n",
      "'autos del Corpus' found in Prompting under key 'EVENT' but not in SpaCy\n",
      "'martes de Carnaval' found in Prompting under key 'EVENT' but not in SpaCy\n",
      "'festividad de Santa Ana' found in Prompting under key 'EVENT' but not in SpaCy\n",
      "'Octava del Corpus' with different key: 'EVENT' in Prompting and 'MISC' in SpaCy\n",
      "'noche de San Juan' found in Prompting under key 'EVENT' but not in SpaCy\n",
      "'fiestas del Corpus de Madrid' found in Prompting under key 'EVENT' but not in SpaCy\n",
      "'fiestas del Corpus madrileño' found in Prompting under key 'EVENT' but not in SpaCy\n",
      "'día de San Juan' found in Prompting under key 'EVENT' but not in SpaCy\n",
      "'fiestas de Nuestra Señora de Agosto' found in Prompting under key 'EVENT' but not in SpaCy\n",
      "'baile de Los Juan Ranas' found in Prompting under key 'EVENT' but not in SpaCy\n",
      "'fiestas de Nuestra Señora de Septiembre' found in Prompting under key 'EVENT' but not in SpaCy\n",
      "'primer cabildo de la Cofradía de Nuestra Señora de la Novena' found in Prompting under key 'EVENT' but not in SpaCy\n",
      "'comedia de Lope' found in Prompting under key 'EVENT' but not in SpaCy\n",
      "'fiesta de Santa Librada' found in Prompting under key 'EVENT' but not in SpaCy\n",
      "'Pascua' with different key: 'EVENT' in Prompting and 'MISC' in SpaCy\n",
      "'Corpus de Sevilla' found in Prompting under key 'EVENT' but not in SpaCy\n",
      "'Quaresma' with different key: 'EVENT' in Prompting and 'LOC' in SpaCy\n",
      "'fiesta de San Juan' found in Prompting under key 'EVENT' but not in SpaCy\n",
      "'Carnaval' with different key: 'EVENT' in Prompting and 'MISC' in SpaCy\n",
      "'Corpus' with different key: 'EVENT' in Prompting and 'MISC' in SpaCy\n",
      "'fiesta del Corpus' found in Prompting under key 'EVENT' but not in SpaCy\n",
      "'San Juan' with different key: 'EVENT' in Prompting and 'PER' in SpaCy\n",
      "'comedia' found in Prompting under key 'EVENT' but not in SpaCy\n",
      "'fiesta' found in Prompting under key 'EVENT' but not in SpaCy\n",
      "'domingo de Carnaval' found in Prompting under key 'EVENT' but not in SpaCy\n",
      "'Carnestolendas' with different key: 'EVENT' in Prompting and 'PER' in SpaCy\n",
      "'fiestas del Corpus' found in Prompting under key 'EVENT' but not in SpaCy\n",
      "'loa' found in Prompting under key 'EVENT' but not in SpaCy\n",
      "'fiesta de Señora Santa Librada de Sigüenza' found in Prompting under key 'EVENT' but not in SpaCy\n",
      "'Corpus de Madrid' found in Prompting under key 'EVENT' but not in SpaCy\n",
      "'signatura Res' found in Prompting under key 'PRODUCT' but not in SpaCy\n",
      "'Ranilla' with different key: 'PRODUCT' in Prompting and 'LOC' in SpaCy\n",
      "'M' found in Prompting under key 'M' but not in SpaCy\n",
      "'real decreto' found in Prompting under key 'LAW' but not in SpaCy\n"
     ]
    }
   ],
   "source": [
    "for key, values in prompting_ners.items():\n",
    "    for ner in values:\n",
    "        found = False\n",
    "        for spacy_key, prompt_values in spacy_ners.items():\n",
    "            if ner in prompt_values:\n",
    "                if key != spacy_key:\n",
    "                    print(f\"'{ner}' with different key: '{key}' in Prompting and '{spacy_key}' in SpaCy\")\n",
    "                break\n",
    "        else:\n",
    "            print(f\"'{ner}' found in Prompting under key '{key}' but not in SpaCy\")"
   ]
  },
  {
   "cell_type": "code",
   "execution_count": 15,
   "id": "5942aa98",
   "metadata": {},
   "outputs": [
    {
     "name": "stdout",
     "output_type": "stream",
     "text": [
      "'H. Bergman' found in SpaCy under key 'PER' but not in Prompting\n",
      "'E. H. Friedman' found in SpaCy under key 'PER' but not in Prompting\n",
      "'Capitán Medrano' found in SpaCy under key 'PER' but not in Prompting\n",
      "'Osorio' found in SpaCy under key 'PER' but not in Prompting\n",
      "'Reyna' found in SpaCy under key 'PER' but not in Prompting\n",
      "'Manuela Bernarda 'la Grifona' found in SpaCy under key 'PER' but not in Prompting\n",
      "'Jerónimo de?' found in SpaCy under key 'PER' but not in Prompting\n",
      "'Góngora' found in SpaCy under key 'PER' but not in Prompting\n",
      "'Dios' found in SpaCy under key 'PER' but not in Prompting\n",
      "'Su Magestad' found in SpaCy under key 'PER' but not in Prompting\n",
      "'Antonia' found in SpaCy under key 'PER' but not in Prompting\n",
      "'Estava' found in SpaCy under key 'PER' but not in Prompting\n",
      "'Francisco Sardeneta' found in SpaCy under key 'PER' but not in Prompting\n",
      "'Pupilo' found in SpaCy under key 'PER' but not in Prompting\n",
      "'Pradillos' found in SpaCy under key 'PER' but not in Prompting\n",
      "'Cuaresma' found in SpaCy under key 'PER' but not in Prompting\n",
      "'Salas' found in SpaCy under key 'PER' but not in Prompting\n",
      "'Santa María' with different key: 'PER' in SpaCy and 'LOC' in Prompting\n",
      "'Juan' found in SpaCy under key 'PER' but not in Prompting\n",
      "'la Reina' found in SpaCy under key 'PER' but not in Prompting\n",
      "'Orfeo' found in SpaCy under key 'PER' but not in Prompting\n",
      "'Micaela [Fernández' found in SpaCy under key 'PER' but not in Prompting\n",
      "'Calderón Darlo' found in SpaCy under key 'PER' but not in Prompting\n",
      "'Diego' found in SpaCy under key 'PER' but not in Prompting\n",
      "'Estábalo' found in SpaCy under key 'PER' but not in Prompting\n",
      "'Séneca' found in SpaCy under key 'PER' but not in Prompting\n",
      "'Bianco' found in SpaCy under key 'PER' but not in Prompting\n",
      "'Calíope' found in SpaCy under key 'PER' but not in Prompting\n",
      "'Oro' found in SpaCy under key 'PER' but not in Prompting\n",
      "'Paz' found in SpaCy under key 'PER' but not in Prompting\n",
      "'Sebastián de] Prado' found in SpaCy under key 'PER' but not in Prompting\n",
      "'Villa' found in SpaCy under key 'PER' but not in Prompting\n",
      "'Mélito' found in SpaCy under key 'PER' but not in Prompting\n",
      "'Reina Madre' with different key: 'PER' in SpaCy and 'ORG' in Prompting\n",
      "'Otorgaba' found in SpaCy under key 'PER' but not in Prompting\n",
      "'Francisca Bezona' found in SpaCy under key 'PER' but not in Prompting\n",
      "'Avellaneda' with different key: 'PER' in SpaCy and 'LOC' in Prompting\n",
      "'Cosme Pérez 'Juan Rana' found in SpaCy under key 'PER' but not in Prompting\n",
      "'Antonia del Pozo 'la Patata' found in SpaCy under key 'PER' but not in Prompting\n",
      "'M. L. Lobato' found in SpaCy under key 'PER' but not in Prompting\n",
      "'Alcayde' found in SpaCy under key 'PER' but not in Prompting\n",
      "'San Juan' with different key: 'PER' in SpaCy and 'EVENT' in Prompting\n",
      "'D. D. Miller' found in SpaCy under key 'PER' but not in Prompting\n",
      "'Grazzioso della Regina' found in SpaCy under key 'PER' but not in Prompting\n",
      "'Tomás de] Nájera' found in SpaCy under key 'PER' but not in Prompting\n",
      "'mui zelebrado' found in SpaCy under key 'PER' but not in Prompting\n",
      "'Cosme [Pérez' found in SpaCy under key 'PER' but not in Prompting\n",
      "'Carnestolendas' with different key: 'PER' in SpaCy and 'EVENT' in Prompting\n",
      "'Borja' found in SpaCy under key 'PER' but not in Prompting\n",
      "'Fortuna' found in SpaCy under key 'PER' but not in Prompting\n",
      "'Perseo' found in SpaCy under key 'PER' but not in Prompting\n",
      "'Rey Nuestro Señor' found in SpaCy under key 'PER' but not in Prompting\n",
      "'F. Serralta' found in SpaCy under key 'PER' but not in Prompting\n",
      "'Octavas' with different key: 'PER' in SpaCy and 'EVENT' in Prompting\n",
      "'onor' found in SpaCy under key 'PER' but not in Prompting\n",
      "'Hércules' found in SpaCy under key 'PER' but not in Prompting\n",
      "'Rana.- Verá' found in SpaCy under key 'PER' but not in Prompting\n",
      "'Pereira' found in SpaCy under key 'PER' but not in Prompting\n",
      "'Sebastiana [Fernández' found in SpaCy under key 'PER' but not in Prompting\n",
      "'Cotarelo— Cosme Pérez' found in SpaCy under key 'PER' but not in Prompting\n",
      "'Rosa' found in SpaCy under key 'PER' but not in Prompting\n",
      "'Pedro de la] Rosa' found in SpaCy under key 'PER' but not in Prompting\n",
      "'Alonso de] Olmedo' found in SpaCy under key 'PER' but not in Prompting\n",
      "'Pérez Pastor— Catalina de Nicolás' found in SpaCy under key 'PER' but not in Prompting\n",
      "'A. de la Granja' found in SpaCy under key 'PER' but not in Prompting\n",
      "'Ramírez' found in SpaCy under key 'PER' but not in Prompting\n",
      "'Luciana 'la Patata' found in SpaCy under key 'PER' but not in Prompting\n",
      "'Antonio de] Escamilla' found in SpaCy under key 'PER' but not in Prompting\n",
      "'Reina Mariana de Austria' found in SpaCy under key 'PER' but not in Prompting\n",
      "'Simón' found in SpaCy under key 'PER' but not in Prompting\n",
      "'Obrar' found in SpaCy under key 'PER' but not in Prompting\n",
      "'Andrómeda' found in SpaCy under key 'PER' but not in Prompting\n",
      "'Santa Ana' found in SpaCy under key 'PER' but not in Prompting\n",
      "'Señoras Grandes' found in SpaCy under key 'PER' but not in Prompting\n",
      "'Calderón Fieras' found in SpaCy under key 'PER' but not in Prompting\n",
      "'Santos Sacramentos' found in SpaCy under key 'PER' but not in Prompting\n",
      "'Luis de Ulloa' found in SpaCy under key 'PER' but not in Prompting\n",
      "'Godoy' found in SpaCy under key 'PER' but not in Prompting\n",
      "'grefier de la Reina Simón de Alcántara' found in SpaCy under key 'PER' but not in Prompting\n",
      "'Zid' found in SpaCy under key 'PER' but not in Prompting\n",
      "'Cabredo' found in SpaCy under key 'PER' but not in Prompting\n",
      "'Mateo' found in SpaCy under key 'PER' but not in Prompting\n",
      "'Según F. Sáez Raposo' found in SpaCy under key 'PER' but not in Prompting\n",
      "'Como' found in SpaCy under key 'PER' but not in Prompting\n",
      "'Bernarda [Ramírez' found in SpaCy under key 'PER' but not in Prompting\n",
      "'Antonio de] Escamilla [Manuela' found in SpaCy under key 'PER' but not in Prompting\n",
      "'Reina Nuestra Señora Doña Mariana de Austria' found in SpaCy under key 'PER' but not in Prompting\n",
      "'Antonio de Solís Triunfos de Amor' found in SpaCy under key 'PER' but not in Prompting\n",
      "'H. J. Manzari' found in SpaCy under key 'PER' but not in Prompting\n",
      "'Rey.- Cómo' found in SpaCy under key 'PER' but not in Prompting\n",
      "'Antonio' found in SpaCy under key 'PER' but not in Prompting\n",
      "'Rey.- ¿Qué' found in SpaCy under key 'PER' but not in Prompting\n",
      "'Años' found in SpaCy under key 'PER' but not in Prompting\n",
      "'Sustaete' found in SpaCy under key 'PER' but not in Prompting\n",
      "'Eurídice' found in SpaCy under key 'PER' but not in Prompting\n",
      "'Miguel de] Orozco' found in SpaCy under key 'PER' but not in Prompting\n",
      "'F. Sáez Raposo' found in SpaCy under key 'PER' but not in Prompting\n",
      "'Según la Genealogía' found in SpaCy under key 'MISC' but not in Prompting\n",
      "'Bien vengas mal si vienes' found in SpaCy under key 'MISC' but not in Prompting\n",
      "'Aguardad' found in SpaCy under key 'MISC' but not in Prompting\n",
      "'La primera jornada de Monteser' found in SpaCy under key 'MISC' but not in Prompting\n",
      "'Carta de Difuntos de la Cofradía de Nuestra Señora de la Novena' found in SpaCy under key 'MISC' but not in Prompting\n",
      "'Los hombres deslucidos' found in SpaCy under key 'MISC' but not in Prompting\n",
      "'El reparto que figura' found in SpaCy under key 'MISC' but not in Prompting\n",
      "'El guardainfante' with different key: 'MISC' in SpaCy and 'WORK_OF_ART' in Prompting\n",
      "'El mismo investigador' found in SpaCy under key 'MISC' but not in Prompting\n",
      "'Por su parte' found in SpaCy under key 'MISC' but not in Prompting\n",
      "'Quir' found in SpaCy under key 'MISC' but not in Prompting\n",
      "'Dios' found in SpaCy under key 'MISC' but not in Prompting\n",
      "'Poca Ropa' found in SpaCy under key 'MISC' but not in Prompting\n",
      "'Bernardilla' with different key: 'MISC' in SpaCy and 'PER' in Prompting\n",
      "'El manuscrito' found in SpaCy under key 'MISC' but not in Prompting\n",
      "'Homenaje a Christiane Faliu-Lacourt' found in SpaCy under key 'MISC' but not in Prompting\n",
      "'Creemos' found in SpaCy under key 'MISC' but not in Prompting\n",
      "'Entre los bienes' found in SpaCy under key 'MISC' but not in Prompting\n",
      "'Gay Golden Age Gracioso' with different key: 'MISC' in SpaCy and 'WORK_OF_ART' in Prompting\n",
      "'Los Juan Ranas' with different key: 'MISC' in SpaCy and 'WORK_OF_ART' in Prompting\n",
      "'Pico y Canente' with different key: 'MISC' in SpaCy and 'WORK_OF_ART' in Prompting\n",
      "'El alcalde de Alcorcón' with different key: 'MISC' in SpaCy and 'WORK_OF_ART' in Prompting\n",
      "'El mundo' with different key: 'MISC' in SpaCy and 'WORK_OF_ART' in Prompting\n",
      "'El ayo de Moreto' found in SpaCy under key 'MISC' but not in Prompting\n",
      "'Corpus' with different key: 'MISC' in SpaCy and 'ORG' in Prompting\n",
      "'Los muertos vivos' with different key: 'MISC' in SpaCy and 'WORK_OF_ART' in Prompting\n",
      "'El retrato de Juan Rana' with different key: 'MISC' in SpaCy and 'WORK_OF_ART' in Prompting\n",
      "'Cuatro Edades' with different key: 'MISC' in SpaCy and 'WORK_OF_ART' in Prompting\n",
      "'Según relata la Genealogía' found in SpaCy under key 'MISC' but not in Prompting\n",
      "'A la fiesta' found in SpaCy under key 'MISC' but not in Prompting\n",
      "'La loa de Juan Rana' with different key: 'MISC' in SpaCy and 'WORK_OF_ART' in Prompting\n",
      "'El toreador' with different key: 'MISC' in SpaCy and 'WORK_OF_ART' in Prompting\n",
      "'La infelice Dorotea' with different key: 'MISC' in SpaCy and 'WORK_OF_ART' in Prompting\n",
      "'Alenda y Mira' found in SpaCy under key 'MISC' but not in Prompting\n",
      "'Scriptura' with different key: 'MISC' in SpaCy and 'WORK_OF_ART' in Prompting\n",
      "'La restauración de España' with different key: 'MISC' in SpaCy and 'WORK_OF_ART' in Prompting\n",
      "'Una vez terminada la temporada teatral' found in SpaCy under key 'MISC' but not in Prompting\n",
      "'Y volviéndose a mirar las ventanas' found in SpaCy under key 'MISC' but not in Prompting\n",
      "'Cáncer' with different key: 'MISC' in SpaCy and 'LOC' in Prompting\n",
      "'Octava del Corpus' with different key: 'MISC' in SpaCy and 'EVENT' in Prompting\n",
      "'Fieras' found in SpaCy under key 'MISC' but not in Prompting\n",
      "'Primus calamus' with different key: 'MISC' in SpaCy and 'WORK_OF_ART' in Prompting\n",
      "'La gente moza' found in SpaCy under key 'MISC' but not in Prompting\n",
      "'Varey' with different key: 'MISC' in SpaCy and 'PER' in Prompting\n",
      "'M. Vitse' found in SpaCy under key 'MISC' but not in Prompting\n",
      "'Principito' with different key: 'MISC' in SpaCy and 'PER' in Prompting\n",
      "'El contraste de amor' with different key: 'MISC' in SpaCy and 'WORK_OF_ART' in Prompting\n",
      "'El poeta de bailes' with different key: 'MISC' in SpaCy and 'WORK_OF_ART' in Prompting\n",
      "'De hecho, la Genealogía' found in SpaCy under key 'MISC' but not in Prompting\n",
      "'El mago' with different key: 'MISC' in SpaCy and 'WORK_OF_ART' in Prompting\n",
      "'Tiempo' found in SpaCy under key 'MISC' but not in Prompting\n",
      "'Pascuas' found in SpaCy under key 'MISC' but not in Prompting\n",
      "'La renegada de Valladolid' with different key: 'MISC' in SpaCy and 'WORK_OF_ART' in Prompting\n",
      "'Pero al día siguiente de hacerse las notificaciones' found in SpaCy under key 'MISC' but not in Prompting\n",
      "'Harta soledad me' found in SpaCy under key 'MISC' but not in Prompting\n",
      "'Mi tío' with different key: 'MISC' in SpaCy and 'PER' in Prompting\n",
      "'Res' with different key: 'MISC' in SpaCy and 'MONEY' in Prompting\n",
      "'Carnaval en el Palacio del Buen Retiro' found in SpaCy under key 'MISC' but not in Prompting\n",
      "'El nombre de' found in SpaCy under key 'MISC' but not in Prompting\n",
      "'El mundo al revés .' found in SpaCy under key 'MISC' but not in Prompting\n",
      "'El niño de Santa Barbara' with different key: 'MISC' in SpaCy and 'WORK_OF_ART' in Prompting\n",
      "'Bien vengas mal [' found in SpaCy under key 'MISC' but not in Prompting\n",
      "'Bernarda' with different key: 'MISC' in SpaCy and 'PER' in Prompting\n",
      "'La lista de obras de Quiñones' found in SpaCy under key 'MISC' but not in Prompting\n",
      "'Dejaba a sus albaceas' found in SpaCy under key 'MISC' but not in Prompting\n",
      "'Por otro lado' found in SpaCy under key 'MISC' but not in Prompting\n",
      "'Esta comedia' found in SpaCy under key 'MISC' but not in Prompting\n",
      "'Sitio del Buen Retiro' found in SpaCy under key 'MISC' but not in Prompting\n",
      "'Honrar bien, que Dios es Dios' with different key: 'MISC' in SpaCy and 'WORK_OF_ART' in Prompting\n",
      "'El autor no sabía firmar' found in SpaCy under key 'MISC' but not in Prompting\n",
      "'La noche de San Juan' with different key: 'MISC' in SpaCy and 'WORK_OF_ART' in Prompting\n",
      "'Pedro' with different key: 'MISC' in SpaCy and 'PER' in Prompting\n",
      "'La pieza' found in SpaCy under key 'MISC' but not in Prompting\n",
      "'Rosa' found in SpaCy under key 'MISC' but not in Prompting\n",
      "'El prólogo' found in SpaCy under key 'MISC' but not in Prompting\n",
      "'El soldado' with different key: 'MISC' in SpaCy and 'WORK_OF_ART' in Prompting\n",
      "'y1640' found in SpaCy under key 'MISC' but not in Prompting\n",
      "'El niño caballero' with different key: 'MISC' in SpaCy and 'WORK_OF_ART' in Prompting\n",
      "'El ayo de' found in SpaCy under key 'MISC' but not in Prompting\n",
      "'Lo, 105' found in SpaCy under key 'MISC' but not in Prompting\n",
      "'Fieras afemina amor' with different key: 'MISC' in SpaCy and 'WORK_OF_ART' in Prompting\n",
      "'El doctor Juan Rana' with different key: 'MISC' in SpaCy and 'WORK_OF_ART' in Prompting\n",
      "'Triunfos de Amor y Fortuna' with different key: 'MISC' in SpaCy and 'WORK_OF_ART' in Prompting\n",
      "'Reies' with different key: 'MISC' in SpaCy and 'ORG' in Prompting\n",
      "'La Zarzuela' with different key: 'MISC' in SpaCy and 'WORK_OF_ART' in Prompting\n",
      "'El laberinto del mundo' with different key: 'MISC' in SpaCy and 'WORK_OF_ART' in Prompting\n",
      "'Un bobo hace ciento' with different key: 'MISC' in SpaCy and 'WORK_OF_ART' in Prompting\n",
      "'Carnaval' with different key: 'MISC' in SpaCy and 'EVENT' in Prompting\n",
      "'El escándalo' found in SpaCy under key 'MISC' but not in Prompting\n",
      "'Libro de la Hacienda de la Cofradía de Nuestra Señora de la Novena' with different key: 'MISC' in SpaCy and 'WORK_OF_ART' in Prompting\n",
      "'Genealogía  —este apodo' found in SpaCy under key 'MISC' but not in Prompting\n",
      "'Comedias.' found in SpaCy under key 'MISC' but not in Prompting\n",
      "'La misma fuente' found in SpaCy under key 'MISC' but not in Prompting\n",
      "'El golfo de las sirenas' with different key: 'MISC' in SpaCy and 'WORK_OF_ART' in Prompting\n",
      "'Corpus de' found in SpaCy under key 'MISC' but not in Prompting\n",
      "'Retiro' with different key: 'MISC' in SpaCy and 'LOC' in Prompting\n",
      "'Las visiones' with different key: 'MISC' in SpaCy and 'WORK_OF_ART' in Prompting\n",
      "'Dio fin a la comedia' found in SpaCy under key 'MISC' but not in Prompting\n",
      "'Memorial' found in SpaCy under key 'MISC' but not in Prompting\n",
      "'Santísima Trinidad desta Corte' found in SpaCy under key 'MISC' but not in Prompting\n",
      "'Señoras' with different key: 'MISC' in SpaCy and 'PER' in Prompting\n",
      "'El triunfo de Juan Rana' with different key: 'MISC' in SpaCy and 'WORK_OF_ART' in Prompting\n",
      "'Del horror a la risa' found in SpaCy under key 'MISC' but not in Prompting\n",
      "'El infierno de Juan Rana' with different key: 'MISC' in SpaCy and 'WORK_OF_ART' in Prompting\n",
      "'Memorias de Lady Fanshawe' with different key: 'MISC' in SpaCy and 'WORK_OF_ART' in Prompting\n",
      "'Alma' found in SpaCy under key 'MISC' but not in Prompting\n",
      "'La nueva victoria de don Gonzalo de Córdoba' with different key: 'MISC' in SpaCy and 'WORK_OF_ART' in Prompting\n",
      "'El desdén vengado' with different key: 'MISC' in SpaCy and 'WORK_OF_ART' in Prompting\n",
      "'La comedia' found in SpaCy under key 'MISC' but not in Prompting\n",
      "'Los volatines' with different key: 'MISC' in SpaCy and 'WORK_OF_ART' in Prompting\n",
      "'A society on Stage: Essays on Spanish Golden Drama' with different key: 'MISC' in SpaCy and 'WORK_OF_ART' in Prompting\n",
      "'Sin embargo' found in SpaCy under key 'MISC' but not in Prompting\n",
      "'Dicho investigador' found in SpaCy under key 'MISC' but not in Prompting\n",
      "'Res.' found in SpaCy under key 'MISC' but not in Prompting\n",
      "'Pascua' with different key: 'MISC' in SpaCy and 'EVENT' in Prompting\n",
      "'Tamesis Books' with different key: 'MISC' in SpaCy and 'ORG' in Prompting\n",
      "'Sometido a tormento' found in SpaCy under key 'MISC' but not in Prompting\n",
      "'Genealogía' with different key: 'MISC' in SpaCy and 'PER' in Prompting\n",
      "'El caballero' found in SpaCy under key 'MISC' but not in Prompting\n",
      "'La risa y el actor: el caso de Juan Rana' found in SpaCy under key 'MISC' but not in Prompting\n",
      "'A partir de las palabras' found in SpaCy under key 'MISC' but not in Prompting\n",
      "'Las amazonas' with different key: 'MISC' in SpaCy and 'WORK_OF_ART' in Prompting\n",
      "'El niño de Santa Bárbara' with different key: 'MISC' in SpaCy and 'WORK_OF_ART' in Prompting\n",
      "'Las fiestas bacanales' with different key: 'MISC' in SpaCy and 'WORK_OF_ART' in Prompting\n",
      "'Archivo Municipal de Madrid' with different key: 'LOC' in SpaCy and 'ORG' in Prompting\n",
      "'Su Majestad' with different key: 'LOC' in SpaCy and 'PER' in Prompting\n",
      "'Madrid' with different key: 'LOC' in SpaCy and 'GPE' in Prompting\n",
      "'Villa de Madrid' with different key: 'LOC' in SpaCy and 'ORG' in Prompting\n",
      "'Virgen de Atocha' with different key: 'LOC' in SpaCy and 'PER' in Prompting\n",
      "'Lisboa' with different key: 'LOC' in SpaCy and 'GPE' in Prompting\n",
      "'la Loa' found in SpaCy under key 'LOC' but not in Prompting\n",
      "'Bato' with different key: 'LOC' in SpaCy and 'PER' in Prompting\n",
      "'Los Juan Ranas' with different key: 'LOC' in SpaCy and 'WORK_OF_ART' in Prompting\n",
      "'Aguilar Priego' with different key: 'LOC' in SpaCy and 'PER' in Prompting\n",
      "'Avisos' found in SpaCy under key 'LOC' but not in Prompting\n",
      "'Cofradía de Nuestra Señora de la Novena' with different key: 'LOC' in SpaCy and 'ORG' in Prompting\n",
      "'Españolas' with different key: 'LOC' in SpaCy and 'GPE' in Prompting\n",
      "'New Orleans' with different key: 'LOC' in SpaCy and 'GPE' in Prompting\n",
      "'Corpus' with different key: 'LOC' in SpaCy and 'ORG' in Prompting\n",
      "'Villa huvo' found in SpaCy under key 'LOC' but not in Prompting\n",
      "'Señora' found in SpaCy under key 'LOC' but not in Prompting\n",
      "'Prado' with different key: 'LOC' in SpaCy and 'PER' in Prompting\n",
      "'Venus' found in SpaCy under key 'LOC' but not in Prompting\n",
      "'Grandes' with different key: 'LOC' in SpaCy and 'PER' in Prompting\n",
      "'Escorial' with different key: 'LOC' in SpaCy and 'ORG' in Prompting\n",
      "'Escamilla' with different key: 'LOC' in SpaCy and 'PER' in Prompting\n",
      "'Arte de la pintura' with different key: 'LOC' in SpaCy and 'MISC' in Prompting\n",
      "'Valladolid' with different key: 'LOC' in SpaCy and 'GPE' in Prompting\n",
      "'Aora' found in SpaCy under key 'LOC' but not in Prompting\n",
      "'Tudela del Duero' with different key: 'LOC' in SpaCy and 'GPE' in Prompting\n",
      "'Salta' found in SpaCy under key 'LOC' but not in Prompting\n",
      "'San Lorenzo de El Escorial' with different key: 'LOC' in SpaCy and 'GPE' in Prompting\n",
      "'Tudela de Duero' with different key: 'LOC' in SpaCy and 'GPE' in Prompting\n",
      "'Plata' found in SpaCy under key 'LOC' but not in Prompting\n",
      "'Hospital General de Valencia' with different key: 'LOC' in SpaCy and 'ORG' in Prompting\n",
      "'Ranilla' with different key: 'LOC' in SpaCy and 'PER' in Prompting\n",
      "'Sevilla' with different key: 'LOC' in SpaCy and 'GPE' in Prompting\n",
      "'San Juan' with different key: 'LOC' in SpaCy and 'EVENT' in Prompting\n",
      "'Hierro' found in SpaCy under key 'LOC' but not in Prompting\n",
      "'Subirá' with different key: 'LOC' in SpaCy and 'PER' in Prompting\n",
      "'Carnestolendas' with different key: 'LOC' in SpaCy and 'EVENT' in Prompting\n",
      "'Guadalajara' with different key: 'LOC' in SpaCy and 'GPE' in Prompting\n",
      "'Ceniza' found in SpaCy under key 'LOC' but not in Prompting\n",
      "'Infantes' with different key: 'LOC' in SpaCy and 'PER' in Prompting\n",
      "'Carnaval —Cotarelo' found in SpaCy under key 'LOC' but not in Prompting\n",
      "'Coronela' found in SpaCy under key 'LOC' but not in Prompting\n",
      "'Mendoza' found in SpaCy under key 'LOC' but not in Prompting\n",
      "'Señora Santa Librada de Sigüenza' found in SpaCy under key 'LOC' but not in Prompting\n",
      "'Rosa' found in SpaCy under key 'LOC' but not in Prompting\n",
      "'Príncipe de Astillano' with different key: 'LOC' in SpaCy and 'PER' in Prompting\n",
      "'Palacio' with different key: 'LOC' in SpaCy and 'ORG' in Prompting\n",
      "'SS.MM' found in SpaCy under key 'LOC' but not in Prompting\n",
      "'Nuestra Señora de Septiembre' found in SpaCy under key 'LOC' but not in Prompting\n",
      "'Salón' with different key: 'LOC' in SpaCy and 'WORK_OF_ART' in Prompting\n",
      "'Londres' with different key: 'LOC' in SpaCy and 'GPE' in Prompting\n",
      "'Biblioteca Nacional de Madrid' with different key: 'LOC' in SpaCy and 'ORG' in Prompting\n",
      "'Santo' found in SpaCy under key 'LOC' but not in Prompting\n",
      "'Quaresma' with different key: 'LOC' in SpaCy and 'EVENT' in Prompting\n",
      "'Grifona' found in SpaCy under key 'LOC' but not in Prompting\n",
      "'Carnaval' with different key: 'LOC' in SpaCy and 'EVENT' in Prompting\n",
      "'los Reyes' found in SpaCy under key 'LOC' but not in Prompting\n",
      "'Aranjuez' with different key: 'LOC' in SpaCy and 'GPE' in Prompting\n",
      "'Zaragoza' with different key: 'LOC' in SpaCy and 'GPE' in Prompting\n",
      "'la Zarzuela' found in SpaCy under key 'LOC' but not in Prompting\n",
      "'Parroquia de San Sebastián de Madrid' with different key: 'LOC' in SpaCy and 'ORG' in Prompting\n",
      "'Bello' found in SpaCy under key 'LOC' but not in Prompting\n",
      "'el Prado' found in SpaCy under key 'LOC' but not in Prompting\n",
      "'Santa Librada' found in SpaCy under key 'LOC' but not in Prompting\n",
      "'Valencia' with different key: 'LOC' in SpaCy and 'GPE' in Prompting\n",
      "'Buen) Retiro' found in SpaCy under key 'LOC' but not in Prompting\n",
      "'Convento de la Santísima Trinidad de Madrid' found in SpaCy under key 'LOC' but not in Prompting\n",
      "'Quiñones' with different key: 'LOC' in SpaCy and 'PER' in Prompting\n",
      "'Alcalde' found in SpaCy under key 'LOC' but not in Prompting\n",
      "'Cofradía de Nuestra Señora del Rosario de Vicálvaro' with different key: 'LOC' in SpaCy and 'ORG' in Prompting\n",
      "'Melia' found in SpaCy under key 'LOC' but not in Prompting\n",
      "'Salamanca' with different key: 'LOC' in SpaCy and 'GPE' in Prompting\n",
      "'Aragón' with different key: 'LOC' in SpaCy and 'GPE' in Prompting\n",
      "'España' with different key: 'LOC' in SpaCy and 'GPE' in Prompting\n",
      "'Nuestra Señora de Agosto de Navalagamella' found in SpaCy under key 'LOC' but not in Prompting\n",
      "'Heredia' found in SpaCy under key 'LOC' but not in Prompting\n",
      "'Convento de San José de Malagón' with different key: 'LOC' in SpaCy and 'ORG' in Prompting\n",
      "'Convento de Trinitarios de Madrid' found in SpaCy under key 'LOC' but not in Prompting\n",
      "'Cobre' found in SpaCy under key 'LOC' but not in Prompting\n",
      "'Espinel' with different key: 'LOC' in SpaCy and 'PER' in Prompting\n",
      "'Romerilla' found in SpaCy under key 'ORG' but not in Prompting\n",
      "'Majestades' found in SpaCy under key 'ORG' but not in Prompting\n",
      "'Sus Majestades' with different key: 'ORG' in SpaCy and 'PER' in Prompting\n",
      "'El remediador' with different key: 'ORG' in SpaCy and 'WORK_OF_ART' in Prompting\n"
     ]
    }
   ],
   "source": [
    "for key, values in spacy_ners.items():\n",
    "    for ner in values:\n",
    "        found = False\n",
    "        for prompt_key, prompt_values in prompting_ners.items():\n",
    "            if ner in prompt_values:\n",
    "                if key != prompt_key:\n",
    "                    print(f\"'{ner}' with different key: '{key}' in SpaCy and '{prompt_key}' in Prompting\")\n",
    "                break\n",
    "        else:\n",
    "            print(f\"'{ner}' found in SpaCy under key '{key}' but not in Prompting\")"
   ]
  },
  {
   "cell_type": "code",
   "execution_count": 16,
   "id": "ced237c6",
   "metadata": {},
   "outputs": [],
   "source": [
    "import json\n",
    "\n",
    "with open(\"../out/prompting_ners_gpt_4.1_mini.json\", \"w\", encoding=\"utf-8\") as fw:\n",
    "    json.dump({key: list(values) for key, values in prompting_ners.items()}, fw, ensure_ascii=False, indent=4)\n",
    "    \n",
    "with open(\"../out/spacy_ners.json\", \"w\", encoding=\"utf-8\") as fw:\n",
    "    json.dump({key: list(values) for key, values in spacy_ners.items()}, fw, ensure_ascii=False, indent=4)"
   ]
  }
 ],
 "metadata": {
  "kernelspec": {
   "display_name": ".venv",
   "language": "python",
   "name": "python3"
  },
  "language_info": {
   "codemirror_mode": {
    "name": "ipython",
    "version": 3
   },
   "file_extension": ".py",
   "mimetype": "text/x-python",
   "name": "python",
   "nbconvert_exporter": "python",
   "pygments_lexer": "ipython3",
   "version": "3.12.0"
  }
 },
 "nbformat": 4,
 "nbformat_minor": 5
}
