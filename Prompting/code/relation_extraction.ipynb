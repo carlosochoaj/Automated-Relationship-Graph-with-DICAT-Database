{
 "cells": [
  {
   "cell_type": "markdown",
   "id": "8a19d380",
   "metadata": {},
   "source": [
    "## 1. Load NERs extracted previously"
   ]
  },
  {
   "cell_type": "code",
   "execution_count": 83,
   "id": "f4157dfa",
   "metadata": {},
   "outputs": [],
   "source": [
    "import json\n",
    "\n",
    "with open(\"../out/prompting_ners_gpt_4.1_mini.json\", \"r\", encoding=\"utf-8\") as fr:\n",
    "    prompting_ners = json.load(fr)"
   ]
  },
  {
   "cell_type": "markdown",
   "id": "ea2eb015",
   "metadata": {},
   "source": [
    "## 2. Preparing LLM for RE"
   ]
  },
  {
   "cell_type": "code",
   "execution_count": 84,
   "id": "d53780e0",
   "metadata": {},
   "outputs": [],
   "source": [
    "from langchain_openai import ChatOpenAI\n",
    "from dotenv import load_dotenv\n",
    "import os"
   ]
  },
  {
   "cell_type": "code",
   "execution_count": 85,
   "id": "b4bdd7d3",
   "metadata": {},
   "outputs": [],
   "source": [
    "load_dotenv()\n",
    "\n",
    "llm = ChatOpenAI(\n",
    "    model=\"gpt-4.1-mini\",\n",
    "    temperature=0,\n",
    "    api_key=os.getenv(\"OPENAI_API_KEY\"),\n",
    ")"
   ]
  },
  {
   "cell_type": "code",
   "execution_count": 86,
   "id": "aebf84b4",
   "metadata": {},
   "outputs": [],
   "source": [
    "with open(\"../data/introduccion.txt\", \"r\", encoding=\"utf-8\") as fr:\n",
    "    text = fr.read()\n",
    "    \n",
    "with open(\"../data/historia_juan_rana.txt\", \"r\", encoding=\"utf-8\") as fr:\n",
    "    text += fr.read()"
   ]
  },
  {
   "cell_type": "markdown",
   "id": "803d84ed",
   "metadata": {},
   "source": [
    "### 2.1. First approach: Analyze the entire text passing NERs and text into the prompt"
   ]
  },
  {
   "cell_type": "code",
   "execution_count": 88,
   "id": "f694df1e",
   "metadata": {},
   "outputs": [],
   "source": [
    "from langchain.prompts import PromptTemplate\n",
    "\n",
    "entire_text_prompt = PromptTemplate(\n",
    "    input_variables=[\"text\", \"entities\"],\n",
    "    template=\"\"\"\n",
    "        Dado el siguiente texto y una lista de entidades nombradas previamente extraídas, identifica todas las relaciones explícitas o implícitas entre dichas entidades.\n",
    "\n",
    "        Las relaciones deben expresarse únicamente en el formato:\n",
    "        (Entidad1)-[relación]-(Entidad2)\n",
    "\n",
    "        Donde:\n",
    "\n",
    "        - Entidad1 y Entidad2 deben coincidir con entidades de la lista proporcionada.\n",
    "\n",
    "        - [relación] debe ser un verbo o una expresión verbal que indique la relación entre las entidades en el contexto del texto.\n",
    "\n",
    "        - Si una relación puede expresarse con sinónimos más generales o normalizados (por ejemplo, \"dirige\", \"es jefe de\" → \"dirige\"), elige el término más general.\n",
    "\n",
    "        - Ignora relaciones que no se puedan inferir directamente del texto.\n",
    "\n",
    "        Lista de entidades (NERs):\n",
    "        {entities}\n",
    "\n",
    "        Texto de entrada:\n",
    "        {text}\n",
    "\n",
    "        Salida esperada:\n",
    "        (EntidadA)-[relación]-(EntidadB)\n",
    "        (EntidadC)-[relación]-(EntidadD)\n",
    "        …\n",
    "        \n",
    "        Muestra la salida únicamente con las relaciones encontradas, sin ningún otro texto adicional.\n",
    "    \"\"\",\n",
    ")"
   ]
  },
  {
   "cell_type": "code",
   "execution_count": 89,
   "id": "2860274c",
   "metadata": {},
   "outputs": [],
   "source": [
    "response = llm.invoke(\n",
    "    entire_text_prompt.invoke({\n",
    "        \"text\": text,\n",
    "        \"entities\": \"\\n\".join(\n",
    "            [\n",
    "                f\"{key}: {', '.join(values)}\"\n",
    "                for key, values in prompting_ners.items()\n",
    "            ]\n",
    "        ),\n",
    "    })\n",
    ").content"
   ]
  },
  {
   "cell_type": "code",
   "execution_count": 90,
   "id": "7e7e9fb9",
   "metadata": {},
   "outputs": [
    {
     "name": "stdout",
     "output_type": "stream",
     "text": [
      "(Cosme Pérez)-[fue conocido artísticamente como]-(Juan Rana)\n",
      "(Cosme Pérez)-[nació en]-(Tudela de Duero)\n",
      "(Cosme Pérez)-[fue hijo de]-(Damián Pérez)\n",
      "(Cosme Pérez)-[fue hijo de]-(Isabel de Basto)\n",
      "(Cosme Pérez)-[estuvo casado con]-(Bernarda Ramírez)\n",
      "(Cosme Pérez)-[estuvo casado con]-(Bernarda Manuela)\n",
      "(Cosme Pérez)-[estuvo casado con]-(María de Acosta)\n",
      "(Cosme Pérez)-[tuvo como hija]-(Francisca María Pérez)\n",
      "(Cosme Pérez)-[fue recibido en]-(Cofradía de Nuestra Señora de la Novena)\n",
      "(Cosme Pérez)-[estuvo en compañía de]-(Tomás Fernández [Cabredo])\n",
      "(Domingo Canejil)-[recibió nombre de]-(Ranilla)\n",
      "(Cosme Pérez)-[tuvo confianza de]-(Rey Felipe IV)\n",
      "(Cosme Pérez)-[intervino ante]-(Rey Felipe IV)\n",
      "(Cosme Pérez)-[tuvo parentesco con]-(Bárbara Coronel)\n",
      "(Pedro de la Rosa)-[quitó papeles a]-(Juan Rana)\n",
      "(Juan Rana)-[fue alabado por]-(familia real)\n",
      "(Cosme Pérez)-[poseyó casas en]-(calle de Cantarranas)\n",
      "(Juan Caramuel)-[documentó anécdota de]-(Juan Rana)\n",
      "(Juan Rana)-[representó papel de]-(alcalde rústico)\n",
      "(Cosme Pérez)-[actuó en obra]-(El doctor Juan Rana)\n",
      "(Cosme Pérez)-[fue acusado de]-(pecado nefando)\n",
      "(F. Serralta)-[analizó piezas de]-(Cosme Pérez)\n",
      "(Cosme Pérez)-[salió en carro en]-(Fieras afemina amor)\n",
      "(Fieras afemina amor)-[fue obra de]-(Calderón de la Barca)\n",
      "(Fieras afemina amor)-[se estrenó en]-(29 de enero de 1672)\n",
      "(Cosme Pérez)-[participó en obra]-(Lo que ha de ser)\n",
      "(Cosme Pérez)-[participó en obra]-(El segundo Séneca de España)\n",
      "(Cosme Pérez)-[fue interpretado por]-(otros actores)\n",
      "(Cosme Pérez)-[formó parte de]-(compañía de Juan Bautista Valenciano)\n",
      "(Cosme Pérez)-[formó parte de]-(compañía de Antonio de Prado)\n",
      "(Cosme Pérez)-[formó parte de]-(compañía de Tomás Fernández Cabredo)\n",
      "(Cosme Pérez)-[formó parte de]-(compañía de Pedro de la Rosa)\n",
      "(Cosme Pérez)-[entregó limosna a]-(Cofradía de Nuestra Señora de la Novena)\n",
      "(Cofradía de Nuestra Señora de la Novena)-[encargó ordenar enterramientos a]-(Cosme Pérez)\n",
      "(Pedro de la Rosa)-[contrató a]-(Cosme Pérez)\n",
      "(Cosme Pérez)-[recibió donativo de]-(Reina Mariana de Austria)\n",
      "(Felipe IV)-[escribió cartas a]-(Luisa Enríquez Manrique)\n",
      "(Felipe IV)-[se refirió a]-(Juan Rana)\n",
      "(Juan Rana)-[actuó en comedia de]-(Antonio de Solís)\n",
      "(Bernarda Manuela)-[actuó con]-(Juan Rana)\n",
      "(Bernarda Ramírez)-[actuó con]-(Juan Rana)\n",
      "(Mariana de Borja)-[actuó con]-(Juan Rana)\n",
      "(María de Quiñones)-[actuó con]-(Juan Rana)\n",
      "(María de Prado)-[actuó con]-(Juan Rana)\n",
      "(Mateo de Godoy)-[actuó con]-(Juan Rana)\n",
      "(Jerónimo Morales)-[actuó con]-(Juan Rana)\n",
      "(Juan Rana)-[actuó en]-(El alcalde de Alcorcón)\n",
      "(Juan Rana)-[actuó en]-(Triunfos de Amor y Fortuna)\n",
      "(Juan Rana)-[actuó en]-(Salta en banco)\n",
      "(Juan Rana)-[actuó en]-(El niño caballero)\n",
      "(Juan Rana)-[actuó en]-(Aguardad, supremos dioses)\n",
      "(Juan Rana)-[actuó en]-(La Zarzuela)\n",
      "(Juan Rana)-[actuó en]-(El retrato de Juan Rana)\n",
      "(Juan Rana)-[actuó en]-(Las fiestas bacanales)\n",
      "(Juan Rana)-[actuó en]-(El infierno de Juan Rana)\n",
      "(Juan Rana)-[actuó en]-(El ayo de Moreto)\n",
      "(Juan Rana)-[actuó en]-(La loa de Juan Rana)\n",
      "(Juan Rana)-[imitó a]-(Andrés Ferrer)\n",
      "(Andrés Ferrer)-[imitó a]-(Juan Rana)\n",
      "(Juan Rana)-[fue alojado con]-(Antonio Mejía)\n",
      "(Embajador turco)-[viajó con]-(Juan Rana)\n",
      "(Embajador turco)-[viajó con]-(Antonio Mejía)\n",
      "(Cosme Pérez)-[recibió ayuda de]-(Juan González)\n",
      "(Felipe IV)-[escribió a]-(Condesa de Paredes de Nava)\n",
      "(Cosme Pérez)-[recibió ración de]-(casa de la Reina Mariana de Austria)\n",
      "(Cosme Pérez)-[actuó en]-(Andrómeda y Perseo)\n",
      "(Cosme Pérez)-[formó parte de]-(compañía de Luis López Sustaete)\n",
      "(Cosme Pérez)-[formó parte de]-(compañía de Antonio de Prado)\n",
      "(Cosme Pérez)-[recibió pago de]-(Francisco Gutiérrez)\n",
      "(Juan Navarro Oliver)-[hizo inventario de bienes de]-(Luis López Sustaete)\n",
      "(Cosme Pérez)-[actuó en]-(Los Juan Ranas)\n",
      "(Cosme Pérez)-[actuó en]-(El baile perdido)\n",
      "(Cosme Pérez)-[actuó en]-(El toreador)\n",
      "(Cosme Pérez)-[actuó en]-(El triunfo de Juan Rana)\n",
      "(Cosme Pérez)-[murió en]-(Madrid)\n",
      "(Cosme Pérez)-[fue enterrado en]-(Convento de Trinitarios)\n",
      "(Cosme Pérez)-[firmó testamento]-(en Madrid)\n",
      "(Cosme Pérez)-[entregó limosna a]-(Cofradía de Nuestra Señora de la Novena)\n",
      "(Cosme Pérez)-[vivió en]-(calle de Cantarranas)\n",
      "(Cosme Pérez)-[tuvo sobrina]-(María de Diego)\n",
      "(Cosme Pérez)-[tuvo sobrino]-(Francisco de Diego)\n",
      "(Cosme Pérez)-[tuvo ama]-(Isabel)\n",
      "(Cosme Pérez)-[tuvo paisano y pariente]-(Felipe Negro)\n",
      "(Cosme Pérez)-[vendió vestido a]-(Antonio de Escamilla)\n",
      "(Cosme Pérez)-[recibió pago de]-(Francisco Gutiérrez)\n",
      "(Cosme Pérez)-[fue vecino de]-(Madrid)\n",
      "(Cosme Pérez)-[fue vecino de]-(Zaragoza)\n",
      "(Cosme Pérez)-[formó parte de]-(compañía de Luis López Sustaete)\n",
      "(Cosme Pérez)-[formó parte de]-(compañía de Juan Bautista Valenciano)\n",
      "(Cosme Pérez)-[formó parte de]-(compañía de Pedro de la Rosa)\n",
      "(Cosme Pérez)-[formó parte de]-(compañía de Tomás Fernández Cabredo)\n",
      "(Cosme Pérez)-[formó parte de]-(compañía de Antonio de Prado)\n",
      "(Cosme Pérez)-[recibió donativo de]-(Reina Mariana de Austria)\n",
      "(Cosme Pérez)-[recibió donativo de]-(Reina)\n",
      "(Cosme Pérez)-[recibió donativo de]-(Sus Majestades)\n",
      "(Cosme Pérez)-[actuó ante]-(Sus Majestades)\n",
      "(Cosme Pérez)-[actuó ante]-(Rey Felipe IV)\n",
      "(Cosme Pérez)-[actuó ante]-(Reina Mariana de Austria)\n",
      "(Cosme Pérez)-[actuó ante]-(Infanta María Teresa de Austria)\n",
      "(Cosme Pérez)-[actuó ante]-(Príncipe Felipe Próspero)\n",
      "(Cosme Pérez)-[actuó ante]-(Carlos II)\n",
      "(Cosme Pérez)-[actuó ante]-(Rey Nuestro Señor)\n",
      "(Cosme Pérez)-[actuó ante]-(Su Majestad)\n",
      "(Cosme Pérez)-[actuó ante]-(Sus Majestades)\n",
      "(Cosme Pérez)-[actuó con]-(Bernarda Ramírez)\n",
      "(Cosme Pérez)-[actuó con]-(Bernarda Manuela)\n",
      "(Cosme Pérez)-[actuó con]-(Mariana de Borja)\n",
      "(Cosme Pérez)-[actuó con]-(María de Quiñones)\n",
      "(Cosme Pérez)-[actuó con]-(María de Prado)\n",
      "(Cosme Pérez)-[actuó con]-(Mateo de Godoy)\n",
      "(Cosme Pérez)-[actuó con]-(Jerónimo Morales)\n",
      "(Cosme Pérez)-[actuó con]-(Simón Aguado)\n",
      "(Cosme Pérez)-[actuó con]-(Diego Osorio)\n",
      "(Cosme Pérez)-[actuó con]-(Antonio de Escamilla)\n",
      "(Cosme Pérez)-[actuó con]-(Josefa Román)\n",
      "(Cosme Pérez)-[actuó con]-(Antonio Ramos)\n",
      "(Cosme Pérez)-[actuó con]-(Francisco Velasco)\n",
      "(Cosme Pérez)-[actuó con]-(Francisco de Velasco)\n",
      "(Cosme Pérez)-[actuó con]-(Manuela Escamilla)\n",
      "(Cosme Pérez)-[actuó con]-(Manuela de Bustamante)\n",
      "(Cosme Pérez)-[actuó con]-(Bernarda)\n",
      "(Cosme Pérez)-[actuó con]-(Bernarda Ramírez)\n",
      "(Cosme Pérez)-[actuó con]-(Bernarda Manuela)\n",
      "(Cosme Pérez)-[actuó con]-(Francisca Bezón)\n",
      "(Cosme Pérez)-[actuó con]-(Gregorio de la Rosa)\n",
      "(Cosme Pérez)-[actuó con]-(Diego de Silva)\n",
      "(Cosme Pérez)-[actuó con]-(Antonio de Prado)\n",
      "(Cosme Pérez)-[actuó con]-(Antonio de Solís)\n",
      "(Cosme Pérez)-[actuó con]-(Antonio Marín)\n",
      "(Cosme Pérez)-[actuó con]-(Juan Navarro de Espinosa)\n",
      "(Cosme Pérez)-[actuó con]-(Juan Rana)\n",
      "(Cosme Pérez)-[actuó con]-(Juan Vélez)\n",
      "(Cosme Pérez)-[actuó con]-(Juan de Tapia)\n",
      "(Cosme Pérez)-[actuó con]-(Juan González)\n",
      "(Cosme Pérez)-[actuó con]-(Juan Bautista Valenciano)\n",
      "(Cosme Pérez)-[actuó con]-(Juan de Austria)\n",
      "(Cosme Pérez)-[actuó con]-(Juan de Cabanillas)\n",
      "(Cosme Pérez)-[actuó con]-(Juan Ramos)\n",
      "(Cosme Pérez)-[actuó con]-(Juan Pérez de Montalbán)\n",
      "(Cosme Pérez)-[actuó con]-(Juan Caramuel)\n",
      "(Cosme Pérez)-[actuó con]-(Juan Rana)\n",
      "(Cosme Pérez)-[actuó con]-(Juan Araña)\n",
      "(Cosme Pérez)-[actuó con]-(Juan de Tapia)\n",
      "(Cosme Pérez)-[actuó con]-(Juan Navarro Oliver)\n",
      "(Cosme Pérez)-[actuó con]-(Juan Bautista Valenciano)\n",
      "(Cosme Pérez)-[actuó con]-(Juan de Cabanillas)\n",
      "(Cosme Pérez)-[actuó con]-(Juan de Austria)\n",
      "(Cosme Pérez)-[actuó con]-(Juan Ramos)\n",
      "(Cosme Pérez)-[actuó con]-(Juan Pérez de Montalbán)\n",
      "(Cosme Pérez)-[actuó con]-(Juan Caramuel)\n",
      "(Cosme Pérez)-[actuó con]-(Juan Rana)\n"
     ]
    }
   ],
   "source": [
    "relations = set()\n",
    "\n",
    "for relation in response.split(\"\\n\"):\n",
    "    print(relation.strip())\n",
    "    relations.add(relation.strip())"
   ]
  },
  {
   "cell_type": "code",
   "execution_count": 91,
   "id": "23e48fc2",
   "metadata": {},
   "outputs": [
    {
     "name": "stdout",
     "output_type": "stream",
     "text": [
      "Total de relaciones encontradas: 151, de las cuales 130 son únicas.\n"
     ]
    }
   ],
   "source": [
    "print(f\"Total de relaciones encontradas: {len(response.split(\"\\n\"))}, de las cuales {len(relations)} son únicas.\")"
   ]
  },
  {
   "cell_type": "code",
   "execution_count": 92,
   "id": "043d1c99",
   "metadata": {},
   "outputs": [
    {
     "name": "stdout",
     "output_type": "stream",
     "text": [
      "(Juan Navarro Oliver)-[hizo inventario de bienes de]-(Luis López Sustaete)\n",
      "(Juan Rana)-[actuó en]-(El alcalde de Alcorcón)\n",
      "(Cosme Pérez)-[actuó ante]-(Su Majestad)\n",
      "(Cosme Pérez)-[estuvo casado con]-(María de Acosta)\n",
      "(Juan Rana)-[actuó en]-(La Zarzuela)\n",
      "(Cosme Pérez)-[actuó con]-(Antonio Ramos)\n",
      "(Cosme Pérez)-[actuó con]-(María de Quiñones)\n",
      "(Cosme Pérez)-[actuó con]-(Francisca Bezón)\n",
      "(Cosme Pérez)-[murió en]-(Madrid)\n",
      "(Juan Rana)-[actuó en]-(Aguardad, supremos dioses)\n",
      "(Cosme Pérez)-[formó parte de]-(compañía de Juan Bautista Valenciano)\n",
      "(Cosme Pérez)-[actuó con]-(Mateo de Godoy)\n",
      "(Cosme Pérez)-[actuó con]-(Manuela Escamilla)\n",
      "(Cosme Pérez)-[recibió donativo de]-(Reina Mariana de Austria)\n",
      "(Juan Rana)-[fue alabado por]-(familia real)\n",
      "(Cosme Pérez)-[tuvo sobrina]-(María de Diego)\n",
      "(Felipe IV)-[se refirió a]-(Juan Rana)\n",
      "(Cosme Pérez)-[tuvo parentesco con]-(Bárbara Coronel)\n",
      "(Cosme Pérez)-[salió en carro en]-(Fieras afemina amor)\n",
      "(Bernarda Ramírez)-[actuó con]-(Juan Rana)\n",
      "(Cosme Pérez)-[actuó en]-(Los Juan Ranas)\n",
      "(Cosme Pérez)-[actuó con]-(Juan Navarro de Espinosa)\n",
      "(Cosme Pérez)-[actuó con]-(Juan de Cabanillas)\n",
      "(Cosme Pérez)-[actuó en]-(El triunfo de Juan Rana)\n",
      "(Cosme Pérez)-[actuó con]-(Antonio Marín)\n",
      "(Cosme Pérez)-[estuvo casado con]-(Bernarda Ramírez)\n",
      "(Fieras afemina amor)-[se estrenó en]-(29 de enero de 1672)\n",
      "(Cosme Pérez)-[actuó con]-(Diego de Silva)\n",
      "(Juan Rana)-[actuó en]-(Triunfos de Amor y Fortuna)\n",
      "(Cosme Pérez)-[tuvo paisano y pariente]-(Felipe Negro)\n",
      "(Cosme Pérez)-[fue enterrado en]-(Convento de Trinitarios)\n",
      "(Cosme Pérez)-[firmó testamento]-(en Madrid)\n",
      "(Cosme Pérez)-[estuvo casado con]-(Bernarda Manuela)\n",
      "(Cosme Pérez)-[actuó con]-(Juan Navarro Oliver)\n",
      "(Cosme Pérez)-[actuó con]-(Juan Ramos)\n",
      "(Jerónimo Morales)-[actuó con]-(Juan Rana)\n",
      "(Juan Caramuel)-[documentó anécdota de]-(Juan Rana)\n",
      "(Cosme Pérez)-[actuó con]-(Manuela de Bustamante)\n",
      "(Cosme Pérez)-[actuó con]-(Mariana de Borja)\n",
      "(Cosme Pérez)-[formó parte de]-(compañía de Tomás Fernández Cabredo)\n",
      "(Cosme Pérez)-[formó parte de]-(compañía de Pedro de la Rosa)\n",
      "(Mateo de Godoy)-[actuó con]-(Juan Rana)\n",
      "(Cosme Pérez)-[actuó con]-(Antonio de Escamilla)\n",
      "(Cosme Pérez)-[fue recibido en]-(Cofradía de Nuestra Señora de la Novena)\n",
      "(Cosme Pérez)-[nació en]-(Tudela de Duero)\n",
      "(Cosme Pérez)-[actuó con]-(Juan de Tapia)\n",
      "(Juan Rana)-[actuó en]-(El niño caballero)\n",
      "(Felipe IV)-[escribió cartas a]-(Luisa Enríquez Manrique)\n",
      "(Cosme Pérez)-[actuó con]-(Gregorio de la Rosa)\n",
      "(Cosme Pérez)-[intervino ante]-(Rey Felipe IV)\n",
      "(Juan Rana)-[actuó en]-(El retrato de Juan Rana)\n",
      "(Cosme Pérez)-[actuó en]-(El baile perdido)\n",
      "(Embajador turco)-[viajó con]-(Juan Rana)\n",
      "(Embajador turco)-[viajó con]-(Antonio Mejía)\n",
      "(Cosme Pérez)-[actuó ante]-(Rey Nuestro Señor)\n",
      "(Cosme Pérez)-[actuó con]-(Francisco de Velasco)\n",
      "(Cosme Pérez)-[fue interpretado por]-(otros actores)\n",
      "(Cosme Pérez)-[actuó con]-(Juan de Austria)\n",
      "(Cofradía de Nuestra Señora de la Novena)-[encargó ordenar enterramientos a]-(Cosme Pérez)\n",
      "(Cosme Pérez)-[actuó ante]-(Infanta María Teresa de Austria)\n",
      "(Cosme Pérez)-[actuó ante]-(Rey Felipe IV)\n",
      "(Juan Rana)-[actuó en]-(Salta en banco)\n",
      "(Cosme Pérez)-[actuó con]-(Bernarda Ramírez)\n",
      "(Cosme Pérez)-[actuó en]-(Andrómeda y Perseo)\n",
      "(Cosme Pérez)-[actuó con]-(Simón Aguado)\n",
      "(Cosme Pérez)-[actuó con]-(Juan Vélez)\n",
      "(Cosme Pérez)-[fue hijo de]-(Isabel de Basto)\n",
      "(Cosme Pérez)-[vivió en]-(calle de Cantarranas)\n",
      "(Juan Rana)-[actuó en]-(El infierno de Juan Rana)\n",
      "(Juan Rana)-[actuó en]-(La loa de Juan Rana)\n",
      "(Cosme Pérez)-[recibió pago de]-(Francisco Gutiérrez)\n",
      "(Cosme Pérez)-[tuvo como hija]-(Francisca María Pérez)\n",
      "(Cosme Pérez)-[actuó ante]-(Reina Mariana de Austria)\n",
      "(Cosme Pérez)-[fue hijo de]-(Damián Pérez)\n",
      "(Cosme Pérez)-[estuvo en compañía de]-(Tomás Fernández [Cabredo])\n",
      "(Cosme Pérez)-[actuó con]-(Bernarda Manuela)\n",
      "(Juan Rana)-[actuó en]-(El ayo de Moreto)\n",
      "(Cosme Pérez)-[entregó limosna a]-(Cofradía de Nuestra Señora de la Novena)\n",
      "(Cosme Pérez)-[actuó con]-(Bernarda)\n",
      "(Cosme Pérez)-[actuó con]-(Juan Caramuel)\n",
      "(Juan Rana)-[actuó en comedia de]-(Antonio de Solís)\n",
      "(Cosme Pérez)-[poseyó casas en]-(calle de Cantarranas)\n",
      "(Cosme Pérez)-[actuó en]-(El toreador)\n",
      "(María de Prado)-[actuó con]-(Juan Rana)\n",
      "(Cosme Pérez)-[vendió vestido a]-(Antonio de Escamilla)\n",
      "(Andrés Ferrer)-[imitó a]-(Juan Rana)\n",
      "(Cosme Pérez)-[actuó con]-(Jerónimo Morales)\n",
      "(Cosme Pérez)-[actuó ante]-(Príncipe Felipe Próspero)\n",
      "(Cosme Pérez)-[actuó con]-(Josefa Román)\n",
      "(Cosme Pérez)-[actuó con]-(Francisco Velasco)\n",
      "(Cosme Pérez)-[tuvo confianza de]-(Rey Felipe IV)\n",
      "(Cosme Pérez)-[fue vecino de]-(Madrid)\n",
      "(Pedro de la Rosa)-[contrató a]-(Cosme Pérez)\n",
      "(Cosme Pérez)-[actuó con]-(Juan Araña)\n",
      "(Juan Rana)-[actuó en]-(Las fiestas bacanales)\n",
      "(Cosme Pérez)-[actuó con]-(Juan Pérez de Montalbán)\n",
      "(Cosme Pérez)-[tuvo sobrino]-(Francisco de Diego)\n",
      "(Cosme Pérez)-[actuó con]-(Antonio de Solís)\n",
      "(Cosme Pérez)-[recibió donativo de]-(Sus Majestades)\n",
      "(Pedro de la Rosa)-[quitó papeles a]-(Juan Rana)\n",
      "(María de Quiñones)-[actuó con]-(Juan Rana)\n",
      "(Cosme Pérez)-[participó en obra]-(El segundo Séneca de España)\n",
      "(Cosme Pérez)-[formó parte de]-(compañía de Antonio de Prado)\n",
      "(Cosme Pérez)-[actuó con]-(Diego Osorio)\n",
      "(Bernarda Manuela)-[actuó con]-(Juan Rana)\n",
      "(Cosme Pérez)-[tuvo ama]-(Isabel)\n",
      "(Cosme Pérez)-[actuó con]-(Juan Rana)\n",
      "(Cosme Pérez)-[actuó ante]-(Carlos II)\n",
      "(F. Serralta)-[analizó piezas de]-(Cosme Pérez)\n",
      "(Cosme Pérez)-[actuó en obra]-(El doctor Juan Rana)\n",
      "(Cosme Pérez)-[recibió ración de]-(casa de la Reina Mariana de Austria)\n",
      "(Fieras afemina amor)-[fue obra de]-(Calderón de la Barca)\n",
      "(Domingo Canejil)-[recibió nombre de]-(Ranilla)\n",
      "(Juan Rana)-[representó papel de]-(alcalde rústico)\n",
      "(Felipe IV)-[escribió a]-(Condesa de Paredes de Nava)\n",
      "(Juan Rana)-[fue alojado con]-(Antonio Mejía)\n",
      "(Cosme Pérez)-[formó parte de]-(compañía de Luis López Sustaete)\n",
      "(Cosme Pérez)-[recibió donativo de]-(Reina)\n",
      "(Cosme Pérez)-[fue conocido artísticamente como]-(Juan Rana)\n",
      "(Cosme Pérez)-[actuó ante]-(Sus Majestades)\n",
      "(Juan Rana)-[imitó a]-(Andrés Ferrer)\n",
      "(Cosme Pérez)-[actuó con]-(María de Prado)\n",
      "(Cosme Pérez)-[participó en obra]-(Lo que ha de ser)\n",
      "(Cosme Pérez)-[actuó con]-(Antonio de Prado)\n",
      "(Cosme Pérez)-[actuó con]-(Juan Bautista Valenciano)\n",
      "(Cosme Pérez)-[recibió ayuda de]-(Juan González)\n",
      "(Cosme Pérez)-[fue vecino de]-(Zaragoza)\n",
      "(Cosme Pérez)-[fue acusado de]-(pecado nefando)\n",
      "(Mariana de Borja)-[actuó con]-(Juan Rana)\n",
      "(Cosme Pérez)-[actuó con]-(Juan González)\n"
     ]
    }
   ],
   "source": [
    "for rel in relations:\n",
    "    if len(rel.split(\"-\")) >= 3:\n",
    "        print(rel)"
   ]
  },
  {
   "cell_type": "code",
   "execution_count": 93,
   "id": "9df41a77",
   "metadata": {},
   "outputs": [],
   "source": [
    "with open(\"../out/full_text_re.txt\", \"w\", encoding=\"utf-8\") as fw:\n",
    "    unique_relations = '\\n'.join(rel for rel in relations if len(rel.strip().split(\"-\")) >= 3)\n",
    "    fw.write(unique_relations)"
   ]
  },
  {
   "cell_type": "markdown",
   "id": "955fc23c",
   "metadata": {},
   "source": [
    "### 2.2. Second approach: Analyze each paragraph"
   ]
  },
  {
   "cell_type": "code",
   "execution_count": 94,
   "id": "ea33397a",
   "metadata": {},
   "outputs": [],
   "source": [
    "from langchain_openai import ChatOpenAI\n",
    "from dotenv import load_dotenv\n",
    "import os"
   ]
  },
  {
   "cell_type": "code",
   "execution_count": 95,
   "id": "9f460a97",
   "metadata": {},
   "outputs": [],
   "source": [
    "load_dotenv()\n",
    "\n",
    "llm = ChatOpenAI(\n",
    "    model=\"gpt-4.1-mini\",\n",
    "    temperature=0,\n",
    "    api_key=os.getenv(\"OPENAI_API_KEY\"),\n",
    ")"
   ]
  },
  {
   "cell_type": "code",
   "execution_count": 102,
   "id": "575139f7",
   "metadata": {},
   "outputs": [],
   "source": [
    "import pandas as pd\n",
    "import ast\n",
    "    \n",
    "data = pd.read_csv(\"../data/DicatJuanRana_w_clarified_sentences.csv\", sep=\";\", encoding=\"utf-8\", converters={\"sentences\": ast.literal_eval, \"clarified_sentences\": ast.literal_eval})"
   ]
  },
  {
   "cell_type": "code",
   "execution_count": 98,
   "id": "3dbdade8",
   "metadata": {},
   "outputs": [],
   "source": [
    "from langchain.prompts import PromptTemplate\n",
    "\n",
    "paragraph_text_prompt = PromptTemplate(\n",
    "    input_variables=[\"text\", \"entities\"],\n",
    "    template=\"\"\"\n",
    "        Dado el siguiente texto y una lista de entidades nombradas previamente extraídas, identifica todas las relaciones explícitas o implícitas entre dichas entidades.\n",
    "\n",
    "        Las relaciones deben expresarse únicamente en el formato:\n",
    "        (Entidad1)-[relación]-(Entidad2)\n",
    "\n",
    "        Donde:\n",
    "\n",
    "        - Entidad1 y Entidad2 deben coincidir con entidades de la lista proporcionada.\n",
    "\n",
    "        - [relación] debe ser un verbo o una expresión verbal que indique la relación entre las entidades en el contexto del texto.\n",
    "\n",
    "        - Si una relación puede expresarse con sinónimos más generales o normalizados (por ejemplo, \"dirige\", \"es jefe de\" → \"dirige\"), elige el término más general.\n",
    "\n",
    "        - Ignora relaciones que no se puedan inferir directamente del texto.\n",
    "\n",
    "        Salida esperada:\n",
    "        (EntidadA)-[relación]-(EntidadB)\n",
    "        (EntidadC)-[relación]-(EntidadD)\n",
    "        …\n",
    "        \n",
    "        Muestra la salida únicamente con las relaciones encontradas, sin ningún otro texto adicional.\n",
    "        Lista de entidades (NERs):\n",
    "        {entities}\n",
    "\n",
    "        Texto de entrada:\n",
    "        {text}\n",
    "    \"\"\",\n",
    ")"
   ]
  },
  {
   "cell_type": "code",
   "execution_count": 103,
   "id": "b68e9c82",
   "metadata": {},
   "outputs": [
    {
     "data": {
      "application/vnd.jupyter.widget-view+json": {
       "model_id": "1f7e1814de3b4447a81c23c76833232e",
       "version_major": 2,
       "version_minor": 0
      },
      "text/plain": [
       "  0%|          | 0/38 [00:00<?, ?it/s]"
      ]
     },
     "metadata": {},
     "output_type": "display_data"
    }
   ],
   "source": [
    "from tqdm.auto import tqdm\n",
    "from collections import defaultdict\n",
    "\n",
    "entities = \"\\n\".join([\n",
    "    f\"{key}: {', '.join(values)}\"\n",
    "    for key, values in prompting_ners.items()\n",
    "])\n",
    "\n",
    "total_re_found = 0\n",
    "\n",
    "per_paragraph = defaultdict(set)\n",
    "\n",
    "for _, row in tqdm(data.iterrows(), total=len(data)):\n",
    "    paragraph = \"\".join(row[\"clarified_sentences\"])\n",
    "\n",
    "    response = llm.invoke(\n",
    "        paragraph_text_prompt.invoke({\n",
    "            \"text\": paragraph,\n",
    "            \"entities\": entities,\n",
    "        })\n",
    "    ).content\n",
    "    \n",
    "    total_re_found += len(response.split(\"\\n\"))\n",
    "\n",
    "    for relation in response.split(\"\\n\"):\n",
    "        relation = relation.strip()\n",
    "        if relation and len(relation.split(\"-\")) >= 3:\n",
    "            per_paragraph[row[\"year\"]].add(relation)"
   ]
  },
  {
   "cell_type": "code",
   "execution_count": 104,
   "id": "8ce6abe9",
   "metadata": {},
   "outputs": [],
   "source": [
    "unique_relations = {relation for relations in per_paragraph.values() for relation in relations}"
   ]
  },
  {
   "cell_type": "code",
   "execution_count": 105,
   "id": "ca768daf",
   "metadata": {},
   "outputs": [
    {
     "name": "stdout",
     "output_type": "stream",
     "text": [
      "Total de relaciones encontradas: 536, de las cuales 519 son únicas.\n"
     ]
    }
   ],
   "source": [
    "print(f\"Total de relaciones encontradas: {total_re_found}, de las cuales {len(unique_relations)} son únicas.\")"
   ]
  },
  {
   "cell_type": "code",
   "execution_count": 106,
   "id": "6c12e51a",
   "metadata": {},
   "outputs": [],
   "source": [
    "import json\n",
    "\n",
    "with open(\"../out/per_paragraph_text_re.json\", \"w\", encoding=\"utf-8\") as fw:\n",
    "    json.dump({key: list(values) for key, values in per_paragraph.items()}, fw, ensure_ascii=False, indent=4)"
   ]
  },
  {
   "cell_type": "markdown",
   "id": "f5296d8c",
   "metadata": {},
   "source": [
    "### 2.3. Third approach: Analyze each sentence with overlap"
   ]
  },
  {
   "cell_type": "code",
   "execution_count": 1,
   "id": "11c1dc66",
   "metadata": {},
   "outputs": [],
   "source": [
    "from langchain_openai import ChatOpenAI\n",
    "from dotenv import load_dotenv\n",
    "import pandas as pd\n",
    "import os"
   ]
  },
  {
   "cell_type": "code",
   "execution_count": 2,
   "id": "7ca012e0",
   "metadata": {},
   "outputs": [],
   "source": [
    "load_dotenv()\n",
    "\n",
    "llm = ChatOpenAI(\n",
    "    model=\"gpt-4.1-mini\",\n",
    "    temperature=0,\n",
    "    api_key=os.getenv(\"OPENAI_API_KEY\"),\n",
    ")"
   ]
  },
  {
   "cell_type": "code",
   "execution_count": 3,
   "id": "3f0efe1a",
   "metadata": {},
   "outputs": [],
   "source": [
    "import json\n",
    "\n",
    "with open(\"../out/prompting_ners_gpt_4.1_mini.json\", \"r\", encoding=\"utf-8\") as fr:\n",
    "    prompting_ners = json.load(fr)"
   ]
  },
  {
   "cell_type": "code",
   "execution_count": 5,
   "id": "5eb4215a",
   "metadata": {},
   "outputs": [],
   "source": [
    "import ast\n",
    "    \n",
    "data = pd.read_csv(\"../data/DicatJuanRana_w_clarified_sentences.csv\", sep=\";\", encoding=\"utf-8\", converters={\"sentences\": ast.literal_eval, \"clarified_sentences\": ast.literal_eval})"
   ]
  },
  {
   "cell_type": "code",
   "execution_count": 76,
   "id": "585e6a4e",
   "metadata": {},
   "outputs": [],
   "source": [
    "from langchain.prompts import PromptTemplate\n",
    "\n",
    "entire_text_prompt = PromptTemplate(\n",
    "    input_variables=[\"text\", \"prev_context\", \"entities\"],\n",
    "    template=\"\"\"\n",
    "        Dada la siguiente frase y una lista de entidades nombradas previamente extraídas, identifica todas las relaciones explícitas o implícitas entre las entidades que tanto en la frase como en la lista de entidades.\n",
    "        \n",
    "        Las frases pueden contener un contexto para ayudar a identificar las relaciones (para frases que comiencen con fue..., el cual..., etc.) pero no se deben sacar relaciones del propio contexto.\n",
    "\n",
    "        Las relaciones deben expresarse únicamente en el formato:\n",
    "        (Entidad1)-[relación]-(Entidad2)\n",
    "\n",
    "        Donde:\n",
    "\n",
    "        - Entidad1 y Entidad2 deben coincidir con entidades de la lista proporcionada.\n",
    "\n",
    "        - [relación] debe ser un verbo o una expresión verbal que indique la relación entre las entidades en el contexto del texto.\n",
    "\n",
    "        - Si una relación puede expresarse con sinónimos más generales o normalizados (por ejemplo, \"dirige\", \"es jefe de\" → \"dirige\"), elige el término más general.\n",
    "\n",
    "        - Ignora relaciones que no se puedan inferir directamente del texto.\n",
    "\n",
    "        Salida esperada:\n",
    "        (EntidadA)-[relación]-(EntidadB)\n",
    "        (EntidadC)-[relación]-(EntidadD)\n",
    "        …\n",
    "        \n",
    "        Muestra la salida únicamente con las relaciones encontradas, sin ningún otro texto adicional.\n",
    "        Lista de entidades (NERs):\n",
    "        {entities}\n",
    "\n",
    "        Contexto de la frase (No se debe usar el contexto para sacar relaciones, pero puede ayudar a entender mejor la frase en situaciones en las que el sujeto o el objeto de la relación no estén claros):\n",
    "        El texto forma parte de la biografía de Cosme Pérez. \n",
    "        \n",
    "        - Contexto previo a la frase: {prev_context}\n",
    "\n",
    "        Frase de entrada:\n",
    "        {text}\n",
    "    \"\"\",\n",
    ")"
   ]
  },
  {
   "cell_type": "code",
   "execution_count": 110,
   "id": "c34ef902",
   "metadata": {},
   "outputs": [
    {
     "data": {
      "application/vnd.jupyter.widget-view+json": {
       "model_id": "5fff42538eeb4a8aaec0c9ae020870da",
       "version_major": 2,
       "version_minor": 0
      },
      "text/plain": [
       "0it [00:00, ?it/s]"
      ]
     },
     "metadata": {},
     "output_type": "display_data"
    },
    {
     "data": {
      "application/vnd.jupyter.widget-view+json": {
       "model_id": "da20e967edce4105b02651e35c51fb94",
       "version_major": 2,
       "version_minor": 0
      },
      "text/plain": [
       "  0%|          | 0/6 [00:00<?, ?it/s]"
      ]
     },
     "metadata": {},
     "output_type": "display_data"
    },
    {
     "data": {
      "application/vnd.jupyter.widget-view+json": {
       "model_id": "66c55597b7ca48439cb21cf18a7563b0",
       "version_major": 2,
       "version_minor": 0
      },
      "text/plain": [
       "  0%|          | 0/8 [00:00<?, ?it/s]"
      ]
     },
     "metadata": {},
     "output_type": "display_data"
    },
    {
     "data": {
      "application/vnd.jupyter.widget-view+json": {
       "model_id": "a5b2dbaf96554054b7d46532d0cf53f1",
       "version_major": 2,
       "version_minor": 0
      },
      "text/plain": [
       "  0%|          | 0/7 [00:00<?, ?it/s]"
      ]
     },
     "metadata": {},
     "output_type": "display_data"
    }
   ],
   "source": [
    "from tqdm.auto import tqdm\n",
    "from collections import defaultdict\n",
    "\n",
    "entities = \", \".join([\n",
    "    f\"{key}: {', '.join(values)}\"\n",
    "    for key, values in prompting_ners.items()\n",
    "    if key != \"DATE\"  # Exclude DATE entities for this task\n",
    "])\n",
    "\n",
    "sentences_of_context = 3 # Number of sentences to consider as context for each sentence\n",
    "\n",
    "total_re_found = 0\n",
    "relations = set()\n",
    "\n",
    "per_sentence = defaultdict(set)\n",
    "\n",
    "# for _, year in tqdm(data.iterrows(), total=len(data), position=0):\n",
    "for _, year in tqdm(data[(data[\"year\"].astype(int) == 1653) | (data[\"year\"].astype(int) == 1656) | (data[\"year\"].astype(int) == 1670)].iterrows(), position=0):\n",
    "        \n",
    "    context = []\n",
    "    sentences = year[\"clarified_sentences\"]\n",
    "    \n",
    "    for sentence in tqdm(sentences, position=1, leave=False):\n",
    "\n",
    "        response = llm.invoke(\n",
    "            entire_text_prompt.invoke({\n",
    "                \"text\": sentence.strip(),\n",
    "                \"prev_context\": \"\\n\".join(context),\n",
    "                # \"next_context\": \"\\n\".join(sentences[i+1:i+1+sentences_of_context]),\n",
    "                \"entities\": entities,\n",
    "            })\n",
    "        ).content\n",
    "    \n",
    "        total_re_found += len(response.split(\"\\n\"))\n",
    "\n",
    "        # for relation in response.split(\"\\n\"):\n",
    "        #     relation = relation.strip()\n",
    "        #     if relation and len(relation.split(\"-\")) >= 3:\n",
    "        #         relations.add(relation)\n",
    "        \n",
    "        for relation in response.split(\"\\n\"):\n",
    "            relation = relation.strip()\n",
    "            per_sentence[year[\"year\"]].add(relation)\n",
    "        \n",
    "        # DEBUGGING \n",
    "        # print(\"Relaciones encontradas:\\n\", response.strip())\n",
    "        # print(f\"Frase: {sentence.strip()}\")\n",
    "        # print(f\"Contexto previo: {' '.join(context)}\")\n",
    "        # print(f\"Contexto posterior: {' '.join(sentences[i+1:i+1+sentences_of_context])}\")\n",
    "        # print()\n",
    "        \n",
    "        context.append(sentence.strip())\n",
    "        if len(context) > sentences_of_context:\n",
    "            context = context[-sentences_of_context:]  # Keep only the last 'sentences_of_context' sentences"
   ]
  },
  {
   "cell_type": "code",
   "execution_count": null,
   "id": "16282374",
   "metadata": {},
   "outputs": [],
   "source": [
    "# from tqdm.auto import tqdm\n",
    "# from collections import deque\n",
    "\n",
    "# entities = \"\\n\".join([\n",
    "#     f\"{key}: {', '.join(values)}\"\n",
    "#     for key, values in prompting_ners.items()\n",
    "# ])\n",
    "\n",
    "# sentences_of_context = 2 # Number of sentences to consider as context for each sentence\n",
    "# total_sentences = sum(len(paragraph.split(\".\")) for paragraph in text.split(\"\\n\\n\") if paragraph.strip())\n",
    "\n",
    "# total_re_found = 0\n",
    "# relations = set()\n",
    "\n",
    "# for paragraph in tqdm(text.split(\"\\n\\n\"), position=0):\n",
    "#     if not paragraph.strip():\n",
    "#         continue\n",
    "        \n",
    "#     context = deque([])\n",
    "    \n",
    "#     for sentence in tqdm(paragraph.split(\".\"), position=1, leave=False):\n",
    "#         if not sentence.strip():\n",
    "#             continue\n",
    "\n",
    "#         response = llm.invoke(\n",
    "#             entire_text_prompt.invoke({\n",
    "#                 \"text\": sentence.strip(),\n",
    "#                 \"context\": \"\\n\".join(context),\n",
    "#                 \"entities\": entities,\n",
    "#             })\n",
    "#         ).content\n",
    "    \n",
    "#         total_re_found += len(response.split(\"\\n\"))\n",
    "\n",
    "#         for relation in response.split(\"\\n\"):\n",
    "#             relation = relation.strip()\n",
    "#             if relation and len(relation.split(\"-\")) >= 3:\n",
    "#                 relations.add(relation)\n",
    "        \n",
    "#         context.append(sentence.strip())\n",
    "#         if len(context) > sentences_of_context:\n",
    "#             context.popleft()"
   ]
  },
  {
   "cell_type": "code",
   "execution_count": 111,
   "id": "ee2d32bc",
   "metadata": {},
   "outputs": [],
   "source": [
    "unique_relations = {relation for relations in per_sentence.values() for relation in relations}"
   ]
  },
  {
   "cell_type": "code",
   "execution_count": 112,
   "id": "f08286c7",
   "metadata": {},
   "outputs": [
    {
     "name": "stdout",
     "output_type": "stream",
     "text": [
      "Total de relaciones encontradas: 68, de las cuales 66 son únicas.\n"
     ]
    }
   ],
   "source": [
    "print(f\"Total de relaciones encontradas: {total_re_found}, de las cuales {len(unique_relations)} son únicas.\")"
   ]
  },
  {
   "cell_type": "code",
   "execution_count": 44,
   "id": "4f377652",
   "metadata": {},
   "outputs": [
    {
     "data": {
      "text/html": [
       "<pre style=\"white-space:pre;overflow-x:auto;line-height:normal;font-family:Menlo,'DejaVu Sans Mono',consolas,'Courier New',monospace\"><span style=\"font-weight: bold\">[</span>\n",
       "    <span style=\"color: #008000; text-decoration-color: #008000\">'En una carta de Baccio del Bianco, fechada [¿en Madrid?] el 3 de marzo de este año, el escenógrafo italiano </span>\n",
       "<span style=\"color: #008000; text-decoration-color: #008000\">describe pormenorizadamente una fiesta que tuvo lugar en el Salón del Palacio del Buen Retiro, organizada por la </span>\n",
       "<span style=\"color: #008000; text-decoration-color: #008000\">infanta María Teresa para festejar el restablecimiento de la Reina Mariana de Austria.  '</span>,\n",
       "    <span style=\"color: #008000; text-decoration-color: #008000\">'En la que se representó la comedia Pico y Canente de Luis de Ulloa y Pereira y Rodrigo de Ávila, y en cuya loa</span>\n",
       "<span style=\"color: #008000; text-decoration-color: #008000\">y sainetes, escritos por Antonio de Solís, actuó \\'Juan Rana\\', al que Bianco denomina \"il Grazzioso della Regina\".</span>\n",
       "<span style=\"color: #008000; text-decoration-color: #008000\">'</span>,\n",
       "    <span style=\"color: #008000; text-decoration-color: #008000\">'Según se relata en la carta, \\'Juan Rana\\' aparecía en lo alto sobre una nube de oro, traído por \"Flora\", </span>\n",
       "<span style=\"color: #008000; text-decoration-color: #008000\">supuestamente trasladado desde el Parnaso para que representase la comedia.  '</span>,\n",
       "    <span style=\"color: #008000; text-decoration-color: #008000\">'El prólogo acabó en un baile con castañetas, en el centro del cual estaba Juan Rana \"con le sue buffonerie </span>\n",
       "<span style=\"color: #008000; text-decoration-color: #008000\">solite\".  '</span>,\n",
       "    <span style=\"color: #008000; text-decoration-color: #008000\">'Baccio describe también la loa, afirmando que cantaban en ella Luisa y Mariana Romero.  '</span>,\n",
       "    <span style=\"color: #008000; text-decoration-color: #008000\">\"Dio fin a la comedia el sainete en el que intervinieron 'Juan Rana', Luis de Mendoza y Luisa Romero.  \"</span>,\n",
       "    <span style=\"color: #008000; text-decoration-color: #008000\">'Es probable, como observa Lobato a partir de una alusión en el sainete final de Solís, que la fiesta tuviera </span>\n",
       "<span style=\"color: #008000; text-decoration-color: #008000\">lugar en febrero, durante el período de Carnaval —Cotarelo dató erróneamente esta fiesta y representación en 1653—.</span>\n",
       "<span style=\"color: #008000; text-decoration-color: #008000\">'</span>,\n",
       "    <span style=\"color: #008000; text-decoration-color: #008000\">'Por otro lado, en la misma carta el escenógrafo italiano da cuenta de que la fiesta se representó después en </span>\n",
       "<span style=\"color: #008000; text-decoration-color: #008000\">el Coliseo, donde se repitió durante cuatro días, con gran asistencia de público, especialmente para la función que</span>\n",
       "<span style=\"color: #008000; text-decoration-color: #008000\">tuvo lugar el lunes de Carnaval.'</span>\n",
       "<span style=\"font-weight: bold\">]</span>\n",
       "</pre>\n"
      ],
      "text/plain": [
       "\u001b[1m[\u001b[0m\n",
       "    \u001b[32m'En una carta de Baccio del Bianco, fechada \u001b[0m\u001b[32m[\u001b[0m\u001b[32m¿en Madrid?\u001b[0m\u001b[32m]\u001b[0m\u001b[32m el 3 de marzo de este año, el escenógrafo italiano \u001b[0m\n",
       "\u001b[32mdescribe pormenorizadamente una fiesta que tuvo lugar en el Salón del Palacio del Buen Retiro, organizada por la \u001b[0m\n",
       "\u001b[32minfanta María Teresa para festejar el restablecimiento de la Reina Mariana de Austria.  '\u001b[0m,\n",
       "    \u001b[32m'En la que se representó la comedia Pico y Canente de Luis de Ulloa y Pereira y Rodrigo de Ávila, y en cuya loa\u001b[0m\n",
       "\u001b[32my sainetes, escritos por Antonio de Solís, actuó \\'Juan Rana\\', al que Bianco denomina \"il Grazzioso della Regina\".\u001b[0m\n",
       "\u001b[32m'\u001b[0m,\n",
       "    \u001b[32m'Según se relata en la carta, \\'Juan Rana\\' aparecía en lo alto sobre una nube de oro, traído por \"Flora\", \u001b[0m\n",
       "\u001b[32msupuestamente trasladado desde el Parnaso para que representase la comedia.  '\u001b[0m,\n",
       "    \u001b[32m'El prólogo acabó en un baile con castañetas, en el centro del cual estaba Juan Rana \"con le sue buffonerie \u001b[0m\n",
       "\u001b[32msolite\".  '\u001b[0m,\n",
       "    \u001b[32m'Baccio describe también la loa, afirmando que cantaban en ella Luisa y Mariana Romero.  '\u001b[0m,\n",
       "    \u001b[32m\"Dio fin a la comedia el sainete en el que intervinieron 'Juan Rana', Luis de Mendoza y Luisa Romero.  \"\u001b[0m,\n",
       "    \u001b[32m'Es probable, como observa Lobato a partir de una alusión en el sainete final de Solís, que la fiesta tuviera \u001b[0m\n",
       "\u001b[32mlugar en febrero, durante el período de Carnaval —Cotarelo dató erróneamente esta fiesta y representación en 1653—.\u001b[0m\n",
       "\u001b[32m'\u001b[0m,\n",
       "    \u001b[32m'Por otro lado, en la misma carta el escenógrafo italiano da cuenta de que la fiesta se representó después en \u001b[0m\n",
       "\u001b[32mel Coliseo, donde se repitió durante cuatro días, con gran asistencia de público, especialmente para la función que\u001b[0m\n",
       "\u001b[32mtuvo lugar el lunes de Carnaval.'\u001b[0m\n",
       "\u001b[1m]\u001b[0m\n"
      ]
     },
     "metadata": {},
     "output_type": "display_data"
    }
   ],
   "source": [
    "import rich as rc\n",
    "\n",
    "rc.print(data[data[\"year\"].astype(int) == 1656][\"sentences\"].values[0])"
   ]
  },
  {
   "cell_type": "code",
   "execution_count": 82,
   "id": "d98b1c2d",
   "metadata": {},
   "outputs": [
    {
     "data": {
      "text/plain": [
       "{'(Andrómeda y Perseo)-[es obra de]-(Calderón)',\n",
       " '(Andrómeda y Perseo)-[es una comedia de]-(Calderón de la Barca)',\n",
       " '(Andrómeda y Perseo)-[se representó en]-(Coliseo del Buen Retiro)',\n",
       " '(Conde de Altamira)-[transmitió respuesta a]-(Cosme Pérez)',\n",
       " '(Cosme Pérez)-[alias]-(Juan Rana)',\n",
       " '(Cosme Pérez)-[es alias de]-(Juan Rana)',\n",
       " '(Cosme Pérez)-[recibió]-(1.000 rs.)',\n",
       " '(Cosme Pérez)-[representó el papel de]-(Bato)',\n",
       " '(Cosme Pérez)-[solicitó]-(paso de una ración ordinaria)',\n",
       " '(Felipe IV)-[daba cuenta a]-(Luisa Enríquez Manrique)',\n",
       " '(Francisca María Pérez)-[es hija de]-(Cosme Pérez)',\n",
       " '(Juan Rana)-[actúa en]-(Andrómeda y Perseo)',\n",
       " '(paso de una ración ordinaria)-[es para]-(Francisca María Pérez)',\n",
       " '(paso de una ración ordinaria)-[goza por]-(casa de la Reyna nuestra señora)'}"
      ]
     },
     "execution_count": 82,
     "metadata": {},
     "output_type": "execute_result"
    }
   ],
   "source": [
    "relations"
   ]
  },
  {
   "cell_type": "code",
   "execution_count": 113,
   "id": "d96e0e9d",
   "metadata": {},
   "outputs": [],
   "source": [
    "import json\n",
    "\n",
    "with open(\"../out/per_sentence_text_re.json\", \"w\", encoding=\"utf-8\") as fw:\n",
    "    json.dump({key: list(values) for key, values in per_sentence.items()}, fw, ensure_ascii=False, indent=4)"
   ]
  },
  {
   "cell_type": "markdown",
   "id": "aea4ce3f",
   "metadata": {},
   "source": [
    "# Test de la mejor combinación"
   ]
  },
  {
   "cell_type": "markdown",
   "id": "65ea66d5",
   "metadata": {},
   "source": [
    "Clarified Text + prev + post\n",
    "\n",
    "```{'(Andrómeda y Perseo)-[es obra de]-(Calderón)',\n",
    " '(Andrómeda y Perseo)-[fue escrita por]-(Calderón)',\n",
    " '(Andrómeda y Perseo)-[se representó en]-(Coliseo del Buen Retiro)',\n",
    " '(Conde de Altamira)-[transmitió respuesta a]-(Cosme Pérez)',\n",
    " '(Cosme Pérez)-[alias]-(Juan Rana)',\n",
    " '(Cosme Pérez)-[es alias de]-(Juan Rana)',\n",
    " '(Cosme Pérez)-[recibió]-(1.000 rs.)',\n",
    " '(Cosme Pérez)-[representó el papel de]-(Bato)',\n",
    " '(Cosme Pérez)-[solicitó]-(paso de una ración ordinaria)',\n",
    " '(Felipe IV)-[daba cuenta a]-(Luisa Enríquez Manrique)',\n",
    " '(Francisca María Pérez)-[es hija de]-(Cosme Pérez)',\n",
    " '(Francisca María Pérez)-[no puede gozar ración si]-(anda en la farsa)',\n",
    " '(Juan Rana)-[cumplió con]-(Andrómeda y Perseo)',\n",
    " '(ración ordinaria)-[goza por]-(casa de la Reyna nuestra señora)',\n",
    " '(ración ordinaria)-[para]-(Francisca María Pérez)'}\n",
    "```\n",
    "\n",
    "Clarified Text + prev\n",
    "\n",
    "```{'(Andrómeda y Perseo)-[es obra de]-(Calderón de la Barca)',\n",
    " '(Andrómeda y Perseo)-[es una comedia de]-(Calderón)',\n",
    " '(Andrómeda y Perseo)-[escrita por]-(Calderón)',\n",
    " '(Andrómeda y Perseo)-[se representó en]-(Coliseo del Buen Retiro)',\n",
    " '(Conde de Altamira)-[transmite respuesta a]-(Cosme Pérez)',\n",
    " '(Cosme Pérez)-[alias]-(Juan Rana)',\n",
    " '(Cosme Pérez)-[es alias de]-(Juan Rana)',\n",
    " '(Cosme Pérez)-[goza]-(casa de la Reyna nuestra señora)',\n",
    " '(Cosme Pérez)-[recibió]-(1.000 rs.)',\n",
    " '(Cosme Pérez)-[representó el papel de]-(Bato)',\n",
    " '(Cosme Pérez)-[solicita]-(Conde de Altamira)',\n",
    " '(Cosme Pérez)-[tiene hija]-(Francisca María Pérez)',\n",
    " '(Felipe IV)-[daba cuenta a]-(Luisa Enríquez Manrique)',\n",
    " '(Francisca María Pérez)-[goza]-(casa de la Reyna nuestra señora)',\n",
    " '(Juan Rana)-[ha cumplido con]-(sus obligaciones)'}\n",
    "```\n",
    "Clarified Text\n",
    "\n",
    "```{'(Andrómeda y Perseo)-[es obra de]-(Calderón)',\n",
    " '(Andrómeda y Perseo)-[fue escrita por]-(Calderón)',\n",
    " '(Andrómeda y Perseo)-[se representó en]-(Coliseo del Buen Retiro)',\n",
    " '(Conde de Altamira)-[transmitió respuesta a]-(Cosme Pérez)',\n",
    " '(Cosme Pérez)-[es alias de]-(Juan Rana)',\n",
    " '(Cosme Pérez)-[recibió]-(fiestas del Corpus de Madrid)',\n",
    " '(Cosme Pérez)-[representó el papel de]-(Bato)',\n",
    " '(Cosme Pérez)-[tiene hija]-(Francisca María Pérez)',\n",
    " '(Felipe IV)-[daba cuenta a]-(Luisa Enríquez Manrique)',\n",
    " '(Juan Rana)-[ha cumplido con]-Andrómeda y Perseo',\n",
    " '(casa de la Reyna nuestra señora)-[proporciona ración a]-(Francisca María Pérez)'}\n",
    "```\n",
    "Texto Normal\n",
    "\n",
    "```{'(Andrómeda y Perseo)-[es obra de]-(Calderón)',\n",
    " '(Comedia)-[se representó en]-(Coliseo del Buen Retiro)',\n",
    " '(Conde de Altamira)-[transmitió respuesta a]-(Cosme Pérez)',\n",
    " '(Cosme Pérez)-[alias]-(Juan Rana)',\n",
    " '(Cosme Pérez)-[recibió]-(fiestas del Corpus de Madrid)',\n",
    " '(Cosme Pérez)-[representó el papel de]-(Bato)',\n",
    " '(Cosme Pérez)-[solicitó]-(Conde de Altamira)',\n",
    " '(Cosme Pérez)-[tiene hija]-(Francisca María Pérez)',\n",
    " '(Felipe IV)-[daba cuenta a]-(Luisa Enríquez Manrique)',\n",
    " '(Francisca María Pérez)-[recibe ración ordinaria de]-(casa de la Reyna nuestra señora)',\n",
    " '(Juan Rana)-[ha cumplido]-(obligaciones)'}\n",
    "```\n",
    "Texto Normal + prev\n",
    "\n",
    "```{'(Andrómeda y Perseo)-[fue obra de]-(Calderón)',\n",
    " '(Comedia)-[se representó en]-(Coliseo del Buen Retiro)',\n",
    " '(Conde de Altamira)-[transmitió respuesta a]-(Cosme Pérez)',\n",
    " '(Cosme Pérez)-[alias]-(Juan Rana)',\n",
    " '(Cosme Pérez)-[recibió]-(1.000 rs.)',\n",
    " '(Cosme Pérez)-[representó el papel de]-(Bato)',\n",
    " '(Cosme Pérez)-[representó]-(Bato)',\n",
    " '(Cosme Pérez)-[solicitó]-(paso de una ración ordinaria)',\n",
    " '(Felipe IV)-[daba cuenta a]-(Luisa Enríquez Manrique)',\n",
    " '(Francisca María Pérez)-[es hija de]-(Cosme Pérez)',\n",
    " '(Juan Rana)-[cumplió]-(obligaciones)',\n",
    " '(Juan Rana)-[ha cumplido con]-(obligaciones)',\n",
    " '(paso de una ración ordinaria)-[goza por]-(casa de la Reyna nuestra señora)',\n",
    " '(paso de una ración ordinaria)-[para]-(Francisca María Pérez)'}\n",
    "```\n",
    "Texto Normal + prev + post\n",
    "\n",
    "```{'(Andrómeda y Perseo)-[fue escrita por]-(Calderón)',\n",
    " '(Comedia)-[fue representada en]-(Coliseo del Buen Retiro)',\n",
    " '(Conde de Altamira)-[transmitió respuesta a]-(Cosme Pérez)',\n",
    " '(Cosme Pérez)-[alias]-(Juan Rana)',\n",
    " '(Cosme Pérez)-[es]-(Juan Rana)',\n",
    " '(Cosme Pérez)-[recibió]-(1.000 rs.)',\n",
    " '(Cosme Pérez)-[representó el papel de]-(Bato)',\n",
    " '(Cosme Pérez)-[representó]-(Bato)',\n",
    " '(Cosme Pérez)-[solicitó]-(Conde de Altamira)',\n",
    " '(Cosme Pérez)-[solicitó]-(paso de una ración ordinaria)',\n",
    " '(Cosme Pérez)-[tiene hija]-(Francisca María Pérez)',\n",
    " '(Felipe IV)-[daba cuenta a]-(Luisa Enríquez Manrique)',\n",
    " '(Francisca María Pérez)-[recibe ración ordinaria de]-(casa de la Reyna nuestra señora)',\n",
    " '(Juan Rana)-[cumplió]-(obligaciones)',\n",
    " '(pasó de una ración ordinaria)-[goza por]-(casa de la Reyna nuestra señora)',\n",
    " '(pasó de una ración ordinaria)-[para]-(Francisca María Pérez)'}\n",
    "```"
   ]
  }
 ],
 "metadata": {
  "kernelspec": {
   "display_name": ".venv",
   "language": "python",
   "name": "python3"
  },
  "language_info": {
   "codemirror_mode": {
    "name": "ipython",
    "version": 3
   },
   "file_extension": ".py",
   "mimetype": "text/x-python",
   "name": "python",
   "nbconvert_exporter": "python",
   "pygments_lexer": "ipython3",
   "version": "3.12.0"
  }
 },
 "nbformat": 4,
 "nbformat_minor": 5
}
