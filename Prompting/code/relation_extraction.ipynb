{
 "cells": [
  {
   "cell_type": "code",
   "execution_count": 1,
   "id": "f4157dfa",
   "metadata": {},
   "outputs": [],
   "source": [
    "import json\n",
    "\n",
    "with open(\"../out/prompting_ners_gpt_4.1_mini.json\", \"r\", encoding=\"utf-8\") as fr:\n",
    "    prompting_ners = json.load(fr)\n",
    "    \n",
    "with open(\"../out/spacy_ners.json\", \"r\", encoding=\"utf-8\") as fr:\n",
    "    spacy_ners = json.load(fr)"
   ]
  },
  {
   "cell_type": "code",
   "execution_count": null,
   "id": "77c4ed20",
   "metadata": {},
   "outputs": [
    {
     "name": "stdout",
     "output_type": "stream",
     "text": [
      "Prompting NERs:\n",
      "\t- PER: 63\n",
      "\t- ORG: 5\n",
      "\t- DATE: 29\n",
      "\t- GPE: 5\n",
      "\t- WORK_OF_ART: 33\n",
      "\t- LOC: 7\n",
      "\n",
      "Number of NERs in Prompting: 142\n",
      "\n",
      "Spacy NERs:\n",
      "\t- PER: 107\n",
      "\t- MISC: 65\n",
      "\t- LOC: 36\n",
      "\t- ORG: 2\n",
      "\n",
      "Number of NERs in Prompting: 210\n"
     ]
    }
   ],
   "source": [
    "prompt_ner_cnt = 0\n",
    "spacy_ner_cnt = 0\n",
    "\n",
    "print(\"Prompting NERs:\")\n",
    "for key in prompting_ners.keys():\n",
    "    print(f\"\\t- {key}: {len(prompting_ners[key])}\")\n",
    "    prompt_ner_cnt += len(prompting_ners[key])\n",
    "\n",
    "print(f\"\\nNumber of NERs in Prompting: {prompt_ner_cnt}\\n\")\n",
    "\n",
    "print(\"Spacy NERs:\")\n",
    "for key in spacy_ners.keys():\n",
    "    print(f\"\\t- {key}: {len(spacy_ners[key])}\")\n",
    "    spacy_ner_cnt += len(spacy_ners[key])\n",
    "\n",
    "print(f\"\\nNumber of NERs in Prompting: {spacy_ner_cnt}\")\n"
   ]
  },
  {
   "cell_type": "code",
   "execution_count": null,
   "id": "d4be909e",
   "metadata": {},
   "outputs": [
    {
     "name": "stdout",
     "output_type": "stream",
     "text": [
      "Number of NERs in 6: 4\n"
     ]
    }
   ],
   "source": []
  }
 ],
 "metadata": {
  "kernelspec": {
   "display_name": ".venv",
   "language": "python",
   "name": "python3"
  },
  "language_info": {
   "codemirror_mode": {
    "name": "ipython",
    "version": 3
   },
   "file_extension": ".py",
   "mimetype": "text/x-python",
   "name": "python",
   "nbconvert_exporter": "python",
   "pygments_lexer": "ipython3",
   "version": "3.12.10"
  }
 },
 "nbformat": 4,
 "nbformat_minor": 5
}
