{
 "cells": [
  {
   "cell_type": "markdown",
   "id": "8a19d380",
   "metadata": {},
   "source": [
    "## 1. Load NERs extracted previously"
   ]
  },
  {
   "cell_type": "code",
   "execution_count": 1,
   "id": "f4157dfa",
   "metadata": {},
   "outputs": [],
   "source": [
    "import json\n",
    "\n",
    "with open(\"../out/prompting_ners_gpt_4.1_mini.json\", \"r\", encoding=\"utf-8\") as fr:\n",
    "    prompting_ners = json.load(fr)"
   ]
  },
  {
   "cell_type": "markdown",
   "id": "ea2eb015",
   "metadata": {},
   "source": [
    "## 2. Preparing LLM for RE"
   ]
  },
  {
   "cell_type": "code",
   "execution_count": 2,
   "id": "d53780e0",
   "metadata": {},
   "outputs": [],
   "source": [
    "from langchain_openai import ChatOpenAI\n",
    "from dotenv import load_dotenv\n",
    "import os"
   ]
  },
  {
   "cell_type": "code",
   "execution_count": 3,
   "id": "b4bdd7d3",
   "metadata": {},
   "outputs": [],
   "source": [
    "load_dotenv()\n",
    "\n",
    "llm = ChatOpenAI(\n",
    "    model=\"gpt-4.1-mini\",\n",
    "    temperature=0,\n",
    "    api_key=os.getenv(\"OPENAI_API_KEY\"),\n",
    ")"
   ]
  },
  {
   "cell_type": "code",
   "execution_count": 86,
   "id": "aebf84b4",
   "metadata": {},
   "outputs": [],
   "source": [
    "with open(\"../data/introduccion.txt\", \"r\", encoding=\"utf-8\") as fr:\n",
    "    text = fr.read()\n",
    "    \n",
    "with open(\"../data/historia_juan_rana.txt\", \"r\", encoding=\"utf-8\") as fr:\n",
    "    text += fr.read()"
   ]
  },
  {
   "cell_type": "code",
   "execution_count": 4,
   "id": "86000f00",
   "metadata": {},
   "outputs": [],
   "source": [
    "import pandas as pd\n",
    "import ast\n",
    "    \n",
    "data = pd.read_csv(\"../data/DicatJuanRana_w_clarified_sentences.csv\", sep=\";\", encoding=\"utf-8\", converters={\"sentences\": ast.literal_eval, \"clarified_sentences\": ast.literal_eval})"
   ]
  },
  {
   "cell_type": "markdown",
   "id": "803d84ed",
   "metadata": {},
   "source": [
    "### 2.1. First approach: Analyze the entire text passing NERs and text into the prompt"
   ]
  },
  {
   "cell_type": "code",
   "execution_count": 5,
   "id": "f694df1e",
   "metadata": {},
   "outputs": [],
   "source": [
    "from langchain.prompts import PromptTemplate\n",
    "\n",
    "entire_text_prompt = PromptTemplate(\n",
    "    input_variables=[\"text\", \"entities\"],\n",
    "    template=\"\"\"\n",
    "        Dado el siguiente texto y una lista de entidades nombradas previamente extraídas, identifica todas las relaciones explícitas o implícitas entre dichas entidades.\n",
    "\n",
    "        Las relaciones deben expresarse únicamente en el formato:\n",
    "        (Entidad1)-[relación]-(Entidad2)\n",
    "\n",
    "        Donde:\n",
    "\n",
    "        - Entidad1 y Entidad2 deben coincidir con entidades de la lista proporcionada.\n",
    "\n",
    "        - [relación] debe ser un verbo o una expresión verbal que indique la relación entre las entidades en el contexto del texto.\n",
    "\n",
    "        - Si una relación puede expresarse con sinónimos más generales o normalizados (por ejemplo, \"dirige\", \"es jefe de\" → \"dirige\"), elige el término más general.\n",
    "\n",
    "        - Ignora relaciones que no se puedan inferir directamente del texto.\n",
    "\n",
    "        Lista de entidades (NERs):\n",
    "        {entities}\n",
    "\n",
    "        Texto de entrada:\n",
    "        {text}\n",
    "\n",
    "        Salida esperada:\n",
    "        (EntidadA)-[relación]-(EntidadB)\n",
    "        (EntidadC)-[relación]-(EntidadD)\n",
    "        …\n",
    "        \n",
    "        Muestra la salida únicamente con las relaciones encontradas, sin ningún otro texto adicional.\n",
    "    \"\"\",\n",
    ")"
   ]
  },
  {
   "cell_type": "code",
   "execution_count": 13,
   "id": "2860274c",
   "metadata": {},
   "outputs": [],
   "source": [
    "entities = \"\\n\".join([\n",
    "    f\"{key}: {', '.join(values)}\"\n",
    "    for key, values in prompting_ners.items()\n",
    "    if key in [\"PER\", \"LOC\", \"EVENT\", \"WORK_OF_ART\", \"ORG\", \"GPE\"]\n",
    "])\n",
    "\n",
    "years_to_test = [1636, 1643, 1648, 1651, 1653, 1656, 1665, 1666, 1670]\n",
    "\n",
    "text = \"\\n\\n\".join(\n",
    "    text for text in data[data[\"year\"].astype(int).isin(years_to_test)][\"text\"]\n",
    ")\n",
    "\n",
    "response = llm.invoke(\n",
    "    entire_text_prompt.invoke({\n",
    "        \"text\": text,\n",
    "        \"entities\": entities,\n",
    "    })\n",
    ").content"
   ]
  },
  {
   "cell_type": "code",
   "execution_count": 14,
   "id": "7e7e9fb9",
   "metadata": {},
   "outputs": [
    {
     "name": "stdout",
     "output_type": "stream",
     "text": [
      "(Cosme Pérez)-[es miembro de la compañía de]-(Tomás Fernández)\n",
      "(Cosme Pérez)-[es miembro de la compañía de]-(Pedro de la Rosa)\n",
      "(Catalina de Nicolás y la Rosa)-[contrata a]-(Cosme Pérez)\n",
      "(Pedro de la Rosa)-[es marido de]-(Catalina de Nicolás y la Rosa)\n",
      "(Cosme Pérez)-[recibe pago de]-(Pedro de la Rosa)\n",
      "(Antonio García de Prado)-[otorga poder a]-(Cosme Pérez)\n",
      "(Antonio García de Prado)-[otorga poder a]-(Francisco Ortiz)\n",
      "(Felipe IV)-[escribe a]-(Luisa Enríquez Manrique de Lara)\n",
      "(Diego de Martos)-[lleva recados a]-(Luisa Enríquez Manrique de Lara)\n",
      "(Felipe IV)-[escribe a]-(doña Luisa Enríquez Manrique)\n",
      "(Juan Rana)-[hace famoso papel para]-(Felipe IV)\n",
      "(Bernarda Ramírez)-[interpreta papel de]-(Alma)\n",
      "(Bernarda Ramírez)-[imita figura de]-(Juan Rana)\n",
      "(Juan Rana)-[interviene en representación con]-(Bernarda Ramírez)\n",
      "(Juan Rana)-[actúa en comedia de]-(Calderón de la Barca)\n",
      "(Cosme Pérez)-[representa papel de]-(Bato)\n",
      "(Cosme Pérez)-[recibe ración ordinaria de]-(Reina Mariana de Austria)\n",
      "(Duque de Nájera)-[informa a]-(Simón de Alcántara)\n",
      "(Simón de Alcántara)-[es grefier de]-(Reina Mariana de Austria)\n",
      "(Cosme Pérez)-[acude en representación de]-(Cofradía de Nuestra Señora de la Novena)\n",
      "(Cosme Pérez)-[recibe donativo de]-(Reina Mariana de Austria)\n",
      "(Mateo Godoy)-[recoge donativo para]-(Cofradía de Nuestra Señora de la Novena)\n",
      "(Cosme Pérez)-[firma testamento en]-(Madrid)\n",
      "(Cosme Pérez)-[vive en]-(Madrid)\n",
      "(Cosme Pérez)-[pide ser enterrado en]-(Convento de la Santísima Trinidad)\n",
      "(Cosme Pérez)-[es padre de]-(Francisca María Pérez)\n",
      "(Cosme Pérez)-[deja limosna a]-(María de Diego)\n",
      "(Cosme Pérez)-[deja limosna a]-(Francisco de Diego)\n",
      "(Cosme Pérez)-[deja limosna para]-(Nuestra Señora del Amparo)\n",
      "(Antonio de Escamilla)-[debe dinero a]-(Cosme Pérez)\n",
      "(Cosme Pérez)-[asiste a]-(cabildo de la Cofradía de Nuestra Señora de la Novena)\n",
      "(Cosme Pérez)-[firma testamento en]-(Madrid)\n",
      "(Cosme Pérez)-[ordena pagar a]-(Isabel)\n",
      "(Cosme Pérez)-[ordena pagar a]-(Felipe Negro)\n",
      "(Felipe IV)-[escribe a]-(doña Luisa Enríquez Manrique)\n",
      "(Baccio del Bianco)-[describe fiesta organizada por]-(María Teresa)\n",
      "(María Teresa)-[organiza fiesta para]-(Reina Mariana de Austria)\n",
      "(Juan Rana)-[actúa en fiesta organizada por]-(María Teresa)\n",
      "(Luisa Romero)-[canta en loa con]-(Mariana Romero)\n",
      "(Luisa Romero)-[canta en loa con]-(Juan Rana)\n",
      "(Luis de Mendoza)-[interviene en sainete con]-(Juan Rana)\n",
      "(Juan Rana)-[es llamado]-(il Grazzioso della Regina)\n",
      "(Juan Rana)-[es liberado]-(Madrid)\n",
      "(Agustín Merlo)-[mantiene reyerta con]-(Valdés)\n",
      "(Valdés)-[es músico de]-(capilla real)\n",
      "(Cotarelo)-[infiera escándalo de]-(Luis Quiñones de Benavente)\n",
      "(Conde de Altamira)-[responde solicitud de]-(Cosme Pérez)\n",
      "(Cosme Pérez)-[es alias de]-(Juan Rana)\n",
      "(Duque de Montalto)-[dirige carta a]-(grefier)\n",
      "(Su Majestad)-[manda real decreto para]-(Cosme Pérez)\n",
      "(Cosme Pérez)-[cede ración ordinaria a]-(Francisca María Pérez)\n",
      "(Cosme Pérez)-[recupera ración ordinaria de]-(Francisca María Pérez)\n",
      "(Cosme Pérez)-[tiene problemas de movilidad]-(Madrid)\n",
      "(Cosme Pérez)-[es vecino de]-(Madrid)\n",
      "(Cosme Pérez)-[vive en]-(calle de Cantarranas)\n",
      "(Cosme Pérez)-[comparte vivienda con]-(Justo de Lazárraga)\n",
      "(Cosme Pérez)-[deja bienes a]-(albaceas)\n",
      "(Cosme Pérez)-[deja bienes a]-(testamentarios)\n",
      "(Cosme Pérez)-[paga misas por alma de]-(su hija)\n",
      "(Cosme Pérez)-[paga misas por alma de]-(familiares)\n",
      "(Cosme Pérez)-[tiene sobrina]-(María de Diego)\n",
      "(Cosme Pérez)-[tiene sobrino]-(Francisco de Diego)\n",
      "(Cosme Pérez)-[tiene ama]-(Isabel)\n",
      "(Felipe Negro)-[es paisano y pariente de]-(Cosme Pérez)\n"
     ]
    }
   ],
   "source": [
    "relations = set()\n",
    "\n",
    "for relation in response.split(\"\\n\"):\n",
    "    print(relation.strip())\n",
    "    relations.add(relation.strip())"
   ]
  },
  {
   "cell_type": "code",
   "execution_count": 19,
   "id": "23e48fc2",
   "metadata": {},
   "outputs": [
    {
     "name": "stdout",
     "output_type": "stream",
     "text": [
      "Total de relaciones encontradas: 64, de las cuales 62 son únicas.\n"
     ]
    }
   ],
   "source": [
    "print(f\"Total de relaciones encontradas: {len(response.split(\"\\n\"))}, de las cuales {len(relations)} son únicas.\")"
   ]
  },
  {
   "cell_type": "code",
   "execution_count": 21,
   "id": "9df41a77",
   "metadata": {},
   "outputs": [],
   "source": [
    "with open(\"../out/full_text_re.txt\", \"w\", encoding=\"utf-8\") as fw:\n",
    "    unique_relations = '\\n'.join(rel for rel in relations)\n",
    "    fw.write(unique_relations)"
   ]
  },
  {
   "cell_type": "markdown",
   "id": "955fc23c",
   "metadata": {},
   "source": [
    "### 2.2. Second approach: Analyze each paragraph"
   ]
  },
  {
   "cell_type": "code",
   "execution_count": 94,
   "id": "ea33397a",
   "metadata": {},
   "outputs": [],
   "source": [
    "from langchain_openai import ChatOpenAI\n",
    "from dotenv import load_dotenv\n",
    "import os"
   ]
  },
  {
   "cell_type": "code",
   "execution_count": 95,
   "id": "9f460a97",
   "metadata": {},
   "outputs": [],
   "source": [
    "load_dotenv()\n",
    "\n",
    "llm = ChatOpenAI(\n",
    "    model=\"gpt-4.1-mini\",\n",
    "    temperature=0,\n",
    "    api_key=os.getenv(\"OPENAI_API_KEY\"),\n",
    ")"
   ]
  },
  {
   "cell_type": "code",
   "execution_count": 102,
   "id": "575139f7",
   "metadata": {},
   "outputs": [],
   "source": [
    "import pandas as pd\n",
    "import ast\n",
    "    \n",
    "data = pd.read_csv(\"../data/DicatJuanRana_w_clarified_sentences.csv\", sep=\";\", encoding=\"utf-8\", converters={\"sentences\": ast.literal_eval, \"clarified_sentences\": ast.literal_eval})"
   ]
  },
  {
   "cell_type": "code",
   "execution_count": 98,
   "id": "3dbdade8",
   "metadata": {},
   "outputs": [],
   "source": [
    "from langchain.prompts import PromptTemplate\n",
    "\n",
    "paragraph_text_prompt = PromptTemplate(\n",
    "    input_variables=[\"text\", \"entities\"],\n",
    "    template=\"\"\"\n",
    "        Dado el siguiente texto y una lista de entidades nombradas previamente extraídas, identifica todas las relaciones explícitas o implícitas entre dichas entidades.\n",
    "\n",
    "        Las relaciones deben expresarse únicamente en el formato:\n",
    "        (Entidad1)-[relación]-(Entidad2)\n",
    "\n",
    "        Donde:\n",
    "\n",
    "        - Entidad1 y Entidad2 deben coincidir con entidades de la lista proporcionada.\n",
    "\n",
    "        - [relación] debe ser un verbo o una expresión verbal que indique la relación entre las entidades en el contexto del texto.\n",
    "\n",
    "        - Si una relación puede expresarse con sinónimos más generales o normalizados (por ejemplo, \"dirige\", \"es jefe de\" → \"dirige\"), elige el término más general.\n",
    "\n",
    "        - Ignora relaciones que no se puedan inferir directamente del texto.\n",
    "\n",
    "        Salida esperada:\n",
    "        (EntidadA)-[relación]-(EntidadB)\n",
    "        (EntidadC)-[relación]-(EntidadD)\n",
    "        …\n",
    "        \n",
    "        Muestra la salida únicamente con las relaciones encontradas, sin ningún otro texto adicional.\n",
    "        Lista de entidades (NERs):\n",
    "        {entities}\n",
    "\n",
    "        Texto de entrada:\n",
    "        {text}\n",
    "    \"\"\",\n",
    ")"
   ]
  },
  {
   "cell_type": "code",
   "execution_count": 103,
   "id": "b68e9c82",
   "metadata": {},
   "outputs": [
    {
     "data": {
      "application/vnd.jupyter.widget-view+json": {
       "model_id": "1f7e1814de3b4447a81c23c76833232e",
       "version_major": 2,
       "version_minor": 0
      },
      "text/plain": [
       "  0%|          | 0/38 [00:00<?, ?it/s]"
      ]
     },
     "metadata": {},
     "output_type": "display_data"
    }
   ],
   "source": [
    "from tqdm.auto import tqdm\n",
    "from collections import defaultdict\n",
    "\n",
    "entities = \"\\n\".join([\n",
    "    f\"{key}: {', '.join(values)}\"\n",
    "    for key, values in prompting_ners.items()\n",
    "])\n",
    "\n",
    "total_re_found = 0\n",
    "\n",
    "per_paragraph = defaultdict(set)\n",
    "\n",
    "for _, row in tqdm(data.iterrows(), total=len(data)):\n",
    "    paragraph = \"\".join(row[\"clarified_sentences\"])\n",
    "\n",
    "    response = llm.invoke(\n",
    "        paragraph_text_prompt.invoke({\n",
    "            \"text\": paragraph,\n",
    "            \"entities\": entities,\n",
    "        })\n",
    "    ).content\n",
    "    \n",
    "    total_re_found += len(response.split(\"\\n\"))\n",
    "\n",
    "    for relation in response.split(\"\\n\"):\n",
    "        relation = relation.strip()\n",
    "        if relation and len(relation.split(\"-\")) >= 3:\n",
    "            per_paragraph[row[\"year\"]].add(relation)"
   ]
  },
  {
   "cell_type": "code",
   "execution_count": 104,
   "id": "8ce6abe9",
   "metadata": {},
   "outputs": [],
   "source": [
    "unique_relations = {relation for relations in per_paragraph.values() for relation in relations}"
   ]
  },
  {
   "cell_type": "code",
   "execution_count": 105,
   "id": "ca768daf",
   "metadata": {},
   "outputs": [
    {
     "name": "stdout",
     "output_type": "stream",
     "text": [
      "Total de relaciones encontradas: 536, de las cuales 519 son únicas.\n"
     ]
    }
   ],
   "source": [
    "print(f\"Total de relaciones encontradas: {total_re_found}, de las cuales {len(unique_relations)} son únicas.\")"
   ]
  },
  {
   "cell_type": "code",
   "execution_count": 106,
   "id": "6c12e51a",
   "metadata": {},
   "outputs": [],
   "source": [
    "import json\n",
    "\n",
    "with open(\"../out/per_paragraph_text_re.json\", \"w\", encoding=\"utf-8\") as fw:\n",
    "    json.dump({key: list(values) for key, values in per_paragraph.items()}, fw, ensure_ascii=False, indent=4)"
   ]
  },
  {
   "cell_type": "markdown",
   "id": "f5296d8c",
   "metadata": {},
   "source": [
    "### 2.3. Third approach: Analyze each sentence with overlap"
   ]
  },
  {
   "cell_type": "code",
   "execution_count": 1,
   "id": "11c1dc66",
   "metadata": {},
   "outputs": [],
   "source": [
    "from langchain_openai import ChatOpenAI\n",
    "from dotenv import load_dotenv\n",
    "import pandas as pd\n",
    "import os"
   ]
  },
  {
   "cell_type": "code",
   "execution_count": 34,
   "id": "7ca012e0",
   "metadata": {},
   "outputs": [],
   "source": [
    "load_dotenv()\n",
    "\n",
    "llm = ChatOpenAI(\n",
    "    model=\"gpt-4o-mini\",\n",
    "    temperature=0,\n",
    "    api_key=os.getenv(\"OPENAI_API_KEY\"),\n",
    ")"
   ]
  },
  {
   "cell_type": "code",
   "execution_count": 3,
   "id": "3f0efe1a",
   "metadata": {},
   "outputs": [],
   "source": [
    "import json\n",
    "\n",
    "with open(\"../out/prompting_ners_gpt_4.1_mini.json\", \"r\", encoding=\"utf-8\") as fr:\n",
    "    prompting_ners = json.load(fr)"
   ]
  },
  {
   "cell_type": "code",
   "execution_count": 10,
   "id": "5eb4215a",
   "metadata": {},
   "outputs": [],
   "source": [
    "import pandas as pd\n",
    "import ast\n",
    "    \n",
    "data = pd.read_csv(\"../data/DicatJuanRana_w_sentences.csv\", sep=\";\", encoding=\"utf-8\", converters={\"sentences\": ast.literal_eval, \"clarified_sentences\": ast.literal_eval})"
   ]
  },
  {
   "cell_type": "code",
   "execution_count": 47,
   "id": "585e6a4e",
   "metadata": {},
   "outputs": [],
   "source": [
    "from langchain.prompts import PromptTemplate\n",
    "\n",
    "entire_text_prompt = PromptTemplate(\n",
    "    input_variables=[\"text\", \"prev_context\", \"entities\"],\n",
    "    template=\"\"\"\n",
    "        Dada la siguiente frase y una lista de entidades nombradas previamente extraídas, identifica todas las relaciones explícitas o implícitas entre las entidades que tanto en la frase como en la lista de entidades.\n",
    "        \n",
    "        Las frases pueden contener un contexto para ayudar a identificar las relaciones (para frases que comiencen con fue..., el cual..., etc.) pero no se deben sacar relaciones del propio contexto.\n",
    "\n",
    "        Las relaciones deben expresarse únicamente en el formato:\n",
    "        (Entidad1)-[relación]-(Entidad2)\n",
    "\n",
    "        Donde:\n",
    "\n",
    "        - Entidad1 y Entidad2 deben coincidir con entidades de la lista proporcionada.\n",
    "\n",
    "        - [relación] debe ser un verbo o una expresión verbal que indique la relación entre las entidades en el contexto del texto.\n",
    "\n",
    "        - Si una relación puede expresarse con sinónimos más generales o normalizados (por ejemplo, \"dirige\", \"es jefe de\" → \"dirige\"), elige el término más general.\n",
    "        \n",
    "        - Ignora relaciones que no se puedan inferir directamente del texto.\n",
    "        \n",
    "        - Haz relaciones que se puedan leer naturalmente, no que suene robotico.\n",
    "\n",
    "        Salida esperada:\n",
    "        (EntidadA)-[relación]-(EntidadB)\n",
    "        (EntidadC)-[relación]-(EntidadD)\n",
    "        …\n",
    "        \n",
    "        Muestra la salida únicamente con las relaciones encontradas, sin ningún otro texto adicional.\n",
    "        \n",
    "        Lista de entidades (NERs):\n",
    "        {entities}\n",
    "\n",
    "        Contexto de la frase (es útil para entender mejor la frase actual de la que se están extrayendo las relaciones):\n",
    "        El texto forma parte de la biografía de Cosme Pérez. \n",
    "        \n",
    "        - Contexto previo a la frase: {prev_context}\n",
    "\n",
    "        Frase de entrada:\n",
    "        {text}\n",
    "    \"\"\",\n",
    ")"
   ]
  },
  {
   "cell_type": "code",
   "execution_count": 48,
   "id": "c34ef902",
   "metadata": {},
   "outputs": [
    {
     "data": {
      "application/vnd.jupyter.widget-view+json": {
       "model_id": "ecf590506e264ac090b87e18f2514169",
       "version_major": 2,
       "version_minor": 0
      },
      "text/plain": [
       "  0%|          | 0/9 [00:00<?, ?it/s]"
      ]
     },
     "metadata": {},
     "output_type": "display_data"
    },
    {
     "data": {
      "application/vnd.jupyter.widget-view+json": {
       "model_id": "5485be09d8974f9c8335dddec91b6892",
       "version_major": 2,
       "version_minor": 0
      },
      "text/plain": [
       "  0%|          | 0/9 [00:00<?, ?it/s]"
      ]
     },
     "metadata": {},
     "output_type": "display_data"
    },
    {
     "data": {
      "application/vnd.jupyter.widget-view+json": {
       "model_id": "2744376a593f4718974e26e1371df080",
       "version_major": 2,
       "version_minor": 0
      },
      "text/plain": [
       "  0%|          | 0/2 [00:00<?, ?it/s]"
      ]
     },
     "metadata": {},
     "output_type": "display_data"
    },
    {
     "data": {
      "application/vnd.jupyter.widget-view+json": {
       "model_id": "0ddaef37af434eaa9e4a4ccf2dad3ca0",
       "version_major": 2,
       "version_minor": 0
      },
      "text/plain": [
       "  0%|          | 0/3 [00:00<?, ?it/s]"
      ]
     },
     "metadata": {},
     "output_type": "display_data"
    },
    {
     "data": {
      "application/vnd.jupyter.widget-view+json": {
       "model_id": "b90f4f6874864a9782f379cb7544b024",
       "version_major": 2,
       "version_minor": 0
      },
      "text/plain": [
       "  0%|          | 0/13 [00:00<?, ?it/s]"
      ]
     },
     "metadata": {},
     "output_type": "display_data"
    },
    {
     "data": {
      "application/vnd.jupyter.widget-view+json": {
       "model_id": "a95fb5d730904621a5b905998084af74",
       "version_major": 2,
       "version_minor": 0
      },
      "text/plain": [
       "  0%|          | 0/10 [00:00<?, ?it/s]"
      ]
     },
     "metadata": {},
     "output_type": "display_data"
    },
    {
     "data": {
      "application/vnd.jupyter.widget-view+json": {
       "model_id": "c79f813ff0c64c0488af6e810810d8df",
       "version_major": 2,
       "version_minor": 0
      },
      "text/plain": [
       "  0%|          | 0/10 [00:00<?, ?it/s]"
      ]
     },
     "metadata": {},
     "output_type": "display_data"
    },
    {
     "data": {
      "application/vnd.jupyter.widget-view+json": {
       "model_id": "4ae70e5440034ddab7ed29b8cf0a86d8",
       "version_major": 2,
       "version_minor": 0
      },
      "text/plain": [
       "  0%|          | 0/9 [00:00<?, ?it/s]"
      ]
     },
     "metadata": {},
     "output_type": "display_data"
    },
    {
     "data": {
      "application/vnd.jupyter.widget-view+json": {
       "model_id": "06e57e8c154c40689f36fc4a155e3207",
       "version_major": 2,
       "version_minor": 0
      },
      "text/plain": [
       "  0%|          | 0/18 [00:00<?, ?it/s]"
      ]
     },
     "metadata": {},
     "output_type": "display_data"
    },
    {
     "data": {
      "application/vnd.jupyter.widget-view+json": {
       "model_id": "8170ce6eb1a94759a1030ecefdf36dcc",
       "version_major": 2,
       "version_minor": 0
      },
      "text/plain": [
       "  0%|          | 0/14 [00:00<?, ?it/s]"
      ]
     },
     "metadata": {},
     "output_type": "display_data"
    }
   ],
   "source": [
    "from tqdm.auto import tqdm\n",
    "from collections import defaultdict\n",
    "\n",
    "entities = \"\\n\".join([\n",
    "    f\"{key}: {', '.join(values)}\"\n",
    "    for key, values in prompting_ners.items()\n",
    "    if key in [\"PER\", \"LOC\", \"EVENT\", \"WORK_OF_ART\", \"ORG\", \"GPE\"]\n",
    "])\n",
    "\n",
    "sentences_of_context = 3 # Number of sentences to consider as context for each sentence\n",
    "\n",
    "total_re_found = 0\n",
    "relations = set()\n",
    "\n",
    "per_sentence = defaultdict(set)\n",
    "years_to_test = [1636, 1643, 1648, 1651, 1653, 1656, 1665, 1666, 1670]\n",
    "\n",
    "\n",
    "# for _, year in tqdm(data.iterrows(), total=len(data), position=0):\n",
    "# for _, year in tqdm(data[(data[\"year\"].astype(int) == 1653) | (data[\"year\"].astype(int) == 1656) | (data[\"year\"].astype(int) == 1670)].iterrows(), position=0):\n",
    "# for _, year in tqdm(data[data[\"year\"].astype(int) == 1643].iterrows(), position=0):\n",
    "for _, year in tqdm(data[data[\"year\"].astype(int).isin(years_to_test)].iterrows(), total=len(years_to_test), position=0):\n",
    "        \n",
    "    context = []\n",
    "    sentences = year[\"sentences\"]\n",
    "    \n",
    "    for sentence in tqdm(sentences, position=1, leave=True):\n",
    "\n",
    "        response = llm.invoke(\n",
    "            entire_text_prompt.invoke({\n",
    "                \"text\": sentence.strip(),\n",
    "                \"prev_context\": \"\\n\".join(context),\n",
    "                # \"next_context\": \"\\n\".join(sentences[i+1:i+1+sentences_of_context]),\n",
    "                \"entities\": entities,\n",
    "            })\n",
    "        ).content\n",
    "    \n",
    "        total_re_found += len(response.split(\"\\n\"))\n",
    "\n",
    "        # for relation in response.split(\"\\n\"):\n",
    "        #     relation = relation.strip()\n",
    "        #     if relation and len(relation.split(\"-\")) >= 3:\n",
    "        #         relations.add(relation)\n",
    "        \n",
    "        for relation in response.split(\"\\n\"):\n",
    "            relation = relation.strip()\n",
    "            per_sentence[year[\"year\"]].add(relation)\n",
    "        \n",
    "        # DEBUGGING \n",
    "        # print(\"Relaciones encontradas:\\n\", response.strip())\n",
    "        # print(f\"Frase: {sentence.strip()}\")\n",
    "        # print(f\"Contexto previo: {' '.join(context)}\")\n",
    "        # print(f\"Contexto posterior: {' '.join(sentences[i+1:i+1+sentences_of_context])}\")\n",
    "        # print()\n",
    "        \n",
    "        context.append(sentence.strip())\n",
    "        if len(context) > sentences_of_context:\n",
    "            context = context[-sentences_of_context:]  # Keep only the last 'sentences_of_context' sentences"
   ]
  },
  {
   "cell_type": "code",
   "execution_count": 49,
   "id": "ee2d32bc",
   "metadata": {},
   "outputs": [],
   "source": [
    "unique_relations = {relation for relations in per_sentence.values() for relation in relations}"
   ]
  },
  {
   "cell_type": "code",
   "execution_count": 50,
   "id": "f08286c7",
   "metadata": {},
   "outputs": [
    {
     "name": "stdout",
     "output_type": "stream",
     "text": [
      "Total de relaciones encontradas: 251, de las cuales 235 son únicas.\n"
     ]
    }
   ],
   "source": [
    "print(f\"Total de relaciones encontradas: {total_re_found}, de las cuales {len(unique_relations)} son únicas.\")"
   ]
  },
  {
   "cell_type": "code",
   "execution_count": 5,
   "id": "4f377652",
   "metadata": {},
   "outputs": [
    {
     "data": {
      "text/html": [
       "<pre style=\"white-space:pre;overflow-x:auto;line-height:normal;font-family:Menlo,'DejaVu Sans Mono',consolas,'Courier New',monospace\"><span style=\"font-weight: bold\">[</span>\n",
       "    <span style=\"color: #008000; text-decoration-color: #008000\">'El 9 de julio, en Madrid, firmó un nuevo testamento que invalidaba el anterior de 1666, en el que declaraba de</span>\n",
       "<span style=\"color: #008000; text-decoration-color: #008000\">nuevo ser vecino de Madrid, \"que vivo en mis casas propias, en la calle de Cantarranas, Parroquia de San Sebastián,</span>\n",
       "<span style=\"color: #008000; text-decoration-color: #008000\">estando en pie levantado de la cama, aunque con algunos achaques\", y pedía ser sepultado \"sin ataúd en el convento </span>\n",
       "<span style=\"color: #008000; text-decoration-color: #008000\">de religiosos descalzos de la Santísima Trinidad desta Corte, en la sepultura que allí tengo mía propia, y donde </span>\n",
       "<span style=\"color: #008000; text-decoration-color: #008000\">está sepultada mi hija Francisca María Pérez\".  \\n\\nAparte del dinero estipulado para misas por su alma y detalles </span>\n",
       "<span style=\"color: #008000; text-decoration-color: #008000\">de sus honras, entre las limosnas entregaba una de 150 dcs. de vellón para la Cofradía de Nuestra Señora de la </span>\n",
       "<span style=\"color: #008000; text-decoration-color: #008000\">Novena para ayuda de la fábrica de su capilla, y un pabellón de brocado que tenía en el oratorio de su casa.  \\n\\nA</span>\n",
       "<span style=\"color: #008000; text-decoration-color: #008000\">su sobrina María de Diego y a su sobrino Francisco de Diego, ya mencionados en el testamento anterior, les enviaba </span>\n",
       "<span style=\"color: #008000; text-decoration-color: #008000\">150 dcs. y 30 dcs. de vellón, respectivamente, y 150 dcs. de vellón para ayuda del retablo \"que me han dicho se </span>\n",
       "<span style=\"color: #008000; text-decoration-color: #008000\">trata de hacer\" para la imagen de Nuestra Señora del Amparo de la iglesia parroquial de Tudela del Duero.  </span>\n",
       "<span style=\"color: #008000; text-decoration-color: #008000\">\\n\\n[Nombre de la persona que firmó el testamento] asistió al cabildo de la Cofradía de Nuestra Señora de la Novena</span>\n",
       "<span style=\"color: #008000; text-decoration-color: #008000\">celebrado el 2 de marzo.'</span>,\n",
       "    <span style=\"color: #008000; text-decoration-color: #008000\">'El 9 de julio, en Madrid, [Nombre de la persona que firmó el testamento] firmó un nuevo testamento que </span>\n",
       "<span style=\"color: #008000; text-decoration-color: #008000\">invalidaba el anterior de 1666, en el que [Nombre de la persona que firmó el testamento] declaraba de nuevo ser </span>\n",
       "<span style=\"color: #008000; text-decoration-color: #008000\">vecino de Madrid, \"que vivo en mis casas propias, en la calle de Cantarranas, Parroquia de San Sebastián, estando </span>\n",
       "<span style=\"color: #008000; text-decoration-color: #008000\">en pie levantado de la cama, aunque con algunos achaques\", y pedía ser sepultado \"sin ataúd en el convento de </span>\n",
       "<span style=\"color: #008000; text-decoration-color: #008000\">religiosos descalzos de la Santísima Trinidad desta Corte, en la sepultura que allí tengo mía propia, y donde está </span>\n",
       "<span style=\"color: #008000; text-decoration-color: #008000\">sepultada mi hija Francisca María Pérez\".'</span>,\n",
       "    <span style=\"color: #008000; text-decoration-color: #008000\">'Aparte del dinero estipulado para misas por el alma de [Nombre de la persona que firmó el testamento] y </span>\n",
       "<span style=\"color: #008000; text-decoration-color: #008000\">detalles de sus honras, entre las limosnas entregaba una de 150 dcs. de vellón para la Cofradía de Nuestra Señora </span>\n",
       "<span style=\"color: #008000; text-decoration-color: #008000\">de la Novena para ayuda de la fábrica de su capilla, y un pabellón de brocado que tenía en el oratorio de su </span>\n",
       "<span style=\"color: #008000; text-decoration-color: #008000\">casa.'</span>,\n",
       "    <span style=\"color: #008000; text-decoration-color: #008000\">'A su sobrina María de Diego y a su sobrino Francisco de Diego, ya mencionados en el testamento anterior, les </span>\n",
       "<span style=\"color: #008000; text-decoration-color: #008000\">enviaba 150 dcs. y 30 dcs. de vellón, respectivamente, y enviaba 150 dcs. de vellón para ayuda del retablo \"que me </span>\n",
       "<span style=\"color: #008000; text-decoration-color: #008000\">han dicho se trata de hacer\" para la imagen de Nuestra Señora del Amparo de la iglesia parroquial de Tudela del </span>\n",
       "<span style=\"color: #008000; text-decoration-color: #008000\">Duero.'</span>,\n",
       "    <span style=\"color: #008000; text-decoration-color: #008000\">'Asimismo, ordenaba pagar a su ama Isabel 150 rs. de vellón y el salario que se le debiera, y a Felipe Negro, </span>\n",
       "<span style=\"color: #008000; text-decoration-color: #008000\">su \"paisano y pariente\", otros 150 rs. y un espadín.'</span>,\n",
       "    <span style=\"color: #008000; text-decoration-color: #008000\">'Otorgaba a sus albaceas y testamentarios poder para rematar sus bienes y pagar todo lo estipulado en el </span>\n",
       "<span style=\"color: #008000; text-decoration-color: #008000\">testamento y, con el sobrante, pagar nuevas misas y limosnas para el alma de Cosme Pérez y la de su hija y </span>\n",
       "<span style=\"color: #008000; text-decoration-color: #008000\">familiares.'</span>,\n",
       "    <span style=\"color: #008000; text-decoration-color: #008000\">'—A. de la Granja, al publicar el testamento de Cosme Pérez, estimó que el desembolso en las misas previstas </span>\n",
       "<span style=\"color: #008000; text-decoration-color: #008000\">por el alma de Cosme Pérez debió de rondar los 7.500 rs. y destaca la preocupación religiosa que manifiesta Cosme </span>\n",
       "<span style=\"color: #008000; text-decoration-color: #008000\">Pérez—.'</span>\n",
       "<span style=\"font-weight: bold\">]</span>\n",
       "</pre>\n"
      ],
      "text/plain": [
       "\u001b[1m[\u001b[0m\n",
       "    \u001b[32m'El 9 de julio, en Madrid, firmó un nuevo testamento que invalidaba el anterior de 1666, en el que declaraba de\u001b[0m\n",
       "\u001b[32mnuevo ser vecino de Madrid, \"que vivo en mis casas propias, en la calle de Cantarranas, Parroquia de San Sebastián,\u001b[0m\n",
       "\u001b[32mestando en pie levantado de la cama, aunque con algunos achaques\", y pedía ser sepultado \"sin ataúd en el convento \u001b[0m\n",
       "\u001b[32mde religiosos descalzos de la Santísima Trinidad desta Corte, en la sepultura que allí tengo mía propia, y donde \u001b[0m\n",
       "\u001b[32mestá sepultada mi hija Francisca María Pérez\".  \\n\\nAparte del dinero estipulado para misas por su alma y detalles \u001b[0m\n",
       "\u001b[32mde sus honras, entre las limosnas entregaba una de 150 dcs. de vellón para la Cofradía de Nuestra Señora de la \u001b[0m\n",
       "\u001b[32mNovena para ayuda de la fábrica de su capilla, y un pabellón de brocado que tenía en el oratorio de su casa.  \\n\\nA\u001b[0m\n",
       "\u001b[32msu sobrina María de Diego y a su sobrino Francisco de Diego, ya mencionados en el testamento anterior, les enviaba \u001b[0m\n",
       "\u001b[32m150 dcs. y 30 dcs. de vellón, respectivamente, y 150 dcs. de vellón para ayuda del retablo \"que me han dicho se \u001b[0m\n",
       "\u001b[32mtrata de hacer\" para la imagen de Nuestra Señora del Amparo de la iglesia parroquial de Tudela del Duero.  \u001b[0m\n",
       "\u001b[32m\\n\\n\u001b[0m\u001b[32m[\u001b[0m\u001b[32mNombre de la persona que firmó el testamento\u001b[0m\u001b[32m]\u001b[0m\u001b[32m asistió al cabildo de la Cofradía de Nuestra Señora de la Novena\u001b[0m\n",
       "\u001b[32mcelebrado el 2 de marzo.'\u001b[0m,\n",
       "    \u001b[32m'El 9 de julio, en Madrid, \u001b[0m\u001b[32m[\u001b[0m\u001b[32mNombre de la persona que firmó el testamento\u001b[0m\u001b[32m]\u001b[0m\u001b[32m firmó un nuevo testamento que \u001b[0m\n",
       "\u001b[32minvalidaba el anterior de 1666, en el que \u001b[0m\u001b[32m[\u001b[0m\u001b[32mNombre de la persona que firmó el testamento\u001b[0m\u001b[32m]\u001b[0m\u001b[32m declaraba de nuevo ser \u001b[0m\n",
       "\u001b[32mvecino de Madrid, \"que vivo en mis casas propias, en la calle de Cantarranas, Parroquia de San Sebastián, estando \u001b[0m\n",
       "\u001b[32men pie levantado de la cama, aunque con algunos achaques\", y pedía ser sepultado \"sin ataúd en el convento de \u001b[0m\n",
       "\u001b[32mreligiosos descalzos de la Santísima Trinidad desta Corte, en la sepultura que allí tengo mía propia, y donde está \u001b[0m\n",
       "\u001b[32msepultada mi hija Francisca María Pérez\".'\u001b[0m,\n",
       "    \u001b[32m'Aparte del dinero estipulado para misas por el alma de \u001b[0m\u001b[32m[\u001b[0m\u001b[32mNombre de la persona que firmó el testamento\u001b[0m\u001b[32m]\u001b[0m\u001b[32m y \u001b[0m\n",
       "\u001b[32mdetalles de sus honras, entre las limosnas entregaba una de 150 dcs. de vellón para la Cofradía de Nuestra Señora \u001b[0m\n",
       "\u001b[32mde la Novena para ayuda de la fábrica de su capilla, y un pabellón de brocado que tenía en el oratorio de su \u001b[0m\n",
       "\u001b[32mcasa.'\u001b[0m,\n",
       "    \u001b[32m'A su sobrina María de Diego y a su sobrino Francisco de Diego, ya mencionados en el testamento anterior, les \u001b[0m\n",
       "\u001b[32menviaba 150 dcs. y 30 dcs. de vellón, respectivamente, y enviaba 150 dcs. de vellón para ayuda del retablo \"que me \u001b[0m\n",
       "\u001b[32mhan dicho se trata de hacer\" para la imagen de Nuestra Señora del Amparo de la iglesia parroquial de Tudela del \u001b[0m\n",
       "\u001b[32mDuero.'\u001b[0m,\n",
       "    \u001b[32m'Asimismo, ordenaba pagar a su ama Isabel 150 rs. de vellón y el salario que se le debiera, y a Felipe Negro, \u001b[0m\n",
       "\u001b[32msu \"paisano y pariente\", otros 150 rs. y un espadín.'\u001b[0m,\n",
       "    \u001b[32m'Otorgaba a sus albaceas y testamentarios poder para rematar sus bienes y pagar todo lo estipulado en el \u001b[0m\n",
       "\u001b[32mtestamento y, con el sobrante, pagar nuevas misas y limosnas para el alma de Cosme Pérez y la de su hija y \u001b[0m\n",
       "\u001b[32mfamiliares.'\u001b[0m,\n",
       "    \u001b[32m'—A. de la Granja, al publicar el testamento de Cosme Pérez, estimó que el desembolso en las misas previstas \u001b[0m\n",
       "\u001b[32mpor el alma de Cosme Pérez debió de rondar los 7.500 rs. y destaca la preocupación religiosa que manifiesta Cosme \u001b[0m\n",
       "\u001b[32mPérez—.'\u001b[0m\n",
       "\u001b[1m]\u001b[0m\n"
      ]
     },
     "metadata": {},
     "output_type": "display_data"
    }
   ],
   "source": [
    "import rich as rc\n",
    "\n",
    "rc.print(data[data[\"year\"].astype(int) == 1670][\"clarified_sentences\"].values[0])"
   ]
  },
  {
   "cell_type": "code",
   "execution_count": 51,
   "id": "d98b1c2d",
   "metadata": {},
   "outputs": [
    {
     "data": {
      "text/plain": [
       "{'(A. de la Granja)-[estima]-(desembolso)',\n",
       " '(A. de la Granja)-[publica]-(testamento)',\n",
       " '(A. de la Granja)-[publicó]-(testamento)',\n",
       " '(Agustín Merlo)-[mantiene reyerta con]-(Valdés)',\n",
       " '(Andrómeda y Perseo)-[es de]-(Calderón)',\n",
       " '(Andrómeda y Perseo)-[fue]-(\"comedia\")',\n",
       " '(Antonio García de Prado)-[otorga]-(Cosme Pérez)',\n",
       " '(Antonio García de Prado)-[otorga]-(Francisco Ortiz)',\n",
       " '(Antonio de Escamilla)-[debe]-(Cosme Pérez)',\n",
       " '(Antonio de Solís)-[escribe]-(loa)',\n",
       " \"(Antonio de Solís)-[escribió]-('Juan Rana')\",\n",
       " '(Antonio de Solís)-[escribió]-(El infierno de Juan Rana)',\n",
       " '(Baccio del Bianco)-[describe]-((fiesta))',\n",
       " '(Baccio)-[describe]-(loa)',\n",
       " '(Bernarda Ramírez)-[es célebre por]- (Juan Rana)',\n",
       " '(Bernarda Ramírez)-[imitó]-(Juan Rana)',\n",
       " '(Bernarda Ramírez)-[interpreta]-(\"Alma\" de Juan Rana)',\n",
       " '(Bernarda Ramírez)-[interpretó]-(Juan Rana)',\n",
       " '(Bernarda Ramírez)-[intervino]-(El infierno de Juan Rana)',\n",
       " '(Bernarda Ramírez)-[participó en]-(Darlo todo y no dar nada)',\n",
       " '(Bernarda Ramírez)-[participó en]-(El infierno de Juan Rana)',\n",
       " '(Bernardilla)-[no descuida a]-(Juan Rana)',\n",
       " \"(Bianco)-[denomina]-('Juan Rana')\",\n",
       " '(Calderón)-[escribió]-(El infierno de Juan Rana)',\n",
       " '(Catalina de Nicolás y la Rosa)-[comprometía a pagar]-(Pedro de la Rosa)',\n",
       " '(Catalina de Nicolás y la Rosa)-[contrató]-(Cosme Pérez)',\n",
       " '(Cofradía de Nuestra Señora de la Novena)-[ayuda a]-(capilla)',\n",
       " '(Cofradía de Nuestra Señora de la Novena)-[ayuda a]-(fábrica de su capilla)',\n",
       " '(Cofradía de Nuestra Señora de la Novena)-[ayuda]-(capilla)',\n",
       " '(Cofradía de Nuestra Señora de la Novena)-[ayuda]-(fábrica de su capilla)',\n",
       " '(Cofradía de Nuestra Señora de la Novena)-[ayuda]-(retablo)',\n",
       " '(Cofradía de Nuestra Señora de la Novena)-[entrega]-(silleros)',\n",
       " '(Cofradía de Nuestra Señora de la Novena)-[lleva]-(Cosme Pérez)',\n",
       " '(Cofradía de Nuestra Señora de la Novena)-[recoge]- (Mateo Godoy)',\n",
       " '(Cofradía de Nuestra Señora de la Novena)-[recogió]-(limosna)',\n",
       " '(Comedia de Calderón)-[se representó en]-(palacio)',\n",
       " '(Comedia de Calderón)-[tiene]-(Darlo todo y no dar nada)',\n",
       " '(Conde de Altamira)-[responde a]-(Cosme Pérez)',\n",
       " '(Conde de Altamira)-[transmite]-(Cosme Pérez, alias Juan Rana)',\n",
       " '(Cosme Pérez)-[acude]-(Palacio)',\n",
       " '(Cosme Pérez)-[acudió a]-(Palacio)',\n",
       " '(Cosme Pérez)-[alias]-(Juan Rana)',\n",
       " '(Cosme Pérez)-[asistió a]-(Cofradía de Nuestra Señora de la Novena)',\n",
       " '(Cosme Pérez)-[cobraría]-(1.000 rs. de préstamo)',\n",
       " '(Cosme Pérez)-[cobraría]-(12 rs. de ración)',\n",
       " '(Cosme Pérez)-[cobraría]-(20 rs. por representación)',\n",
       " '(Cosme Pérez)-[cobraría]-(50 dcs. por el Corpus)',\n",
       " '(Cosme Pérez)-[compartía con]-(Justo de Lazárraga)',\n",
       " '(Cosme Pérez)-[concedió a]-(Francisca María Pérez)',\n",
       " '(Cosme Pérez)-[consta en]-(un concierto)',\n",
       " '(Cosme Pérez)-[cumple]-(Su Majestad)',\n",
       " '(Cosme Pérez)-[cumplir mandas de]-(testamento)',\n",
       " '(Cosme Pérez)-[declara ser vecino de]-(Madrid)',\n",
       " '(Cosme Pérez)-[dejó]-(albaceas)',\n",
       " '(Cosme Pérez)-[dejó]-(testamentarios)',\n",
       " '(Cosme Pérez)-[disfruta de]-(Francisca María Pérez)',\n",
       " '(Cosme Pérez)-[entrega limosna a]-(Cofradía de Nuestra Señora de la Novena)',\n",
       " '(Cosme Pérez)-[entrega limosnas a]-(Cofradía de Nuestra Señora de la Novena)',\n",
       " '(Cosme Pérez)-[entrega]-(Cofradía de Nuestra Señora de la Novena)',\n",
       " '(Cosme Pérez)-[entrega]-(Francisco de Diego)',\n",
       " '(Cosme Pérez)-[entrega]-(María de Diego)',\n",
       " '(Cosme Pérez)-[es miembro de]-(compañía)',\n",
       " '(Cosme Pérez)-[es representante de]-(Francisca María Pérez)',\n",
       " '(Cosme Pérez)-[es vecino de]-(Madrid)',\n",
       " '(Cosme Pérez)-[figuraba]-(compañía de Pedro de la Rosa)',\n",
       " '(Cosme Pérez)-[firmó]-(Madrid)',\n",
       " '(Cosme Pérez)-[firmó]-(nuevo testamento)',\n",
       " '(Cosme Pérez)-[firmó]-(testamento)',\n",
       " '(Cosme Pérez)-[firmó]-(testamentos)',\n",
       " '(Cosme Pérez)-[goza de]-(ración ordinaria)',\n",
       " '(Cosme Pérez)-[manifiesta]-(preocupación religiosa)',\n",
       " '(Cosme Pérez)-[mencionado en]-(auto de los comisarios del Corpus)',\n",
       " '(Cosme Pérez)-[miembro de]-(compañía de Tomás Fernández)',\n",
       " '(Cosme Pérez)-[no quería representar]-(Pedro de la Rosa)',\n",
       " '(Cosme Pérez)-[pedía ser enterrado en]-(Convento de la Santísima Trinidad de Madrid)',\n",
       " '(Cosme Pérez)-[pertenece a]-(Parroquia de San Sebastián)',\n",
       " '(Cosme Pérez)-[pertenece a]-(la compañía de Pedro de la Rosa)',\n",
       " '(Cosme Pérez)-[pide ser sepultado en]-(convento de religiosos descalzos de la Santísima Trinidad desta Corte)',\n",
       " '(Cosme Pérez)-[recibe]-(10 rs. de ración)',\n",
       " '(Cosme Pérez)-[recibe]-(20 rs. por cada representación)',\n",
       " '(Cosme Pérez)-[recibe]-(50 dcs. por la fiesta del Corpus)',\n",
       " '(Cosme Pérez)-[recibe]-(Reina)',\n",
       " '(Cosme Pérez)-[recibe]-(tres caballerías para los viajes)',\n",
       " '(Cosme Pérez)-[recibió]-(1.000 rs.)',\n",
       " '(Cosme Pérez)-[representa]-(la parte principal de la graciosidad)',\n",
       " '(Cosme Pérez)-[representando]-(auto)',\n",
       " '(Cosme Pérez)-[representando]-(baile)',\n",
       " '(Cosme Pérez)-[representando]-(comedia)',\n",
       " '(Cosme Pérez)-[representando]-(entremés)',\n",
       " '(Cosme Pérez)-[representó a]-(Cofradía de Nuestra Señora de la Novena)',\n",
       " '(Cosme Pérez)-[representó]-(\"Bato\")',\n",
       " '(Cosme Pérez)-[solicita]-(Conde de Altamira)',\n",
       " '(Cosme Pérez)-[solicita]-(real decreto)',\n",
       " '(Cosme Pérez)-[tenía como hija a]-(Francisca María Pérez)',\n",
       " '(Cosme Pérez)-[tenía origen en]-(Tudela del Duero)',\n",
       " '(Cosme Pérez)-[tiene hija]-(Francisca María Pérez)',\n",
       " '(Cosme Pérez)-[vive en]-(casas propias en la calle de Cantarranas)',\n",
       " '(Cosme Pérez)-[vive en]-(casas propias)',\n",
       " '(Cotarelo)-[dató erróneamente]-(fiesta y representación)',\n",
       " '(Cotarelo)-[infiere]-(Libro de la Hacienda de la Cofradía de Nuestra Señora de la Novena)',\n",
       " '(Cotarelo)-[recogió]-(Memorias de Lady Fanshawe)',\n",
       " '(Diego Osorio)-[reunió]-(Darlo todo y no dar nada)',\n",
       " '(Diego de Martos)-[lleva recados a]-(doña Luisa Enríquez Manrique)',\n",
       " '(Duque de Montalto)-[dirige]-(grefier)',\n",
       " '(Duque de Montalto)-[escrito]-(Madrid)',\n",
       " '(Duque de Nájera)-[informa a]-(grefier de la Reina Simón de Alcántara)',\n",
       " '(Duque de Nájera)-[informa]-(grefier de la Reina Simón de Alcántara)',\n",
       " '(El infierno de Juan Rana)-[se representó en]-(palacio)',\n",
       " '(Felipe IV)-[da cuenta a]-(doña Luisa Enríquez Manrique)',\n",
       " '(Felipe IV)-[da cuenta de]-(comedia)',\n",
       " '(Felipe IV)-[daba cuenta a]-(doña Luisa Enríquez Manrique)',\n",
       " '(Felipe IV)-[escribe a]-(doña Luisa Enríquez Manrique de Lara)',\n",
       " '(Felipe IV)-[escribe a]-(doña Luisa Enríquez Manrique)',\n",
       " '(Felipe IV)-[genera]-(expectativa)',\n",
       " '(Felipe IV)-[informa a]-(doña Luisa Enríquez Manrique)',\n",
       " '(Felipe IV)-[menciona]-(Juan Rana)',\n",
       " '(Felipe IV)-[recuerda]-(doña Luisa Enríquez Manrique de Lara)',\n",
       " '(Felipe IV)-[refleja]-(doña Luisa Enríquez Manrique)',\n",
       " '(Felipe IV)-[representada en]-(Coliseo del Buen Retiro)',\n",
       " '(Felipe Negro)-[es pariente de]-(Cosme Pérez)',\n",
       " '(Flora)-[traslada a]-(Juan Rana)',\n",
       " '(Flora)-[traslada]-(Juan Rana)',\n",
       " '(Francisca María Pérez)-[es hija de]-(Cosme Pérez)',\n",
       " '(Francisca María Pérez)-[estaba enterrada en]-(Convento de la Santísima Trinidad de Madrid)',\n",
       " '(Francisca María Pérez)-[está sepultada en]-(convento de religiosos descalzos de la Santísima Trinidad desta Corte)',\n",
       " '(Francisca María Pérez)-[fallece]-(Cosme Pérez)',\n",
       " '(Francisco Ortiz)-[es miembro de]-(compañía)',\n",
       " '(Francisco de Diego)-[envía]-(30 dcs. de vellón)',\n",
       " '(Francisco de Diego)-[vive en]-(Olivares)',\n",
       " '(Infanta Margarita)-[nace de]-(Reina Mariana de Austria)',\n",
       " '(Isabel)-[paga]-(Cosme Pérez)',\n",
       " '(Juan Araña)-[fue la presencia de]-(Cosme Pérez)',\n",
       " '(Juan Araña)-[trabajó en]-(aquí)',\n",
       " '(Juan Rana)-[actuó en]-(Pico y Canente)',\n",
       " '(Juan Rana)-[actúa en]-(Pico y Canente)',\n",
       " '(Juan Rana)-[aparece en]-(Flora)',\n",
       " '(Juan Rana)-[aparece en]-(autos del Corpus)',\n",
       " '(Juan Rana)-[cumple]-(obligaciones)',\n",
       " '(Juan Rana)-[entretiene]-(gente moza)',\n",
       " '(Juan Rana)-[es amigo de]-(doña Luisa Enríquez Manrique)',\n",
       " '(Juan Rana)-[es interpretado por]- (Bernarda Ramírez)',\n",
       " '(Juan Rana)-[es parte de]-(comedia)',\n",
       " '(Juan Rana)-[es traído por]-(Flora)',\n",
       " '(Juan Rana)-[es]-(il Grazzioso della Regina)',\n",
       " '(Juan Rana)-[está en]-(baile)',\n",
       " '(Juan Rana)-[fue liberado]-(Juan Rana)',\n",
       " '(Juan Rana)-[goza por]-(casa de la Reina Mariana de Austria)',\n",
       " '(Juan Rana)-[goza]-(casa de la Reina Mariana de Austria)',\n",
       " '(Juan Rana)-[hace papel en]-(autos)',\n",
       " '(Juan Rana)-[hace]-(papel)',\n",
       " '(Juan Rana)-[inquieta]-(función)',\n",
       " '(Juan Rana)-[interviene en]-(sainete)',\n",
       " '(Juan Rana)-[representa]-(Pico y Canente)',\n",
       " '(Juan Rana)-[tiene]-(buen papel)',\n",
       " '(Libro de la Hacienda de la Cofradía de Nuestra Señora de la Novena)-[consta]-((gasto por el entierro de su mujer, María de Acosta))',\n",
       " '(Lobato)-[observa]-(sainete final de Solís)',\n",
       " '(Luis Quiñones de Benavente)-[hace referencia a]-(escándalo)',\n",
       " '(Luis de Mendoza)-[interviene en]-(sainete)',\n",
       " '(Luis de Ulloa y Pereira)-[escribe]-(Pico y Canente)',\n",
       " '(Luis de Ulloa y Pereira)-[representó]-(Pico y Canente)',\n",
       " '(Luisa Romero)-[interviene en]-(sainete)',\n",
       " '(Luisa Romero)-[participó en]-(Darlo todo y no dar nada)',\n",
       " '(Luisa Romero)-[participó en]-(El infierno de Juan Rana)',\n",
       " '(Luisa)-[canta]-(loa)',\n",
       " '(Mariana Romero)-[canta]-(loa)',\n",
       " '(Mariana)-[participó en]-(Darlo todo y no dar nada)',\n",
       " '(Mariana)-[participó en]-(El infierno de Juan Rana)',\n",
       " '(María de Acosta)-[murió]-(1632)',\n",
       " '(María de Diego)-[envía]-(150 dcs. de vellón)',\n",
       " '(María de Diego)-[vive en]-(Tudela de Duero)',\n",
       " '(María de Prado)-[participó en]-(Darlo todo y no dar nada)',\n",
       " '(María de Prado)-[participó en]-(El infierno de Juan Rana)',\n",
       " '(María de Quiñones)-[participó en]-(Darlo todo y no dar nada)',\n",
       " '(María de Quiñones)-[participó en]-(El infierno de Juan Rana)',\n",
       " '(No se encontraron relaciones explícitas o implícitas entre las entidades en la frase proporcionada y la lista de entidades.)',\n",
       " '(No se encontraron relaciones explícitas o implícitas entre las entidades en la frase proporcionada.)',\n",
       " '(Nuestra Señora del Amparo)-[ubicada en]-(iglesia parroquial de Tudela de Duero)',\n",
       " '(Pedro de la Rosa)-[otorgó]-(Catalina de Nicolás y la Rosa)',\n",
       " '(Pedro de la Rosa)-[representó]-(Cosme Pérez)',\n",
       " '(Reina Mariana de Austria)-[celebra]-(cumpleaños)',\n",
       " '(Reina Mariana de Austria)-[recupera]-(accidente)',\n",
       " '(Reina Mariana de Austria)-[restablece]-(fiesta)',\n",
       " '(Rennert)-[recogió]-(Memorias de Lady Fanshawe)',\n",
       " '(Rey Nuestro Señor)-[está]-(Descalzas)',\n",
       " '(Reyna nuestra señora)-[proporciona]-(despensa)',\n",
       " '(Reyna nuestra señora)-[tiene]-(Francisca María Pérez)',\n",
       " '(Rodrigo de Ávila)-[escribe]-(Pico y Canente)',\n",
       " '(Rodrigo de Ávila)-[representó]-(Pico y Canente)',\n",
       " '(Sebastián de Prado)-[reunió]-(Darlo todo y no dar nada)',\n",
       " '(Su Magestad)-[hace merced a]-(Juan Rana)',\n",
       " '(Su Magestad)-[ordena]-(Juan Rana)',\n",
       " '(actores)-[tenían en]-(iglesia de San Sebastián)',\n",
       " '(albaceas)-[otorgaba poder a]-(testamentarios)',\n",
       " '(albaceas)-[tienen poder de vender]-(bienes)',\n",
       " '(auto de los comisarios del Corpus)-[fechado en]-(Madrid)',\n",
       " '(autos)-[acuden a ver]-(gente)',\n",
       " '(autos)-[se hacen en]-(corral)',\n",
       " '(calle de Cantarranas)-[pertenece a]-(Parroquia de San Sebastián)',\n",
       " '(casa de la Reina Mariana de Austria)-[considera]-(lo que la hace reír)',\n",
       " '(casa de la Reina Mariana de Austria)-[hace]-(reír)',\n",
       " '(casas propias)-[están en]-(calle de Cantarranas)',\n",
       " '(comedia)-[fechada en]-(Madrid)',\n",
       " '(comedia)-[fue representada en]-(Coliseo del Buen Retiro)',\n",
       " '(comedia)-[representada en]-(Coliseo del Buen Retiro)',\n",
       " '(compañía de Tomás Fernández)-[dirigida por]-(Tomás Fernández)',\n",
       " '(desembolso)-[ronda]-(7.500 rs)',\n",
       " '(doña Luisa Enríquez Manrique de Lara)-[ingresa en]-(Convento de San José de Malagón)',\n",
       " '(doña Luisa Enríquez Manrique)-[es amiga de]-(Juan Rana)',\n",
       " '(escenógrafo italiano)-[da cuenta de]-(fiesta)',\n",
       " '(expectativa)-[generada en]-(palacio)',\n",
       " '(fiesta)-[ocurrió durante]-(Carnaval)',\n",
       " '(fiesta)-[se repitió durante]-(cuatro días)',\n",
       " '(fiesta)-[se representó en]-(Coliseo)',\n",
       " '(fiesta)-[tiene lugar en]-(Salón del Palacio del Buen Retiro)',\n",
       " '(fiesta)-[tuvo lugar en]-(febrero)',\n",
       " '(fiesta)-[tuvo lugar en]-(lunes de Carnaval)',\n",
       " '(fiestas de Nuestra Señora de Septiembre)-[incluyó]-(El infierno de Juan Rana)',\n",
       " '(gente)-[tiene buena gana de visitar]-(cassa)',\n",
       " '(grefier de la Reina Simón de Alcántara)-[recibe]-(comunicación)',\n",
       " '(infanta María Teresa)-[organiza]-(fiesta)',\n",
       " '(investigaciones posteriores)-[confirmaron]-(origen de Cosme Pérez)',\n",
       " '(limosna)-[era para]-(capilla)',\n",
       " '(loa de Antonio de Solís)-[acompaña]-(Darlo todo y no dar nada)',\n",
       " '(misas)-[son para]-(alma)',\n",
       " '(misas)-[son para]-(familiares)',\n",
       " '(misas)-[son para]-(hija)',\n",
       " '(nuevo testamento)-[el]-(9 de julio)',\n",
       " '(nuevo testamento)-[en]-(Madrid)',\n",
       " '(palacio)-[ante]-(próxima representación de los autos del Corpus)',\n",
       " '(público)-[asistió a]-(fiesta)',\n",
       " '(ración ordinaria)-[pertenece a]-(casa de la Reyna nuestra señora)',\n",
       " '(retablo)-[destinado a]-(Nuestra Señora del Amparo)',\n",
       " '(testamento)-[invalidaba]-(anterior)',\n",
       " '(testamento)-[prevé]-(misas)',\n",
       " '(un concierto)-[fechado en]-(Madrid)'}"
      ]
     },
     "execution_count": 51,
     "metadata": {},
     "output_type": "execute_result"
    }
   ],
   "source": [
    "unique_relations"
   ]
  },
  {
   "cell_type": "code",
   "execution_count": 18,
   "id": "d96e0e9d",
   "metadata": {},
   "outputs": [],
   "source": [
    "import json\n",
    "\n",
    "with open(\"../out/per_sentence_text_re.json\", \"w\", encoding=\"utf-8\") as fw:\n",
    "    json.dump({key: list(values) for key, values in per_sentence.items()}, fw, ensure_ascii=False, indent=4)"
   ]
  },
  {
   "cell_type": "markdown",
   "id": "ae388d7a",
   "metadata": {},
   "source": [
    "## 2.4. Fourth Approach: Analyze each sentence but with ner extraction per sentence."
   ]
  },
  {
   "cell_type": "code",
   "execution_count": 52,
   "id": "e3b73f49",
   "metadata": {},
   "outputs": [],
   "source": [
    "from langchain_openai import ChatOpenAI\n",
    "from dotenv import load_dotenv\n",
    "import pandas as pd\n",
    "import os"
   ]
  },
  {
   "cell_type": "code",
   "execution_count": 53,
   "id": "11fdb19a",
   "metadata": {},
   "outputs": [],
   "source": [
    "load_dotenv()\n",
    "\n",
    "llm = ChatOpenAI(\n",
    "    model=\"gpt-4.1-mini\",\n",
    "    temperature=0,\n",
    "    api_key=os.getenv(\"OPENAI_API_KEY\"),\n",
    ")"
   ]
  },
  {
   "cell_type": "code",
   "execution_count": 54,
   "id": "6e7d6ee2",
   "metadata": {},
   "outputs": [],
   "source": [
    "import json\n",
    "\n",
    "with open(\"../out/prompting_ners_gpt_4.1_mini.json\", \"r\", encoding=\"utf-8\") as fr:\n",
    "    prompting_ners = json.load(fr)"
   ]
  },
  {
   "cell_type": "code",
   "execution_count": 55,
   "id": "8c53828f",
   "metadata": {},
   "outputs": [],
   "source": [
    "import pandas as pd\n",
    "import ast\n",
    "    \n",
    "data = pd.read_csv(\"../data/DicatJuanRana_w_sentences.csv\", sep=\";\", encoding=\"utf-8\", converters={\"sentences\": ast.literal_eval, \"clarified_sentences\": ast.literal_eval})"
   ]
  },
  {
   "cell_type": "code",
   "execution_count": 57,
   "id": "1819c2be",
   "metadata": {},
   "outputs": [],
   "source": [
    "from langchain.prompts import PromptTemplate\n",
    "\n",
    "ner_extraction_prompt = PromptTemplate(\n",
    "    input_variables=[\"text\"],\n",
    "    template=\"\"\"\n",
    "        Dada la siguiente frase, extrae todas las entidades nombradas (NERs) que aparecen en ella. Las entidades nombradas pueden ser personas, organizaciones, lugares, eventos y obras de arte.\n",
    "        \n",
    "        Las entidades deben expresarse únicamente en el formato:\n",
    "            Entidad: Tipo   \n",
    "        \n",
    "        Donde:\n",
    "        - Entidad es el nombre de la entidad nombrada.\n",
    "        - Tipo es el tipo de entidad (por ejemplo, PER para personas, ORG para organizaciones, LOC para lugares, EVENT para eventos, WORK_OF_ART para obras de arte, GPE para entidades geopolíticas).    \n",
    "        \n",
    "        Salida esperada:\n",
    "            Entidad1: Tipo1\n",
    "            Entidad2: Tipo2\n",
    "            Entidad3: Tipo3\n",
    "            …   \n",
    "        \n",
    "        Muestra la salida únicamente con las entidades encontradas, sin ningún otro texto adicional.\n",
    "        \n",
    "        Frase de entrada:\n",
    "        {text}\n",
    "    \"\"\",\n",
    ")\n",
    "\n",
    "\n",
    "sentence_prompt = PromptTemplate(\n",
    "    input_variables=[\"text\", \"prev_context\", \"entities\"],\n",
    "    template=\"\"\"\n",
    "        Dada la siguiente frase y una lista de entidades nombradas previamente extraídas, identifica todas las relaciones explícitas o implícitas entre las entidades que tanto en la frase como en la lista de entidades.\n",
    "        \n",
    "        Las frases pueden contener un contexto para ayudar a identificar las relaciones (para frases que comiencen con fue..., el cual..., etc.) pero no se deben sacar relaciones del propio contexto.\n",
    "\n",
    "        Las relaciones deben expresarse únicamente en el formato:\n",
    "        (Entidad1)-[relación]-(Entidad2)\n",
    "\n",
    "        Donde:\n",
    "\n",
    "        - Entidad1 y Entidad2 deben coincidir con entidades de la lista proporcionada.\n",
    "\n",
    "        - [relación] debe ser un verbo o una expresión verbal que indique la relación entre las entidades en el contexto del texto.\n",
    "\n",
    "        - Si una relación puede expresarse con sinónimos más generales o normalizados (por ejemplo, \"dirige\", \"es jefe de\" → \"dirige\"), elige el término más general.\n",
    "        \n",
    "        - Ignora relaciones que no se puedan inferir directamente del texto.\n",
    "        \n",
    "        - Haz relaciones que se puedan leer naturalmente, no que suene robotico.\n",
    "\n",
    "        Salida esperada:\n",
    "        (EntidadA)-[relación]-(EntidadB)\n",
    "        (EntidadC)-[relación]-(EntidadD)\n",
    "        …\n",
    "        \n",
    "        Muestra la salida únicamente con las relaciones encontradas, sin ningún otro texto adicional.\n",
    "        \n",
    "        Lista de entidades (NERs):\n",
    "        {entities}\n",
    "\n",
    "        Contexto de la frase (es útil para entender mejor la frase actual de la que se están extrayendo las relaciones):\n",
    "        El texto forma parte de la biografía de Cosme Pérez. \n",
    "        \n",
    "        - Contexto previo a la frase: {prev_context}\n",
    "\n",
    "        Frase de entrada:\n",
    "        {text}\n",
    "    \"\"\",\n",
    ")"
   ]
  },
  {
   "cell_type": "code",
   "execution_count": 66,
   "id": "56f8de9b",
   "metadata": {},
   "outputs": [
    {
     "data": {
      "application/vnd.jupyter.widget-view+json": {
       "model_id": "47b37b2bf38a40bea9eacd5c86aebc0d",
       "version_major": 2,
       "version_minor": 0
      },
      "text/plain": [
       "0it [00:00, ?it/s]"
      ]
     },
     "metadata": {},
     "output_type": "display_data"
    },
    {
     "data": {
      "application/vnd.jupyter.widget-view+json": {
       "model_id": "cc4cc3ed27a540e1948e2354058f0bf4",
       "version_major": 2,
       "version_minor": 0
      },
      "text/plain": [
       "  0%|          | 0/2 [00:00<?, ?it/s]"
      ]
     },
     "metadata": {},
     "output_type": "display_data"
    }
   ],
   "source": [
    "from tqdm.auto import tqdm\n",
    "from collections import defaultdict\n",
    "\n",
    "\n",
    "\n",
    "sentences_of_context = 3 # Number of sentences to consider as context for each sentence\n",
    "\n",
    "total_re_found = 0\n",
    "relations = set()\n",
    "\n",
    "per_sentence = defaultdict(set)\n",
    "years_to_test = [1636, 1643, 1648, 1651, 1653, 1656, 1665, 1666, 1670]\n",
    "\n",
    "\n",
    "for _, year in tqdm(data[data[\"year\"].astype(int) == 1643].iterrows(), position=0):\n",
    "# for _, year in tqdm(data[data[\"year\"].astype(int).isin(years_to_test)].iterrows(), total=len(years_to_test), position=0):\n",
    "        \n",
    "    context = []\n",
    "    sentences = year[\"sentences\"]\n",
    "    \n",
    "    for sentence in tqdm(sentences, position=1, leave=True):\n",
    "        \n",
    "        ners_extracted = llm.invoke(\n",
    "            ner_extraction_prompt.invoke({\n",
    "                \"text\": sentence.strip(),\n",
    "            })\n",
    "        ).content.split(\"\\n\")\n",
    "        \n",
    "        entities = \", \".join([\n",
    "            ner.split(\": \")[0] for ner in ners_extracted\n",
    "        ])\n",
    "\n",
    "        response = llm.invoke(\n",
    "            entire_text_prompt.invoke({\n",
    "                \"text\": sentence.strip(),\n",
    "                \"prev_context\": \"\\n\".join(context),\n",
    "                # \"next_context\": \"\\n\".join(sentences[i+1:i+1+sentences_of_context]),\n",
    "                \"entities\": entities,\n",
    "            })\n",
    "        ).content\n",
    "    \n",
    "        total_re_found += len(response.split(\"\\n\"))\n",
    "\n",
    "        # for relation in response.split(\"\\n\"):\n",
    "        #     relation = relation.strip()\n",
    "        #     if relation and len(relation.split(\"-\")) >= 3:\n",
    "        #         relations.add(relation)\n",
    "        \n",
    "        for relation in response.split(\"\\n\"):\n",
    "            relation = relation.strip()\n",
    "            per_sentence[year[\"year\"]].add(relation)\n",
    "        \n",
    "        # DEBUGGING \n",
    "        # print(\"Relaciones encontradas:\\n\", response.strip())\n",
    "        # print(f\"Frase: {sentence.strip()}\")\n",
    "        # print(f\"Contexto previo: {' '.join(context)}\")\n",
    "        # print(f\"Contexto posterior: {' '.join(sentences[i+1:i+1+sentences_of_context])}\")\n",
    "        # print()\n",
    "        \n",
    "        context.append(sentence.strip())\n",
    "        if len(context) > sentences_of_context:\n",
    "            context = context[-sentences_of_context:]  # Keep only the last 'sentences_of_context' sentences"
   ]
  },
  {
   "cell_type": "code",
   "execution_count": 67,
   "id": "64c3568c",
   "metadata": {},
   "outputs": [],
   "source": [
    "unique_relations = {relation for relations in per_sentence.values() for relation in relations}"
   ]
  },
  {
   "cell_type": "code",
   "execution_count": 68,
   "id": "3fae9629",
   "metadata": {},
   "outputs": [
    {
     "name": "stdout",
     "output_type": "stream",
     "text": [
      "Total de relaciones encontradas: 10, de las cuales 10 son únicas.\n"
     ]
    }
   ],
   "source": [
    "print(f\"Total de relaciones encontradas: {total_re_found}, de las cuales {len(unique_relations)} son únicas.\")"
   ]
  },
  {
   "cell_type": "code",
   "execution_count": 69,
   "id": "65fdc480",
   "metadata": {},
   "outputs": [
    {
     "data": {
      "text/plain": [
       "{'(Catalina de Nicolás y la Rosa)-[contrató en]-(Madrid)',\n",
       " '(Catalina de Nicolás y la Rosa)-[contrató]-(Cosme Pérez)',\n",
       " '(Catalina)-[se comprometía a pagar]-(Murcia)',\n",
       " '(Cosme Pérez)-[figuraba]-(lista de actores)',\n",
       " '(Cosme Pérez)-[formaba parte de]-(compañía de Pedro de la Rosa)',\n",
       " '(Cosme Pérez)-[representó]-(Corpus)',\n",
       " '(Cosme Pérez)-[representó]-(Octava del Corpus)',\n",
       " '(Pedro de la Rosa)-[otorgó poder a]-(Catalina de Nicolás y la Rosa)',\n",
       " '(Pedro de la Rosa)-[representó]-(Corpus)',\n",
       " '(Pedro de la Rosa)-[representó]-(Madrid)'}"
      ]
     },
     "execution_count": 69,
     "metadata": {},
     "output_type": "execute_result"
    }
   ],
   "source": [
    "unique_relations"
   ]
  },
  {
   "cell_type": "code",
   "execution_count": null,
   "id": "2abfba07",
   "metadata": {},
   "outputs": [],
   "source": [
    "import json\n",
    "\n",
    "with open(\"../out/per_sentence_text_re.json\", \"w\", encoding=\"utf-8\") as fw:\n",
    "    json.dump({key: list(values) for key, values in per_sentence.items()}, fw, ensure_ascii=False, indent=4)"
   ]
  },
  {
   "cell_type": "markdown",
   "id": "aea4ce3f",
   "metadata": {},
   "source": [
    "# Test de la mejor combinación"
   ]
  },
  {
   "cell_type": "markdown",
   "id": "65ea66d5",
   "metadata": {},
   "source": [
    "Clarified Text + prev + post\n",
    "\n",
    "```{'(Andrómeda y Perseo)-[es obra de]-(Calderón)',\n",
    " '(Andrómeda y Perseo)-[fue escrita por]-(Calderón)',\n",
    " '(Andrómeda y Perseo)-[se representó en]-(Coliseo del Buen Retiro)',\n",
    " '(Conde de Altamira)-[transmitió respuesta a]-(Cosme Pérez)',\n",
    " '(Cosme Pérez)-[alias]-(Juan Rana)',\n",
    " '(Cosme Pérez)-[es alias de]-(Juan Rana)',\n",
    " '(Cosme Pérez)-[recibió]-(1.000 rs.)',\n",
    " '(Cosme Pérez)-[representó el papel de]-(Bato)',\n",
    " '(Cosme Pérez)-[solicitó]-(paso de una ración ordinaria)',\n",
    " '(Felipe IV)-[daba cuenta a]-(Luisa Enríquez Manrique)',\n",
    " '(Francisca María Pérez)-[es hija de]-(Cosme Pérez)',\n",
    " '(Francisca María Pérez)-[no puede gozar ración si]-(anda en la farsa)',\n",
    " '(Juan Rana)-[cumplió con]-(Andrómeda y Perseo)',\n",
    " '(ración ordinaria)-[goza por]-(casa de la Reyna nuestra señora)',\n",
    " '(ración ordinaria)-[para]-(Francisca María Pérez)'}\n",
    "```\n",
    "\n",
    "Clarified Text + prev\n",
    "\n",
    "```{'(Andrómeda y Perseo)-[es obra de]-(Calderón de la Barca)',\n",
    " '(Andrómeda y Perseo)-[es una comedia de]-(Calderón)',\n",
    " '(Andrómeda y Perseo)-[escrita por]-(Calderón)',\n",
    " '(Andrómeda y Perseo)-[se representó en]-(Coliseo del Buen Retiro)',\n",
    " '(Conde de Altamira)-[transmite respuesta a]-(Cosme Pérez)',\n",
    " '(Cosme Pérez)-[alias]-(Juan Rana)',\n",
    " '(Cosme Pérez)-[es alias de]-(Juan Rana)',\n",
    " '(Cosme Pérez)-[goza]-(casa de la Reyna nuestra señora)',\n",
    " '(Cosme Pérez)-[recibió]-(1.000 rs.)',\n",
    " '(Cosme Pérez)-[representó el papel de]-(Bato)',\n",
    " '(Cosme Pérez)-[solicita]-(Conde de Altamira)',\n",
    " '(Cosme Pérez)-[tiene hija]-(Francisca María Pérez)',\n",
    " '(Felipe IV)-[daba cuenta a]-(Luisa Enríquez Manrique)',\n",
    " '(Francisca María Pérez)-[goza]-(casa de la Reyna nuestra señora)',\n",
    " '(Juan Rana)-[ha cumplido con]-(sus obligaciones)'}\n",
    "```\n",
    "Clarified Text\n",
    "\n",
    "```{'(Andrómeda y Perseo)-[es obra de]-(Calderón)',\n",
    " '(Andrómeda y Perseo)-[fue escrita por]-(Calderón)',\n",
    " '(Andrómeda y Perseo)-[se representó en]-(Coliseo del Buen Retiro)',\n",
    " '(Conde de Altamira)-[transmitió respuesta a]-(Cosme Pérez)',\n",
    " '(Cosme Pérez)-[es alias de]-(Juan Rana)',\n",
    " '(Cosme Pérez)-[recibió]-(fiestas del Corpus de Madrid)',\n",
    " '(Cosme Pérez)-[representó el papel de]-(Bato)',\n",
    " '(Cosme Pérez)-[tiene hija]-(Francisca María Pérez)',\n",
    " '(Felipe IV)-[daba cuenta a]-(Luisa Enríquez Manrique)',\n",
    " '(Juan Rana)-[ha cumplido con]-Andrómeda y Perseo',\n",
    " '(casa de la Reyna nuestra señora)-[proporciona ración a]-(Francisca María Pérez)'}\n",
    "```\n",
    "Texto Normal\n",
    "\n",
    "```{'(Andrómeda y Perseo)-[es obra de]-(Calderón)',\n",
    " '(Comedia)-[se representó en]-(Coliseo del Buen Retiro)',\n",
    " '(Conde de Altamira)-[transmitió respuesta a]-(Cosme Pérez)',\n",
    " '(Cosme Pérez)-[alias]-(Juan Rana)',\n",
    " '(Cosme Pérez)-[recibió]-(fiestas del Corpus de Madrid)',\n",
    " '(Cosme Pérez)-[representó el papel de]-(Bato)',\n",
    " '(Cosme Pérez)-[solicitó]-(Conde de Altamira)',\n",
    " '(Cosme Pérez)-[tiene hija]-(Francisca María Pérez)',\n",
    " '(Felipe IV)-[daba cuenta a]-(Luisa Enríquez Manrique)',\n",
    " '(Francisca María Pérez)-[recibe ración ordinaria de]-(casa de la Reyna nuestra señora)',\n",
    " '(Juan Rana)-[ha cumplido]-(obligaciones)'}\n",
    "```\n",
    "Texto Normal + prev\n",
    "\n",
    "```{'(Andrómeda y Perseo)-[fue obra de]-(Calderón)',\n",
    " '(Comedia)-[se representó en]-(Coliseo del Buen Retiro)',\n",
    " '(Conde de Altamira)-[transmitió respuesta a]-(Cosme Pérez)',\n",
    " '(Cosme Pérez)-[alias]-(Juan Rana)',\n",
    " '(Cosme Pérez)-[recibió]-(1.000 rs.)',\n",
    " '(Cosme Pérez)-[representó el papel de]-(Bato)',\n",
    " '(Cosme Pérez)-[representó]-(Bato)',\n",
    " '(Cosme Pérez)-[solicitó]-(paso de una ración ordinaria)',\n",
    " '(Felipe IV)-[daba cuenta a]-(Luisa Enríquez Manrique)',\n",
    " '(Francisca María Pérez)-[es hija de]-(Cosme Pérez)',\n",
    " '(Juan Rana)-[cumplió]-(obligaciones)',\n",
    " '(Juan Rana)-[ha cumplido con]-(obligaciones)',\n",
    " '(paso de una ración ordinaria)-[goza por]-(casa de la Reyna nuestra señora)',\n",
    " '(paso de una ración ordinaria)-[para]-(Francisca María Pérez)'}\n",
    "```\n",
    "Texto Normal + prev + post\n",
    "\n",
    "```{'(Andrómeda y Perseo)-[fue escrita por]-(Calderón)',\n",
    " '(Comedia)-[fue representada en]-(Coliseo del Buen Retiro)',\n",
    " '(Conde de Altamira)-[transmitió respuesta a]-(Cosme Pérez)',\n",
    " '(Cosme Pérez)-[alias]-(Juan Rana)',\n",
    " '(Cosme Pérez)-[es]-(Juan Rana)',\n",
    " '(Cosme Pérez)-[recibió]-(1.000 rs.)',\n",
    " '(Cosme Pérez)-[representó el papel de]-(Bato)',\n",
    " '(Cosme Pérez)-[representó]-(Bato)',\n",
    " '(Cosme Pérez)-[solicitó]-(Conde de Altamira)',\n",
    " '(Cosme Pérez)-[solicitó]-(paso de una ración ordinaria)',\n",
    " '(Cosme Pérez)-[tiene hija]-(Francisca María Pérez)',\n",
    " '(Felipe IV)-[daba cuenta a]-(Luisa Enríquez Manrique)',\n",
    " '(Francisca María Pérez)-[recibe ración ordinaria de]-(casa de la Reyna nuestra señora)',\n",
    " '(Juan Rana)-[cumplió]-(obligaciones)',\n",
    " '(pasó de una ración ordinaria)-[goza por]-(casa de la Reyna nuestra señora)',\n",
    " '(pasó de una ración ordinaria)-[para]-(Francisca María Pérez)'}\n",
    "```"
   ]
  }
 ],
 "metadata": {
  "kernelspec": {
   "display_name": ".venv",
   "language": "python",
   "name": "python3"
  },
  "language_info": {
   "codemirror_mode": {
    "name": "ipython",
    "version": 3
   },
   "file_extension": ".py",
   "mimetype": "text/x-python",
   "name": "python",
   "nbconvert_exporter": "python",
   "pygments_lexer": "ipython3",
   "version": "3.12.10"
  }
 },
 "nbformat": 4,
 "nbformat_minor": 5
}
