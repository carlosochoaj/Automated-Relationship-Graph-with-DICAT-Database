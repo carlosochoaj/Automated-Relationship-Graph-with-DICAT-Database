{
 "cells": [
  {
   "cell_type": "markdown",
   "id": "8a19d380",
   "metadata": {},
   "source": [
    "## 1. Load NERs extracted previously"
   ]
  },
  {
   "cell_type": "code",
   "execution_count": 1,
   "id": "f4157dfa",
   "metadata": {},
   "outputs": [],
   "source": [
    "import json\n",
    "\n",
    "with open(\"../out/prompting_ners_gpt_4.1_mini.json\", \"r\", encoding=\"utf-8\") as fr:\n",
    "    prompting_ners = json.load(fr)"
   ]
  },
  {
   "cell_type": "markdown",
   "id": "ea2eb015",
   "metadata": {},
   "source": [
    "## 2. Preparing LLM for RE"
   ]
  },
  {
   "cell_type": "code",
   "execution_count": 32,
   "id": "d53780e0",
   "metadata": {},
   "outputs": [],
   "source": [
    "from langchain_openai import ChatOpenAI\n",
    "from dotenv import load_dotenv\n",
    "import os"
   ]
  },
  {
   "cell_type": "code",
   "execution_count": 33,
   "id": "b4bdd7d3",
   "metadata": {},
   "outputs": [],
   "source": [
    "load_dotenv()\n",
    "\n",
    "llm = ChatOpenAI(\n",
    "    model=\"gpt-4.1-mini\",\n",
    "    temperature=0,\n",
    "    api_key=os.getenv(\"OPENAI_API_KEY\"),\n",
    ")"
   ]
  },
  {
   "cell_type": "code",
   "execution_count": 86,
   "id": "aebf84b4",
   "metadata": {},
   "outputs": [],
   "source": [
    "with open(\"../data/introduccion.txt\", \"r\", encoding=\"utf-8\") as fr:\n",
    "    text = fr.read()\n",
    "    \n",
    "with open(\"../data/historia_juan_rana.txt\", \"r\", encoding=\"utf-8\") as fr:\n",
    "    text += fr.read()"
   ]
  },
  {
   "cell_type": "code",
   "execution_count": 34,
   "id": "86000f00",
   "metadata": {},
   "outputs": [],
   "source": [
    "import pandas as pd\n",
    "import ast\n",
    "    \n",
    "data = pd.read_csv(\"../data/DicatJuanRana_w_clarified_sentences.csv\", sep=\";\", encoding=\"utf-8\", converters={\"sentences\": ast.literal_eval, \"clarified_sentences\": ast.literal_eval})"
   ]
  },
  {
   "cell_type": "markdown",
   "id": "803d84ed",
   "metadata": {},
   "source": [
    "### 2.1. First approach: Analyze the entire text passing NERs and text into the prompt"
   ]
  },
  {
   "cell_type": "code",
   "execution_count": 35,
   "id": "f694df1e",
   "metadata": {},
   "outputs": [],
   "source": [
    "from langchain.prompts import PromptTemplate\n",
    "\n",
    "entire_text_prompt = PromptTemplate(\n",
    "    input_variables=[\"text\", \"entities\"],\n",
    "    template=\"\"\"\n",
    "        Dado el siguiente texto y una lista de entidades nombradas previamente extraídas, identifica todas las relaciones explícitas o implícitas entre dichas entidades.\n",
    "\n",
    "        Las relaciones deben expresarse únicamente en el formato:\n",
    "        (Entidad1)-[relación]-(Entidad2)\n",
    "\n",
    "        Donde:\n",
    "\n",
    "        - Entidad1 y Entidad2 deben coincidir con entidades de la lista proporcionada.\n",
    "\n",
    "        - [relación] debe ser un verbo o una expresión verbal que indique la relación entre las entidades en el contexto del texto.\n",
    "\n",
    "        - Si una relación puede expresarse con sinónimos más generales o normalizados (por ejemplo, \"dirige\", \"es jefe de\" → \"dirige\"), elige el término más general.\n",
    "\n",
    "        - Ignora relaciones que no se puedan inferir directamente del texto.\n",
    "\n",
    "        Lista de entidades (NERs):\n",
    "        {entities}\n",
    "\n",
    "        Texto de entrada:\n",
    "        {text}\n",
    "\n",
    "        Salida esperada:\n",
    "        (EntidadA)-[relación]-(EntidadB)\n",
    "        (EntidadC)-[relación]-(EntidadD)\n",
    "        …\n",
    "        \n",
    "        Muestra la salida únicamente con las relaciones encontradas, sin ningún otro texto adicional.\n",
    "    \"\"\",\n",
    ")"
   ]
  },
  {
   "cell_type": "code",
   "execution_count": 36,
   "id": "2860274c",
   "metadata": {},
   "outputs": [],
   "source": [
    "entities = \"\\n\".join([\n",
    "    f\"{key}: {', '.join(values)}\"\n",
    "    for key, values in prompting_ners.items()\n",
    "    if key in [\"PER\", \"LOC\", \"EVENT\", \"WORK_OF_ART\", \"ORG\", \"GPE\"]\n",
    "])\n",
    "\n",
    "# years_to_test = [1636, 1643, 1648, 1651, 1653, 1656, 1665, 1666, 1670]\n",
    "\n",
    "# text = \"\\n\\n\".join(\n",
    "#     text for text in data[data[\"year\"].astype(int).isin(years_to_test)][\"text\"]\n",
    "# )\n",
    "\n",
    "text = \"\\n\\n\".join(\n",
    "    text for text in data[\"text\"]\n",
    ")\n",
    "\n",
    "response = llm.invoke(\n",
    "    entire_text_prompt.invoke({\n",
    "        \"text\": text,\n",
    "        \"entities\": entities,\n",
    "    })\n",
    ").content"
   ]
  },
  {
   "cell_type": "code",
   "execution_count": 37,
   "id": "fb6d244e",
   "metadata": {},
   "outputs": [],
   "source": [
    "relations = response.split(\"\\n\")\n",
    "total_re_found = len(relations)"
   ]
  },
  {
   "cell_type": "code",
   "execution_count": 39,
   "id": "06e44edf",
   "metadata": {},
   "outputs": [
    {
     "name": "stdout",
     "output_type": "stream",
     "text": [
      "Total de relaciones encontradas: 1675, de las cuales 94 son únicas.\n"
     ]
    }
   ],
   "source": [
    "unique_relations = {relation \n",
    "                        for relation in relations \n",
    "                            if relation and len(relation.split(\"-\")) >= 3}\n",
    "\n",
    "print(f\"Total de relaciones encontradas: {total_re_found}, de las cuales {len(unique_relations)} son únicas.\")"
   ]
  },
  {
   "cell_type": "code",
   "execution_count": 41,
   "id": "a938e28d",
   "metadata": {},
   "outputs": [
    {
     "data": {
      "text/plain": [
       "{'(Cosme Pérez)-[actuó en obra de]-(Alonso de Olmedo)  ',\n",
       " '(Cosme Pérez)-[actuó en obra de]-(Ana Coronel)  ',\n",
       " '(Cosme Pérez)-[actuó en obra de]-(Andrés de Claramonte)  ',\n",
       " '(Cosme Pérez)-[actuó en obra de]-(Antonia del Pozo)  ',\n",
       " '(Cosme Pérez)-[actuó en obra de]-(Antonio Marín)  ',\n",
       " '(Cosme Pérez)-[actuó en obra de]-(Antonio Mejía)  ',\n",
       " '(Cosme Pérez)-[actuó en obra de]-(Antonio Ramos)  ',\n",
       " '(Cosme Pérez)-[actuó en obra de]-(Antonio de',\n",
       " '(Cosme Pérez)-[actuó en obra de]-(Antonio de Escamilla)  ',\n",
       " '(Cosme Pérez)-[actuó en obra de]-(Antonio de Prado)  ',\n",
       " '(Cosme Pérez)-[actuó en obra de]-(Antonio de Rueda)  ',\n",
       " '(Cosme Pérez)-[actuó en obra de]-(Antonio de Solís)  ',\n",
       " '(Cosme Pérez)-[actuó en obra de]-(Antonio de Vitoria)  ',\n",
       " '(Cosme Pérez)-[actuó en obra de]-(Antonio de la Granja)  ',\n",
       " '(Cosme Pérez)-[actuó en obra de]-(Antonio de la Rosa)  ',\n",
       " '(Cosme Pérez)-[actuó en obra de]-(Bernarda Manuela)  ',\n",
       " '(Cosme Pérez)-[actuó en obra de]-(Bernarda Ramírez)  ',\n",
       " '(Cosme Pérez)-[actuó en obra de]-(Bernarda)  ',\n",
       " '(Cosme Pérez)-[actuó en obra de]-(Calderón de la Barca)  ',\n",
       " '(Cosme Pérez)-[actuó en obra de]-(Diego Osorio)  ',\n",
       " '(Cosme Pérez)-[actuó en obra de]-(Diego de Silva)  ',\n",
       " '(Cosme Pérez)-[actuó en obra de]-(Francisca Bezón)  ',\n",
       " '(Cosme Pérez)-[actuó en obra de]-(Francisca de Castro)  ',\n",
       " \"(Cosme Pérez)-[actuó en obra de]-(Francisco García 'el Pupilo')  \",\n",
       " '(Cosme Pérez)-[actuó en obra de]-(Francisco Garro de Alegría)  ',\n",
       " '(Cosme Pérez)-[actuó en obra de]-(Francisco Ortiz)  ',\n",
       " '(Cosme Pérez)-[actuó en obra de]-(Francisco Sardeneta y Mendoza)  ',\n",
       " '(Cosme Pérez)-[actuó en obra de]-(Francisco Velasco)  ',\n",
       " '(Cosme Pérez)-[actuó en obra de]-(Francisco de Diego)  ',\n",
       " '(Cosme Pérez)-[actuó en obra de]-(Francisco de Guzmán y Morales)  ',\n",
       " '(Cosme Pérez)-[actuó en obra de]-(Francisco de Velasco)  ',\n",
       " '(Cosme Pérez)-[actuó en obra de]-(Jacinta)  ',\n",
       " '(Cosme Pérez)-[actuó en obra de]-(Jerónima de Olmedo)  ',\n",
       " '(Cosme Pérez)-[actuó en obra de]-(Jerónimo Morales)  ',\n",
       " '(Cosme Pérez)-[actuó en obra de]-(Jerónimo de Barrionuevo)  ',\n",
       " '(Cosme Pérez)-[actuó en obra de]-(Jerónimo de Cáncer)  ',\n",
       " '(Cosme Pérez)-[actuó en obra de]-(Josefa López)  ',\n",
       " '(Cosme Pérez)-[actuó en obra de]-(Josefa Román)  ',\n",
       " '(Cosme Pérez)-[actuó en obra de]-(José Antonio García de Prado)  ',\n",
       " '(Cosme Pérez)-[actuó en obra de]-(José González)  ',\n",
       " '(Cosme Pérez)-[actuó en obra de]-(Juan Araña)  ',\n",
       " '(Cosme Pérez)-[actuó en obra de]-(Juan González)  ',\n",
       " '(Cosme Pérez)-[actuó en obra de]-(Juan Navarro Oliver)  ',\n",
       " '(Cosme Pérez)-[actuó en obra de]-(Juan Navarro de Espinosa)  ',\n",
       " '(Cosme Pérez)-[actuó en obra de]-(Juan Pérez de Montalbán)  ',\n",
       " '(Cosme Pérez)-[actuó en obra de]-(Juan Vélez)  ',\n",
       " '(Cosme Pérez)-[actuó en obra de]-(Juan de Cabanillas)  ',\n",
       " '(Cosme Pérez)-[actuó en obra de]-(Juan de Tapia)  ',\n",
       " '(Cosme Pérez)-[actuó en obra de]-(Juana Caro)  ',\n",
       " '(Cosme Pérez)-[actuó en obra de]-(Lope de Vega)  ',\n",
       " '(Cosme Pérez)-[actuó en obra de]-(Luis López Sustaete)  ',\n",
       " '(Cosme Pérez)-[actuó en obra de]-(Luis de Mendoza)  ',\n",
       " '(Cosme Pérez)-[actuó en obra de]-(Luisa Romero)  ',\n",
       " '(Cosme Pérez)-[actuó en obra de]-(Manuela de Bustamante)  ',\n",
       " '(Cosme Pérez)-[actuó en obra de]-(Manuela de Escamilla)  ',\n",
       " '(Cosme Pérez)-[actuó en obra de]-(Mariana Romero)  ',\n",
       " '(Cosme Pérez)-[actuó en obra de]-(Mariana de Borja)  ',\n",
       " '(Cosme Pérez)-[actuó en obra de]-(María Borja)  ',\n",
       " '(Cosme Pérez)-[actuó en obra de]-(María de Acosta)  ',\n",
       " '(Cosme Pérez)-[actuó en obra de]-(María de Diego)  ',\n",
       " '(Cosme Pérez)-[actuó en obra de]-(María de Prado)  ',\n",
       " '(Cosme Pérez)-[actuó en obra de]-(María de Quiñones)  ',\n",
       " '(Cosme Pérez)-[actuó en obra de]-(Mateo Godoy)  ',\n",
       " '(Cosme Pérez)-[actuó en obra de]-(Mateo de Godoy)  ',\n",
       " '(Cosme Pérez)-[actuó en obra de]-(Micaela Fernández)  ',\n",
       " '(Cosme Pérez)-[actuó en obra de]-(Micaela de Borja)  ',\n",
       " '(Cosme Pérez)-[actuó en obra de]-(Pedro de Cifuentes)  ',\n",
       " '(Cosme Pérez)-[actuó en obra de]-(Pedro de la Rosa)  ',\n",
       " '(Cosme Pérez)-[actuó en obra de]-(Sebastiana Fernández)  ',\n",
       " '(Cosme Pérez)-[actuó en obra de]-(Sebastián de Prado)  ',\n",
       " '(Cosme Pérez)-[actuó en obra de]-(Simón Aguado)  ',\n",
       " '(Cosme Pérez)-[actuó en obra de]-(Simón de Alcántara)  ',\n",
       " '(Cosme Pérez)-[entregó limosna a]-(Cofradía de Nuestra Señora de la Novena)  ',\n",
       " '(Cosme Pérez)-[estuvo casado con]-(Bernarda Manuela)  ',\n",
       " '(Cosme Pérez)-[estuvo casado con]-(Bernarda Ramírez)  ',\n",
       " '(Cosme Pérez)-[estuvo casado con]-(María de Acosta)  ',\n",
       " '(Cosme Pérez)-[formó parte de]-(compañía de Antonio García de Prado)  ',\n",
       " '(Cosme Pérez)-[formó parte de]-(compañía de Antonio de Prado)  ',\n",
       " '(Cosme Pérez)-[formó parte de]-(compañía de Juan Bautista Valenciano)  ',\n",
       " '(Cosme Pérez)-[formó parte de]-(compañía de Luis López Sustaete)  ',\n",
       " '(Cosme Pérez)-[formó parte de]-(compañía de Pedro de la Rosa)  ',\n",
       " '(Cosme Pérez)-[formó parte de]-(compañía de Tomás Fernández Cabredo)  ',\n",
       " '(Cosme Pérez)-[fue conocido artísticamente como]-(Juan Rana)  ',\n",
       " '(Cosme Pérez)-[fue hijo de]-(Damián Pérez)  ',\n",
       " '(Cosme Pérez)-[fue hijo de]-(Isabel de Basto)  ',\n",
       " '(Cosme Pérez)-[fue representado por]-(Pedro de la Rosa)  ',\n",
       " '(Cosme Pérez)-[fue representado por]-(Tomás Fernández)  ',\n",
       " '(Cosme Pérez)-[nació en]-(Tudela de Duero)  ',\n",
       " '(Cosme Pérez)-[recibió limosna de]-(compañía de Pedro de la Rosa)  ',\n",
       " '(Cosme Pérez)-[recibió limosna de]-(compañía de Tomás Fernández Cabredo)  ',\n",
       " '(Cosme Pérez)-[trabajó con]-(Agustín Moreto)  ',\n",
       " '(Cosme Pérez)-[trabajó con]-(Antonio de Solís)  ',\n",
       " '(Cosme Pérez)-[trabajó con]-(Luis Quiñones de Benavente)  ',\n",
       " '(Cosme Pérez)-[tuvo como hija]-(Francisca María Pérez)  '}"
      ]
     },
     "execution_count": 41,
     "metadata": {},
     "output_type": "execute_result"
    }
   ],
   "source": [
    "unique_relations"
   ]
  },
  {
   "cell_type": "code",
   "execution_count": null,
   "id": "a1333aca",
   "metadata": {},
   "outputs": [],
   "source": [
    "import json\n",
    "\n",
    "with open(\"../out/relation_extractions/full_text_re.json\", \"w\", encoding=\"utf-8\") as fw:\n",
    "    json.dump({\"full_text_relations\": list(unique_relations)}, fw, ensure_ascii=False, indent=4)"
   ]
  },
  {
   "cell_type": "code",
   "execution_count": 43,
   "id": "9df41a77",
   "metadata": {},
   "outputs": [],
   "source": [
    "with open(\"../out/relation_extractions/full_text_re.txt\", \"w\", encoding=\"utf-8\") as fw:\n",
    "    relations_to_write = '\\n'.join(rel for rel in relations)\n",
    "    fw.write(relations_to_write)"
   ]
  },
  {
   "cell_type": "markdown",
   "id": "955fc23c",
   "metadata": {},
   "source": [
    "### 2.2. Second approach: Analyze each paragraph"
   ]
  },
  {
   "cell_type": "code",
   "execution_count": 94,
   "id": "ea33397a",
   "metadata": {},
   "outputs": [],
   "source": [
    "from langchain_openai import ChatOpenAI\n",
    "from dotenv import load_dotenv\n",
    "import os"
   ]
  },
  {
   "cell_type": "code",
   "execution_count": 95,
   "id": "9f460a97",
   "metadata": {},
   "outputs": [],
   "source": [
    "load_dotenv()\n",
    "\n",
    "llm = ChatOpenAI(\n",
    "    model=\"gpt-4.1-mini\",\n",
    "    temperature=0,\n",
    "    api_key=os.getenv(\"OPENAI_API_KEY\"),\n",
    ")"
   ]
  },
  {
   "cell_type": "code",
   "execution_count": 102,
   "id": "575139f7",
   "metadata": {},
   "outputs": [],
   "source": [
    "import pandas as pd\n",
    "import ast\n",
    "    \n",
    "data = pd.read_csv(\"../data/DicatJuanRana_w_clarified_sentences.csv\", sep=\";\", encoding=\"utf-8\", converters={\"sentences\": ast.literal_eval, \"clarified_sentences\": ast.literal_eval})"
   ]
  },
  {
   "cell_type": "code",
   "execution_count": 98,
   "id": "3dbdade8",
   "metadata": {},
   "outputs": [],
   "source": [
    "from langchain.prompts import PromptTemplate\n",
    "\n",
    "paragraph_text_prompt = PromptTemplate(\n",
    "    input_variables=[\"text\", \"entities\"],\n",
    "    template=\"\"\"\n",
    "        Dado el siguiente texto y una lista de entidades nombradas previamente extraídas, identifica todas las relaciones explícitas o implícitas entre dichas entidades.\n",
    "\n",
    "        Las relaciones deben expresarse únicamente en el formato:\n",
    "        (Entidad1)-[relación]-(Entidad2)\n",
    "\n",
    "        Donde:\n",
    "\n",
    "        - Entidad1 y Entidad2 deben coincidir con entidades de la lista proporcionada.\n",
    "\n",
    "        - [relación] debe ser un verbo o una expresión verbal que indique la relación entre las entidades en el contexto del texto.\n",
    "\n",
    "        - Si una relación puede expresarse con sinónimos más generales o normalizados (por ejemplo, \"dirige\", \"es jefe de\" → \"dirige\"), elige el término más general.\n",
    "\n",
    "        - Ignora relaciones que no se puedan inferir directamente del texto.\n",
    "\n",
    "        Salida esperada:\n",
    "        (EntidadA)-[relación]-(EntidadB)\n",
    "        (EntidadC)-[relación]-(EntidadD)\n",
    "        …\n",
    "        \n",
    "        Muestra la salida únicamente con las relaciones encontradas, sin ningún otro texto adicional.\n",
    "        Lista de entidades (NERs):\n",
    "        {entities}\n",
    "\n",
    "        Texto de entrada:\n",
    "        {text}\n",
    "    \"\"\",\n",
    ")"
   ]
  },
  {
   "cell_type": "code",
   "execution_count": 103,
   "id": "b68e9c82",
   "metadata": {},
   "outputs": [
    {
     "data": {
      "application/vnd.jupyter.widget-view+json": {
       "model_id": "1f7e1814de3b4447a81c23c76833232e",
       "version_major": 2,
       "version_minor": 0
      },
      "text/plain": [
       "  0%|          | 0/38 [00:00<?, ?it/s]"
      ]
     },
     "metadata": {},
     "output_type": "display_data"
    }
   ],
   "source": [
    "from tqdm.auto import tqdm\n",
    "from collections import defaultdict\n",
    "\n",
    "entities = \"\\n\".join([\n",
    "    f\"{key}: {', '.join(values)}\"\n",
    "    for key, values in prompting_ners.items()\n",
    "])\n",
    "\n",
    "total_re_found = 0\n",
    "\n",
    "per_paragraph = defaultdict(set)\n",
    "\n",
    "for _, row in tqdm(data.iterrows(), total=len(data)):\n",
    "    paragraph = \"\".join(row[\"clarified_sentences\"])\n",
    "\n",
    "    response = llm.invoke(\n",
    "        paragraph_text_prompt.invoke({\n",
    "            \"text\": paragraph,\n",
    "            \"entities\": entities,\n",
    "        })\n",
    "    ).content\n",
    "    \n",
    "    total_re_found += len(response.split(\"\\n\"))\n",
    "\n",
    "    for relation in response.split(\"\\n\"):\n",
    "        relation = relation.strip()\n",
    "        if relation and len(relation.split(\"-\")) >= 3:\n",
    "            per_paragraph[row[\"year\"]].add(relation)"
   ]
  },
  {
   "cell_type": "code",
   "execution_count": 104,
   "id": "8ce6abe9",
   "metadata": {},
   "outputs": [],
   "source": [
    "unique_relations = {relation for relations in per_paragraph.values() for relation in relations}"
   ]
  },
  {
   "cell_type": "code",
   "execution_count": 105,
   "id": "ca768daf",
   "metadata": {},
   "outputs": [
    {
     "name": "stdout",
     "output_type": "stream",
     "text": [
      "Total de relaciones encontradas: 536, de las cuales 519 son únicas.\n"
     ]
    }
   ],
   "source": [
    "print(f\"Total de relaciones encontradas: {total_re_found}, de las cuales {len(unique_relations)} son únicas.\")"
   ]
  },
  {
   "cell_type": "code",
   "execution_count": 106,
   "id": "6c12e51a",
   "metadata": {},
   "outputs": [],
   "source": [
    "import json\n",
    "\n",
    "with open(\"../out/per_paragraph_text_re.json\", \"w\", encoding=\"utf-8\") as fw:\n",
    "    json.dump({key: list(values) for key, values in per_paragraph.items()}, fw, ensure_ascii=False, indent=4)"
   ]
  },
  {
   "cell_type": "markdown",
   "id": "f5296d8c",
   "metadata": {},
   "source": [
    "### 2.3. Third approach: Analyze each sentence with overlap"
   ]
  },
  {
   "cell_type": "code",
   "execution_count": 1,
   "id": "11c1dc66",
   "metadata": {},
   "outputs": [],
   "source": [
    "from langchain_openai import ChatOpenAI\n",
    "from dotenv import load_dotenv\n",
    "import pandas as pd\n",
    "import os"
   ]
  },
  {
   "cell_type": "code",
   "execution_count": 34,
   "id": "7ca012e0",
   "metadata": {},
   "outputs": [],
   "source": [
    "load_dotenv()\n",
    "\n",
    "llm = ChatOpenAI(\n",
    "    model=\"gpt-4o-mini\",\n",
    "    temperature=0,\n",
    "    api_key=os.getenv(\"OPENAI_API_KEY\"),\n",
    ")"
   ]
  },
  {
   "cell_type": "code",
   "execution_count": 3,
   "id": "3f0efe1a",
   "metadata": {},
   "outputs": [],
   "source": [
    "import json\n",
    "\n",
    "with open(\"../out/prompting_ners_gpt_4.1_mini.json\", \"r\", encoding=\"utf-8\") as fr:\n",
    "    prompting_ners = json.load(fr)"
   ]
  },
  {
   "cell_type": "code",
   "execution_count": 10,
   "id": "5eb4215a",
   "metadata": {},
   "outputs": [],
   "source": [
    "import pandas as pd\n",
    "import ast\n",
    "    \n",
    "data = pd.read_csv(\"../data/DicatJuanRana_w_sentences.csv\", sep=\";\", encoding=\"utf-8\", converters={\"sentences\": ast.literal_eval, \"clarified_sentences\": ast.literal_eval})"
   ]
  },
  {
   "cell_type": "code",
   "execution_count": 47,
   "id": "585e6a4e",
   "metadata": {},
   "outputs": [],
   "source": [
    "from langchain.prompts import PromptTemplate\n",
    "\n",
    "entire_text_prompt = PromptTemplate(\n",
    "    input_variables=[\"text\", \"prev_context\", \"entities\"],\n",
    "    template=\"\"\"\n",
    "        Dada la siguiente frase y una lista de entidades nombradas previamente extraídas, identifica todas las relaciones explícitas o implícitas entre las entidades que tanto en la frase como en la lista de entidades.\n",
    "        \n",
    "        Las frases pueden contener un contexto para ayudar a identificar las relaciones (para frases que comiencen con fue..., el cual..., etc.) pero no se deben sacar relaciones del propio contexto.\n",
    "\n",
    "        Las relaciones deben expresarse únicamente en el formato:\n",
    "        (Entidad1)-[relación]-(Entidad2)\n",
    "\n",
    "        Donde:\n",
    "\n",
    "        - Entidad1 y Entidad2 deben coincidir con entidades de la lista proporcionada.\n",
    "\n",
    "        - [relación] debe ser un verbo o una expresión verbal que indique la relación entre las entidades en el contexto del texto.\n",
    "\n",
    "        - Si una relación puede expresarse con sinónimos más generales o normalizados (por ejemplo, \"dirige\", \"es jefe de\" → \"dirige\"), elige el término más general.\n",
    "        \n",
    "        - Ignora relaciones que no se puedan inferir directamente del texto.\n",
    "        \n",
    "        - Haz relaciones que se puedan leer naturalmente, no que suene robotico.\n",
    "\n",
    "        Salida esperada:\n",
    "        (EntidadA)-[relación]-(EntidadB)\n",
    "        (EntidadC)-[relación]-(EntidadD)\n",
    "        …\n",
    "        \n",
    "        Muestra la salida únicamente con las relaciones encontradas, sin ningún otro texto adicional.\n",
    "        \n",
    "        Lista de entidades (NERs):\n",
    "        {entities}\n",
    "\n",
    "        Contexto de la frase (es útil para entender mejor la frase actual de la que se están extrayendo las relaciones):\n",
    "        El texto forma parte de la biografía de Cosme Pérez. \n",
    "        \n",
    "        - Contexto previo a la frase: {prev_context}\n",
    "\n",
    "        Frase de entrada:\n",
    "        {text}\n",
    "    \"\"\",\n",
    ")"
   ]
  },
  {
   "cell_type": "code",
   "execution_count": null,
   "id": "c34ef902",
   "metadata": {},
   "outputs": [
    {
     "data": {
      "application/vnd.jupyter.widget-view+json": {
       "model_id": "ecf590506e264ac090b87e18f2514169",
       "version_major": 2,
       "version_minor": 0
      },
      "text/plain": [
       "  0%|          | 0/9 [00:00<?, ?it/s]"
      ]
     },
     "metadata": {},
     "output_type": "display_data"
    },
    {
     "data": {
      "application/vnd.jupyter.widget-view+json": {
       "model_id": "5485be09d8974f9c8335dddec91b6892",
       "version_major": 2,
       "version_minor": 0
      },
      "text/plain": [
       "  0%|          | 0/9 [00:00<?, ?it/s]"
      ]
     },
     "metadata": {},
     "output_type": "display_data"
    },
    {
     "data": {
      "application/vnd.jupyter.widget-view+json": {
       "model_id": "2744376a593f4718974e26e1371df080",
       "version_major": 2,
       "version_minor": 0
      },
      "text/plain": [
       "  0%|          | 0/2 [00:00<?, ?it/s]"
      ]
     },
     "metadata": {},
     "output_type": "display_data"
    },
    {
     "data": {
      "application/vnd.jupyter.widget-view+json": {
       "model_id": "0ddaef37af434eaa9e4a4ccf2dad3ca0",
       "version_major": 2,
       "version_minor": 0
      },
      "text/plain": [
       "  0%|          | 0/3 [00:00<?, ?it/s]"
      ]
     },
     "metadata": {},
     "output_type": "display_data"
    },
    {
     "data": {
      "application/vnd.jupyter.widget-view+json": {
       "model_id": "b90f4f6874864a9782f379cb7544b024",
       "version_major": 2,
       "version_minor": 0
      },
      "text/plain": [
       "  0%|          | 0/13 [00:00<?, ?it/s]"
      ]
     },
     "metadata": {},
     "output_type": "display_data"
    },
    {
     "data": {
      "application/vnd.jupyter.widget-view+json": {
       "model_id": "a95fb5d730904621a5b905998084af74",
       "version_major": 2,
       "version_minor": 0
      },
      "text/plain": [
       "  0%|          | 0/10 [00:00<?, ?it/s]"
      ]
     },
     "metadata": {},
     "output_type": "display_data"
    },
    {
     "data": {
      "application/vnd.jupyter.widget-view+json": {
       "model_id": "c79f813ff0c64c0488af6e810810d8df",
       "version_major": 2,
       "version_minor": 0
      },
      "text/plain": [
       "  0%|          | 0/10 [00:00<?, ?it/s]"
      ]
     },
     "metadata": {},
     "output_type": "display_data"
    },
    {
     "data": {
      "application/vnd.jupyter.widget-view+json": {
       "model_id": "4ae70e5440034ddab7ed29b8cf0a86d8",
       "version_major": 2,
       "version_minor": 0
      },
      "text/plain": [
       "  0%|          | 0/9 [00:00<?, ?it/s]"
      ]
     },
     "metadata": {},
     "output_type": "display_data"
    },
    {
     "data": {
      "application/vnd.jupyter.widget-view+json": {
       "model_id": "06e57e8c154c40689f36fc4a155e3207",
       "version_major": 2,
       "version_minor": 0
      },
      "text/plain": [
       "  0%|          | 0/18 [00:00<?, ?it/s]"
      ]
     },
     "metadata": {},
     "output_type": "display_data"
    },
    {
     "data": {
      "application/vnd.jupyter.widget-view+json": {
       "model_id": "8170ce6eb1a94759a1030ecefdf36dcc",
       "version_major": 2,
       "version_minor": 0
      },
      "text/plain": [
       "  0%|          | 0/14 [00:00<?, ?it/s]"
      ]
     },
     "metadata": {},
     "output_type": "display_data"
    }
   ],
   "source": [
    "from tqdm.auto import tqdm\n",
    "from collections import defaultdict\n",
    "\n",
    "entities = \"\\n\".join([\n",
    "    f\"{key}: {', '.join(values)}\"\n",
    "    for key, values in prompting_ners.items()\n",
    "    if key in [\"PER\", \"LOC\", \"EVENT\", \"WORK_OF_ART\", \"ORG\", \"GPE\"]\n",
    "])\n",
    "\n",
    "sentences_of_context = 3 # Number of sentences to consider as context for each sentence\n",
    "\n",
    "total_re_found = 0\n",
    "relations = set()\n",
    "\n",
    "per_sentence = defaultdict(set)\n",
    "years_to_test = [1636, 1643, 1648, 1651, 1653, 1656, 1665, 1666, 1670]\n",
    "\n",
    "\n",
    "# for _, year in tqdm(data.iterrows(), total=len(data), position=0):\n",
    "# for _, year in tqdm(data[(data[\"year\"].astype(int) == 1653) | (data[\"year\"].astype(int) == 1656) | (data[\"year\"].astype(int) == 1670)].iterrows(), position=0):\n",
    "# for _, year in tqdm(data[data[\"year\"].astype(int) == 1643].iterrows(), position=0):\n",
    "for _, year in tqdm(data[data[\"year\"].astype(int).isin(years_to_test)].iterrows(), total=len(years_to_test), position=0):\n",
    "        \n",
    "    context = []\n",
    "    sentences = year[\"sentences\"]\n",
    "    \n",
    "    for sentence in tqdm(sentences, position=1, leave=True):\n",
    "\n",
    "        response = llm.invoke(\n",
    "            entire_text_prompt.invoke({\n",
    "                \"text\": sentence.strip(),\n",
    "                \"prev_context\": \"\\n\".join(context),\n",
    "                # \"next_context\": \"\\n\".join(sentences[i+1:i+1+sentences_of_context]),\n",
    "                \"entities\": entities,\n",
    "            })\n",
    "        ).content\n",
    "    \n",
    "        total_re_found += len(response.split(\"\\n\"))\n",
    "\n",
    "        # for relation in response.split(\"\\n\"):\n",
    "        #     relation = relation.strip()\n",
    "        #     if relation and len(relation.split(\"-\")) >= 3:\n",
    "        #         relations.add(relation)\n",
    "        \n",
    "        for relation in response.split(\"\\n\"):\n",
    "            relation = relation.strip()\n",
    "            per_sentence[year[\"year\"]].add(relation)\n",
    "        \n",
    "        # DEBUGGING \n",
    "        # print(\"Relaciones encontradas:\\n\", response.strip())\n",
    "        # print(f\"Frase: {sentence.strip()}\")\n",
    "        # print(f\"Contexto previo: {' '.join(context)}\")\n",
    "        # print(f\"Contexto posterior: {' '.join(sentences[i+1:i+1+sentences_of_context])}\")\n",
    "        # print()\n",
    "        \n",
    "        context.append(sentence.strip())\n",
    "        if len(context) > sentences_of_context:\n",
    "            context = context[-sentences_of_context:]  # Keep only the last 'sentences_of_context' sentences"
   ]
  },
  {
   "cell_type": "code",
   "execution_count": 49,
   "id": "ee2d32bc",
   "metadata": {},
   "outputs": [],
   "source": [
    "unique_relations = {relation for relations in per_sentence.values() for relation in relations}"
   ]
  },
  {
   "cell_type": "code",
   "execution_count": 50,
   "id": "f08286c7",
   "metadata": {},
   "outputs": [
    {
     "name": "stdout",
     "output_type": "stream",
     "text": [
      "Total de relaciones encontradas: 251, de las cuales 235 son únicas.\n"
     ]
    }
   ],
   "source": [
    "print(f\"Total de relaciones encontradas: {total_re_found}, de las cuales {len(unique_relations)} son únicas.\")"
   ]
  },
  {
   "cell_type": "code",
   "execution_count": 5,
   "id": "4f377652",
   "metadata": {},
   "outputs": [
    {
     "data": {
      "text/html": [
       "<pre style=\"white-space:pre;overflow-x:auto;line-height:normal;font-family:Menlo,'DejaVu Sans Mono',consolas,'Courier New',monospace\"><span style=\"font-weight: bold\">[</span>\n",
       "    <span style=\"color: #008000; text-decoration-color: #008000\">'El 9 de julio, en Madrid, firmó un nuevo testamento que invalidaba el anterior de 1666, en el que declaraba de</span>\n",
       "<span style=\"color: #008000; text-decoration-color: #008000\">nuevo ser vecino de Madrid, \"que vivo en mis casas propias, en la calle de Cantarranas, Parroquia de San Sebastián,</span>\n",
       "<span style=\"color: #008000; text-decoration-color: #008000\">estando en pie levantado de la cama, aunque con algunos achaques\", y pedía ser sepultado \"sin ataúd en el convento </span>\n",
       "<span style=\"color: #008000; text-decoration-color: #008000\">de religiosos descalzos de la Santísima Trinidad desta Corte, en la sepultura que allí tengo mía propia, y donde </span>\n",
       "<span style=\"color: #008000; text-decoration-color: #008000\">está sepultada mi hija Francisca María Pérez\".  \\n\\nAparte del dinero estipulado para misas por su alma y detalles </span>\n",
       "<span style=\"color: #008000; text-decoration-color: #008000\">de sus honras, entre las limosnas entregaba una de 150 dcs. de vellón para la Cofradía de Nuestra Señora de la </span>\n",
       "<span style=\"color: #008000; text-decoration-color: #008000\">Novena para ayuda de la fábrica de su capilla, y un pabellón de brocado que tenía en el oratorio de su casa.  \\n\\nA</span>\n",
       "<span style=\"color: #008000; text-decoration-color: #008000\">su sobrina María de Diego y a su sobrino Francisco de Diego, ya mencionados en el testamento anterior, les enviaba </span>\n",
       "<span style=\"color: #008000; text-decoration-color: #008000\">150 dcs. y 30 dcs. de vellón, respectivamente, y 150 dcs. de vellón para ayuda del retablo \"que me han dicho se </span>\n",
       "<span style=\"color: #008000; text-decoration-color: #008000\">trata de hacer\" para la imagen de Nuestra Señora del Amparo de la iglesia parroquial de Tudela del Duero.  </span>\n",
       "<span style=\"color: #008000; text-decoration-color: #008000\">\\n\\n[Nombre de la persona que firmó el testamento] asistió al cabildo de la Cofradía de Nuestra Señora de la Novena</span>\n",
       "<span style=\"color: #008000; text-decoration-color: #008000\">celebrado el 2 de marzo.'</span>,\n",
       "    <span style=\"color: #008000; text-decoration-color: #008000\">'El 9 de julio, en Madrid, [Nombre de la persona que firmó el testamento] firmó un nuevo testamento que </span>\n",
       "<span style=\"color: #008000; text-decoration-color: #008000\">invalidaba el anterior de 1666, en el que [Nombre de la persona que firmó el testamento] declaraba de nuevo ser </span>\n",
       "<span style=\"color: #008000; text-decoration-color: #008000\">vecino de Madrid, \"que vivo en mis casas propias, en la calle de Cantarranas, Parroquia de San Sebastián, estando </span>\n",
       "<span style=\"color: #008000; text-decoration-color: #008000\">en pie levantado de la cama, aunque con algunos achaques\", y pedía ser sepultado \"sin ataúd en el convento de </span>\n",
       "<span style=\"color: #008000; text-decoration-color: #008000\">religiosos descalzos de la Santísima Trinidad desta Corte, en la sepultura que allí tengo mía propia, y donde está </span>\n",
       "<span style=\"color: #008000; text-decoration-color: #008000\">sepultada mi hija Francisca María Pérez\".'</span>,\n",
       "    <span style=\"color: #008000; text-decoration-color: #008000\">'Aparte del dinero estipulado para misas por el alma de [Nombre de la persona que firmó el testamento] y </span>\n",
       "<span style=\"color: #008000; text-decoration-color: #008000\">detalles de sus honras, entre las limosnas entregaba una de 150 dcs. de vellón para la Cofradía de Nuestra Señora </span>\n",
       "<span style=\"color: #008000; text-decoration-color: #008000\">de la Novena para ayuda de la fábrica de su capilla, y un pabellón de brocado que tenía en el oratorio de su </span>\n",
       "<span style=\"color: #008000; text-decoration-color: #008000\">casa.'</span>,\n",
       "    <span style=\"color: #008000; text-decoration-color: #008000\">'A su sobrina María de Diego y a su sobrino Francisco de Diego, ya mencionados en el testamento anterior, les </span>\n",
       "<span style=\"color: #008000; text-decoration-color: #008000\">enviaba 150 dcs. y 30 dcs. de vellón, respectivamente, y enviaba 150 dcs. de vellón para ayuda del retablo \"que me </span>\n",
       "<span style=\"color: #008000; text-decoration-color: #008000\">han dicho se trata de hacer\" para la imagen de Nuestra Señora del Amparo de la iglesia parroquial de Tudela del </span>\n",
       "<span style=\"color: #008000; text-decoration-color: #008000\">Duero.'</span>,\n",
       "    <span style=\"color: #008000; text-decoration-color: #008000\">'Asimismo, ordenaba pagar a su ama Isabel 150 rs. de vellón y el salario que se le debiera, y a Felipe Negro, </span>\n",
       "<span style=\"color: #008000; text-decoration-color: #008000\">su \"paisano y pariente\", otros 150 rs. y un espadín.'</span>,\n",
       "    <span style=\"color: #008000; text-decoration-color: #008000\">'Otorgaba a sus albaceas y testamentarios poder para rematar sus bienes y pagar todo lo estipulado en el </span>\n",
       "<span style=\"color: #008000; text-decoration-color: #008000\">testamento y, con el sobrante, pagar nuevas misas y limosnas para el alma de Cosme Pérez y la de su hija y </span>\n",
       "<span style=\"color: #008000; text-decoration-color: #008000\">familiares.'</span>,\n",
       "    <span style=\"color: #008000; text-decoration-color: #008000\">'—A. de la Granja, al publicar el testamento de Cosme Pérez, estimó que el desembolso en las misas previstas </span>\n",
       "<span style=\"color: #008000; text-decoration-color: #008000\">por el alma de Cosme Pérez debió de rondar los 7.500 rs. y destaca la preocupación religiosa que manifiesta Cosme </span>\n",
       "<span style=\"color: #008000; text-decoration-color: #008000\">Pérez—.'</span>\n",
       "<span style=\"font-weight: bold\">]</span>\n",
       "</pre>\n"
      ],
      "text/plain": [
       "\u001b[1m[\u001b[0m\n",
       "    \u001b[32m'El 9 de julio, en Madrid, firmó un nuevo testamento que invalidaba el anterior de 1666, en el que declaraba de\u001b[0m\n",
       "\u001b[32mnuevo ser vecino de Madrid, \"que vivo en mis casas propias, en la calle de Cantarranas, Parroquia de San Sebastián,\u001b[0m\n",
       "\u001b[32mestando en pie levantado de la cama, aunque con algunos achaques\", y pedía ser sepultado \"sin ataúd en el convento \u001b[0m\n",
       "\u001b[32mde religiosos descalzos de la Santísima Trinidad desta Corte, en la sepultura que allí tengo mía propia, y donde \u001b[0m\n",
       "\u001b[32mestá sepultada mi hija Francisca María Pérez\".  \\n\\nAparte del dinero estipulado para misas por su alma y detalles \u001b[0m\n",
       "\u001b[32mde sus honras, entre las limosnas entregaba una de 150 dcs. de vellón para la Cofradía de Nuestra Señora de la \u001b[0m\n",
       "\u001b[32mNovena para ayuda de la fábrica de su capilla, y un pabellón de brocado que tenía en el oratorio de su casa.  \\n\\nA\u001b[0m\n",
       "\u001b[32msu sobrina María de Diego y a su sobrino Francisco de Diego, ya mencionados en el testamento anterior, les enviaba \u001b[0m\n",
       "\u001b[32m150 dcs. y 30 dcs. de vellón, respectivamente, y 150 dcs. de vellón para ayuda del retablo \"que me han dicho se \u001b[0m\n",
       "\u001b[32mtrata de hacer\" para la imagen de Nuestra Señora del Amparo de la iglesia parroquial de Tudela del Duero.  \u001b[0m\n",
       "\u001b[32m\\n\\n\u001b[0m\u001b[32m[\u001b[0m\u001b[32mNombre de la persona que firmó el testamento\u001b[0m\u001b[32m]\u001b[0m\u001b[32m asistió al cabildo de la Cofradía de Nuestra Señora de la Novena\u001b[0m\n",
       "\u001b[32mcelebrado el 2 de marzo.'\u001b[0m,\n",
       "    \u001b[32m'El 9 de julio, en Madrid, \u001b[0m\u001b[32m[\u001b[0m\u001b[32mNombre de la persona que firmó el testamento\u001b[0m\u001b[32m]\u001b[0m\u001b[32m firmó un nuevo testamento que \u001b[0m\n",
       "\u001b[32minvalidaba el anterior de 1666, en el que \u001b[0m\u001b[32m[\u001b[0m\u001b[32mNombre de la persona que firmó el testamento\u001b[0m\u001b[32m]\u001b[0m\u001b[32m declaraba de nuevo ser \u001b[0m\n",
       "\u001b[32mvecino de Madrid, \"que vivo en mis casas propias, en la calle de Cantarranas, Parroquia de San Sebastián, estando \u001b[0m\n",
       "\u001b[32men pie levantado de la cama, aunque con algunos achaques\", y pedía ser sepultado \"sin ataúd en el convento de \u001b[0m\n",
       "\u001b[32mreligiosos descalzos de la Santísima Trinidad desta Corte, en la sepultura que allí tengo mía propia, y donde está \u001b[0m\n",
       "\u001b[32msepultada mi hija Francisca María Pérez\".'\u001b[0m,\n",
       "    \u001b[32m'Aparte del dinero estipulado para misas por el alma de \u001b[0m\u001b[32m[\u001b[0m\u001b[32mNombre de la persona que firmó el testamento\u001b[0m\u001b[32m]\u001b[0m\u001b[32m y \u001b[0m\n",
       "\u001b[32mdetalles de sus honras, entre las limosnas entregaba una de 150 dcs. de vellón para la Cofradía de Nuestra Señora \u001b[0m\n",
       "\u001b[32mde la Novena para ayuda de la fábrica de su capilla, y un pabellón de brocado que tenía en el oratorio de su \u001b[0m\n",
       "\u001b[32mcasa.'\u001b[0m,\n",
       "    \u001b[32m'A su sobrina María de Diego y a su sobrino Francisco de Diego, ya mencionados en el testamento anterior, les \u001b[0m\n",
       "\u001b[32menviaba 150 dcs. y 30 dcs. de vellón, respectivamente, y enviaba 150 dcs. de vellón para ayuda del retablo \"que me \u001b[0m\n",
       "\u001b[32mhan dicho se trata de hacer\" para la imagen de Nuestra Señora del Amparo de la iglesia parroquial de Tudela del \u001b[0m\n",
       "\u001b[32mDuero.'\u001b[0m,\n",
       "    \u001b[32m'Asimismo, ordenaba pagar a su ama Isabel 150 rs. de vellón y el salario que se le debiera, y a Felipe Negro, \u001b[0m\n",
       "\u001b[32msu \"paisano y pariente\", otros 150 rs. y un espadín.'\u001b[0m,\n",
       "    \u001b[32m'Otorgaba a sus albaceas y testamentarios poder para rematar sus bienes y pagar todo lo estipulado en el \u001b[0m\n",
       "\u001b[32mtestamento y, con el sobrante, pagar nuevas misas y limosnas para el alma de Cosme Pérez y la de su hija y \u001b[0m\n",
       "\u001b[32mfamiliares.'\u001b[0m,\n",
       "    \u001b[32m'—A. de la Granja, al publicar el testamento de Cosme Pérez, estimó que el desembolso en las misas previstas \u001b[0m\n",
       "\u001b[32mpor el alma de Cosme Pérez debió de rondar los 7.500 rs. y destaca la preocupación religiosa que manifiesta Cosme \u001b[0m\n",
       "\u001b[32mPérez—.'\u001b[0m\n",
       "\u001b[1m]\u001b[0m\n"
      ]
     },
     "metadata": {},
     "output_type": "display_data"
    }
   ],
   "source": [
    "import rich as rc\n",
    "\n",
    "rc.print(data[data[\"year\"].astype(int) == 1670][\"clarified_sentences\"].values[0])"
   ]
  },
  {
   "cell_type": "code",
   "execution_count": 51,
   "id": "d98b1c2d",
   "metadata": {},
   "outputs": [
    {
     "data": {
      "text/plain": [
       "{'(A. de la Granja)-[estima]-(desembolso)',\n",
       " '(A. de la Granja)-[publica]-(testamento)',\n",
       " '(A. de la Granja)-[publicó]-(testamento)',\n",
       " '(Agustín Merlo)-[mantiene reyerta con]-(Valdés)',\n",
       " '(Andrómeda y Perseo)-[es de]-(Calderón)',\n",
       " '(Andrómeda y Perseo)-[fue]-(\"comedia\")',\n",
       " '(Antonio García de Prado)-[otorga]-(Cosme Pérez)',\n",
       " '(Antonio García de Prado)-[otorga]-(Francisco Ortiz)',\n",
       " '(Antonio de Escamilla)-[debe]-(Cosme Pérez)',\n",
       " '(Antonio de Solís)-[escribe]-(loa)',\n",
       " \"(Antonio de Solís)-[escribió]-('Juan Rana')\",\n",
       " '(Antonio de Solís)-[escribió]-(El infierno de Juan Rana)',\n",
       " '(Baccio del Bianco)-[describe]-((fiesta))',\n",
       " '(Baccio)-[describe]-(loa)',\n",
       " '(Bernarda Ramírez)-[es célebre por]- (Juan Rana)',\n",
       " '(Bernarda Ramírez)-[imitó]-(Juan Rana)',\n",
       " '(Bernarda Ramírez)-[interpreta]-(\"Alma\" de Juan Rana)',\n",
       " '(Bernarda Ramírez)-[interpretó]-(Juan Rana)',\n",
       " '(Bernarda Ramírez)-[intervino]-(El infierno de Juan Rana)',\n",
       " '(Bernarda Ramírez)-[participó en]-(Darlo todo y no dar nada)',\n",
       " '(Bernarda Ramírez)-[participó en]-(El infierno de Juan Rana)',\n",
       " '(Bernardilla)-[no descuida a]-(Juan Rana)',\n",
       " \"(Bianco)-[denomina]-('Juan Rana')\",\n",
       " '(Calderón)-[escribió]-(El infierno de Juan Rana)',\n",
       " '(Catalina de Nicolás y la Rosa)-[comprometía a pagar]-(Pedro de la Rosa)',\n",
       " '(Catalina de Nicolás y la Rosa)-[contrató]-(Cosme Pérez)',\n",
       " '(Cofradía de Nuestra Señora de la Novena)-[ayuda a]-(capilla)',\n",
       " '(Cofradía de Nuestra Señora de la Novena)-[ayuda a]-(fábrica de su capilla)',\n",
       " '(Cofradía de Nuestra Señora de la Novena)-[ayuda]-(capilla)',\n",
       " '(Cofradía de Nuestra Señora de la Novena)-[ayuda]-(fábrica de su capilla)',\n",
       " '(Cofradía de Nuestra Señora de la Novena)-[ayuda]-(retablo)',\n",
       " '(Cofradía de Nuestra Señora de la Novena)-[entrega]-(silleros)',\n",
       " '(Cofradía de Nuestra Señora de la Novena)-[lleva]-(Cosme Pérez)',\n",
       " '(Cofradía de Nuestra Señora de la Novena)-[recoge]- (Mateo Godoy)',\n",
       " '(Cofradía de Nuestra Señora de la Novena)-[recogió]-(limosna)',\n",
       " '(Comedia de Calderón)-[se representó en]-(palacio)',\n",
       " '(Comedia de Calderón)-[tiene]-(Darlo todo y no dar nada)',\n",
       " '(Conde de Altamira)-[responde a]-(Cosme Pérez)',\n",
       " '(Conde de Altamira)-[transmite]-(Cosme Pérez, alias Juan Rana)',\n",
       " '(Cosme Pérez)-[acude]-(Palacio)',\n",
       " '(Cosme Pérez)-[acudió a]-(Palacio)',\n",
       " '(Cosme Pérez)-[alias]-(Juan Rana)',\n",
       " '(Cosme Pérez)-[asistió a]-(Cofradía de Nuestra Señora de la Novena)',\n",
       " '(Cosme Pérez)-[cobraría]-(1.000 rs. de préstamo)',\n",
       " '(Cosme Pérez)-[cobraría]-(12 rs. de ración)',\n",
       " '(Cosme Pérez)-[cobraría]-(20 rs. por representación)',\n",
       " '(Cosme Pérez)-[cobraría]-(50 dcs. por el Corpus)',\n",
       " '(Cosme Pérez)-[compartía con]-(Justo de Lazárraga)',\n",
       " '(Cosme Pérez)-[concedió a]-(Francisca María Pérez)',\n",
       " '(Cosme Pérez)-[consta en]-(un concierto)',\n",
       " '(Cosme Pérez)-[cumple]-(Su Majestad)',\n",
       " '(Cosme Pérez)-[cumplir mandas de]-(testamento)',\n",
       " '(Cosme Pérez)-[declara ser vecino de]-(Madrid)',\n",
       " '(Cosme Pérez)-[dejó]-(albaceas)',\n",
       " '(Cosme Pérez)-[dejó]-(testamentarios)',\n",
       " '(Cosme Pérez)-[disfruta de]-(Francisca María Pérez)',\n",
       " '(Cosme Pérez)-[entrega limosna a]-(Cofradía de Nuestra Señora de la Novena)',\n",
       " '(Cosme Pérez)-[entrega limosnas a]-(Cofradía de Nuestra Señora de la Novena)',\n",
       " '(Cosme Pérez)-[entrega]-(Cofradía de Nuestra Señora de la Novena)',\n",
       " '(Cosme Pérez)-[entrega]-(Francisco de Diego)',\n",
       " '(Cosme Pérez)-[entrega]-(María de Diego)',\n",
       " '(Cosme Pérez)-[es miembro de]-(compañía)',\n",
       " '(Cosme Pérez)-[es representante de]-(Francisca María Pérez)',\n",
       " '(Cosme Pérez)-[es vecino de]-(Madrid)',\n",
       " '(Cosme Pérez)-[figuraba]-(compañía de Pedro de la Rosa)',\n",
       " '(Cosme Pérez)-[firmó]-(Madrid)',\n",
       " '(Cosme Pérez)-[firmó]-(nuevo testamento)',\n",
       " '(Cosme Pérez)-[firmó]-(testamento)',\n",
       " '(Cosme Pérez)-[firmó]-(testamentos)',\n",
       " '(Cosme Pérez)-[goza de]-(ración ordinaria)',\n",
       " '(Cosme Pérez)-[manifiesta]-(preocupación religiosa)',\n",
       " '(Cosme Pérez)-[mencionado en]-(auto de los comisarios del Corpus)',\n",
       " '(Cosme Pérez)-[miembro de]-(compañía de Tomás Fernández)',\n",
       " '(Cosme Pérez)-[no quería representar]-(Pedro de la Rosa)',\n",
       " '(Cosme Pérez)-[pedía ser enterrado en]-(Convento de la Santísima Trinidad de Madrid)',\n",
       " '(Cosme Pérez)-[pertenece a]-(Parroquia de San Sebastián)',\n",
       " '(Cosme Pérez)-[pertenece a]-(la compañía de Pedro de la Rosa)',\n",
       " '(Cosme Pérez)-[pide ser sepultado en]-(convento de religiosos descalzos de la Santísima Trinidad desta Corte)',\n",
       " '(Cosme Pérez)-[recibe]-(10 rs. de ración)',\n",
       " '(Cosme Pérez)-[recibe]-(20 rs. por cada representación)',\n",
       " '(Cosme Pérez)-[recibe]-(50 dcs. por la fiesta del Corpus)',\n",
       " '(Cosme Pérez)-[recibe]-(Reina)',\n",
       " '(Cosme Pérez)-[recibe]-(tres caballerías para los viajes)',\n",
       " '(Cosme Pérez)-[recibió]-(1.000 rs.)',\n",
       " '(Cosme Pérez)-[representa]-(la parte principal de la graciosidad)',\n",
       " '(Cosme Pérez)-[representando]-(auto)',\n",
       " '(Cosme Pérez)-[representando]-(baile)',\n",
       " '(Cosme Pérez)-[representando]-(comedia)',\n",
       " '(Cosme Pérez)-[representando]-(entremés)',\n",
       " '(Cosme Pérez)-[representó a]-(Cofradía de Nuestra Señora de la Novena)',\n",
       " '(Cosme Pérez)-[representó]-(\"Bato\")',\n",
       " '(Cosme Pérez)-[solicita]-(Conde de Altamira)',\n",
       " '(Cosme Pérez)-[solicita]-(real decreto)',\n",
       " '(Cosme Pérez)-[tenía como hija a]-(Francisca María Pérez)',\n",
       " '(Cosme Pérez)-[tenía origen en]-(Tudela del Duero)',\n",
       " '(Cosme Pérez)-[tiene hija]-(Francisca María Pérez)',\n",
       " '(Cosme Pérez)-[vive en]-(casas propias en la calle de Cantarranas)',\n",
       " '(Cosme Pérez)-[vive en]-(casas propias)',\n",
       " '(Cotarelo)-[dató erróneamente]-(fiesta y representación)',\n",
       " '(Cotarelo)-[infiere]-(Libro de la Hacienda de la Cofradía de Nuestra Señora de la Novena)',\n",
       " '(Cotarelo)-[recogió]-(Memorias de Lady Fanshawe)',\n",
       " '(Diego Osorio)-[reunió]-(Darlo todo y no dar nada)',\n",
       " '(Diego de Martos)-[lleva recados a]-(doña Luisa Enríquez Manrique)',\n",
       " '(Duque de Montalto)-[dirige]-(grefier)',\n",
       " '(Duque de Montalto)-[escrito]-(Madrid)',\n",
       " '(Duque de Nájera)-[informa a]-(grefier de la Reina Simón de Alcántara)',\n",
       " '(Duque de Nájera)-[informa]-(grefier de la Reina Simón de Alcántara)',\n",
       " '(El infierno de Juan Rana)-[se representó en]-(palacio)',\n",
       " '(Felipe IV)-[da cuenta a]-(doña Luisa Enríquez Manrique)',\n",
       " '(Felipe IV)-[da cuenta de]-(comedia)',\n",
       " '(Felipe IV)-[daba cuenta a]-(doña Luisa Enríquez Manrique)',\n",
       " '(Felipe IV)-[escribe a]-(doña Luisa Enríquez Manrique de Lara)',\n",
       " '(Felipe IV)-[escribe a]-(doña Luisa Enríquez Manrique)',\n",
       " '(Felipe IV)-[genera]-(expectativa)',\n",
       " '(Felipe IV)-[informa a]-(doña Luisa Enríquez Manrique)',\n",
       " '(Felipe IV)-[menciona]-(Juan Rana)',\n",
       " '(Felipe IV)-[recuerda]-(doña Luisa Enríquez Manrique de Lara)',\n",
       " '(Felipe IV)-[refleja]-(doña Luisa Enríquez Manrique)',\n",
       " '(Felipe IV)-[representada en]-(Coliseo del Buen Retiro)',\n",
       " '(Felipe Negro)-[es pariente de]-(Cosme Pérez)',\n",
       " '(Flora)-[traslada a]-(Juan Rana)',\n",
       " '(Flora)-[traslada]-(Juan Rana)',\n",
       " '(Francisca María Pérez)-[es hija de]-(Cosme Pérez)',\n",
       " '(Francisca María Pérez)-[estaba enterrada en]-(Convento de la Santísima Trinidad de Madrid)',\n",
       " '(Francisca María Pérez)-[está sepultada en]-(convento de religiosos descalzos de la Santísima Trinidad desta Corte)',\n",
       " '(Francisca María Pérez)-[fallece]-(Cosme Pérez)',\n",
       " '(Francisco Ortiz)-[es miembro de]-(compañía)',\n",
       " '(Francisco de Diego)-[envía]-(30 dcs. de vellón)',\n",
       " '(Francisco de Diego)-[vive en]-(Olivares)',\n",
       " '(Infanta Margarita)-[nace de]-(Reina Mariana de Austria)',\n",
       " '(Isabel)-[paga]-(Cosme Pérez)',\n",
       " '(Juan Araña)-[fue la presencia de]-(Cosme Pérez)',\n",
       " '(Juan Araña)-[trabajó en]-(aquí)',\n",
       " '(Juan Rana)-[actuó en]-(Pico y Canente)',\n",
       " '(Juan Rana)-[actúa en]-(Pico y Canente)',\n",
       " '(Juan Rana)-[aparece en]-(Flora)',\n",
       " '(Juan Rana)-[aparece en]-(autos del Corpus)',\n",
       " '(Juan Rana)-[cumple]-(obligaciones)',\n",
       " '(Juan Rana)-[entretiene]-(gente moza)',\n",
       " '(Juan Rana)-[es amigo de]-(doña Luisa Enríquez Manrique)',\n",
       " '(Juan Rana)-[es interpretado por]- (Bernarda Ramírez)',\n",
       " '(Juan Rana)-[es parte de]-(comedia)',\n",
       " '(Juan Rana)-[es traído por]-(Flora)',\n",
       " '(Juan Rana)-[es]-(il Grazzioso della Regina)',\n",
       " '(Juan Rana)-[está en]-(baile)',\n",
       " '(Juan Rana)-[fue liberado]-(Juan Rana)',\n",
       " '(Juan Rana)-[goza por]-(casa de la Reina Mariana de Austria)',\n",
       " '(Juan Rana)-[goza]-(casa de la Reina Mariana de Austria)',\n",
       " '(Juan Rana)-[hace papel en]-(autos)',\n",
       " '(Juan Rana)-[hace]-(papel)',\n",
       " '(Juan Rana)-[inquieta]-(función)',\n",
       " '(Juan Rana)-[interviene en]-(sainete)',\n",
       " '(Juan Rana)-[representa]-(Pico y Canente)',\n",
       " '(Juan Rana)-[tiene]-(buen papel)',\n",
       " '(Libro de la Hacienda de la Cofradía de Nuestra Señora de la Novena)-[consta]-((gasto por el entierro de su mujer, María de Acosta))',\n",
       " '(Lobato)-[observa]-(sainete final de Solís)',\n",
       " '(Luis Quiñones de Benavente)-[hace referencia a]-(escándalo)',\n",
       " '(Luis de Mendoza)-[interviene en]-(sainete)',\n",
       " '(Luis de Ulloa y Pereira)-[escribe]-(Pico y Canente)',\n",
       " '(Luis de Ulloa y Pereira)-[representó]-(Pico y Canente)',\n",
       " '(Luisa Romero)-[interviene en]-(sainete)',\n",
       " '(Luisa Romero)-[participó en]-(Darlo todo y no dar nada)',\n",
       " '(Luisa Romero)-[participó en]-(El infierno de Juan Rana)',\n",
       " '(Luisa)-[canta]-(loa)',\n",
       " '(Mariana Romero)-[canta]-(loa)',\n",
       " '(Mariana)-[participó en]-(Darlo todo y no dar nada)',\n",
       " '(Mariana)-[participó en]-(El infierno de Juan Rana)',\n",
       " '(María de Acosta)-[murió]-(1632)',\n",
       " '(María de Diego)-[envía]-(150 dcs. de vellón)',\n",
       " '(María de Diego)-[vive en]-(Tudela de Duero)',\n",
       " '(María de Prado)-[participó en]-(Darlo todo y no dar nada)',\n",
       " '(María de Prado)-[participó en]-(El infierno de Juan Rana)',\n",
       " '(María de Quiñones)-[participó en]-(Darlo todo y no dar nada)',\n",
       " '(María de Quiñones)-[participó en]-(El infierno de Juan Rana)',\n",
       " '(No se encontraron relaciones explícitas o implícitas entre las entidades en la frase proporcionada y la lista de entidades.)',\n",
       " '(No se encontraron relaciones explícitas o implícitas entre las entidades en la frase proporcionada.)',\n",
       " '(Nuestra Señora del Amparo)-[ubicada en]-(iglesia parroquial de Tudela de Duero)',\n",
       " '(Pedro de la Rosa)-[otorgó]-(Catalina de Nicolás y la Rosa)',\n",
       " '(Pedro de la Rosa)-[representó]-(Cosme Pérez)',\n",
       " '(Reina Mariana de Austria)-[celebra]-(cumpleaños)',\n",
       " '(Reina Mariana de Austria)-[recupera]-(accidente)',\n",
       " '(Reina Mariana de Austria)-[restablece]-(fiesta)',\n",
       " '(Rennert)-[recogió]-(Memorias de Lady Fanshawe)',\n",
       " '(Rey Nuestro Señor)-[está]-(Descalzas)',\n",
       " '(Reyna nuestra señora)-[proporciona]-(despensa)',\n",
       " '(Reyna nuestra señora)-[tiene]-(Francisca María Pérez)',\n",
       " '(Rodrigo de Ávila)-[escribe]-(Pico y Canente)',\n",
       " '(Rodrigo de Ávila)-[representó]-(Pico y Canente)',\n",
       " '(Sebastián de Prado)-[reunió]-(Darlo todo y no dar nada)',\n",
       " '(Su Magestad)-[hace merced a]-(Juan Rana)',\n",
       " '(Su Magestad)-[ordena]-(Juan Rana)',\n",
       " '(actores)-[tenían en]-(iglesia de San Sebastián)',\n",
       " '(albaceas)-[otorgaba poder a]-(testamentarios)',\n",
       " '(albaceas)-[tienen poder de vender]-(bienes)',\n",
       " '(auto de los comisarios del Corpus)-[fechado en]-(Madrid)',\n",
       " '(autos)-[acuden a ver]-(gente)',\n",
       " '(autos)-[se hacen en]-(corral)',\n",
       " '(calle de Cantarranas)-[pertenece a]-(Parroquia de San Sebastián)',\n",
       " '(casa de la Reina Mariana de Austria)-[considera]-(lo que la hace reír)',\n",
       " '(casa de la Reina Mariana de Austria)-[hace]-(reír)',\n",
       " '(casas propias)-[están en]-(calle de Cantarranas)',\n",
       " '(comedia)-[fechada en]-(Madrid)',\n",
       " '(comedia)-[fue representada en]-(Coliseo del Buen Retiro)',\n",
       " '(comedia)-[representada en]-(Coliseo del Buen Retiro)',\n",
       " '(compañía de Tomás Fernández)-[dirigida por]-(Tomás Fernández)',\n",
       " '(desembolso)-[ronda]-(7.500 rs)',\n",
       " '(doña Luisa Enríquez Manrique de Lara)-[ingresa en]-(Convento de San José de Malagón)',\n",
       " '(doña Luisa Enríquez Manrique)-[es amiga de]-(Juan Rana)',\n",
       " '(escenógrafo italiano)-[da cuenta de]-(fiesta)',\n",
       " '(expectativa)-[generada en]-(palacio)',\n",
       " '(fiesta)-[ocurrió durante]-(Carnaval)',\n",
       " '(fiesta)-[se repitió durante]-(cuatro días)',\n",
       " '(fiesta)-[se representó en]-(Coliseo)',\n",
       " '(fiesta)-[tiene lugar en]-(Salón del Palacio del Buen Retiro)',\n",
       " '(fiesta)-[tuvo lugar en]-(febrero)',\n",
       " '(fiesta)-[tuvo lugar en]-(lunes de Carnaval)',\n",
       " '(fiestas de Nuestra Señora de Septiembre)-[incluyó]-(El infierno de Juan Rana)',\n",
       " '(gente)-[tiene buena gana de visitar]-(cassa)',\n",
       " '(grefier de la Reina Simón de Alcántara)-[recibe]-(comunicación)',\n",
       " '(infanta María Teresa)-[organiza]-(fiesta)',\n",
       " '(investigaciones posteriores)-[confirmaron]-(origen de Cosme Pérez)',\n",
       " '(limosna)-[era para]-(capilla)',\n",
       " '(loa de Antonio de Solís)-[acompaña]-(Darlo todo y no dar nada)',\n",
       " '(misas)-[son para]-(alma)',\n",
       " '(misas)-[son para]-(familiares)',\n",
       " '(misas)-[son para]-(hija)',\n",
       " '(nuevo testamento)-[el]-(9 de julio)',\n",
       " '(nuevo testamento)-[en]-(Madrid)',\n",
       " '(palacio)-[ante]-(próxima representación de los autos del Corpus)',\n",
       " '(público)-[asistió a]-(fiesta)',\n",
       " '(ración ordinaria)-[pertenece a]-(casa de la Reyna nuestra señora)',\n",
       " '(retablo)-[destinado a]-(Nuestra Señora del Amparo)',\n",
       " '(testamento)-[invalidaba]-(anterior)',\n",
       " '(testamento)-[prevé]-(misas)',\n",
       " '(un concierto)-[fechado en]-(Madrid)'}"
      ]
     },
     "execution_count": 51,
     "metadata": {},
     "output_type": "execute_result"
    }
   ],
   "source": [
    "unique_relations"
   ]
  },
  {
   "cell_type": "code",
   "execution_count": 18,
   "id": "d96e0e9d",
   "metadata": {},
   "outputs": [],
   "source": [
    "import json\n",
    "\n",
    "with open(\"../out/per_sentence_text_re.json\", \"w\", encoding=\"utf-8\") as fw:\n",
    "    json.dump({key: list(values) for key, values in per_sentence.items()}, fw, ensure_ascii=False, indent=4)"
   ]
  },
  {
   "cell_type": "markdown",
   "id": "ae388d7a",
   "metadata": {},
   "source": [
    "### 2.4. Fourth Approach: Analyze each sentence but with ner extraction per sentence."
   ]
  },
  {
   "cell_type": "code",
   "execution_count": 18,
   "id": "e3b73f49",
   "metadata": {},
   "outputs": [],
   "source": [
    "from langchain_openai import ChatOpenAI\n",
    "from dotenv import load_dotenv\n",
    "import pandas as pd\n",
    "import os"
   ]
  },
  {
   "cell_type": "code",
   "execution_count": 19,
   "id": "11fdb19a",
   "metadata": {},
   "outputs": [],
   "source": [
    "load_dotenv()\n",
    "\n",
    "llm = ChatOpenAI(\n",
    "    model=\"gpt-4.1-mini\",\n",
    "    temperature=0,\n",
    "    api_key=os.getenv(\"OPENAI_API_KEY\"),\n",
    ")"
   ]
  },
  {
   "cell_type": "code",
   "execution_count": 21,
   "id": "6e7d6ee2",
   "metadata": {},
   "outputs": [],
   "source": [
    "import json\n",
    "\n",
    "with open(\"../out/ners_extractions/prompting_ners_gpt_4.1_mini.json\", \"r\", encoding=\"utf-8\") as fr:\n",
    "    prompting_ners = json.load(fr)"
   ]
  },
  {
   "cell_type": "code",
   "execution_count": 22,
   "id": "8c53828f",
   "metadata": {},
   "outputs": [],
   "source": [
    "import pandas as pd\n",
    "import ast\n",
    "    \n",
    "data = pd.read_csv(\"../data/DicatJuanRana_w_sentences.csv\", sep=\";\", encoding=\"utf-8\", converters={\"sentences\": ast.literal_eval, \"clarified_sentences\": ast.literal_eval})"
   ]
  },
  {
   "cell_type": "code",
   "execution_count": 23,
   "id": "1819c2be",
   "metadata": {},
   "outputs": [],
   "source": [
    "from langchain.prompts import PromptTemplate\n",
    "\n",
    "ner_extraction_prompt = PromptTemplate(\n",
    "    input_variables=[\"text\"],\n",
    "    template=\"\"\"\n",
    "        Dada la siguiente frase, extrae todas las entidades nombradas (NERs) que aparecen en ella. Las entidades nombradas pueden ser personas, organizaciones, lugares, eventos y obras de arte.\n",
    "        \n",
    "        Las entidades deben expresarse únicamente en el formato:\n",
    "            Entidad: Tipo   \n",
    "        \n",
    "        Donde:\n",
    "        - Entidad es el nombre de la entidad nombrada.\n",
    "        - Tipo es el tipo de entidad (por ejemplo, PER para personas, ORG para organizaciones, LOC para lugares, EVENT para eventos, WORK_OF_ART para obras de arte, GPE para entidades geopolíticas).    \n",
    "        \n",
    "        Salida esperada:\n",
    "            Entidad1: Tipo1\n",
    "            Entidad2: Tipo2\n",
    "            Entidad3: Tipo3\n",
    "            …   \n",
    "            \n",
    "        Asegúrate de que el tipo de entidad sea el mencionado antriormente (PER, ORG, LOC, EVENT, WORK_OF_ART, GPE).\n",
    "        \n",
    "        Muestra la salida únicamente con las entidades encontradas, sin ningún otro texto adicional.\n",
    "        \n",
    "        Frase de entrada:\n",
    "        {text}\n",
    "    \"\"\",\n",
    ")\n",
    "\n",
    "\n",
    "sentence_prompt = PromptTemplate(\n",
    "    input_variables=[\"text\", \"prev_context\", \"entities\"],\n",
    "    template=\"\"\"\n",
    "        Dada la siguiente frase y una lista de entidades nombradas previamente extraídas, identifica todas las posibles relaciones explícitas o implícitas entre las entidades que tanto en la frase como en la lista de entidades.\n",
    "        \n",
    "        Se debe extraer el máximo número de relaciones posibles, pero se debe asegurar que estas relaciones sean coherentes y relevantes en el contexto del texto.\n",
    "        \n",
    "        Haz un especial énfasis en las relaciones intrapersonales, padre de, marido de, hijo de, etc y de eventos.\n",
    "        \n",
    "        Las frases pueden contener un contexto para ayudar a identificar las relaciones (para frases que comiencen con fue..., el cual..., etc.) pero no se deben sacar relaciones del propio contexto.\n",
    "\n",
    "        Las relaciones deben expresarse únicamente en el formato:\n",
    "        (Entidad1)-[relación]-(Entidad2)\n",
    "\n",
    "        Donde:\n",
    "\n",
    "        - La Entidad1 debe coincidir con alguna de las entidades de la lista proporcionada.\n",
    "\n",
    "        - [relación] debe ser un verbo o una expresión verbal que indique la relación entre las entidades en el contexto del texto.\n",
    "        \n",
    "        - Ignora relaciones que no se puedan inferir directamente del texto.\n",
    "\n",
    "        Salida esperada:\n",
    "        (EntidadA)-[relación]-(EntidadB)\n",
    "        (EntidadC)-[relación]-(EntidadD)\n",
    "        …\n",
    "        \n",
    "        Ejemplo:\n",
    "\n",
    "            NERs:\n",
    "            Cosme Pérez, Francisca Pérez.\n",
    "        \n",
    "            Frase de Entrada:\n",
    "            Cosme Pérez fue un conocido artista, quien además tenía una hija, Francisca Pérez.\n",
    "            \n",
    "            Salida esperada:\n",
    "            (Francisca Pérez)-[hija de]-(Cosme Pérez)\n",
    "            (Cosme Pérez)-[padre de]-(Francisca Pérez)\n",
    "            (Cosme Pérez)-[fue]-(conocido artista)\n",
    "        \n",
    "        \n",
    "        Muestra la salida únicamente con las relaciones encontradas, sin ningún otro texto adicional.\n",
    "        \n",
    "        Lista de entidades (NERs):\n",
    "        {entities}\n",
    "\n",
    "        Contexto de la frase (es útil para entender mejor la frase actual de la que se están extrayendo las relaciones):\n",
    "        El texto forma parte de la biografía de Cosme Pérez. \n",
    "        \n",
    "        - Contexto previo a la frase: {prev_context}\n",
    "\n",
    "        Frase de entrada:\n",
    "        {text}\n",
    "    \"\"\",\n",
    ")"
   ]
  },
  {
   "cell_type": "code",
   "execution_count": 25,
   "id": "56f8de9b",
   "metadata": {},
   "outputs": [
    {
     "data": {
      "application/vnd.jupyter.widget-view+json": {
       "model_id": "96babceccf394961bc8f02ab60085968",
       "version_major": 2,
       "version_minor": 0
      },
      "text/plain": [
       "  0%|          | 0/38 [00:00<?, ?it/s]"
      ]
     },
     "metadata": {},
     "output_type": "display_data"
    },
    {
     "data": {
      "application/vnd.jupyter.widget-view+json": {
       "model_id": "b30c1fd944dd48c7b41724efdea0d136",
       "version_major": 2,
       "version_minor": 0
      },
      "text/plain": [
       "  0%|          | 0/93 [00:00<?, ?it/s]"
      ]
     },
     "metadata": {},
     "output_type": "display_data"
    },
    {
     "data": {
      "application/vnd.jupyter.widget-view+json": {
       "model_id": "29f4f66cf183488796e21d40928affcd",
       "version_major": 2,
       "version_minor": 0
      },
      "text/plain": [
       "  0%|          | 0/5 [00:00<?, ?it/s]"
      ]
     },
     "metadata": {},
     "output_type": "display_data"
    },
    {
     "data": {
      "application/vnd.jupyter.widget-view+json": {
       "model_id": "5e8fab854dea4671bbe66589ebf587f7",
       "version_major": 2,
       "version_minor": 0
      },
      "text/plain": [
       "  0%|          | 0/3 [00:00<?, ?it/s]"
      ]
     },
     "metadata": {},
     "output_type": "display_data"
    },
    {
     "data": {
      "application/vnd.jupyter.widget-view+json": {
       "model_id": "2ab981d9fc4d4cf082ad0d8084c15961",
       "version_major": 2,
       "version_minor": 0
      },
      "text/plain": [
       "  0%|          | 0/4 [00:00<?, ?it/s]"
      ]
     },
     "metadata": {},
     "output_type": "display_data"
    },
    {
     "data": {
      "application/vnd.jupyter.widget-view+json": {
       "model_id": "00d4fd0365354e0bb4f62f4ecb5a9262",
       "version_major": 2,
       "version_minor": 0
      },
      "text/plain": [
       "  0%|          | 0/6 [00:00<?, ?it/s]"
      ]
     },
     "metadata": {},
     "output_type": "display_data"
    },
    {
     "data": {
      "application/vnd.jupyter.widget-view+json": {
       "model_id": "1e415f775c9e4155a9aefd543b49e2c8",
       "version_major": 2,
       "version_minor": 0
      },
      "text/plain": [
       "  0%|          | 0/8 [00:00<?, ?it/s]"
      ]
     },
     "metadata": {},
     "output_type": "display_data"
    },
    {
     "data": {
      "application/vnd.jupyter.widget-view+json": {
       "model_id": "ce8c7e970518430388cf0ad9f65089cd",
       "version_major": 2,
       "version_minor": 0
      },
      "text/plain": [
       "  0%|          | 0/9 [00:00<?, ?it/s]"
      ]
     },
     "metadata": {},
     "output_type": "display_data"
    },
    {
     "data": {
      "application/vnd.jupyter.widget-view+json": {
       "model_id": "537abcacdf8544e2809ede7a755e16a1",
       "version_major": 2,
       "version_minor": 0
      },
      "text/plain": [
       "  0%|          | 0/6 [00:00<?, ?it/s]"
      ]
     },
     "metadata": {},
     "output_type": "display_data"
    },
    {
     "data": {
      "application/vnd.jupyter.widget-view+json": {
       "model_id": "f600d2094fd940bcaf1d5b31bf3a27ed",
       "version_major": 2,
       "version_minor": 0
      },
      "text/plain": [
       "  0%|          | 0/12 [00:00<?, ?it/s]"
      ]
     },
     "metadata": {},
     "output_type": "display_data"
    },
    {
     "data": {
      "application/vnd.jupyter.widget-view+json": {
       "model_id": "80a8ee04b6c34a60ba29afe9f3e66c98",
       "version_major": 2,
       "version_minor": 0
      },
      "text/plain": [
       "  0%|          | 0/4 [00:00<?, ?it/s]"
      ]
     },
     "metadata": {},
     "output_type": "display_data"
    },
    {
     "data": {
      "application/vnd.jupyter.widget-view+json": {
       "model_id": "b67b7cf5033e4a78a0d9bd4e361adb6f",
       "version_major": 2,
       "version_minor": 0
      },
      "text/plain": [
       "  0%|          | 0/2 [00:00<?, ?it/s]"
      ]
     },
     "metadata": {},
     "output_type": "display_data"
    },
    {
     "data": {
      "application/vnd.jupyter.widget-view+json": {
       "model_id": "e106b6e9137545aa90fb4edd4c910e37",
       "version_major": 2,
       "version_minor": 0
      },
      "text/plain": [
       "  0%|          | 0/6 [00:00<?, ?it/s]"
      ]
     },
     "metadata": {},
     "output_type": "display_data"
    },
    {
     "data": {
      "application/vnd.jupyter.widget-view+json": {
       "model_id": "96427fa78d694e81908ca038fa442b34",
       "version_major": 2,
       "version_minor": 0
      },
      "text/plain": [
       "  0%|          | 0/2 [00:00<?, ?it/s]"
      ]
     },
     "metadata": {},
     "output_type": "display_data"
    },
    {
     "data": {
      "application/vnd.jupyter.widget-view+json": {
       "model_id": "96e032f69b164ec7875fccaed1f552f1",
       "version_major": 2,
       "version_minor": 0
      },
      "text/plain": [
       "  0%|          | 0/10 [00:00<?, ?it/s]"
      ]
     },
     "metadata": {},
     "output_type": "display_data"
    },
    {
     "data": {
      "application/vnd.jupyter.widget-view+json": {
       "model_id": "20905549e22a436d858b03d6d3e45d45",
       "version_major": 2,
       "version_minor": 0
      },
      "text/plain": [
       "  0%|          | 0/4 [00:00<?, ?it/s]"
      ]
     },
     "metadata": {},
     "output_type": "display_data"
    },
    {
     "data": {
      "application/vnd.jupyter.widget-view+json": {
       "model_id": "dcec21296d1f40ca93ebe9ca79e1f8cd",
       "version_major": 2,
       "version_minor": 0
      },
      "text/plain": [
       "  0%|          | 0/3 [00:00<?, ?it/s]"
      ]
     },
     "metadata": {},
     "output_type": "display_data"
    },
    {
     "data": {
      "application/vnd.jupyter.widget-view+json": {
       "model_id": "2c9ecdb52a6349c29fe1e33ff0636ffb",
       "version_major": 2,
       "version_minor": 0
      },
      "text/plain": [
       "  0%|          | 0/3 [00:00<?, ?it/s]"
      ]
     },
     "metadata": {},
     "output_type": "display_data"
    },
    {
     "data": {
      "application/vnd.jupyter.widget-view+json": {
       "model_id": "7b801c6d03534192a6644e9a5855b7cf",
       "version_major": 2,
       "version_minor": 0
      },
      "text/plain": [
       "  0%|          | 0/8 [00:00<?, ?it/s]"
      ]
     },
     "metadata": {},
     "output_type": "display_data"
    },
    {
     "data": {
      "application/vnd.jupyter.widget-view+json": {
       "model_id": "4ad48273571f428fbd525de19bf9d9e6",
       "version_major": 2,
       "version_minor": 0
      },
      "text/plain": [
       "  0%|          | 0/13 [00:00<?, ?it/s]"
      ]
     },
     "metadata": {},
     "output_type": "display_data"
    },
    {
     "data": {
      "application/vnd.jupyter.widget-view+json": {
       "model_id": "75620547eccc443aa7e4517ba326f034",
       "version_major": 2,
       "version_minor": 0
      },
      "text/plain": [
       "  0%|          | 0/3 [00:00<?, ?it/s]"
      ]
     },
     "metadata": {},
     "output_type": "display_data"
    },
    {
     "data": {
      "application/vnd.jupyter.widget-view+json": {
       "model_id": "7cdd9720e42142498fa3fe12f868a8ca",
       "version_major": 2,
       "version_minor": 0
      },
      "text/plain": [
       "  0%|          | 0/10 [00:00<?, ?it/s]"
      ]
     },
     "metadata": {},
     "output_type": "display_data"
    },
    {
     "data": {
      "application/vnd.jupyter.widget-view+json": {
       "model_id": "699dcdbb46cf4f7ebf65d791cb32cf0d",
       "version_major": 2,
       "version_minor": 0
      },
      "text/plain": [
       "  0%|          | 0/5 [00:00<?, ?it/s]"
      ]
     },
     "metadata": {},
     "output_type": "display_data"
    },
    {
     "data": {
      "application/vnd.jupyter.widget-view+json": {
       "model_id": "7c0c4b147a0548c19016ec72ee375344",
       "version_major": 2,
       "version_minor": 0
      },
      "text/plain": [
       "  0%|          | 0/19 [00:00<?, ?it/s]"
      ]
     },
     "metadata": {},
     "output_type": "display_data"
    },
    {
     "data": {
      "application/vnd.jupyter.widget-view+json": {
       "model_id": "c38ea067c94f4c0f80bc1418c72471d7",
       "version_major": 2,
       "version_minor": 0
      },
      "text/plain": [
       "  0%|          | 0/10 [00:00<?, ?it/s]"
      ]
     },
     "metadata": {},
     "output_type": "display_data"
    },
    {
     "data": {
      "application/vnd.jupyter.widget-view+json": {
       "model_id": "2c5fc35330f9451eadf2f2e170ccff97",
       "version_major": 2,
       "version_minor": 0
      },
      "text/plain": [
       "  0%|          | 0/7 [00:00<?, ?it/s]"
      ]
     },
     "metadata": {},
     "output_type": "display_data"
    },
    {
     "data": {
      "application/vnd.jupyter.widget-view+json": {
       "model_id": "79f92aea1f344bf7ac4305830aaebed2",
       "version_major": 2,
       "version_minor": 0
      },
      "text/plain": [
       "  0%|          | 0/21 [00:00<?, ?it/s]"
      ]
     },
     "metadata": {},
     "output_type": "display_data"
    },
    {
     "data": {
      "application/vnd.jupyter.widget-view+json": {
       "model_id": "b4ec919d9ffa4c139a3d4623eaf7b81c",
       "version_major": 2,
       "version_minor": 0
      },
      "text/plain": [
       "  0%|          | 0/4 [00:00<?, ?it/s]"
      ]
     },
     "metadata": {},
     "output_type": "display_data"
    },
    {
     "data": {
      "application/vnd.jupyter.widget-view+json": {
       "model_id": "3345c73794954d1b8e6cbf61e8e75a2e",
       "version_major": 2,
       "version_minor": 0
      },
      "text/plain": [
       "  0%|          | 0/1 [00:00<?, ?it/s]"
      ]
     },
     "metadata": {},
     "output_type": "display_data"
    },
    {
     "data": {
      "application/vnd.jupyter.widget-view+json": {
       "model_id": "7f5cea76006d42dabb1af32869cddf0f",
       "version_major": 2,
       "version_minor": 0
      },
      "text/plain": [
       "  0%|          | 0/3 [00:00<?, ?it/s]"
      ]
     },
     "metadata": {},
     "output_type": "display_data"
    },
    {
     "data": {
      "application/vnd.jupyter.widget-view+json": {
       "model_id": "287c265518e44390a4b9edb499d6a9a6",
       "version_major": 2,
       "version_minor": 0
      },
      "text/plain": [
       "  0%|          | 0/4 [00:00<?, ?it/s]"
      ]
     },
     "metadata": {},
     "output_type": "display_data"
    },
    {
     "data": {
      "application/vnd.jupyter.widget-view+json": {
       "model_id": "1241b3a440de4b46824acd3517e691cd",
       "version_major": 2,
       "version_minor": 0
      },
      "text/plain": [
       "  0%|          | 0/2 [00:00<?, ?it/s]"
      ]
     },
     "metadata": {},
     "output_type": "display_data"
    },
    {
     "data": {
      "application/vnd.jupyter.widget-view+json": {
       "model_id": "550ab63bdbd84de08d92904a752af278",
       "version_major": 2,
       "version_minor": 0
      },
      "text/plain": [
       "  0%|          | 0/9 [00:00<?, ?it/s]"
      ]
     },
     "metadata": {},
     "output_type": "display_data"
    },
    {
     "data": {
      "application/vnd.jupyter.widget-view+json": {
       "model_id": "750afae78924465a97979d93ca96cfba",
       "version_major": 2,
       "version_minor": 0
      },
      "text/plain": [
       "  0%|          | 0/18 [00:00<?, ?it/s]"
      ]
     },
     "metadata": {},
     "output_type": "display_data"
    },
    {
     "data": {
      "application/vnd.jupyter.widget-view+json": {
       "model_id": "dbb34d61fe084d3abe7884c6e94f4d8a",
       "version_major": 2,
       "version_minor": 0
      },
      "text/plain": [
       "  0%|          | 0/3 [00:00<?, ?it/s]"
      ]
     },
     "metadata": {},
     "output_type": "display_data"
    },
    {
     "data": {
      "application/vnd.jupyter.widget-view+json": {
       "model_id": "b2ee9356db394a769d14dc0fb22e2065",
       "version_major": 2,
       "version_minor": 0
      },
      "text/plain": [
       "  0%|          | 0/3 [00:00<?, ?it/s]"
      ]
     },
     "metadata": {},
     "output_type": "display_data"
    },
    {
     "data": {
      "application/vnd.jupyter.widget-view+json": {
       "model_id": "b820161b459b4a92897cb8252588427d",
       "version_major": 2,
       "version_minor": 0
      },
      "text/plain": [
       "  0%|          | 0/14 [00:00<?, ?it/s]"
      ]
     },
     "metadata": {},
     "output_type": "display_data"
    },
    {
     "data": {
      "application/vnd.jupyter.widget-view+json": {
       "model_id": "dede3dbb1fbf45098c16ea8f3dd3abc5",
       "version_major": 2,
       "version_minor": 0
      },
      "text/plain": [
       "  0%|          | 0/19 [00:00<?, ?it/s]"
      ]
     },
     "metadata": {},
     "output_type": "display_data"
    },
    {
     "data": {
      "application/vnd.jupyter.widget-view+json": {
       "model_id": "ccb30dec57e34cc38d8e763883fa8b21",
       "version_major": 2,
       "version_minor": 0
      },
      "text/plain": [
       "  0%|          | 0/2 [00:00<?, ?it/s]"
      ]
     },
     "metadata": {},
     "output_type": "display_data"
    }
   ],
   "source": [
    "from tqdm.auto import tqdm\n",
    "from collections import defaultdict\n",
    "\n",
    "\n",
    "sentences_of_context = 3 # Number of sentences to consider as context for each sentence\n",
    "\n",
    "total_re_found = 0\n",
    "relations = set()\n",
    "\n",
    "per_sentence = defaultdict(set)\n",
    "years_to_test = [1636, 1643, 1648, 1651, 1653, 1656, 1665, 1666, 1670]\n",
    "\n",
    "\n",
    "# for _, year in tqdm(data[data[\"year\"].astype(int) == 1643].iterrows(), position=0):\n",
    "# for _, year in tqdm(data[data[\"year\"].astype(int).isin(years_to_test)].iterrows(), total=len(years_to_test), position=0):\n",
    "for _, year in tqdm(data.iterrows(), total=len(data), position=0):\n",
    "        \n",
    "    context = []\n",
    "    ners_context = []\n",
    "    sentences = year[\"sentences\"]\n",
    "    \n",
    "    for sentence in tqdm(sentences, position=1, leave=True):\n",
    "        \n",
    "        ners_extracted = llm.invoke(\n",
    "            ner_extraction_prompt.invoke({\n",
    "                \"text\": sentence.strip(),\n",
    "            })\n",
    "        ).content.split(\"\\n\")\n",
    "        \n",
    "        entities = \", \".join([\n",
    "            ner.split(\": \")[0] for ner in ners_extracted\n",
    "        ])\n",
    "        \n",
    "        total_ners = entities + \", \" + \", \".join(ners_context) if ners_context else entities\n",
    "        total_ners = \", \".join(set(total_ners.split(\", \")))  # Remove duplicates\n",
    "\n",
    "        response = llm.invoke(\n",
    "            sentence_prompt.invoke({\n",
    "                \"text\": sentence.strip(),\n",
    "                \"prev_context\": \"\\n\".join(context),\n",
    "                # \"next_context\": \"\\n\".join(sentences[i+1:i+1+sentences_of_context]),\n",
    "                \"entities\": total_ners,\n",
    "            })\n",
    "        ).content\n",
    "    \n",
    "        total_re_found += len(response.split(\"\\n\"))\n",
    "\n",
    "        # for relation in response.split(\"\\n\"):\n",
    "        #     relation = relation.strip()\n",
    "        #     if relation and len(relation.split(\"-\")) >= 3:\n",
    "        #         relations.add(relation)\n",
    "        \n",
    "        for relation in response.split(\"\\n\"):\n",
    "            relation = relation.strip()\n",
    "            per_sentence[year[\"year\"]].add(relation)\n",
    "        \n",
    "        # DEBUGGING \n",
    "        # print(\"Relaciones encontradas:\\n\", response.strip())\n",
    "        # print(f\"Frase: {sentence.strip()}\")\n",
    "        # print(f\"Contexto previo: {' '.join(context)}\")\n",
    "        # print(f\"Contexto posterior: {' '.join(sentences[i+1:i+1+sentences_of_context])}\")\n",
    "        # print()\n",
    "        \n",
    "        context.append(sentence.strip())\n",
    "        ners_context.append(entities)\n",
    "        if len(context) > sentences_of_context:\n",
    "            context = context[-sentences_of_context:]  # Keep only the last 'sentences_of_context' sentences\n",
    "            ners_context = ners_context[-sentences_of_context:]"
   ]
  },
  {
   "cell_type": "code",
   "execution_count": 28,
   "id": "3fae9629",
   "metadata": {},
   "outputs": [
    {
     "name": "stdout",
     "output_type": "stream",
     "text": [
      "Total de relaciones encontradas: 1433, de las cuales 1332 son únicas.\n"
     ]
    }
   ],
   "source": [
    "unique_relations = {relation \n",
    "                        for relations in per_sentence.values() \n",
    "                            for relation in relations \n",
    "                                if relation and len(relation.split(\"-\")) >= 3}\n",
    "\n",
    "print(f\"Total de relaciones encontradas: {total_re_found}, de las cuales {len(unique_relations)} son únicas.\")"
   ]
  },
  {
   "cell_type": "code",
   "execution_count": 29,
   "id": "65fdc480",
   "metadata": {},
   "outputs": [
    {
     "data": {
      "text/plain": [
       "{'(Juan Bautista Valenciano)-[pertenece a]-(compañía)',\n",
       " '(donativo)-[fue para]-(Cofradía de Nuestra Señora de la Novena)',\n",
       " '(Cotarelo)-[identificó al autor de esta formación con]-(Roque de Figueroa)',\n",
       " '(Cosme Pérez)-[recibir]-(32 rs.)',\n",
       " '(Juan Rana)-[hizo el papel de]-(Rey)',\n",
       " '(Juan Rana)-[representó en]-(Corpus de Sevilla)',\n",
       " '(Carnestolendas)-[fueron celebradas en]-(Palacio del Buen Retiro)',\n",
       " '(Cosme Pérez)-[estuvo casado con]-(Bernarda Ramírez)',\n",
       " '(Su Magestad)-[dio orden escrita en]-(Aranjuez)',\n",
       " '(El ayo)-[se representó con motivo de]-(cumpleaños del rey Felipe IV)',\n",
       " '(Cosme Pérez)-[actor de]-(compañía de Pedro de la Rosa)',\n",
       " '(Cosme Pérez)-[es miembro de la compañía de]-(Antonio García de Prado)',\n",
       " '(Jerónimo de Barrionuevo)-[describe]-(La restauración de España)',\n",
       " '(Juan Rana)-[actuó en]-(loa y sainetes)',\n",
       " '(Mariana de Austria)-[hacía su entrada en]-(Madrid)',\n",
       " '(Francisca María Pérez)-[fue]-(hija de Cosme Pérez)',\n",
       " '(Francisco García)-[representa]-(compañía de Francisco García)',\n",
       " '(Alonso de Paz)-[no llevar a]-(Antonio Marín)',\n",
       " '(Cosme Pérez)-[representar]-(la parte principal de la graciosidad)',\n",
       " '(Mateo de Godoy)-[intervino en la comedia]-(Las amazonas)',\n",
       " \"(Los autores Pedro de la Rosa, Francisco García 'el Pupilo' y Diego Osorio)-[estuvieran listos para]-(formar compañías que representaran los autos)\",\n",
       " '(Juan Rana)-[propone imitar a]-(Manuela Escamilla)',\n",
       " '(Felipe IV)-[extraña para los autos del]-(Corpus)',\n",
       " '(Don Jerónimo de Cáncer)-[compuso]-(Los hombres deslucidos que se pierden sin saberse cómo ni cómo no)',\n",
       " '(F. Sáez Raposo)-[afirma]-(Juan Rana)',\n",
       " '(Mariana Romero)-[intervino en la comedia]-(Las amazonas)',\n",
       " '(versos)-[hacen mención del objeto de la fiesta]-(festejar el nombre de Ana)',\n",
       " '(Juan Rana)-[actuó en]-(El ayo)',\n",
       " '(Cosme Pérez)-[enviaba]-(María de Diego)',\n",
       " '(Juan Rana)-[introdujo]-(dos forasteros)',\n",
       " '(Bernarda Ramírez)-[representó]-(papeles principales de la loa)',\n",
       " '(El niño caballero)-[es obra]-(Antonio de Solís)',\n",
       " '(El triunfo de Juan Rana)-[fue representado en]-(Salón Dorado del Buen Retiro)',\n",
       " '(Pedro de la Rosa)-[debe cobrar a]-(Francisco Garro de Alegría)',\n",
       " '(hijo de Cosme Pérez)-[falleció el]-(18 de septiembre)',\n",
       " '(Mateo Godoy)-[representó]-(Los volatines)',\n",
       " '(Cosme Pérez)-[asistió al]-(Cofradía de Nuestra Señora de la Novena)',\n",
       " '(Corpus)-[se celebra en]-(Madrid)',\n",
       " '(Reina)-[entregó]-(donativo)',\n",
       " '(Mariana)-[participó en]-(Darlo todo y no dar nada)',\n",
       " '(Cosme Pérez)-[representa]-(representante)',\n",
       " '(Lobato)-[refiere]-(entremés El toreador)',\n",
       " '(Luis Quiñones)-[disputó]-(certamen)',\n",
       " '(Cosme)-[es]-(Cosme Pérez)',\n",
       " '(Bergman)-[hipotetizó que representó]-(Tomás Fernández)',\n",
       " '(Las fiestas bacanales)-[se representó en]-(1655)',\n",
       " '(Lo que ha de ser)-[es obra de]-(Lope de Vega)',\n",
       " '(El niño de Santa Barbara)-[es título alternativo de]-(El niño de Santa Bárbara)',\n",
       " '(Micaela Fernández)-[actuó en]-(Los Juan Ranas)',\n",
       " '(Bernarda Ramírez)-[representó junto con]-(Cosme Pérez)',\n",
       " '(Cosme Pérez)-[tenía]-(avanzada edad)',\n",
       " '(Convento de Trinitarios)-[está en]-(Madrid)',\n",
       " '(Felipe Negro)-[es]-(pariente de Cosme Pérez)',\n",
       " \"(Francisco García 'el Pupilo')-[tiene compañía teatral]-(Compañía de Francisco García 'el Pupilo')\",\n",
       " '(Pedro Ortiz de Urbina)-[tesorero de]-(Cofradía de Nuestra Señora de la Novena)',\n",
       " '(La loa de Juan Rana)-[fue escrito por]-(Moreto)',\n",
       " '(Obrar bien, que Dios es Dios)-[es título alternativo de]-(Honrar bien, que Dios es Dios)',\n",
       " '(La comedia)-[se representó en]-(Carabanchel de Arriba)',\n",
       " '(Pedro de la Rosa)-[se comprometía a dar]-(tres caballerías)',\n",
       " '(Cosme Pérez)-[firmó]-(testamento el 13 de junio)',\n",
       " '(comedia)-[fue representada en]-(Madrid)',\n",
       " '(Cosme Pérez)-[aparece en la nómina de la compañía de]-(Antonio de Prado)',\n",
       " '(Amarilis [María de Córdoba])-[fue]-(gran farsanta)',\n",
       " '(Concierto)-[fechado en]-(Valencia)',\n",
       " '(Sáez Raposo)-[sigue]-(Cotarelo)',\n",
       " '(lista)-[fue para representar en]-(Corpus de Madrid)',\n",
       " '(Antonio de Rueda)-[hizo]-(inventario de los bienes de Luis López Sustaete)',\n",
       " '(Convento de la Santísima Trinidad)-[está ubicado en]-(Madrid)',\n",
       " '(Juan Rana)-[fue imitado por]-(Andrés Ferrer)',\n",
       " '(Quir.)-[actuó en]-(Los Juan Ranas)',\n",
       " '(Reina Madre)-[ha escrito a]-(Juan de Austria)',\n",
       " '(Juan Rana)-[participó en]-(El toreador)',\n",
       " '(Pedro de la Rosa)-[tiene]-(compañía de Pedro de la Rosa)',\n",
       " '(Diego de Martos)-[se rió con]-(Juan Rana)',\n",
       " '(primer cabildo de la Cofradía de Nuestra Señora de la Novena)-[fue celebrado el]-(25 de junio)',\n",
       " '(Salta en banco)-[es obra de]-(Solís)',\n",
       " '(M. Vitse)-[coautor de]-(Del horror a la risa)',\n",
       " '(Cosme Pérez)-[tuvo implicación en]-[la trama]',\n",
       " '(academia burlesca)-[celebrada en]-(Buen Retiro)',\n",
       " '(Peter Thompson)-[escribió sobre]-(Juan Rana)',\n",
       " '(Francisco de Velasco)-[participaría en]-(cincuenta representaciones)',\n",
       " '(F. Sáez Raposo)-[afirma]-(primera aparición escénica de Juan Rana)',\n",
       " '(Cosme Pérez)-[nació en]-(Tudela de Duero)',\n",
       " '(Luis Quiñones)-[obtuvo]-(primer premio)',\n",
       " '(El Rey)-[es mencionado en]-(el entremés de Avellaneda La portería de las damas)',\n",
       " '(Varey)-[relacionan]-(episodio)',\n",
       " '(Cosme Pérez)-[alias]-(Juan Rana)',\n",
       " '(El desdén vengado)-[escrito por]-(Lope de Vega)',\n",
       " '(Antonio de Escamilla)-[posee]-(copia manuscrita de Bien vengas mal [o Bien vengas mal si vienes solo])',\n",
       " '(La fiesta)-[organizada por]-(María Teresa)',\n",
       " '(Diego de Silva)-[hijo de]-(princesa de Mélito)',\n",
       " '(Bernarda Ramírez)-[intervino en]-(El alcalde de Alcorcón)',\n",
       " '(María de Acosta)-[esposa de]-(Cosme Pérez)',\n",
       " '(Juan Rana)-[participó en]-(representación de Lo que ha de ser)',\n",
       " '(Cosme Pérez)-[salió en]-(carro triunfal)',\n",
       " '(H. J. Manzari)-[coeditó]-(A society on Stage)',\n",
       " '(Catalina Ramos)-[hija de]-(Juan Ramos)',\n",
       " '(Luisa Romero)-[representó]-(Cuatro Edades)',\n",
       " '(Juan Rana)-[es personaje interpretado por]-(Cosme Pérez)',\n",
       " '(Cosme Pérez)-[solicitó]-(ayuda al rey)',\n",
       " '(Cosme Pérez)-[asistió al]-(cabildo)',\n",
       " '(Príncipe)-[nacimiento fue motivo de]-(fiesta pública celebrada en Madrid el 6 de diciembre)',\n",
       " '(Juan Rana)-[nombre utilizado como cebo para el público en]-(carteles)',\n",
       " '(Juan Rana)-[propone imitar a]-(Mateo de Godoy)',\n",
       " '(Cosme Pérez)-[estuvo representando en]-(Valencia)',\n",
       " '(Cosme Pérez)-[ordenaba pagar]-(Isabel)',\n",
       " '(compañía de comediantes selectos)-[incluye]-(Cosme Pérez)',\n",
       " '(Bernarda Manuela)-[actuó en]-(Los Juan Ranas)',\n",
       " '(Jerónimo de Barrionuevo)-[recoge noticia sobre]-(compañía de comediantes selectos)',\n",
       " '(La comedia)-[fue escrita por]-(Antonio de Solís)',\n",
       " '(Cosme Pérez)-[interpretó papeles en]-(obras de Lope de Vega)',\n",
       " '(Cosme Pérez)-[pasó]-(la primera parte del año en Valencia)',\n",
       " '(Cosme Pérez)-[enviaba]-(Francisco de Diego)',\n",
       " '(Pedro de la Rosa)-[vivía en]-(calle de las Comedias)',\n",
       " '(Bernarda Ramírez)-[representó junto con]-(María Quiñones)',\n",
       " '(Juan Rana)-[intervino en]-(obras de Solís)',\n",
       " '(Juan Rana)-[es]-(miembro de la compañía de Pedro de la Rosa)',\n",
       " '(Amarilis [María de Córdoba])-[salió a la luz en]-(comedia)',\n",
       " '(Corpus de Madrid)-[tuvo lugar en]-(1650)',\n",
       " '(Luisa Romero)-[participó en]-(Darlo todo y no dar nada)',\n",
       " '(Luisa Enríquez Manrique de Lara)-[había ingresado en]-(Convento de San José de Malagón)',\n",
       " '(Madrid)-[fecha de licencia de representación]-(9 de septiembre de 1617)',\n",
       " '(Los volatines)-[se representó hacia]-(1655)',\n",
       " '(Las fiestas bacanales)-[representación de]-(Eurídice y Orfeo)',\n",
       " '(Cosme Pérez)-[interpretó el papel de]-(alcalde)',\n",
       " '(Manuela de Escamilla)-[se viste de]-(hombre)',\n",
       " '(entremés)-[ocurrió en]-(San Juan)',\n",
       " '(Cosme Pérez)-[representó junto con]-(María Borja)',\n",
       " '(La comedia)-[se representó en]-(Pamplona)',\n",
       " '(No hay entidades nombradas en la frase proporcionada)-[señala]-(M. L. Lobato)',\n",
       " '(Cosme Pérez)-[firmó]-(testamento)',\n",
       " '(Cosme Pérez)-[estaba retirado en]-(1672)',\n",
       " '(H. Bergman)-[observa]-(actuación de Cosme Pérez)',\n",
       " '(Mariana de Borja)-[representó]-(Los volatines)',\n",
       " '(El toreador)-[se representó ante]-(Reina)',\n",
       " '(Catalina de Nicolás y la Rosa)-[esposa de]-(Pedro de la Rosa)',\n",
       " '(Bernarda Manuela)-[esposa de]-(Cosme Pérez)',\n",
       " '(Orden)-[fue fechada en]-(Madrid)',\n",
       " '(Calderón)-[autor de]-(Darlo todo y no dar nada)',\n",
       " '(Rey)-[pidió a]-(Juan Rana)',\n",
       " '(I. Arellano)-[coautor de]-(Del horror a la risa)',\n",
       " '(Cosme [Pérez])-[fue representado por]-(Tomás Fernández)',\n",
       " '(Bianco)-[denomina]-(Juan Rana)',\n",
       " '(El manuscrito)-[lleva licencias de representación en]-(Lisboa)',\n",
       " '(Su Magestad)-[ordenó]-(Duque de Nájera)',\n",
       " '(El triunfo de Juan Rana)-[fue representado junto con]-(Fieras afemina amor)',\n",
       " '(Andrés Ferrer)-[imitó]-(Juan Rana)',\n",
       " '(Cosme Pérez)-[se llamaba]-(Juan Rana)',\n",
       " '(M. L. Lobato)-[recuerda]-(Solís)',\n",
       " '(Juan Rana)-[es comparado con]-(Cid Campeador)',\n",
       " '(Prado)-[estaba]-(encarcelado)',\n",
       " '(Cosme Pérez)-[recibió]-(50 dcs. de ayuda de costa)',\n",
       " '(El toreador)-[escrita por]-(Calderón)',\n",
       " '(Cosme Pérez)-[recibiría]-(tres caballerías para los viajes)',\n",
       " '(Juan Rana)-[interpretó el papel de]-(Juan Rana)',\n",
       " '(Pedro de la Rosa)-[acudiría a]-(Valencia)',\n",
       " '(Pedro de la Rosa)-[esposo de]-(Catalina de Nicolás y la Rosa)',\n",
       " '(Cosme Pérez)-[temía que no le sería concedida]-(ayuda al rey)',\n",
       " '(compañía de comediantes selectos)-[pasarán a]-(Francia)',\n",
       " '(Cosme Pérez)-[hijo de]-(Isabel de Basto)',\n",
       " '(Cosme)-[actuó en]-(entremés de El triunfo de Juan Rana)',\n",
       " '(Pedro de la Rosa)-[tiene compañía teatral]-(Compañía de Pedro de la Rosa)',\n",
       " '(F. Sáez Raposo)-[señala]-(\"Juan Rana\")',\n",
       " '(Cosme)-[probablemente es]-(Cosme Pérez)',\n",
       " '(Bernarda Ramírez)-[mujer de]-(Prado)',\n",
       " '(cumpleaños de Mariana de Austria)-[es el]-(22 de diciembre de 1669)',\n",
       " '(Pedro de la Rosa)-[dio lista en]-(Madrid)',\n",
       " '(Francisca María Pérez)-[cedió]-(ración ordinaria)',\n",
       " '(Bernarda Ramírez)-[participó en]-(la representación)',\n",
       " '(Su Majestad)-[mandó]-(real decreto)',\n",
       " '(Luis Quiñones de Benavente)-[es autor de]-(El poeta de bailes)',\n",
       " '(Juan Rana)-[es representado en el entremés atribuido a Quiñones Pipote]-(Cosme Pérez)',\n",
       " '(M. L. Lobato)-[afirmó que intervinieron]-(Bernarda Ramírez)',\n",
       " '(Cosme Pérez)-[participó en]-(El laberinto del mundo)',\n",
       " '(Juan Vélez)-[compuso]-(El contraste de amor)',\n",
       " '(Francisca de Castro)-[intervino junto con]-(Bernarda Manuela)',\n",
       " '(F. Serralta)-[analizó]-(corpus amplio de piezas escritas para Juan Rana)',\n",
       " '(José González)-[fue]-(consejero y protector de los teatros)',\n",
       " '(29 de enero de 1672)-[es fecha de representación del]-(El triunfo de Juan Rana)',\n",
       " '(Fieras afemina amor)-[es obra de]-(Calderón de la Barca)',\n",
       " '(María de Acosta)-[madre de]-(hijo de Cosme Pérez)',\n",
       " '(Juan Rana)-[fue liberado]-(Juan Rana)',\n",
       " '(Juan Rana)-[hizo el papel de]-(Alcayde)',\n",
       " '(Mateo Godoy)-[intervino en]-(Aguardad, supremos dioses del mismo Solís)',\n",
       " '(Conde de Altamira)-[transmitió respuesta]-(22 de noviembre)',\n",
       " '(Sigüenza)-[está en]-(Guadalajara)',\n",
       " '(Bernarda Ramírez)-[intervino en]-(la representación)',\n",
       " '(investigaciones posteriores)-[confirmaron]-(posibilidad de que el origen de Cosme Pérez estuviera en Tudela del Duero)',\n",
       " '(Mariana Romero)-[cantaban en]-(loa)',\n",
       " '(Cotarelo)-[tomó información de]-(Sánchez Arjona)',\n",
       " '(Cosme Pérez)-[tuvo hija]-(Francisca María Pérez)',\n",
       " '(Alonso de Paz)-[autor de]-(comedias)',\n",
       " '(Cosme Pérez)-[fue conocido artísticamente como]-(Juan Rana)',\n",
       " '(tablao en las rejas de palacio)-[fue preparado para]-(fiesta pública celebrada en Madrid el 6 de diciembre)',\n",
       " '(Luis Quiñones de Benavente)-[hace referencia a]-(escándalo)',\n",
       " '(M. L. Lobato)-[afirmó que actuó]-(Juan Rana)',\n",
       " '(María Teresa de Austria)-[es llamada]-(infantica)',\n",
       " '(Luis Quiñones de Benavente)-[autor de]-(El doctor Juan Rana)',\n",
       " '(Simón Aguado)-[intervino en]-(El alcalde de Alcorcón)',\n",
       " '(Cofradía de Nuestra Señora de la Novena)-[recibía limosna de]-(Cosme Pérez)',\n",
       " '(Obligación)-[fechada el]-(22 de febrero)',\n",
       " '(La máscara de \"Juan Rana\")-[puede ser interpretada]-(por otros actores)',\n",
       " '(Cosme Pérez)-[haría]-(graciosidad)',\n",
       " '(Tomás Fernández)-[participó en]-(El mago)',\n",
       " '(Sáez Raposo)-[repasa]-(problemas de atribución de estas obras)',\n",
       " '(Madrid)-[tiene]-(Salón del Palacio)',\n",
       " '(Pellicer)-[recoge testimonio de]-(Juan Caramuel)',\n",
       " '(Cosme Pérez)-[participaría en]-(cincuenta representaciones)',\n",
       " '(Concesión de algún oficio palaciego)-[aumentar]-(posibilidades de contraer matrimonio de la hija de Cosme Pérez)',\n",
       " '(ración ordinaria)-[será disfrutada en]-(casa de la Reina Mariana de Austria)',\n",
       " '(autos del Corpus)-[serán representados en]-(palacio)',\n",
       " '(A la fiesta que hizo en el Retiro a los Reyes el Príncipe de Astillano)-[citaba]-(Juan Rana)',\n",
       " '(Felipe IV)-[daba cuenta a]-(Luisa Enríquez Manrique)',\n",
       " '(Salón)-[está colgado de]-(preciosas pinturas)',\n",
       " '(Baccio)-[describe]-(loa)',\n",
       " '(Pedro de la Rosa)-[quitó los papeles de representar a]-(Juan Rana)',\n",
       " '(Juan de Cabanillas)-[procurador de]-(Pedro de la Rosa)',\n",
       " '(Pedro de la Rosa)-[fue supuesto por]-(Rennert)',\n",
       " '(Mariana Romero)-[actuó en]-(Un bobo hace ciento)',\n",
       " '(Baccio del Bianco)-[denominó]-(Juan Rana)',\n",
       " '(Españolas)-[se untan]-(caras)',\n",
       " '(máscara cómica)-[fue creada por]-(Juan Rana)',\n",
       " '(Valdés)-[acusó]-(Agustín Merlo)',\n",
       " '(Cosme Pérez)-[poseía]-(casas en la calle de Cantarranas)',\n",
       " '(Domingo Canejil)-[murió en]-(1707)',\n",
       " '(Cosme Pérez)-[recibió]-(1.000 rs. de préstamo)',\n",
       " '(M. L. Lobato)-[afirmó que intervinieron]-(Luis de Mendoza)',\n",
       " '(Varey)-[recogen el juicio de]-(Mori)',\n",
       " '(documento)-[recoge]-(gastos de las fiestas del Corpus de Madrid)',\n",
       " '(Mariana de Borja)-[representó]-(Cuatro Edades)',\n",
       " '(Cosme Pérez)-[tío de]-(Catalina Ramos)',\n",
       " '(compañía de Luis López Sustaete)-[participaba en]-(fiestas de Nuestra Señora de Septiembre)',\n",
       " '(Antonio de Escamilla)-[padre de]-(Manuela Escamilla)',\n",
       " '(Compañía de Pedro de la Rosa)-[representó]-(autos del Corpus)',\n",
       " '(Cruzada Villaamil)-[publicó]-(lista)',\n",
       " '(Antonio García de Prado)-[se compromete a preparar]-(una comedia nueva en Madrid)',\n",
       " '(Aguardad, supremos dioses del mismo Solís)-[fue escrito por]-(Antonio de Solís)',\n",
       " '(Las fiestas bacanales)-[escrito por]-(Antonio de Solís)',\n",
       " '(Mateo de Godoy)-[actuó en]-(comedia Las amazonas)',\n",
       " '(La infelice Dorotea)-[aparece en]-(Tamesis Books)',\n",
       " '(Lobato)-[afirma]-(que se escribió el sainete)',\n",
       " '(Cosme Pérez)-[figura como testigo en el testamento de]-(José Antonio Quevedo)',\n",
       " '(Juan Araña)-[trabajó]-(aquí)',\n",
       " '(La renegada de Valladolid)-[fue escrita por]-(Antonio de Solís)',\n",
       " '(Carnaval)-[fue]-(fiestas)',\n",
       " '(Cofradía)-[posee]-(libros)',\n",
       " '(calle de Cantarranas)-[está en]-(Madrid)',\n",
       " '(Rey)-[manifiesta]-(trato con los actores)',\n",
       " '(Miguel de Orozco)-[mantiene parlamento con]-(Juan Rana)',\n",
       " '(Bello Retiro)-[también llamado]-(Buen Retiro)',\n",
       " '(Una limosna)-[fue llevada a]-(Madrid)',\n",
       " '(El alcalde de Alcorcón)-[se representó con motivo de]-(salida de la Reina a misa)',\n",
       " '(Cosme Pérez)-[representó]-(El baile perdido)',\n",
       " '(Cosme Pérez)-[aparece en repartos bajo el nombre de]-(Cosme Pérez)',\n",
       " '(Cosme Pérez)-[acudió a]-(Palacio)',\n",
       " '(Luis López Sustaete)-[falleció]-(implícito)',\n",
       " '(Francisca María Pérez)-[está sepultada en]-(Santísima Trinidad)',\n",
       " '(Antonio Marín)-[no debe salir de]-(Corte)',\n",
       " '(\"Juan Rana\")-[participó en]-(\"Lo que ha de ser\")',\n",
       " '(preciosas pinturas)-[están entre]-(ventanas o balcones)',\n",
       " '(Tudela de Duero)-[está en]-(Valladolid)',\n",
       " '(El manuscrito)-[lleva licencias de representación en]-(Madrid)',\n",
       " '(José Antonio García de Prado)-[hermano de]-(Sebastián García de Prado)',\n",
       " '(Juan Rana)-[intervino en]-(El alcalde de Alcorcón)',\n",
       " '(Tomás Fernández)-[dirige]-(compañías)',\n",
       " '(Cosme Pérez)-[esposo de]-(Bernarda Manuela)',\n",
       " '(contrato)-[fue fechado el]-(24 de abril)',\n",
       " '(Rey)-[se llevó]-(Antonio Mejía)',\n",
       " '(La comedia)-[fue refundida y convertida en zarzuela por]-(Antonio de Solís)',\n",
       " '(Pedro de la Rosa)-[tiene compañía que incluye]-(Jerónimo de Morales)',\n",
       " '(Tomás Fernández de Cabredo)-[fue]-(autor)',\n",
       " '(Corpus)-[fiesta en]-(Villa de Madrid)',\n",
       " '(María de Quiñones)-[participó en]-(la representación)',\n",
       " '(Juan Rana)-[fue amigo de]-(Reina)',\n",
       " '(Cosme Pérez)-[intervino en]-(Salta en banco)',\n",
       " '(Juan Rana)-[apodo aplicado en]-(1636)',\n",
       " '(La renegada de Valladolid)-[se representó el día]-(San Juan)',\n",
       " '(academia burlesca)-[celebrada durante]-(Carnaval de 1637)',\n",
       " '(El toreador)-[se representó ante]-(Rey)',\n",
       " '(Catalina Ramos)-[vivía con]-(Cosme Pérez)',\n",
       " '(Juan Rana)-[intervino en]-(Las fiestas bacanales)',\n",
       " '(Aguardad, supremos dioses)-[es obra de]-(Solís)',\n",
       " '(Pico y Canente)-[fue escrita por]-(Luis de Ulloa y Pereira)',\n",
       " '(Francisca María Pérez)-[hija de]-(María de Acosta)',\n",
       " '(Rodrigo de Saavedra)-[fue]-(antiguo actor)',\n",
       " '(Cosme Pérez)-[pedía ser sepultado en]-(Santísima Trinidad)',\n",
       " '(Mariana Romero)-[actuó en]-(comedia Las amazonas)',\n",
       " '(Cosme Pérez)-[fue acusado de]-(pecado nefando)',\n",
       " '(19 de marzo)-[es fecha de]-(noticia)',\n",
       " '(Juan Rana)-[divirtió con su actuación a]-(María Teresa)',\n",
       " '(Pedro de la Rosa)-[autor de]-(Cosme Pérez)',\n",
       " '(Nuestra Señora del Amparo)-[pertenece a]-(iglesia parroquial de Tudela del Duero)',\n",
       " '(Felipe IV)-[fechó carta en]-(Madrid)',\n",
       " '(Juan Rana)-[representaba]-(Pico y Canente)',\n",
       " '(Santísima Trinidad)-[es]-(convento de religiosos descalzos)',\n",
       " '(la fiesta)-[tuviera lugar]-(febrero)',\n",
       " '(Calderón de la Barca)-[es]-(Pedro Calderón de la Barca)',\n",
       " '(Cosme Pérez)-[formó parte de]-(compañía de Pedro de la Rosa)',\n",
       " '(El alcalde de Alcorcón)-[fue representado]-(6 de enero)',\n",
       " '(María de Quiñones)-[participó en]-(Darlo todo y no dar nada)',\n",
       " '(Cosme Pérez)-[fue]-(actor)',\n",
       " '(Juan Rana en la Zarzuela)-[se representó en]-(Real Sitio de la Zarzuela)',\n",
       " '(Juan Rana)-[actuó con]-(escribano)',\n",
       " '(Antonio Marín)-[será embargado en]-(ropa)',\n",
       " '(Felipe Próspero)-[nació el]-(28 de noviembre de 1657)',\n",
       " '(Cotarelo)-[dedujo sobre especialización de]-(Cosme Pérez)',\n",
       " '(La Romerilla)-[salió a decir]-(Loa)',\n",
       " '(Bernarda Manuela)-[es]-(Bernarda)',\n",
       " '(El baile perdido)-[fue escrito por]-(Antonio de Solís)',\n",
       " '(tema de concurso de la academia burlesca)-[fue]-(si basta la opinión del Doctor Juan Rana para que se crea)',\n",
       " '(entremés)-[se representó en]-(Retiro)',\n",
       " '(Juan Rana)-[hace famoso papel en]-(Corpus)',\n",
       " '(Comunicación)-[fechada en]-(Real Sitio del Buen Retiro)',\n",
       " '(Pedro de la Rosa)-[autor de]-(comedias)',\n",
       " '(María de Acosta)-[fue recibida en]-(Cofradía de Nuestra Señora de la Novena)',\n",
       " \"(Pedro de la Rosa)-[es autor junto a]-(Francisco García 'el Pupilo')\",\n",
       " '(Bernarda Ramírez)-[actuó en]-(Fiesta que se representó a Su Majestad)',\n",
       " '(Francisca Bezón)-[actuó en]-(Los Juan Ranas)',\n",
       " '(Cotarelo)-[recoge anécdota referida a]-(Juan Rana)',\n",
       " '(\"El segundo Séneca de España\")-[tiene como personaje]-(don Felipe II)',\n",
       " '(Pedro de la Rosa)-[tiene compañía que incluye]-(Jacinto Becerril)',\n",
       " '(Cosme Pérez)-[matrimonio con]-(María de Acosta)',\n",
       " '(M. L. Lobato)-[recoge el testimonio de]-(Avellaneda La portería de las damas)',\n",
       " '(María Teresa)-[organizó]-(fiesta)',\n",
       " '(Pedro de la Rosa)-[tiene compañía que incluye]-(Juan de Tapia)',\n",
       " '(Cosme Pérez)-[pidió]-(poeta)',\n",
       " '(Cosme Pérez)-[intervino junto con]-(Francisca de Castro)',\n",
       " '(Parlamento entre Miguel de Orozco y Juan Rana)-[alude a]-(reciente viudez de Sebastián de Prado)',\n",
       " '(Rey)-[se sienta en]-(Salón del Palacio)',\n",
       " '(Juan Rana)-[actuó junto a]-(Tomás de Nájera)',\n",
       " '(Juan Rana)-[intervino en]-(Juan Rana en la Zarzuela)',\n",
       " '(Francisco Garro de Alegría)-[arrenda]-(corrales)',\n",
       " '(Bernarda Ramírez)-[actuó en]-(Un bobo hace ciento)',\n",
       " '(El baile Al cabo de los bailes mil)-[tuvo como personaje principal]-(Juan Rana)',\n",
       " '(Antonio de Solís)-[escribió]-(Salta en banco)',\n",
       " '(Cosme Pérez)-[participó en]-(\"El segundo Séneca de España\")',\n",
       " '(Conde de Oropesa)-[tuvo]-(hijo)',\n",
       " '(Señoras de la primera grandeza)-[eran]-(pinturas)',\n",
       " '(Señoras de la primera grandeza)-[se sientan en]-(ventanas)',\n",
       " '(Cotarelo)-[supuso que aludirse a]-(otro entremés de Quiñones)',\n",
       " '(El doctor Juan Rana)-[tuvo reparto en]-(1635)',\n",
       " '(Entidad implícita: \"él\")-[fue sacado en]-(carro)',\n",
       " '(Juan Rana)-[forma parte]-(compañía de Francisco García)',\n",
       " '(la obra)-[fue estrenada en]-(enero de 1670)',\n",
       " '(Bernarda Ramírez)-[intervino en]-(Aguardad, supremos dioses del mismo Solís)',\n",
       " '(Los volatines)-[se representó en]-(Salón del Palacio de Buen Retiro)',\n",
       " '(Cruzada Villaamil)-[publicó]-(lista de la compañía de Prado farsante)',\n",
       " '(Juan Rana)-[es]-(Alcalde)',\n",
       " '(Catalina Nicolás)-[mujer de]-(Rosa)',\n",
       " '(Pedro de la Rosa)-[debía dar muestras]-(compañía)',\n",
       " '(Retiro)-[fue lugar de representación]-(La restauración de España)',\n",
       " '(El niño caballero)-[fue representado]-(por Simón Aguado)',\n",
       " '(Prado)-[presentó]-(lista)',\n",
       " '(carta)-[fue escrita en]-(Aranjuez)',\n",
       " '(Memorial que dio Juan Rana a la Reina Nuestra Señora Doña Mariana de Austria en su entrada en esta corte antes de llegar a Palacio)-[solicitaba]-(concesión de algún oficio palaciego a la hija de Cosme Pérez)',\n",
       " '(Los Juan Ranas)-[se representó en]-(palacio)',\n",
       " '(Jerónimo de Barrionuevo)-[recogió testimonio sobre]-(La restauración de España)',\n",
       " '(pasquines)-[incluyeron]-(A la fiesta que hizo en el Retiro a los Reyes el Príncipe de Astillano)',\n",
       " '(Prado farsante)-[es]-(Antonio de Prado)',\n",
       " '(Juan Rana)-[debió intervenir en]-(comedia mencionada)',\n",
       " '(Cosme Pérez)-[asistió al primer cabildo de]-(Cofradía de Nuestra Señora de la Novena)',\n",
       " '(Bartola, sobrina de Rana)-[es personaje de]-(Juan Rana)',\n",
       " '(Copia manuscrita)-[se conserva en]-(Biblioteca Nacional de Madrid)',\n",
       " '(fiesta)-[se repitió durante]-(cuatro días)',\n",
       " '(Manuela de Escamilla)-[actúa en]-(fin de fiesta)',\n",
       " '(compañía de comediantes selectos)-[incluye]-(José Antonio García de Prado)',\n",
       " '(Cosme Pérez)-[fue escrito por]-(Quiñones Pipote)',\n",
       " '(Bernarda Ramírez)-[participó en]-(El infierno de Juan Rana)',\n",
       " '(La infelice Dorotea)-[es obra de]-(Andrés de Claramonte)',\n",
       " '(Andrómeda y Perseo)-[fue escrita por]-(Calderón)',\n",
       " '(Baccio del Bianco)-[describe]-(fiesta)',\n",
       " '(Cosme [Pérez])-[figura en el reparto de]-(El baile atribuido a Quiñones El poeta de bailes y el letrado. Segunda parte)',\n",
       " '(A society on Stage)-[fue publicado por]-(University Press of the South)',\n",
       " '(Diego Osorio)-[se concertó con]-(comisarios de la fiesta de Señora Santa Librada de Sigüenza)',\n",
       " '(D. D. Miller)-[coeditó]-(A society on Stage)',\n",
       " '(Juan Rana)-[se dirigió a]-(Principito)',\n",
       " '(Manuela Escamilla)-[hija de]-(Antonio de Escamilla)',\n",
       " '(Rey)-[se refiere a]-(embajador turco)',\n",
       " '(Cosme Pérez)-[está relacionado con]-(Tomás Fernández)',\n",
       " '(Tomás Fernández de Cabredo)-[era especialista en]-(papel de gracioso)',\n",
       " '(embajador turco)-[está en]-(Madrid)',\n",
       " '(loa)-[acompañó]-(Darlo todo y no dar nada)',\n",
       " '(Bernarda Manuela)-[identificada por]-(Rennert)',\n",
       " '(Bien vengas mal [o Bien vengas mal si vienes solo])-[contiene]-(dos primeros actos)',\n",
       " '(Felipe IV)-[escribió carta a]-(Luisa Enríquez Manrique)',\n",
       " '(El toreador)-[se representó con motivo del nacimiento de]-(Carlos)',\n",
       " '(Zid)-[es mencionado por]-(Juan Rana)',\n",
       " '(Cotarelo)-[observó papeles representados por]-(Cosme Pérez)',\n",
       " '(Cuatro Edades)-[incluye]-(de Oro)',\n",
       " '(Compañía)-[es para representar]-(Corpus)',\n",
       " '(Juan Rana)-[intervino en]-(El golfo de las sirenas)',\n",
       " '(Cantarranas)-[está en]-(Parroquia de San Sebastián)',\n",
       " '(Juan Rana)-[se dirigió a]-(Rey)',\n",
       " '(La Zarzuela)-[se hizo con motivo de]-(Fiesta que se representó a Su Majestad)',\n",
       " '(Quiteria)-[es mujer de]-(Juan Rana)',\n",
       " '(Domingo Canejil)-[fue]-(actor)',\n",
       " '(Cosme Pérez)-[tuvo]-(albaceas y testamentarios)',\n",
       " '(Luisa Romero)-[intervino en la comedia]-(Las amazonas)',\n",
       " '(Juan Caramuel)-[escribió]-(Primus calamus)',\n",
       " '(cabildo)-[fue]-(el 2 de marzo)',\n",
       " '(Antonio García de Prado)-[otorgó poder a]-(Cosme Pérez)',\n",
       " '(Cosme Pérez)-[interpretó el papel de]-(médico)',\n",
       " '(escándalo)-[ocurrió en]-(1636)',\n",
       " '(inventario de los bienes de Luis López Sustaete)-[abarca]-(documentos fechados en Madrid)',\n",
       " '(Hércules o Fieras afemina amor)-[se representaba para servir y festejar a]-(SS.MM)',\n",
       " '(Cosme Pérez)-[entregaba limosna para]-(Cofradía de Nuestra Señora de la Novena)',\n",
       " '(Rana)-[no pudo representar]-(Hospital General de Valencia)',\n",
       " '(10 de julio)-[fecha para]-(traer a Cosme Pérez)',\n",
       " '(Cosme Pérez)-[es testamentario de]-(Luis López)',\n",
       " '(Luis de Mendoza)-[intervino en]-(El alcalde de Alcorcón)',\n",
       " '(Antonio de Escamilla)-[actuó en]-(fin de fiesta)',\n",
       " '(Antonio García de Prado)-[se compromete a preparar]-(Honrar bien, que Dios es Dios)',\n",
       " '(Cosme Pérez)-[no fue]-(otra parte)',\n",
       " '(Cosme)-[es representado por]-(Pedro de la Rosa)',\n",
       " '(María de Acosta)-[matrimonio con]-(Cosme Pérez)',\n",
       " '(Cosme Pérez)-[miembro de]-(compañía de Pedro de la Rosa)',\n",
       " '(Juan Rana)-[tiene]-(condición homosexual)',\n",
       " '(Cosme Pérez)-[figura como bailarín y representante]-(Corpus)',\n",
       " '(Reina Madre)-[quiere ver]-(compañía de comediantes selectos)',\n",
       " '(784 rs.)-[se emplearon en pagar]-(porte del dinero)',\n",
       " '(Cotarelo)-[constató]-(defunción del hijo de Cosme Pérez)',\n",
       " '(María Teresa)-[es]-(infanta)',\n",
       " '(Mariana Borja)-[intervino en]-(Aguardad, supremos dioses del mismo Solís)',\n",
       " '(Bernarda Ramírez)-[interpretó el papel de]-(Alma)',\n",
       " '(Cotarelo)-[manejó documentos de]-(Cofradía de Nuestra Señora de la Novena)',\n",
       " '(Salón del Palacio)-[llamado]-(Bello Retiro)',\n",
       " '(Antonio García de Prado)-[otorgó poder a]-(Francisco Ortiz)',\n",
       " '(Las fiestas bacanales)-[se representó el]-(6 de febrero de 1655)',\n",
       " '(Mucha gente)-[acude a]-(Autos)',\n",
       " '(La limosna)-[procedía de]-(la compañía de Pedro de la Rosa)',\n",
       " '(Isabel)-[ama de]-(Cosme Pérez)',\n",
       " '(Jerónimo de Heredia)-[intervino en]-(Aguardad, supremos dioses del mismo Solís)',\n",
       " '(Pico y Canente)-[fue escrita por]-(Rodrigo de Ávila)',\n",
       " '(Francisca María Pérez)-[fue recibida en]-(Cofradía de Nuestra Señora de la Novena)',\n",
       " '(M. L. Lobato)-[deduce]-(que el entremés fue anterior al nacimiento de Felipe Próspero)',\n",
       " '(Juan Rana)-[participó en]-(Carnestolendas)',\n",
       " '(Juan Rana)-[actuó]-(en el Prado)',\n",
       " '(Juan Rana)-[apodo relacionado con]-(Rana)',\n",
       " '(Cosme Pérez)-[fue mencionado entre los miembros de]-(compañía de Tomás Fernández)',\n",
       " '(Antonio de Solís)-[escribió]-(Triunfos de Amor y Fortuna)',\n",
       " '(Juan Rana)-[mostró]-(Palacio)',\n",
       " '(Carta de Difuntos)-[pertenece a]-(Cofradía de Nuestra Señora de la Novena)',\n",
       " '(Agustín Merlo)-[fue detenido por]-(mantener una reyerta con el hijo de Valdés)',\n",
       " '(M. L. Lobato)-[afirmó que intervinieron]-(Mariana Romero)',\n",
       " '(Cosme Pérez)-[residente en]-(Zaragoza)',\n",
       " '(Juan Rana)-[quizá estuvo alojado en]-(palacio)',\n",
       " '(Hospital General de Valencia)-[tiene clavario]-(clavario)',\n",
       " '(Diego de Martos)-[estuvo en]-(Convento de San José de Malagón)',\n",
       " \"(Los comisarios de la fiesta del Corpus de Madrid)-[ordenaban]-(miembros de las compañías de Pedro de la Rosa, Francisco García 'el Pupilo' y Diego Osorio)\",\n",
       " '(María Borja)-[representó junto con]-(Bernarda Ramírez)',\n",
       " '(Pedro de la Rosa)-[tiene compañía que incluye]-(Pedro de Contreras)',\n",
       " '(Cosme)-[es mencionado en]-(El poeta de bailes)',\n",
       " '(La fiesta)-[tuvo lugar en]-(Salón del Palacio del Buen Retiro)',\n",
       " '(M. L. Lobato)-[afirmó que intervinieron]-(Luisa Romero)',\n",
       " '(Mateo de Godoy)-[actuó en]-(El ayo)',\n",
       " '(Cosme Pérez)-[aparece tachado en el reparto de]-(La infelice Dorotea)',\n",
       " '(Juan Ranas)-[interpretan]-(máscara de \"Juan Rana\")',\n",
       " '(Luis de Belmonte)-[es autor de]-(La maestra de gracias)',\n",
       " '(Cosme Pérez)-[recibiría]-(10 rs. de ración)',\n",
       " '(Coliseo)-[fue lugar de representación de]-(fiesta)',\n",
       " '(Juan Rana)-[aparecía traído por]-(Flora)',\n",
       " '(Tomás Fernández)-[actuó en]-(1634)',\n",
       " '(manuscrito)-[contiene]-(licencia de representación fechada en diciembre de 1621)',\n",
       " '(\"vestido de Juan Rana\")-[fue pagado por]-(Corpus)',\n",
       " '(Bernarda Ramírez)-[representó junto con]-(María Borja)',\n",
       " '(Justo de Lazárraga)-[pedía ser enterrado en]-(Convento de la Santísima Trinidad)',\n",
       " '(María de Quiñones)-[intervino en]-(Salta en banco)',\n",
       " '(Cosme Pérez)-[representó junto con]-(María Quiñones)',\n",
       " '(Bernarda)-[personaje de]-(entremés)',\n",
       " '(Antonio de Solís)-[escribió]-(loa)',\n",
       " '(Cosme Pérez)-[actuó en]-(Los Juan Ranas)',\n",
       " '(Cosme Pérez)-[vecino de]-(Madrid)',\n",
       " '(Decreto)-[fue fechado en]-(Madrid)',\n",
       " '(La loa de Juan Rana)-[se representó el]-(22 de diciembre de 1662)',\n",
       " '(Juan Rana)-[tendrá]-(marcada estulticia)',\n",
       " '(Juan Rana)-[goza por la casa de]-(Reina Mariana de Austria)',\n",
       " '(Calderón)-[hizo]-(entremés)',\n",
       " '(Un bobo hace ciento)-[fue representada ante]-(Sus Majestades)',\n",
       " '(Luis de Mendoza)-[intervino en]-(sainete)',\n",
       " '(Pedro de la Rosa)-[representó en]-(tablado en las rejas de palacio)',\n",
       " '(Juan Rana)-[no había llegado a la habilidad de]-(Domingo Canejil)',\n",
       " '(Diego Osorio)-[actuó en]-(Los Juan Ranas)',\n",
       " '(Autos)-[se hacen en]-(corral)',\n",
       " '(Don Antonio de Solís)-[precede]-(comedia)',\n",
       " '(Comisarios de las fiestas del Corpus)-[emitieron orden]-(Pedro de la Rosa)',\n",
       " '(obligación)-[hasta el día de las]-(Octavas)',\n",
       " '(Juan Rana)-[pertenecía a]-(compañía de Pedro de la Rosa)',\n",
       " '(Cosme Pérez)-[padre de]-(Francisca María Pérez)',\n",
       " '(Juan Rana)-[actuó en]-(Loa y sainetes)',\n",
       " '(Bergman)-[afirma que El remediador se representó]-(entre 1636 y 1640)',\n",
       " '(F. Sáez Raposo)-[establece la génesis del nombre y apellido del personaje a partir de]-(componentes diversos)',\n",
       " '(El niño de Santa Bárbara)-[es comedia puesta en escena por]-(compañía de Antonio de Prado)',\n",
       " '(Pedro de la Rosa)-[se comprometía a volver]-(Cosme Pérez)',\n",
       " '(Alonso de Olmedo)-[hace el papel de]-(Hércules)',\n",
       " '(Antonio de Solís)-[representó]-(zarzuela)',\n",
       " '(Cosme)-[salió en]-(carro)',\n",
       " '(Cosme Pérez)-[tenía que ser traído]-(Rosa)',\n",
       " '(Catalina Ramos)-[sobrina de]-(Cosme Pérez)',\n",
       " '(María Quiñones)-[representó junto con]-(Bernarda Ramírez)',\n",
       " '(Cosme Pérez)-[entregaba]-(María de Diego)',\n",
       " '(Compañía de Pedro de la Rosa)-[actuó en]-(Madrid)',\n",
       " '(Bernarda Ramírez)-[actuó en]-(Los Juan Ranas)',\n",
       " '(Corte)-[pertenece a]-(Reino)',\n",
       " '(Cosme Pérez)-[figura en la lista de la compañía de]-(Antonio García de Prado)',\n",
       " '(Baccio del Bianco)-[escribió carta fechada en]-(Madrid)',\n",
       " '(Corpus)-[es representado en]-(Sevilla)',\n",
       " '(Antonio de Escamilla)-[actuó en]-(entremés)',\n",
       " '(Cuatro Edades)-[incluye]-(de Hierro)',\n",
       " '(Pedro de la Rosa)-[intervino en]-(Aguardad, supremos dioses del mismo Solís)',\n",
       " '(Felipe IV)-[tenía por huésped a]-(Juan Rana)',\n",
       " '(cochecillo pequeño)-[subió con]-(tramoya)',\n",
       " '(Cosme Pérez)-[figuró en]-(lista)',\n",
       " '(Antonio de Prado)-[no debía salir]-(Madrid)',\n",
       " '(Triunfos de Amor y Fortuna)-[es obra de]-(Solís)',\n",
       " '(Antonio de Solís)-[compuso obras para]-(Juan Rana)',\n",
       " '(El niño caballero)-[es obra de]-(Solís)',\n",
       " '(Cosme Pérez)-[recibió]-(1.000 rs.)',\n",
       " '(Monteser)-[tuvo]-(primera jornada)',\n",
       " '(Pedro de la Rosa)-[dio]-(lista de sus compañías)',\n",
       " '(Mariana de Borja)-[actúa en]-(fin de fiesta)',\n",
       " '(La infelice Dorotea)-[fue escrita en]-(1620)',\n",
       " '(Antonio de Solís)-[convirtió]-(comedia)',\n",
       " '(El doctor Juan Rana)-[tuvo reparto con]-(Juan Rana)',\n",
       " '(Cosme Pérez)-[figuraba en]-(lista de sus compañías)',\n",
       " '(Real Sitio del Buen Retiro)-[es lugar de]-(comunicación)',\n",
       " '(Darlo todo y no dar nada)-[se representó en]-(palacio)',\n",
       " '(Prado)-[no podría participar en]-(fiesta palaciega)',\n",
       " '(fiestas de Nuestra Señora de Agosto de Navalagamella)-[se celebraban en]-(Navalagamella)',\n",
       " '(Cosme Pérez)-[según]-(Genealogía)',\n",
       " '(Bergman)-[observó]-(que la máscara de \"Juan Rana\" se incorporó al repertorio general de tipos cómicos)',\n",
       " '(Juana Caro)-[actuó en]-(Los Juan Ranas)',\n",
       " '(Cotarelo)-[recoge testimonio de]-(Juan Caramuel)',\n",
       " '(Reina)-[dio]-(donativo de 150 rs.)',\n",
       " '(La comedia)-[se representó en]-(Palacio)',\n",
       " '(Francisco de Guzmán y Morales)-[pagó]-(Pedro Ortiz de Urbina)',\n",
       " '(Cosme Pérez)-[recibió limosna de]-(compañía de Tomás Fernández Cabredo)',\n",
       " '(Josefa López)-[actúa en]-(fin de fiesta)',\n",
       " '(Pérez Pastor)-[afirmó fecha]-(28 de febrero)',\n",
       " '(Juan Navarro Oliver)-[hizo]-(inventario de los bienes de Luis López Sustaete)',\n",
       " '(Bernarda Manuela)-[representó]-(Los volatines)',\n",
       " '(Antonio García de Prado)-[se compromete a hacer]-(representaciones en la Corte hasta el miércoles de Ceniza)',\n",
       " '(Palacio)-[tiene]-(Salón)',\n",
       " '(Cáncer)-[tuvo]-(gracejo y sainetes)',\n",
       " '(Cosme Pérez)-[entregaba]-(200 dcs.)',\n",
       " '(A. de la Granja)-[observó]-(posibilidad de que el origen de Cosme Pérez estuviera en Tudela del Duero)',\n",
       " '(Cosme Pérez)-[estuvo en compañía de]-(Tomás Fernández [Cabredo])',\n",
       " '(Antonio Ramos)-[fue]-(actor)',\n",
       " '(máscara cómica)-[pudiera fundarse en]-(mímica específica)',\n",
       " '(Lobato)-[observa]-(alusión en el sainete final de Solís)',\n",
       " '(Fieras afemina amor)-[es obra de]-(Calderón)',\n",
       " '(Su Majestad)-[salió en público por]-(nacimiento del Príncipe)',\n",
       " '(Fieras afemina amor)-[fue escrita por]-(Calderón de la Barca)',\n",
       " '(El ayo)-[es obra de]-(Agustín Moreto)',\n",
       " '(Cosme Pérez)-[entregó limosna a]-(Cofradía de Nuestra Señora de la Novena)',\n",
       " '(Cotarelo)-[supone]-(pasó la primera parte del año en Valencia)',\n",
       " '(Comisarios de las fiestas del Corpus)-[emitieron orden]-(Antonio de Prado)',\n",
       " '(Bergman)-[nota]-(posible alusión al escándalo)',\n",
       " '(Pellicer)-[recoge anécdota referida a]-(Juan Rana)',\n",
       " '(M. L. Lobato)-[afirmó que intervinieron]-(Luciana Leal)',\n",
       " '(Rey)-[se llevó]-(Juan Rana)',\n",
       " '(Bergman)-[afirma que la representación fue probablemente entre]-(1634 y 1640)',\n",
       " '(Loa y sainetes)-[fueron escritos por]-(Antonio de Solís)',\n",
       " '(Juan Rana)-[actuó en]-(El ayo de Moreto)',\n",
       " '(María de Prado)-[participó en]-(la representación)',\n",
       " '(Los muertos vivos)-[tuvo reparto que incluye]-(Cosme)',\n",
       " '(Valdés)-[es]-(músico de la capilla real)',\n",
       " '(Cosme Pérez)-[apreciado por]-(Rey)',\n",
       " '(Bergman)-[afirmó]-(El baile Al cabo de los bailes mil parece ser una combinación de dos obras independientes)',\n",
       " '(Bárbara Coronel)-[estuvo encarcelada en]-(Guadalajara)',\n",
       " '(La pieza)-[se representó en]-(Palacio de la Zarzuela)',\n",
       " '(Antonio de Prado)-[debía dar muestras]-(compañía)',\n",
       " '(José Antonio de Prado)-[nació en]-(1635)',\n",
       " '(Salón)-[es donde se canta y representan]-(Comedias)',\n",
       " '(29 de noviembre)-[fecha de]-(partida de defunción)',\n",
       " '(Carlos)-[futuro]-(Carlos II)',\n",
       " '(Catalina)-[esposa de]-(Pedro de la Rosa)',\n",
       " '(Antonio Ramos)-[fue testigo en el bautizo de]-(Pedro)',\n",
       " '(Pedro de la Rosa)-[tiene compañía que incluye]-(Cosme Pérez)',\n",
       " '(Juan Rana)-[intervino en]-(Aguardad, supremos dioses del mismo Solís)',\n",
       " '(Pedro de la Rosa)-[autor de]-(obligación)',\n",
       " '(Bernarda Ramírez)-[participó en]-(Darlo todo y no dar nada)',\n",
       " '(María de Diego)-[sobrina de]-(Cosme Pérez)',\n",
       " '(Las fiestas bacanales)-[es obra de]-(Solís)',\n",
       " '(Cosme Pérez)-[compartía de mala gana con]-(Justo de Lazárraga)',\n",
       " '(Bernarda Ramírez)-[identificada por]-(Lobato)',\n",
       " '(La carta)-[fue escrita por]-(Baccio del Bianco)',\n",
       " '(La renegada de Valladolid)-[fue escrita por]-(Diego de Silva)',\n",
       " '(M. L. Lobato)-[afirma]-(que la comedia se repitió en Carabanchel de Arriba)',\n",
       " '(Mariana de Borja)-[intervino en la comedia]-(Las amazonas)',\n",
       " '(María Borja)-[representó junto con]-(Cosme Pérez)',\n",
       " '(Cotarelo)-[recogió testimonio en]-(Memorias de Lady Fanshawe)',\n",
       " '(compañía de comediantes selectos)-[envían a]-(Juan de Austria)',\n",
       " '(Bartola)-[sobrina de]-(Rana)',\n",
       " '(Felipe IV)-[escribía a]-(Luisa Enríquez Manrique)',\n",
       " '(Cosme Pérez)-[fue bautizado en]-(iglesia parroquial de Tudela de Duero)',\n",
       " '(Juan Bautista Valenciano)-[dirigía]-(compañía)',\n",
       " '(9 de julio)-[fecha en la que firmó]-(testamento)',\n",
       " '(Cosme Pérez)-[representó]-(Corpus)',\n",
       " '(El niño caballero)-[es]-(entremés de Solís)',\n",
       " '(Francisco de Guzmán y Morales)-[autor de]-(comedias)',\n",
       " '(Antonia del Pozo)-[actúa en]-(fin de fiesta)',\n",
       " '(Juan Rana)-[es aludido en]-(La maestra de gracias)',\n",
       " '(Antonio de Escamilla)-[debía]-(Cosme Pérez)',\n",
       " '(Infantes)-[se sientan en]-(Salón del Palacio)',\n",
       " '(Pedro de la Rosa)-[estaba con]-(Cosme Pérez)',\n",
       " '(Christiane Faliu-Lacourt)-[recibió homenaje en]-(Kassel)',\n",
       " '(Cosme Pérez)-[recibió]-(20 rs. por representación)',\n",
       " '(primer cabildo de la Cofradía de Nuestra Señora de la Novena)-[según]-(Genealogía)',\n",
       " '(Simón Aguado)-[actuó en]-(Los Juan Ranas)',\n",
       " '(Honrar bien, que Dios es Dios)-[es comedia puesta en escena por]-(compañía de Antonio de Prado)',\n",
       " '(Davis)-[afirmó fecha]-(27 de marzo)',\n",
       " '(Silleros)-[llevaron a]-(Palacio)',\n",
       " '(Rennert)-[recogió testimonio en]-(Memorias de Lady Fanshawe)',\n",
       " '(F. Serralta)-[insistió en]-(aspecto de la personalidad de Juan Rana)',\n",
       " '(Cosme Pérez)-[recibió]-(784 rs.)',\n",
       " '(autor)-[no poder descontar ni hacer pagar]-(Cosme Pérez)',\n",
       " '(Biblioteca Nacional de Madrid)-[conserva]-(manuscrito autógrafo de El desdén vengado)',\n",
       " '(Felipe IV)-[escribió a]-(Luisa Enríquez Manrique)',\n",
       " '(Juan Rana)-[formó parte de]-(compañía de Pedro de la Rosa)',\n",
       " '(7 de febrero)-[fue fecha en que]-(Juan Rana intervino en la loa)',\n",
       " '(Cosme Pérez)-[participó en]-(entremeses de Quiñones de Benavente)',\n",
       " '(Antonio de Escamilla)-[autor de]-(compañía)',\n",
       " '(auto de los comisarios del Corpus)-[fue fechado el]-(30 de enero)',\n",
       " '(Genealogía)-[registraba]-(muerte)',\n",
       " '(Juan Rana)-[tiene]-(máscara cómica)',\n",
       " '(29 de enero de 1672)-[es fecha de estreno de]-(Fieras afemina amor)',\n",
       " '(Varey)-[pusieron en duda]-(Antonio Escamilla)',\n",
       " '(Cosme Pérez)-[participaba en]-(fiestas de Nuestra Señora de Septiembre)',\n",
       " '(Retiro)-[es lugar de]-(fiesta)',\n",
       " '(gasto por el entierro de su mujer)-[está registrado en]-(Libro de la Hacienda)',\n",
       " '(Luis de Belmonte)-[menciona a]-(Juan Rana)',\n",
       " '(Felipe IV)-[dio cuenta de]-(comedia)',\n",
       " '(Mateo Godoy)-[recogió]-(libros de cuentas de la Cofradía)',\n",
       " '(Juan Rana)-[participó en]-(Carnaval)',\n",
       " '(Salta en banco)-[es]-(entremés)',\n",
       " '(Rey)-[cuenta que]-(se desplazó al Escorial)',\n",
       " '(Felipe Próspero)-[nacimiento tuvo lugar en]-(noviembre de 1657)',\n",
       " '(entremés)-[remedaba]-(lo que pasa en el Prado)',\n",
       " '(Cotarelo)-[ofreció]-(primer corpus de los entremeses)',\n",
       " '(unto de las damas)-[no aparece en]-(El doctor Juan Rana)',\n",
       " '(tema de concurso de la academia burlesca)-[fue]-(doce redondillas digan la razón por qué las beatas no tienen unto)',\n",
       " '(carta)-[fue dirigida a]-(Francisco Sardeneta y Mendoza)',\n",
       " '(Las amazonas)-[fue representada ante]-(Su Majestad)',\n",
       " \"(Francisco García 'el Pupilo')-[es autor junto a]-(Diego Osorio)\",\n",
       " '(Tomás Fernández)-[representó a]-(Juan Rana)',\n",
       " '(Juan de Cabanillas)-[participó en]-(Concierto)',\n",
       " '(comedia)-[se representó en]-(Coliseo del Buen Retiro)',\n",
       " '(concierto)-[fechado en]-(Madrid)',\n",
       " '(La renegada de Valladolid)-[se representó en]-(Salón del Buen Retiro)',\n",
       " '(Mariana de Borja)-[participó en]-(la representación)',\n",
       " '(\"Juan Rana\")-[participó en]-(\"El segundo Séneca de España\")',\n",
       " '(Rey Nuestro Señor)-[estaba en]-(Descalzas)',\n",
       " '(Bartola)-[sobrina de]-(Juan Rana)',\n",
       " '(Cosme Pérez)-[interpretó]-(Espinel)',\n",
       " '(La Zarzuela)-[fue representado en]-(Palacio de la Zarzuela)',\n",
       " '(Juan Rana)-[es]-(il Grazzioso della Regina)',\n",
       " '(compañía de Pedro de la Rosa)-[no pudo representar en]-(Valencia)',\n",
       " '(Cosme Pérez)-[no interpretó papeles cómicos en]-(obras de Lope de Vega)',\n",
       " '(Cosme Pérez)-[gracioso]-(Cosme Pérez)',\n",
       " '(María de Acosta)-[estuvo en compañía de]-(Tomás Fernández [Cabredo])',\n",
       " '(Catalina Ramos)-[murió en]-(calle de Cantarranas)',\n",
       " '(Francisco Garro de Alegría)-[permitiría a]-(Pedro de la Rosa)-[ir a representar a]-(otros sitios)',\n",
       " '(Felipe Negro)-[es]-(paisano de Cosme Pérez)',\n",
       " '(Cosme)-[tiene]-(montera)',\n",
       " '(Pedro de la Rosa)-[tiene compañía que incluye]-(Pedro de Cifuentes)',\n",
       " '(Bernarda Ramírez)-[interpretó el papel del]-(Alma)',\n",
       " '(Cofradía)-[pagó a]-(silleros)',\n",
       " '(Pedro de la Rosa)-[formó parte de]-(compañías que representaron Juan Rana en la Zarzuela)',\n",
       " '(Cosme Pérez)-[recibiría]-(50 dcs. por la fiesta del Corpus)',\n",
       " '(Juan González)-[actuó en nombre de]-(José González)',\n",
       " '(Las amazonas)-[se representó ante]-(Su Majestad)',\n",
       " '(función)-[tuvo lugar en]-(lunes de Carnaval)',\n",
       " '(Cosme Pérez)-[intervino como actor en]-(La loa de Juan Rana)',\n",
       " '(Antonio de Escamilla)-[padre de]-(María Escamilla)',\n",
       " '(María de Prado)-[participó en]-(Darlo todo y no dar nada)',\n",
       " '(compañía de comediantes selectos)-[estuvo en]-(Retiro)',\n",
       " '(Juan Rana)-[actuó en]-(autos del Corpus)',\n",
       " '(manuscrito)-[contiene]-(licencia de representación fechada en Madrid el 12 de noviembre de 1622)',\n",
       " '(Cotarelo)-[estuvo en]-(Sevilla)',\n",
       " '(Cosme Pérez)-[figuraba en]-(lista de actores)',\n",
       " '(Mori)-[supuso que la obra fue estrenada en]-(1668)',\n",
       " '(Cosme Pérez)-[fue]-(mui zelebrado en la parte de grazioso)',\n",
       " '(Sebastián de Prado)-[tenía compañía en]-(la representación)',\n",
       " '(Los Juan Ranas)-[edición en]-(Scriptura)',\n",
       " '(Juan Rana)-[participó en]-(comedia Las amazonas)',\n",
       " '(Luis López)-[estaba indispuesto para recibir]-(ellos)',\n",
       " '(Juan Rana)-[se dirigió a]-(Reina)',\n",
       " '(Juan Navarro de Espinosa)-[obtuvo]-(segundo premio)',\n",
       " '(Antonio García de Prado)-[presentó]-(memoria para hacer los autos en las fiestas del Corpus en Madrid)',\n",
       " '(Francisca María Pérez)-[enterrada en]-(Convento de la Santísima Trinidad)',\n",
       " '(Pedro)-[fue bautizado en]-(Valladolid)',\n",
       " '(Madrid)-[fue lugar del concierto]-(Villa de Madrid)',\n",
       " '(Juan Rana)-[actuó con]-(alguacil)',\n",
       " '(Triunfos de Amor y Fortuna)-[es]-(comedia)',\n",
       " '(Pedro de la Rosa)-[es autor junto a]-(Diego Osorio)',\n",
       " '(Españolas)-[se pintan]-(caras)',\n",
       " '(Escritura)-[fechada en]-(Valencia)',\n",
       " '(Hércules o Fieras afemina amor)-[se tenía que representar en]-(Salón Dorado del Buen Retiro)',\n",
       " '(Pedro de la Rosa)-[prorrogaba contrato de]-(Cosme Pérez)',\n",
       " '(episodio)-[está relacionado con]-(estreno de Fieras afemina amor)',\n",
       " '(Cosme Pérez)-[usó como mediación a]-(Juan Rana)',\n",
       " '(Juan Rana)-[intervino en]-(sainete)',\n",
       " '(Pedro de la Rosa)-[es]-(autor de comedias)',\n",
       " '(Cosme Pérez)-[tuvo confianza de]-(Rey)',\n",
       " '(Cosme Pérez)-[tuvo]-(problemas de movilidad)',\n",
       " '(La infelice Dorotea)-[está conservada en]-(Biblioteca Nacional de Madrid)',\n",
       " '(Luisa Romero)-[actuó en]-(comedia Las amazonas)',\n",
       " '(V. García Ruiz)-[coautor de]-(Del horror a la risa)',\n",
       " '(carta)-[está en]-(Archivo Municipal de Madrid)',\n",
       " '(Juan Rana)-[tío de]-(Bartola)',\n",
       " '(Rennert)-[creyó]-(que Bernarda Manuela era la esposa de Cosme Pérez)',\n",
       " '(Pedro)-[hijo de]-(Catalina Nicolás)',\n",
       " '(Cosme Pérez)-[concertaba fiestas en nombre de]-(Antonio García de Prado)',\n",
       " '(Parroquia de San Sebastián)-[archivo contiene]-(defunción del hijo de Cosme Pérez)',\n",
       " '(Bernarda Ramírez)-[imitó la figura de]-(Juan Rana)',\n",
       " '(Libro de la Hacienda)-[pertenece a]-(Cofradía de Nuestra Señora de la Novena)',\n",
       " '(obligación)-[hasta el día del]-(Corpus)',\n",
       " '(Pedro)-[hijo de]-(Pedro de la Rosa)',\n",
       " '(El remediador)-[es un entremés en cuyo reparto figura]-(Cosme)',\n",
       " '(Genealogía)-[fue]-(honbre exemplar de vida)',\n",
       " '(viaje y galas)-[costarán]-(50.000 ducados)',\n",
       " '(entremés)-[se representó en]-(26 de julio)',\n",
       " '(Juan Rana)-[interpretó a]-(Tiempo)',\n",
       " '(Francisca Bezón)-[intervino en]-(Salta en banco)',\n",
       " '(Antonio de Prado)-[tuvo]-(compañía)',\n",
       " '(Varey)-[publicó documentos con]-(Rich Greer)',\n",
       " '(Sáez Raposo)-[actualizó y completó]-(corpus de los entremeses)',\n",
       " '(Diego Osorio)-[tiene compañía teatral]-(Compañía de Diego Osorio)',\n",
       " '(Catalina Nicolás)-[vivía en]-(calle de las Comedias)',\n",
       " '(Juan Rana)-[recibió]-(1.400 rs)',\n",
       " \"(Rennert)-[creyó que estuvo casado con]-(Bernarda Manuela ['la Grifona'])\",\n",
       " '(Francisca María Pérez)-[falleció]-(No hay entidades nombradas en la frase proporcionada)',\n",
       " '(Parlamento entre Miguel de Orozco y Juan Rana)-[alude a]-(encarcelamiento de Sebastián de Prado)',\n",
       " '(casas propias en la calle de Cantarranas)-[ubicadas en]-(Parroquia de San Sebastián)',\n",
       " '(Cosme Pérez)-[actuó en]-(entremés de El triunfo de Juan Rana)',\n",
       " '(Genealogía)-[relata]-(que estuvo retirado mucho tiempo por su edad)',\n",
       " '(Sebastiana Fernández)-[hace el papel de]-(Calíope)',\n",
       " '(F. Sáez Raposo)-[desliga la génesis del nombre y apellido del personaje de]-(factor concreto y singular)',\n",
       " '(Genealogía)-[documenta]-(Juan Rana)',\n",
       " '(tres comedias)-[se representaban]-(día 15)',\n",
       " '(Luciana)-[es apodada]-(la Patata)',\n",
       " '(María Escamilla)-[hija de]-(Antonio de Escamilla)',\n",
       " '(El hijo del Conde de Oropesa)-[nació en]-(Pamplona)',\n",
       " \"(Los autores Pedro de la Rosa, Francisco García 'el Pupilo' y Diego Osorio)-[no salieran]-(de la Corte)\",\n",
       " '(La nueva victoria de don Gonzalo de Córdoba)-[fue fechado en]-(Madrid)',\n",
       " '(Cosme Pérez)-[tuvo]-[papel de mucha mayor relevancia]',\n",
       " '(Francisco Gutiérrez)-[envió]-(800 rs.)',\n",
       " '(Cosme Pérez)-[fue protagonista de]-(escándalo)',\n",
       " '(Juan Rana)-[estaba en el centro de]-(baile con castañetas)',\n",
       " '(Luisa Romero)-[participó en]-(la representación)',\n",
       " '(fiesta de Nuestra Señora de Septiembre)-[incluía]-(dos representaciones de un auto)',\n",
       " '(fiestas de Nuestra Señora de Agosto de Navalagamella)-[incluían]-(tres comedias)',\n",
       " '(Luisa Romero)-[intervino en]-(Salta en banco)',\n",
       " '(Manuela de Escamilla)-[hace el papel de]-(bobo)',\n",
       " '(Bernarda Manuela)-[intervino junto con]-(Cosme Pérez)',\n",
       " '(Luciana Leal)-[intervino en]-(El alcalde de Alcorcón)',\n",
       " '(Juan Rana)-[divirtió con su actuación a]-(Reina)',\n",
       " '(contrato)-[fue fechado en]-(Madrid)',\n",
       " '(otros ingenios selectos de la Corte)-[tuvo]-(entremeses y danzas)',\n",
       " '(Rey)-[pidió a]-(Antonio Mejía)',\n",
       " '(Cotarelo)-[dató erróneamente]-(fiesta)',\n",
       " '(El niño caballero)-[fue representado]-(por Bernarda Ramírez)',\n",
       " '(fiesta)-[tuvo lugar en]-(Salón del Palacio del Buen Retiro)',\n",
       " '(Luis López)-[no estaba sujeto para recibir]-(ellos)',\n",
       " '(Andrés Ferrer)-[realizó imitación en]-(Carnaval)',\n",
       " '(Antonio García de Prado)-[incluye en su compañía a]-(Cosme Pérez)',\n",
       " '(comunicación)-[fue fechada en]-(Real Sitio del Buen Retiro)',\n",
       " '(Libro de la Hacienda)-[menciona como mayordomo de]-(Cofradía de Nuestra Señora de la Novena)',\n",
       " '(casas en la calle de Cantarranas)-[estaban junto a]-(pastelería)',\n",
       " '(Juan González)-[escribió]-(carta)',\n",
       " '(Pedro de la Rosa)-[dirige]-(compañías)',\n",
       " '(En la fiesta)-[tuvo lugar en]-(Salón del Palacio del Buen Retiro)',\n",
       " '(Cosme Pérez)-[aparece en repartos bajo el apodo de]-(Juan Rana)',\n",
       " '(Juan Rana)-[representó]-(papeles principales de la loa)',\n",
       " '(Francisca María Pérez)-[hija de]-(la Reyna nuestra señora)',\n",
       " '(Cosme Pérez)-[intervino ante]-(Rey)',\n",
       " '(Sus Majestades)-[asistieron a]-(representación de la comedia de Antonio de Solís Triunfos de Amor y Fortuna)',\n",
       " '(Tomás Fernández)-[actuó como]-(Juan Rana)',\n",
       " '(Antonio de Escamilla)-[representó]-(Fieras afemina amor)',\n",
       " '(Juan Rana)-[tendrá]-(profesión de alcalde)',\n",
       " '(Cosme Pérez)-[actuó en]-(madrileña iglesia de San Sebastián)',\n",
       " '(Obligación)-[fechada en]-(Madrid)',\n",
       " '(Juan Rana)-[participó en]-(Lo que ha de ser)',\n",
       " '(784 rs.)-[eran a cuenta de]-(precio de un vestido)',\n",
       " '(Antonio García de Prado)-[se compromete a hacer]-(cuarenta representaciones en Toledo)',\n",
       " '(Juan Rana)-[salió por]-(Pascua)',\n",
       " '(Cosme [Pérez])-[fue representado por]-(Pedro de la Rosa)',\n",
       " '(784 rs.)-[eran a cuenta de deuda de]-(Francisco Gutiérrez)',\n",
       " '(Salón del Palacio)-[se representan]-(comedias)',\n",
       " '(Hospital General de Valencia)-[registra]-(incapacidad de representación de la compañía)',\n",
       " '(Hércules o Fieras afemina amor)-[es obra de]-(Pedro Calderón de la Barca)',\n",
       " '(sainete)-[dio fin a]-(comedia)',\n",
       " '(Cosme Pérez)-[se hizo cargo de]-(gastos del entierro de López Sustaete)',\n",
       " '(Cofradía)-[entregó]-(16 rs.)',\n",
       " '(Sáez Raposo)-[deduce]-(que el actor ya era bien conocido por el público)',\n",
       " '(Bergman)-[afirma que]-(entremés atribuido a Quiñones Pipote fue escrito probablemente entre 1634 y 1640)',\n",
       " '(Rey)-[manifiesta]-(afición a la comedia)',\n",
       " '(Cosme Pérez)-[aprendió su papel de gracioso de]-(Tomás Fernández de Cabredo)',\n",
       " '(E. H. Friedman)-[coeditó]-(A society on Stage)',\n",
       " '(M. L. Lobato)-[sigue]-(Cotarelo)',\n",
       " '(Juan Rana)-[fue representado por]-(Tomás Fernández)',\n",
       " '(Juan Rana)-[actor en]-(compañía)',\n",
       " '(El laberinto del mundo)-[es obra de]-(Calderón)',\n",
       " '(Decreto)-[fue emitido por]-(comisarios de las fiestas del Corpus)',\n",
       " '(Corpus madrileño)-[es]-(fiestas)',\n",
       " '(Shergold)-[pusieron en duda]-(Antonio Escamilla)',\n",
       " '(Calderón)-[es]-(autor de Bien vengas mal [o Bien vengas mal si vienes solo])',\n",
       " '(Isabel de Góngora)-[representaba]-(damas)',\n",
       " '(Rennert)-[indicó]-(que el reparto correspondía a la compañía de Juan Bautista Valenciano)',\n",
       " '(Pedro de la Rosa)-[tuvo]-(compañía)',\n",
       " '(María de Prado)-[actuó en]-(Los Juan Ranas)',\n",
       " '(Encerramiento de Sebastián de Prado)-[impedía participación en]-(festejos de Palacio)',\n",
       " '(Bernarda Ramírez)-[intervino en la comedia]-(Las amazonas)',\n",
       " '(Cosme Pérez)-[tuvo]-(Francisca María Pérez)',\n",
       " '(Mariana de Austria)-[era]-(nueva reina)',\n",
       " '(Cotarelo)-[infirió de]-(Libro de la Hacienda)',\n",
       " '(entremés)-[se representó durante]-(fiesta de San Juan)',\n",
       " '(Subirá)-[fuente de]-(que Cosme Pérez estuvo casado con Bernarda Ramírez)',\n",
       " '(María Teresa)-[organizó para festejar]-(Mariana de Austria)',\n",
       " '(Juan Rana)-[fue detenido acusado de]-(pecado nefando)',\n",
       " '(Entidad implícita: \"él\")-[salió a]-(fiesta del Retiro)',\n",
       " '(fiesta en el Retiro)-[tuvo lugar en]-(29 de enero de 1672)',\n",
       " '(La loa de Juan Rana)-[se representó ante]-(Reyes)',\n",
       " '(Juan Rana)-[representó]-(Los volatines)',\n",
       " '(hijo de Cosme Pérez)-[hijo de]-(María de Acosta)',\n",
       " '(Cosme)-[interpreta]-(alcalde)',\n",
       " '(Francisco de Velasco)-[tenía que ser traído]-(Rosa)',\n",
       " '(Cosme Pérez)-[permanecer en]-(compañía)',\n",
       " '(Cosme Pérez)-[interpreta]-(El Capitán Medrano)',\n",
       " '(Bernarda Ramírez)-[murió el]-(24 de octubre de 1662)',\n",
       " '(Pedro de la Rosa)-[pidió que se eliminase el embargo a la compañía de]-(Alonso de Paz)',\n",
       " '(Compañía de Pedro de la Rosa)-[se hallaba en]-(Zaragoza)',\n",
       " '(Decreto)-[ordena]-(Cosme Pérez)',\n",
       " '(Juan Rana)-[hizo]-(su oficio)',\n",
       " '(Sánchez Arjona)-[fuente de]-(que Cosme Pérez estuvo casado con Bernarda Ramírez)',\n",
       " '(Cosme Pérez)-[representó el papel de]-(Bato)',\n",
       " '(compañía de Pedro de la Rosa)-[estuvo en]-(Valencia)',\n",
       " '(Palacio)-[entregó donativo para]-(Cofradía de Nuestra Señora de la Novena)',\n",
       " '(\"El segundo Séneca de España\")-[es comedia de]-(Juan Pérez de Montalbán)',\n",
       " '(Cotarelo)-[aventuró que pudo haber nacido en]-(Madrid)',\n",
       " '(Nuestra Señora de San Lorenzo)-[está en]-(Valladolid)',\n",
       " '(Antonio de Prado)-[es]-(autor de comedias)',\n",
       " '(Cosme Pérez)-[también conocido como]-(Juan Rana)',\n",
       " '(Duque de Nájera)-[informó]-(grefier de la Reina Simón de Alcántara)',\n",
       " '(Corpus madrileño)-[contiene]-(documento)',\n",
       " '(Pedro de la Rosa)-[marido de]-(Catalina Nicolás)',\n",
       " '(entremés)-[ocurrió en]-(Prado)',\n",
       " '(fiesta de Carnaval)-[se celebraba en]-(Palacio del Buen Retiro)',\n",
       " \"(Bernarda Manuela ['la Grifona'])-[sería]-(primera mujer de Cosme Pérez)\",\n",
       " '(Pedro Ascanio)-[dio]-(lista de sus compañías)',\n",
       " '(don Diego de Silva)-[es]-(abad de Salas)',\n",
       " '(Memorial que dio Juan Rana a la Reina Nuestra Señora Doña Mariana de Austria en su entrada en esta corte antes de llegar a Palacio)-[se entregó antes de llegar a]-(Palacio)',\n",
       " '(Francisco Gutiérrez)-[debía a]-(Luis López Sustaete)',\n",
       " '(Bárbara Coronel)-[estuvo condenada a muerte por]-(haber tramado con un apuntador el asesinato de su marido)',\n",
       " '(Felipe IV)-[se refería a]-(Carnaval)',\n",
       " '(Don Antonio de Solís)-[escribió]-(loa)',\n",
       " '(Cosme Pérez)-[vive en]-(Madrid)',\n",
       " '(Luisa Enríquez Manrique)-[tiene el título de]-(condesa de Paredes de Nava)',\n",
       " '(Juan Rana)-[tuvo]-(vestido)',\n",
       " '(Bartola)-[tío de]-(Juan Rana)',\n",
       " '(Cosme Pérez)-[trabajó en]-(Madrid)',\n",
       " '(Lisboa)-[fecha de licencia de representación]-(21 de marzo de 1622)',\n",
       " '(Cosme Pérez)-[representara en su compañía durante]-(fiestas del Corpus)',\n",
       " '(Agustín Moreto)-[escribió]-(El alcalde de Alcorcón)',\n",
       " '(López Sustaete)-[enterrado]-(implícito)',\n",
       " '(Duque de Montalto)-[dirigió escrito a]-(grefier)',\n",
       " '(Príncipe de Astillano)-[hizo]-(fiesta en el Retiro)',\n",
       " '(Cosme Pérez)-[tiene]-(hija)',\n",
       " '(cochecillo pequeño)-[entró en]-(salón alto)',\n",
       " '(El niño caballero)-[fue representado]-(por Pedro de la Rosa)',\n",
       " '(María de Quiñones)-[intervino en la comedia]-(Las amazonas)',\n",
       " '(Cosme Pérez)-[aparece en]-(repartos de algunos manuscritos)',\n",
       " '(La renegada de Valladolid)-[fue escrita por]-(Francisco de Monteser)',\n",
       " '(Bernarda Ramírez)-[es]-(Bernarda)',\n",
       " \"(Cosme Pérez)-[figura junto con en entremeses como marido de]-(Bernarda Manuela ['la Grifona'])\",\n",
       " '(El golfo de las sirenas)-[fue escrita por]-(Calderón)',\n",
       " '(Pedro de la Rosa)-[entregó]-(lista de su compañía)',\n",
       " '(Pedro de la Rosa)-[se comprometía a pagar]-(gastos del transporte de su ropa)',\n",
       " '(Rodrigo de Saavedra)-[dejó]-(unos enterramientos para actores)',\n",
       " '(donativo)-[fue entregado para]-(Cofradía de Nuestra Señora de la Novena)',\n",
       " '(Juan Rana)-[actuó junto a]-(Simón Aguado)',\n",
       " '(Juan Rana)-[propone imitar a]-(María de Quiñones)',\n",
       " '(Paz y Melia)-[indica que]-(La renegada de Valladolid)',\n",
       " '(zarzuela)-[se representó en]-(Palacio)',\n",
       " '(Cosme Pérez)-[recibió]-(Santos Sacramentos)',\n",
       " '(Cosme Pérez)-[fue enviado a]-(Madrid)',\n",
       " '(real decreto)-[fue fechado en]-(31 de mayo)',\n",
       " '(Mariana de Borja)-[actuó en]-(Los Juan Ranas)',\n",
       " '(Villa)-[entregaba]-(vela de cera)',\n",
       " '(Cosme Pérez)-[dio]-(150 rs. a Felipe Negro)',\n",
       " '(Cosme Pérez)-[fue representado por]-(Pedro de la Rosa)',\n",
       " '(El niño caballero)-[fue representado]-(por Juan Rana)',\n",
       " '(Francisco Ortiz)-[es miembro de la compañía de]-(Antonio García de Prado)',\n",
       " '(Cofradía de Nuestra Señora de la Novena)-[tenía capilla en]-(madrileña iglesia de San Sebastián)',\n",
       " '(autor)-[dar]-(raciones)',\n",
       " '(La máscara de \"Juan Rana\")-[se incorporó]-(al repertorio general de tipos cómicos)',\n",
       " '(La fiesta)-[fue organizada por]-(María Teresa)',\n",
       " '(Juan Rana)-[intervino en]-(loa de Antonio de Solís)',\n",
       " '(compañía de Luis López Sustaete)-[llevaba]-(Cosme Pérez)',\n",
       " '(Ana Escamilla)-[hija de]-(Antonio de Escamilla)',\n",
       " '(Diego Osorio)-[intervino en]-(Aguardad, supremos dioses del mismo Solís)',\n",
       " '(La fiesta)-[festejó]-(Mariana de Austria)',\n",
       " '(Pedro de la Rosa)-[dio]-(lista de su compañía)',\n",
       " '(32 rs.)-[ser]-(moneda jaquesa de Aragón)',\n",
       " '(Francisco Gutiérrez)-[envió]-(784 rs. de vellón)',\n",
       " '(Madrid)-[lugar donde firmó]-(testamento)',\n",
       " '(Madrid)-[es lugar de muerte]-(Cosme Pérez)',\n",
       " '(Diego Osorio)-[tenía compañía en]-(la representación)',\n",
       " '(Cosme Pérez)-[representó]-(Octava del Corpus)',\n",
       " '(Bernarda Ramírez)-[no descuida a]-(Diego de Martos)',\n",
       " '(Pedro de la Rosa)-[esposo de]-(Catalina Nicolás)',\n",
       " '(Juan Rana)-[actuó junto a]-(Mariana de Borja)',\n",
       " '(La nueva victoria de don Gonzalo de Córdoba)-[fue escrita por]-(Lope de Vega)',\n",
       " '(Bernarda Ramírez)-[intervino en]-(Las visiones)',\n",
       " '(El Rey)-[es afectado por la pérdida de]-(Juan Rana)',\n",
       " '(Cosme Pérez)-[fue]-(representante)',\n",
       " '(A la fiesta que hizo en el Retiro a los Reyes el Príncipe de Astillano)-[aconsejaba]-(Rey)',\n",
       " '(Juan González)-[hijo de]-(José González)',\n",
       " '(Cosme Pérez)-[ordenó]-(lo relativo a unos enterramientos)',\n",
       " '(Jerónimo de Barrionuevo)-[describe]-(La renegada de Valladolid)',\n",
       " '(Cosme Pérez)-[recogió]-(limosna)',\n",
       " '(tramoya)-[subió por]-(escaleras)',\n",
       " '(El desdén vengado)-[fechado el]-(4 de agosto de 1617)',\n",
       " '(Juan Rana)-[fue]-(Alcalde)',\n",
       " '(Rosa)-[marido de]-(Catalina Nicolás)',\n",
       " '(Mariana Romero)-[intervino en]-(Salta en banco)',\n",
       " '(Juan Rana)-[actuó junto a]-(Pedro de la Rosa)',\n",
       " '(Cosme Pérez)-[pagó]-(gastos del entierro de López Sustaete)',\n",
       " '(Antonio García de Prado)-[tiene obligación con]-(miembros de su compañía)',\n",
       " '(Cosme [Pérez])-[figura como]-(Juan Rana)',\n",
       " '(El alcalde de Alcorcón)-[celebró]-(nacimiento del príncipe Felipe Próspero)',\n",
       " \"(Cosme Pérez 'Juan Rana')-[figura entre los miembros de la compañía de]-(Prado farsante)\",\n",
       " '(El desdén vengado)-[se conserva en]-(Biblioteca Nacional de Madrid)',\n",
       " '(No hay entidades nombradas en la frase proporcionada)-[pertenecía a]-(Cosme Pérez)',\n",
       " '(Reina)-[tuvo]-(accidente)',\n",
       " '(Luis López [Sustaete])-[llevaba]-(Cosme Pérez)',\n",
       " '(Cotarelo)-[recuerda]-(tema de concurso de la academia burlesca)',\n",
       " '(María Quiñones)-[representó junto con]-(María Borja)',\n",
       " '(Cosme Pérez)-[no participó en]-(fiesta de Santa Librada)',\n",
       " '(El toreador)-[se representó ante]-(Principito)',\n",
       " '(Un bobo hace ciento)-[fue escrita por]-(Solís)',\n",
       " '(La infelice Dorotea)-[aparece en]-(Londres)',\n",
       " '(Bárbara Coronel)-[sobrina de]-(Cosme Pérez)',\n",
       " '(Antonio de Solís)-[contó con]-(Juan Rana)',\n",
       " '(Madrid)-[es lugar de]-(licencia de representación)',\n",
       " '(Juan Rana)-[participó en]-(La noche de San Juan)',\n",
       " '(compañía de comediantes selectos)-[incluye]-(Sebastián García de Prado)',\n",
       " '(Gregorio de la Rosa)-[actuó en]-(Los Juan Ranas)',\n",
       " '(Mateo de Godoy)-[actuaron en]-(El ayo de Moreto)',\n",
       " '(Varey)-[recogen el juicio de]-(Cotarelo)',\n",
       " '(Isabel de Basto)-[madre de]-(Cosme Pérez)',\n",
       " '(Felipe IV)-[escribió carta a]-(doña Luisa Enríquez Manrique)',\n",
       " '(Príncipe de Astillano)-[costeó la representación de]-(Hércules o Fieras afemina amor)',\n",
       " '(fiesta palaciega)-[había de tener lugar]-(cinco días después del 17 de diciembre de 1662)',\n",
       " '(comedia)-[fue representada en]-(Coliseo del Buen Retiro)',\n",
       " '(Juan Rana)-[es apodo de]-(Cosme Pérez)',\n",
       " '(Rennert)-[indicó]-(compañía de Juan Bautista Valenciano)',\n",
       " '(Cosme Pérez)-[tuvo hijo]-(hijo de Cosme Pérez)',\n",
       " '(María Teresa de Austria)-[perdió a]-(Juan Rana)',\n",
       " '(Pedro de la Rosa)-[tiene compañía]-(miembros de sus compañías)',\n",
       " '(Juan Rana)-[actuó junto a]-(Francisca Bezona)',\n",
       " '(Antonio García de Prado)-[es]-(autor de comedias)',\n",
       " '(Alma)-[es personaje de]-(Juan Rana)',\n",
       " '(compañía de Tomás Fernández Cabredo)-[envió limosna para]-(Cofradía de Nuestra Señora de la Novena)',\n",
       " '(Cosme Pérez)-[tiene domicilio en]-(calle de Cantarranas)',\n",
       " '(Cuatro Edades)-[incluye]-(de Cobre)',\n",
       " '(Francisca de Castro)-[intervino junto con]-(Cosme Pérez)',\n",
       " '(Pico y Canente)-[obra de]-(Luis de Ulloa y Pereira)',\n",
       " '(comedia)-[fue]-(buena)',\n",
       " '(El niño caballero)-[fue representado]-(por Tomás de Nájera)',\n",
       " '(Alonso de Paz)-[esposo de]-(Manuela Bernabela)',\n",
       " '(Luisa Romero)-[cantaban en]-(loa)',\n",
       " '(La restauración de España)-[también titulada]-(La renegada de Valladolid)',\n",
       " '(compañía de comediantes selectos)-[incluye]-(Bernardilla)',\n",
       " '(Fieras afemina amor)-[fue representada en]-(Salón Dorado del Buen Retiro)',\n",
       " '(Cotarelo)-[afirmó]-(que Cosme Pérez volvió a entregar una limosna a la Cofradía de Nuestra Señora de la Novena)',\n",
       " '(La noche de San Juan)-[se presenta]-(al final de la tercera jornada)',\n",
       " '(Juan Rana)-[acompaña a]-(embajador turco)',\n",
       " '(la obra)-[fue estrenada con motivo de la celebración del cumpleaños de]-(Mariana de Austria)',\n",
       " '(Antonio de Escamilla)-[padre de]-(Ana Escamilla)',\n",
       " '(Luisa Romero)-[intervino en]-(El alcalde de Alcorcón)',\n",
       " '(Mariana de Austria)-[madre de]-(Margarita)',\n",
       " '(Cosme Pérez)-[firmó por]-(autor)',\n",
       " '(Salta en banco)-[se representó junto a]-(Triunfos de Amor y Fortuna)',\n",
       " '(Diego Osorio)-[formó parte de]-(compañías que representaron Juan Rana en la Zarzuela)',\n",
       " '(Juan Rana)-[actuó junto a]-(Mateo Godoy)',\n",
       " '(1 de junio)-[marca el inicio]-(evento de representaciones)',\n",
       " '(Grandes)-[asisten a]-(comedias)',\n",
       " '(Juan Rana)-[intervino en la loa de]-(Antonio de Solís)',\n",
       " '(María de Prado)-[intervino en]-(Salta en banco)',\n",
       " '(Juan Rana)-[es]-(viudo)',\n",
       " '(Agustín Manuel)-[representó]-(Fieras afemina amor)',\n",
       " '(Diego de Osorio)-[estuvo al frente de]-(grupo de representantes)',\n",
       " '(Cosme Pérez)-[enterrado en]-(Convento de la Santísima Trinidad)',\n",
       " '(Felipe IV)-[informaba sobre]-(fiestas de Carnaval)',\n",
       " '(Cosme Pérez)-[actor en]-(la parte principal de la graciosidad)',\n",
       " '(Mariana de Borja)-[canta en]-(sainete)',\n",
       " '(Pedro de la Rosa)-[es autor]-(implícito)',\n",
       " '(Mariana de Borja)-[actuó en]-(comedia Las amazonas)',\n",
       " '(Cotarelo)-[afirmó]-(Cosme Pérez pertenecía a la compañía de Tomás Fernández Cabredo)',\n",
       " ...}"
      ]
     },
     "execution_count": 29,
     "metadata": {},
     "output_type": "execute_result"
    }
   ],
   "source": [
    "unique_relations"
   ]
  },
  {
   "cell_type": "code",
   "execution_count": 31,
   "id": "2abfba07",
   "metadata": {},
   "outputs": [],
   "source": [
    "import json\n",
    "\n",
    "with open(\"../out/relation_extracted_per_method/per_sentence_text_re.json\", \"w\", encoding=\"utf-8\") as fw:\n",
    "    json.dump({key: list(values) for key, values in per_sentence.items()}, fw, ensure_ascii=False, indent=4)"
   ]
  },
  {
   "cell_type": "markdown",
   "id": "7aa24e39",
   "metadata": {},
   "source": [
    "### 2.5 Analyze each sentence with clarified text"
   ]
  },
  {
   "cell_type": "code",
   "execution_count": 1,
   "id": "3add26de",
   "metadata": {},
   "outputs": [],
   "source": [
    "from langchain_openai import ChatOpenAI\n",
    "from dotenv import load_dotenv\n",
    "import pandas as pd\n",
    "import os"
   ]
  },
  {
   "cell_type": "code",
   "execution_count": 2,
   "id": "5f78e2ac",
   "metadata": {},
   "outputs": [],
   "source": [
    "load_dotenv()\n",
    "\n",
    "llm = ChatOpenAI(\n",
    "    model=\"gpt-4.1-mini\",\n",
    "    temperature=0,\n",
    "    api_key=os.getenv(\"OPENAI_API_KEY\"),\n",
    ")"
   ]
  },
  {
   "cell_type": "code",
   "execution_count": 3,
   "id": "c530eac2",
   "metadata": {},
   "outputs": [],
   "source": [
    "import json\n",
    "\n",
    "with open(\"../out/prompting_ners_gpt_4.1_mini.json\", \"r\", encoding=\"utf-8\") as fr:\n",
    "    prompting_ners = json.load(fr)"
   ]
  },
  {
   "cell_type": "code",
   "execution_count": 4,
   "id": "672ff512",
   "metadata": {},
   "outputs": [],
   "source": [
    "import pandas as pd\n",
    "import ast\n",
    "    \n",
    "data = pd.read_csv(\"../data/DicatJuanRana_w_sentences.csv\", sep=\";\", encoding=\"utf-8\", converters={\"sentences\": ast.literal_eval, \"clarified_sentences\": ast.literal_eval})"
   ]
  },
  {
   "cell_type": "code",
   "execution_count": 5,
   "id": "124a4dcf",
   "metadata": {},
   "outputs": [],
   "source": [
    "from langchain.prompts import PromptTemplate\n",
    "\n",
    "ner_extraction_prompt = PromptTemplate(\n",
    "    input_variables=[\"text\"],\n",
    "    template=\"\"\"\n",
    "        Dada la siguiente frase, extrae todas las entidades nombradas (NERs) que aparecen en ella. Las entidades nombradas pueden ser personas, organizaciones, lugares, eventos y obras de arte.\n",
    "        \n",
    "        Si no se encuentran entidades nombradas, devuelve un mensaje vacío.\n",
    "        \n",
    "        Las entidades deben expresarse únicamente en el formato:\n",
    "            Entidad: Tipo   \n",
    "        \n",
    "        Donde:\n",
    "        - Entidad es el nombre de la entidad nombrada.\n",
    "        - Tipo es el tipo de entidad (por ejemplo, PER para personas, ORG para organizaciones, LOC para lugares, EVENT para eventos, WORK_OF_ART para obras de arte, GPE para entidades geopolíticas).    \n",
    "        \n",
    "        Salida esperada:\n",
    "            Entidad1: Tipo1\n",
    "            Entidad2: Tipo2\n",
    "            Entidad3: Tipo3\n",
    "            …   \n",
    "            \n",
    "        Asegúrate de que el tipo de entidad sea el mencionado antriormente (PER, ORG, LOC, EVENT, WORK_OF_ART, GPE).\n",
    "        \n",
    "        Muestra la salida únicamente con las entidades encontradas, sin ningún otro texto adicional.\n",
    "        \n",
    "        Frase de entrada:\n",
    "        {text}\n",
    "    \"\"\",\n",
    ")\n",
    "\n",
    "\n",
    "clarified_sentence_prompt = PromptTemplate(\n",
    "    input_variables=[\"sentence\", \"prev_context\", \"post_context\", \"entities\"],\n",
    "    template=\"\"\"\n",
    "       Actúa como un agente experto en procesamiento de lenguaje natural, objetivo es aclarar referencias ambiguas en una frase dada, especialmente aquellas relacionadas con:\n",
    "\n",
    "         - Sujeto omitido o implícito (ej. \"fue\", \"llegó\", \"respondió\")\n",
    "\n",
    "         - Complemento directo (ej. \"la comedia\", \"la llamó\", \"lo rechazaron\")\n",
    "\n",
    "         - Complemento indirecto (ej. \"le dijo\", \"le enviaron\")\n",
    "\n",
    "        Tu tarea es sustituir estas referencias por el nombre o entidad concreta a la que se refieren, usando el contexto de  dos o tres frases anteriores y posteriores.\n",
    "        \n",
    "        Si no puedes determinar a qué se refiere una referencia ambigua, devuelve la frase original sin cambios. \n",
    "        \n",
    "        No intentes adivinar o hacer suposiciones sobre el significado de la referencia, modifica únicamente las referencias que puedas aclarar con certeza basándote en el contexto proporcionado.\n",
    "        \n",
    "        Devuelve la frase modificada, asegurándote de que la referencia sea clara y específica. Si la frase original ya es clara, devuélvela sin cambios.\n",
    "        \n",
    "        Asegúrate de que la frase resultante sea gramaticalmente correcta y mantenga el significado original de la frase.\n",
    "        \n",
    "        La frase que devuelvas debe ser una versión corregida de la frase original, con las referencias ambiguas aclaradas. No añadas ni elimines información que no esté presente en la frase original.\n",
    "        \n",
    "        **EJEMPLO Complemento Directo**\n",
    "\n",
    "            Entrada:\n",
    "            La comedia fue muy bien. La comedia era Constantino.\n",
    "\n",
    "            Salida:\n",
    "            Constantino fue muy bien. La comedia era Constantino.\n",
    "            o\n",
    "            La comedia Constantino fue muy bien. La comedia era Constantino.\n",
    "        \n",
    "        **EJEMPLO Sujeto Omitido**\n",
    "\n",
    "            Entrada:\n",
    "            Ayer llegaron todos menos Ana. Fue quien organizó el evento. \n",
    "\n",
    "            Salida:\n",
    "            Ayer llegaron todos menos Ana. Ana organizó el evento. \n",
    "        \n",
    "        -------------------------------------------------------------------------\n",
    "        \n",
    "        Contexto Previo:\n",
    "        El texto forma parte de la biografía de Cosme Pérez. \n",
    "        {prev_context}\n",
    "        \n",
    "        Contexto Posterior:\n",
    "        {post_context}\n",
    "        \n",
    "        Frase de entrada:\n",
    "        {sentence} \n",
    "    \"\"\",\n",
    ")\n",
    "\n",
    "\n",
    "sentence_prompt = PromptTemplate(\n",
    "    input_variables=[\"text\", \"prev_context\", \"entities\"],\n",
    "    template=\"\"\"\n",
    "        Dada la siguiente frase y una lista de entidades nombradas previamente extraídas, identifica todas las posibles relaciones explícitas o implícitas entre las entidades que tanto en la frase como en la lista de entidades.\n",
    "        \n",
    "        Se debe extraer el máximo número de relaciones posibles, pero se debe asegurar que estas relaciones sean coherentes y relevantes en el contexto del texto.\n",
    "        \n",
    "        Haz un especial énfasis en las relaciones intrapersonales, padre de, marido de, hijo de, etc y de eventos.\n",
    "        \n",
    "        Las frases pueden contener un contexto para ayudar a identificar las relaciones (para frases que comiencen con fue..., el cual..., etc.) pero no se deben sacar relaciones del propio contexto.\n",
    "\n",
    "        Las relaciones deben expresarse únicamente en el formato:\n",
    "        (Entidad1)-[relación]-(Entidad2)\n",
    "\n",
    "        Donde:\n",
    "\n",
    "        - La Entidad1 debe coincidir con alguna de las entidades de la lista proporcionada.\n",
    "\n",
    "        - [relación] debe ser un verbo o una expresión verbal que indique la relación entre las entidades en el contexto del texto.\n",
    "        \n",
    "        - Ignora relaciones que no se puedan inferir directamente del texto.\n",
    "\n",
    "        Salida esperada:\n",
    "        (EntidadA)-[relación]-(EntidadB)\n",
    "        (EntidadC)-[relación]-(EntidadD)\n",
    "        …\n",
    "        \n",
    "        Ejemplo:\n",
    "\n",
    "            NERs:\n",
    "            Cosme Pérez, Francisca Pérez.\n",
    "        \n",
    "            Frase de Entrada:\n",
    "            Cosme Pérez fue un conocido artista, quien además tenía una hija, Francisca Pérez.\n",
    "            \n",
    "            Salida esperada:\n",
    "            (Francisca Pérez)-[hija de]-(Cosme Pérez)\n",
    "            (Cosme Pérez)-[padre de]-(Francisca Pérez)\n",
    "            (Cosme Pérez)-[fue]-(conocido artista)\n",
    "        \n",
    "        \n",
    "        Muestra la salida únicamente con las relaciones encontradas, sin ningún otro texto adicional.\n",
    "        \n",
    "        Lista de entidades (NERs):\n",
    "        {entities}\n",
    "\n",
    "        Contexto de la frase (es útil para entender mejor la frase actual de la que se están extrayendo las relaciones):\n",
    "        El texto forma parte de la biografía de Cosme Pérez. \n",
    "        \n",
    "        - Contexto previo a la frase: {prev_context}\n",
    "\n",
    "        Frase de entrada:\n",
    "        {text}\n",
    "    \"\"\",\n",
    ")"
   ]
  },
  {
   "cell_type": "code",
   "execution_count": null,
   "id": "2e2e1a09",
   "metadata": {},
   "outputs": [
    {
     "data": {
      "application/vnd.jupyter.widget-view+json": {
       "model_id": "f69537e6c25542ca837796606903b020",
       "version_major": 2,
       "version_minor": 0
      },
      "text/plain": [
       "  0%|          | 0/9 [00:00<?, ?it/s]"
      ]
     },
     "metadata": {},
     "output_type": "display_data"
    },
    {
     "data": {
      "application/vnd.jupyter.widget-view+json": {
       "model_id": "bcf0e4e40e4647ec83206961fa0d8866",
       "version_major": 2,
       "version_minor": 0
      },
      "text/plain": [
       "  0%|          | 0/9 [00:00<?, ?it/s]"
      ]
     },
     "metadata": {},
     "output_type": "display_data"
    },
    {
     "data": {
      "application/vnd.jupyter.widget-view+json": {
       "model_id": "5e364a9fead048658881527da508186a",
       "version_major": 2,
       "version_minor": 0
      },
      "text/plain": [
       "  0%|          | 0/2 [00:00<?, ?it/s]"
      ]
     },
     "metadata": {},
     "output_type": "display_data"
    },
    {
     "data": {
      "application/vnd.jupyter.widget-view+json": {
       "model_id": "2c7ca79df4a04dc0b1ad67a233b5a657",
       "version_major": 2,
       "version_minor": 0
      },
      "text/plain": [
       "  0%|          | 0/3 [00:00<?, ?it/s]"
      ]
     },
     "metadata": {},
     "output_type": "display_data"
    },
    {
     "data": {
      "application/vnd.jupyter.widget-view+json": {
       "model_id": "6d9ed45688f84f7f8693e0fe17a888b1",
       "version_major": 2,
       "version_minor": 0
      },
      "text/plain": [
       "  0%|          | 0/13 [00:00<?, ?it/s]"
      ]
     },
     "metadata": {},
     "output_type": "display_data"
    },
    {
     "data": {
      "application/vnd.jupyter.widget-view+json": {
       "model_id": "b0b3dd42bb7644e8b3f025c1e1bfaed8",
       "version_major": 2,
       "version_minor": 0
      },
      "text/plain": [
       "  0%|          | 0/10 [00:00<?, ?it/s]"
      ]
     },
     "metadata": {},
     "output_type": "display_data"
    },
    {
     "data": {
      "application/vnd.jupyter.widget-view+json": {
       "model_id": "52d0da3763ee469fbbf479e60e254302",
       "version_major": 2,
       "version_minor": 0
      },
      "text/plain": [
       "  0%|          | 0/10 [00:00<?, ?it/s]"
      ]
     },
     "metadata": {},
     "output_type": "display_data"
    },
    {
     "data": {
      "application/vnd.jupyter.widget-view+json": {
       "model_id": "b4fcfc0fdcbc4410aebea9f974d7b0de",
       "version_major": 2,
       "version_minor": 0
      },
      "text/plain": [
       "  0%|          | 0/9 [00:00<?, ?it/s]"
      ]
     },
     "metadata": {},
     "output_type": "display_data"
    },
    {
     "data": {
      "application/vnd.jupyter.widget-view+json": {
       "model_id": "1dad98d894d14f0d9bfe6f4aa31fa0d2",
       "version_major": 2,
       "version_minor": 0
      },
      "text/plain": [
       "  0%|          | 0/18 [00:00<?, ?it/s]"
      ]
     },
     "metadata": {},
     "output_type": "display_data"
    },
    {
     "data": {
      "application/vnd.jupyter.widget-view+json": {
       "model_id": "aa9b60ca28d64605ac6c06d505ca0d63",
       "version_major": 2,
       "version_minor": 0
      },
      "text/plain": [
       "  0%|          | 0/14 [00:00<?, ?it/s]"
      ]
     },
     "metadata": {},
     "output_type": "display_data"
    }
   ],
   "source": [
    "from tqdm.auto import tqdm\n",
    "from collections import defaultdict\n",
    "import rich as rc\n",
    "\n",
    "\n",
    "sentences_of_context = 3 # Number of sentences to consider as context for each sentence\n",
    "\n",
    "total_re_found = 0\n",
    "relations = set()\n",
    "\n",
    "per_sentence = defaultdict(set)\n",
    "years_to_test = [1636, 1643, 1648, 1651, 1653, 1656, 1665, 1666, 1670]\n",
    "\n",
    "all_clarified_sentences = []\n",
    "\n",
    "\n",
    "# for _, year in tqdm(data[data[\"year\"].astype(int) == 1656].iterrows(), total=1, position=0):\n",
    "# for _, year in tqdm(data[data[\"year\"].astype(int).isin(years_to_test)].iterrows(), total=len(years_to_test), position=0):\n",
    "for _, year in tqdm(data.iterrows(), total=len(data), position=0):\n",
    "    \n",
    "        \n",
    "    clarified_sentences = []\n",
    "    \n",
    "    sentences = year[\"sentences\"]\n",
    "    ners_context = defaultdict(str)\n",
    "    \n",
    "    for i, sentence in tqdm(enumerate(sentences), total=len(sentences), position=1, leave=True):\n",
    "        \n",
    "        prev_context = sentences[max(0, i-sentences_of_context):i]\n",
    "        next_context = sentences[i+1:i+1+sentences_of_context]\n",
    "        \n",
    "        total_ners = []\n",
    "        for ss in prev_context + next_context + [sentence]:\n",
    "            if ss.strip() in ners_context:\n",
    "                total_ners.append(ners_context[ss.strip()])\n",
    "                continue\n",
    "            \n",
    "            ners_extracted = llm.invoke(\n",
    "                ner_extraction_prompt.invoke({\n",
    "                    \"text\": sentence.strip(),\n",
    "                })\n",
    "            ).content.split(\"\\n\")\n",
    "            \n",
    "            entities = \", \".join([\n",
    "                ner.split(\": \")[0] for ner in ners_extracted\n",
    "            ])\n",
    "            \n",
    "            ners_context[ss.strip()] = entities\n",
    "        \n",
    "        total_ners = \", \".join(total_ners)\n",
    "        total_ners = \", \".join(set(total_ners.split(\", \")))  # Remove duplicates\n",
    "        \n",
    "        clarified_sentence = llm.invoke(\n",
    "            clarified_sentence_prompt.invoke({\n",
    "                \"sentence\": sentence.strip(),\n",
    "                \"prev_context\": \"\\n\".join(prev_context),\n",
    "                \"post_context\": \"\\n\".join(next_context),\n",
    "                \"entities\": total_ners,\n",
    "            })\n",
    "        ).content.strip()\n",
    "        \n",
    "        clarified_sentences.append(clarified_sentence)\n",
    "\n",
    "        response = llm.invoke(\n",
    "            sentence_prompt.invoke({\n",
    "                \"text\": clarified_sentence.strip(),\n",
    "                \"prev_context\": \"\\n\".join(prev_context),\n",
    "                \"entities\": total_ners,\n",
    "            })\n",
    "        ).content\n",
    "    \n",
    "        total_re_found += len(response.split(\"\\n\"))\n",
    "        \n",
    "        # rc.print(dict(ners_context))\n",
    "        # rc.print(f\"Clarified Sentence: {clarified_sentence}\")\n",
    "        # rc.print(f\"Original Sentence: {sentence.strip()}\")\n",
    "        # rc.print(f\"Entities for response: {entities_for_response}\")\n",
    "        \n",
    "        for relation in response.split(\"\\n\"):\n",
    "            relation = relation.strip()\n",
    "            per_sentence[year[\"year\"]].add(relation)\n",
    "        \n",
    "        # DEBUGGING \n",
    "        # print(\"Relaciones encontradas:\\n\", response.strip())\n",
    "        # print(f\"Frase: {sentence.strip()}\")\n",
    "        # print(f\"Contexto previo: {' '.join(context)}\")\n",
    "        # print(f\"Contexto posterior: {' '.join(sentences[i+1:i+1+sentences_of_context])}\")\n",
    "        # print()\n",
    "        \n",
    "    all_clarified_sentences.append(clarified_sentences)\n",
    "        "
   ]
  },
  {
   "cell_type": "code",
   "execution_count": 7,
   "id": "a7eefebc",
   "metadata": {},
   "outputs": [
    {
     "name": "stdout",
     "output_type": "stream",
     "text": [
      "Total de relaciones encontradas: 239, de las cuales 223 son únicas.\n"
     ]
    }
   ],
   "source": [
    "unique_relations = {relation for relations in per_sentence.values() for relation in relations}\n",
    "\n",
    "print(f\"Total de relaciones encontradas: {total_re_found}, de las cuales {len(unique_relations)} son únicas.\")"
   ]
  },
  {
   "cell_type": "code",
   "execution_count": 8,
   "id": "f9b70a3d",
   "metadata": {},
   "outputs": [
    {
     "data": {
      "text/plain": [
       "{'',\n",
       " '(150 dcs. de vellón)-[eran para]-(Cofradía de Nuestra Señora de la Novena)',\n",
       " '(50 dcs.)-[corresponden a]-(fiesta del Corpus)',\n",
       " '(A. de la Granja)-[observó]-(posibilidad de que el origen de Cosme Pérez estuviera en Tudela de Duero)',\n",
       " '(A. de la Granja)-[publicó]-(testamento)',\n",
       " '(Agustín Merlo)-[acusó a]-(otros)',\n",
       " '(Agustín Merlo)-[fue detenido por]-(mantener una reyerta con el hijo de Valdés)',\n",
       " '(Albaceas y testamentarios)-[poder de vender]-(bienes de Cosme Pérez)',\n",
       " '(Andrómeda y Perseo)-[es]-(comedia)',\n",
       " '(Antonio García de Prado)-[es]-(autor de comedias)',\n",
       " '(Antonio García de Prado)-[otorgó poder a]-(Cosme Pérez)',\n",
       " '(Antonio García de Prado)-[otorgó poder a]-(Francisco Ortiz)',\n",
       " '(Antonio de Escamilla)-[debía dinero a]-(Cosme Pérez)',\n",
       " '(Antonio de Escamilla)-[vendió vestido a]-(Cosme Pérez)',\n",
       " '(Baccio del Bianco)-[denomina]-(Juan Rana)',\n",
       " '(Baccio del Bianco)-[describe]-(fiesta)',\n",
       " '(Baccio del Bianco)-[escribió]-(carta)',\n",
       " '(Baccio)-[describe]-(loa)',\n",
       " '(Bernarda Ramírez)-[actriz en]-(representación)',\n",
       " '(Bernarda Ramírez)-[interpretó el papel de]-(Alma de Juan Rana)',\n",
       " '(Bernarda Ramírez)-[interpretó el papel del \"Alma\" de]-(Juan Rana)',\n",
       " '(Bernarda Ramírez)-[intervino en]-(la representación)',\n",
       " '(Bernarda Ramírez)-[participó en]-(Darlo todo y no dar nada)',\n",
       " '(Casas propias en la calle de Cantarranas)-[ubicadas en]-(Parroquia de San Sebastián)',\n",
       " '(Catalina de Nicolás y la Rosa)-[contrató]-(Cosme Pérez)',\n",
       " '(Catalina de Nicolás y la Rosa)-[esposa de]-(Pedro de la Rosa)',\n",
       " '(Catalina de Nicolás y la Rosa)-[se comprometía a pagar]-(456 rs. del viaje de Murcia)',\n",
       " '(Cofradía de Nuestra Señora de la Novena)-[ayudaba]-(fábrica de su capilla)',\n",
       " '(Cofradía)-[entregó]-(16 rs.)',\n",
       " '(Cofradía)-[llevó]-(Cosme Pérez)',\n",
       " '(Coliseo del Buen Retiro)-[está en]-(Madrid)',\n",
       " '(Coliseo del Buen Retiro)-[ubicado en]-(Madrid)',\n",
       " '(Coliseo)-[fue lugar de]-(fiesta)',\n",
       " '(Comunicación)-[fue fechada el]-(26 de abril)',\n",
       " '(Comunicación)-[fue fechada en]-(real Sitio del Buen Retiro)',\n",
       " '(Concierto)-[fechado en]-(Madrid)',\n",
       " '(Cosme Pérez y Francisco Ortiz)-[concertaron fiestas en nombre de]-(Antonio García de Prado)',\n",
       " '(Cosme Pérez)-[actor de]-(compañía de Pedro de la Rosa)',\n",
       " '(Cosme Pérez)-[actor]-(Cosme Pérez)',\n",
       " '(Cosme Pérez)-[acudió a]-(Palacio)',\n",
       " '(Cosme Pérez)-[alias]-(Juan Rana)',\n",
       " '(Cosme Pérez)-[asistió al]-(cabildo de la Cofradía de Nuestra Señora de la Novena)',\n",
       " '(Cosme Pérez)-[cobró]-(12 rs. de ración)',\n",
       " '(Cosme Pérez)-[cobró]-(20 rs. por representación)',\n",
       " '(Cosme Pérez)-[cobró]-(50 dcs. por el Corpus)',\n",
       " '(Cosme Pérez)-[compartía]-(casas propias en la calle de Cantarranas)',\n",
       " '(Cosme Pérez)-[declaraba ser vecino de]-(Madrid)',\n",
       " '(Cosme Pérez)-[entregaba limosna a]-(Cofradía de Nuestra Señora de la Novena)',\n",
       " '(Cosme Pérez)-[entregaba]-(200 dcs.)',\n",
       " '(Cosme Pérez)-[entregaba]-(limosnas)',\n",
       " '(Cosme Pérez)-[enviaba]-(150 dcs.)',\n",
       " '(Cosme Pérez)-[enviaba]-(30 dcs. de vellón)',\n",
       " '(Cosme Pérez)-[era vecino de]-(Madrid)',\n",
       " '(Cosme Pérez)-[es miembro de la compañía de]-(Antonio García de Prado)',\n",
       " '(Cosme Pérez)-[esposo de]-(María de Acosta)',\n",
       " '(Cosme Pérez)-[figuraba en lista de actores]-(los autos del Corpus)',\n",
       " '(Cosme Pérez)-[firmó en]-(Madrid)',\n",
       " '(Cosme Pérez)-[firmó]-(nuevo testamento)',\n",
       " '(Cosme Pérez)-[firmó]-(testamento)',\n",
       " '(Cosme Pérez)-[fue contratado por]-(Catalina de Nicolás y la Rosa)',\n",
       " '(Cosme Pérez)-[fue llevado a]-(Palacio)',\n",
       " '(Cosme Pérez)-[fue objeto de]-(honras fúnebres de Cosme Pérez)',\n",
       " '(Cosme Pérez)-[fue objeto de]-(peticiones de misas por el alma de Cosme Pérez)',\n",
       " '(Cosme Pérez)-[fue]-(alma)',\n",
       " '(Cosme Pérez)-[fue]-(representante)',\n",
       " '(Cosme Pérez)-[manifiesta]-(preocupación religiosa)',\n",
       " '(Cosme Pérez)-[mencionado en]-(Libro de la Hacienda)',\n",
       " '(Cosme Pérez)-[mencionado en]-(auto de los comisarios del Corpus)',\n",
       " '(Cosme Pérez)-[miembro de]-(compañía de Tomás Fernández)',\n",
       " '(Cosme Pérez)-[murió]-(por ser viejo y hallarse pobre)',\n",
       " '(Cosme Pérez)-[no quería representar]-(los autos del Corpus)',\n",
       " '(Cosme Pérez)-[ordenaba pagar a]-(Isabel)',\n",
       " '(Cosme Pérez)-[ordenaba pagar]-(limosnas)',\n",
       " '(Cosme Pérez)-[ordenaba pagar]-(misas)',\n",
       " '(Cosme Pérez)-[origen en]-(Tudela de Duero)',\n",
       " '(Cosme Pérez)-[otorgaba]-(Felipe Negro)',\n",
       " '(Cosme Pérez)-[padre de]-(Francisca María Pérez)',\n",
       " '(Cosme Pérez)-[padre de]-(su hija)',\n",
       " '(Cosme Pérez)-[pariente de]-(María de Diego)',\n",
       " '(Cosme Pérez)-[pedía ser enterrado en]-(Convento de la Santísima Trinidad de Madrid)',\n",
       " '(Cosme Pérez)-[recibiría]-(10 rs. de ración)',\n",
       " '(Cosme Pérez)-[recibiría]-(20 rs. por cada representación)',\n",
       " '(Cosme Pérez)-[recibiría]-(50 dcs. por la fiesta del Corpus)',\n",
       " '(Cosme Pérez)-[recibiría]-(tres caballerías para los viajes)',\n",
       " '(Cosme Pérez)-[recibió mandato de]-(Su Majestad)',\n",
       " '(Cosme Pérez)-[recibió ración ordinaria]-(Duque de Montalto)',\n",
       " '(Cosme Pérez)-[recibió ración ordinaria]-(Francisca María Pérez)',\n",
       " '(Cosme Pérez)-[recibió ración ordinaria]-(Madrid)',\n",
       " '(Cosme Pérez)-[recibió ración ordinaria]-(Su Majestad)',\n",
       " '(Cosme Pérez)-[recibió ración ordinaria]-(fallecimiento de Francisca María Pérez)',\n",
       " '(Cosme Pérez)-[recibió ración ordinaria]-(real decreto)',\n",
       " '(Cosme Pérez)-[recibió]-(1.000 rs. de préstamo)',\n",
       " '(Cosme Pérez)-[recibió]-(1.000 rs.)',\n",
       " '(Cosme Pérez)-[recibió]-(las caballerías para transporte)',\n",
       " '(Cosme Pérez)-[recibía deuda de]-(Antonio de Escamilla)',\n",
       " '(Cosme Pérez)-[recogió]-(limosna)',\n",
       " '(Cosme Pérez)-[representó a]-(Cofradía de Nuestra Señora de la Novena)',\n",
       " '(Cosme Pérez)-[representó el papel de]-(Bato)',\n",
       " '(Cosme Pérez)-[representó]-(su parte de toda la graciosidad)',\n",
       " '(Cosme Pérez)-[se comprometió a representar]-(la parte principal de la graciosidad)',\n",
       " '(Cosme Pérez)-[se hallaba con]-(achaques)',\n",
       " '(Cosme Pérez)-[tenía]-(pabellón de brocado)',\n",
       " '(Cosme Pérez)-[tiene sepultura propia en]-(convento de religiosos descalzos de la Santísima Trinidad desta Corte)',\n",
       " '(Cosme Pérez)-[tuvo]-(albaceas y testamentarios)',\n",
       " '(Cosme Pérez)-[tuvo]-(avanzada edad)',\n",
       " '(Cosme Pérez)-[tuvo]-(problemas de movilidad)',\n",
       " '(Cosme Pérez)-[vecino de]-(Madrid)',\n",
       " '(Cosme Pérez)-[vecino de]-(ciudad)',\n",
       " '(Cosme Pérez)-[vivía en]-(casas propias en la calle de Cantarranas)',\n",
       " '(Cosme Pérez)-[volvió]-(del desmayo)',\n",
       " '(Cotarelo)-[dató erróneamente]-(la fiesta)',\n",
       " '(Cotarelo)-[dató erróneamente]-(la representación)',\n",
       " '(Cotarelo)-[dedujo]-(problemas de movilidad de Cosme Pérez)',\n",
       " '(Cotarelo)-[recogió]-(testimonio contemporáneo)',\n",
       " '(Diego Osorio)-[dirigió]-(compañía teatral)',\n",
       " '(Duque de Nájera)-[envió comunicación a]-(Simón de Alcántara)',\n",
       " '(Duque de Nájera)-[envió comunicación a]-(grefier de la Reina Simón de Alcántara)',\n",
       " '(Duque de Nájera)-[informó a]-(Simón de Alcántara)',\n",
       " '(El Libro de la Hacienda de la Cofradía de Nuestra Señora de la Novena)-[registró]-(gasto por el entierro de María de Acosta)',\n",
       " '(Felipe IV)-[daba cuenta a]-(Luisa Enríquez Manrique)',\n",
       " '(Felipe IV)-[daba cuenta a]-(doña Luisa Enríquez Manrique)',\n",
       " '(Felipe IV)-[dio cuenta a]-(Luisa Enríquez Manrique)',\n",
       " '(Felipe IV)-[es]-(Rey)',\n",
       " '(Felipe IV)-[escribía a]-(condesa de Paredes de Nava)',\n",
       " '(Felipe IV)-[escribía]-(carta)',\n",
       " '(Felipe IV)-[estaba en]-(Descalzas)',\n",
       " '(Felipe IV)-[informaba sobre]-(comedia)',\n",
       " '(Felipe IV)-[informó sobre]-(comedia)',\n",
       " '(Felipe Negro)-[es]-(paisano y pariente)',\n",
       " '(Francisca María Pérez)-[está sepultada en]-(convento de religiosos descalzos de la Santísima Trinidad desta Corte)',\n",
       " '(Francisca María Pérez)-[hija de]-(Cosme Pérez)',\n",
       " '(Francisca María Pérez)-[hija de]-(la Reyna nuestra señora)',\n",
       " '(Francisco Ortiz)-[es miembro de la compañía de]-(Antonio García de Prado)',\n",
       " '(Francisco de Diego)-[sobrino de]-(Cosme Pérez)',\n",
       " '(Juan Araña)-[trabajó]-(aquí)',\n",
       " '(Juan Rana)-[actuó en]-(autos del Corpus)',\n",
       " '(Juan Rana)-[actuó en]-(comedia)',\n",
       " '(Juan Rana)-[estaba en el centro de]-(baile con castañetas)',\n",
       " '(Juan Rana)-[estuvo involucrado en]-(escándalo del caso de Juan Rana y Agustín Merlo)',\n",
       " '(Juan Rana)-[ha de gozar]-(ración ordinaria)',\n",
       " '(Juan Rana)-[intervino en]-(Constantino el sainete)',\n",
       " '(Juan Rana)-[intervino en]-(la representación)',\n",
       " '(Juan Rana)-[representó]-(Pico y Canente)',\n",
       " '(Juan Rana)-[se le acuda con]-(Reina Mariana de Austria)',\n",
       " '(La comedia)-[fue representada en]-(Coliseo del Buen Retiro)',\n",
       " '(La comedia)-[fue]-(comedia)',\n",
       " '(Libro de la Hacienda)-[pertenece a]-(Cofradía de Nuestra Señora de la Novena)',\n",
       " '(Luis de Ulloa y Pereira)-[escribió]-(Pico y Canente)',\n",
       " '(Luis de Ulloa y Pereira)-[intervino en]-(Constantino el sainete)',\n",
       " '(Luisa Romero)-[cantaban en]-(loa)',\n",
       " '(Luisa Romero)-[intervino en]-(Constantino el sainete)',\n",
       " '(Luisa Romero)-[participó en]-(Darlo todo y no dar nada)',\n",
       " '(Luisa Romero)-[perteneció a]-(compañía de Diego Osorio)',\n",
       " '(Mariana Romero)-[cantaban en]-(loa)',\n",
       " '(Mariana Romero)-[participó en]-(Darlo todo y no dar nada)',\n",
       " '(Mariana Romero)-[perteneció a]-(compañía de Sebastián de Prado)',\n",
       " '(Mariana de Borja)-[alias de]-(Luisa Romero)',\n",
       " '(María de Acosta)-[esposa de]-(Cosme Pérez)',\n",
       " '(María de Diego)-[sobrina de]-(Cosme Pérez)',\n",
       " '(María de Prado)-[participó en]-(Darlo todo y no dar nada)',\n",
       " '(María de Quiñones)-[participó en]-(Darlo todo y no dar nada)',\n",
       " '(Memorias de Lady Fanshawe)-[contienen]-(testimonio contemporáneo)',\n",
       " '(Nuestra Señora del Amparo)-[está en]-(iglesia parroquial de Tudela de Duero)',\n",
       " '(Otorgaba)-[poder a]-(albaceas y testamentarios de Cosme Pérez)',\n",
       " '(Pedro de la Rosa)-[entregó lista de actores]-(Cosme Pérez)',\n",
       " '(Pedro de la Rosa)-[esposo de]-(Catalina de Nicolás y la Rosa)',\n",
       " '(Pedro de la Rosa)-[representó]-(los autos del Corpus)',\n",
       " '(Pico y Canente)-[fue escrita por]-(Luis de Ulloa y Pereira)',\n",
       " '(Pico y Canente)-[fue escrita por]-(Rodrigo de Ávila)',\n",
       " '(Real Sitio del Buen Retiro)-[es lugar de]-(comunicación)',\n",
       " '(Reina Mariana de Austria)-[cumpleaños de]-(Reina Mariana de Austria)',\n",
       " '(Reina Mariana de Austria)-[esposa de]-(Felipe IV)',\n",
       " '(Reina Mariana de Austria)-[madre de]-(infanta Margarita)',\n",
       " '(Reina Mariana de Austria)-[recuperación de]-(accidente)',\n",
       " '(Reina)-[dio donativo a]-(Cosme Pérez)',\n",
       " '(Reina)-[entregó donativo a]-(Cofradía de Nuestra Señora de la Novena)',\n",
       " '(Rennert)-[recogió]-(testimonio contemporáneo)',\n",
       " '(Rodrigo de Ávila)-[escribió]-(Pico y Canente)',\n",
       " '(Sebastián de Prado)-[dirigió]-(compañía teatral)',\n",
       " '(Simón de Alcántara)-[es]-(grefier de la Reina Mariana de Austria)',\n",
       " '(Su Majestad)-[emitió]-(real decreto)',\n",
       " '(Valdés)-[acusó a]-(Agustín Merlo)',\n",
       " '(Valdés)-[es]-(músico de la capilla real)',\n",
       " '(auto de los comisarios del Corpus)-[fechado en]-(30 de enero)',\n",
       " '(auto de los comisarios del Corpus)-[fechado en]-(Madrid)',\n",
       " '(cabildo de la Cofradía de Nuestra Señora de la Novena)-[se celebró en]-(2 de marzo)',\n",
       " '(capilla)-[estaba en]-(iglesia de San Sebastián)',\n",
       " '(capilla)-[pertenecía a]-(actores)',\n",
       " '(carta)-[fechada]-(3 de marzo de este año)',\n",
       " '(casa de la Reina Mariana de Austria)-[hace reír]-(Juan Rana)',\n",
       " '(casas propias en la calle de Cantarranas)-[ubicadas en]-(Parroquia de San Sebastián)',\n",
       " '(comedia)-[fue representada en]-(Coliseo del Buen Retiro)',\n",
       " '(comedia)-[se representó en]-(Coliseo del Buen Retiro)',\n",
       " '(condesa de Paredes de Nava)-[es]-(doña Luisa Enríquez Manrique de Lara)',\n",
       " '(doña Luisa Enríquez Manrique de Lara)-[ingresó en]-(Convento de San José de Malagón)',\n",
       " '(fiesta)-[festejó]-(restablecimiento de la Reina Mariana de Austria)',\n",
       " '(fiesta)-[se repitió durante]-(cuatro días)',\n",
       " '(fiesta)-[se representó en]-(Coliseo)',\n",
       " '(fiesta)-[tuvo lugar en]-(Salón del Palacio del Buen Retiro)',\n",
       " '(función)-[tuvo lugar en]-(lunes de Carnaval)',\n",
       " '(hijo de Valdés)-[es]-(hijo de Valdés)',\n",
       " '(iglesia de San Sebastián)-[estaba en]-(Madrid)',\n",
       " '(infanta María Teresa)-[organizó]-(fiesta)',\n",
       " '(limosna)-[era para]-(capilla)',\n",
       " '(limosnas)-[incluían]-(150 dcs. de vellón)',\n",
       " '(limosnas)-[para]-(alma de Cosme Pérez)',\n",
       " '(limosnas)-[para]-(alma de su hija)',\n",
       " '(limosnas)-[para]-(alma de sus familiares)',\n",
       " '(misas)-[para]-(alma de Cosme Pérez)',\n",
       " '(misas)-[para]-(alma de su hija)',\n",
       " '(misas)-[para]-(alma de sus familiares)',\n",
       " '(no hay relaciones inferibles explícitas o implícitas entre las entidades dadas en la frase proporcionada)',\n",
       " '(nuevo testamento)-[invalidaba]-(testamento anterior de 1666)',\n",
       " '(oratorio)-[pertenecía a]-(casa de Cosme Pérez)',\n",
       " '(pabellón de brocado)-[estaba en]-(oratorio)',\n",
       " '(público)-[asistió a]-(fiesta)',\n",
       " '(ración ordinaria)-[es concedida por]-(Su Majestad)',\n",
       " '(ración ordinaria)-[es disfrutada en]-(casa de la Reina Mariana de Austria)',\n",
       " '(ración ordinaria)-[es para]-(Juan Rana)',\n",
       " '(real decreto)-[fue fechado en]-(31 de mayo)',\n",
       " '(su hija)-[hija de]-(Cosme Pérez)',\n",
       " '(testamento)-[pertenece a]-(Cosme Pérez)',\n",
       " 'No hay entidades nombradas proporcionadas en la lista (NERs), por lo que no es posible extraer relaciones.'}"
      ]
     },
     "execution_count": 8,
     "metadata": {},
     "output_type": "execute_result"
    }
   ],
   "source": [
    "unique_relations"
   ]
  },
  {
   "cell_type": "code",
   "execution_count": 9,
   "id": "8c7529dc",
   "metadata": {},
   "outputs": [],
   "source": [
    "import json\n",
    "\n",
    "with open(\"../out/per_clarified_sentence_text_re.json\", \"w\", encoding=\"utf-8\") as fw:\n",
    "    json.dump({key: list(values) for key, values in per_sentence.items()}, fw, ensure_ascii=False, indent=4)"
   ]
  },
  {
   "cell_type": "markdown",
   "id": "9ae6e978",
   "metadata": {},
   "source": [
    "### 2.6 Analyze each sentence with extracted clarified text"
   ]
  },
  {
   "cell_type": "code",
   "execution_count": 6,
   "id": "305da12c",
   "metadata": {},
   "outputs": [],
   "source": [
    "from langchain_openai import ChatOpenAI\n",
    "from dotenv import load_dotenv\n",
    "import pandas as pd\n",
    "import os"
   ]
  },
  {
   "cell_type": "code",
   "execution_count": 7,
   "id": "ff3d8ec4",
   "metadata": {},
   "outputs": [],
   "source": [
    "load_dotenv()\n",
    "\n",
    "llm = ChatOpenAI(\n",
    "    model=\"gpt-4.1-mini\",\n",
    "    temperature=0,\n",
    "    api_key=os.getenv(\"OPENAI_API_KEY\"),\n",
    ")"
   ]
  },
  {
   "cell_type": "code",
   "execution_count": null,
   "id": "9ebb4a85",
   "metadata": {},
   "outputs": [],
   "source": [
    "import json\n",
    "\n",
    "with open(\"../out/prompting_ners_gpt_4.1_mini.json\", \"r\", encoding=\"utf-8\") as fr:\n",
    "    prompting_ners = json.load(fr)"
   ]
  },
  {
   "cell_type": "code",
   "execution_count": 12,
   "id": "7d1a560f",
   "metadata": {},
   "outputs": [],
   "source": [
    "import pandas as pd\n",
    "import ast\n",
    "    \n",
    "data = pd.read_csv(\"../data/DicatJuanRana_w_clarified_sentences.csv\", sep=\";\", encoding=\"utf-8\", converters={\"sentences\": ast.literal_eval, \"clarified_sentences\": ast.literal_eval})"
   ]
  },
  {
   "cell_type": "code",
   "execution_count": 10,
   "id": "586de303",
   "metadata": {},
   "outputs": [],
   "source": [
    "from langchain.prompts import PromptTemplate\n",
    "\n",
    "ner_extraction_prompt = PromptTemplate(\n",
    "    input_variables=[\"text\"],\n",
    "    template=\"\"\"\n",
    "        Dada la siguiente frase, extrae todas las entidades nombradas (NERs) que aparecen en ella. Las entidades nombradas pueden ser personas, organizaciones, lugares, eventos y obras de arte.\n",
    "        \n",
    "        Si no se encuentran entidades nombradas, devuelve un mensaje vacío.\n",
    "        \n",
    "        Las entidades deben expresarse únicamente en el formato:\n",
    "            Entidad: Tipo   \n",
    "        \n",
    "        Donde:\n",
    "        - Entidad es el nombre de la entidad nombrada.\n",
    "        - Tipo es el tipo de entidad (por ejemplo, PER para personas, ORG para organizaciones, LOC para lugares, EVENT para eventos, WORK_OF_ART para obras de arte, GPE para entidades geopolíticas).    \n",
    "        \n",
    "        Salida esperada:\n",
    "            Entidad1: Tipo1\n",
    "            Entidad2: Tipo2\n",
    "            Entidad3: Tipo3\n",
    "            …   \n",
    "            \n",
    "        Asegúrate de que el tipo de entidad sea el mencionado antriormente (PER, ORG, LOC, EVENT, WORK_OF_ART, GPE).\n",
    "        \n",
    "        Muestra la salida únicamente con las entidades encontradas, sin ningún otro texto adicional.\n",
    "        \n",
    "        Frase de entrada:\n",
    "        {text}\n",
    "    \"\"\",\n",
    ")\n",
    "\n",
    "\n",
    "sentence_prompt = PromptTemplate(\n",
    "    input_variables=[\"text\", \"prev_context\", \"entities\"],\n",
    "    template=\"\"\"\n",
    "        Dada la siguiente frase y una lista de entidades nombradas previamente extraídas, identifica todas las posibles relaciones explícitas o implícitas entre las entidades que tanto en la frase como en la lista de entidades.\n",
    "        \n",
    "        Se debe extraer el máximo número de relaciones posibles, pero se debe asegurar que estas relaciones sean coherentes y relevantes en el contexto del texto.\n",
    "        \n",
    "        Haz un especial énfasis en las relaciones intrapersonales, padre de, marido de, hijo de, etc y de eventos.\n",
    "        \n",
    "        Las frases pueden contener un contexto para ayudar a identificar las relaciones (para frases que comiencen con fue..., el cual..., etc.) pero no se deben sacar relaciones del propio contexto.\n",
    "\n",
    "        Las relaciones deben expresarse únicamente en el formato:\n",
    "        (Entidad1)-[relación]-(Entidad2)\n",
    "\n",
    "        Donde:\n",
    "\n",
    "        - La Entidad1 debe coincidir con alguna de las entidades de la lista proporcionada.\n",
    "\n",
    "        - [relación] debe ser un verbo o una expresión verbal que indique la relación entre las entidades en el contexto del texto.\n",
    "        \n",
    "        - Ignora relaciones que no se puedan inferir directamente del texto.\n",
    "\n",
    "        Salida esperada:\n",
    "        (EntidadA)-[relación]-(EntidadB)\n",
    "        (EntidadC)-[relación]-(EntidadD)\n",
    "        …\n",
    "        \n",
    "        Ejemplo:\n",
    "\n",
    "            NERs:\n",
    "            Cosme Pérez, Francisca Pérez.\n",
    "        \n",
    "            Frase de Entrada:\n",
    "            Cosme Pérez fue un conocido artista, quien además tenía una hija, Francisca Pérez.\n",
    "            \n",
    "            Salida esperada:\n",
    "            (Francisca Pérez)-[hija de]-(Cosme Pérez)\n",
    "            (Cosme Pérez)-[padre de]-(Francisca Pérez)\n",
    "            (Cosme Pérez)-[fue]-(conocido artista)\n",
    "        \n",
    "        \n",
    "        Muestra la salida únicamente con las relaciones encontradas, sin ningún otro texto adicional.\n",
    "        \n",
    "        Lista de entidades (NERs):\n",
    "        {entities}\n",
    "\n",
    "        Contexto de la frase (es útil para entender mejor la frase actual de la que se están extrayendo las relaciones):\n",
    "        El texto forma parte de la biografía de Cosme Pérez. \n",
    "        \n",
    "        - Contexto previo a la frase: {prev_context}\n",
    "\n",
    "        Frase de entrada:\n",
    "        {text}\n",
    "    \"\"\",\n",
    ")"
   ]
  },
  {
   "cell_type": "code",
   "execution_count": 15,
   "id": "24935ade",
   "metadata": {},
   "outputs": [
    {
     "data": {
      "application/vnd.jupyter.widget-view+json": {
       "model_id": "5806b2ffdcb14084a4d0a4211a1e5539",
       "version_major": 2,
       "version_minor": 0
      },
      "text/plain": [
       "  0%|          | 0/38 [00:00<?, ?it/s]"
      ]
     },
     "metadata": {},
     "output_type": "display_data"
    },
    {
     "data": {
      "application/vnd.jupyter.widget-view+json": {
       "model_id": "123bcb38aa504c83b9659592ec026a4c",
       "version_major": 2,
       "version_minor": 0
      },
      "text/plain": [
       "  0%|          | 0/93 [00:00<?, ?it/s]"
      ]
     },
     "metadata": {},
     "output_type": "display_data"
    },
    {
     "data": {
      "application/vnd.jupyter.widget-view+json": {
       "model_id": "c6bd3e8624f4408e806007e4a776aeaf",
       "version_major": 2,
       "version_minor": 0
      },
      "text/plain": [
       "  0%|          | 0/5 [00:00<?, ?it/s]"
      ]
     },
     "metadata": {},
     "output_type": "display_data"
    },
    {
     "data": {
      "application/vnd.jupyter.widget-view+json": {
       "model_id": "8e8d5dcba8cd445b8aadc5e4ed43299c",
       "version_major": 2,
       "version_minor": 0
      },
      "text/plain": [
       "  0%|          | 0/3 [00:00<?, ?it/s]"
      ]
     },
     "metadata": {},
     "output_type": "display_data"
    },
    {
     "data": {
      "application/vnd.jupyter.widget-view+json": {
       "model_id": "80b00121062045a4ada671b4edfe176b",
       "version_major": 2,
       "version_minor": 0
      },
      "text/plain": [
       "  0%|          | 0/4 [00:00<?, ?it/s]"
      ]
     },
     "metadata": {},
     "output_type": "display_data"
    },
    {
     "data": {
      "application/vnd.jupyter.widget-view+json": {
       "model_id": "9ae7d23d31ec4c6d86ac23671e555d77",
       "version_major": 2,
       "version_minor": 0
      },
      "text/plain": [
       "  0%|          | 0/6 [00:00<?, ?it/s]"
      ]
     },
     "metadata": {},
     "output_type": "display_data"
    },
    {
     "data": {
      "application/vnd.jupyter.widget-view+json": {
       "model_id": "d88dce8376c748df9fab3bdc9950d456",
       "version_major": 2,
       "version_minor": 0
      },
      "text/plain": [
       "  0%|          | 0/8 [00:00<?, ?it/s]"
      ]
     },
     "metadata": {},
     "output_type": "display_data"
    },
    {
     "data": {
      "application/vnd.jupyter.widget-view+json": {
       "model_id": "efb6fe1ac9954af3b6e5373cc59e85e3",
       "version_major": 2,
       "version_minor": 0
      },
      "text/plain": [
       "  0%|          | 0/9 [00:00<?, ?it/s]"
      ]
     },
     "metadata": {},
     "output_type": "display_data"
    },
    {
     "data": {
      "application/vnd.jupyter.widget-view+json": {
       "model_id": "82b5eacc49994349a9f8baf610701e3b",
       "version_major": 2,
       "version_minor": 0
      },
      "text/plain": [
       "  0%|          | 0/6 [00:00<?, ?it/s]"
      ]
     },
     "metadata": {},
     "output_type": "display_data"
    },
    {
     "data": {
      "application/vnd.jupyter.widget-view+json": {
       "model_id": "56ba77d0c16b4062890dd6810303883a",
       "version_major": 2,
       "version_minor": 0
      },
      "text/plain": [
       "  0%|          | 0/12 [00:00<?, ?it/s]"
      ]
     },
     "metadata": {},
     "output_type": "display_data"
    },
    {
     "data": {
      "application/vnd.jupyter.widget-view+json": {
       "model_id": "ec5792b4eb7649c48b8695961c2cfa46",
       "version_major": 2,
       "version_minor": 0
      },
      "text/plain": [
       "  0%|          | 0/4 [00:00<?, ?it/s]"
      ]
     },
     "metadata": {},
     "output_type": "display_data"
    },
    {
     "data": {
      "application/vnd.jupyter.widget-view+json": {
       "model_id": "c6f9e1515ecf4c348fa2bc40016ced23",
       "version_major": 2,
       "version_minor": 0
      },
      "text/plain": [
       "  0%|          | 0/2 [00:00<?, ?it/s]"
      ]
     },
     "metadata": {},
     "output_type": "display_data"
    },
    {
     "data": {
      "application/vnd.jupyter.widget-view+json": {
       "model_id": "cd0507732a454d3e95caf092cba68566",
       "version_major": 2,
       "version_minor": 0
      },
      "text/plain": [
       "  0%|          | 0/6 [00:00<?, ?it/s]"
      ]
     },
     "metadata": {},
     "output_type": "display_data"
    },
    {
     "data": {
      "application/vnd.jupyter.widget-view+json": {
       "model_id": "08d7169a36f141ca872c520a047af2af",
       "version_major": 2,
       "version_minor": 0
      },
      "text/plain": [
       "  0%|          | 0/2 [00:00<?, ?it/s]"
      ]
     },
     "metadata": {},
     "output_type": "display_data"
    },
    {
     "data": {
      "application/vnd.jupyter.widget-view+json": {
       "model_id": "eb0cb3202ee34b1695e99b6911a1404f",
       "version_major": 2,
       "version_minor": 0
      },
      "text/plain": [
       "  0%|          | 0/10 [00:00<?, ?it/s]"
      ]
     },
     "metadata": {},
     "output_type": "display_data"
    },
    {
     "data": {
      "application/vnd.jupyter.widget-view+json": {
       "model_id": "a0ec2aeb83b04b819a5ace814aac39bb",
       "version_major": 2,
       "version_minor": 0
      },
      "text/plain": [
       "  0%|          | 0/4 [00:00<?, ?it/s]"
      ]
     },
     "metadata": {},
     "output_type": "display_data"
    },
    {
     "data": {
      "application/vnd.jupyter.widget-view+json": {
       "model_id": "231a19cdeb61476f9a263ef47de0b2a8",
       "version_major": 2,
       "version_minor": 0
      },
      "text/plain": [
       "  0%|          | 0/3 [00:00<?, ?it/s]"
      ]
     },
     "metadata": {},
     "output_type": "display_data"
    },
    {
     "data": {
      "application/vnd.jupyter.widget-view+json": {
       "model_id": "42b75d6251bd4e73aa44f573b29e46f8",
       "version_major": 2,
       "version_minor": 0
      },
      "text/plain": [
       "  0%|          | 0/3 [00:00<?, ?it/s]"
      ]
     },
     "metadata": {},
     "output_type": "display_data"
    },
    {
     "data": {
      "application/vnd.jupyter.widget-view+json": {
       "model_id": "e515324600e14bc88b38ea342d28a1bc",
       "version_major": 2,
       "version_minor": 0
      },
      "text/plain": [
       "  0%|          | 0/8 [00:00<?, ?it/s]"
      ]
     },
     "metadata": {},
     "output_type": "display_data"
    },
    {
     "data": {
      "application/vnd.jupyter.widget-view+json": {
       "model_id": "3ef30dd3301f4f7d947fefcb84f63c97",
       "version_major": 2,
       "version_minor": 0
      },
      "text/plain": [
       "  0%|          | 0/13 [00:00<?, ?it/s]"
      ]
     },
     "metadata": {},
     "output_type": "display_data"
    },
    {
     "data": {
      "application/vnd.jupyter.widget-view+json": {
       "model_id": "abfbd558983442ea8ddd8000375ed9e1",
       "version_major": 2,
       "version_minor": 0
      },
      "text/plain": [
       "  0%|          | 0/3 [00:00<?, ?it/s]"
      ]
     },
     "metadata": {},
     "output_type": "display_data"
    },
    {
     "data": {
      "application/vnd.jupyter.widget-view+json": {
       "model_id": "ded5cc037eb546a09c77e871743b29f8",
       "version_major": 2,
       "version_minor": 0
      },
      "text/plain": [
       "  0%|          | 0/10 [00:00<?, ?it/s]"
      ]
     },
     "metadata": {},
     "output_type": "display_data"
    },
    {
     "data": {
      "application/vnd.jupyter.widget-view+json": {
       "model_id": "69e5d3fedd364937bf70c85013c37504",
       "version_major": 2,
       "version_minor": 0
      },
      "text/plain": [
       "  0%|          | 0/5 [00:00<?, ?it/s]"
      ]
     },
     "metadata": {},
     "output_type": "display_data"
    },
    {
     "data": {
      "application/vnd.jupyter.widget-view+json": {
       "model_id": "ca60c3e99e534c84a7995b1bb3f0fa68",
       "version_major": 2,
       "version_minor": 0
      },
      "text/plain": [
       "  0%|          | 0/19 [00:00<?, ?it/s]"
      ]
     },
     "metadata": {},
     "output_type": "display_data"
    },
    {
     "data": {
      "application/vnd.jupyter.widget-view+json": {
       "model_id": "5bf6986824984265b3505c4f95cfd88d",
       "version_major": 2,
       "version_minor": 0
      },
      "text/plain": [
       "  0%|          | 0/10 [00:00<?, ?it/s]"
      ]
     },
     "metadata": {},
     "output_type": "display_data"
    },
    {
     "data": {
      "application/vnd.jupyter.widget-view+json": {
       "model_id": "2917c8afc8ed4107aee3dd43ab6cf3e8",
       "version_major": 2,
       "version_minor": 0
      },
      "text/plain": [
       "  0%|          | 0/7 [00:00<?, ?it/s]"
      ]
     },
     "metadata": {},
     "output_type": "display_data"
    },
    {
     "data": {
      "application/vnd.jupyter.widget-view+json": {
       "model_id": "c197b1c93f374dbbbe8af9cff77ee7a9",
       "version_major": 2,
       "version_minor": 0
      },
      "text/plain": [
       "  0%|          | 0/21 [00:00<?, ?it/s]"
      ]
     },
     "metadata": {},
     "output_type": "display_data"
    },
    {
     "data": {
      "application/vnd.jupyter.widget-view+json": {
       "model_id": "abeaa57ae13042578197746b6d930339",
       "version_major": 2,
       "version_minor": 0
      },
      "text/plain": [
       "  0%|          | 0/4 [00:00<?, ?it/s]"
      ]
     },
     "metadata": {},
     "output_type": "display_data"
    },
    {
     "data": {
      "application/vnd.jupyter.widget-view+json": {
       "model_id": "6cfd9f8e141d48228c74021f0c55b264",
       "version_major": 2,
       "version_minor": 0
      },
      "text/plain": [
       "  0%|          | 0/1 [00:00<?, ?it/s]"
      ]
     },
     "metadata": {},
     "output_type": "display_data"
    },
    {
     "data": {
      "application/vnd.jupyter.widget-view+json": {
       "model_id": "ea99cfdaead946dbab84283827cd9ac9",
       "version_major": 2,
       "version_minor": 0
      },
      "text/plain": [
       "  0%|          | 0/3 [00:00<?, ?it/s]"
      ]
     },
     "metadata": {},
     "output_type": "display_data"
    },
    {
     "data": {
      "application/vnd.jupyter.widget-view+json": {
       "model_id": "5caebe5baa244af5b50d392eeff491c7",
       "version_major": 2,
       "version_minor": 0
      },
      "text/plain": [
       "  0%|          | 0/4 [00:00<?, ?it/s]"
      ]
     },
     "metadata": {},
     "output_type": "display_data"
    },
    {
     "data": {
      "application/vnd.jupyter.widget-view+json": {
       "model_id": "401cc4fb8b074ccda0d12c9aa5940955",
       "version_major": 2,
       "version_minor": 0
      },
      "text/plain": [
       "  0%|          | 0/2 [00:00<?, ?it/s]"
      ]
     },
     "metadata": {},
     "output_type": "display_data"
    },
    {
     "data": {
      "application/vnd.jupyter.widget-view+json": {
       "model_id": "2e734912dcc7418b84e72d4d79283404",
       "version_major": 2,
       "version_minor": 0
      },
      "text/plain": [
       "  0%|          | 0/9 [00:00<?, ?it/s]"
      ]
     },
     "metadata": {},
     "output_type": "display_data"
    },
    {
     "data": {
      "application/vnd.jupyter.widget-view+json": {
       "model_id": "8ebd353cd4934fb9928278bcea3dc197",
       "version_major": 2,
       "version_minor": 0
      },
      "text/plain": [
       "  0%|          | 0/18 [00:00<?, ?it/s]"
      ]
     },
     "metadata": {},
     "output_type": "display_data"
    },
    {
     "data": {
      "application/vnd.jupyter.widget-view+json": {
       "model_id": "9102b1ae3a1142a496da00de2f718bd9",
       "version_major": 2,
       "version_minor": 0
      },
      "text/plain": [
       "  0%|          | 0/3 [00:00<?, ?it/s]"
      ]
     },
     "metadata": {},
     "output_type": "display_data"
    },
    {
     "data": {
      "application/vnd.jupyter.widget-view+json": {
       "model_id": "30d35add5ed04dc8ac9dc5fd56b366d1",
       "version_major": 2,
       "version_minor": 0
      },
      "text/plain": [
       "  0%|          | 0/3 [00:00<?, ?it/s]"
      ]
     },
     "metadata": {},
     "output_type": "display_data"
    },
    {
     "data": {
      "application/vnd.jupyter.widget-view+json": {
       "model_id": "80737032222146deb30b52f138e1f65e",
       "version_major": 2,
       "version_minor": 0
      },
      "text/plain": [
       "  0%|          | 0/14 [00:00<?, ?it/s]"
      ]
     },
     "metadata": {},
     "output_type": "display_data"
    },
    {
     "data": {
      "application/vnd.jupyter.widget-view+json": {
       "model_id": "67491687a39546519b6e820040af4fec",
       "version_major": 2,
       "version_minor": 0
      },
      "text/plain": [
       "  0%|          | 0/19 [00:00<?, ?it/s]"
      ]
     },
     "metadata": {},
     "output_type": "display_data"
    },
    {
     "data": {
      "application/vnd.jupyter.widget-view+json": {
       "model_id": "b81549a4a0024f2bbe62d3539d4c1bf7",
       "version_major": 2,
       "version_minor": 0
      },
      "text/plain": [
       "  0%|          | 0/2 [00:00<?, ?it/s]"
      ]
     },
     "metadata": {},
     "output_type": "display_data"
    }
   ],
   "source": [
    "from tqdm.auto import tqdm\n",
    "from collections import defaultdict\n",
    "import rich as rc\n",
    "\n",
    "total_re_found = 0\n",
    "relations = set()\n",
    "\n",
    "sentences_of_context = 2\n",
    "\n",
    "per_sentence = defaultdict(set)\n",
    "years_to_test = [1636, 1643, 1648, 1651, 1653, 1656, 1665, 1666, 1670]\n",
    "\n",
    "# for _, year in tqdm(data[data[\"year\"].astype(int) == 1656].iterrows(), total=1, position=0):\n",
    "# for _, year in tqdm(data[data[\"year\"].astype(int).isin(years_to_test)].iterrows(), total=len(years_to_test), position=0):\n",
    "for _, year in tqdm(data.iterrows(), total=len(data), position=0):\n",
    "    \n",
    "    sentences = year[\"clarified_sentences\"]\n",
    "    ners_context = defaultdict(str)\n",
    "    \n",
    "    for i, sentence in tqdm(enumerate(sentences), total=len(sentences), position=1, leave=True):\n",
    "        \n",
    "        prev_context = sentences[max(0, i-sentences_of_context):i]\n",
    "        \n",
    "        total_ners = []\n",
    "        for ss in prev_context + [sentence]:\n",
    "            if ss.strip() in ners_context:\n",
    "                total_ners.append(ners_context[ss.strip()])\n",
    "                continue\n",
    "            \n",
    "            ners_extracted = llm.invoke(\n",
    "                ner_extraction_prompt.invoke({\n",
    "                    \"text\": sentence.strip(),\n",
    "                })\n",
    "            ).content.split(\"\\n\")\n",
    "            \n",
    "            entities = \", \".join([\n",
    "                ner.split(\": \")[0] for ner in ners_extracted\n",
    "            ])\n",
    "            \n",
    "            ners_context[ss.strip()] = entities\n",
    "        \n",
    "        total_ners = \", \".join(total_ners)\n",
    "        total_ners = \", \".join(set(total_ners.split(\", \")))  # Remove duplicates\n",
    "\n",
    "        response = llm.invoke(\n",
    "            sentence_prompt.invoke({\n",
    "                \"text\": sentence.strip(),\n",
    "                \"prev_context\": \"\\n\".join(prev_context),\n",
    "                \"entities\": total_ners,\n",
    "            })\n",
    "        ).content\n",
    "    \n",
    "        total_re_found += len(response.split(\"\\n\"))\n",
    "        \n",
    "        # rc.print(dict(ners_context))\n",
    "        # rc.print(f\"Clarified Sentence: {clarified_sentence}\")\n",
    "        # rc.print(f\"Original Sentence: {sentence.strip()}\")\n",
    "        # rc.print(f\"Entities for response: {entities_for_response}\")\n",
    "        \n",
    "        for relation in response.split(\"\\n\"):\n",
    "            relation = relation.strip()\n",
    "            per_sentence[year[\"year\"]].add(relation)\n",
    "        \n",
    "        # DEBUGGING \n",
    "        # print(\"Relaciones encontradas:\\n\", response.strip())\n",
    "        # print(f\"Frase: {sentence.strip()}\")\n",
    "        # print(f\"Contexto previo: {' '.join(context)}\")\n",
    "        # print(f\"Contexto posterior: {' '.join(sentences[i+1:i+1+sentences_of_context])}\")\n",
    "        # print()"
   ]
  },
  {
   "cell_type": "code",
   "execution_count": 16,
   "id": "0b71ce97",
   "metadata": {},
   "outputs": [
    {
     "name": "stdout",
     "output_type": "stream",
     "text": [
      "Total de relaciones encontradas: 1164, de las cuales 1066 son únicas.\n"
     ]
    }
   ],
   "source": [
    "unique_relations = {relation for relations in per_sentence.values() for relation in relations}\n",
    "\n",
    "print(f\"Total de relaciones encontradas: {total_re_found}, de las cuales {len(unique_relations)} son únicas.\")"
   ]
  },
  {
   "cell_type": "code",
   "execution_count": 17,
   "id": "5469687e",
   "metadata": {},
   "outputs": [],
   "source": [
    "import json\n",
    "\n",
    "with open(\"../out/per_clarified_sentences_re.json\", \"w\", encoding=\"utf-8\") as fw:\n",
    "    json.dump({key: list(values) for key, values in per_sentence.items()}, fw, ensure_ascii=False, indent=4)"
   ]
  },
  {
   "cell_type": "markdown",
   "id": "aea4ce3f",
   "metadata": {},
   "source": [
    "# Test de la mejor combinación"
   ]
  },
  {
   "cell_type": "markdown",
   "id": "65ea66d5",
   "metadata": {},
   "source": [
    "Clarified Text + prev + post\n",
    "\n",
    "```{'(Andrómeda y Perseo)-[es obra de]-(Calderón)',\n",
    " '(Andrómeda y Perseo)-[fue escrita por]-(Calderón)',\n",
    " '(Andrómeda y Perseo)-[se representó en]-(Coliseo del Buen Retiro)',\n",
    " '(Conde de Altamira)-[transmitió respuesta a]-(Cosme Pérez)',\n",
    " '(Cosme Pérez)-[alias]-(Juan Rana)',\n",
    " '(Cosme Pérez)-[es alias de]-(Juan Rana)',\n",
    " '(Cosme Pérez)-[recibió]-(1.000 rs.)',\n",
    " '(Cosme Pérez)-[representó el papel de]-(Bato)',\n",
    " '(Cosme Pérez)-[solicitó]-(paso de una ración ordinaria)',\n",
    " '(Felipe IV)-[daba cuenta a]-(Luisa Enríquez Manrique)',\n",
    " '(Francisca María Pérez)-[es hija de]-(Cosme Pérez)',\n",
    " '(Francisca María Pérez)-[no puede gozar ración si]-(anda en la farsa)',\n",
    " '(Juan Rana)-[cumplió con]-(Andrómeda y Perseo)',\n",
    " '(ración ordinaria)-[goza por]-(casa de la Reyna nuestra señora)',\n",
    " '(ración ordinaria)-[para]-(Francisca María Pérez)'}\n",
    "```\n",
    "\n",
    "Clarified Text + prev\n",
    "\n",
    "```{'(Andrómeda y Perseo)-[es obra de]-(Calderón de la Barca)',\n",
    " '(Andrómeda y Perseo)-[es una comedia de]-(Calderón)',\n",
    " '(Andrómeda y Perseo)-[escrita por]-(Calderón)',\n",
    " '(Andrómeda y Perseo)-[se representó en]-(Coliseo del Buen Retiro)',\n",
    " '(Conde de Altamira)-[transmite respuesta a]-(Cosme Pérez)',\n",
    " '(Cosme Pérez)-[alias]-(Juan Rana)',\n",
    " '(Cosme Pérez)-[es alias de]-(Juan Rana)',\n",
    " '(Cosme Pérez)-[goza]-(casa de la Reyna nuestra señora)',\n",
    " '(Cosme Pérez)-[recibió]-(1.000 rs.)',\n",
    " '(Cosme Pérez)-[representó el papel de]-(Bato)',\n",
    " '(Cosme Pérez)-[solicita]-(Conde de Altamira)',\n",
    " '(Cosme Pérez)-[tiene hija]-(Francisca María Pérez)',\n",
    " '(Felipe IV)-[daba cuenta a]-(Luisa Enríquez Manrique)',\n",
    " '(Francisca María Pérez)-[goza]-(casa de la Reyna nuestra señora)',\n",
    " '(Juan Rana)-[ha cumplido con]-(sus obligaciones)'}\n",
    "```\n",
    "Clarified Text\n",
    "\n",
    "```{'(Andrómeda y Perseo)-[es obra de]-(Calderón)',\n",
    " '(Andrómeda y Perseo)-[fue escrita por]-(Calderón)',\n",
    " '(Andrómeda y Perseo)-[se representó en]-(Coliseo del Buen Retiro)',\n",
    " '(Conde de Altamira)-[transmitió respuesta a]-(Cosme Pérez)',\n",
    " '(Cosme Pérez)-[es alias de]-(Juan Rana)',\n",
    " '(Cosme Pérez)-[recibió]-(fiestas del Corpus de Madrid)',\n",
    " '(Cosme Pérez)-[representó el papel de]-(Bato)',\n",
    " '(Cosme Pérez)-[tiene hija]-(Francisca María Pérez)',\n",
    " '(Felipe IV)-[daba cuenta a]-(Luisa Enríquez Manrique)',\n",
    " '(Juan Rana)-[ha cumplido con]-Andrómeda y Perseo',\n",
    " '(casa de la Reyna nuestra señora)-[proporciona ración a]-(Francisca María Pérez)'}\n",
    "```\n",
    "Texto Normal\n",
    "\n",
    "```{'(Andrómeda y Perseo)-[es obra de]-(Calderón)',\n",
    " '(Comedia)-[se representó en]-(Coliseo del Buen Retiro)',\n",
    " '(Conde de Altamira)-[transmitió respuesta a]-(Cosme Pérez)',\n",
    " '(Cosme Pérez)-[alias]-(Juan Rana)',\n",
    " '(Cosme Pérez)-[recibió]-(fiestas del Corpus de Madrid)',\n",
    " '(Cosme Pérez)-[representó el papel de]-(Bato)',\n",
    " '(Cosme Pérez)-[solicitó]-(Conde de Altamira)',\n",
    " '(Cosme Pérez)-[tiene hija]-(Francisca María Pérez)',\n",
    " '(Felipe IV)-[daba cuenta a]-(Luisa Enríquez Manrique)',\n",
    " '(Francisca María Pérez)-[recibe ración ordinaria de]-(casa de la Reyna nuestra señora)',\n",
    " '(Juan Rana)-[ha cumplido]-(obligaciones)'}\n",
    "```\n",
    "Texto Normal + prev\n",
    "\n",
    "```{'(Andrómeda y Perseo)-[fue obra de]-(Calderón)',\n",
    " '(Comedia)-[se representó en]-(Coliseo del Buen Retiro)',\n",
    " '(Conde de Altamira)-[transmitió respuesta a]-(Cosme Pérez)',\n",
    " '(Cosme Pérez)-[alias]-(Juan Rana)',\n",
    " '(Cosme Pérez)-[recibió]-(1.000 rs.)',\n",
    " '(Cosme Pérez)-[representó el papel de]-(Bato)',\n",
    " '(Cosme Pérez)-[representó]-(Bato)',\n",
    " '(Cosme Pérez)-[solicitó]-(paso de una ración ordinaria)',\n",
    " '(Felipe IV)-[daba cuenta a]-(Luisa Enríquez Manrique)',\n",
    " '(Francisca María Pérez)-[es hija de]-(Cosme Pérez)',\n",
    " '(Juan Rana)-[cumplió]-(obligaciones)',\n",
    " '(Juan Rana)-[ha cumplido con]-(obligaciones)',\n",
    " '(paso de una ración ordinaria)-[goza por]-(casa de la Reyna nuestra señora)',\n",
    " '(paso de una ración ordinaria)-[para]-(Francisca María Pérez)'}\n",
    "```\n",
    "Texto Normal + prev + post\n",
    "\n",
    "```{'(Andrómeda y Perseo)-[fue escrita por]-(Calderón)',\n",
    " '(Comedia)-[fue representada en]-(Coliseo del Buen Retiro)',\n",
    " '(Conde de Altamira)-[transmitió respuesta a]-(Cosme Pérez)',\n",
    " '(Cosme Pérez)-[alias]-(Juan Rana)',\n",
    " '(Cosme Pérez)-[es]-(Juan Rana)',\n",
    " '(Cosme Pérez)-[recibió]-(1.000 rs.)',\n",
    " '(Cosme Pérez)-[representó el papel de]-(Bato)',\n",
    " '(Cosme Pérez)-[representó]-(Bato)',\n",
    " '(Cosme Pérez)-[solicitó]-(Conde de Altamira)',\n",
    " '(Cosme Pérez)-[solicitó]-(paso de una ración ordinaria)',\n",
    " '(Cosme Pérez)-[tiene hija]-(Francisca María Pérez)',\n",
    " '(Felipe IV)-[daba cuenta a]-(Luisa Enríquez Manrique)',\n",
    " '(Francisca María Pérez)-[recibe ración ordinaria de]-(casa de la Reyna nuestra señora)',\n",
    " '(Juan Rana)-[cumplió]-(obligaciones)',\n",
    " '(pasó de una ración ordinaria)-[goza por]-(casa de la Reyna nuestra señora)',\n",
    " '(pasó de una ración ordinaria)-[para]-(Francisca María Pérez)'}\n",
    "```"
   ]
  }
 ],
 "metadata": {
  "kernelspec": {
   "display_name": ".venv",
   "language": "python",
   "name": "python3"
  },
  "language_info": {
   "codemirror_mode": {
    "name": "ipython",
    "version": 3
   },
   "file_extension": ".py",
   "mimetype": "text/x-python",
   "name": "python",
   "nbconvert_exporter": "python",
   "pygments_lexer": "ipython3",
   "version": "3.12.11"
  }
 },
 "nbformat": 4,
 "nbformat_minor": 5
}
