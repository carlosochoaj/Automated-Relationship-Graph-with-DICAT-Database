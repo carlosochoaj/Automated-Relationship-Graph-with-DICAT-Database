{
 "cells": [
  {
   "cell_type": "code",
   "execution_count": 1,
   "id": "ff5f6641",
   "metadata": {},
   "outputs": [],
   "source": [
    "import pandas as pd\n",
    "import rich as rc"
   ]
  },
  {
   "cell_type": "code",
   "execution_count": 2,
   "id": "62fc69d3",
   "metadata": {},
   "outputs": [],
   "source": [
    "data = pd.read_csv(\"../../data/DicatJuanRana.csv\", sep=\";\")"
   ]
  },
  {
   "cell_type": "code",
   "execution_count": 3,
   "id": "f08c92ef",
   "metadata": {},
   "outputs": [
    {
     "data": {
      "text/html": [
       "<div>\n",
       "<style scoped>\n",
       "    .dataframe tbody tr th:only-of-type {\n",
       "        vertical-align: middle;\n",
       "    }\n",
       "\n",
       "    .dataframe tbody tr th {\n",
       "        vertical-align: top;\n",
       "    }\n",
       "\n",
       "    .dataframe thead th {\n",
       "        text-align: right;\n",
       "    }\n",
       "</style>\n",
       "<table border=\"1\" class=\"dataframe\">\n",
       "  <thead>\n",
       "    <tr style=\"text-align: right;\">\n",
       "      <th></th>\n",
       "      <th>year</th>\n",
       "      <th>text</th>\n",
       "    </tr>\n",
       "  </thead>\n",
       "  <tbody>\n",
       "    <tr>\n",
       "      <th>0</th>\n",
       "      <td>0</td>\n",
       "      <td>Aunque su verdadero nombre era Cosme Pérez, fu...</td>\n",
       "    </tr>\n",
       "    <tr>\n",
       "      <th>1</th>\n",
       "      <td>1617</td>\n",
       "      <td>Según Cotarelo , a quien sigue Sáez Raposo , C...</td>\n",
       "    </tr>\n",
       "    <tr>\n",
       "      <th>2</th>\n",
       "      <td>1621</td>\n",
       "      <td>Consta la lista de la compañía de Juan Bautist...</td>\n",
       "    </tr>\n",
       "    <tr>\n",
       "      <th>3</th>\n",
       "      <td>1624</td>\n",
       "      <td>Cosme Pérez aparece en la nómina de la compañí...</td>\n",
       "    </tr>\n",
       "    <tr>\n",
       "      <th>4</th>\n",
       "      <td>1634</td>\n",
       "      <td>Según Cotarelo, Cosme Pérez pertenecía a la co...</td>\n",
       "    </tr>\n",
       "  </tbody>\n",
       "</table>\n",
       "</div>"
      ],
      "text/plain": [
       "   year                                               text\n",
       "0     0  Aunque su verdadero nombre era Cosme Pérez, fu...\n",
       "1  1617  Según Cotarelo , a quien sigue Sáez Raposo , C...\n",
       "2  1621  Consta la lista de la compañía de Juan Bautist...\n",
       "3  1624  Cosme Pérez aparece en la nómina de la compañí...\n",
       "4  1634  Según Cotarelo, Cosme Pérez pertenecía a la co..."
      ]
     },
     "execution_count": 3,
     "metadata": {},
     "output_type": "execute_result"
    }
   ],
   "source": [
    "data.head()"
   ]
  },
  {
   "cell_type": "code",
   "execution_count": 52,
   "id": "d9aaad23",
   "metadata": {},
   "outputs": [
    {
     "data": {
      "text/html": [
       "<pre style=\"white-space:pre;overflow-x:auto;line-height:normal;font-family:Menlo,'DejaVu Sans Mono',consolas,'Courier New',monospace\">En una carta, fechada en Madrid el <span style=\"color: #008080; text-decoration-color: #008080; font-weight: bold\">9</span> de junio de este año, Felipe IV daba cuenta a doña Luisa Enríquez Manrique de \n",
       "una comedia representada en el Coliseo del Buen Retiro en la segunda quincena de mayo: <span style=\"color: #008000; text-decoration-color: #008000\">\"Muy buena ha sido la </span>\n",
       "<span style=\"color: #008000; text-decoration-color: #008000\">comedia, y vuestro amigo 'Juan Rana' a cumplido famosamente con sus obligaciones; bien creo que si le hubiérades </span>\n",
       "<span style=\"color: #008000; text-decoration-color: #008000\">visto, se atreviera la risa a inquietar la función. La gente moza se ha entretenido harto\"</span>  —la comedia \n",
       "representada fue Andrómeda y Perseo, de Calderón, en la que Cosme Pérez representó el papel de <span style=\"color: #008000; text-decoration-color: #008000\">\"Bato\"</span> —; entre la \n",
       "documentación relativa a las fiestas del Corpus de Madrid consta una lista de los gastos de las fiestas del Corpus \n",
       "de este año, en la que se indica que Cosme Pérez recibió <span style=\"color: #008080; text-decoration-color: #008080; font-weight: bold\">1.000</span> rs. ; consta la respuesta, transmitida el <span style=\"color: #008080; text-decoration-color: #008080; font-weight: bold\">22</span> de \n",
       "noviembre por el Conde de Altamira, a la solicitud de <span style=\"color: #008000; text-decoration-color: #008000\">\"Cosme Pérez, alias Juan Rana\"</span> realizada el <span style=\"color: #008080; text-decoration-color: #008080; font-weight: bold\">18</span> de dicho mes, \n",
       "referente al <span style=\"color: #008000; text-decoration-color: #008000\">\"paso de una ración ordinaria que goza por la despensa de la casa de la Reyna nuestra señora, para una</span>\n",
       "<span style=\"color: #008000; text-decoration-color: #008000\">hija suya [Francisca María Pérez], con calidad que sea desde luego y que la susodicha no la pueda gozar si hubiese </span>\n",
       "<span style=\"color: #008000; text-decoration-color: #008000\">de andar en la farsa\"</span> .\n",
       "</pre>\n"
      ],
      "text/plain": [
       "En una carta, fechada en Madrid el \u001b[1;36m9\u001b[0m de junio de este año, Felipe IV daba cuenta a doña Luisa Enríquez Manrique de \n",
       "una comedia representada en el Coliseo del Buen Retiro en la segunda quincena de mayo: \u001b[32m\"Muy buena ha sido la \u001b[0m\n",
       "\u001b[32mcomedia, y vuestro amigo 'Juan Rana' a cumplido famosamente con sus obligaciones; bien creo que si le hubiérades \u001b[0m\n",
       "\u001b[32mvisto, se atreviera la risa a inquietar la función. La gente moza se ha entretenido harto\"\u001b[0m  —la comedia \n",
       "representada fue Andrómeda y Perseo, de Calderón, en la que Cosme Pérez representó el papel de \u001b[32m\"Bato\"\u001b[0m —; entre la \n",
       "documentación relativa a las fiestas del Corpus de Madrid consta una lista de los gastos de las fiestas del Corpus \n",
       "de este año, en la que se indica que Cosme Pérez recibió \u001b[1;36m1.000\u001b[0m rs. ; consta la respuesta, transmitida el \u001b[1;36m22\u001b[0m de \n",
       "noviembre por el Conde de Altamira, a la solicitud de \u001b[32m\"Cosme Pérez, alias Juan Rana\"\u001b[0m realizada el \u001b[1;36m18\u001b[0m de dicho mes, \n",
       "referente al \u001b[32m\"paso de una ración ordinaria que goza por la despensa de la casa de la Reyna nuestra señora, para una\u001b[0m\n",
       "\u001b[32mhija suya \u001b[0m\u001b[32m[\u001b[0m\u001b[32mFrancisca María Pérez\u001b[0m\u001b[32m]\u001b[0m\u001b[32m, con calidad que sea desde luego y que la susodicha no la pueda gozar si hubiese \u001b[0m\n",
       "\u001b[32mde andar en la farsa\"\u001b[0m .\n"
      ]
     },
     "metadata": {},
     "output_type": "display_data"
    }
   ],
   "source": [
    "text_to_analyze = data[data[\"year\"].astype(int) == 1653][\"text\"].values[0]\n",
    "rc.print(text_to_analyze)"
   ]
  },
  {
   "cell_type": "code",
   "execution_count": 51,
   "id": "3d28f123",
   "metadata": {},
   "outputs": [
    {
     "data": {
      "text/html": [
       "<pre style=\"white-space:pre;overflow-x:auto;line-height:normal;font-family:Menlo,'DejaVu Sans Mono',consolas,'Courier New',monospace\">En una carta, fechada en Madrid el <span style=\"color: #008080; text-decoration-color: #008080; font-weight: bold\">9</span> de junio de este año, Felipe IV daba cuenta a doña Luisa Enríquez Manrique de \n",
       "una comedia representada en el Coliseo del Buen Retiro en la segunda quincena de mayo: \"Muy buena ha sido la \n",
       "comedia, y vuestro amigo <span style=\"color: #008000; text-decoration-color: #008000\">'Juan Rana'</span> a cumplido famosamente con sus obligaciones; bien creo que si le hubiérades \n",
       "visto, se atreviera la risa a inquietar la función.\n",
       "</pre>\n"
      ],
      "text/plain": [
       "En una carta, fechada en Madrid el \u001b[1;36m9\u001b[0m de junio de este año, Felipe IV daba cuenta a doña Luisa Enríquez Manrique de \n",
       "una comedia representada en el Coliseo del Buen Retiro en la segunda quincena de mayo: \"Muy buena ha sido la \n",
       "comedia, y vuestro amigo \u001b[32m'Juan Rana'\u001b[0m a cumplido famosamente con sus obligaciones; bien creo que si le hubiérades \n",
       "visto, se atreviera la risa a inquietar la función.\n"
      ]
     },
     "metadata": {},
     "output_type": "display_data"
    },
    {
     "data": {
      "text/html": [
       "<pre style=\"white-space:pre;overflow-x:auto;line-height:normal;font-family:Menlo,'DejaVu Sans Mono',consolas,'Courier New',monospace\">La gente moza se ha entretenido harto\"  —la comedia representada fue Andrómeda y Perseo, de Calderón, en la que \n",
       "Cosme Pérez representó el papel de <span style=\"color: #008000; text-decoration-color: #008000\">\"Bato\"</span> —; entre la documentación relativa a las fiestas del Corpus de Madrid \n",
       "consta una lista de los gastos de las fiestas del Corpus de este año, en la que se indica que Cosme Pérez recibió \n",
       "<span style=\"color: #008080; text-decoration-color: #008080; font-weight: bold\">1.000</span> rs.\n",
       "</pre>\n"
      ],
      "text/plain": [
       "La gente moza se ha entretenido harto\"  —la comedia representada fue Andrómeda y Perseo, de Calderón, en la que \n",
       "Cosme Pérez representó el papel de \u001b[32m\"Bato\"\u001b[0m —; entre la documentación relativa a las fiestas del Corpus de Madrid \n",
       "consta una lista de los gastos de las fiestas del Corpus de este año, en la que se indica que Cosme Pérez recibió \n",
       "\u001b[1;36m1.000\u001b[0m rs.\n"
      ]
     },
     "metadata": {},
     "output_type": "display_data"
    },
    {
     "data": {
      "text/html": [
       "<pre style=\"white-space:pre;overflow-x:auto;line-height:normal;font-family:Menlo,'DejaVu Sans Mono',consolas,'Courier New',monospace\">; consta la respuesta, transmitida el <span style=\"color: #008080; text-decoration-color: #008080; font-weight: bold\">22</span> de noviembre por el Conde de Altamira, a la solicitud de <span style=\"color: #008000; text-decoration-color: #008000\">\"Cosme Pérez, </span>\n",
       "<span style=\"color: #008000; text-decoration-color: #008000\">alias Juan Rana\"</span> realizada el <span style=\"color: #008080; text-decoration-color: #008080; font-weight: bold\">18</span> de dicho mes, referente al <span style=\"color: #008000; text-decoration-color: #008000\">\"paso de una ración ordinaria que goza por la despensa </span>\n",
       "<span style=\"color: #008000; text-decoration-color: #008000\">de la casa de la Reyna nuestra señora, para una hija suya [Francisca María Pérez], con calidad que sea desde luego </span>\n",
       "<span style=\"color: #008000; text-decoration-color: #008000\">y que la susodicha no la pueda gozar si hubiese de andar en la farsa\"</span> .\n",
       "</pre>\n"
      ],
      "text/plain": [
       "; consta la respuesta, transmitida el \u001b[1;36m22\u001b[0m de noviembre por el Conde de Altamira, a la solicitud de \u001b[32m\"Cosme Pérez, \u001b[0m\n",
       "\u001b[32malias Juan Rana\"\u001b[0m realizada el \u001b[1;36m18\u001b[0m de dicho mes, referente al \u001b[32m\"paso de una ración ordinaria que goza por la despensa \u001b[0m\n",
       "\u001b[32mde la casa de la Reyna nuestra señora, para una hija suya \u001b[0m\u001b[32m[\u001b[0m\u001b[32mFrancisca María Pérez\u001b[0m\u001b[32m]\u001b[0m\u001b[32m, con calidad que sea desde luego \u001b[0m\n",
       "\u001b[32my que la susodicha no la pueda gozar si hubiese de andar en la farsa\"\u001b[0m .\n"
      ]
     },
     "metadata": {},
     "output_type": "display_data"
    },
    {
     "name": "stdout",
     "output_type": "stream",
     "text": [
      "Frases separadas: 3\n"
     ]
    }
   ],
   "source": [
    "import spacy\n",
    "\n",
    "nlp = spacy.load(\"es_core_news_lg\")  \n",
    "\n",
    "doc = nlp(text_to_analyze)\n",
    "\n",
    "frases = 0\n",
    "for sent in doc.sents:\n",
    "    rc.print(sent.text.strip())\n",
    "    frases += 1\n",
    "print(f\"Frases separadas: {frases}\")"
   ]
  },
  {
   "cell_type": "code",
   "execution_count": 11,
   "id": "6fe16a69",
   "metadata": {},
   "outputs": [],
   "source": [
    "from langchain.prompts import PromptTemplate\n",
    "from langchain_openai import ChatOpenAI\n",
    "from dotenv import load_dotenv\n",
    "import os"
   ]
  },
  {
   "cell_type": "code",
   "execution_count": 12,
   "id": "da7e124d",
   "metadata": {},
   "outputs": [],
   "source": [
    "load_dotenv()\n",
    "\n",
    "llm = ChatOpenAI(\n",
    "    model=\"gpt-4.1-mini\",\n",
    "    temperature=0,\n",
    "    openai_api_key=os.getenv(\"OPENAI_API_KEY\"),\n",
    ")"
   ]
  },
  {
   "cell_type": "code",
   "execution_count": 24,
   "id": "3ed75734",
   "metadata": {},
   "outputs": [],
   "source": [
    "prompt = PromptTemplate(\n",
    "    input_variables=[\"text\"],\n",
    "    template=\"\"\"\n",
    "    Separa el siguiente texto en frases y devuelve cada frase en una línea separada:\n",
    "    {text}\"\"\",\n",
    ")"
   ]
  },
  {
   "cell_type": "code",
   "execution_count": 53,
   "id": "9da7fdd3",
   "metadata": {},
   "outputs": [],
   "source": [
    "response = llm.invoke(prompt.format(text=text_to_analyze))"
   ]
  },
  {
   "cell_type": "code",
   "execution_count": 54,
   "id": "092a9f84",
   "metadata": {},
   "outputs": [
    {
     "data": {
      "text/html": [
       "<pre style=\"white-space:pre;overflow-x:auto;line-height:normal;font-family:Menlo,'DejaVu Sans Mono',consolas,'Courier New',monospace\">En una carta, fechada en Madrid el <span style=\"color: #008080; text-decoration-color: #008080; font-weight: bold\">9</span> de junio de este año, Felipe IV daba cuenta a doña Luisa Enríquez Manrique de \n",
       "una comedia representada en el Coliseo del Buen Retiro en la segunda quincena de mayo:\n",
       "</pre>\n"
      ],
      "text/plain": [
       "En una carta, fechada en Madrid el \u001b[1;36m9\u001b[0m de junio de este año, Felipe IV daba cuenta a doña Luisa Enríquez Manrique de \n",
       "una comedia representada en el Coliseo del Buen Retiro en la segunda quincena de mayo:\n"
      ]
     },
     "metadata": {},
     "output_type": "display_data"
    },
    {
     "data": {
      "text/html": [
       "<pre style=\"white-space:pre;overflow-x:auto;line-height:normal;font-family:Menlo,'DejaVu Sans Mono',consolas,'Courier New',monospace\">\"Muy buena ha sido la comedia, y vuestro amigo <span style=\"color: #008000; text-decoration-color: #008000\">'Juan Rana'</span> a cumplido famosamente con sus obligaciones;\n",
       "</pre>\n"
      ],
      "text/plain": [
       "\"Muy buena ha sido la comedia, y vuestro amigo \u001b[32m'Juan Rana'\u001b[0m a cumplido famosamente con sus obligaciones;\n"
      ]
     },
     "metadata": {},
     "output_type": "display_data"
    },
    {
     "data": {
      "text/html": [
       "<pre style=\"white-space:pre;overflow-x:auto;line-height:normal;font-family:Menlo,'DejaVu Sans Mono',consolas,'Courier New',monospace\">bien creo que si le hubiérades visto, se atreviera la risa a inquietar la función.\n",
       "</pre>\n"
      ],
      "text/plain": [
       "bien creo que si le hubiérades visto, se atreviera la risa a inquietar la función.\n"
      ]
     },
     "metadata": {},
     "output_type": "display_data"
    },
    {
     "data": {
      "text/html": [
       "<pre style=\"white-space:pre;overflow-x:auto;line-height:normal;font-family:Menlo,'DejaVu Sans Mono',consolas,'Courier New',monospace\">La gente moza se ha entretenido harto\" —la comedia representada fue Andrómeda y Perseo, de Calderón, en la que \n",
       "Cosme Pérez representó el papel de <span style=\"color: #008000; text-decoration-color: #008000\">\"Bato\"</span>—;\n",
       "</pre>\n"
      ],
      "text/plain": [
       "La gente moza se ha entretenido harto\" —la comedia representada fue Andrómeda y Perseo, de Calderón, en la que \n",
       "Cosme Pérez representó el papel de \u001b[32m\"Bato\"\u001b[0m—;\n"
      ]
     },
     "metadata": {},
     "output_type": "display_data"
    },
    {
     "data": {
      "text/html": [
       "<pre style=\"white-space:pre;overflow-x:auto;line-height:normal;font-family:Menlo,'DejaVu Sans Mono',consolas,'Courier New',monospace\">entre la documentación relativa a las fiestas del Corpus de Madrid consta una lista de los gastos de las fiestas \n",
       "del Corpus de este año, en la que se indica que Cosme Pérez recibió <span style=\"color: #008080; text-decoration-color: #008080; font-weight: bold\">1.000</span> rs.;\n",
       "</pre>\n"
      ],
      "text/plain": [
       "entre la documentación relativa a las fiestas del Corpus de Madrid consta una lista de los gastos de las fiestas \n",
       "del Corpus de este año, en la que se indica que Cosme Pérez recibió \u001b[1;36m1.000\u001b[0m rs.;\n"
      ]
     },
     "metadata": {},
     "output_type": "display_data"
    },
    {
     "data": {
      "text/html": [
       "<pre style=\"white-space:pre;overflow-x:auto;line-height:normal;font-family:Menlo,'DejaVu Sans Mono',consolas,'Courier New',monospace\">consta la respuesta, transmitida el <span style=\"color: #008080; text-decoration-color: #008080; font-weight: bold\">22</span> de noviembre por el Conde de Altamira, a la solicitud de <span style=\"color: #008000; text-decoration-color: #008000\">\"Cosme Pérez, alias</span>\n",
       "<span style=\"color: #008000; text-decoration-color: #008000\">Juan Rana\"</span> realizada el <span style=\"color: #008080; text-decoration-color: #008080; font-weight: bold\">18</span> de dicho mes, referente al <span style=\"color: #008000; text-decoration-color: #008000\">\"paso de una ración ordinaria que goza por la despensa de la </span>\n",
       "<span style=\"color: #008000; text-decoration-color: #008000\">casa de la Reyna nuestra señora, para una hija suya [Francisca María Pérez], con calidad que sea desde luego y que </span>\n",
       "<span style=\"color: #008000; text-decoration-color: #008000\">la susodicha no la pueda gozar si hubiese de andar en la farsa\"</span>.\n",
       "</pre>\n"
      ],
      "text/plain": [
       "consta la respuesta, transmitida el \u001b[1;36m22\u001b[0m de noviembre por el Conde de Altamira, a la solicitud de \u001b[32m\"Cosme Pérez, alias\u001b[0m\n",
       "\u001b[32mJuan Rana\"\u001b[0m realizada el \u001b[1;36m18\u001b[0m de dicho mes, referente al \u001b[32m\"paso de una ración ordinaria que goza por la despensa de la \u001b[0m\n",
       "\u001b[32mcasa de la Reyna nuestra señora, para una hija suya \u001b[0m\u001b[32m[\u001b[0m\u001b[32mFrancisca María Pérez\u001b[0m\u001b[32m]\u001b[0m\u001b[32m, con calidad que sea desde luego y que \u001b[0m\n",
       "\u001b[32mla susodicha no la pueda gozar si hubiese de andar en la farsa\"\u001b[0m.\n"
      ]
     },
     "metadata": {},
     "output_type": "display_data"
    },
    {
     "name": "stdout",
     "output_type": "stream",
     "text": [
      "Frases separadas: 6\n"
     ]
    }
   ],
   "source": [
    "frases = 0\n",
    "for frase in response.content.split('\\n'):\n",
    "    if frase.strip():\n",
    "        frases += 1\n",
    "        rc.print(frase.strip())\n",
    "print(f\"Frases separadas: {frases}\")"
   ]
  },
  {
   "cell_type": "code",
   "execution_count": null,
   "id": "96bcd5a9",
   "metadata": {},
   "outputs": [],
   "source": [
    "# with open(\"frases_introduccion.txt\", \"w\", encoding=\"utf-8\") as f:\n",
    "#     f.write(response.content)"
   ]
  }
 ],
 "metadata": {
  "kernelspec": {
   "display_name": ".venv",
   "language": "python",
   "name": "python3"
  },
  "language_info": {
   "codemirror_mode": {
    "name": "ipython",
    "version": 3
   },
   "file_extension": ".py",
   "mimetype": "text/x-python",
   "name": "python",
   "nbconvert_exporter": "python",
   "pygments_lexer": "ipython3",
   "version": "3.12.0"
  }
 },
 "nbformat": 4,
 "nbformat_minor": 5
}
