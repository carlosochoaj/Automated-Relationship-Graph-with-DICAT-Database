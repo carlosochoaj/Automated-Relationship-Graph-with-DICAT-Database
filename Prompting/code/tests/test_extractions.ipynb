{
 "cells": [
  {
   "cell_type": "code",
   "execution_count": 13,
   "id": "ff5f6641",
   "metadata": {},
   "outputs": [],
   "source": [
    "import pandas as pd\n",
    "import rich as rc"
   ]
  },
  {
   "cell_type": "code",
   "execution_count": 7,
   "id": "62fc69d3",
   "metadata": {},
   "outputs": [],
   "source": [
    "data = pd.read_csv(\"../../data/DicatJuanRana.csv\", sep=\";\")"
   ]
  },
  {
   "cell_type": "code",
   "execution_count": 9,
   "id": "f08c92ef",
   "metadata": {},
   "outputs": [
    {
     "data": {
      "text/html": [
       "<div>\n",
       "<style scoped>\n",
       "    .dataframe tbody tr th:only-of-type {\n",
       "        vertical-align: middle;\n",
       "    }\n",
       "\n",
       "    .dataframe tbody tr th {\n",
       "        vertical-align: top;\n",
       "    }\n",
       "\n",
       "    .dataframe thead th {\n",
       "        text-align: right;\n",
       "    }\n",
       "</style>\n",
       "<table border=\"1\" class=\"dataframe\">\n",
       "  <thead>\n",
       "    <tr style=\"text-align: right;\">\n",
       "      <th></th>\n",
       "      <th>year</th>\n",
       "      <th>text</th>\n",
       "    </tr>\n",
       "  </thead>\n",
       "  <tbody>\n",
       "    <tr>\n",
       "      <th>0</th>\n",
       "      <td>0</td>\n",
       "      <td>Aunque su verdadero nombre era Cosme Pérez, fu...</td>\n",
       "    </tr>\n",
       "    <tr>\n",
       "      <th>1</th>\n",
       "      <td>1617</td>\n",
       "      <td>Según Cotarelo , a quien sigue Sáez Raposo , C...</td>\n",
       "    </tr>\n",
       "    <tr>\n",
       "      <th>2</th>\n",
       "      <td>1621</td>\n",
       "      <td>Consta la lista de la compañía de Juan Bautist...</td>\n",
       "    </tr>\n",
       "    <tr>\n",
       "      <th>3</th>\n",
       "      <td>1624</td>\n",
       "      <td>Cosme Pérez aparece en la nómina de la compañí...</td>\n",
       "    </tr>\n",
       "    <tr>\n",
       "      <th>4</th>\n",
       "      <td>1634</td>\n",
       "      <td>Según Cotarelo, Cosme Pérez pertenecía a la co...</td>\n",
       "    </tr>\n",
       "  </tbody>\n",
       "</table>\n",
       "</div>"
      ],
      "text/plain": [
       "   year                                               text\n",
       "0     0  Aunque su verdadero nombre era Cosme Pérez, fu...\n",
       "1  1617  Según Cotarelo , a quien sigue Sáez Raposo , C...\n",
       "2  1621  Consta la lista de la compañía de Juan Bautist...\n",
       "3  1624  Cosme Pérez aparece en la nómina de la compañí...\n",
       "4  1634  Según Cotarelo, Cosme Pérez pertenecía a la co..."
      ]
     },
     "execution_count": 9,
     "metadata": {},
     "output_type": "execute_result"
    }
   ],
   "source": [
    "data.head()"
   ]
  },
  {
   "cell_type": "code",
   "execution_count": 28,
   "id": "d9aaad23",
   "metadata": {},
   "outputs": [
    {
     "data": {
      "text/html": [
       "<pre style=\"white-space:pre;overflow-x:auto;line-height:normal;font-family:Menlo,'DejaVu Sans Mono',consolas,'Courier New',monospace\">En una carta escrita por Felipe IV a doña Luisa Enríquez Manrique, el Rey se refería a las recientes fiestas de \n",
       "Carnaval en palacio, relatando la imitación que don Andrés Ferrer había realizado de <span style=\"color: #008000; text-decoration-color: #008000\">'Juan Rana'</span>: <span style=\"color: #008000; text-decoration-color: #008000\">\"Muy regocijadas </span>\n",
       "<span style=\"color: #008000; text-decoration-color: #008000\">Carnestolendas hemos pasado y la gente moza se ha divertido y entretenido. Harta soledad me hizo que no viésedes </span>\n",
       "<span style=\"color: #008000; text-decoration-color: #008000\">querer imitar a Juan Rana a don Andrés Ferrer, que cierto de puro frío nos hacía reír, pero la comedia fue buena, </span>\n",
       "<span style=\"color: #008000; text-decoration-color: #008000\">particularmente lo cantado y la representación de las mujeres, que Amarilis [María de Córdoba] salió a la luz y </span>\n",
       "<span style=\"color: #008000; text-decoration-color: #008000\">está tan gran farsanta como siempre\"</span>. En esta misma carta, el Rey se refiere también a la presencia del embajador \n",
       "turco en Madrid, presenciando la comedia en palacio, y a su afición a la comedia y al trato con los actores, \n",
       "manifestada por el hecho de que, según contaba el Rey, se hubiese desplazado al Escorial llevándose consigo a <span style=\"color: #008000; text-decoration-color: #008000\">'Juan</span>\n",
       "<span style=\"color: #008000; text-decoration-color: #008000\">Rana'</span> y a otro farsante que llamaban Mejía —Antonio Mejía, según la identificación de M. L. Lobato, quien supone \n",
       "que <span style=\"color: #008000; text-decoration-color: #008000\">'Juan Rana'</span> debió de intervenir en la comedia mencionada y quizá estuvo alojado en palacio cuando el Rey le \n",
       "pidió a él y a Mejía que acompañaran al embajador al Escorial— ; en la memoria que presentó Antonio García de Prado\n",
       "para hacer los autos en las fiestas del Corpus en Madrid se incluye la lista de su compañía, en la que figura Cosme\n",
       "Pérez ; Cosme Pérez <span style=\"color: #008000; text-decoration-color: #008000\">'Juan Rana'</span> figura también entre los miembros de una lista de la compañía de <span style=\"font-weight: bold\">[</span>Antonio de<span style=\"font-weight: bold\">]</span> \n",
       "<span style=\"color: #008000; text-decoration-color: #008000\">\"Prado farsante\"</span>  que apareció publicada por Cruzada Villaamil junto con varias noticias de representaciones \n",
       "particulares hechas al Rey en <span style=\"color: #008080; text-decoration-color: #008080; font-weight: bold\">1623</span> por la compañía de Antonio de Prado  —pero es imposible que esta lista sea de \n",
       "<span style=\"color: #008080; text-decoration-color: #008080; font-weight: bold\">1623</span>, ya que incluye a José Antonio de Prado, que nació en <span style=\"color: #008080; text-decoration-color: #008080; font-weight: bold\">1635</span>. Creemos que corresponde a la compañía de Antonio \n",
       "de Prado hacia <span style=\"color: #008080; text-decoration-color: #008080; font-weight: bold\">1650</span>, pues muchos de los miembros que figuran en la lista publicada por Cruzada Villaamil sabemos \n",
       "que estaban en la lista de la compañía que Prado presentó para representar en el Corpus de Madrid en <span style=\"color: #008080; text-decoration-color: #008080; font-weight: bold\">1650</span>, como es \n",
       "el caso de Cosme Pérez—; consta una obligación, fechada en Madrid el <span style=\"color: #008080; text-decoration-color: #008080; font-weight: bold\">8</span> de noviembre, de Antonio García de Prado  y \n",
       "de los miembros de su compañía, entre ellos Cosme Pérez, para hacer cuarenta representaciones en Toledo, \n",
       "continuando después en la Corte hasta el miércoles de Ceniza del siguiente año, comprometiéndose también a preparar\n",
       "en Toledo dos comedias, Honrar bien, que Dios es Dios y El niño de Santa Bárbara, y en Madrid otra comedia nueva  \n",
       "—según Cotarelo, que manejó documentos de la Cofradía de Nuestra Señora de la Novena, los títulos de las dos \n",
       "comedias fueron Obrar bien, que Dios es Dios y El niño de Santa Barbara, ambas puestas en escena en Toledo por la \n",
       "compañía de Antonio de Prado —.\n",
       "</pre>\n"
      ],
      "text/plain": [
       "En una carta escrita por Felipe IV a doña Luisa Enríquez Manrique, el Rey se refería a las recientes fiestas de \n",
       "Carnaval en palacio, relatando la imitación que don Andrés Ferrer había realizado de \u001b[32m'Juan Rana'\u001b[0m: \u001b[32m\"Muy regocijadas \u001b[0m\n",
       "\u001b[32mCarnestolendas hemos pasado y la gente moza se ha divertido y entretenido. Harta soledad me hizo que no viésedes \u001b[0m\n",
       "\u001b[32mquerer imitar a Juan Rana a don Andrés Ferrer, que cierto de puro frío nos hacía reír, pero la comedia fue buena, \u001b[0m\n",
       "\u001b[32mparticularmente lo cantado y la representación de las mujeres, que Amarilis \u001b[0m\u001b[32m[\u001b[0m\u001b[32mMaría de Córdoba\u001b[0m\u001b[32m]\u001b[0m\u001b[32m salió a la luz y \u001b[0m\n",
       "\u001b[32mestá tan gran farsanta como siempre\"\u001b[0m. En esta misma carta, el Rey se refiere también a la presencia del embajador \n",
       "turco en Madrid, presenciando la comedia en palacio, y a su afición a la comedia y al trato con los actores, \n",
       "manifestada por el hecho de que, según contaba el Rey, se hubiese desplazado al Escorial llevándose consigo a \u001b[32m'Juan\u001b[0m\n",
       "\u001b[32mRana'\u001b[0m y a otro farsante que llamaban Mejía —Antonio Mejía, según la identificación de M. L. Lobato, quien supone \n",
       "que \u001b[32m'Juan Rana'\u001b[0m debió de intervenir en la comedia mencionada y quizá estuvo alojado en palacio cuando el Rey le \n",
       "pidió a él y a Mejía que acompañaran al embajador al Escorial— ; en la memoria que presentó Antonio García de Prado\n",
       "para hacer los autos en las fiestas del Corpus en Madrid se incluye la lista de su compañía, en la que figura Cosme\n",
       "Pérez ; Cosme Pérez \u001b[32m'Juan Rana'\u001b[0m figura también entre los miembros de una lista de la compañía de \u001b[1m[\u001b[0mAntonio de\u001b[1m]\u001b[0m \n",
       "\u001b[32m\"Prado farsante\"\u001b[0m  que apareció publicada por Cruzada Villaamil junto con varias noticias de representaciones \n",
       "particulares hechas al Rey en \u001b[1;36m1623\u001b[0m por la compañía de Antonio de Prado  —pero es imposible que esta lista sea de \n",
       "\u001b[1;36m1623\u001b[0m, ya que incluye a José Antonio de Prado, que nació en \u001b[1;36m1635\u001b[0m. Creemos que corresponde a la compañía de Antonio \n",
       "de Prado hacia \u001b[1;36m1650\u001b[0m, pues muchos de los miembros que figuran en la lista publicada por Cruzada Villaamil sabemos \n",
       "que estaban en la lista de la compañía que Prado presentó para representar en el Corpus de Madrid en \u001b[1;36m1650\u001b[0m, como es \n",
       "el caso de Cosme Pérez—; consta una obligación, fechada en Madrid el \u001b[1;36m8\u001b[0m de noviembre, de Antonio García de Prado  y \n",
       "de los miembros de su compañía, entre ellos Cosme Pérez, para hacer cuarenta representaciones en Toledo, \n",
       "continuando después en la Corte hasta el miércoles de Ceniza del siguiente año, comprometiéndose también a preparar\n",
       "en Toledo dos comedias, Honrar bien, que Dios es Dios y El niño de Santa Bárbara, y en Madrid otra comedia nueva  \n",
       "—según Cotarelo, que manejó documentos de la Cofradía de Nuestra Señora de la Novena, los títulos de las dos \n",
       "comedias fueron Obrar bien, que Dios es Dios y El niño de Santa Barbara, ambas puestas en escena en Toledo por la \n",
       "compañía de Antonio de Prado —.\n"
      ]
     },
     "metadata": {},
     "output_type": "display_data"
    }
   ],
   "source": [
    "text_to_analyze = data[data[\"year\"].astype(int) == 1650][\"text\"].values[0]\n",
    "rc.print(text_to_analyze)"
   ]
  },
  {
   "cell_type": "code",
   "execution_count": 17,
   "id": "098e4c40",
   "metadata": {},
   "outputs": [],
   "source": [
    "from langchain.prompts import PromptTemplate\n",
    "from langchain_openai import ChatOpenAI\n",
    "from dotenv import load_dotenv\n",
    "import os"
   ]
  },
  {
   "cell_type": "code",
   "execution_count": 16,
   "id": "ca3488ab",
   "metadata": {},
   "outputs": [],
   "source": [
    "load_dotenv()\n",
    "\n",
    "llm = ChatOpenAI(\n",
    "    model=\"gpt-4.1-mini\",\n",
    "    temperature=0,\n",
    "    openai_api_key=os.getenv(\"OPENAI_API_KEY\"),\n",
    ")"
   ]
  },
  {
   "cell_type": "code",
   "execution_count": 18,
   "id": "5c24b299",
   "metadata": {},
   "outputs": [],
   "source": [
    "prompt = PromptTemplate(\n",
    "    input_variables=[\"text\"],\n",
    "    template=\"\"\"Extrae trozos del siguente párrafo que estén conectados semánticamente:\n",
    "                {text}\"\"\",\n",
    ")"
   ]
  },
  {
   "cell_type": "code",
   "execution_count": 19,
   "id": "2a6bb7c5",
   "metadata": {},
   "outputs": [
    {
     "data": {
      "text/html": [
       "<pre style=\"white-space:pre;overflow-x:auto;line-height:normal;font-family:Menlo,'DejaVu Sans Mono',consolas,'Courier New',monospace\">Aquí tienes trozos del párrafo que están conectados semánticamente:\n",
       "\n",
       "<span style=\"color: #008080; text-decoration-color: #008080; font-weight: bold\">1</span>. **Sobre la comedia representada y la actuación de Juan Rana:**\n",
       "- <span style=\"color: #008000; text-decoration-color: #008000\">\"Felipe IV daba cuenta a doña Luisa Enríquez Manrique de una comedia representada en el Coliseo del Buen Retiro </span>\n",
       "<span style=\"color: #008000; text-decoration-color: #008000\">en la segunda quincena de mayo: 'Muy buena ha sido la comedia, y vuestro amigo 'Juan Rana' a cumplido famosamente </span>\n",
       "<span style=\"color: #008000; text-decoration-color: #008000\">con sus obligaciones; bien creo que si le hubiérades visto, se atreviera la risa a inquietar la función. La gente </span>\n",
       "<span style=\"color: #008000; text-decoration-color: #008000\">moza se ha entretenido harto'\"</span>.\n",
       "- <span style=\"color: #008000; text-decoration-color: #008000\">\"La comedia representada fue Andrómeda y Perseo, de Calderón, en la que Cosme Pérez representó el papel de </span>\n",
       "<span style=\"color: #008000; text-decoration-color: #008000\">'Bato'\"</span>.\n",
       "\n",
       "<span style=\"color: #008080; text-decoration-color: #008080; font-weight: bold\">2</span>. **Sobre los gastos y pagos relacionados con Cosme Pérez:**\n",
       "- <span style=\"color: #008000; text-decoration-color: #008000\">\"Entre la documentación relativa a las fiestas del Corpus de Madrid consta una lista de los gastos de las fiestas</span>\n",
       "<span style=\"color: #008000; text-decoration-color: #008000\">del Corpus de este año, en la que se indica que Cosme Pérez recibió 1.000 rs.\"</span>.\n",
       "\n",
       "<span style=\"color: #008080; text-decoration-color: #008080; font-weight: bold\">3</span>. **Sobre la solicitud y respuesta relacionada con Cosme Pérez y su hija:**\n",
       "- <span style=\"color: #008000; text-decoration-color: #008000\">\"Consta la respuesta, transmitida el 22 de noviembre por el Conde de Altamira, a la solicitud de 'Cosme Pérez, </span>\n",
       "<span style=\"color: #008000; text-decoration-color: #008000\">alias Juan Rana' realizada el 18 de dicho mes, referente al 'paso de una ración ordinaria que goza por la despensa </span>\n",
       "<span style=\"color: #008000; text-decoration-color: #008000\">de la casa de la Reyna nuestra señora, para una hija suya [Francisca María Pérez], con calidad que sea desde luego </span>\n",
       "<span style=\"color: #008000; text-decoration-color: #008000\">y que la susodicha no la pueda gozar si hubiese de andar en la farsa'.\"</span>\n",
       "</pre>\n"
      ],
      "text/plain": [
       "Aquí tienes trozos del párrafo que están conectados semánticamente:\n",
       "\n",
       "\u001b[1;36m1\u001b[0m. **Sobre la comedia representada y la actuación de Juan Rana:**\n",
       "- \u001b[32m\"Felipe IV daba cuenta a doña Luisa Enríquez Manrique de una comedia representada en el Coliseo del Buen Retiro \u001b[0m\n",
       "\u001b[32men la segunda quincena de mayo: 'Muy buena ha sido la comedia, y vuestro amigo 'Juan Rana' a cumplido famosamente \u001b[0m\n",
       "\u001b[32mcon sus obligaciones; bien creo que si le hubiérades visto, se atreviera la risa a inquietar la función. La gente \u001b[0m\n",
       "\u001b[32mmoza se ha entretenido harto'\"\u001b[0m.\n",
       "- \u001b[32m\"La comedia representada fue Andrómeda y Perseo, de Calderón, en la que Cosme Pérez representó el papel de \u001b[0m\n",
       "\u001b[32m'Bato'\"\u001b[0m.\n",
       "\n",
       "\u001b[1;36m2\u001b[0m. **Sobre los gastos y pagos relacionados con Cosme Pérez:**\n",
       "- \u001b[32m\"Entre la documentación relativa a las fiestas del Corpus de Madrid consta una lista de los gastos de las fiestas\u001b[0m\n",
       "\u001b[32mdel Corpus de este año, en la que se indica que Cosme Pérez recibió 1.000 rs.\"\u001b[0m.\n",
       "\n",
       "\u001b[1;36m3\u001b[0m. **Sobre la solicitud y respuesta relacionada con Cosme Pérez y su hija:**\n",
       "- \u001b[32m\"Consta la respuesta, transmitida el 22 de noviembre por el Conde de Altamira, a la solicitud de 'Cosme Pérez, \u001b[0m\n",
       "\u001b[32malias Juan Rana' realizada el 18 de dicho mes, referente al 'paso de una ración ordinaria que goza por la despensa \u001b[0m\n",
       "\u001b[32mde la casa de la Reyna nuestra señora, para una hija suya \u001b[0m\u001b[32m[\u001b[0m\u001b[32mFrancisca María Pérez\u001b[0m\u001b[32m]\u001b[0m\u001b[32m, con calidad que sea desde luego \u001b[0m\n",
       "\u001b[32my que la susodicha no la pueda gozar si hubiese de andar en la farsa'.\"\u001b[0m\n"
      ]
     },
     "metadata": {},
     "output_type": "display_data"
    }
   ],
   "source": [
    "response = llm.invoke(prompt.format(text=text_to_analyze))\n",
    "rc.print(response.content)"
   ]
  },
  {
   "cell_type": "code",
   "execution_count": 29,
   "id": "3d28f123",
   "metadata": {},
   "outputs": [
    {
     "data": {
      "text/html": [
       "<pre style=\"white-space:pre;overflow-x:auto;line-height:normal;font-family:Menlo,'DejaVu Sans Mono',consolas,'Courier New',monospace\">En una carta escrita por Felipe IV a doña Luisa Enríquez Manrique, el Rey se refería a las recientes fiestas de \n",
       "Carnaval en palacio, relatando la imitación que don Andrés Ferrer había realizado de <span style=\"color: #008000; text-decoration-color: #008000\">'Juan Rana'</span>: \"Muy regocijadas \n",
       "Carnestolendas hemos pasado y la gente moza se ha divertido y entretenido.\n",
       "</pre>\n"
      ],
      "text/plain": [
       "En una carta escrita por Felipe IV a doña Luisa Enríquez Manrique, el Rey se refería a las recientes fiestas de \n",
       "Carnaval en palacio, relatando la imitación que don Andrés Ferrer había realizado de \u001b[32m'Juan Rana'\u001b[0m: \"Muy regocijadas \n",
       "Carnestolendas hemos pasado y la gente moza se ha divertido y entretenido.\n"
      ]
     },
     "metadata": {},
     "output_type": "display_data"
    },
    {
     "data": {
      "text/html": [
       "<pre style=\"white-space:pre;overflow-x:auto;line-height:normal;font-family:Menlo,'DejaVu Sans Mono',consolas,'Courier New',monospace\">Harta soledad me hizo que no viésedes querer imitar a Juan Rana a don Andrés Ferrer, que cierto de puro frío nos \n",
       "hacía reír, pero la comedia fue buena, particularmente lo cantado y la representación de las mujeres, que Amarilis \n",
       "<span style=\"font-weight: bold\">[</span>María de Córdoba<span style=\"font-weight: bold\">]</span> salió a la luz y está tan gran farsanta como siempre\".\n",
       "</pre>\n"
      ],
      "text/plain": [
       "Harta soledad me hizo que no viésedes querer imitar a Juan Rana a don Andrés Ferrer, que cierto de puro frío nos \n",
       "hacía reír, pero la comedia fue buena, particularmente lo cantado y la representación de las mujeres, que Amarilis \n",
       "\u001b[1m[\u001b[0mMaría de Córdoba\u001b[1m]\u001b[0m salió a la luz y está tan gran farsanta como siempre\".\n"
      ]
     },
     "metadata": {},
     "output_type": "display_data"
    },
    {
     "data": {
      "text/html": [
       "<pre style=\"white-space:pre;overflow-x:auto;line-height:normal;font-family:Menlo,'DejaVu Sans Mono',consolas,'Courier New',monospace\">En esta misma carta, el Rey se refiere también a la presencia del embajador turco en Madrid, presenciando la \n",
       "comedia en palacio, y a su afición a la comedia y al trato con los actores, manifestada por el hecho de que, según \n",
       "contaba el Rey, se hubiese desplazado al Escorial llevándose consigo a <span style=\"color: #008000; text-decoration-color: #008000\">'Juan Rana'</span> y a otro farsante que llamaban \n",
       "Mejía —Antonio Mejía, según la identificación de M. L. Lobato, quien supone que <span style=\"color: #008000; text-decoration-color: #008000\">'Juan Rana'</span> debió de intervenir en \n",
       "la comedia mencionada y quizá estuvo alojado en palacio cuando el Rey le pidió a él y a Mejía que acompañaran al \n",
       "embajador al Escorial— ; en la memoria que presentó Antonio García de Prado  para hacer los autos en las fiestas \n",
       "del Corpus en Madrid se incluye la lista de su compañía, en la que figura Cosme Pérez ; Cosme Pérez <span style=\"color: #008000; text-decoration-color: #008000\">'Juan Rana'</span> \n",
       "figura también entre los miembros de una lista de la compañía de <span style=\"font-weight: bold\">[</span>Antonio de<span style=\"font-weight: bold\">]</span> <span style=\"color: #008000; text-decoration-color: #008000\">\"Prado farsante\"</span>  que apareció \n",
       "publicada por Cruzada Villaamil junto con varias noticias de representaciones particulares hechas al Rey en <span style=\"color: #008080; text-decoration-color: #008080; font-weight: bold\">1623</span> \n",
       "por la compañía de Antonio de Prado  —pero es imposible que esta lista sea de <span style=\"color: #008080; text-decoration-color: #008080; font-weight: bold\">1623</span>, ya que incluye a José Antonio \n",
       "de Prado, que nació en <span style=\"color: #008080; text-decoration-color: #008080; font-weight: bold\">1635</span>.\n",
       "</pre>\n"
      ],
      "text/plain": [
       "En esta misma carta, el Rey se refiere también a la presencia del embajador turco en Madrid, presenciando la \n",
       "comedia en palacio, y a su afición a la comedia y al trato con los actores, manifestada por el hecho de que, según \n",
       "contaba el Rey, se hubiese desplazado al Escorial llevándose consigo a \u001b[32m'Juan Rana'\u001b[0m y a otro farsante que llamaban \n",
       "Mejía —Antonio Mejía, según la identificación de M. L. Lobato, quien supone que \u001b[32m'Juan Rana'\u001b[0m debió de intervenir en \n",
       "la comedia mencionada y quizá estuvo alojado en palacio cuando el Rey le pidió a él y a Mejía que acompañaran al \n",
       "embajador al Escorial— ; en la memoria que presentó Antonio García de Prado  para hacer los autos en las fiestas \n",
       "del Corpus en Madrid se incluye la lista de su compañía, en la que figura Cosme Pérez ; Cosme Pérez \u001b[32m'Juan Rana'\u001b[0m \n",
       "figura también entre los miembros de una lista de la compañía de \u001b[1m[\u001b[0mAntonio de\u001b[1m]\u001b[0m \u001b[32m\"Prado farsante\"\u001b[0m  que apareció \n",
       "publicada por Cruzada Villaamil junto con varias noticias de representaciones particulares hechas al Rey en \u001b[1;36m1623\u001b[0m \n",
       "por la compañía de Antonio de Prado  —pero es imposible que esta lista sea de \u001b[1;36m1623\u001b[0m, ya que incluye a José Antonio \n",
       "de Prado, que nació en \u001b[1;36m1635\u001b[0m.\n"
      ]
     },
     "metadata": {},
     "output_type": "display_data"
    },
    {
     "data": {
      "text/html": [
       "<pre style=\"white-space:pre;overflow-x:auto;line-height:normal;font-family:Menlo,'DejaVu Sans Mono',consolas,'Courier New',monospace\">Creemos que corresponde a la compañía de Antonio de Prado hacia <span style=\"color: #008080; text-decoration-color: #008080; font-weight: bold\">1650</span>, pues muchos de los miembros que figuran en la\n",
       "lista publicada por Cruzada Villaamil sabemos que estaban en la lista de la compañía que Prado presentó para \n",
       "representar en el Corpus de Madrid en <span style=\"color: #008080; text-decoration-color: #008080; font-weight: bold\">1650</span>, como es el caso de Cosme Pérez—; consta una obligación, fechada en \n",
       "Madrid el <span style=\"color: #008080; text-decoration-color: #008080; font-weight: bold\">8</span> de noviembre, de Antonio García de Prado  y de los miembros de su compañía, entre ellos Cosme Pérez, \n",
       "para hacer cuarenta representaciones en Toledo, continuando después en la Corte hasta el miércoles de Ceniza del \n",
       "siguiente año, comprometiéndose también a preparar en Toledo dos comedias, Honrar bien, que Dios es Dios y El niño \n",
       "de Santa Bárbara, y en Madrid otra comedia nueva  —según Cotarelo, que manejó documentos de la Cofradía de Nuestra \n",
       "Señora de la Novena, los títulos de las dos comedias fueron Obrar bien, que Dios es Dios y El niño de Santa \n",
       "Barbara, ambas puestas en escena en Toledo por la compañía de Antonio de Prado —.\n",
       "</pre>\n"
      ],
      "text/plain": [
       "Creemos que corresponde a la compañía de Antonio de Prado hacia \u001b[1;36m1650\u001b[0m, pues muchos de los miembros que figuran en la\n",
       "lista publicada por Cruzada Villaamil sabemos que estaban en la lista de la compañía que Prado presentó para \n",
       "representar en el Corpus de Madrid en \u001b[1;36m1650\u001b[0m, como es el caso de Cosme Pérez—; consta una obligación, fechada en \n",
       "Madrid el \u001b[1;36m8\u001b[0m de noviembre, de Antonio García de Prado  y de los miembros de su compañía, entre ellos Cosme Pérez, \n",
       "para hacer cuarenta representaciones en Toledo, continuando después en la Corte hasta el miércoles de Ceniza del \n",
       "siguiente año, comprometiéndose también a preparar en Toledo dos comedias, Honrar bien, que Dios es Dios y El niño \n",
       "de Santa Bárbara, y en Madrid otra comedia nueva  —según Cotarelo, que manejó documentos de la Cofradía de Nuestra \n",
       "Señora de la Novena, los títulos de las dos comedias fueron Obrar bien, que Dios es Dios y El niño de Santa \n",
       "Barbara, ambas puestas en escena en Toledo por la compañía de Antonio de Prado —.\n"
      ]
     },
     "metadata": {},
     "output_type": "display_data"
    }
   ],
   "source": [
    "import spacy\n",
    "\n",
    "# Cargar el modelo de español con el parser activado\n",
    "nlp = spacy.load(\"es_core_news_md\")  # usa \"md\" o \"lg\" para mejor precisión\n",
    "\n",
    "# Procesar el texto\n",
    "doc = nlp(text_to_analyze)\n",
    "\n",
    "# Imprimir cada frase detectada\n",
    "for sent in doc.sents:\n",
    "    rc.print(sent.text.strip())"
   ]
  }
 ],
 "metadata": {
  "kernelspec": {
   "display_name": ".venv",
   "language": "python",
   "name": "python3"
  },
  "language_info": {
   "codemirror_mode": {
    "name": "ipython",
    "version": 3
   },
   "file_extension": ".py",
   "mimetype": "text/x-python",
   "name": "python",
   "nbconvert_exporter": "python",
   "pygments_lexer": "ipython3",
   "version": "3.12.10"
  }
 },
 "nbformat": 4,
 "nbformat_minor": 5
}
