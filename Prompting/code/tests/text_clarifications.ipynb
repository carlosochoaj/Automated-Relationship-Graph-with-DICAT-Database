{
 "cells": [
  {
   "cell_type": "code",
   "execution_count": 1,
   "id": "254ba948",
   "metadata": {},
   "outputs": [],
   "source": [
    "from langchain_openai import ChatOpenAI\n",
    "from dotenv import load_dotenv\n",
    "import pandas as pd\n",
    "import os"
   ]
  },
  {
   "cell_type": "code",
   "execution_count": 2,
   "id": "302d9b52",
   "metadata": {},
   "outputs": [],
   "source": [
    "load_dotenv()\n",
    "\n",
    "llm = ChatOpenAI(\n",
    "    model=\"gpt-4.1-mini\",\n",
    "    temperature=0,\n",
    "    api_key=os.getenv(\"OPENAI_API_KEY\"),\n",
    ")"
   ]
  },
  {
   "cell_type": "code",
   "execution_count": 3,
   "id": "af3140cb",
   "metadata": {},
   "outputs": [],
   "source": [
    "import json\n",
    "\n",
    "with open(\"../../out/prompting_ners_gpt_4.1_mini.json\", \"r\", encoding=\"utf-8\") as fr:\n",
    "    prompting_ners = json.load(fr)"
   ]
  },
  {
   "cell_type": "code",
   "execution_count": 4,
   "id": "e2f9a523",
   "metadata": {},
   "outputs": [],
   "source": [
    "import ast\n",
    "    \n",
    "data = pd.read_csv(\"../../data/DicatJuanRana_w_sentences.csv\", sep=\";\", encoding=\"utf-8\", converters={\"sentences\": ast.literal_eval})"
   ]
  },
  {
   "cell_type": "code",
   "execution_count": 15,
   "id": "55d66b2f",
   "metadata": {},
   "outputs": [],
   "source": [
    "from langchain.prompts import PromptTemplate\n",
    "\n",
    "prompt = PromptTemplate(\n",
    "    input_variables=[\"text\", \"prev_context\", \"post_context\"],\n",
    "    template=\"\"\"\n",
    "        Actúa como un agente de procesamiento de lenguaje natural cuyo objetivo es aclarar referencias ambiguas en un texto, especialmente aquellas relacionadas con:\n",
    "\n",
    "         - Sujeto omitido o implícito (ej. \"fue\", \"llegó\", \"respondió\")\n",
    "\n",
    "         - Complemento directo (ej. \"la comedia\", \"la llamó\", \"lo rechazaron\")\n",
    "\n",
    "         - Complemento indirecto (ej. \"le dijo\", \"le enviaron\")\n",
    "\n",
    "        Tu tarea es sustituir estas referencias por el nombre o entidad concreta a la que se refieren, usando el contexto de hasta dos frases anteriores y dos posteriores.\n",
    "\n",
    "        Reescribe únicamente las frases necesarias para que queden claras, manteniendo la coherencia sintáctica. Las frases que ya están completas y claras deben dejarse igual.\n",
    "        \n",
    "        No digas que la frase es ambigua, simplemente realiza las sustituciones necesarias.\n",
    "        \n",
    "        **EJEMPLO Complemento Directo**\n",
    "\n",
    "        Entrada:\n",
    "        La comedia fue muy bien. La comedia era Constantino.\n",
    "\n",
    "        Salida:\n",
    "        Constantino fue muy bien. La comedia era Constantino.\n",
    "        \n",
    "        **EJEMPLO Sujeto Omitido**\n",
    "\n",
    "        Entrada:\n",
    "        Ayer llegaron todos menos Ana. Fue quien organizó el evento. Nadie se lo esperaba.\n",
    "\n",
    "        Salida:\n",
    "        Ayer llegaron todos menos Ana. Ana organizó el evento. Nadie se lo esperaba.\n",
    "        \n",
    "        Contexto Previo:\n",
    "        {prev_context}\n",
    "        \n",
    "        Contexto Posterior:\n",
    "        {post_context}\n",
    "        \n",
    "        Texto:\n",
    "        {text}\n",
    "    \"\"\",\n",
    ")"
   ]
  },
  {
   "cell_type": "code",
   "execution_count": 7,
   "id": "de4bc44b",
   "metadata": {},
   "outputs": [
    {
     "data": {
      "text/plain": [
       "['En una carta, fechada en Madrid el 9 de junio de este año, Felipe IV daba cuenta a doña Luisa Enríquez Manrique de una comedia representada en el Coliseo del Buen Retiro en la segunda quincena de mayo:  ',\n",
       " '\"Muy buena ha sido la comedia, y vuestro amigo \\'Juan Rana\\' a cumplido famosamente con sus obligaciones;  ',\n",
       " 'bien creo que si le hubiérades visto, se atreviera la risa a inquietar la función.  ',\n",
       " 'La gente moza se ha entretenido harto\" —la comedia representada fue Andrómeda y Perseo, de Calderón, en la que Cosme Pérez representó el papel de \"Bato\"—;  ',\n",
       " 'entre la documentación relativa a las fiestas del Corpus de Madrid consta una lista de los gastos de las fiestas del Corpus de este año, en la que se indica que Cosme Pérez recibió 1.000 rs.;  ',\n",
       " 'consta la respuesta, transmitida el 22 de noviembre por el Conde de Altamira, a la solicitud de \"Cosme Pérez, alias Juan Rana\" realizada el 18 de dicho mes, referente al \"paso de una ración ordinaria que goza por la despensa de la casa de la Reyna nuestra señora, para una hija suya [Francisca María Pérez], con calidad que sea desde luego y que la susodicha no la pueda gozar si hubiese de andar en la farsa\".']"
      ]
     },
     "execution_count": 7,
     "metadata": {},
     "output_type": "execute_result"
    }
   ],
   "source": [
    "texto_to_clarify = data[data[\"year\"].astype(int) == 1653][\"sentences\"].values[0]\n",
    "texto_to_clarify"
   ]
  },
  {
   "cell_type": "code",
   "execution_count": 20,
   "id": "8fcd84c5",
   "metadata": {},
   "outputs": [
    {
     "data": {
      "application/vnd.jupyter.widget-view+json": {
       "model_id": "10f41ccd48914a539f4997e701cc2e43",
       "version_major": 2,
       "version_minor": 0
      },
      "text/plain": [
       "  0%|          | 0/38 [00:00<?, ?it/s]"
      ]
     },
     "metadata": {},
     "output_type": "display_data"
    },
    {
     "data": {
      "application/vnd.jupyter.widget-view+json": {
       "model_id": "0867df890d544d7b8b3bcb85e80a557f",
       "version_major": 2,
       "version_minor": 0
      },
      "text/plain": [
       "  0%|          | 0/89 [00:00<?, ?it/s]"
      ]
     },
     "metadata": {},
     "output_type": "display_data"
    },
    {
     "data": {
      "application/vnd.jupyter.widget-view+json": {
       "model_id": "d017e1b20e1745b18acbb5b33a9e50ed",
       "version_major": 2,
       "version_minor": 0
      },
      "text/plain": [
       "  0%|          | 0/3 [00:00<?, ?it/s]"
      ]
     },
     "metadata": {},
     "output_type": "display_data"
    },
    {
     "data": {
      "application/vnd.jupyter.widget-view+json": {
       "model_id": "50adbbe4261049dcb517f64f7cb343dd",
       "version_major": 2,
       "version_minor": 0
      },
      "text/plain": [
       "  0%|          | 0/2 [00:00<?, ?it/s]"
      ]
     },
     "metadata": {},
     "output_type": "display_data"
    },
    {
     "data": {
      "application/vnd.jupyter.widget-view+json": {
       "model_id": "0de567ecef7b4cda907391487a22501c",
       "version_major": 2,
       "version_minor": 0
      },
      "text/plain": [
       "  0%|          | 0/2 [00:00<?, ?it/s]"
      ]
     },
     "metadata": {},
     "output_type": "display_data"
    },
    {
     "data": {
      "application/vnd.jupyter.widget-view+json": {
       "model_id": "aec58e7541fc442db4b7bc1f2d5481e4",
       "version_major": 2,
       "version_minor": 0
      },
      "text/plain": [
       "  0%|          | 0/4 [00:00<?, ?it/s]"
      ]
     },
     "metadata": {},
     "output_type": "display_data"
    },
    {
     "data": {
      "application/vnd.jupyter.widget-view+json": {
       "model_id": "5e4614184ce240df8b5cde3c0fc4076b",
       "version_major": 2,
       "version_minor": 0
      },
      "text/plain": [
       "  0%|          | 0/3 [00:00<?, ?it/s]"
      ]
     },
     "metadata": {},
     "output_type": "display_data"
    },
    {
     "data": {
      "application/vnd.jupyter.widget-view+json": {
       "model_id": "75447305ee474c2096324a636ccf8aee",
       "version_major": 2,
       "version_minor": 0
      },
      "text/plain": [
       "  0%|          | 0/6 [00:00<?, ?it/s]"
      ]
     },
     "metadata": {},
     "output_type": "display_data"
    },
    {
     "data": {
      "application/vnd.jupyter.widget-view+json": {
       "model_id": "c0c7aec743af4b90834b4dc526e5b107",
       "version_major": 2,
       "version_minor": 0
      },
      "text/plain": [
       "  0%|          | 0/4 [00:00<?, ?it/s]"
      ]
     },
     "metadata": {},
     "output_type": "display_data"
    },
    {
     "data": {
      "application/vnd.jupyter.widget-view+json": {
       "model_id": "a2f3ce66baf44eadac5c4c8da73eed58",
       "version_major": 2,
       "version_minor": 0
      },
      "text/plain": [
       "  0%|          | 0/4 [00:00<?, ?it/s]"
      ]
     },
     "metadata": {},
     "output_type": "display_data"
    },
    {
     "data": {
      "application/vnd.jupyter.widget-view+json": {
       "model_id": "df54198ef78c42e3a5fd1e509e567cc4",
       "version_major": 2,
       "version_minor": 0
      },
      "text/plain": [
       "  0%|          | 0/3 [00:00<?, ?it/s]"
      ]
     },
     "metadata": {},
     "output_type": "display_data"
    },
    {
     "data": {
      "application/vnd.jupyter.widget-view+json": {
       "model_id": "b27899b709794db1a1b27254a1645c14",
       "version_major": 2,
       "version_minor": 0
      },
      "text/plain": [
       "  0%|          | 0/2 [00:00<?, ?it/s]"
      ]
     },
     "metadata": {},
     "output_type": "display_data"
    },
    {
     "data": {
      "application/vnd.jupyter.widget-view+json": {
       "model_id": "b99ae36776414b16880b2a1526596f7f",
       "version_major": 2,
       "version_minor": 0
      },
      "text/plain": [
       "  0%|          | 0/6 [00:00<?, ?it/s]"
      ]
     },
     "metadata": {},
     "output_type": "display_data"
    },
    {
     "data": {
      "application/vnd.jupyter.widget-view+json": {
       "model_id": "0de8387d008c4c1ba991f10dc21b2d9a",
       "version_major": 2,
       "version_minor": 0
      },
      "text/plain": [
       "  0%|          | 0/2 [00:00<?, ?it/s]"
      ]
     },
     "metadata": {},
     "output_type": "display_data"
    },
    {
     "data": {
      "application/vnd.jupyter.widget-view+json": {
       "model_id": "8a36169f79b14828b788a1c23931e7fd",
       "version_major": 2,
       "version_minor": 0
      },
      "text/plain": [
       "  0%|          | 0/9 [00:00<?, ?it/s]"
      ]
     },
     "metadata": {},
     "output_type": "display_data"
    },
    {
     "data": {
      "application/vnd.jupyter.widget-view+json": {
       "model_id": "e0164291e390420c8e085de282525f1d",
       "version_major": 2,
       "version_minor": 0
      },
      "text/plain": [
       "  0%|          | 0/4 [00:00<?, ?it/s]"
      ]
     },
     "metadata": {},
     "output_type": "display_data"
    },
    {
     "data": {
      "application/vnd.jupyter.widget-view+json": {
       "model_id": "409b5f9b196f42a1959fced393d89e49",
       "version_major": 2,
       "version_minor": 0
      },
      "text/plain": [
       "  0%|          | 0/3 [00:00<?, ?it/s]"
      ]
     },
     "metadata": {},
     "output_type": "display_data"
    },
    {
     "data": {
      "application/vnd.jupyter.widget-view+json": {
       "model_id": "da40948462b04488aabedefd0b312fac",
       "version_major": 2,
       "version_minor": 0
      },
      "text/plain": [
       "  0%|          | 0/4 [00:00<?, ?it/s]"
      ]
     },
     "metadata": {},
     "output_type": "display_data"
    },
    {
     "data": {
      "application/vnd.jupyter.widget-view+json": {
       "model_id": "39c70480f4d94f5fb52b0d4e79c79146",
       "version_major": 2,
       "version_minor": 0
      },
      "text/plain": [
       "  0%|          | 0/8 [00:00<?, ?it/s]"
      ]
     },
     "metadata": {},
     "output_type": "display_data"
    },
    {
     "data": {
      "application/vnd.jupyter.widget-view+json": {
       "model_id": "40d2864c9d234cc287f095c165a50142",
       "version_major": 2,
       "version_minor": 0
      },
      "text/plain": [
       "  0%|          | 0/5 [00:00<?, ?it/s]"
      ]
     },
     "metadata": {},
     "output_type": "display_data"
    },
    {
     "data": {
      "application/vnd.jupyter.widget-view+json": {
       "model_id": "939199aaa55e43f3bc4c66a59446d4de",
       "version_major": 2,
       "version_minor": 0
      },
      "text/plain": [
       "  0%|          | 0/2 [00:00<?, ?it/s]"
      ]
     },
     "metadata": {},
     "output_type": "display_data"
    },
    {
     "data": {
      "application/vnd.jupyter.widget-view+json": {
       "model_id": "b8db8a0ee28442a5bf8e31028a112959",
       "version_major": 2,
       "version_minor": 0
      },
      "text/plain": [
       "  0%|          | 0/6 [00:00<?, ?it/s]"
      ]
     },
     "metadata": {},
     "output_type": "display_data"
    },
    {
     "data": {
      "application/vnd.jupyter.widget-view+json": {
       "model_id": "f1d8807fa7af4e76b27c771e731149bd",
       "version_major": 2,
       "version_minor": 0
      },
      "text/plain": [
       "  0%|          | 0/4 [00:00<?, ?it/s]"
      ]
     },
     "metadata": {},
     "output_type": "display_data"
    },
    {
     "data": {
      "application/vnd.jupyter.widget-view+json": {
       "model_id": "431c3f24f2034ca2836e1aa354d6acaa",
       "version_major": 2,
       "version_minor": 0
      },
      "text/plain": [
       "  0%|          | 0/35 [00:00<?, ?it/s]"
      ]
     },
     "metadata": {},
     "output_type": "display_data"
    },
    {
     "data": {
      "application/vnd.jupyter.widget-view+json": {
       "model_id": "cdf944444b3442a6baaa351f4fe98229",
       "version_major": 2,
       "version_minor": 0
      },
      "text/plain": [
       "  0%|          | 0/8 [00:00<?, ?it/s]"
      ]
     },
     "metadata": {},
     "output_type": "display_data"
    },
    {
     "data": {
      "application/vnd.jupyter.widget-view+json": {
       "model_id": "48341cc1213f43229225bf65ef1989ae",
       "version_major": 2,
       "version_minor": 0
      },
      "text/plain": [
       "  0%|          | 0/13 [00:00<?, ?it/s]"
      ]
     },
     "metadata": {},
     "output_type": "display_data"
    },
    {
     "data": {
      "application/vnd.jupyter.widget-view+json": {
       "model_id": "d4a1903df4164fd58d853d3b5bfbb098",
       "version_major": 2,
       "version_minor": 0
      },
      "text/plain": [
       "  0%|          | 0/31 [00:00<?, ?it/s]"
      ]
     },
     "metadata": {},
     "output_type": "display_data"
    },
    {
     "data": {
      "application/vnd.jupyter.widget-view+json": {
       "model_id": "fa3970a57e054f5dad51f6fa127353fd",
       "version_major": 2,
       "version_minor": 0
      },
      "text/plain": [
       "  0%|          | 0/3 [00:00<?, ?it/s]"
      ]
     },
     "metadata": {},
     "output_type": "display_data"
    },
    {
     "data": {
      "application/vnd.jupyter.widget-view+json": {
       "model_id": "9269eda28eaa4e9295e6a2fc7344f290",
       "version_major": 2,
       "version_minor": 0
      },
      "text/plain": [
       "  0%|          | 0/2 [00:00<?, ?it/s]"
      ]
     },
     "metadata": {},
     "output_type": "display_data"
    },
    {
     "data": {
      "application/vnd.jupyter.widget-view+json": {
       "model_id": "6847c31b64b743f08f137e8642ff549e",
       "version_major": 2,
       "version_minor": 0
      },
      "text/plain": [
       "  0%|          | 0/3 [00:00<?, ?it/s]"
      ]
     },
     "metadata": {},
     "output_type": "display_data"
    },
    {
     "data": {
      "application/vnd.jupyter.widget-view+json": {
       "model_id": "b34a50924e4043aca2fa9d564d2c3de6",
       "version_major": 2,
       "version_minor": 0
      },
      "text/plain": [
       "  0%|          | 0/4 [00:00<?, ?it/s]"
      ]
     },
     "metadata": {},
     "output_type": "display_data"
    },
    {
     "data": {
      "application/vnd.jupyter.widget-view+json": {
       "model_id": "343adef670e94c1ca2b1cf0aaefaec47",
       "version_major": 2,
       "version_minor": 0
      },
      "text/plain": [
       "  0%|          | 0/2 [00:00<?, ?it/s]"
      ]
     },
     "metadata": {},
     "output_type": "display_data"
    },
    {
     "data": {
      "application/vnd.jupyter.widget-view+json": {
       "model_id": "622ecb9be7f54d17b003de71759535af",
       "version_major": 2,
       "version_minor": 0
      },
      "text/plain": [
       "  0%|          | 0/3 [00:00<?, ?it/s]"
      ]
     },
     "metadata": {},
     "output_type": "display_data"
    },
    {
     "data": {
      "application/vnd.jupyter.widget-view+json": {
       "model_id": "1ef377b486e04ec8a927c603bc4ff9d7",
       "version_major": 2,
       "version_minor": 0
      },
      "text/plain": [
       "  0%|          | 0/11 [00:00<?, ?it/s]"
      ]
     },
     "metadata": {},
     "output_type": "display_data"
    },
    {
     "data": {
      "application/vnd.jupyter.widget-view+json": {
       "model_id": "79f5cce118e24d769279342b68f8f0bb",
       "version_major": 2,
       "version_minor": 0
      },
      "text/plain": [
       "  0%|          | 0/3 [00:00<?, ?it/s]"
      ]
     },
     "metadata": {},
     "output_type": "display_data"
    },
    {
     "data": {
      "application/vnd.jupyter.widget-view+json": {
       "model_id": "bd5c08fec9a14982ac72b3450876f92e",
       "version_major": 2,
       "version_minor": 0
      },
      "text/plain": [
       "  0%|          | 0/3 [00:00<?, ?it/s]"
      ]
     },
     "metadata": {},
     "output_type": "display_data"
    },
    {
     "data": {
      "application/vnd.jupyter.widget-view+json": {
       "model_id": "16959704590644f29684f61dcbc4336b",
       "version_major": 2,
       "version_minor": 0
      },
      "text/plain": [
       "  0%|          | 0/7 [00:00<?, ?it/s]"
      ]
     },
     "metadata": {},
     "output_type": "display_data"
    },
    {
     "data": {
      "application/vnd.jupyter.widget-view+json": {
       "model_id": "e96bbe7969fb4d039f17e24809017ba2",
       "version_major": 2,
       "version_minor": 0
      },
      "text/plain": [
       "  0%|          | 0/6 [00:00<?, ?it/s]"
      ]
     },
     "metadata": {},
     "output_type": "display_data"
    },
    {
     "data": {
      "application/vnd.jupyter.widget-view+json": {
       "model_id": "e6d7bc5299d648b8bc44658f6f584b7f",
       "version_major": 2,
       "version_minor": 0
      },
      "text/plain": [
       "  0%|          | 0/2 [00:00<?, ?it/s]"
      ]
     },
     "metadata": {},
     "output_type": "display_data"
    }
   ],
   "source": [
    "from tqdm.auto import tqdm\n",
    "\n",
    "sentences_of_context = 3 # Number of sentences to consider as context for each sentence\n",
    "all_clarified_sentences = []\n",
    "\n",
    "for _, year in tqdm(data.iterrows(), total=len(data)):\n",
    "\n",
    "    prev_context = []\n",
    "    post_context = []\n",
    "\n",
    "    result = []\n",
    "    texto_to_clarify = year[\"sentences\"]\n",
    "\n",
    "    for i, sentence in tqdm(enumerate(texto_to_clarify), total=len(texto_to_clarify), leave=False):\n",
    "        prev_context = result[-2:]\n",
    "        post_context = texto_to_clarify[i + 1:i + 1 + sentences_of_context]\n",
    "        \n",
    "        prev_context = \" \".join(prev_context)\n",
    "        post_context = \" \".join(post_context)\n",
    "        \n",
    "        response = llm.invoke(\n",
    "            prompt.format(\n",
    "                text=sentence,\n",
    "                prev_context=prev_context,\n",
    "                post_context=post_context\n",
    "            )\n",
    "        ).content\n",
    "        \n",
    "        result.append(response)\n",
    "    \n",
    "    all_clarified_sentences.append(result)"
   ]
  },
  {
   "cell_type": "code",
   "execution_count": 18,
   "id": "3eb4688e",
   "metadata": {},
   "outputs": [
    {
     "name": "stdout",
     "output_type": "stream",
     "text": [
      "Texto original:\n"
     ]
    },
    {
     "data": {
      "text/html": [
       "<pre style=\"white-space:pre;overflow-x:auto;line-height:normal;font-family:Menlo,'DejaVu Sans Mono',consolas,'Courier New',monospace\">En una carta, fechada en Madrid el <span style=\"color: #008080; text-decoration-color: #008080; font-weight: bold\">9</span> de junio de este año, Felipe IV daba cuenta a doña Luisa Enríquez Manrique de \n",
       "una comedia representada en el Coliseo del Buen Retiro en la segunda quincena de mayo:   <span style=\"color: #008000; text-decoration-color: #008000\">\"Muy buena ha sido la </span>\n",
       "<span style=\"color: #008000; text-decoration-color: #008000\">comedia, y vuestro amigo 'Juan Rana' a cumplido famosamente con sus obligaciones;   bien creo que si le hubiérades </span>\n",
       "<span style=\"color: #008000; text-decoration-color: #008000\">visto, se atreviera la risa a inquietar la función.   La gente moza se ha entretenido harto\"</span> —la comedia \n",
       "representada fue Andrómeda y Perseo, de Calderón, en la que Cosme Pérez representó el papel de <span style=\"color: #008000; text-decoration-color: #008000\">\"Bato\"</span>—;   entre la \n",
       "documentación relativa a las fiestas del Corpus de Madrid consta una lista de los gastos de las fiestas del Corpus \n",
       "de este año, en la que se indica que Cosme Pérez recibió <span style=\"color: #008080; text-decoration-color: #008080; font-weight: bold\">1.000</span> rs.;   consta la respuesta, transmitida el <span style=\"color: #008080; text-decoration-color: #008080; font-weight: bold\">22</span> de \n",
       "noviembre por el Conde de Altamira, a la solicitud de <span style=\"color: #008000; text-decoration-color: #008000\">\"Cosme Pérez, alias Juan Rana\"</span> realizada el <span style=\"color: #008080; text-decoration-color: #008080; font-weight: bold\">18</span> de dicho mes, \n",
       "referente al <span style=\"color: #008000; text-decoration-color: #008000\">\"paso de una ración ordinaria que goza por la despensa de la casa de la Reyna nuestra señora, para una</span>\n",
       "<span style=\"color: #008000; text-decoration-color: #008000\">hija suya [Francisca María Pérez], con calidad que sea desde luego y que la susodicha no la pueda gozar si hubiese </span>\n",
       "<span style=\"color: #008000; text-decoration-color: #008000\">de andar en la farsa\"</span>.\n",
       "</pre>\n"
      ],
      "text/plain": [
       "En una carta, fechada en Madrid el \u001b[1;36m9\u001b[0m de junio de este año, Felipe IV daba cuenta a doña Luisa Enríquez Manrique de \n",
       "una comedia representada en el Coliseo del Buen Retiro en la segunda quincena de mayo:   \u001b[32m\"Muy buena ha sido la \u001b[0m\n",
       "\u001b[32mcomedia, y vuestro amigo 'Juan Rana' a cumplido famosamente con sus obligaciones;   bien creo que si le hubiérades \u001b[0m\n",
       "\u001b[32mvisto, se atreviera la risa a inquietar la función.   La gente moza se ha entretenido harto\"\u001b[0m —la comedia \n",
       "representada fue Andrómeda y Perseo, de Calderón, en la que Cosme Pérez representó el papel de \u001b[32m\"Bato\"\u001b[0m—;   entre la \n",
       "documentación relativa a las fiestas del Corpus de Madrid consta una lista de los gastos de las fiestas del Corpus \n",
       "de este año, en la que se indica que Cosme Pérez recibió \u001b[1;36m1.000\u001b[0m rs.;   consta la respuesta, transmitida el \u001b[1;36m22\u001b[0m de \n",
       "noviembre por el Conde de Altamira, a la solicitud de \u001b[32m\"Cosme Pérez, alias Juan Rana\"\u001b[0m realizada el \u001b[1;36m18\u001b[0m de dicho mes, \n",
       "referente al \u001b[32m\"paso de una ración ordinaria que goza por la despensa de la casa de la Reyna nuestra señora, para una\u001b[0m\n",
       "\u001b[32mhija suya \u001b[0m\u001b[32m[\u001b[0m\u001b[32mFrancisca María Pérez\u001b[0m\u001b[32m]\u001b[0m\u001b[32m, con calidad que sea desde luego y que la susodicha no la pueda gozar si hubiese \u001b[0m\n",
       "\u001b[32mde andar en la farsa\"\u001b[0m.\n"
      ]
     },
     "metadata": {},
     "output_type": "display_data"
    },
    {
     "name": "stdout",
     "output_type": "stream",
     "text": [
      "\n",
      "Texto corregido:\n"
     ]
    },
    {
     "data": {
      "text/html": [
       "<pre style=\"white-space:pre;overflow-x:auto;line-height:normal;font-family:Menlo,'DejaVu Sans Mono',consolas,'Courier New',monospace\">En una carta, fechada en Madrid el <span style=\"color: #008080; text-decoration-color: #008080; font-weight: bold\">9</span> de junio de este año, Felipe IV daba cuenta a doña Luisa Enríquez Manrique de \n",
       "la comedia Andrómeda y Perseo, de Calderón, representada en el Coliseo del Buen Retiro en la segunda quincena de \n",
       "mayo: Muy buena ha sido la comedia Andrómeda y Perseo, y vuestro amigo <span style=\"color: #008000; text-decoration-color: #008000\">'Juan Rana'</span> ha cumplido famosamente con sus \n",
       "obligaciones; Bien, creo que si hubierais visto a Cosme Pérez, alias Juan Rana, se atrevería la risa a inquietar la\n",
       "función. La gente moza se ha entretenido harto\" —la comedia representada fue Andrómeda y Perseo, de Calderón, en la\n",
       "que Cosme Pérez representó el papel de <span style=\"color: #008000; text-decoration-color: #008000\">\"Bato\"</span>—; Entre la documentación relativa a las fiestas del Corpus de Madrid \n",
       "consta una lista de los gastos de las fiestas del Corpus de este año, en la que se indica que Cosme Pérez recibió \n",
       "<span style=\"color: #008080; text-decoration-color: #008080; font-weight: bold\">1.000</span> rs.; Consta la respuesta, transmitida el <span style=\"color: #008080; text-decoration-color: #008080; font-weight: bold\">22</span> de noviembre por el Conde de Altamira, a la solicitud de <span style=\"color: #008000; text-decoration-color: #008000\">\"Cosme </span>\n",
       "<span style=\"color: #008000; text-decoration-color: #008000\">Pérez, alias Juan Rana\"</span> realizada el <span style=\"color: #008080; text-decoration-color: #008080; font-weight: bold\">18</span> de dicho mes, referente al <span style=\"color: #008000; text-decoration-color: #008000\">\"paso de una ración ordinaria que goza por la </span>\n",
       "<span style=\"color: #008000; text-decoration-color: #008000\">despensa de la casa de la Reyna nuestra señora, para una hija suya, Francisca María Pérez, con calidad que sea </span>\n",
       "<span style=\"color: #008000; text-decoration-color: #008000\">desde luego y que Francisca María Pérez no pueda gozar la ración si hubiese de andar en la farsa\"</span>.\n",
       "</pre>\n"
      ],
      "text/plain": [
       "En una carta, fechada en Madrid el \u001b[1;36m9\u001b[0m de junio de este año, Felipe IV daba cuenta a doña Luisa Enríquez Manrique de \n",
       "la comedia Andrómeda y Perseo, de Calderón, representada en el Coliseo del Buen Retiro en la segunda quincena de \n",
       "mayo: Muy buena ha sido la comedia Andrómeda y Perseo, y vuestro amigo \u001b[32m'Juan Rana'\u001b[0m ha cumplido famosamente con sus \n",
       "obligaciones; Bien, creo que si hubierais visto a Cosme Pérez, alias Juan Rana, se atrevería la risa a inquietar la\n",
       "función. La gente moza se ha entretenido harto\" —la comedia representada fue Andrómeda y Perseo, de Calderón, en la\n",
       "que Cosme Pérez representó el papel de \u001b[32m\"Bato\"\u001b[0m—; Entre la documentación relativa a las fiestas del Corpus de Madrid \n",
       "consta una lista de los gastos de las fiestas del Corpus de este año, en la que se indica que Cosme Pérez recibió \n",
       "\u001b[1;36m1.000\u001b[0m rs.; Consta la respuesta, transmitida el \u001b[1;36m22\u001b[0m de noviembre por el Conde de Altamira, a la solicitud de \u001b[32m\"Cosme \u001b[0m\n",
       "\u001b[32mPérez, alias Juan Rana\"\u001b[0m realizada el \u001b[1;36m18\u001b[0m de dicho mes, referente al \u001b[32m\"paso de una ración ordinaria que goza por la \u001b[0m\n",
       "\u001b[32mdespensa de la casa de la Reyna nuestra señora, para una hija suya, Francisca María Pérez, con calidad que sea \u001b[0m\n",
       "\u001b[32mdesde luego y que Francisca María Pérez no pueda gozar la ración si hubiese de andar en la farsa\"\u001b[0m.\n"
      ]
     },
     "metadata": {},
     "output_type": "display_data"
    }
   ],
   "source": [
    "import rich as rc\n",
    "\n",
    "print(\"Texto original:\")\n",
    "rc.print(\" \".join(texto_to_clarify))\n",
    "\n",
    "print(\"\\nTexto corregido:\")\n",
    "rc.print(\" \".join(result))"
   ]
  },
  {
   "cell_type": "code",
   "execution_count": null,
   "id": "33b807de",
   "metadata": {},
   "outputs": [],
   "source": [
    "data[\"clarified_sentences\"] = all_clarified_sentences\n",
    "data.to_csv(\"../../data/DicatJuanRana_w_clarified_sentences.csv\", sep=\";\", encoding=\"utf-8\", index=False)"
   ]
  },
  {
   "cell_type": "code",
   "execution_count": 29,
   "id": "297a4c5d",
   "metadata": {},
   "outputs": [
    {
     "data": {
      "text/plain": [
       "['En una carta, fechada en Madrid el 9 de junio de este año, Felipe IV daba cuenta a doña Luisa Enríquez Manrique de la comedia Andrómeda y Perseo, de Calderón, representada en el Coliseo del Buen Retiro en la segunda quincena de mayo:',\n",
       " \"Muy buena ha sido la comedia Andrómeda y Perseo, y vuestro amigo 'Juan Rana' ha cumplido famosamente con sus obligaciones;\",\n",
       " 'Bien, creo que si hubierais visto a Cosme Pérez, alias Juan Rana, se atrevería la risa a inquietar la función.',\n",
       " 'La gente moza se ha entretenido harto\" —la comedia representada Andrómeda y Perseo, de Calderón, fue Andrómeda y Perseo, en la que Cosme Pérez representó el papel de \"Bato\"—;',\n",
       " 'entre la documentación relativa a las fiestas del Corpus de Madrid consta una lista de los gastos de las fiestas del Corpus de este año, en la que se indica que Cosme Pérez recibió 1.000 rs.;',\n",
       " 'Consta la respuesta, transmitida el 22 de noviembre por el Conde de Altamira, a la solicitud de \"Cosme Pérez, alias Juan Rana\" realizada el 18 de dicho mes, referente al \"paso de una ración ordinaria que goza por la despensa de la casa de la Reyna nuestra señora, para una hija de la Reyna nuestra señora [Francisca María Pérez], con calidad que sea desde luego y que la susodicha no la pueda gozar si hubiese de andar en la farsa\".']"
      ]
     },
     "execution_count": 29,
     "metadata": {},
     "output_type": "execute_result"
    }
   ],
   "source": [
    "data[data[\"year\"].astype(int) == 1653][\"clarified_sentences\"].values[0]"
   ]
  },
  {
   "cell_type": "code",
   "execution_count": 30,
   "id": "2aa6b498",
   "metadata": {},
   "outputs": [],
   "source": [
    "for _, row in data.iterrows():\n",
    "    if len(row[\"clarified_sentences\"]) != len(row[\"sentences\"]):\n",
    "        print(f\"Error in year {row['year']}: {len(row['clarified_sentences'])} clarified sentences vs {len(row['sentences'])} original sentences.\")\n",
    "        break"
   ]
  }
 ],
 "metadata": {
  "kernelspec": {
   "display_name": ".venv",
   "language": "python",
   "name": "python3"
  },
  "language_info": {
   "codemirror_mode": {
    "name": "ipython",
    "version": 3
   },
   "file_extension": ".py",
   "mimetype": "text/x-python",
   "name": "python",
   "nbconvert_exporter": "python",
   "pygments_lexer": "ipython3",
   "version": "3.12.10"
  }
 },
 "nbformat": 4,
 "nbformat_minor": 5
}
