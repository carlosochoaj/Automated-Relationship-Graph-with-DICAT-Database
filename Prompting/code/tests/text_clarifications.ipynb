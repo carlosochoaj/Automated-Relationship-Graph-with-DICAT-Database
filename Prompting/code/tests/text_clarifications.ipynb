{
 "cells": [
  {
   "cell_type": "code",
   "execution_count": 1,
   "id": "254ba948",
   "metadata": {},
   "outputs": [],
   "source": [
    "from langchain_openai import ChatOpenAI\n",
    "from dotenv import load_dotenv\n",
    "import pandas as pd\n",
    "import os"
   ]
  },
  {
   "cell_type": "code",
   "execution_count": 2,
   "id": "302d9b52",
   "metadata": {},
   "outputs": [],
   "source": [
    "load_dotenv()\n",
    "\n",
    "llm = ChatOpenAI(\n",
    "    model=\"gpt-4.1-mini\",\n",
    "    temperature=0,\n",
    "    api_key=os.getenv(\"OPENAI_API_KEY\"),\n",
    ")"
   ]
  },
  {
   "cell_type": "code",
   "execution_count": 4,
   "id": "e2f9a523",
   "metadata": {},
   "outputs": [],
   "source": [
    "import ast\n",
    "    \n",
    "data = pd.read_csv(\"../../data/DicatJuanRana_w_sentences.csv\", sep=\";\", encoding=\"utf-8\", converters={\"sentences\": ast.literal_eval})"
   ]
  },
  {
   "cell_type": "code",
   "execution_count": 5,
   "id": "55d66b2f",
   "metadata": {},
   "outputs": [],
   "source": [
    "from langchain.prompts import PromptTemplate\n",
    "\n",
    "prompt = PromptTemplate(\n",
    "    input_variables=[\"text\", \"prev_context\", \"post_context\"],\n",
    "    template=\"\"\"\n",
    "        Actúa como un agente de procesamiento de lenguaje natural cuyo objetivo es aclarar referencias ambiguas en un texto, especialmente aquellas relacionadas con:\n",
    "\n",
    "         - Sujeto omitido o implícito (ej. \"fue\", \"llegó\", \"respondió\")\n",
    "\n",
    "         - Complemento directo (ej. \"la comedia\", \"la llamó\", \"lo rechazaron\")\n",
    "\n",
    "         - Complemento indirecto (ej. \"le dijo\", \"le enviaron\")\n",
    "\n",
    "        Tu tarea es sustituir estas referencias por el nombre o entidad concreta a la que se refieren, usando el contexto de hasta dos frases anteriores y dos posteriores.\n",
    "\n",
    "        Reescribe únicamente las frases necesarias para que queden claras, manteniendo la coherencia sintáctica. Las frases que ya están completas y claras deben dejarse igual.\n",
    "        \n",
    "        Si no puedes determinar a qué se refiere una referencia ambigua, devuelve la frase original sin cambios. No intentes adivinar o hacer suposiciones sobre el significado de la referencia.\n",
    "        \n",
    "        No digas que la frase es ambigua, simplemente realiza las sustituciones necesarias.\n",
    "        \n",
    "        **EJEMPLO Complemento Directo**\n",
    "\n",
    "        Entrada:\n",
    "        La comedia fue muy bien. La comedia era Constantino.\n",
    "\n",
    "        Salida:\n",
    "        Constantino fue muy bien. La comedia era Constantino.\n",
    "        \n",
    "        **EJEMPLO Sujeto Omitido**\n",
    "\n",
    "        Entrada:\n",
    "        Ayer llegaron todos menos Ana. Fue quien organizó el evento. Nadie se lo esperaba.\n",
    "\n",
    "        Salida:\n",
    "        Ayer llegaron todos menos Ana. Ana organizó el evento. Nadie se lo esperaba.\n",
    "        \n",
    "        Contexto Previo:\n",
    "        El texto forma parte de la biografía de Cosme Pérez. \n",
    "        {prev_context}\n",
    "        \n",
    "        Contexto Posterior:\n",
    "        {post_context}\n",
    "        \n",
    "        Texto:\n",
    "        {text}\n",
    "    \"\"\",\n",
    ")"
   ]
  },
  {
   "cell_type": "code",
   "execution_count": 7,
   "id": "de4bc44b",
   "metadata": {},
   "outputs": [
    {
     "data": {
      "text/plain": [
       "['En una carta, fechada en Madrid el 9 de junio de este año, Felipe IV daba cuenta a doña Luisa Enríquez Manrique de una comedia representada en el Coliseo del Buen Retiro en la segunda quincena de mayo:  ',\n",
       " '\"Muy buena ha sido la comedia, y vuestro amigo \\'Juan Rana\\' a cumplido famosamente con sus obligaciones;  ',\n",
       " 'bien creo que si le hubiérades visto, se atreviera la risa a inquietar la función.  ',\n",
       " 'La gente moza se ha entretenido harto\" —la comedia representada fue Andrómeda y Perseo, de Calderón, en la que Cosme Pérez representó el papel de \"Bato\"—;  ',\n",
       " 'entre la documentación relativa a las fiestas del Corpus de Madrid consta una lista de los gastos de las fiestas del Corpus de este año, en la que se indica que Cosme Pérez recibió 1.000 rs.;  ',\n",
       " 'consta la respuesta, transmitida el 22 de noviembre por el Conde de Altamira, a la solicitud de \"Cosme Pérez, alias Juan Rana\" realizada el 18 de dicho mes, referente al \"paso de una ración ordinaria que goza por la despensa de la casa de la Reyna nuestra señora, para una hija suya [Francisca María Pérez], con calidad que sea desde luego y que la susodicha no la pueda gozar si hubiese de andar en la farsa\".']"
      ]
     },
     "execution_count": 7,
     "metadata": {},
     "output_type": "execute_result"
    }
   ],
   "source": [
    "texto_to_clarify = data[data[\"year\"].astype(int) == 1653][\"sentences\"].values[0]\n",
    "texto_to_clarify"
   ]
  },
  {
   "cell_type": "code",
   "execution_count": 6,
   "id": "8fcd84c5",
   "metadata": {},
   "outputs": [
    {
     "data": {
      "application/vnd.jupyter.widget-view+json": {
       "model_id": "a01ac2418fa544e5ab25135a6c7a4b20",
       "version_major": 2,
       "version_minor": 0
      },
      "text/plain": [
       "  0%|          | 0/38 [00:00<?, ?it/s]"
      ]
     },
     "metadata": {},
     "output_type": "display_data"
    },
    {
     "data": {
      "application/vnd.jupyter.widget-view+json": {
       "model_id": "eceda0683a0f4009b84222a4fd243c89",
       "version_major": 2,
       "version_minor": 0
      },
      "text/plain": [
       "  0%|          | 0/89 [00:00<?, ?it/s]"
      ]
     },
     "metadata": {},
     "output_type": "display_data"
    },
    {
     "data": {
      "application/vnd.jupyter.widget-view+json": {
       "model_id": "90dfbb825c5742cfac863cff9b157dc2",
       "version_major": 2,
       "version_minor": 0
      },
      "text/plain": [
       "  0%|          | 0/3 [00:00<?, ?it/s]"
      ]
     },
     "metadata": {},
     "output_type": "display_data"
    },
    {
     "data": {
      "application/vnd.jupyter.widget-view+json": {
       "model_id": "ad0e52664dc14514bfa9f60abfb46d89",
       "version_major": 2,
       "version_minor": 0
      },
      "text/plain": [
       "  0%|          | 0/2 [00:00<?, ?it/s]"
      ]
     },
     "metadata": {},
     "output_type": "display_data"
    },
    {
     "data": {
      "application/vnd.jupyter.widget-view+json": {
       "model_id": "976096b02c534905aec34e7cf842c450",
       "version_major": 2,
       "version_minor": 0
      },
      "text/plain": [
       "  0%|          | 0/2 [00:00<?, ?it/s]"
      ]
     },
     "metadata": {},
     "output_type": "display_data"
    },
    {
     "data": {
      "application/vnd.jupyter.widget-view+json": {
       "model_id": "27f16ef6c8dc4160b481845d724199a0",
       "version_major": 2,
       "version_minor": 0
      },
      "text/plain": [
       "  0%|          | 0/4 [00:00<?, ?it/s]"
      ]
     },
     "metadata": {},
     "output_type": "display_data"
    },
    {
     "data": {
      "application/vnd.jupyter.widget-view+json": {
       "model_id": "3f5d9dfef30b43f382e5ad42df4cacea",
       "version_major": 2,
       "version_minor": 0
      },
      "text/plain": [
       "  0%|          | 0/3 [00:00<?, ?it/s]"
      ]
     },
     "metadata": {},
     "output_type": "display_data"
    },
    {
     "data": {
      "application/vnd.jupyter.widget-view+json": {
       "model_id": "d5f663b126a848fabc1d6f0512b39468",
       "version_major": 2,
       "version_minor": 0
      },
      "text/plain": [
       "  0%|          | 0/6 [00:00<?, ?it/s]"
      ]
     },
     "metadata": {},
     "output_type": "display_data"
    },
    {
     "data": {
      "application/vnd.jupyter.widget-view+json": {
       "model_id": "ac4b33d8fc8c49c0b50554a61417980e",
       "version_major": 2,
       "version_minor": 0
      },
      "text/plain": [
       "  0%|          | 0/4 [00:00<?, ?it/s]"
      ]
     },
     "metadata": {},
     "output_type": "display_data"
    },
    {
     "data": {
      "application/vnd.jupyter.widget-view+json": {
       "model_id": "9cc37405c08c414fa5f6b1a58b01923d",
       "version_major": 2,
       "version_minor": 0
      },
      "text/plain": [
       "  0%|          | 0/4 [00:00<?, ?it/s]"
      ]
     },
     "metadata": {},
     "output_type": "display_data"
    },
    {
     "data": {
      "application/vnd.jupyter.widget-view+json": {
       "model_id": "ae1c677c3e3647809f677d67206b8030",
       "version_major": 2,
       "version_minor": 0
      },
      "text/plain": [
       "  0%|          | 0/3 [00:00<?, ?it/s]"
      ]
     },
     "metadata": {},
     "output_type": "display_data"
    },
    {
     "data": {
      "application/vnd.jupyter.widget-view+json": {
       "model_id": "a760e5f8c136409a9bdfb7c7dab97338",
       "version_major": 2,
       "version_minor": 0
      },
      "text/plain": [
       "  0%|          | 0/2 [00:00<?, ?it/s]"
      ]
     },
     "metadata": {},
     "output_type": "display_data"
    },
    {
     "data": {
      "application/vnd.jupyter.widget-view+json": {
       "model_id": "e03d7af9605e42efb8f8efcf2c763b7c",
       "version_major": 2,
       "version_minor": 0
      },
      "text/plain": [
       "  0%|          | 0/6 [00:00<?, ?it/s]"
      ]
     },
     "metadata": {},
     "output_type": "display_data"
    },
    {
     "data": {
      "application/vnd.jupyter.widget-view+json": {
       "model_id": "e9e9a8f31a4443c5b087116954396567",
       "version_major": 2,
       "version_minor": 0
      },
      "text/plain": [
       "  0%|          | 0/2 [00:00<?, ?it/s]"
      ]
     },
     "metadata": {},
     "output_type": "display_data"
    },
    {
     "data": {
      "application/vnd.jupyter.widget-view+json": {
       "model_id": "bbf8a25839724ce888ff90036558e56a",
       "version_major": 2,
       "version_minor": 0
      },
      "text/plain": [
       "  0%|          | 0/9 [00:00<?, ?it/s]"
      ]
     },
     "metadata": {},
     "output_type": "display_data"
    },
    {
     "data": {
      "application/vnd.jupyter.widget-view+json": {
       "model_id": "c7706d01e1c741fca761884802e50f60",
       "version_major": 2,
       "version_minor": 0
      },
      "text/plain": [
       "  0%|          | 0/4 [00:00<?, ?it/s]"
      ]
     },
     "metadata": {},
     "output_type": "display_data"
    },
    {
     "data": {
      "application/vnd.jupyter.widget-view+json": {
       "model_id": "86c2582d5d54440693d5fa8c1ebfcd32",
       "version_major": 2,
       "version_minor": 0
      },
      "text/plain": [
       "  0%|          | 0/3 [00:00<?, ?it/s]"
      ]
     },
     "metadata": {},
     "output_type": "display_data"
    },
    {
     "data": {
      "application/vnd.jupyter.widget-view+json": {
       "model_id": "02b7f747e6c440388c1e361ca1d2b614",
       "version_major": 2,
       "version_minor": 0
      },
      "text/plain": [
       "  0%|          | 0/4 [00:00<?, ?it/s]"
      ]
     },
     "metadata": {},
     "output_type": "display_data"
    },
    {
     "data": {
      "application/vnd.jupyter.widget-view+json": {
       "model_id": "036b69c78cf74763809f1b873c535f72",
       "version_major": 2,
       "version_minor": 0
      },
      "text/plain": [
       "  0%|          | 0/8 [00:00<?, ?it/s]"
      ]
     },
     "metadata": {},
     "output_type": "display_data"
    },
    {
     "data": {
      "application/vnd.jupyter.widget-view+json": {
       "model_id": "5e48114942934236ba99a8dc717811bb",
       "version_major": 2,
       "version_minor": 0
      },
      "text/plain": [
       "  0%|          | 0/5 [00:00<?, ?it/s]"
      ]
     },
     "metadata": {},
     "output_type": "display_data"
    },
    {
     "data": {
      "application/vnd.jupyter.widget-view+json": {
       "model_id": "f55810265f564e71aeec054d290f7136",
       "version_major": 2,
       "version_minor": 0
      },
      "text/plain": [
       "  0%|          | 0/2 [00:00<?, ?it/s]"
      ]
     },
     "metadata": {},
     "output_type": "display_data"
    },
    {
     "data": {
      "application/vnd.jupyter.widget-view+json": {
       "model_id": "36df110266f74f09a04f0fcc1b872409",
       "version_major": 2,
       "version_minor": 0
      },
      "text/plain": [
       "  0%|          | 0/6 [00:00<?, ?it/s]"
      ]
     },
     "metadata": {},
     "output_type": "display_data"
    },
    {
     "data": {
      "application/vnd.jupyter.widget-view+json": {
       "model_id": "25f276647a8d453fa634e810dd005a80",
       "version_major": 2,
       "version_minor": 0
      },
      "text/plain": [
       "  0%|          | 0/4 [00:00<?, ?it/s]"
      ]
     },
     "metadata": {},
     "output_type": "display_data"
    },
    {
     "data": {
      "application/vnd.jupyter.widget-view+json": {
       "model_id": "cb2f0ee104ed4adeb1aff58eb6b2d989",
       "version_major": 2,
       "version_minor": 0
      },
      "text/plain": [
       "  0%|          | 0/35 [00:00<?, ?it/s]"
      ]
     },
     "metadata": {},
     "output_type": "display_data"
    },
    {
     "data": {
      "application/vnd.jupyter.widget-view+json": {
       "model_id": "a0e254bc93b9420daaf6e4a3ad39ce0c",
       "version_major": 2,
       "version_minor": 0
      },
      "text/plain": [
       "  0%|          | 0/8 [00:00<?, ?it/s]"
      ]
     },
     "metadata": {},
     "output_type": "display_data"
    },
    {
     "data": {
      "application/vnd.jupyter.widget-view+json": {
       "model_id": "59b19ecba71a4fc5b8a56b8f6693fec5",
       "version_major": 2,
       "version_minor": 0
      },
      "text/plain": [
       "  0%|          | 0/13 [00:00<?, ?it/s]"
      ]
     },
     "metadata": {},
     "output_type": "display_data"
    },
    {
     "data": {
      "application/vnd.jupyter.widget-view+json": {
       "model_id": "d3681eb23f734f89969ee881f36518a8",
       "version_major": 2,
       "version_minor": 0
      },
      "text/plain": [
       "  0%|          | 0/31 [00:00<?, ?it/s]"
      ]
     },
     "metadata": {},
     "output_type": "display_data"
    },
    {
     "data": {
      "application/vnd.jupyter.widget-view+json": {
       "model_id": "706ad42815b846a2999ac0a6201d956f",
       "version_major": 2,
       "version_minor": 0
      },
      "text/plain": [
       "  0%|          | 0/3 [00:00<?, ?it/s]"
      ]
     },
     "metadata": {},
     "output_type": "display_data"
    },
    {
     "data": {
      "application/vnd.jupyter.widget-view+json": {
       "model_id": "751f0c9566684deea6f663d5e97e8c31",
       "version_major": 2,
       "version_minor": 0
      },
      "text/plain": [
       "  0%|          | 0/2 [00:00<?, ?it/s]"
      ]
     },
     "metadata": {},
     "output_type": "display_data"
    },
    {
     "data": {
      "application/vnd.jupyter.widget-view+json": {
       "model_id": "4f16402bc3f34b02ac721164370b1300",
       "version_major": 2,
       "version_minor": 0
      },
      "text/plain": [
       "  0%|          | 0/3 [00:00<?, ?it/s]"
      ]
     },
     "metadata": {},
     "output_type": "display_data"
    },
    {
     "data": {
      "application/vnd.jupyter.widget-view+json": {
       "model_id": "0b440fe5268e4fb9aa6cbf3788ecd2ea",
       "version_major": 2,
       "version_minor": 0
      },
      "text/plain": [
       "  0%|          | 0/4 [00:00<?, ?it/s]"
      ]
     },
     "metadata": {},
     "output_type": "display_data"
    },
    {
     "data": {
      "application/vnd.jupyter.widget-view+json": {
       "model_id": "9f59ecad11294df6a1ab62641e366bdd",
       "version_major": 2,
       "version_minor": 0
      },
      "text/plain": [
       "  0%|          | 0/2 [00:00<?, ?it/s]"
      ]
     },
     "metadata": {},
     "output_type": "display_data"
    },
    {
     "data": {
      "application/vnd.jupyter.widget-view+json": {
       "model_id": "59ad94e6eff74d62bc35745cac3a33fa",
       "version_major": 2,
       "version_minor": 0
      },
      "text/plain": [
       "  0%|          | 0/3 [00:00<?, ?it/s]"
      ]
     },
     "metadata": {},
     "output_type": "display_data"
    },
    {
     "data": {
      "application/vnd.jupyter.widget-view+json": {
       "model_id": "b8b75169694448759943bf0cbd1a93ed",
       "version_major": 2,
       "version_minor": 0
      },
      "text/plain": [
       "  0%|          | 0/11 [00:00<?, ?it/s]"
      ]
     },
     "metadata": {},
     "output_type": "display_data"
    },
    {
     "data": {
      "application/vnd.jupyter.widget-view+json": {
       "model_id": "b20e96a5cb8841219e546bb45ec17588",
       "version_major": 2,
       "version_minor": 0
      },
      "text/plain": [
       "  0%|          | 0/3 [00:00<?, ?it/s]"
      ]
     },
     "metadata": {},
     "output_type": "display_data"
    },
    {
     "data": {
      "application/vnd.jupyter.widget-view+json": {
       "model_id": "e47c7eae3c3f4cec90f742f526de85a5",
       "version_major": 2,
       "version_minor": 0
      },
      "text/plain": [
       "  0%|          | 0/3 [00:00<?, ?it/s]"
      ]
     },
     "metadata": {},
     "output_type": "display_data"
    },
    {
     "data": {
      "application/vnd.jupyter.widget-view+json": {
       "model_id": "2420ad97cdec4fc6b72f4a8586b2b46e",
       "version_major": 2,
       "version_minor": 0
      },
      "text/plain": [
       "  0%|          | 0/7 [00:00<?, ?it/s]"
      ]
     },
     "metadata": {},
     "output_type": "display_data"
    },
    {
     "data": {
      "application/vnd.jupyter.widget-view+json": {
       "model_id": "294e3584ae4d4c018e5f69e3601b153f",
       "version_major": 2,
       "version_minor": 0
      },
      "text/plain": [
       "  0%|          | 0/6 [00:00<?, ?it/s]"
      ]
     },
     "metadata": {},
     "output_type": "display_data"
    },
    {
     "data": {
      "application/vnd.jupyter.widget-view+json": {
       "model_id": "6fe5eb5fbc724ec18d8930cc1c516f4b",
       "version_major": 2,
       "version_minor": 0
      },
      "text/plain": [
       "  0%|          | 0/2 [00:00<?, ?it/s]"
      ]
     },
     "metadata": {},
     "output_type": "display_data"
    }
   ],
   "source": [
    "from tqdm.auto import tqdm\n",
    "\n",
    "sentences_of_context = 3 # Number of sentences to consider as context for each sentence\n",
    "all_clarified_sentences = []\n",
    "\n",
    "for _, year in tqdm(data.iterrows(), total=len(data)):\n",
    "\n",
    "    prev_context = []\n",
    "    post_context = []\n",
    "\n",
    "    result = []\n",
    "    texto_to_clarify = year[\"sentences\"]\n",
    "\n",
    "    for i, sentence in tqdm(enumerate(texto_to_clarify), total=len(texto_to_clarify), leave=False):\n",
    "        prev_context = result[-2:]\n",
    "        post_context = texto_to_clarify[i + 1:i + 1 + sentences_of_context]\n",
    "        \n",
    "        prev_context = \" \".join(prev_context)\n",
    "        post_context = \" \".join(post_context)\n",
    "        \n",
    "        response = llm.invoke(\n",
    "            prompt.format(\n",
    "                text=sentence,\n",
    "                prev_context=prev_context,\n",
    "                post_context=post_context\n",
    "            )\n",
    "        ).content\n",
    "        \n",
    "        result.append(response)\n",
    "    \n",
    "    all_clarified_sentences.append(result)"
   ]
  },
  {
   "cell_type": "code",
   "execution_count": null,
   "id": "33b807de",
   "metadata": {},
   "outputs": [
    {
     "ename": "",
     "evalue": "",
     "output_type": "error",
     "traceback": [
      "\u001b[1;31mEl kernel se bloqueó al ejecutar código en la celda actual o en una celda anterior. \n",
      "\u001b[1;31mRevise el código de las celdas para identificar una posible causa del error. \n",
      "\u001b[1;31mHaga clic <a href='https://aka.ms/vscodeJupyterKernelCrash'>aquí</a> para obtener más información. \n",
      "\u001b[1;31mVea Jupyter <a href='command:jupyter.viewOutput'>log</a> para obtener más detalles."
     ]
    }
   ],
   "source": [
    "data[\"clarified_sentences\"] = all_clarified_sentences\n",
    "data.to_csv(\"../../data/DicatJuanRana_w_clarified_sentences.csv\", sep=\";\", encoding=\"utf-8\", index=False)"
   ]
  },
  {
   "cell_type": "code",
   "execution_count": 8,
   "id": "3eb4688e",
   "metadata": {},
   "outputs": [
    {
     "name": "stdout",
     "output_type": "stream",
     "text": [
      "Texto original:\n"
     ]
    },
    {
     "data": {
      "text/html": [
       "<pre style=\"white-space:pre;overflow-x:auto;line-height:normal;font-family:Menlo,'DejaVu Sans Mono',consolas,'Courier New',monospace\">Asistió al cabildo de la Cofradía de Nuestra Señora de la Novena celebrado el <span style=\"color: #008080; text-decoration-color: #008080; font-weight: bold\">2</span> de marzo.   El <span style=\"color: #008080; text-decoration-color: #008080; font-weight: bold\">9</span> de julio, en \n",
       "Madrid, firmó un nuevo testamento que invalidaba el anterior de <span style=\"color: #008080; text-decoration-color: #008080; font-weight: bold\">1666</span>, en el que declaraba de nuevo ser vecino de \n",
       "Madrid, <span style=\"color: #008000; text-decoration-color: #008000\">\"que vivo en mis casas propias, en la calle de Cantarranas, Parroquia de San Sebastián, estando en pie </span>\n",
       "<span style=\"color: #008000; text-decoration-color: #008000\">levantado de la cama, aunque con algunos achaques\"</span>, y pedía ser sepultado <span style=\"color: #008000; text-decoration-color: #008000\">\"sin ataúd en el convento de religiosos </span>\n",
       "<span style=\"color: #008000; text-decoration-color: #008000\">descalzos de la Santísima Trinidad desta Corte, en la sepultura que allí tengo mía propia, y donde está sepultada </span>\n",
       "<span style=\"color: #008000; text-decoration-color: #008000\">mi hija Francisca María Pérez\"</span>.   Aparte del dinero estipulado para misas por su alma y detalles de sus honras, \n",
       "entre las limosnas entregaba una de <span style=\"color: #008080; text-decoration-color: #008080; font-weight: bold\">150</span> dcs. de vellón para la Cofradía de Nuestra Señora de la Novena para ayuda \n",
       "de la fábrica de su capilla, y un pabellón de brocado que tenía en el oratorio de su casa.   A su sobrina María de \n",
       "Diego y a su sobrino Francisco de Diego, ya mencionados en el testamento anterior, les enviaba <span style=\"color: #008080; text-decoration-color: #008080; font-weight: bold\">150</span> dcs. y <span style=\"color: #008080; text-decoration-color: #008080; font-weight: bold\">30</span> dcs. \n",
       "de vellón, respectivamente, y <span style=\"color: #008080; text-decoration-color: #008080; font-weight: bold\">150</span> dcs. de vellón para ayuda del retablo <span style=\"color: #008000; text-decoration-color: #008000\">\"que me han dicho se trata de hacer\"</span> para \n",
       "la imagen de Nuestra Señora del Amparo de la iglesia parroquial de Tudela del Duero.   Asimismo, ordenaba pagar a \n",
       "su ama Isabel <span style=\"color: #008080; text-decoration-color: #008080; font-weight: bold\">150</span> rs. de vellón y lo que se le debiera de salario, y a Felipe Negro, su <span style=\"color: #008000; text-decoration-color: #008000\">\"paisano y pariente\"</span>, otros\n",
       "<span style=\"color: #008080; text-decoration-color: #008080; font-weight: bold\">150</span> rs. y un espadín.   Otorgaba a sus albaceas y testamentarios poder para rematar sus bienes y pagar todo lo \n",
       "estipulado en el testamento y, con el sobrante, pagar nuevas misas y limosnas para su alma y la de su hija y \n",
       "familiares.   —A. de la Granja, al publicar el testamento, estimó que el desembolso en las misas previstas por su \n",
       "alma debió de rondar los <span style=\"color: #008080; text-decoration-color: #008080; font-weight: bold\">7.500</span> rs. y destaca la preocupación religiosa que manifiesta Cosme Pérez—.\n",
       "</pre>\n"
      ],
      "text/plain": [
       "Asistió al cabildo de la Cofradía de Nuestra Señora de la Novena celebrado el \u001b[1;36m2\u001b[0m de marzo.   El \u001b[1;36m9\u001b[0m de julio, en \n",
       "Madrid, firmó un nuevo testamento que invalidaba el anterior de \u001b[1;36m1666\u001b[0m, en el que declaraba de nuevo ser vecino de \n",
       "Madrid, \u001b[32m\"que vivo en mis casas propias, en la calle de Cantarranas, Parroquia de San Sebastián, estando en pie \u001b[0m\n",
       "\u001b[32mlevantado de la cama, aunque con algunos achaques\"\u001b[0m, y pedía ser sepultado \u001b[32m\"sin ataúd en el convento de religiosos \u001b[0m\n",
       "\u001b[32mdescalzos de la Santísima Trinidad desta Corte, en la sepultura que allí tengo mía propia, y donde está sepultada \u001b[0m\n",
       "\u001b[32mmi hija Francisca María Pérez\"\u001b[0m.   Aparte del dinero estipulado para misas por su alma y detalles de sus honras, \n",
       "entre las limosnas entregaba una de \u001b[1;36m150\u001b[0m dcs. de vellón para la Cofradía de Nuestra Señora de la Novena para ayuda \n",
       "de la fábrica de su capilla, y un pabellón de brocado que tenía en el oratorio de su casa.   A su sobrina María de \n",
       "Diego y a su sobrino Francisco de Diego, ya mencionados en el testamento anterior, les enviaba \u001b[1;36m150\u001b[0m dcs. y \u001b[1;36m30\u001b[0m dcs. \n",
       "de vellón, respectivamente, y \u001b[1;36m150\u001b[0m dcs. de vellón para ayuda del retablo \u001b[32m\"que me han dicho se trata de hacer\"\u001b[0m para \n",
       "la imagen de Nuestra Señora del Amparo de la iglesia parroquial de Tudela del Duero.   Asimismo, ordenaba pagar a \n",
       "su ama Isabel \u001b[1;36m150\u001b[0m rs. de vellón y lo que se le debiera de salario, y a Felipe Negro, su \u001b[32m\"paisano y pariente\"\u001b[0m, otros\n",
       "\u001b[1;36m150\u001b[0m rs. y un espadín.   Otorgaba a sus albaceas y testamentarios poder para rematar sus bienes y pagar todo lo \n",
       "estipulado en el testamento y, con el sobrante, pagar nuevas misas y limosnas para su alma y la de su hija y \n",
       "familiares.   —A. de la Granja, al publicar el testamento, estimó que el desembolso en las misas previstas por su \n",
       "alma debió de rondar los \u001b[1;36m7.500\u001b[0m rs. y destaca la preocupación religiosa que manifiesta Cosme Pérez—.\n"
      ]
     },
     "metadata": {},
     "output_type": "display_data"
    },
    {
     "name": "stdout",
     "output_type": "stream",
     "text": [
      "\n",
      "Texto corregido:\n"
     ]
    },
    {
     "data": {
      "text/html": [
       "<pre style=\"white-space:pre;overflow-x:auto;line-height:normal;font-family:Menlo,'DejaVu Sans Mono',consolas,'Courier New',monospace\">Asistió al cabildo de la Cofradía de Nuestra Señora de la Novena celebrado el <span style=\"color: #008080; text-decoration-color: #008080; font-weight: bold\">2</span> de marzo. El <span style=\"color: #008080; text-decoration-color: #008080; font-weight: bold\">9</span> de julio, en Madrid,\n",
       "Cosme Pérez firmó un nuevo testamento que invalidaba el anterior de <span style=\"color: #008080; text-decoration-color: #008080; font-weight: bold\">1666</span>, en el que declaraba de nuevo ser vecino \n",
       "de Madrid, <span style=\"color: #008000; text-decoration-color: #008000\">\"que vivo en mis casas propias, en la calle de Cantarranas, Parroquia de San Sebastián, estando en pie </span>\n",
       "<span style=\"color: #008000; text-decoration-color: #008000\">levantado de la cama, aunque con algunos achaques\"</span>, y pedía ser sepultado <span style=\"color: #008000; text-decoration-color: #008000\">\"sin ataúd en el convento de religiosos </span>\n",
       "<span style=\"color: #008000; text-decoration-color: #008000\">descalzos de la Santísima Trinidad desta Corte, en la sepultura que allí tengo mía propia, y donde está sepultada </span>\n",
       "<span style=\"color: #008000; text-decoration-color: #008000\">mi hija Francisca María Pérez\"</span>. Aparte del dinero estipulado para misas por el alma de Cosme Pérez y detalles de \n",
       "sus honras, entre las limosnas entregaba una de <span style=\"color: #008080; text-decoration-color: #008080; font-weight: bold\">150</span> dcs. de vellón para la Cofradía de Nuestra Señora de la Novena \n",
       "para ayuda de la fábrica de su capilla, y un pabellón de brocado que Cosme Pérez tenía en el oratorio de su casa. A\n",
       "su sobrina María de Diego y a su sobrino Francisco de Diego, ya mencionados en el testamento anterior, les enviaba \n",
       "<span style=\"color: #008080; text-decoration-color: #008080; font-weight: bold\">150</span> dcs. y <span style=\"color: #008080; text-decoration-color: #008080; font-weight: bold\">30</span> dcs. de vellón, respectivamente, y enviaba <span style=\"color: #008080; text-decoration-color: #008080; font-weight: bold\">150</span> dcs. de vellón para ayuda del retablo <span style=\"color: #008000; text-decoration-color: #008000\">\"que me han </span>\n",
       "<span style=\"color: #008000; text-decoration-color: #008000\">dicho se trata de hacer\"</span> para la imagen de Nuestra Señora del Amparo de la iglesia parroquial de Tudela del Duero. \n",
       "Asimismo, ordenaba pagar a su ama Isabel <span style=\"color: #008080; text-decoration-color: #008080; font-weight: bold\">150</span> rs. de vellón y el salario que se le debiera, y a Felipe Negro, su \n",
       "<span style=\"color: #008000; text-decoration-color: #008000\">\"paisano y pariente\"</span>, otros <span style=\"color: #008080; text-decoration-color: #008080; font-weight: bold\">150</span> rs. de vellón y un espadín. Otorgaba a sus albaceas y testamentarios poder para \n",
       "rematar sus bienes y pagar todo lo estipulado en el testamento y, con el sobrante, pagar nuevas misas y limosnas \n",
       "para el alma de Cosme Pérez y la de su hija y familiares. —A. de la Granja, al publicar el testamento de Cosme \n",
       "Pérez, estimó que el desembolso en las misas previstas por el alma de Cosme Pérez debió de rondar los <span style=\"color: #008080; text-decoration-color: #008080; font-weight: bold\">7.500</span> rs. y \n",
       "destaca la preocupación religiosa que manifiesta Cosme Pérez—.\n",
       "</pre>\n"
      ],
      "text/plain": [
       "Asistió al cabildo de la Cofradía de Nuestra Señora de la Novena celebrado el \u001b[1;36m2\u001b[0m de marzo. El \u001b[1;36m9\u001b[0m de julio, en Madrid,\n",
       "Cosme Pérez firmó un nuevo testamento que invalidaba el anterior de \u001b[1;36m1666\u001b[0m, en el que declaraba de nuevo ser vecino \n",
       "de Madrid, \u001b[32m\"que vivo en mis casas propias, en la calle de Cantarranas, Parroquia de San Sebastián, estando en pie \u001b[0m\n",
       "\u001b[32mlevantado de la cama, aunque con algunos achaques\"\u001b[0m, y pedía ser sepultado \u001b[32m\"sin ataúd en el convento de religiosos \u001b[0m\n",
       "\u001b[32mdescalzos de la Santísima Trinidad desta Corte, en la sepultura que allí tengo mía propia, y donde está sepultada \u001b[0m\n",
       "\u001b[32mmi hija Francisca María Pérez\"\u001b[0m. Aparte del dinero estipulado para misas por el alma de Cosme Pérez y detalles de \n",
       "sus honras, entre las limosnas entregaba una de \u001b[1;36m150\u001b[0m dcs. de vellón para la Cofradía de Nuestra Señora de la Novena \n",
       "para ayuda de la fábrica de su capilla, y un pabellón de brocado que Cosme Pérez tenía en el oratorio de su casa. A\n",
       "su sobrina María de Diego y a su sobrino Francisco de Diego, ya mencionados en el testamento anterior, les enviaba \n",
       "\u001b[1;36m150\u001b[0m dcs. y \u001b[1;36m30\u001b[0m dcs. de vellón, respectivamente, y enviaba \u001b[1;36m150\u001b[0m dcs. de vellón para ayuda del retablo \u001b[32m\"que me han \u001b[0m\n",
       "\u001b[32mdicho se trata de hacer\"\u001b[0m para la imagen de Nuestra Señora del Amparo de la iglesia parroquial de Tudela del Duero. \n",
       "Asimismo, ordenaba pagar a su ama Isabel \u001b[1;36m150\u001b[0m rs. de vellón y el salario que se le debiera, y a Felipe Negro, su \n",
       "\u001b[32m\"paisano y pariente\"\u001b[0m, otros \u001b[1;36m150\u001b[0m rs. de vellón y un espadín. Otorgaba a sus albaceas y testamentarios poder para \n",
       "rematar sus bienes y pagar todo lo estipulado en el testamento y, con el sobrante, pagar nuevas misas y limosnas \n",
       "para el alma de Cosme Pérez y la de su hija y familiares. —A. de la Granja, al publicar el testamento de Cosme \n",
       "Pérez, estimó que el desembolso en las misas previstas por el alma de Cosme Pérez debió de rondar los \u001b[1;36m7.500\u001b[0m rs. y \n",
       "destaca la preocupación religiosa que manifiesta Cosme Pérez—.\n"
      ]
     },
     "metadata": {},
     "output_type": "display_data"
    }
   ],
   "source": [
    "import rich as rc\n",
    "\n",
    "texto_to_clarify = data[data[\"year\"].astype(int) == 1670][\"sentences\"].values[0]\n",
    "result = data[data[\"year\"].astype(int) == 1670][\"clarified_sentences_test\"].values[0]\n",
    "\n",
    "print(\"Texto original:\")\n",
    "rc.print(\" \".join(texto_to_clarify))\n",
    "\n",
    "print(\"\\nTexto corregido:\")\n",
    "rc.print(\" \".join(result))"
   ]
  },
  {
   "cell_type": "code",
   "execution_count": 29,
   "id": "297a4c5d",
   "metadata": {},
   "outputs": [
    {
     "data": {
      "text/plain": [
       "['En una carta, fechada en Madrid el 9 de junio de este año, Felipe IV daba cuenta a doña Luisa Enríquez Manrique de la comedia Andrómeda y Perseo, de Calderón, representada en el Coliseo del Buen Retiro en la segunda quincena de mayo:',\n",
       " \"Muy buena ha sido la comedia Andrómeda y Perseo, y vuestro amigo 'Juan Rana' ha cumplido famosamente con sus obligaciones;\",\n",
       " 'Bien, creo que si hubierais visto a Cosme Pérez, alias Juan Rana, se atrevería la risa a inquietar la función.',\n",
       " 'La gente moza se ha entretenido harto\" —la comedia representada Andrómeda y Perseo, de Calderón, fue Andrómeda y Perseo, en la que Cosme Pérez representó el papel de \"Bato\"—;',\n",
       " 'entre la documentación relativa a las fiestas del Corpus de Madrid consta una lista de los gastos de las fiestas del Corpus de este año, en la que se indica que Cosme Pérez recibió 1.000 rs.;',\n",
       " 'Consta la respuesta, transmitida el 22 de noviembre por el Conde de Altamira, a la solicitud de \"Cosme Pérez, alias Juan Rana\" realizada el 18 de dicho mes, referente al \"paso de una ración ordinaria que goza por la despensa de la casa de la Reyna nuestra señora, para una hija de la Reyna nuestra señora [Francisca María Pérez], con calidad que sea desde luego y que la susodicha no la pueda gozar si hubiese de andar en la farsa\".']"
      ]
     },
     "execution_count": 29,
     "metadata": {},
     "output_type": "execute_result"
    }
   ],
   "source": [
    "data[data[\"year\"].astype(int) == 1653][\"clarified_sentences\"].values[0]"
   ]
  },
  {
   "cell_type": "code",
   "execution_count": 30,
   "id": "2aa6b498",
   "metadata": {},
   "outputs": [],
   "source": [
    "for _, row in data.iterrows():\n",
    "    if len(row[\"clarified_sentences\"]) != len(row[\"sentences\"]):\n",
    "        print(f\"Error in year {row['year']}: {len(row['clarified_sentences'])} clarified sentences vs {len(row['sentences'])} original sentences.\")\n",
    "        break"
   ]
  },
  {
   "cell_type": "code",
   "execution_count": 2,
   "id": "0eb9982e",
   "metadata": {},
   "outputs": [],
   "source": [
    "import pandas as pd\n",
    "import ast\n",
    "    \n",
    "data = pd.read_csv(\"../../data/DicatJuanRana_w_clarified_sentences.csv\", sep=\";\", encoding=\"utf-8\", converters={\"sentences\": ast.literal_eval, \"clarified_sentences\": ast.literal_eval})"
   ]
  },
  {
   "cell_type": "code",
   "execution_count": 3,
   "id": "90383403",
   "metadata": {},
   "outputs": [],
   "source": [
    "from langchain_openai import ChatOpenAI\n",
    "from dotenv import load_dotenv\n",
    "import pandas as pd\n",
    "import os"
   ]
  },
  {
   "cell_type": "code",
   "execution_count": 4,
   "id": "20aa5023",
   "metadata": {},
   "outputs": [],
   "source": [
    "load_dotenv()\n",
    "\n",
    "llm = ChatOpenAI(\n",
    "    model=\"gpt-4.1-mini\",\n",
    "    temperature=0,\n",
    "    api_key=os.getenv(\"OPENAI_API_KEY\"),\n",
    ")"
   ]
  },
  {
   "cell_type": "code",
   "execution_count": 13,
   "id": "d22b48b9",
   "metadata": {},
   "outputs": [],
   "source": [
    "from langchain.prompts import PromptTemplate\n",
    "\n",
    "comparative_prompt = PromptTemplate(\n",
    "    input_variables=[\"original_text\", \"clarified_text\"],\n",
    "    template=\"\"\"\n",
    "        Actúa como un agente de procesamiento de lenguaje natural cuyo objetivo es comparar dos textos y determinar si son iguales o diferentes.\n",
    "\n",
    "        Tu tarea es analizar el texto original y el texto aclarativo, y responder si son similares o por el contrario, el texto aclarativo muestra información diferente o adicional que no está presente en el texto original.\n",
    "        \n",
    "        Responde con \"Iguales\" si los textos son idénticos en contenido y significado, o devuelve las partes en las que los textos difieren.\n",
    "\n",
    "        Texto Original:\n",
    "        {original_text}\n",
    "        \n",
    "        Texto Aclarativo:\n",
    "        {clarified_text}\n",
    "    \"\"\",\n",
    ")\n",
    "    "
   ]
  },
  {
   "cell_type": "code",
   "execution_count": 14,
   "id": "2b09365e",
   "metadata": {},
   "outputs": [
    {
     "data": {
      "application/vnd.jupyter.widget-view+json": {
       "model_id": "f72e0a41da4a4f3595e197d2993ec724",
       "version_major": 2,
       "version_minor": 0
      },
      "text/plain": [
       "  0%|          | 0/38 [00:00<?, ?it/s]"
      ]
     },
     "metadata": {},
     "output_type": "display_data"
    },
    {
     "name": "stdout",
     "output_type": "stream",
     "text": [
      "Los textos presentan diferencias significativas en la forma de referirse a los sujetos, en la repetición excesiva del nombre \"Cosme Pérez\" en el texto aclarativo, y en algunos detalles que alteran el sentido o la claridad del contenido original. A continuación, se señalan las principales diferencias:\n",
      "\n",
      "1. **Repetición innecesaria del nombre \"Cosme Pérez\"**:  \n",
      "   El texto aclarativo repite constantemente \"Cosme Pérez\" en lugares donde el original usa pronombres o construcciones más naturales, lo que afecta la fluidez y claridad.\n",
      "\n",
      "2. **Alteraciones en citas y expresiones**:  \n",
      "   - En la cita sobre la popularidad, el original dice:  \n",
      "     *\"Fue mui zelebrado en la parte de grazioso, y aun excedió a todos los de su tiempo, y solo con salir a las tablas, y sin hablar, probocaba a risa y al aplauso a los que le veían\"*.  \n",
      "     El aclarativo cambia a:  \n",
      "     *\"Cosme Pérez fue mui zelebrado en la parte de grazioso, y aun excedió a todos los de su tiempo, y solo con salir a las tablas, y sin hablar, probocaba a risa y al aplauso a los que le veían\"*,  \n",
      "     agregando el nombre dentro de la cita, lo que no corresponde al original.\n",
      "\n",
      "   - En la explicación sobre Domingo Canejil, el original dice:  \n",
      "     *\"porque decían que ni Juan Rana había llegado a su grande habilidad\"*,  \n",
      "     mientras que el aclarativo invierte el sentido:  \n",
      "     *\"porque decían que ni el actor Juan Rana había llegado a la grande habilidad de Domingo Canejil\"*,  \n",
      "     lo que cambia el significado.\n",
      "\n",
      "3. **Errores y confusiones en el texto aclarativo**:  \n",
      "   - En la parte de la anécdota con Pedro de la Rosa, el aclarativo repite dos veces la misma idea con ligeras variaciones, generando redundancia y confusión.  \n",
      "   - En la anécdota del Salón del Palacio, el aclarativo añade repetición innecesaria de \"Juan Rana\" y \"Cosme Pérez\" en frases donde el original usa pronombres o nombres una sola vez.  \n",
      "   - En la parte final, el aclarativo introduce un error grave al referirse a \"Sebastián de Prado\" en lugar de \"Cosme Pérez\" o \"Juan Rana\" en varios pasajes, lo que cambia el sujeto y genera confusión sobre a quién se refiere.  \n",
      "   - También se observa que el aclarativo cambia o añade palabras que no están en el original, como \"el entremés El mago se representó en el Retiro durante la fiesta de San Juan de ese año\", mientras que el original dice \"según M. L. Lobato, este entremés se representó...\".\n",
      "\n",
      "4. **Cambios en la estructura y estilo**:  \n",
      "   El texto aclarativo es mucho más repetitivo, menos fluido y en ocasiones confuso, mientras que el original es más coherente y claro en la exposición.\n",
      "\n",
      "**Conclusión:**  \n",
      "El texto aclarativo no es equivalente al texto original. Presenta información alterada, errores en la atribución de sujetos, cambios en citas que modifican el sentido, y repeticiones innecesarias que afectan la claridad. Por tanto, los textos son **diferentes**.\n",
      "Diferencias encontradas:\n",
      "\n",
      "1. En el Texto Aclarativo se añade la frase: \"Cosme Pérez fue quien organizó el evento. Nadie se lo esperaba.\" Esta información no está presente en el Texto Original.\n",
      "\n",
      "2. En el Texto Aclarativo hay una repetición: \"del autógrafo de El desdén vengado, de Lope de Vega, del autógrafo de El desdén vengado,\" que no aparece en el Texto Original.\n",
      "\n",
      "3. El Texto Aclarativo reformula ligeramente la última oración, pero mantiene el mismo significado esencial.\n",
      "\n",
      "Por lo tanto, el Texto Aclarativo contiene información adicional y una repetición que no están en el Texto Original.\n",
      "Iguales\n",
      "Difieren en la parte final:  \n",
      "- Texto Original: \"la entrega que haría la Villa a cada actor de una vela de cera de media libra.\"  \n",
      "- Texto Aclarativo: \"la entrega que haría la Villa de Madrid a cada actor de una vela de cera de media libra.\"  \n",
      "\n",
      "El Texto Aclarativo especifica \"la Villa de Madrid\" en lugar de solo \"la Villa\".\n",
      "Iguales\n",
      "Iguales\n",
      "Diferencias encontradas:\n",
      "\n",
      "1. Texto Original: \"el gasto por el entierro de su mujer, María de Acosta\"\n",
      "   Texto Aclarativo: \"el gasto por el entierro de la mujer de Cosme Pérez, María de Acosta\"\n",
      "\n",
      "2. Texto Original: \"debió de morir hacia 1632\"\n",
      "   Texto Aclarativo: \"María de Acosta debió de morir hacia 1632\" (se añade el nombre explícito)\n",
      "\n",
      "3. Texto Original: \"por lo que recibiría 10 rs. de ración, 20 rs. por cada representación, 50 dcs. por la fiesta del Corpus y tres caballerías para los viajes.\"\n",
      "   Texto Aclarativo: \"por lo que Cosme Pérez recibiría 10 rs. de ración, 20 rs. por cada representación, 50 dcs. por la fiesta del Corpus y tres caballerías para los viajes.\" (se repite el sujeto \"Cosme Pérez\")\n",
      "\n",
      "4. Texto Original: \"en esos días 'Juan Rana', que había sido detenido acusado de \"pecado nefando\", fue liberado.\"\n",
      "   Texto Aclarativo: \"en esos días Juan Rana, que había sido detenido acusado de \"pecado nefando\", Juan Rana fue liberado.\" (repetición del nombre \"Juan Rana\")\n",
      "\n",
      "5. Texto Original: \"con el hijo de un músico de la capilla real llamado Valdés, quien lo acusó de haberle requerido sexualmente.\"\n",
      "   Texto Aclarativo: \"con el hijo de un músico de la capilla real llamado Valdés, quien acusó a Agustín Merlo de haberle requerido sexualmente.\" (se especifica que Valdés acusó a Agustín Merlo)\n",
      "\n",
      "6. Texto Original: \"Sometido a tormento, aquél acusó a otros\"\n",
      "   Texto Aclarativo: \"Sometido a tormento, Agustín Merlo acusó a otros\" (se especifica el sujeto)\n",
      "\n",
      "En resumen, el texto aclarativo añade especificaciones y repite nombres para mayor claridad, pero no introduce información nueva o diferente en cuanto a hechos. Por lo tanto, los textos no son idénticos en redacción, pero el contenido y significado esencial es el mismo.\n",
      "\n",
      "Respuesta: Diferencias en especificación y repetición de sujetos para mayor claridad, sin cambio en contenido o significado.\n",
      "Diferencias encontradas:\n",
      "\n",
      "1. En el Texto Original:  \n",
      "   \"teniendo que traer sobre todo a Francisco de Velasco y a Cosme Pérez, apodado 'Rana', hacia el día 10 de julio, para efectuar cincuenta representaciones seguidas.\"  \n",
      "   En el Texto Aclarativo:  \n",
      "   \"teniendo que traer sobre todo a Francisco de Velasco y a Cosme Pérez, apodado 'Rana', Rosa acudiera hacia el día 10 de julio, para efectuar cincuenta representaciones seguidas.\"  \n",
      "   - El Texto Aclarativo añade \"Rosa acudiera\" antes de \"hacia el día 10 de julio\", lo que no está en el original y cambia ligeramente la estructura.\n",
      "\n",
      "2. En la referencia para más detalles:  \n",
      "   - Texto Original: \"véase la entrada del autor.\"  \n",
      "   - Texto Aclarativo: \"véase la entrada de Pedro de la Rosa.\"  \n",
      "   - El Texto Aclarativo especifica el autor, mientras que el original es más genérico.\n",
      "\n",
      "3. En la cita final sobre la imposibilidad de representar:  \n",
      "   - Texto Original: \"per estar purgat Juan Rana\"  \n",
      "   - Texto Aclarativo: \"porque Juan Rana estaba purgando\"  \n",
      "   - El Texto Aclarativo traduce y aclara la expresión original en latín/castellano antiguo a una forma moderna y explicativa.\n",
      "\n",
      "En resumen, el Texto Aclarativo contiene información adicional y reformulaciones que no están presentes en el Texto Original, por lo que no son iguales.\n",
      "Diferencias encontradas:\n",
      "\n",
      "1. En el Texto Original se usa la forma \"que el autor Pedro de la Rosa\", mientras que en el Texto Aclarativo se repite el nombre completo \"Pedro de la Rosa\" dos veces: \"con el autor Pedro de la Rosa que Pedro de la Rosa acudiría\" y \"con toda la compañía de Pedro de la Rosa\".\n",
      "\n",
      "2. En el Texto Original, los nombres Isabel de Góngora, Antonia de Santiago y Catalina Nicolás aparecen con apodos o aclaraciones entre corchetes: \"la Góngora [Isabel de Góngora]\", \"Antonia [de Santiago]\", \"la mujer del dicho Rosa [Catalina Nicolás]\". En el Texto Aclarativo, estos nombres aparecen sin apodos ni corchetes, simplemente como \"Isabel de Góngora\", \"Antonia de Santiago\" y \"Catalina Nicolás\".\n",
      "\n",
      "3. El Texto Original usa expresiones como \"la Góngora [Isabel de Góngora], que representaba damas\", mientras que el Texto Aclarativo dice \"Isabel de Góngora, que representaba damas\", eliminando el apodo \"la Góngora\".\n",
      "\n",
      "4. En el Texto Original, \"la mujer del dicho Rosa [Catalina Nicolás]\" aparece al final de la enumeración, mientras que en el Texto Aclarativo es \"Catalina Nicolás, la mujer del dicho Pedro de la Rosa\", cambiando el orden y añadiendo el nombre completo \"Pedro de la Rosa\".\n",
      "\n",
      "En resumen, el Texto Aclarativo presenta la misma información esencial pero con una redacción más explícita y sin apodos o corchetes, además de repetir el nombre completo \"Pedro de la Rosa\" en lugar de usar pronombres o formas abreviadas. No se añade información nueva, solo se aclara y repite nombres para mayor claridad.\n",
      "Diferencias encontradas:\n",
      "\n",
      "1. En el texto aclarativo se añade que \"Pedro de la Rosa organizó el evento\", información que no está presente en el texto original.\n",
      "\n",
      "2. En el texto aclarativo se modifica la frase \"afirma que estuvo en Sevilla y Málaga\" por \"afirma que Cotarelo estuvo en Sevilla y Málaga\", cambiando el sujeto de la afirmación.\n",
      "\n",
      "3. En el texto aclarativo se cambia \"Pero nada dice éste sobre una estancia en Málaga\" por \"Pero nada dice Cotarelo sobre una estancia en Málaga\", especificando el sujeto \"Cotarelo\".\n",
      "\n",
      "Por lo tanto, el texto aclarativo muestra información adicional y modificaciones que no están en el texto original.\n",
      "Diferencias encontradas:\n",
      "\n",
      "1. En el Texto Original se dice: \"de la que formaba parte.\"\n",
      "   En el Texto Aclarativo se dice: \"de la que Cosme Pérez formaba parte.\"\n",
      "\n",
      "2. En el Texto Original se dice: \"encargó a Cosme Pérez 'ordenar lo relativo a unos enterramientos...'\"\n",
      "   En el Texto Aclarativo se dice: \"encargó a Cosme Pérez que Cosme Pérez 'ordenara lo relativo a unos enterramientos...'\" \n",
      "\n",
      "Estas diferencias muestran una repetición innecesaria del nombre \"Cosme Pérez\" y un cambio en la forma verbal (\"ordenar\" vs. \"ordenara\"), pero el contenido y significado esencial se mantienen iguales. Sin embargo, dado que hay cambios en la redacción y forma verbal, no son idénticos.\n",
      "Diferencias encontradas:\n",
      "\n",
      "1. En el Texto Aclarativo se añade la información: \"Cosme Pérez fue quien organizó el evento. Nadie se lo esperaba.\" Esta información no está presente en el Texto Original.\n",
      "\n",
      "2. En el Texto Aclarativo se repite el nombre \"Cosme Pérez\" con más frecuencia, pero esto no altera el contenido, solo la redacción.\n",
      "\n",
      "3. En la orden fechada el 3 de marzo, el Texto Aclarativo especifica que Antonio de Prado y Pedro de la Rosa \"no salieran de Madrid hasta que Antonio de Prado y Pedro de la Rosa hubieran dado las muestras de sus compañías y se hubiera señalado las comedias que debían representar en las fiestas del Corpus\", mientras que el Texto Original dice \"hasta que hubieran dado las muestras de sus compañías y se hubiera señalado las que debían representar en las fiestas del Corpus\", sin repetir los nombres ni especificar \"comedias\".\n",
      "\n",
      "Conclusión: El Texto Aclarativo contiene información adicional (organización del evento y la sorpresa) y una redacción más detallada en la orden del 3 de marzo, por lo que no son iguales.\n",
      "Diferencias encontradas:\n",
      "\n",
      "1. En el Texto Original se dice:  \n",
      "   \"representando 'su parte de toda la graciosidad' en comedias, autos, bailes y entremeses, como lo había hecho 'en otros años antezedentes a este asiento'\".  \n",
      "   En el Texto Aclarativo se dice:  \n",
      "   \"representando la parte de toda la graciosidad de Cosme Pérez en comedias, autos, bailes y entremeses, como Cosme Pérez lo había hecho 'en otros años antezedentes a este asiento'\".  \n",
      "   --> El Texto Aclarativo especifica que la \"parte de toda la graciosidad\" es de Cosme Pérez, mientras que el original usa \"su parte\" sin aclarar a quién se refiere.\n",
      "\n",
      "2. En el Texto Original:  \n",
      "   \"por lo que cobraría 12 rs. de ración, 20 rs. por representación, 50 dcs. por el Corpus, las caballerías 'que siempre se le an dado' para el transporte y 1.000 rs. de préstamo.\"  \n",
      "   En el Texto Aclarativo:  \n",
      "   \"por lo que Cosme Pérez cobraría 12 rs. de ración, 20 rs. por representación, 50 dcs. por el Corpus, las caballerías 'que siempre se le an dado' para el transporte y 1.000 rs. de préstamo.\"  \n",
      "   --> El Texto Aclarativo añade explícitamente que es Cosme Pérez quien cobra.\n",
      "\n",
      "3. En el Texto Original:  \n",
      "   \"aunque al principio parece que no quería representar, según se infiere de la anotación hecha por Pedro de la Rosa al entregar la lista de su compañía: 'Está indeciso, porque no quiere representar'\".  \n",
      "   En el Texto Aclarativo:  \n",
      "   \"aunque al principio Cosme Pérez parece que no quería representar, según se infiere de la anotación hecha por Pedro de la Rosa al entregar la lista de su compañía: 'Está indeciso, porque Cosme Pérez no quiere representar'\".  \n",
      "   --> El Texto Aclarativo especifica que es Cosme Pérez quien no quería representar y lo menciona explícitamente en la cita.\n",
      "\n",
      "En resumen, el Texto Aclarativo añade especificaciones explícitas sobre que la \"parte de la graciosidad\" y los cobros corresponden a Cosme Pérez, y aclara que la indecisión y negativa a representar también se atribuye expresamente a Cosme Pérez. No hay información adicional sustancial, sino una mayor precisión en la atribución de sujetos.\n",
      "\n",
      "Por lo tanto, los textos no son idénticos, pero las diferencias son de detalle aclaratorio y no de contenido sustancial.\n",
      "Diferencias encontradas:\n",
      "\n",
      "1. En la obligación del 22 de febrero:\n",
      "   - Texto Original: \"de pagar a Pedro Ortiz de Urbina, tesorero de la Cofradía de Nuestra Señora de la Novena, 120 rs. que le había prestado.\"\n",
      "   - Texto Aclarativo: \"de pagar a Pedro Ortiz de Urbina, tesorero de la Cofradía de Nuestra Señora de la Novena, 120 rs. que Pedro Ortiz de Urbina le había prestado.\"\n",
      "   Diferencia en la expresión del préstamo, el aclarativo especifica que fue Pedro Ortiz quien prestó el dinero.\n",
      "\n",
      "2. Firma de la obligación:\n",
      "   - Texto Original: \"El autor no sabía firmar y en su lugar lo hizo Cosme Pérez.\"\n",
      "   - Texto Aclarativo: \"El autor no sabía firmar y en su lugar Cosme Pérez firmó.\"\n",
      "   Cambio menor en la construcción, sin alterar el significado.\n",
      "\n",
      "3. Nueva lista del 19 de marzo:\n",
      "   - Texto Original: \"Pedro de la Rosa dio una nueva lista de su compañía a los comisarios...\"\n",
      "   - Texto Aclarativo: \"Pedro de la Rosa dio una nueva lista de la compañía de Pedro de la Rosa a los comisarios...\"\n",
      "   Añade redundancia pero no cambia el contenido.\n",
      "\n",
      "4. Estado de indecisión de Cosme Pérez:\n",
      "   - Texto Original: \"aunque el autor apuntó que 'está indeciso porque no quiere representar'.\"\n",
      "   - Texto Aclarativo: \"aunque Cosme Pérez está indeciso porque no quiere representar.\"\n",
      "   El aclarativo omite que fue el autor quien apuntó la indecisión.\n",
      "\n",
      "5. Decreto del 21 de marzo:\n",
      "   - Texto Original: \"por el que se ordenaba volver a notificar a Cosme Pérez, gracioso, y a Antonio Marín, gracioso, que no salieran de la Corte sin licencia o mandato de los comisarios, bajo pena de 200 dcs. y destierro del Reino, y a Antonio Marín se le embargaría su ropa.\"\n",
      "   - Texto Aclarativo: \"ordenaba volver a notificar a Cosme Pérez, gracioso, y a Antonio Marín, gracioso, que no salieran de la Corte sin licencia o mandato de los comisarios, bajo pena de 200 dcs. y destierro del Reino, y que a Antonio Marín se le embargaría su ropa.\"\n",
      "   Cambio menor en la estructura, sin alterar el contenido.\n",
      "\n",
      "6. Notificación a Alonso de Paz y su mujer:\n",
      "   - Texto Original: \"Se notificó también a Alonso de Paz, autor de comedias, y a su mujer, Manuela Bernabela, que no llevaran con su compañía a Antonio Marín fuera de Madrid...\"\n",
      "   - Texto Aclarativo: \"Se notificó también a Alonso de Paz, autor de comedias, y a su mujer, Manuela Bernabela, que Alonso de Paz y Manuela Bernabela no llevaran con su compañía a Antonio Marín fuera de Madrid...\"\n",
      "   Añade repetición del sujeto, sin cambio de significado.\n",
      "\n",
      "7. Consentimiento de Pedro de la Rosa:\n",
      "   - Texto Original: \"Pedro de la Rosa, autor de comedias, dijo que consentía que Antonio Marín, gracioso en la compañía de Alonso de Paz, se fuera con ésta, pues él tenía concertado con Cosme Pérez, gracioso, que representara en su compañía durante las fiestas del Corpus y el resto del año...\"\n",
      "   - Texto Aclarativo: \"Pedro de la Rosa, autor de comedias, dijo que consentía que Antonio Marín, gracioso en la compañía de Alonso de Paz, se fuera con la compañía de Alonso de Paz, pues Pedro de la Rosa tenía concertado con Cosme Pérez, gracioso, que Cosme Pérez representara en la compañía de Pedro de la Rosa durante las fiestas del Corpus y el resto del año...\"\n",
      "   El aclarativo repite los sujetos para mayor claridad, sin añadir información nueva.\n",
      "\n",
      "8. Ayuda de costa del 15 de julio:\n",
      "   - Texto Original: \"recibió 50 dcs. de ayuda de costa por haber representado allí durante las fiestas del Corpus y no haber ido a otra parte.\"\n",
      "   - Texto Aclarativo: \"recibió 50 dcs. de ayuda de costa por haber representado en Madrid durante las fiestas del Corpus y no haber ido a otra parte.\"\n",
      "   El aclarativo especifica \"en Madrid\", detalle no mencionado en el original.\n",
      "\n",
      "9. Obligación del 14 de agosto:\n",
      "   - Texto Original: \"de estar en Madrid el 1 de noviembre para representar en los corrales arrendados por Francisco Garro de Alegría, quien permitiría al autor ir durante este tiempo a representar a Salamanca o a otros sitios para poder cobrar lo que éste le debía.\"\n",
      "   - Texto Aclarativo: \"de que Pedro de la Rosa y los miembros de su compañía estén en Madrid el 1 de noviembre para representar en los corrales arrendados por Francisco Garro de Alegría, quien permitiría al autor ir durante este tiempo a representar a Salamanca o a otros sitios para poder cobrar lo que Francisco Garro de Alegría le debía.\"\n",
      "   El aclarativo añade explícitamente que la obligación es para Pedro de la Rosa y los miembros de su compañía estar en Madrid, y cambia \"lo que éste le debía\" por \"lo que Francisco Garro de Alegría le debía\", aclarando quién debe a quién.\n",
      "\n",
      "Resumen:  \n",
      "El Texto Aclarativo mantiene el mismo contenido esencial que el Texto Original, pero introduce algunas aclaraciones, repeticiones para mayor claridad y un par de detalles adicionales (como la especificación de \"en Madrid\" y la aclaración sobre la deuda en la obligación del 14 de agosto). Por tanto, no son idénticos en contenido y significado, ya que el Texto Aclarativo muestra información adicional y reformulaciones que amplían o precisan el original.\n",
      "\n",
      "Respuesta:  \n",
      "El Texto Aclarativo muestra información adicional y reformulaciones que no están presentes en el Texto Original.\n",
      "Las diferencias entre los textos son las siguientes:\n",
      "\n",
      "1. En el Texto Original, se indica que **Cosme Pérez** continuaría recibiendo diariamente 32 rs., mientras que en el Texto Aclarativo inicialmente se dice que **Pedro de la Rosa** continuaría recibiendo esa cantidad, lo cual es un error o cambio de sujeto.\n",
      "\n",
      "2. En el Texto Aclarativo, se repite varias veces la información sobre el pago diario de 32 rs. y la libertad de Cosme Pérez para decidir si se queda o se va, mientras que en el Texto Original esta información aparece solo una vez y de forma ordenada.\n",
      "\n",
      "3. En el Texto Aclarativo, se añade una redacción diferente y más explícita en la parte que menciona que Pedro de la Rosa no podía descontar ni hacer pagar a Cosme Pérez por las raciones dadas en la Quaresma, incluyendo frases como \"descontar a Cosme Pérez\" y \"hacerle pagar cantidad alguna\", mientras que en el Texto Original es más general.\n",
      "\n",
      "4. En el Texto Aclarativo, la obligación de \"volver a la villa de Madrid\" se expresa con una redacción distinta: \"volver a la villa de Madrid a Cosme Pérez\" y \"los gastos del transporte de la ropa de Cosme Pérez\", mientras que en el Texto Original es más general (\"volverle a la villa de Madrid\", \"los gastos del transporte de su ropa\").\n",
      "\n",
      "En resumen, el Texto Aclarativo contiene información similar pero con errores en el sujeto en una parte, repeticiones, y reformulaciones que añaden detalles o cambian el énfasis, por lo que no son idénticos en contenido y significado.\n",
      "\n",
      "Por lo tanto, la respuesta es que los textos **difieren** en los puntos mencionados.\n",
      "Diferencias encontradas:\n",
      "\n",
      "1. En la primera frase:\n",
      "   - Texto Original: \"a favor de Cosme Pérez y Francisco Ortiz, miembros de su compañía, para que concertara fiestas en su nombre.\"\n",
      "   - Texto Aclarativo: \"a favor de Cosme Pérez y Francisco Ortiz, miembros de la compañía de Antonio García de Prado, para que Cosme Pérez y Francisco Ortiz concertaran fiestas en nombre de Antonio García de Prado.\"\n",
      "   --> El texto aclarativo especifica explícitamente que la compañía es de Antonio García de Prado y repite los nombres de Cosme Pérez y Francisco Ortiz como sujetos que deben concertar las fiestas, haciendo la frase más explícita.\n",
      "\n",
      "2. En la carta del 9 de junio:\n",
      "   - Texto Original: \"que me dicen que vuestro amigo Juan Rana hace famoso papel, y se me acuerda de lo que os hacía reír\".\n",
      "   - Texto Aclarativo: \"que me dicen que el amigo de doña Luisa Enríquez Manrique de Lara, Juan Rana, hace famoso papel, y se me acuerda de lo que Juan Rana os hacía reír\".\n",
      "   --> El texto aclarativo añade \"el amigo de doña Luisa Enríquez Manrique de Lara\" para aclarar la relación, y repite el nombre \"Juan Rana\" en la segunda parte de la frase.\n",
      "\n",
      "3. En la carta del 7 de julio:\n",
      "   - Texto Original: \"A su vuelta [de Diego de Martos] os daría nuebas de Juan Rana pues se rió harto con él, y justamente porque estubo del buen humor que vos sabéis, y Bernardilla [¿Bernarda Ramírez?] no lo descuida […] Aora hacen los autos en el corral y acude mucha gente a ellos con la buena gana que tienen de visitar aquella santa cassa\".\n",
      "   - Texto Aclarativo: \"A la vuelta de Diego de Martos os daría nuevas de Juan Rana pues Juan Rana se rió harto con Diego de Martos, y justamente porque Juan Rana estuvo del buen humor que vos sabéis, y Bernardilla [¿Bernarda Ramírez?] no lo descuida […] Ahora hacen los autos en el corral y acude mucha gente a ellos con la buena gana que tienen de visitar aquella santa casa\".\n",
      "   --> El texto aclarativo corrige errores ortográficos (\"nuebas\" → \"nuevas\", \"estubo\" → \"estuvo\", \"Aora\" → \"Ahora\", \"cassa\" → \"casa\"), y hace explícito que Juan Rana se rió con Diego de Martos, repitiendo los nombres para mayor claridad.\n",
      "\n",
      "En resumen, el Texto Aclarativo no añade información nueva sustancial, sino que reformula y aclara el contenido del Texto Original, corrigiendo errores y haciendo explícitas algunas relaciones implícitas.\n",
      "\n",
      "Por lo tanto, los textos no son idénticos, pero el Texto Aclarativo no muestra información diferente o adicional relevante, solo reformulaciones y correcciones.\n",
      "\n",
      "Respuesta:  \n",
      "Los textos difieren en la forma de expresar algunas ideas, con aclaraciones y correcciones ortográficas, pero no contienen información diferente o adicional significativa.\n",
      "Las diferencias entre los textos son las siguientes:\n",
      "\n",
      "1. En la cita de Felipe IV:\n",
      "   - Texto Original: \"Tenemos por güesped a Juan Rana, que siempre está de tan umor como le dejastes\".\n",
      "   - Texto Aclarativo: \"Tenemos por huésped a Juan Rana, que siempre está de tan humor como tú le dejaste\".\n",
      "   Diferencias en ortografía (\"güesped\" vs. \"huésped\", \"umor\" vs. \"humor\") y en la forma verbal (\"le dejastes\" vs. \"tú le dejaste\").\n",
      "\n",
      "2. En la mediación de Cosme Pérez:\n",
      "   - Texto Original: \"Cosme Pérez, por mediación de su personaje, le hizo llegar un memorial...\"\n",
      "   - Texto Aclarativo: \"Cosme Pérez, por mediación de su personaje Juan Rana, hizo llegar a Mariana de Austria un memorial...\"\n",
      "   El texto aclarativo especifica que el personaje es Juan Rana y que el memorial fue entregado directamente a Mariana de Austria.\n",
      "\n",
      "3. En la solicitud del memorial:\n",
      "   - Texto Original: \"solicitaba la concesión de algún oficio palaciego a su hija para, de esta manera, paliar su difícil situación económica y aumentar sus posibilidades de contraer matrimonio.\"\n",
      "   - Texto Aclarativo: \"solicitaba la concesión de algún oficio palaciego a la hija de Cosme Pérez para, de esta manera, paliar la difícil situación económica de la hija de Cosme Pérez y aumentar las posibilidades de contraer matrimonio de la hija de Cosme Pérez.\"\n",
      "   El texto aclarativo especifica explícitamente que la hija es la hija de Cosme Pérez y repite esta información varias veces, mientras que el original usa \"su hija\" y \"su difícil situación\" de forma más general.\n",
      "\n",
      "En resumen, el texto aclarativo contiene información adicional y reformulaciones que no están presentes en el texto original, por lo que no son iguales.\n"
     ]
    },
    {
     "ename": "KeyboardInterrupt",
     "evalue": "",
     "output_type": "error",
     "traceback": [
      "\u001b[31m---------------------------------------------------------------------------\u001b[39m",
      "\u001b[31mKeyboardInterrupt\u001b[39m                         Traceback (most recent call last)",
      "\u001b[36mCell\u001b[39m\u001b[36m \u001b[39m\u001b[32mIn[14]\u001b[39m\u001b[32m, line 8\u001b[39m\n\u001b[32m      5\u001b[39m original_text = \u001b[33m\"\u001b[39m\u001b[33m \u001b[39m\u001b[33m\"\u001b[39m.join(row[\u001b[33m\"\u001b[39m\u001b[33msentences\u001b[39m\u001b[33m\"\u001b[39m])\n\u001b[32m      6\u001b[39m clarified_text = \u001b[33m\"\u001b[39m\u001b[33m \u001b[39m\u001b[33m\"\u001b[39m.join(row[\u001b[33m\"\u001b[39m\u001b[33mclarified_sentences\u001b[39m\u001b[33m\"\u001b[39m])\n\u001b[32m----> \u001b[39m\u001b[32m8\u001b[39m response = \u001b[43mllm\u001b[49m\u001b[43m.\u001b[49m\u001b[43minvoke\u001b[49m\u001b[43m(\u001b[49m\n\u001b[32m      9\u001b[39m \u001b[43m    \u001b[49m\u001b[43mcomparative_prompt\u001b[49m\u001b[43m.\u001b[49m\u001b[43mformat\u001b[49m\u001b[43m(\u001b[49m\n\u001b[32m     10\u001b[39m \u001b[43m        \u001b[49m\u001b[43moriginal_text\u001b[49m\u001b[43m=\u001b[49m\u001b[43moriginal_text\u001b[49m\u001b[43m,\u001b[49m\n\u001b[32m     11\u001b[39m \u001b[43m        \u001b[49m\u001b[43mclarified_text\u001b[49m\u001b[43m=\u001b[49m\u001b[43mclarified_text\u001b[49m\n\u001b[32m     12\u001b[39m \u001b[43m    \u001b[49m\u001b[43m)\u001b[49m\n\u001b[32m     13\u001b[39m \u001b[43m\u001b[49m\u001b[43m)\u001b[49m.content\n\u001b[32m     14\u001b[39m \u001b[38;5;28mprint\u001b[39m(response)\n\u001b[32m     15\u001b[39m \u001b[38;5;66;03m# if response != \"Iguales\":\u001b[39;00m\n\u001b[32m     16\u001b[39m \u001b[38;5;66;03m#     print(f\"{row['year']}\")\u001b[39;00m\n\u001b[32m     17\u001b[39m \u001b[38;5;66;03m#     rc.print(f\"Original: {original_text}\")\u001b[39;00m\n\u001b[32m     18\u001b[39m \u001b[38;5;66;03m#     print()\u001b[39;00m\n\u001b[32m     19\u001b[39m \u001b[38;5;66;03m#     rc.print(f\"Clarified: {clarified_text}\")\u001b[39;00m\n\u001b[32m     20\u001b[39m \u001b[38;5;66;03m#     print(\"\\n\\n\")\u001b[39;00m\n",
      "\u001b[36mFile \u001b[39m\u001b[32mc:\\Users\\Victor\\Documents\\TFM\\Prompting\\.venv\\Lib\\site-packages\\langchain_core\\language_models\\chat_models.py:371\u001b[39m, in \u001b[36mBaseChatModel.invoke\u001b[39m\u001b[34m(self, input, config, stop, **kwargs)\u001b[39m\n\u001b[32m    359\u001b[39m \u001b[38;5;129m@override\u001b[39m\n\u001b[32m    360\u001b[39m \u001b[38;5;28;01mdef\u001b[39;00m\u001b[38;5;250m \u001b[39m\u001b[34minvoke\u001b[39m(\n\u001b[32m    361\u001b[39m     \u001b[38;5;28mself\u001b[39m,\n\u001b[32m   (...)\u001b[39m\u001b[32m    366\u001b[39m     **kwargs: Any,\n\u001b[32m    367\u001b[39m ) -> BaseMessage:\n\u001b[32m    368\u001b[39m     config = ensure_config(config)\n\u001b[32m    369\u001b[39m     \u001b[38;5;28;01mreturn\u001b[39;00m cast(\n\u001b[32m    370\u001b[39m         \u001b[33m\"\u001b[39m\u001b[33mChatGeneration\u001b[39m\u001b[33m\"\u001b[39m,\n\u001b[32m--> \u001b[39m\u001b[32m371\u001b[39m         \u001b[38;5;28;43mself\u001b[39;49m\u001b[43m.\u001b[49m\u001b[43mgenerate_prompt\u001b[49m\u001b[43m(\u001b[49m\n\u001b[32m    372\u001b[39m \u001b[43m            \u001b[49m\u001b[43m[\u001b[49m\u001b[38;5;28;43mself\u001b[39;49m\u001b[43m.\u001b[49m\u001b[43m_convert_input\u001b[49m\u001b[43m(\u001b[49m\u001b[38;5;28;43minput\u001b[39;49m\u001b[43m)\u001b[49m\u001b[43m]\u001b[49m\u001b[43m,\u001b[49m\n\u001b[32m    373\u001b[39m \u001b[43m            \u001b[49m\u001b[43mstop\u001b[49m\u001b[43m=\u001b[49m\u001b[43mstop\u001b[49m\u001b[43m,\u001b[49m\n\u001b[32m    374\u001b[39m \u001b[43m            \u001b[49m\u001b[43mcallbacks\u001b[49m\u001b[43m=\u001b[49m\u001b[43mconfig\u001b[49m\u001b[43m.\u001b[49m\u001b[43mget\u001b[49m\u001b[43m(\u001b[49m\u001b[33;43m\"\u001b[39;49m\u001b[33;43mcallbacks\u001b[39;49m\u001b[33;43m\"\u001b[39;49m\u001b[43m)\u001b[49m\u001b[43m,\u001b[49m\n\u001b[32m    375\u001b[39m \u001b[43m            \u001b[49m\u001b[43mtags\u001b[49m\u001b[43m=\u001b[49m\u001b[43mconfig\u001b[49m\u001b[43m.\u001b[49m\u001b[43mget\u001b[49m\u001b[43m(\u001b[49m\u001b[33;43m\"\u001b[39;49m\u001b[33;43mtags\u001b[39;49m\u001b[33;43m\"\u001b[39;49m\u001b[43m)\u001b[49m\u001b[43m,\u001b[49m\n\u001b[32m    376\u001b[39m \u001b[43m            \u001b[49m\u001b[43mmetadata\u001b[49m\u001b[43m=\u001b[49m\u001b[43mconfig\u001b[49m\u001b[43m.\u001b[49m\u001b[43mget\u001b[49m\u001b[43m(\u001b[49m\u001b[33;43m\"\u001b[39;49m\u001b[33;43mmetadata\u001b[39;49m\u001b[33;43m\"\u001b[39;49m\u001b[43m)\u001b[49m\u001b[43m,\u001b[49m\n\u001b[32m    377\u001b[39m \u001b[43m            \u001b[49m\u001b[43mrun_name\u001b[49m\u001b[43m=\u001b[49m\u001b[43mconfig\u001b[49m\u001b[43m.\u001b[49m\u001b[43mget\u001b[49m\u001b[43m(\u001b[49m\u001b[33;43m\"\u001b[39;49m\u001b[33;43mrun_name\u001b[39;49m\u001b[33;43m\"\u001b[39;49m\u001b[43m)\u001b[49m\u001b[43m,\u001b[49m\n\u001b[32m    378\u001b[39m \u001b[43m            \u001b[49m\u001b[43mrun_id\u001b[49m\u001b[43m=\u001b[49m\u001b[43mconfig\u001b[49m\u001b[43m.\u001b[49m\u001b[43mpop\u001b[49m\u001b[43m(\u001b[49m\u001b[33;43m\"\u001b[39;49m\u001b[33;43mrun_id\u001b[39;49m\u001b[33;43m\"\u001b[39;49m\u001b[43m,\u001b[49m\u001b[43m \u001b[49m\u001b[38;5;28;43;01mNone\u001b[39;49;00m\u001b[43m)\u001b[49m\u001b[43m,\u001b[49m\n\u001b[32m    379\u001b[39m \u001b[43m            \u001b[49m\u001b[43m*\u001b[49m\u001b[43m*\u001b[49m\u001b[43mkwargs\u001b[49m\u001b[43m,\u001b[49m\n\u001b[32m    380\u001b[39m \u001b[43m        \u001b[49m\u001b[43m)\u001b[49m.generations[\u001b[32m0\u001b[39m][\u001b[32m0\u001b[39m],\n\u001b[32m    381\u001b[39m     ).message\n",
      "\u001b[36mFile \u001b[39m\u001b[32mc:\\Users\\Victor\\Documents\\TFM\\Prompting\\.venv\\Lib\\site-packages\\langchain_core\\language_models\\chat_models.py:956\u001b[39m, in \u001b[36mBaseChatModel.generate_prompt\u001b[39m\u001b[34m(self, prompts, stop, callbacks, **kwargs)\u001b[39m\n\u001b[32m    947\u001b[39m \u001b[38;5;129m@override\u001b[39m\n\u001b[32m    948\u001b[39m \u001b[38;5;28;01mdef\u001b[39;00m\u001b[38;5;250m \u001b[39m\u001b[34mgenerate_prompt\u001b[39m(\n\u001b[32m    949\u001b[39m     \u001b[38;5;28mself\u001b[39m,\n\u001b[32m   (...)\u001b[39m\u001b[32m    953\u001b[39m     **kwargs: Any,\n\u001b[32m    954\u001b[39m ) -> LLMResult:\n\u001b[32m    955\u001b[39m     prompt_messages = [p.to_messages() \u001b[38;5;28;01mfor\u001b[39;00m p \u001b[38;5;129;01min\u001b[39;00m prompts]\n\u001b[32m--> \u001b[39m\u001b[32m956\u001b[39m     \u001b[38;5;28;01mreturn\u001b[39;00m \u001b[38;5;28;43mself\u001b[39;49m\u001b[43m.\u001b[49m\u001b[43mgenerate\u001b[49m\u001b[43m(\u001b[49m\u001b[43mprompt_messages\u001b[49m\u001b[43m,\u001b[49m\u001b[43m \u001b[49m\u001b[43mstop\u001b[49m\u001b[43m=\u001b[49m\u001b[43mstop\u001b[49m\u001b[43m,\u001b[49m\u001b[43m \u001b[49m\u001b[43mcallbacks\u001b[49m\u001b[43m=\u001b[49m\u001b[43mcallbacks\u001b[49m\u001b[43m,\u001b[49m\u001b[43m \u001b[49m\u001b[43m*\u001b[49m\u001b[43m*\u001b[49m\u001b[43mkwargs\u001b[49m\u001b[43m)\u001b[49m\n",
      "\u001b[36mFile \u001b[39m\u001b[32mc:\\Users\\Victor\\Documents\\TFM\\Prompting\\.venv\\Lib\\site-packages\\langchain_core\\language_models\\chat_models.py:775\u001b[39m, in \u001b[36mBaseChatModel.generate\u001b[39m\u001b[34m(self, messages, stop, callbacks, tags, metadata, run_name, run_id, **kwargs)\u001b[39m\n\u001b[32m    772\u001b[39m \u001b[38;5;28;01mfor\u001b[39;00m i, m \u001b[38;5;129;01min\u001b[39;00m \u001b[38;5;28menumerate\u001b[39m(input_messages):\n\u001b[32m    773\u001b[39m     \u001b[38;5;28;01mtry\u001b[39;00m:\n\u001b[32m    774\u001b[39m         results.append(\n\u001b[32m--> \u001b[39m\u001b[32m775\u001b[39m             \u001b[38;5;28;43mself\u001b[39;49m\u001b[43m.\u001b[49m\u001b[43m_generate_with_cache\u001b[49m\u001b[43m(\u001b[49m\n\u001b[32m    776\u001b[39m \u001b[43m                \u001b[49m\u001b[43mm\u001b[49m\u001b[43m,\u001b[49m\n\u001b[32m    777\u001b[39m \u001b[43m                \u001b[49m\u001b[43mstop\u001b[49m\u001b[43m=\u001b[49m\u001b[43mstop\u001b[49m\u001b[43m,\u001b[49m\n\u001b[32m    778\u001b[39m \u001b[43m                \u001b[49m\u001b[43mrun_manager\u001b[49m\u001b[43m=\u001b[49m\u001b[43mrun_managers\u001b[49m\u001b[43m[\u001b[49m\u001b[43mi\u001b[49m\u001b[43m]\u001b[49m\u001b[43m \u001b[49m\u001b[38;5;28;43;01mif\u001b[39;49;00m\u001b[43m \u001b[49m\u001b[43mrun_managers\u001b[49m\u001b[43m \u001b[49m\u001b[38;5;28;43;01melse\u001b[39;49;00m\u001b[43m \u001b[49m\u001b[38;5;28;43;01mNone\u001b[39;49;00m\u001b[43m,\u001b[49m\n\u001b[32m    779\u001b[39m \u001b[43m                \u001b[49m\u001b[43m*\u001b[49m\u001b[43m*\u001b[49m\u001b[43mkwargs\u001b[49m\u001b[43m,\u001b[49m\n\u001b[32m    780\u001b[39m \u001b[43m            \u001b[49m\u001b[43m)\u001b[49m\n\u001b[32m    781\u001b[39m         )\n\u001b[32m    782\u001b[39m     \u001b[38;5;28;01mexcept\u001b[39;00m \u001b[38;5;167;01mBaseException\u001b[39;00m \u001b[38;5;28;01mas\u001b[39;00m e:\n\u001b[32m    783\u001b[39m         \u001b[38;5;28;01mif\u001b[39;00m run_managers:\n",
      "\u001b[36mFile \u001b[39m\u001b[32mc:\\Users\\Victor\\Documents\\TFM\\Prompting\\.venv\\Lib\\site-packages\\langchain_core\\language_models\\chat_models.py:1021\u001b[39m, in \u001b[36mBaseChatModel._generate_with_cache\u001b[39m\u001b[34m(self, messages, stop, run_manager, **kwargs)\u001b[39m\n\u001b[32m   1019\u001b[39m     result = generate_from_stream(\u001b[38;5;28miter\u001b[39m(chunks))\n\u001b[32m   1020\u001b[39m \u001b[38;5;28;01melif\u001b[39;00m inspect.signature(\u001b[38;5;28mself\u001b[39m._generate).parameters.get(\u001b[33m\"\u001b[39m\u001b[33mrun_manager\u001b[39m\u001b[33m\"\u001b[39m):\n\u001b[32m-> \u001b[39m\u001b[32m1021\u001b[39m     result = \u001b[38;5;28;43mself\u001b[39;49m\u001b[43m.\u001b[49m\u001b[43m_generate\u001b[49m\u001b[43m(\u001b[49m\n\u001b[32m   1022\u001b[39m \u001b[43m        \u001b[49m\u001b[43mmessages\u001b[49m\u001b[43m,\u001b[49m\u001b[43m \u001b[49m\u001b[43mstop\u001b[49m\u001b[43m=\u001b[49m\u001b[43mstop\u001b[49m\u001b[43m,\u001b[49m\u001b[43m \u001b[49m\u001b[43mrun_manager\u001b[49m\u001b[43m=\u001b[49m\u001b[43mrun_manager\u001b[49m\u001b[43m,\u001b[49m\u001b[43m \u001b[49m\u001b[43m*\u001b[49m\u001b[43m*\u001b[49m\u001b[43mkwargs\u001b[49m\n\u001b[32m   1023\u001b[39m \u001b[43m    \u001b[49m\u001b[43m)\u001b[49m\n\u001b[32m   1024\u001b[39m \u001b[38;5;28;01melse\u001b[39;00m:\n\u001b[32m   1025\u001b[39m     result = \u001b[38;5;28mself\u001b[39m._generate(messages, stop=stop, **kwargs)\n",
      "\u001b[36mFile \u001b[39m\u001b[32mc:\\Users\\Victor\\Documents\\TFM\\Prompting\\.venv\\Lib\\site-packages\\langchain_openai\\chat_models\\base.py:961\u001b[39m, in \u001b[36mBaseChatOpenAI._generate\u001b[39m\u001b[34m(self, messages, stop, run_manager, **kwargs)\u001b[39m\n\u001b[32m    959\u001b[39m     generation_info = {\u001b[33m\"\u001b[39m\u001b[33mheaders\u001b[39m\u001b[33m\"\u001b[39m: \u001b[38;5;28mdict\u001b[39m(raw_response.headers)}\n\u001b[32m    960\u001b[39m \u001b[38;5;28;01melse\u001b[39;00m:\n\u001b[32m--> \u001b[39m\u001b[32m961\u001b[39m     response = \u001b[38;5;28;43mself\u001b[39;49m\u001b[43m.\u001b[49m\u001b[43mclient\u001b[49m\u001b[43m.\u001b[49m\u001b[43mcreate\u001b[49m\u001b[43m(\u001b[49m\u001b[43m*\u001b[49m\u001b[43m*\u001b[49m\u001b[43mpayload\u001b[49m\u001b[43m)\u001b[49m\n\u001b[32m    962\u001b[39m \u001b[38;5;28;01mreturn\u001b[39;00m \u001b[38;5;28mself\u001b[39m._create_chat_result(response, generation_info)\n",
      "\u001b[36mFile \u001b[39m\u001b[32mc:\\Users\\Victor\\Documents\\TFM\\Prompting\\.venv\\Lib\\site-packages\\openai\\_utils\\_utils.py:287\u001b[39m, in \u001b[36mrequired_args.<locals>.inner.<locals>.wrapper\u001b[39m\u001b[34m(*args, **kwargs)\u001b[39m\n\u001b[32m    285\u001b[39m             msg = \u001b[33mf\u001b[39m\u001b[33m\"\u001b[39m\u001b[33mMissing required argument: \u001b[39m\u001b[38;5;132;01m{\u001b[39;00mquote(missing[\u001b[32m0\u001b[39m])\u001b[38;5;132;01m}\u001b[39;00m\u001b[33m\"\u001b[39m\n\u001b[32m    286\u001b[39m     \u001b[38;5;28;01mraise\u001b[39;00m \u001b[38;5;167;01mTypeError\u001b[39;00m(msg)\n\u001b[32m--> \u001b[39m\u001b[32m287\u001b[39m \u001b[38;5;28;01mreturn\u001b[39;00m \u001b[43mfunc\u001b[49m\u001b[43m(\u001b[49m\u001b[43m*\u001b[49m\u001b[43margs\u001b[49m\u001b[43m,\u001b[49m\u001b[43m \u001b[49m\u001b[43m*\u001b[49m\u001b[43m*\u001b[49m\u001b[43mkwargs\u001b[49m\u001b[43m)\u001b[49m\n",
      "\u001b[36mFile \u001b[39m\u001b[32mc:\\Users\\Victor\\Documents\\TFM\\Prompting\\.venv\\Lib\\site-packages\\openai\\resources\\chat\\completions\\completions.py:925\u001b[39m, in \u001b[36mCompletions.create\u001b[39m\u001b[34m(self, messages, model, audio, frequency_penalty, function_call, functions, logit_bias, logprobs, max_completion_tokens, max_tokens, metadata, modalities, n, parallel_tool_calls, prediction, presence_penalty, reasoning_effort, response_format, seed, service_tier, stop, store, stream, stream_options, temperature, tool_choice, tools, top_logprobs, top_p, user, web_search_options, extra_headers, extra_query, extra_body, timeout)\u001b[39m\n\u001b[32m    882\u001b[39m \u001b[38;5;129m@required_args\u001b[39m([\u001b[33m\"\u001b[39m\u001b[33mmessages\u001b[39m\u001b[33m\"\u001b[39m, \u001b[33m\"\u001b[39m\u001b[33mmodel\u001b[39m\u001b[33m\"\u001b[39m], [\u001b[33m\"\u001b[39m\u001b[33mmessages\u001b[39m\u001b[33m\"\u001b[39m, \u001b[33m\"\u001b[39m\u001b[33mmodel\u001b[39m\u001b[33m\"\u001b[39m, \u001b[33m\"\u001b[39m\u001b[33mstream\u001b[39m\u001b[33m\"\u001b[39m])\n\u001b[32m    883\u001b[39m \u001b[38;5;28;01mdef\u001b[39;00m\u001b[38;5;250m \u001b[39m\u001b[34mcreate\u001b[39m(\n\u001b[32m    884\u001b[39m     \u001b[38;5;28mself\u001b[39m,\n\u001b[32m   (...)\u001b[39m\u001b[32m    922\u001b[39m     timeout: \u001b[38;5;28mfloat\u001b[39m | httpx.Timeout | \u001b[38;5;28;01mNone\u001b[39;00m | NotGiven = NOT_GIVEN,\n\u001b[32m    923\u001b[39m ) -> ChatCompletion | Stream[ChatCompletionChunk]:\n\u001b[32m    924\u001b[39m     validate_response_format(response_format)\n\u001b[32m--> \u001b[39m\u001b[32m925\u001b[39m     \u001b[38;5;28;01mreturn\u001b[39;00m \u001b[38;5;28;43mself\u001b[39;49m\u001b[43m.\u001b[49m\u001b[43m_post\u001b[49m\u001b[43m(\u001b[49m\n\u001b[32m    926\u001b[39m \u001b[43m        \u001b[49m\u001b[33;43m\"\u001b[39;49m\u001b[33;43m/chat/completions\u001b[39;49m\u001b[33;43m\"\u001b[39;49m\u001b[43m,\u001b[49m\n\u001b[32m    927\u001b[39m \u001b[43m        \u001b[49m\u001b[43mbody\u001b[49m\u001b[43m=\u001b[49m\u001b[43mmaybe_transform\u001b[49m\u001b[43m(\u001b[49m\n\u001b[32m    928\u001b[39m \u001b[43m            \u001b[49m\u001b[43m{\u001b[49m\n\u001b[32m    929\u001b[39m \u001b[43m                \u001b[49m\u001b[33;43m\"\u001b[39;49m\u001b[33;43mmessages\u001b[39;49m\u001b[33;43m\"\u001b[39;49m\u001b[43m:\u001b[49m\u001b[43m \u001b[49m\u001b[43mmessages\u001b[49m\u001b[43m,\u001b[49m\n\u001b[32m    930\u001b[39m \u001b[43m                \u001b[49m\u001b[33;43m\"\u001b[39;49m\u001b[33;43mmodel\u001b[39;49m\u001b[33;43m\"\u001b[39;49m\u001b[43m:\u001b[49m\u001b[43m \u001b[49m\u001b[43mmodel\u001b[49m\u001b[43m,\u001b[49m\n\u001b[32m    931\u001b[39m \u001b[43m                \u001b[49m\u001b[33;43m\"\u001b[39;49m\u001b[33;43maudio\u001b[39;49m\u001b[33;43m\"\u001b[39;49m\u001b[43m:\u001b[49m\u001b[43m \u001b[49m\u001b[43maudio\u001b[49m\u001b[43m,\u001b[49m\n\u001b[32m    932\u001b[39m \u001b[43m                \u001b[49m\u001b[33;43m\"\u001b[39;49m\u001b[33;43mfrequency_penalty\u001b[39;49m\u001b[33;43m\"\u001b[39;49m\u001b[43m:\u001b[49m\u001b[43m \u001b[49m\u001b[43mfrequency_penalty\u001b[49m\u001b[43m,\u001b[49m\n\u001b[32m    933\u001b[39m \u001b[43m                \u001b[49m\u001b[33;43m\"\u001b[39;49m\u001b[33;43mfunction_call\u001b[39;49m\u001b[33;43m\"\u001b[39;49m\u001b[43m:\u001b[49m\u001b[43m \u001b[49m\u001b[43mfunction_call\u001b[49m\u001b[43m,\u001b[49m\n\u001b[32m    934\u001b[39m \u001b[43m                \u001b[49m\u001b[33;43m\"\u001b[39;49m\u001b[33;43mfunctions\u001b[39;49m\u001b[33;43m\"\u001b[39;49m\u001b[43m:\u001b[49m\u001b[43m \u001b[49m\u001b[43mfunctions\u001b[49m\u001b[43m,\u001b[49m\n\u001b[32m    935\u001b[39m \u001b[43m                \u001b[49m\u001b[33;43m\"\u001b[39;49m\u001b[33;43mlogit_bias\u001b[39;49m\u001b[33;43m\"\u001b[39;49m\u001b[43m:\u001b[49m\u001b[43m \u001b[49m\u001b[43mlogit_bias\u001b[49m\u001b[43m,\u001b[49m\n\u001b[32m    936\u001b[39m \u001b[43m                \u001b[49m\u001b[33;43m\"\u001b[39;49m\u001b[33;43mlogprobs\u001b[39;49m\u001b[33;43m\"\u001b[39;49m\u001b[43m:\u001b[49m\u001b[43m \u001b[49m\u001b[43mlogprobs\u001b[49m\u001b[43m,\u001b[49m\n\u001b[32m    937\u001b[39m \u001b[43m                \u001b[49m\u001b[33;43m\"\u001b[39;49m\u001b[33;43mmax_completion_tokens\u001b[39;49m\u001b[33;43m\"\u001b[39;49m\u001b[43m:\u001b[49m\u001b[43m \u001b[49m\u001b[43mmax_completion_tokens\u001b[49m\u001b[43m,\u001b[49m\n\u001b[32m    938\u001b[39m \u001b[43m                \u001b[49m\u001b[33;43m\"\u001b[39;49m\u001b[33;43mmax_tokens\u001b[39;49m\u001b[33;43m\"\u001b[39;49m\u001b[43m:\u001b[49m\u001b[43m \u001b[49m\u001b[43mmax_tokens\u001b[49m\u001b[43m,\u001b[49m\n\u001b[32m    939\u001b[39m \u001b[43m                \u001b[49m\u001b[33;43m\"\u001b[39;49m\u001b[33;43mmetadata\u001b[39;49m\u001b[33;43m\"\u001b[39;49m\u001b[43m:\u001b[49m\u001b[43m \u001b[49m\u001b[43mmetadata\u001b[49m\u001b[43m,\u001b[49m\n\u001b[32m    940\u001b[39m \u001b[43m                \u001b[49m\u001b[33;43m\"\u001b[39;49m\u001b[33;43mmodalities\u001b[39;49m\u001b[33;43m\"\u001b[39;49m\u001b[43m:\u001b[49m\u001b[43m \u001b[49m\u001b[43mmodalities\u001b[49m\u001b[43m,\u001b[49m\n\u001b[32m    941\u001b[39m \u001b[43m                \u001b[49m\u001b[33;43m\"\u001b[39;49m\u001b[33;43mn\u001b[39;49m\u001b[33;43m\"\u001b[39;49m\u001b[43m:\u001b[49m\u001b[43m \u001b[49m\u001b[43mn\u001b[49m\u001b[43m,\u001b[49m\n\u001b[32m    942\u001b[39m \u001b[43m                \u001b[49m\u001b[33;43m\"\u001b[39;49m\u001b[33;43mparallel_tool_calls\u001b[39;49m\u001b[33;43m\"\u001b[39;49m\u001b[43m:\u001b[49m\u001b[43m \u001b[49m\u001b[43mparallel_tool_calls\u001b[49m\u001b[43m,\u001b[49m\n\u001b[32m    943\u001b[39m \u001b[43m                \u001b[49m\u001b[33;43m\"\u001b[39;49m\u001b[33;43mprediction\u001b[39;49m\u001b[33;43m\"\u001b[39;49m\u001b[43m:\u001b[49m\u001b[43m \u001b[49m\u001b[43mprediction\u001b[49m\u001b[43m,\u001b[49m\n\u001b[32m    944\u001b[39m \u001b[43m                \u001b[49m\u001b[33;43m\"\u001b[39;49m\u001b[33;43mpresence_penalty\u001b[39;49m\u001b[33;43m\"\u001b[39;49m\u001b[43m:\u001b[49m\u001b[43m \u001b[49m\u001b[43mpresence_penalty\u001b[49m\u001b[43m,\u001b[49m\n\u001b[32m    945\u001b[39m \u001b[43m                \u001b[49m\u001b[33;43m\"\u001b[39;49m\u001b[33;43mreasoning_effort\u001b[39;49m\u001b[33;43m\"\u001b[39;49m\u001b[43m:\u001b[49m\u001b[43m \u001b[49m\u001b[43mreasoning_effort\u001b[49m\u001b[43m,\u001b[49m\n\u001b[32m    946\u001b[39m \u001b[43m                \u001b[49m\u001b[33;43m\"\u001b[39;49m\u001b[33;43mresponse_format\u001b[39;49m\u001b[33;43m\"\u001b[39;49m\u001b[43m:\u001b[49m\u001b[43m \u001b[49m\u001b[43mresponse_format\u001b[49m\u001b[43m,\u001b[49m\n\u001b[32m    947\u001b[39m \u001b[43m                \u001b[49m\u001b[33;43m\"\u001b[39;49m\u001b[33;43mseed\u001b[39;49m\u001b[33;43m\"\u001b[39;49m\u001b[43m:\u001b[49m\u001b[43m \u001b[49m\u001b[43mseed\u001b[49m\u001b[43m,\u001b[49m\n\u001b[32m    948\u001b[39m \u001b[43m                \u001b[49m\u001b[33;43m\"\u001b[39;49m\u001b[33;43mservice_tier\u001b[39;49m\u001b[33;43m\"\u001b[39;49m\u001b[43m:\u001b[49m\u001b[43m \u001b[49m\u001b[43mservice_tier\u001b[49m\u001b[43m,\u001b[49m\n\u001b[32m    949\u001b[39m \u001b[43m                \u001b[49m\u001b[33;43m\"\u001b[39;49m\u001b[33;43mstop\u001b[39;49m\u001b[33;43m\"\u001b[39;49m\u001b[43m:\u001b[49m\u001b[43m \u001b[49m\u001b[43mstop\u001b[49m\u001b[43m,\u001b[49m\n\u001b[32m    950\u001b[39m \u001b[43m                \u001b[49m\u001b[33;43m\"\u001b[39;49m\u001b[33;43mstore\u001b[39;49m\u001b[33;43m\"\u001b[39;49m\u001b[43m:\u001b[49m\u001b[43m \u001b[49m\u001b[43mstore\u001b[49m\u001b[43m,\u001b[49m\n\u001b[32m    951\u001b[39m \u001b[43m                \u001b[49m\u001b[33;43m\"\u001b[39;49m\u001b[33;43mstream\u001b[39;49m\u001b[33;43m\"\u001b[39;49m\u001b[43m:\u001b[49m\u001b[43m \u001b[49m\u001b[43mstream\u001b[49m\u001b[43m,\u001b[49m\n\u001b[32m    952\u001b[39m \u001b[43m                \u001b[49m\u001b[33;43m\"\u001b[39;49m\u001b[33;43mstream_options\u001b[39;49m\u001b[33;43m\"\u001b[39;49m\u001b[43m:\u001b[49m\u001b[43m \u001b[49m\u001b[43mstream_options\u001b[49m\u001b[43m,\u001b[49m\n\u001b[32m    953\u001b[39m \u001b[43m                \u001b[49m\u001b[33;43m\"\u001b[39;49m\u001b[33;43mtemperature\u001b[39;49m\u001b[33;43m\"\u001b[39;49m\u001b[43m:\u001b[49m\u001b[43m \u001b[49m\u001b[43mtemperature\u001b[49m\u001b[43m,\u001b[49m\n\u001b[32m    954\u001b[39m \u001b[43m                \u001b[49m\u001b[33;43m\"\u001b[39;49m\u001b[33;43mtool_choice\u001b[39;49m\u001b[33;43m\"\u001b[39;49m\u001b[43m:\u001b[49m\u001b[43m \u001b[49m\u001b[43mtool_choice\u001b[49m\u001b[43m,\u001b[49m\n\u001b[32m    955\u001b[39m \u001b[43m                \u001b[49m\u001b[33;43m\"\u001b[39;49m\u001b[33;43mtools\u001b[39;49m\u001b[33;43m\"\u001b[39;49m\u001b[43m:\u001b[49m\u001b[43m \u001b[49m\u001b[43mtools\u001b[49m\u001b[43m,\u001b[49m\n\u001b[32m    956\u001b[39m \u001b[43m                \u001b[49m\u001b[33;43m\"\u001b[39;49m\u001b[33;43mtop_logprobs\u001b[39;49m\u001b[33;43m\"\u001b[39;49m\u001b[43m:\u001b[49m\u001b[43m \u001b[49m\u001b[43mtop_logprobs\u001b[49m\u001b[43m,\u001b[49m\n\u001b[32m    957\u001b[39m \u001b[43m                \u001b[49m\u001b[33;43m\"\u001b[39;49m\u001b[33;43mtop_p\u001b[39;49m\u001b[33;43m\"\u001b[39;49m\u001b[43m:\u001b[49m\u001b[43m \u001b[49m\u001b[43mtop_p\u001b[49m\u001b[43m,\u001b[49m\n\u001b[32m    958\u001b[39m \u001b[43m                \u001b[49m\u001b[33;43m\"\u001b[39;49m\u001b[33;43muser\u001b[39;49m\u001b[33;43m\"\u001b[39;49m\u001b[43m:\u001b[49m\u001b[43m \u001b[49m\u001b[43muser\u001b[49m\u001b[43m,\u001b[49m\n\u001b[32m    959\u001b[39m \u001b[43m                \u001b[49m\u001b[33;43m\"\u001b[39;49m\u001b[33;43mweb_search_options\u001b[39;49m\u001b[33;43m\"\u001b[39;49m\u001b[43m:\u001b[49m\u001b[43m \u001b[49m\u001b[43mweb_search_options\u001b[49m\u001b[43m,\u001b[49m\n\u001b[32m    960\u001b[39m \u001b[43m            \u001b[49m\u001b[43m}\u001b[49m\u001b[43m,\u001b[49m\n\u001b[32m    961\u001b[39m \u001b[43m            \u001b[49m\u001b[43mcompletion_create_params\u001b[49m\u001b[43m.\u001b[49m\u001b[43mCompletionCreateParamsStreaming\u001b[49m\n\u001b[32m    962\u001b[39m \u001b[43m            \u001b[49m\u001b[38;5;28;43;01mif\u001b[39;49;00m\u001b[43m \u001b[49m\u001b[43mstream\u001b[49m\n\u001b[32m    963\u001b[39m \u001b[43m            \u001b[49m\u001b[38;5;28;43;01melse\u001b[39;49;00m\u001b[43m \u001b[49m\u001b[43mcompletion_create_params\u001b[49m\u001b[43m.\u001b[49m\u001b[43mCompletionCreateParamsNonStreaming\u001b[49m\u001b[43m,\u001b[49m\n\u001b[32m    964\u001b[39m \u001b[43m        \u001b[49m\u001b[43m)\u001b[49m\u001b[43m,\u001b[49m\n\u001b[32m    965\u001b[39m \u001b[43m        \u001b[49m\u001b[43moptions\u001b[49m\u001b[43m=\u001b[49m\u001b[43mmake_request_options\u001b[49m\u001b[43m(\u001b[49m\n\u001b[32m    966\u001b[39m \u001b[43m            \u001b[49m\u001b[43mextra_headers\u001b[49m\u001b[43m=\u001b[49m\u001b[43mextra_headers\u001b[49m\u001b[43m,\u001b[49m\u001b[43m \u001b[49m\u001b[43mextra_query\u001b[49m\u001b[43m=\u001b[49m\u001b[43mextra_query\u001b[49m\u001b[43m,\u001b[49m\u001b[43m \u001b[49m\u001b[43mextra_body\u001b[49m\u001b[43m=\u001b[49m\u001b[43mextra_body\u001b[49m\u001b[43m,\u001b[49m\u001b[43m \u001b[49m\u001b[43mtimeout\u001b[49m\u001b[43m=\u001b[49m\u001b[43mtimeout\u001b[49m\n\u001b[32m    967\u001b[39m \u001b[43m        \u001b[49m\u001b[43m)\u001b[49m\u001b[43m,\u001b[49m\n\u001b[32m    968\u001b[39m \u001b[43m        \u001b[49m\u001b[43mcast_to\u001b[49m\u001b[43m=\u001b[49m\u001b[43mChatCompletion\u001b[49m\u001b[43m,\u001b[49m\n\u001b[32m    969\u001b[39m \u001b[43m        \u001b[49m\u001b[43mstream\u001b[49m\u001b[43m=\u001b[49m\u001b[43mstream\u001b[49m\u001b[43m \u001b[49m\u001b[38;5;129;43;01mor\u001b[39;49;00m\u001b[43m \u001b[49m\u001b[38;5;28;43;01mFalse\u001b[39;49;00m\u001b[43m,\u001b[49m\n\u001b[32m    970\u001b[39m \u001b[43m        \u001b[49m\u001b[43mstream_cls\u001b[49m\u001b[43m=\u001b[49m\u001b[43mStream\u001b[49m\u001b[43m[\u001b[49m\u001b[43mChatCompletionChunk\u001b[49m\u001b[43m]\u001b[49m\u001b[43m,\u001b[49m\n\u001b[32m    971\u001b[39m \u001b[43m    \u001b[49m\u001b[43m)\u001b[49m\n",
      "\u001b[36mFile \u001b[39m\u001b[32mc:\\Users\\Victor\\Documents\\TFM\\Prompting\\.venv\\Lib\\site-packages\\openai\\_base_client.py:1239\u001b[39m, in \u001b[36mSyncAPIClient.post\u001b[39m\u001b[34m(self, path, cast_to, body, options, files, stream, stream_cls)\u001b[39m\n\u001b[32m   1225\u001b[39m \u001b[38;5;28;01mdef\u001b[39;00m\u001b[38;5;250m \u001b[39m\u001b[34mpost\u001b[39m(\n\u001b[32m   1226\u001b[39m     \u001b[38;5;28mself\u001b[39m,\n\u001b[32m   1227\u001b[39m     path: \u001b[38;5;28mstr\u001b[39m,\n\u001b[32m   (...)\u001b[39m\u001b[32m   1234\u001b[39m     stream_cls: \u001b[38;5;28mtype\u001b[39m[_StreamT] | \u001b[38;5;28;01mNone\u001b[39;00m = \u001b[38;5;28;01mNone\u001b[39;00m,\n\u001b[32m   1235\u001b[39m ) -> ResponseT | _StreamT:\n\u001b[32m   1236\u001b[39m     opts = FinalRequestOptions.construct(\n\u001b[32m   1237\u001b[39m         method=\u001b[33m\"\u001b[39m\u001b[33mpost\u001b[39m\u001b[33m\"\u001b[39m, url=path, json_data=body, files=to_httpx_files(files), **options\n\u001b[32m   1238\u001b[39m     )\n\u001b[32m-> \u001b[39m\u001b[32m1239\u001b[39m     \u001b[38;5;28;01mreturn\u001b[39;00m cast(ResponseT, \u001b[38;5;28;43mself\u001b[39;49m\u001b[43m.\u001b[49m\u001b[43mrequest\u001b[49m\u001b[43m(\u001b[49m\u001b[43mcast_to\u001b[49m\u001b[43m,\u001b[49m\u001b[43m \u001b[49m\u001b[43mopts\u001b[49m\u001b[43m,\u001b[49m\u001b[43m \u001b[49m\u001b[43mstream\u001b[49m\u001b[43m=\u001b[49m\u001b[43mstream\u001b[49m\u001b[43m,\u001b[49m\u001b[43m \u001b[49m\u001b[43mstream_cls\u001b[49m\u001b[43m=\u001b[49m\u001b[43mstream_cls\u001b[49m\u001b[43m)\u001b[49m)\n",
      "\u001b[36mFile \u001b[39m\u001b[32mc:\\Users\\Victor\\Documents\\TFM\\Prompting\\.venv\\Lib\\site-packages\\openai\\_base_client.py:969\u001b[39m, in \u001b[36mSyncAPIClient.request\u001b[39m\u001b[34m(self, cast_to, options, stream, stream_cls)\u001b[39m\n\u001b[32m    967\u001b[39m response = \u001b[38;5;28;01mNone\u001b[39;00m\n\u001b[32m    968\u001b[39m \u001b[38;5;28;01mtry\u001b[39;00m:\n\u001b[32m--> \u001b[39m\u001b[32m969\u001b[39m     response = \u001b[38;5;28;43mself\u001b[39;49m\u001b[43m.\u001b[49m\u001b[43m_client\u001b[49m\u001b[43m.\u001b[49m\u001b[43msend\u001b[49m\u001b[43m(\u001b[49m\n\u001b[32m    970\u001b[39m \u001b[43m        \u001b[49m\u001b[43mrequest\u001b[49m\u001b[43m,\u001b[49m\n\u001b[32m    971\u001b[39m \u001b[43m        \u001b[49m\u001b[43mstream\u001b[49m\u001b[43m=\u001b[49m\u001b[43mstream\u001b[49m\u001b[43m \u001b[49m\u001b[38;5;129;43;01mor\u001b[39;49;00m\u001b[43m \u001b[49m\u001b[38;5;28;43mself\u001b[39;49m\u001b[43m.\u001b[49m\u001b[43m_should_stream_response_body\u001b[49m\u001b[43m(\u001b[49m\u001b[43mrequest\u001b[49m\u001b[43m=\u001b[49m\u001b[43mrequest\u001b[49m\u001b[43m)\u001b[49m\u001b[43m,\u001b[49m\n\u001b[32m    972\u001b[39m \u001b[43m        \u001b[49m\u001b[43m*\u001b[49m\u001b[43m*\u001b[49m\u001b[43mkwargs\u001b[49m\u001b[43m,\u001b[49m\n\u001b[32m    973\u001b[39m \u001b[43m    \u001b[49m\u001b[43m)\u001b[49m\n\u001b[32m    974\u001b[39m \u001b[38;5;28;01mexcept\u001b[39;00m httpx.TimeoutException \u001b[38;5;28;01mas\u001b[39;00m err:\n\u001b[32m    975\u001b[39m     log.debug(\u001b[33m\"\u001b[39m\u001b[33mEncountered httpx.TimeoutException\u001b[39m\u001b[33m\"\u001b[39m, exc_info=\u001b[38;5;28;01mTrue\u001b[39;00m)\n",
      "\u001b[36mFile \u001b[39m\u001b[32mc:\\Users\\Victor\\Documents\\TFM\\Prompting\\.venv\\Lib\\site-packages\\httpx\\_client.py:914\u001b[39m, in \u001b[36mClient.send\u001b[39m\u001b[34m(self, request, stream, auth, follow_redirects)\u001b[39m\n\u001b[32m    910\u001b[39m \u001b[38;5;28mself\u001b[39m._set_timeout(request)\n\u001b[32m    912\u001b[39m auth = \u001b[38;5;28mself\u001b[39m._build_request_auth(request, auth)\n\u001b[32m--> \u001b[39m\u001b[32m914\u001b[39m response = \u001b[38;5;28;43mself\u001b[39;49m\u001b[43m.\u001b[49m\u001b[43m_send_handling_auth\u001b[49m\u001b[43m(\u001b[49m\n\u001b[32m    915\u001b[39m \u001b[43m    \u001b[49m\u001b[43mrequest\u001b[49m\u001b[43m,\u001b[49m\n\u001b[32m    916\u001b[39m \u001b[43m    \u001b[49m\u001b[43mauth\u001b[49m\u001b[43m=\u001b[49m\u001b[43mauth\u001b[49m\u001b[43m,\u001b[49m\n\u001b[32m    917\u001b[39m \u001b[43m    \u001b[49m\u001b[43mfollow_redirects\u001b[49m\u001b[43m=\u001b[49m\u001b[43mfollow_redirects\u001b[49m\u001b[43m,\u001b[49m\n\u001b[32m    918\u001b[39m \u001b[43m    \u001b[49m\u001b[43mhistory\u001b[49m\u001b[43m=\u001b[49m\u001b[43m[\u001b[49m\u001b[43m]\u001b[49m\u001b[43m,\u001b[49m\n\u001b[32m    919\u001b[39m \u001b[43m\u001b[49m\u001b[43m)\u001b[49m\n\u001b[32m    920\u001b[39m \u001b[38;5;28;01mtry\u001b[39;00m:\n\u001b[32m    921\u001b[39m     \u001b[38;5;28;01mif\u001b[39;00m \u001b[38;5;129;01mnot\u001b[39;00m stream:\n",
      "\u001b[36mFile \u001b[39m\u001b[32mc:\\Users\\Victor\\Documents\\TFM\\Prompting\\.venv\\Lib\\site-packages\\httpx\\_client.py:942\u001b[39m, in \u001b[36mClient._send_handling_auth\u001b[39m\u001b[34m(self, request, auth, follow_redirects, history)\u001b[39m\n\u001b[32m    939\u001b[39m request = \u001b[38;5;28mnext\u001b[39m(auth_flow)\n\u001b[32m    941\u001b[39m \u001b[38;5;28;01mwhile\u001b[39;00m \u001b[38;5;28;01mTrue\u001b[39;00m:\n\u001b[32m--> \u001b[39m\u001b[32m942\u001b[39m     response = \u001b[38;5;28;43mself\u001b[39;49m\u001b[43m.\u001b[49m\u001b[43m_send_handling_redirects\u001b[49m\u001b[43m(\u001b[49m\n\u001b[32m    943\u001b[39m \u001b[43m        \u001b[49m\u001b[43mrequest\u001b[49m\u001b[43m,\u001b[49m\n\u001b[32m    944\u001b[39m \u001b[43m        \u001b[49m\u001b[43mfollow_redirects\u001b[49m\u001b[43m=\u001b[49m\u001b[43mfollow_redirects\u001b[49m\u001b[43m,\u001b[49m\n\u001b[32m    945\u001b[39m \u001b[43m        \u001b[49m\u001b[43mhistory\u001b[49m\u001b[43m=\u001b[49m\u001b[43mhistory\u001b[49m\u001b[43m,\u001b[49m\n\u001b[32m    946\u001b[39m \u001b[43m    \u001b[49m\u001b[43m)\u001b[49m\n\u001b[32m    947\u001b[39m     \u001b[38;5;28;01mtry\u001b[39;00m:\n\u001b[32m    948\u001b[39m         \u001b[38;5;28;01mtry\u001b[39;00m:\n",
      "\u001b[36mFile \u001b[39m\u001b[32mc:\\Users\\Victor\\Documents\\TFM\\Prompting\\.venv\\Lib\\site-packages\\httpx\\_client.py:979\u001b[39m, in \u001b[36mClient._send_handling_redirects\u001b[39m\u001b[34m(self, request, follow_redirects, history)\u001b[39m\n\u001b[32m    976\u001b[39m \u001b[38;5;28;01mfor\u001b[39;00m hook \u001b[38;5;129;01min\u001b[39;00m \u001b[38;5;28mself\u001b[39m._event_hooks[\u001b[33m\"\u001b[39m\u001b[33mrequest\u001b[39m\u001b[33m\"\u001b[39m]:\n\u001b[32m    977\u001b[39m     hook(request)\n\u001b[32m--> \u001b[39m\u001b[32m979\u001b[39m response = \u001b[38;5;28;43mself\u001b[39;49m\u001b[43m.\u001b[49m\u001b[43m_send_single_request\u001b[49m\u001b[43m(\u001b[49m\u001b[43mrequest\u001b[49m\u001b[43m)\u001b[49m\n\u001b[32m    980\u001b[39m \u001b[38;5;28;01mtry\u001b[39;00m:\n\u001b[32m    981\u001b[39m     \u001b[38;5;28;01mfor\u001b[39;00m hook \u001b[38;5;129;01min\u001b[39;00m \u001b[38;5;28mself\u001b[39m._event_hooks[\u001b[33m\"\u001b[39m\u001b[33mresponse\u001b[39m\u001b[33m\"\u001b[39m]:\n",
      "\u001b[36mFile \u001b[39m\u001b[32mc:\\Users\\Victor\\Documents\\TFM\\Prompting\\.venv\\Lib\\site-packages\\httpx\\_client.py:1014\u001b[39m, in \u001b[36mClient._send_single_request\u001b[39m\u001b[34m(self, request)\u001b[39m\n\u001b[32m   1009\u001b[39m     \u001b[38;5;28;01mraise\u001b[39;00m \u001b[38;5;167;01mRuntimeError\u001b[39;00m(\n\u001b[32m   1010\u001b[39m         \u001b[33m\"\u001b[39m\u001b[33mAttempted to send an async request with a sync Client instance.\u001b[39m\u001b[33m\"\u001b[39m\n\u001b[32m   1011\u001b[39m     )\n\u001b[32m   1013\u001b[39m \u001b[38;5;28;01mwith\u001b[39;00m request_context(request=request):\n\u001b[32m-> \u001b[39m\u001b[32m1014\u001b[39m     response = \u001b[43mtransport\u001b[49m\u001b[43m.\u001b[49m\u001b[43mhandle_request\u001b[49m\u001b[43m(\u001b[49m\u001b[43mrequest\u001b[49m\u001b[43m)\u001b[49m\n\u001b[32m   1016\u001b[39m \u001b[38;5;28;01massert\u001b[39;00m \u001b[38;5;28misinstance\u001b[39m(response.stream, SyncByteStream)\n\u001b[32m   1018\u001b[39m response.request = request\n",
      "\u001b[36mFile \u001b[39m\u001b[32mc:\\Users\\Victor\\Documents\\TFM\\Prompting\\.venv\\Lib\\site-packages\\httpx\\_transports\\default.py:250\u001b[39m, in \u001b[36mHTTPTransport.handle_request\u001b[39m\u001b[34m(self, request)\u001b[39m\n\u001b[32m    237\u001b[39m req = httpcore.Request(\n\u001b[32m    238\u001b[39m     method=request.method,\n\u001b[32m    239\u001b[39m     url=httpcore.URL(\n\u001b[32m   (...)\u001b[39m\u001b[32m    247\u001b[39m     extensions=request.extensions,\n\u001b[32m    248\u001b[39m )\n\u001b[32m    249\u001b[39m \u001b[38;5;28;01mwith\u001b[39;00m map_httpcore_exceptions():\n\u001b[32m--> \u001b[39m\u001b[32m250\u001b[39m     resp = \u001b[38;5;28;43mself\u001b[39;49m\u001b[43m.\u001b[49m\u001b[43m_pool\u001b[49m\u001b[43m.\u001b[49m\u001b[43mhandle_request\u001b[49m\u001b[43m(\u001b[49m\u001b[43mreq\u001b[49m\u001b[43m)\u001b[49m\n\u001b[32m    252\u001b[39m \u001b[38;5;28;01massert\u001b[39;00m \u001b[38;5;28misinstance\u001b[39m(resp.stream, typing.Iterable)\n\u001b[32m    254\u001b[39m \u001b[38;5;28;01mreturn\u001b[39;00m Response(\n\u001b[32m    255\u001b[39m     status_code=resp.status,\n\u001b[32m    256\u001b[39m     headers=resp.headers,\n\u001b[32m    257\u001b[39m     stream=ResponseStream(resp.stream),\n\u001b[32m    258\u001b[39m     extensions=resp.extensions,\n\u001b[32m    259\u001b[39m )\n",
      "\u001b[36mFile \u001b[39m\u001b[32mc:\\Users\\Victor\\Documents\\TFM\\Prompting\\.venv\\Lib\\site-packages\\httpcore\\_sync\\connection_pool.py:256\u001b[39m, in \u001b[36mConnectionPool.handle_request\u001b[39m\u001b[34m(self, request)\u001b[39m\n\u001b[32m    253\u001b[39m         closing = \u001b[38;5;28mself\u001b[39m._assign_requests_to_connections()\n\u001b[32m    255\u001b[39m     \u001b[38;5;28mself\u001b[39m._close_connections(closing)\n\u001b[32m--> \u001b[39m\u001b[32m256\u001b[39m     \u001b[38;5;28;01mraise\u001b[39;00m exc \u001b[38;5;28;01mfrom\u001b[39;00m\u001b[38;5;250m \u001b[39m\u001b[38;5;28;01mNone\u001b[39;00m\n\u001b[32m    258\u001b[39m \u001b[38;5;66;03m# Return the response. Note that in this case we still have to manage\u001b[39;00m\n\u001b[32m    259\u001b[39m \u001b[38;5;66;03m# the point at which the response is closed.\u001b[39;00m\n\u001b[32m    260\u001b[39m \u001b[38;5;28;01massert\u001b[39;00m \u001b[38;5;28misinstance\u001b[39m(response.stream, typing.Iterable)\n",
      "\u001b[36mFile \u001b[39m\u001b[32mc:\\Users\\Victor\\Documents\\TFM\\Prompting\\.venv\\Lib\\site-packages\\httpcore\\_sync\\connection_pool.py:236\u001b[39m, in \u001b[36mConnectionPool.handle_request\u001b[39m\u001b[34m(self, request)\u001b[39m\n\u001b[32m    232\u001b[39m connection = pool_request.wait_for_connection(timeout=timeout)\n\u001b[32m    234\u001b[39m \u001b[38;5;28;01mtry\u001b[39;00m:\n\u001b[32m    235\u001b[39m     \u001b[38;5;66;03m# Send the request on the assigned connection.\u001b[39;00m\n\u001b[32m--> \u001b[39m\u001b[32m236\u001b[39m     response = \u001b[43mconnection\u001b[49m\u001b[43m.\u001b[49m\u001b[43mhandle_request\u001b[49m\u001b[43m(\u001b[49m\n\u001b[32m    237\u001b[39m \u001b[43m        \u001b[49m\u001b[43mpool_request\u001b[49m\u001b[43m.\u001b[49m\u001b[43mrequest\u001b[49m\n\u001b[32m    238\u001b[39m \u001b[43m    \u001b[49m\u001b[43m)\u001b[49m\n\u001b[32m    239\u001b[39m \u001b[38;5;28;01mexcept\u001b[39;00m ConnectionNotAvailable:\n\u001b[32m    240\u001b[39m     \u001b[38;5;66;03m# In some cases a connection may initially be available to\u001b[39;00m\n\u001b[32m    241\u001b[39m     \u001b[38;5;66;03m# handle a request, but then become unavailable.\u001b[39;00m\n\u001b[32m    242\u001b[39m     \u001b[38;5;66;03m#\u001b[39;00m\n\u001b[32m    243\u001b[39m     \u001b[38;5;66;03m# In this case we clear the connection and try again.\u001b[39;00m\n\u001b[32m    244\u001b[39m     pool_request.clear_connection()\n",
      "\u001b[36mFile \u001b[39m\u001b[32mc:\\Users\\Victor\\Documents\\TFM\\Prompting\\.venv\\Lib\\site-packages\\httpcore\\_sync\\connection.py:103\u001b[39m, in \u001b[36mHTTPConnection.handle_request\u001b[39m\u001b[34m(self, request)\u001b[39m\n\u001b[32m    100\u001b[39m     \u001b[38;5;28mself\u001b[39m._connect_failed = \u001b[38;5;28;01mTrue\u001b[39;00m\n\u001b[32m    101\u001b[39m     \u001b[38;5;28;01mraise\u001b[39;00m exc\n\u001b[32m--> \u001b[39m\u001b[32m103\u001b[39m \u001b[38;5;28;01mreturn\u001b[39;00m \u001b[38;5;28;43mself\u001b[39;49m\u001b[43m.\u001b[49m\u001b[43m_connection\u001b[49m\u001b[43m.\u001b[49m\u001b[43mhandle_request\u001b[49m\u001b[43m(\u001b[49m\u001b[43mrequest\u001b[49m\u001b[43m)\u001b[49m\n",
      "\u001b[36mFile \u001b[39m\u001b[32mc:\\Users\\Victor\\Documents\\TFM\\Prompting\\.venv\\Lib\\site-packages\\httpcore\\_sync\\http11.py:136\u001b[39m, in \u001b[36mHTTP11Connection.handle_request\u001b[39m\u001b[34m(self, request)\u001b[39m\n\u001b[32m    134\u001b[39m     \u001b[38;5;28;01mwith\u001b[39;00m Trace(\u001b[33m\"\u001b[39m\u001b[33mresponse_closed\u001b[39m\u001b[33m\"\u001b[39m, logger, request) \u001b[38;5;28;01mas\u001b[39;00m trace:\n\u001b[32m    135\u001b[39m         \u001b[38;5;28mself\u001b[39m._response_closed()\n\u001b[32m--> \u001b[39m\u001b[32m136\u001b[39m \u001b[38;5;28;01mraise\u001b[39;00m exc\n",
      "\u001b[36mFile \u001b[39m\u001b[32mc:\\Users\\Victor\\Documents\\TFM\\Prompting\\.venv\\Lib\\site-packages\\httpcore\\_sync\\http11.py:106\u001b[39m, in \u001b[36mHTTP11Connection.handle_request\u001b[39m\u001b[34m(self, request)\u001b[39m\n\u001b[32m     95\u001b[39m     \u001b[38;5;28;01mpass\u001b[39;00m\n\u001b[32m     97\u001b[39m \u001b[38;5;28;01mwith\u001b[39;00m Trace(\n\u001b[32m     98\u001b[39m     \u001b[33m\"\u001b[39m\u001b[33mreceive_response_headers\u001b[39m\u001b[33m\"\u001b[39m, logger, request, kwargs\n\u001b[32m     99\u001b[39m ) \u001b[38;5;28;01mas\u001b[39;00m trace:\n\u001b[32m    100\u001b[39m     (\n\u001b[32m    101\u001b[39m         http_version,\n\u001b[32m    102\u001b[39m         status,\n\u001b[32m    103\u001b[39m         reason_phrase,\n\u001b[32m    104\u001b[39m         headers,\n\u001b[32m    105\u001b[39m         trailing_data,\n\u001b[32m--> \u001b[39m\u001b[32m106\u001b[39m     ) = \u001b[38;5;28;43mself\u001b[39;49m\u001b[43m.\u001b[49m\u001b[43m_receive_response_headers\u001b[49m\u001b[43m(\u001b[49m\u001b[43m*\u001b[49m\u001b[43m*\u001b[49m\u001b[43mkwargs\u001b[49m\u001b[43m)\u001b[49m\n\u001b[32m    107\u001b[39m     trace.return_value = (\n\u001b[32m    108\u001b[39m         http_version,\n\u001b[32m    109\u001b[39m         status,\n\u001b[32m    110\u001b[39m         reason_phrase,\n\u001b[32m    111\u001b[39m         headers,\n\u001b[32m    112\u001b[39m     )\n\u001b[32m    114\u001b[39m network_stream = \u001b[38;5;28mself\u001b[39m._network_stream\n",
      "\u001b[36mFile \u001b[39m\u001b[32mc:\\Users\\Victor\\Documents\\TFM\\Prompting\\.venv\\Lib\\site-packages\\httpcore\\_sync\\http11.py:177\u001b[39m, in \u001b[36mHTTP11Connection._receive_response_headers\u001b[39m\u001b[34m(self, request)\u001b[39m\n\u001b[32m    174\u001b[39m timeout = timeouts.get(\u001b[33m\"\u001b[39m\u001b[33mread\u001b[39m\u001b[33m\"\u001b[39m, \u001b[38;5;28;01mNone\u001b[39;00m)\n\u001b[32m    176\u001b[39m \u001b[38;5;28;01mwhile\u001b[39;00m \u001b[38;5;28;01mTrue\u001b[39;00m:\n\u001b[32m--> \u001b[39m\u001b[32m177\u001b[39m     event = \u001b[38;5;28;43mself\u001b[39;49m\u001b[43m.\u001b[49m\u001b[43m_receive_event\u001b[49m\u001b[43m(\u001b[49m\u001b[43mtimeout\u001b[49m\u001b[43m=\u001b[49m\u001b[43mtimeout\u001b[49m\u001b[43m)\u001b[49m\n\u001b[32m    178\u001b[39m     \u001b[38;5;28;01mif\u001b[39;00m \u001b[38;5;28misinstance\u001b[39m(event, h11.Response):\n\u001b[32m    179\u001b[39m         \u001b[38;5;28;01mbreak\u001b[39;00m\n",
      "\u001b[36mFile \u001b[39m\u001b[32mc:\\Users\\Victor\\Documents\\TFM\\Prompting\\.venv\\Lib\\site-packages\\httpcore\\_sync\\http11.py:217\u001b[39m, in \u001b[36mHTTP11Connection._receive_event\u001b[39m\u001b[34m(self, timeout)\u001b[39m\n\u001b[32m    214\u001b[39m     event = \u001b[38;5;28mself\u001b[39m._h11_state.next_event()\n\u001b[32m    216\u001b[39m \u001b[38;5;28;01mif\u001b[39;00m event \u001b[38;5;129;01mis\u001b[39;00m h11.NEED_DATA:\n\u001b[32m--> \u001b[39m\u001b[32m217\u001b[39m     data = \u001b[38;5;28;43mself\u001b[39;49m\u001b[43m.\u001b[49m\u001b[43m_network_stream\u001b[49m\u001b[43m.\u001b[49m\u001b[43mread\u001b[49m\u001b[43m(\u001b[49m\n\u001b[32m    218\u001b[39m \u001b[43m        \u001b[49m\u001b[38;5;28;43mself\u001b[39;49m\u001b[43m.\u001b[49m\u001b[43mREAD_NUM_BYTES\u001b[49m\u001b[43m,\u001b[49m\u001b[43m \u001b[49m\u001b[43mtimeout\u001b[49m\u001b[43m=\u001b[49m\u001b[43mtimeout\u001b[49m\n\u001b[32m    219\u001b[39m \u001b[43m    \u001b[49m\u001b[43m)\u001b[49m\n\u001b[32m    221\u001b[39m     \u001b[38;5;66;03m# If we feed this case through h11 we'll raise an exception like:\u001b[39;00m\n\u001b[32m    222\u001b[39m     \u001b[38;5;66;03m#\u001b[39;00m\n\u001b[32m    223\u001b[39m     \u001b[38;5;66;03m#     httpcore.RemoteProtocolError: can't handle event type\u001b[39;00m\n\u001b[32m   (...)\u001b[39m\u001b[32m    227\u001b[39m     \u001b[38;5;66;03m# perspective. Instead we handle this case distinctly and treat\u001b[39;00m\n\u001b[32m    228\u001b[39m     \u001b[38;5;66;03m# it as a ConnectError.\u001b[39;00m\n\u001b[32m    229\u001b[39m     \u001b[38;5;28;01mif\u001b[39;00m data == \u001b[33mb\u001b[39m\u001b[33m\"\u001b[39m\u001b[33m\"\u001b[39m \u001b[38;5;129;01mand\u001b[39;00m \u001b[38;5;28mself\u001b[39m._h11_state.their_state == h11.SEND_RESPONSE:\n",
      "\u001b[36mFile \u001b[39m\u001b[32mc:\\Users\\Victor\\Documents\\TFM\\Prompting\\.venv\\Lib\\site-packages\\httpcore\\_backends\\sync.py:128\u001b[39m, in \u001b[36mSyncStream.read\u001b[39m\u001b[34m(self, max_bytes, timeout)\u001b[39m\n\u001b[32m    126\u001b[39m \u001b[38;5;28;01mwith\u001b[39;00m map_exceptions(exc_map):\n\u001b[32m    127\u001b[39m     \u001b[38;5;28mself\u001b[39m._sock.settimeout(timeout)\n\u001b[32m--> \u001b[39m\u001b[32m128\u001b[39m     \u001b[38;5;28;01mreturn\u001b[39;00m \u001b[38;5;28;43mself\u001b[39;49m\u001b[43m.\u001b[49m\u001b[43m_sock\u001b[49m\u001b[43m.\u001b[49m\u001b[43mrecv\u001b[49m\u001b[43m(\u001b[49m\u001b[43mmax_bytes\u001b[49m\u001b[43m)\u001b[49m\n",
      "\u001b[36mFile \u001b[39m\u001b[32m~\\AppData\\Local\\Programs\\Python\\Python312\\Lib\\ssl.py:1234\u001b[39m, in \u001b[36mSSLSocket.recv\u001b[39m\u001b[34m(self, buflen, flags)\u001b[39m\n\u001b[32m   1230\u001b[39m     \u001b[38;5;28;01mif\u001b[39;00m flags != \u001b[32m0\u001b[39m:\n\u001b[32m   1231\u001b[39m         \u001b[38;5;28;01mraise\u001b[39;00m \u001b[38;5;167;01mValueError\u001b[39;00m(\n\u001b[32m   1232\u001b[39m             \u001b[33m\"\u001b[39m\u001b[33mnon-zero flags not allowed in calls to recv() on \u001b[39m\u001b[38;5;132;01m%s\u001b[39;00m\u001b[33m\"\u001b[39m %\n\u001b[32m   1233\u001b[39m             \u001b[38;5;28mself\u001b[39m.\u001b[34m__class__\u001b[39m)\n\u001b[32m-> \u001b[39m\u001b[32m1234\u001b[39m     \u001b[38;5;28;01mreturn\u001b[39;00m \u001b[38;5;28;43mself\u001b[39;49m\u001b[43m.\u001b[49m\u001b[43mread\u001b[49m\u001b[43m(\u001b[49m\u001b[43mbuflen\u001b[49m\u001b[43m)\u001b[49m\n\u001b[32m   1235\u001b[39m \u001b[38;5;28;01melse\u001b[39;00m:\n\u001b[32m   1236\u001b[39m     \u001b[38;5;28;01mreturn\u001b[39;00m \u001b[38;5;28msuper\u001b[39m().recv(buflen, flags)\n",
      "\u001b[36mFile \u001b[39m\u001b[32m~\\AppData\\Local\\Programs\\Python\\Python312\\Lib\\ssl.py:1107\u001b[39m, in \u001b[36mSSLSocket.read\u001b[39m\u001b[34m(self, len, buffer)\u001b[39m\n\u001b[32m   1105\u001b[39m         \u001b[38;5;28;01mreturn\u001b[39;00m \u001b[38;5;28mself\u001b[39m._sslobj.read(\u001b[38;5;28mlen\u001b[39m, buffer)\n\u001b[32m   1106\u001b[39m     \u001b[38;5;28;01melse\u001b[39;00m:\n\u001b[32m-> \u001b[39m\u001b[32m1107\u001b[39m         \u001b[38;5;28;01mreturn\u001b[39;00m \u001b[38;5;28;43mself\u001b[39;49m\u001b[43m.\u001b[49m\u001b[43m_sslobj\u001b[49m\u001b[43m.\u001b[49m\u001b[43mread\u001b[49m\u001b[43m(\u001b[49m\u001b[38;5;28;43mlen\u001b[39;49m\u001b[43m)\u001b[49m\n\u001b[32m   1108\u001b[39m \u001b[38;5;28;01mexcept\u001b[39;00m SSLError \u001b[38;5;28;01mas\u001b[39;00m x:\n\u001b[32m   1109\u001b[39m     \u001b[38;5;28;01mif\u001b[39;00m x.args[\u001b[32m0\u001b[39m] == SSL_ERROR_EOF \u001b[38;5;129;01mand\u001b[39;00m \u001b[38;5;28mself\u001b[39m.suppress_ragged_eofs:\n",
      "\u001b[31mKeyboardInterrupt\u001b[39m: "
     ]
    }
   ],
   "source": [
    "from tqdm.auto import tqdm\n",
    "import rich as rc\n",
    "\n",
    "for _, row in tqdm(data.iterrows(), total=len(data)):\n",
    "    original_text = \" \".join(row[\"sentences\"])\n",
    "    clarified_text = \" \".join(row[\"clarified_sentences\"])\n",
    "    \n",
    "    response = llm.invoke(\n",
    "        comparative_prompt.format(\n",
    "            original_text=original_text,\n",
    "            clarified_text=clarified_text\n",
    "        )\n",
    "    ).content\n",
    "    print(response)\n",
    "    # if response != \"Iguales\":\n",
    "    #     print(f\"{row['year']}\")\n",
    "    #     rc.print(f\"Original: {original_text}\")\n",
    "    #     print()\n",
    "    #     rc.print(f\"Clarified: {clarified_text}\")\n",
    "    #     print(\"\\n\\n\")\n",
    "        "
   ]
  }
 ],
 "metadata": {
  "kernelspec": {
   "display_name": ".venv",
   "language": "python",
   "name": "python3"
  },
  "language_info": {
   "codemirror_mode": {
    "name": "ipython",
    "version": 3
   },
   "file_extension": ".py",
   "mimetype": "text/x-python",
   "name": "python",
   "nbconvert_exporter": "python",
   "pygments_lexer": "ipython3",
   "version": "3.12.0"
  }
 },
 "nbformat": 4,
 "nbformat_minor": 5
}
