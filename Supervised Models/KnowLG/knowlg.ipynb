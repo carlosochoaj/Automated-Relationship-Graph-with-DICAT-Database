{
 "cells": [
  {
   "cell_type": "code",
   "execution_count": null,
   "id": "a553f906",
   "metadata": {},
   "outputs": [],
   "source": [
    "https://arxiv.org/pdf/2210.13952"
   ]
  },
  {
   "cell_type": "code",
   "execution_count": null,
   "id": "ec7342a7",
   "metadata": {},
   "outputs": [],
   "source": [
    "import re\n",
    "import torch\n",
    "from transformers import pipeline\n",
    "\n",
    "def extract_triplets_knowgl(text):\n",
    "    \"\"\"Extract triplets from KnowGL model output\"\"\"\n",
    "    triplets = []\n",
    "\n",
    "    # KnowGL separates multiple triplets with $\n",
    "    for triplet_str in text.split('$'):\n",
    "        triplet_str = triplet_str.strip()\n",
    "        if not triplet_str:\n",
    "            continue\n",
    "\n",
    "        # Updated regex to match the actual KnowGL format without spaces around pipes\n",
    "        match = re.match(r'\\[\\(([^)]+)\\)\\|([^|]+)\\|\\(([^)]+)\\)\\]', triplet_str)\n",
    "        if not match:\n",
    "            continue\n",
    "\n",
    "        subject_part, relation, object_part = match.groups()\n",
    "\n",
    "        # Extract subject components (mention#label#type)\n",
    "        subject_components = subject_part.split('#')\n",
    "        if len(subject_components) >= 3:\n",
    "            subject = subject_components[0].strip()\n",
    "            subject_type = subject_components[2].strip()\n",
    "        else:\n",
    "            subject = subject_components[0].strip()\n",
    "            subject_type = \"Unknown\"\n",
    "\n",
    "        # Extract object components (mention#label#type)\n",
    "        object_components = object_part.split('#')\n",
    "        if len(object_components) >= 3:\n",
    "            object_ = object_components[0].strip()\n",
    "            object_type = object_components[2].strip()\n",
    "        else:\n",
    "            object_ = object_components[0].strip()\n",
    "            object_type = \"Unknown\"\n",
    "\n",
    "        relation = relation.strip()\n",
    "\n",
    "        if subject and relation and object_:\n",
    "            triplets.append({\n",
    "                'head': subject,\n",
    "                'head_type': subject_type,\n",
    "                'relation': relation,\n",
    "                'tail': object_,\n",
    "                'tail_type': object_type\n",
    "            })\n",
    "\n",
    "    return triplets\n",
    "\n",
    "# Device selection\n",
    "device_to_use = 0 if torch.cuda.is_available() else -1\n",
    "print(f\"Using device: {'cuda:' + str(device_to_use) if device_to_use != -1 else 'cpu'}\")\n",
    "\n",
    "# Initialize KnowGL pipeline\n",
    "print(\"Loading KnowGL model...\")\n",
    "knowgl_extractor = pipeline(\n",
    "    'text2text-generation',\n",
    "    model='ibm-research/knowgl-large',\n",
    "    tokenizer='ibm-research/knowgl-large',\n",
    "    device=device_to_use\n",
    ")\n",
    "print(\"KnowGL model loaded successfully!\")\n"
   ]
  }
 ],
 "metadata": {
  "kernelspec": {
   "display_name": "base",
   "language": "python",
   "name": "python3"
  },
  "language_info": {
   "codemirror_mode": {
    "name": "ipython",
    "version": 3
   },
   "file_extension": ".py",
   "mimetype": "text/x-python",
   "name": "python",
   "nbconvert_exporter": "python",
   "pygments_lexer": "ipython3",
   "version": "3.12.7"
  }
 },
 "nbformat": 4,
 "nbformat_minor": 5
}
