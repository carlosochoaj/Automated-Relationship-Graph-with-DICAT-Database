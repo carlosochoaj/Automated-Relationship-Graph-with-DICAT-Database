{
 "cells": [
  {
   "metadata": {
    "ExecuteTime": {
     "end_time": "2025-05-22T15:55:20.802693Z",
     "start_time": "2025-05-22T15:55:20.799684Z"
    }
   },
   "cell_type": "code",
   "source": [
    "import re\n",
    "import spacy\n",
    "import pandas as pd"
   ],
   "id": "85e42ca2bbb37a08",
   "outputs": [],
   "execution_count": 4
  },
  {
   "metadata": {
    "ExecuteTime": {
     "end_time": "2025-05-22T17:47:56.682871Z",
     "start_time": "2025-05-22T17:47:56.671395Z"
    }
   },
   "cell_type": "code",
   "source": [
    "df = pd.read_csv(\"./DicatCSVJuanRana_cleaned.csv\")\n",
    "\n",
    "textos = df[\"JUAN_RANA_cleaned\"].tolist()"
   ],
   "id": "88fbc45098c3a776",
   "outputs": [],
   "execution_count": 24
  },
  {
   "metadata": {
    "ExecuteTime": {
     "end_time": "2025-05-22T17:40:05.396017Z",
     "start_time": "2025-05-22T17:40:05.392963Z"
    }
   },
   "cell_type": "code",
   "source": "textos = [\"Juan Rana formó parte de la compañía de Pedro de la Rosa que representó en el Corpus de Sevilla —Cotarelo, al tomar esta información de Sánchez Arjona, afirma que estuvo en Sevilla y Málaga, pero nada dice éste sobre una estancia en Málaga—. 1712 Francisca Borja representó quintas damas en la compañía de José Garcés en Madrid. 1717 Francisca Borja representó terceras damas en la compañía de Juan Álvarez en Madrid. Consta un concierto, fechado en Madrid el 13 de marzo, de Agustín de Cáceres, como padre de María Leonor de Cáceres, y de Jerónima de Zayas, soltera, y José de Porras por el que se comprometían a ir a Almonacid de Zurita a hacer la fiesta del Corpus, para lo cual dichas actrices irían quince días antes para ensayar, y José de Porras ocho días antes, corriendo los viajes a cargo del mayordomo, y recibiendo por ello María Leonor de Cáceres 700 rs., José de Porras 400 rs. y Jerónima de Zayas 300 rs., y cabalgaduras para todos ellos y para Agustina de Cáceres, madre de María Leonor y cabalgaduras para ella y para su madre, Agustina de Cáceres.\"]",
   "id": "5197ef86b761cb9e",
   "outputs": [],
   "execution_count": 18
  },
  {
   "metadata": {
    "ExecuteTime": {
     "end_time": "2025-05-22T17:40:34.272294Z",
     "start_time": "2025-05-22T17:40:33.215112Z"
    }
   },
   "cell_type": "code",
   "source": [
    "nlp = spacy.load(\"es_core_news_md\")\n",
    "\n",
    "verbos_objetivo = [\"formar parte de\", \"representar\", \"recibir\", \"comprometer a\"]\n",
    "\n",
    "relaciones = []\n",
    "\n",
    "for texto in textos:\n",
    "    doc = nlp(texto)\n",
    "    for ent in doc.ents:\n",
    "        if ent.label_ in (\"PER\", \"ORG\"):\n",
    "            sujeto = ent.text.strip()\n",
    "            \n",
    "            # Lematizar los verbos\n",
    "            oracion = ent.sent\n",
    "            tokens = [token.lemma_ if token.pos_ == \"VERB\" else token.text for token in oracion]\n",
    "            texto_lemas = \" \".join(tokens)\n",
    "    \n",
    "    \n",
    "            for verbo_esperado in verbos_objetivo:\n",
    "                sujeto_regex = re.escape(sujeto)\n",
    "                verbo_regex = re.escape(verbo_esperado)\n",
    "    \n",
    "                # Patrón personalizado por sujeto y verbo\n",
    "                patron = fr\"\\b{sujeto_regex}\\b(?:\\W+\\w+){{0,5}}\\W+(?P<verbo>{verbo_regex})\\b\\s+(?P<objeto>[^.]+)\"\n",
    "\n",
    "    \n",
    "                coincidencia = re.search(patron, texto_lemas)\n",
    "                if coincidencia:\n",
    "                    verbo = coincidencia.group(\"verbo\").strip()\n",
    "                    objeto_original = coincidencia.group(\"objeto\").strip()\n",
    "                    \n",
    "                    # Reducción del objeto usando chunks nominales\n",
    "                    objeto_final = objeto_original\n",
    "                    for chunk in oracion.noun_chunks:\n",
    "                        if chunk.root.lemma_ in objeto_original and chunk.root.pos_ != \"PRON\":\n",
    "                            objeto_final = chunk.text\n",
    "                            break\n",
    "    \n",
    "                    relaciones.append({\n",
    "                        \"sujeto\": sujeto,\n",
    "                        \"verbo\": verbo,\n",
    "                        \"objeto\": objeto_final,\n",
    "                        \"contexto\": oracion.text\n",
    "                    })\n",
    "    \n",
    "                    break\n",
    "\n",
    "# Mostrar resultados\n",
    "print(\"\\nRelaciones (Sujeto → Verbo → Objeto):\\n\")\n",
    "for r in relaciones:\n",
    "    print(f\"- {r['sujeto']} → {r['verbo']} → {r['objeto']}\")\n",
    "    #print(f\"- {r['sujeto']} → {r['verbo']} → {r['objeto']} ({r['contexto']})\")\n"
   ],
   "id": "eebfaf08334b4966",
   "outputs": [
    {
     "name": "stdout",
     "output_type": "stream",
     "text": [
      "\n",
      "Relaciones (Sujeto → Verbo → Objeto):\n",
      "\n"
     ]
    }
   ],
   "execution_count": 22
  },
  {
   "metadata": {
    "ExecuteTime": {
     "end_time": "2025-05-22T15:55:22.211168Z",
     "start_time": "2025-05-22T15:55:22.207886Z"
    }
   },
   "cell_type": "code",
   "source": "",
   "id": "ec49e764915b79bd",
   "outputs": [],
   "execution_count": null
  }
 ],
 "metadata": {
  "kernelspec": {
   "display_name": "Python 3",
   "language": "python",
   "name": "python3"
  },
  "language_info": {
   "codemirror_mode": {
    "name": "ipython",
    "version": 2
   },
   "file_extension": ".py",
   "mimetype": "text/x-python",
   "name": "python",
   "nbconvert_exporter": "python",
   "pygments_lexer": "ipython2",
   "version": "2.7.6"
  }
 },
 "nbformat": 4,
 "nbformat_minor": 5
}
